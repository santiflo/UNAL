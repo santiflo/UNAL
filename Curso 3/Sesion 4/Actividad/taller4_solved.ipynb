{
  "cells": [
    {
      "cell_type": "markdown",
      "id": "9b48007b",
      "metadata": {
        "id": "9b48007b"
      },
      "source": [
        "<img src = \"https://drive.google.com/uc?export=view&id=1cnVkf5kAyaf7jWnmCmUfZwUlvh3GOn4S\" alt = \"Encabezado MLDS unidad 0\" width = \"100%\">  </img>"
      ]
    },
    {
      "cell_type": "markdown",
      "id": "ae1ad803",
      "metadata": {
        "id": "ae1ad803"
      },
      "source": [
        "# Taller 4: Dask\n",
        "---\n",
        "\n",
        "En este taller se evaluarán las habilidades adquiridas con la librería `dask` en _Python_. En este caso veremos cómo entrenar un modelo de clasificación binaria sobre el conjunto de datos de dígitos [UCI ML hand-written digits datasets](https://archive.ics.uci.edu/ml/datasets/Optical+Recognition+of+Handwritten+Digits).\n",
        "\n",
        "Este conjunto de datos contiene imágenes de tamaño `(8, 8)` en escala de grises y una etiqueta correspodiente al dígito (entre el 0 y el 9) al que corresponde la imagen.\n",
        "\n",
        "> **Nota:** Esta tarea va a ser calificada en la plataforma **[UNCode](https://juezun.github.io/)**. Para esto, en cada ejercicio se indicará si es calificable o no, también los lugares donde debe escribir su código sin modificar lo demás con un aproximado de cantidad de líneas a escribir. No se preocupe si su código toma más líneas, esto es simplemente un aproximado destinado a que pueda replantear su estrategia si el código está tomando más de las esperadas. No es un requisito estricto y soluciones más largas también son válidas. Al finalizar, para realizar el envío (*submission*), descargue el notebook como un archivo **`.ipynb`** y haga su entrega a través de **Edunext**.\n",
        "\n",
        "Comenzaremos instalando las librerías necesarias:"
      ]
    },
    {
      "cell_type": "code",
      "execution_count": null,
      "id": "78505b4e",
      "metadata": {
        "id": "78505b4e"
      },
      "outputs": [],
      "source": [
        "#TEST_CELL\n",
        "!pip install dask[complete] dask-ml"
      ]
    },
    {
      "cell_type": "markdown",
      "id": "e37a3ab5",
      "metadata": {
        "id": "e37a3ab5"
      },
      "source": [
        "Ahora, importamos las librerías necesarias:"
      ]
    },
    {
      "cell_type": "code",
      "execution_count": null,
      "id": "0a54da7c",
      "metadata": {
        "id": "0a54da7c"
      },
      "outputs": [],
      "source": [
        "#TEST_CELL\n",
        "import matplotlib.pyplot as plt\n",
        "import dask.array as da\n",
        "import dask.dataframe as dd\n",
        "from IPython.display import display"
      ]
    },
    {
      "cell_type": "markdown",
      "id": "f9517f9a",
      "metadata": {
        "id": "f9517f9a"
      },
      "source": [
        "## **Carga de Datos**\n",
        "---\n",
        "\n",
        "En este caso, descargaremos el conjunto de datos el cual viene en formato `zip` para obtener un archivo en formato `parquet` particionado:"
      ]
    },
    {
      "cell_type": "code",
      "execution_count": null,
      "id": "1609afca",
      "metadata": {
        "id": "1609afca"
      },
      "outputs": [],
      "source": [
        "#TEST_CELL\n",
        "!wget 'https://raw.githubusercontent.com/mindlab-unal/mlds3-datasets/main/u4/digits.zip' -O 'digits.zip'\n",
        "![[ -d 'digits.parquet' ]] && rm -rf 'digits.parquet'\n",
        "!unzip 'digits.zip'"
      ]
    },
    {
      "cell_type": "markdown",
      "id": "6e6eb6a1",
      "metadata": {
        "id": "6e6eb6a1"
      },
      "source": [
        "Podemos corroborar que el archivo se encuentra particionado en varias partes:"
      ]
    },
    {
      "cell_type": "code",
      "execution_count": null,
      "id": "9571bc60",
      "metadata": {
        "id": "9571bc60"
      },
      "outputs": [],
      "source": [
        "#TEST_CELL\n",
        "!ls digits.parquet"
      ]
    },
    {
      "cell_type": "markdown",
      "id": "d43c8bbd",
      "metadata": {
        "id": "d43c8bbd"
      },
      "source": [
        "Cargamos el conjunto de datos:"
      ]
    },
    {
      "cell_type": "code",
      "execution_count": null,
      "id": "61cc7fa4",
      "metadata": {
        "lines_to_next_cell": 1,
        "id": "61cc7fa4"
      },
      "outputs": [],
      "source": [
        "#TEST_CELL\n",
        "data = dd.read_parquet(\"digits.parquet\")\n",
        "print(data.dtypes)"
      ]
    },
    {
      "cell_type": "markdown",
      "id": "2c3a8ba6",
      "metadata": {
        "id": "2c3a8ba6"
      },
      "source": [
        "Como puede ver, el conjunto de datos contiene distintas columnas, entre ellas:\n",
        "\n",
        "- `pixel_i_j`: corresponde al pixel (nivel de intensidad) de la imagen en la fila `i` y columna `j`.\n",
        "- `label`: etiqueta del conjunto de datos con el número al que corresponde la imagen."
      ]
    },
    {
      "cell_type": "markdown",
      "id": "b4757cc6",
      "metadata": {
        "id": "b4757cc6"
      },
      "source": [
        "## **1. Selección del Conjunto de Datos**\n",
        "---\n",
        "\n",
        "En esta tarea usted deberá extraer un subconjunto de datos que contenga únicamente algunas categorías dentro de las etiquetas `labels`, para ello, deberá implementar la función `filter_data`, la cual debe retornar un `DataFrame` de `dask` con los resultados filtrados.\n",
        "\n",
        "**Parámetros**\n",
        "\n",
        "- `df`: se trata de un `DataFrame` de `dask` con el conjunto de datos.\n",
        "- `labels`: lista de números con los digitos que se seleccionarán, por ejemplo, `[1, 2, 4]`.\n",
        "\n",
        "**Retorna**\n",
        "\n",
        "- `valid_data`: se trata de un `DataFrame` de `dask` con los datos filtrados:"
      ]
    },
    {
      "cell_type": "code",
      "execution_count": null,
      "id": "dc24c1a8",
      "metadata": {
        "lines_to_next_cell": 1,
        "id": "dc24c1a8"
      },
      "outputs": [],
      "source": [
        "def filter_data(df, labels):\n",
        "    ### ESCRIBA SU CÓDIGO AQUÍ ###\n",
        "    valid_data = None\n",
        "    ### FIN DEL CÓDIGO ###\n",
        "    return valid_data"
      ]
    },
    {
      "cell_type": "markdown",
      "id": "d64a614f",
      "metadata": {
        "id": "d64a614f"
      },
      "source": [
        "Use la siguiente celda para probar su código al extraer los dígitos `[0, 1]`:"
      ]
    },
    {
      "cell_type": "code",
      "execution_count": null,
      "id": "9e5c2e63",
      "metadata": {
        "id": "9e5c2e63"
      },
      "outputs": [],
      "source": [
        "#TEST_CELL\n",
        "try:\n",
        "    filtered_data = filter_data(data, [0, 1])\n",
        "    print(filtered_data.shape[0].compute())\n",
        "except Exception as e:\n",
        "    print(e)"
      ]
    },
    {
      "cell_type": "markdown",
      "id": "4212d4ad",
      "metadata": {
        "id": "4212d4ad"
      },
      "source": [
        "**Salida esperada**:\n",
        "\n",
        "`360`"
      ]
    },
    {
      "cell_type": "markdown",
      "id": "e2d84863",
      "metadata": {
        "id": "e2d84863"
      },
      "source": [
        "Use la siguiente celda para probar su código al extraer los dígitos `[1, 3, 6]`:"
      ]
    },
    {
      "cell_type": "code",
      "execution_count": null,
      "id": "d41a3e59",
      "metadata": {
        "lines_to_next_cell": 1,
        "id": "d41a3e59"
      },
      "outputs": [],
      "source": [
        "#TEST_CELL\n",
        "try:\n",
        "    filtered_data = filter_data(data, [1, 3, 6])\n",
        "    print(filtered_data.shape[0].compute())\n",
        "except Exception as e:\n",
        "    print(e)"
      ]
    },
    {
      "cell_type": "markdown",
      "id": "98bbd989",
      "metadata": {
        "id": "98bbd989"
      },
      "source": [
        "**Salida esperada**:\n",
        "\n",
        "`546`"
      ]
    },
    {
      "cell_type": "markdown",
      "id": "33e527ee",
      "metadata": {
        "id": "33e527ee"
      },
      "source": [
        "<details>\n",
        "<summary>\n",
        "    <font size=\"3\" color=\"darkgreen\"><b>Pista 1</b></font>\n",
        "</summary>\n",
        "\n",
        "Recuerde que puede usar el método `query` para seleccionar los registros que cumplen una condición.\n",
        "</details>"
      ]
    },
    {
      "cell_type": "markdown",
      "id": "e5604c13",
      "metadata": {
        "id": "e5604c13"
      },
      "source": [
        "<details>\n",
        "<summary>\n",
        "    <font size=\"3\" color=\"darkgreen\"><b>Pista 2</b></font>\n",
        "</summary>\n",
        "\n",
        "Si desea usar el parámetro `labels` dentro de el método `query`, puede usar los f-strings de _Python_ o referenciarlo dentro del string del query de la siguiente forma `@labels`.\n",
        "</details>"
      ]
    },
    {
      "cell_type": "markdown",
      "id": "46dda8b8",
      "metadata": {
        "id": "46dda8b8"
      },
      "source": [
        "<details>\n",
        "<summary>\n",
        "    <font size=\"3\" color=\"darkgreen\"><b>Pista 3</b></font>\n",
        "</summary>\n",
        "\n",
        "Recuerde que el resultado debe ser un `DataFrame` de `dask`, es decir, debe evitar usar el método `compute` para no retornar los resultados dentro de `pandas`.\n",
        "</details>"
      ]
    },
    {
      "cell_type": "markdown",
      "id": "083306b0",
      "metadata": {
        "id": "083306b0"
      },
      "source": [
        "## **2. Características y Etiqueta**\n",
        "---\n",
        "\n",
        "En este punto deberá retornar dos arreglos de `dask` correspondientes a la matriz de observaciones $\\mathbf{X}$ y las etiquetas $y$.\n",
        "\n",
        "> **Nota**: se recomienda usar el método `to_dask_array(lenghts=True)` de los `DataFrames` de `dask` para convertirlos a arreglos (es necesario que use `lenghts=True` para que los tamaños se evalúen).\n",
        "\n",
        "**Parámetros**\n",
        "\n",
        "- `df`: se trata de un `DataFrame` de `dask` con el conjunto de datos.\n",
        "\n",
        "**Retorna**\n",
        "\n",
        "- `X`: matriz de observaciones.\n",
        "- `y`: etiquetas."
      ]
    },
    {
      "cell_type": "code",
      "execution_count": null,
      "id": "dc0b4405",
      "metadata": {
        "lines_to_next_cell": 1,
        "id": "dc0b4405"
      },
      "outputs": [],
      "source": [
        "def get_x_y(df):\n",
        "    ### ESCRIBA SU CÓDIGO AQUÍ ###\n",
        "    X = None\n",
        "    y = None\n",
        "    ### FIN DEL CÓDIGO ###\n",
        "    return X, y"
      ]
    },
    {
      "cell_type": "markdown",
      "id": "f8f6482b",
      "metadata": {
        "id": "f8f6482b"
      },
      "source": [
        "Use la siguiente celda para probar su código:"
      ]
    },
    {
      "cell_type": "code",
      "execution_count": null,
      "id": "c3111ca8",
      "metadata": {
        "id": "c3111ca8"
      },
      "outputs": [],
      "source": [
        "#TEST_CELL\n",
        "try:\n",
        "    filtered_data = filter_data(data, [0, 1])\n",
        "    X, y = get_x_y(filtered_data)\n",
        "    display(X[:2].compute())\n",
        "    display(y[:2].compute())\n",
        "except Exception as e:\n",
        "    print(e)"
      ]
    },
    {
      "cell_type": "markdown",
      "id": "a0d4d5e6",
      "metadata": {
        "id": "a0d4d5e6"
      },
      "source": [
        "**Salida esperada**:\n",
        "\n",
        "```python\n",
        "array([[ 0.,  0.,  5., 13.,  9.,  1.,  0.,  0.,  0.,  0., 13., 15., 10.,\n",
        "        15.,  5.,  0.,  0.,  3., 15.,  2.,  0., 11.,  8.,  0.,  0.,  4.,\n",
        "        12.,  0.,  0.,  8.,  8.,  0.,  0.,  5.,  8.,  0.,  0.,  9.,  8.,\n",
        "         0.,  0.,  4., 11.,  0.,  1., 12.,  7.,  0.,  0.,  2., 14.,  5.,\n",
        "        10., 12.,  0.,  0.,  0.,  0.,  6., 13., 10.,  0.,  0.,  0.],\n",
        "       [ 0.,  0.,  0., 12., 13.,  5.,  0.,  0.,  0.,  0.,  0., 11., 16.,\n",
        "         9.,  0.,  0.,  0.,  0.,  3., 15., 16.,  6.,  0.,  0.,  0.,  7.,\n",
        "        15., 16., 16.,  2.,  0.,  0.,  0.,  0.,  1., 16., 16.,  3.,  0.,\n",
        "         0.,  0.,  0.,  1., 16., 16.,  6.,  0.,  0.,  0.,  0.,  1., 16.,\n",
        "        16.,  6.,  0.,  0.,  0.,  0.,  0., 11., 16., 10.,  0.,  0.]])\n",
        "array([0, 1])\n",
        "```"
      ]
    },
    {
      "cell_type": "markdown",
      "id": "56ca16ac",
      "metadata": {
        "id": "56ca16ac"
      },
      "source": [
        "Use la siguiente celda para visualizar las primeras 9 imágenes del conjunto de datos:"
      ]
    },
    {
      "cell_type": "code",
      "execution_count": null,
      "id": "afdc1292",
      "metadata": {
        "id": "afdc1292"
      },
      "outputs": [],
      "source": [
        "#TEST_CELL\n",
        "try:\n",
        "    filtered_data = filter_data(data, [1, 5, 7])\n",
        "    X, y = get_x_y(filtered_data)\n",
        "    imgs = X[:9].compute()\n",
        "    labs = y[:9].compute()\n",
        "    cont = 0\n",
        "    fig, axes = plt.subplots(3, 3, figsize=(7, 7))\n",
        "    for i in range(3):\n",
        "        for j in range(3):\n",
        "            ax = axes[i, j]\n",
        "            ax.imshow(imgs[cont].reshape(8, 8), cmap=\"gray\")\n",
        "            ax.axis(\"off\")\n",
        "            ax.set_title(f\"$y={labs[cont]}$\")\n",
        "            cont += 1\n",
        "    display(fig)\n",
        "except Exception as e:\n",
        "    print(e)"
      ]
    },
    {
      "cell_type": "markdown",
      "id": "8a28d92c",
      "metadata": {
        "id": "8a28d92c"
      },
      "source": [
        "**Salida esperada**:\n",
        "\n",
        "En este caso, debe obtener una figura con los dígitos del conjunto de datos, el resultado puede variar un poco debido a que los datos están distribuidos, no obstante, puede validar que el resultado contenga únicamente los dígitos `[1, 5, 7]`.\n",
        "\n",
        "<img src=\"https://drive.google.com/uc?export=view&id=13giOSILbbS4wdiLu1LxEsCKW8A36Lmgq\" width=\"50%\" alt=\"numeros ejemplo\">"
      ]
    },
    {
      "cell_type": "markdown",
      "id": "64d8fbdc",
      "metadata": {
        "id": "64d8fbdc"
      },
      "source": [
        "<details>\n",
        "<summary>\n",
        "    <font size=\"3\" color=\"darkgreen\"><b>Pista 1</b></font>\n",
        "</summary>\n",
        "\n",
        "Recuerde que con el método `drop` puede excluir columnas del conjunto de datos, esto le puede ser de utilidad para obtener la etiqueta.\n",
        "</details>"
      ]
    },
    {
      "cell_type": "markdown",
      "id": "27e143a0",
      "metadata": {
        "id": "27e143a0"
      },
      "source": [
        "<details>\n",
        "<summary>\n",
        "    <font size=\"3\" color=\"darkgreen\"><b>Pista 2</b></font>\n",
        "</summary>\n",
        "\n",
        "Recuerde usar el método `to_dask_array` para obtener arreglos de `dask` a partir de el `DataFrame`.\n",
        "</details>"
      ]
    },
    {
      "cell_type": "markdown",
      "id": "90f34952",
      "metadata": {
        "id": "90f34952"
      },
      "source": [
        "## **3. Validación Cruzada**\n",
        "---\n",
        "\n",
        "En este punto deberá extraer las particiones de entrenamiento y prueba a partir del conjunto de datos como arreglos de `dask`. Para esto, deberá implementar la función `get_splits`.\n",
        "\n",
        "**Parámetros**\n",
        "\n",
        "- `X`: arreglo de `dask` con las características.\n",
        "- `y`: arreglo de `dask` con las etiquetas.\n",
        "\n",
        "**Retorna**\n",
        "\n",
        "- `X_train`: arreglo de `dask` con las características de entrenamento.\n",
        "- `X_test`: arreglo de `dask` con las características de prueba.\n",
        "- `y_train`: arreglo de `dask` con las etiquetas de entrenamiento.\n",
        "- `y_test`: arreglo de `dask` con las etiquetas de prueba."
      ]
    },
    {
      "cell_type": "code",
      "execution_count": null,
      "id": "7d206b6d",
      "metadata": {
        "lines_to_next_cell": 1,
        "id": "7d206b6d"
      },
      "outputs": [],
      "source": [
        "from dask_ml.model_selection import train_test_split\n",
        "\n",
        "def get_splits(X, y, test_size, random_state):\n",
        "    ### ESCRIBA SU CÓDIGO AQUÍ ###\n",
        "\n",
        "    return"
      ]
    },
    {
      "cell_type": "markdown",
      "id": "0f5df4b6",
      "metadata": {
        "id": "0f5df4b6"
      },
      "source": [
        "Use la siguiente celda para probar su código:"
      ]
    },
    {
      "cell_type": "code",
      "execution_count": null,
      "id": "79162471",
      "metadata": {
        "id": "79162471"
      },
      "outputs": [],
      "source": [
        "#TEST_CELL\n",
        "try:\n",
        "    filtered_data = filter_data(data, [2, 3])\n",
        "    X, y = get_x_y(filtered_data)\n",
        "    X_train, X_test, y_train, y_test = get_splits(X, y, 0.3, 42)\n",
        "    print(X_train.shape[0])\n",
        "    print(X_test.shape[0])\n",
        "except Exception as e:\n",
        "    print(e)"
      ]
    },
    {
      "cell_type": "markdown",
      "id": "c75dab33",
      "metadata": {
        "id": "c75dab33"
      },
      "source": [
        "**Salida esperada**:\n",
        "\n",
        "```python\n",
        "246\n",
        "114\n",
        "```"
      ]
    },
    {
      "cell_type": "markdown",
      "id": "88d5879c",
      "metadata": {
        "id": "88d5879c"
      },
      "source": [
        "Use la siguiente celda para probar su código:"
      ]
    },
    {
      "cell_type": "code",
      "execution_count": null,
      "id": "81108523",
      "metadata": {
        "id": "81108523"
      },
      "outputs": [],
      "source": [
        "#TEST_CELL\n",
        "try:\n",
        "    filtered_data = filter_data(data, [2, 3])\n",
        "    X, y = get_x_y(filtered_data)\n",
        "    X_train, X_test, y_train, y_test = get_splits(X, y, 0.4, 42)\n",
        "    print(X_train.shape[0])\n",
        "    print(X_test.shape[0])\n",
        "except Exception as e:\n",
        "    print(e)"
      ]
    },
    {
      "cell_type": "markdown",
      "id": "7896a3bc",
      "metadata": {
        "id": "7896a3bc"
      },
      "source": [
        "**Salida esperada**:\n",
        "\n",
        "```python\n",
        "211\n",
        "149\n",
        "```"
      ]
    },
    {
      "cell_type": "markdown",
      "id": "7e3622f7",
      "metadata": {
        "id": "7e3622f7"
      },
      "source": [
        "<details>\n",
        "<summary>\n",
        "    <font size=\"3\" color=\"darkgreen\"><b>Pista 1</b></font>\n",
        "</summary>\n",
        "\n",
        "Recuerde usar la función `train_test_split` que funciona de la misma forma como funciona su equivalente en `sklearn`.\n",
        "</details>"
      ]
    },
    {
      "cell_type": "markdown",
      "id": "85666f58",
      "metadata": {
        "id": "85666f58"
      },
      "source": [
        "<details>\n",
        "<summary>\n",
        "    <font size=\"3\" color=\"darkgreen\"><b>Pista 2</b></font>\n",
        "</summary>\n",
        "\n",
        "No olvide el parámetro `random_state` que corresponde a la semilla de números aleatorios, esto es especialmente importante para que el resultado siempre sea el mismo.\n",
        "</details>"
      ]
    },
    {
      "cell_type": "markdown",
      "id": "cd3b1d30",
      "metadata": {
        "id": "cd3b1d30"
      },
      "source": [
        "## **4. Preprocesamiento**\n",
        "---\n",
        "\n",
        "En este punto deberá implementar la función `preprocess_data` la cual debe realizar las siguientes operaciones para retornar las matrices de características preprocesadas:\n",
        "\n",
        "- Aplicar un preprocesamineto de tipo `MinMaxScaler` sobre los pixeles de todas las imágenes tanto de entrenamiento y prueba.\n",
        "- Validar las columnas de la matriz de entrenamiento y prueba donde todos los valores son iguales a cero y eliminarlas (Nota: esto lo hacemos solamente por motivos pedagógicos).\n",
        "\n",
        "**Parámetros**\n",
        "\n",
        "- `X_train`: características del conjunto de entrenamiento.\n",
        "- `X_test`: características del conjunto de prueba.\n",
        "\n",
        "**Retorna**\n",
        "\n",
        "- `X_train_t`: características de entrenamiento luego del preprocesamiento.\n",
        "- `X_test_t`: características de prueba luego del preprocesamiento."
      ]
    },
    {
      "cell_type": "code",
      "execution_count": null,
      "id": "81bc1271",
      "metadata": {
        "lines_to_next_cell": 1,
        "id": "81bc1271"
      },
      "outputs": [],
      "source": [
        "from dask_ml.preprocessing import MinMaxScaler\n",
        "\n",
        "def preprocess_data(X_train, X_test):\n",
        "    ### ESCRIBA SU CÓDIGO AQUÍ ###\n",
        "    X_train_t = None\n",
        "    X_test_t = None\n",
        "    ### FIN DEL CÓDIGO ###\n",
        "    return X_train_t, X_test_t"
      ]
    },
    {
      "cell_type": "markdown",
      "id": "e265ada9",
      "metadata": {
        "id": "e265ada9"
      },
      "source": [
        "Use la siguiente celda para probar su código:"
      ]
    },
    {
      "cell_type": "code",
      "execution_count": null,
      "id": "fefb77c1",
      "metadata": {
        "id": "fefb77c1"
      },
      "outputs": [],
      "source": [
        "#TEST_CELL\n",
        "try:\n",
        "    filtered_data = filter_data(data, [4, 5])\n",
        "    X, y = get_x_y(filtered_data)\n",
        "    X_train, X_test, y_train, y_test = get_splits(X, y, 0.4, 42)\n",
        "    X_train_t, X_test_t = preprocess_data(X_train, X_test)\n",
        "    print(X_train_t.shape[1])\n",
        "    print(X_test_t.shape[1])\n",
        "except Exception as e:\n",
        "    print(e)"
      ]
    },
    {
      "cell_type": "markdown",
      "id": "139b6334",
      "metadata": {
        "id": "139b6334"
      },
      "source": [
        "**Salida esperada**:\n",
        "\n",
        "```python\n",
        "56\n",
        "56\n",
        "```"
      ]
    },
    {
      "cell_type": "markdown",
      "id": "5cd9d807",
      "metadata": {
        "id": "5cd9d807"
      },
      "source": [
        "Use la siguiente celda para probar su código:"
      ]
    },
    {
      "cell_type": "code",
      "execution_count": null,
      "id": "5ce58566",
      "metadata": {
        "id": "5ce58566"
      },
      "outputs": [],
      "source": [
        "#TEST_CELL\n",
        "try:\n",
        "    filtered_data = filter_data(data, [0, 1])\n",
        "    X, y = get_x_y(filtered_data)\n",
        "    X_train, X_test, y_train, y_test = get_splits(X, y, 0.4, 42)\n",
        "    X_train_t, X_test_t = preprocess_data(X_train, X_test)\n",
        "    print(X_train_t.min().compute())\n",
        "    print(X_train_t.max().compute())\n",
        "except Exception as e:\n",
        "    print(e)"
      ]
    },
    {
      "cell_type": "markdown",
      "id": "a3be1a6c",
      "metadata": {
        "id": "a3be1a6c"
      },
      "source": [
        "**Salida esperada**:\n",
        "\n",
        "```python\n",
        "0.0\n",
        "1.0\n",
        "```"
      ]
    },
    {
      "cell_type": "markdown",
      "id": "e8709981",
      "metadata": {
        "id": "e8709981"
      },
      "source": [
        "Use la siguiente celda para probar su código:"
      ]
    },
    {
      "cell_type": "code",
      "execution_count": null,
      "id": "d57bb959",
      "metadata": {
        "id": "d57bb959"
      },
      "outputs": [],
      "source": [
        "#TEST_CELL\n",
        "try:\n",
        "    filtered_data = filter_data(data, [0, 1])\n",
        "    X, y = get_x_y(filtered_data)\n",
        "    X_train, X_test, y_train, y_test = get_splits(X, y, 0.4, 42)\n",
        "    X_train_t, X_test_t = preprocess_data(X_train, X_test)\n",
        "    print(X_test_t.min().compute())\n",
        "    print(X_test_t.max().compute())\n",
        "except Exception as e:\n",
        "    print(e)"
      ]
    },
    {
      "cell_type": "markdown",
      "id": "037ed357",
      "metadata": {
        "id": "037ed357"
      },
      "source": [
        "**Salida esperada**:\n",
        "\n",
        "```python\n",
        "-0.15384615384615385\n",
        "1.4000000000000001\n",
        "```"
      ]
    },
    {
      "cell_type": "markdown",
      "id": "02208fe5",
      "metadata": {
        "id": "02208fe5"
      },
      "source": [
        "<details>\n",
        "<summary>\n",
        "    <font size=\"3\" color=\"darkgreen\"><b>Pista 1</b></font>\n",
        "</summary>\n",
        "\n",
        "Recuerde que la clase `MinMaxScaler` de `dask_ml` funciona igual que en `sklearn`, es decir, debe usar métodos como `fit` y `transform`.\n",
        "</details>"
      ]
    },
    {
      "cell_type": "markdown",
      "id": "4d29717c",
      "metadata": {
        "id": "4d29717c"
      },
      "source": [
        "<details>\n",
        "<summary>\n",
        "    <font size=\"3\" color=\"darkgreen\"><b>Pista 2</b></font>\n",
        "</summary>\n",
        "\n",
        "Puede obtener un arreglo con las columnas que son todas iguales a cero de la siguiente forma:\n",
        "\n",
        "```python\n",
        "X.sum(axis=0) != 0\n",
        "```\n",
        "</details>"
      ]
    },
    {
      "cell_type": "markdown",
      "id": "258912a9",
      "metadata": {
        "id": "258912a9"
      },
      "source": [
        "## **5. Entrenamiento**\n",
        "---\n",
        "\n",
        "En este punto deberá entrenar un modelo de regresión logística a partir de los datos de entrenamiento, para ello debe implementar la función `get_model`.\n",
        "\n",
        "**Parámetros**\n",
        "\n",
        "- `X_train`: matriz de características de los datos de entrenamiento.\n",
        "- `y_train`: vector de etiquetas de los datos de entrenamiento.\n",
        "\n",
        "**Retorna**\n",
        "\n",
        "- `model`: modelo de regresión logística de `dask_ml` entrenado."
      ]
    },
    {
      "cell_type": "code",
      "execution_count": null,
      "id": "cdbffb80",
      "metadata": {
        "id": "cdbffb80"
      },
      "outputs": [],
      "source": [
        "from dask_ml.linear_model import LogisticRegression\n",
        "\n",
        "def get_model(X_train, y_train):\n",
        "    ### ESCRIBA SU CÓDIGO AQUÍ ###\n",
        "    model = None\n",
        "    ### FIN DEL CÓDIGO ###\n",
        "    return model"
      ]
    },
    {
      "cell_type": "markdown",
      "id": "bba77c90",
      "metadata": {
        "id": "bba77c90"
      },
      "source": [
        "Use la siguiente celda para probar su código:"
      ]
    },
    {
      "cell_type": "code",
      "execution_count": null,
      "id": "015d9a9a",
      "metadata": {
        "id": "015d9a9a"
      },
      "outputs": [],
      "source": [
        "#TEST_CELL\n",
        "try:\n",
        "    filtered_data = filter_data(data, [0, 1])\n",
        "    X, y = get_x_y(filtered_data)\n",
        "    X_train, X_test, y_train, y_test = get_splits(X, y, 0.4, 42)\n",
        "    X_train_t, X_test_t = preprocess_data(X_train, X_test)\n",
        "    model = get_model(X_train_t, y_train)\n",
        "    display(model.coef_)\n",
        "    display(model.intercept_)\n",
        "except Exception as e:\n",
        "    print(e)"
      ]
    },
    {
      "cell_type": "markdown",
      "id": "f6659c1e",
      "metadata": {
        "id": "f6659c1e"
      },
      "source": [
        "**Salida esperada**\n",
        "\n",
        "```python\n",
        "array([-0.05338432,  0.22464701, -0.95120178, -0.33244229,  1.27501462,\n",
        "        1.61876774, -0.93399056, -0.72862928, -0.37096215,  0.62003108,\n",
        "       -0.20548536,  0.36816541, -0.20556069, -0.50317026,  1.00967523,\n",
        "        1.30625582, -0.5749552 , -0.6905073 , -0.36081751, -0.3812224 ,\n",
        "        0.78846883,  1.20836649, -0.40910911, -1.46935234, -0.92608839,\n",
        "       -0.80992355,  0.87684418,  1.15444242, -0.61929508, -1.53742897,\n",
        "       -0.81395831, -0.87704255,  0.65162104,  1.02974852, -0.92898472,\n",
        "       -1.36614312, -0.52658602, -0.70198772, -0.36575253, -0.13802359,\n",
        "       -0.80049495,  0.21175508,  0.72612884,  0.12477463, -0.94169424,\n",
        "       -0.71424477,  0.50165742,  0.78374199,  0.52139425])\n",
        "3.553751632049826\n",
        "```"
      ]
    },
    {
      "cell_type": "markdown",
      "id": "227e1a36",
      "metadata": {
        "id": "227e1a36"
      },
      "source": [
        "<details>\n",
        "<summary>\n",
        "    <font size=\"3\" color=\"darkgreen\"><b>Pista 1</b></font>\n",
        "</summary>\n",
        "\n",
        "Recuerde que `dask_ml` funciona de una forma muy equivalente a `sklearn`, con la diferencia de que esta librería opera directamente sobre arreglos de `dask`.\n",
        "</details>"
      ]
    },
    {
      "cell_type": "markdown",
      "id": "d0cca213",
      "metadata": {
        "id": "d0cca213"
      },
      "source": [
        "## **6. Evaluación**\n",
        "---\n",
        "\n",
        "En este punto deberá implementar la función `evaluate_model` la cual debe usar un modelo previamente entrenado y evaluar el accuracy (desde `dask`) usando los datos de prueba.\n",
        "\n",
        "**Parámetros**\n",
        "\n",
        "- `model`: modelo de `dask_ml` previamente entrenado.\n",
        "- `X_test`: matriz de características del conjunto de prueba.\n",
        "- `y_test`: vector de características del conjunto de evaluación.\n",
        "\n",
        "**Retorna**\n",
        "\n",
        "- `acc`: valor de accuracy obtenido al evaluar el modelo."
      ]
    },
    {
      "cell_type": "code",
      "execution_count": null,
      "id": "aec568c7",
      "metadata": {
        "lines_to_next_cell": 1,
        "id": "aec568c7"
      },
      "outputs": [],
      "source": [
        "from dask_ml.metrics import accuracy_score\n",
        "\n",
        "def evaluate_model(model, X_test, y_test):\n",
        "    ### ESCRIBA SU CÓDIGO AQUÍ ###\n",
        "    acc = None\n",
        "    ### FIN DEL CÓDIGO ###\n",
        "    return acc"
      ]
    },
    {
      "cell_type": "markdown",
      "id": "b7ea0b50",
      "metadata": {
        "id": "b7ea0b50"
      },
      "source": [
        "Use la siguiente celda para probar su código:"
      ]
    },
    {
      "cell_type": "code",
      "execution_count": null,
      "id": "98416bef",
      "metadata": {
        "id": "98416bef"
      },
      "outputs": [],
      "source": [
        "#TEST_CELL\n",
        "try:\n",
        "    filtered_data = filter_data(data, [0, 1])\n",
        "    X, y = get_x_y(filtered_data)\n",
        "    X_train, X_test, y_train, y_test = get_splits(X, y, 0.4, 42)\n",
        "    X_train_t, X_test_t = preprocess_data(X_train, X_test)\n",
        "    model = get_model(X_train_t, y_train)\n",
        "    acc = evaluate_model(model, X_test_t, y_test)\n",
        "    print(acc)\n",
        "except Exception as e:\n",
        "    print(e)"
      ]
    },
    {
      "cell_type": "markdown",
      "id": "9b35c45e",
      "metadata": {
        "id": "9b35c45e"
      },
      "source": [
        "**Salida esperada**:\n",
        "\n",
        "```python\n",
        "1.0\n",
        "```"
      ]
    },
    {
      "cell_type": "markdown",
      "id": "0e0934c1",
      "metadata": {
        "id": "0e0934c1"
      },
      "source": [
        "<details>\n",
        "<summary>\n",
        "    <font size=\"3\" color=\"darkgreen\"><b>Pista 1</b></font>\n",
        "</summary>\n",
        "\n",
        "Puede evaluar el accuracy de un modelo en `dask_ml` usando la función `accuracy_score`.\n",
        "</details>"
      ]
    },
    {
      "cell_type": "markdown",
      "id": "013c4173",
      "metadata": {
        "id": "013c4173"
      },
      "source": [
        "<details>\n",
        "<summary>\n",
        "    <font size=\"3\" color=\"darkgreen\"><b>Pista 2</b></font>\n",
        "</summary>\n",
        "\n",
        "Recuerde que debe calcular las predicciones sobre el conjunto de prueba usando el método `predict` de un modelo de `dask_ml`.\n",
        "</details>"
      ]
    },
    {
      "cell_type": "markdown",
      "id": "9906d9da",
      "metadata": {
        "id": "9906d9da"
      },
      "source": [
        "## **Créditos**\n",
        "---\n",
        "\n",
        "**Profesor**\n",
        "\n",
        "- [Jorge E. Camargo, PhD](https://dis.unal.edu.co/~jecamargom/)\n",
        "\n",
        "**Diseño, desarrollo del notebook y material audiovisual**\n",
        "\n",
        "- [Juan S. Lara MSc](https://www.linkedin.com/in/juan-sebastian-lara-ramirez-43570a214/)\n",
        "\n",
        "**Universidad Nacional de Colombia** - *Facultad de Ingeniería*"
      ]
    }
  ],
  "metadata": {
    "jupytext": {
      "cell_metadata_filter": "-all",
      "main_language": "python",
      "notebook_metadata_filter": "-all"
    },
    "colab": {
      "provenance": [],
      "collapsed_sections": [
        "9906d9da"
      ],
      "toc_visible": true
    }
  },
  "nbformat": 4,
  "nbformat_minor": 5
}