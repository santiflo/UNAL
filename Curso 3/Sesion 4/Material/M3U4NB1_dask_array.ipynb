{
 "cells": [
  {
   "cell_type": "markdown",
   "id": "95c0e71c",
   "metadata": {
    "id": "95c0e71c"
   },
   "source": [
    "<img src=\"https://drive.google.com/uc?export=view&id=1YjAWn06OMcVhlyixBZBDnY17rnn7Otg5\" width=\"100%\">"
   ]
  },
  {
   "cell_type": "markdown",
   "id": "a57ab4cf",
   "metadata": {
    "id": "a57ab4cf"
   },
   "source": [
    "# Arreglos de Dask\n",
    "\n",
    "En este notebook veremos una introducción práctica al procesamiento distribuido con la librería `dask`, primero lo instalaremos:"
   ]
  },
  {
   "cell_type": "code",
   "execution_count": null,
   "id": "7c87217a",
   "metadata": {
    "id": "7c87217a"
   },
   "outputs": [],
   "source": [
    "!pip install dask[complete] h5py"
   ]
  },
  {
   "cell_type": "markdown",
   "id": "ca01fa7d",
   "metadata": {
    "id": "ca01fa7d"
   },
   "source": [
    "## **1. ¿Qué son los Arreglos de Dask?**\n",
    "---\n",
    "\n",
    "Los arreglos de `dask` son una forma de extender los arreglos de `numpy` para su manejo de forma distribuida y en grandes cantidades de datos. Básicamente es una forma de almacenar un arreglo multidimensional de gran tamaño de forma particionada como múltiples arreglos de `numpy` como se muestra a continuación:\n",
    "\n",
    "<img src=\"https://drive.google.com/uc?export=view&id=1kGsy6RJH_XfTyVpvpWLSKe5dW3o2OJ3S\" width=\"70%%\">\n",
    "\n",
    "Estos arreglos gestionan y coordinan múltiples arreglos de `numpy` (o arreglos bastante compatibles con `numpy`) que pueden existir en distintas máquinas o persistidos en disco.\n",
    "\n",
    "Desde `dask` tenemos algunas de las operaciones típicas que normalmente usamos con `numpy` como:\n",
    "\n",
    "* Operaciones aritméticas.\n",
    "* Operaciones de reducción sobre ejes específicos.\n",
    "* Reglas de broadcasting como en `numpy`.\n",
    "* Reordenamiento de ejes.\n",
    "* Slicing para selección de valores.\n",
    "* Algunas funciones típicas de álgebra lineal.\n",
    "\n",
    "No obstante, hay diversas operaciones de `numpy` que no son posibles en arreglos distribuidos dada su naturaleza (por ejemplo, ordenamientos, conversión a listas de _Python_, iteración con ciclos `for`, entre otras).\n",
    "\n",
    "Veamos las características generales de los arreglos de `dask`, primero lo importamos:"
   ]
  },
  {
   "cell_type": "code",
   "execution_count": 1,
   "id": "918a9f04",
   "metadata": {
    "id": "918a9f04"
   },
   "outputs": [],
   "source": [
    "import dask.array as da\n",
    "import numpy as np"
   ]
  },
  {
   "cell_type": "markdown",
   "id": "9e2def22",
   "metadata": {
    "id": "9e2def22"
   },
   "source": [
    "## **2. Creación**\n",
    "---\n",
    "\n",
    "Existen distintas funciones para la creación de arreglos de `dask`, estas las podemos dividir en tres categorías: arreglos determinísticos nativos, arreglos aleatorios nativos y arreglos externos."
   ]
  },
  {
   "cell_type": "markdown",
   "id": "09450d80",
   "metadata": {
    "id": "09450d80"
   },
   "source": [
    "### **2.1. Arreglos Determinísticos Nativos**\n",
    "---\n",
    "\n",
    "Existen dintintas funciones para la creación de arreglos de `dask` que son similares a `numpy`, por ejemplo:\n",
    "\n",
    "* `zeros`: crea un arreglo lleno de ceros de un tamaño dado:"
   ]
  },
  {
   "cell_type": "code",
   "execution_count": 2,
   "id": "ca7eab39",
   "metadata": {
    "id": "ca7eab39"
   },
   "outputs": [
    {
     "data": {
      "text/html": [
       "<table>\n",
       "    <tr>\n",
       "        <td>\n",
       "            <table style=\"border-collapse: collapse;\">\n",
       "                <thead>\n",
       "                    <tr>\n",
       "                        <td> </td>\n",
       "                        <th> Array </th>\n",
       "                        <th> Chunk </th>\n",
       "                    </tr>\n",
       "                </thead>\n",
       "                <tbody>\n",
       "                    \n",
       "                    <tr>\n",
       "                        <th> Bytes </th>\n",
       "                        <td> 400 B </td>\n",
       "                        <td> 400 B </td>\n",
       "                    </tr>\n",
       "                    \n",
       "                    <tr>\n",
       "                        <th> Shape </th>\n",
       "                        <td> (10, 10) </td>\n",
       "                        <td> (10, 10) </td>\n",
       "                    </tr>\n",
       "                    <tr>\n",
       "                        <th> Dask graph </th>\n",
       "                        <td colspan=\"2\"> 1 chunks in 1 graph layer </td>\n",
       "                    </tr>\n",
       "                    <tr>\n",
       "                        <th> Data type </th>\n",
       "                        <td colspan=\"2\"> float32 numpy.ndarray </td>\n",
       "                    </tr>\n",
       "                </tbody>\n",
       "            </table>\n",
       "        </td>\n",
       "        <td>\n",
       "        <svg width=\"170\" height=\"170\" style=\"stroke:rgb(0,0,0);stroke-width:1\" >\n",
       "\n",
       "  <!-- Horizontal lines -->\n",
       "  <line x1=\"0\" y1=\"0\" x2=\"120\" y2=\"0\" style=\"stroke-width:2\" />\n",
       "  <line x1=\"0\" y1=\"120\" x2=\"120\" y2=\"120\" style=\"stroke-width:2\" />\n",
       "\n",
       "  <!-- Vertical lines -->\n",
       "  <line x1=\"0\" y1=\"0\" x2=\"0\" y2=\"120\" style=\"stroke-width:2\" />\n",
       "  <line x1=\"120\" y1=\"0\" x2=\"120\" y2=\"120\" style=\"stroke-width:2\" />\n",
       "\n",
       "  <!-- Colored Rectangle -->\n",
       "  <polygon points=\"0.0,0.0 120.0,0.0 120.0,120.0 0.0,120.0\" style=\"fill:#ECB172A0;stroke-width:0\"/>\n",
       "\n",
       "  <!-- Text -->\n",
       "  <text x=\"60.000000\" y=\"140.000000\" font-size=\"1.0rem\" font-weight=\"100\" text-anchor=\"middle\" >10</text>\n",
       "  <text x=\"140.000000\" y=\"60.000000\" font-size=\"1.0rem\" font-weight=\"100\" text-anchor=\"middle\" transform=\"rotate(0,140.000000,60.000000)\">10</text>\n",
       "</svg>\n",
       "        </td>\n",
       "    </tr>\n",
       "</table>"
      ],
      "text/plain": [
       "dask.array<zeros_like, shape=(10, 10), dtype=float32, chunksize=(10, 10), chunktype=numpy.ndarray>"
      ]
     },
     "execution_count": 2,
     "metadata": {},
     "output_type": "execute_result"
    }
   ],
   "source": [
    "X = da.zeros((10, 10), dtype=np.float32)\n",
    "X"
   ]
  },
  {
   "cell_type": "markdown",
   "id": "d2b6b691",
   "metadata": {
    "id": "d2b6b691"
   },
   "source": [
    "* `ones`: crea un arreglo lleno de unos de un tamaño dado:"
   ]
  },
  {
   "cell_type": "code",
   "execution_count": 3,
   "id": "ee75e4f3",
   "metadata": {
    "id": "ee75e4f3"
   },
   "outputs": [
    {
     "data": {
      "text/html": [
       "<table>\n",
       "    <tr>\n",
       "        <td>\n",
       "            <table style=\"border-collapse: collapse;\">\n",
       "                <thead>\n",
       "                    <tr>\n",
       "                        <td> </td>\n",
       "                        <th> Array </th>\n",
       "                        <th> Chunk </th>\n",
       "                    </tr>\n",
       "                </thead>\n",
       "                <tbody>\n",
       "                    \n",
       "                    <tr>\n",
       "                        <th> Bytes </th>\n",
       "                        <td> 400 B </td>\n",
       "                        <td> 400 B </td>\n",
       "                    </tr>\n",
       "                    \n",
       "                    <tr>\n",
       "                        <th> Shape </th>\n",
       "                        <td> (10, 10) </td>\n",
       "                        <td> (10, 10) </td>\n",
       "                    </tr>\n",
       "                    <tr>\n",
       "                        <th> Dask graph </th>\n",
       "                        <td colspan=\"2\"> 1 chunks in 1 graph layer </td>\n",
       "                    </tr>\n",
       "                    <tr>\n",
       "                        <th> Data type </th>\n",
       "                        <td colspan=\"2\"> float32 numpy.ndarray </td>\n",
       "                    </tr>\n",
       "                </tbody>\n",
       "            </table>\n",
       "        </td>\n",
       "        <td>\n",
       "        <svg width=\"170\" height=\"170\" style=\"stroke:rgb(0,0,0);stroke-width:1\" >\n",
       "\n",
       "  <!-- Horizontal lines -->\n",
       "  <line x1=\"0\" y1=\"0\" x2=\"120\" y2=\"0\" style=\"stroke-width:2\" />\n",
       "  <line x1=\"0\" y1=\"120\" x2=\"120\" y2=\"120\" style=\"stroke-width:2\" />\n",
       "\n",
       "  <!-- Vertical lines -->\n",
       "  <line x1=\"0\" y1=\"0\" x2=\"0\" y2=\"120\" style=\"stroke-width:2\" />\n",
       "  <line x1=\"120\" y1=\"0\" x2=\"120\" y2=\"120\" style=\"stroke-width:2\" />\n",
       "\n",
       "  <!-- Colored Rectangle -->\n",
       "  <polygon points=\"0.0,0.0 120.0,0.0 120.0,120.0 0.0,120.0\" style=\"fill:#ECB172A0;stroke-width:0\"/>\n",
       "\n",
       "  <!-- Text -->\n",
       "  <text x=\"60.000000\" y=\"140.000000\" font-size=\"1.0rem\" font-weight=\"100\" text-anchor=\"middle\" >10</text>\n",
       "  <text x=\"140.000000\" y=\"60.000000\" font-size=\"1.0rem\" font-weight=\"100\" text-anchor=\"middle\" transform=\"rotate(0,140.000000,60.000000)\">10</text>\n",
       "</svg>\n",
       "        </td>\n",
       "    </tr>\n",
       "</table>"
      ],
      "text/plain": [
       "dask.array<ones_like, shape=(10, 10), dtype=float32, chunksize=(10, 10), chunktype=numpy.ndarray>"
      ]
     },
     "execution_count": 3,
     "metadata": {},
     "output_type": "execute_result"
    }
   ],
   "source": [
    "X = da.ones((10, 10), dtype=np.float32)\n",
    "X"
   ]
  },
  {
   "cell_type": "markdown",
   "id": "2a97b40e",
   "metadata": {
    "id": "2a97b40e"
   },
   "source": [
    "* `eye`: crea un arreglo lleno de matrices identidad:"
   ]
  },
  {
   "cell_type": "code",
   "execution_count": 4,
   "id": "a27bd05e",
   "metadata": {
    "id": "a27bd05e"
   },
   "outputs": [
    {
     "data": {
      "text/html": [
       "<table>\n",
       "    <tr>\n",
       "        <td>\n",
       "            <table style=\"border-collapse: collapse;\">\n",
       "                <thead>\n",
       "                    <tr>\n",
       "                        <td> </td>\n",
       "                        <th> Array </th>\n",
       "                        <th> Chunk </th>\n",
       "                    </tr>\n",
       "                </thead>\n",
       "                <tbody>\n",
       "                    \n",
       "                    <tr>\n",
       "                        <th> Bytes </th>\n",
       "                        <td> 100 B </td>\n",
       "                        <td> 100 B </td>\n",
       "                    </tr>\n",
       "                    \n",
       "                    <tr>\n",
       "                        <th> Shape </th>\n",
       "                        <td> (5, 5) </td>\n",
       "                        <td> (5, 5) </td>\n",
       "                    </tr>\n",
       "                    <tr>\n",
       "                        <th> Dask graph </th>\n",
       "                        <td colspan=\"2\"> 1 chunks in 1 graph layer </td>\n",
       "                    </tr>\n",
       "                    <tr>\n",
       "                        <th> Data type </th>\n",
       "                        <td colspan=\"2\"> float32 numpy.ndarray </td>\n",
       "                    </tr>\n",
       "                </tbody>\n",
       "            </table>\n",
       "        </td>\n",
       "        <td>\n",
       "        <svg width=\"170\" height=\"170\" style=\"stroke:rgb(0,0,0);stroke-width:1\" >\n",
       "\n",
       "  <!-- Horizontal lines -->\n",
       "  <line x1=\"0\" y1=\"0\" x2=\"120\" y2=\"0\" style=\"stroke-width:2\" />\n",
       "  <line x1=\"0\" y1=\"120\" x2=\"120\" y2=\"120\" style=\"stroke-width:2\" />\n",
       "\n",
       "  <!-- Vertical lines -->\n",
       "  <line x1=\"0\" y1=\"0\" x2=\"0\" y2=\"120\" style=\"stroke-width:2\" />\n",
       "  <line x1=\"120\" y1=\"0\" x2=\"120\" y2=\"120\" style=\"stroke-width:2\" />\n",
       "\n",
       "  <!-- Colored Rectangle -->\n",
       "  <polygon points=\"0.0,0.0 120.0,0.0 120.0,120.0 0.0,120.0\" style=\"fill:#ECB172A0;stroke-width:0\"/>\n",
       "\n",
       "  <!-- Text -->\n",
       "  <text x=\"60.000000\" y=\"140.000000\" font-size=\"1.0rem\" font-weight=\"100\" text-anchor=\"middle\" >5</text>\n",
       "  <text x=\"140.000000\" y=\"60.000000\" font-size=\"1.0rem\" font-weight=\"100\" text-anchor=\"middle\" transform=\"rotate(0,140.000000,60.000000)\">5</text>\n",
       "</svg>\n",
       "        </td>\n",
       "    </tr>\n",
       "</table>"
      ],
      "text/plain": [
       "dask.array<eye, shape=(5, 5), dtype=float32, chunksize=(5, 5), chunktype=numpy.ndarray>"
      ]
     },
     "execution_count": 4,
     "metadata": {},
     "output_type": "execute_result"
    }
   ],
   "source": [
    "X = da.eye(5, dtype=np.float32)\n",
    "X"
   ]
  },
  {
   "cell_type": "markdown",
   "id": "03a9735a",
   "metadata": {
    "id": "03a9735a"
   },
   "source": [
    "* `arange`: crea un arreglo con los valores en un rango dado:"
   ]
  },
  {
   "cell_type": "code",
   "execution_count": 5,
   "id": "207c52d8",
   "metadata": {
    "id": "207c52d8"
   },
   "outputs": [
    {
     "data": {
      "text/html": [
       "<table>\n",
       "    <tr>\n",
       "        <td>\n",
       "            <table style=\"border-collapse: collapse;\">\n",
       "                <thead>\n",
       "                    <tr>\n",
       "                        <td> </td>\n",
       "                        <th> Array </th>\n",
       "                        <th> Chunk </th>\n",
       "                    </tr>\n",
       "                </thead>\n",
       "                <tbody>\n",
       "                    \n",
       "                    <tr>\n",
       "                        <th> Bytes </th>\n",
       "                        <td> 16 B </td>\n",
       "                        <td> 16 B </td>\n",
       "                    </tr>\n",
       "                    \n",
       "                    <tr>\n",
       "                        <th> Shape </th>\n",
       "                        <td> (4,) </td>\n",
       "                        <td> (4,) </td>\n",
       "                    </tr>\n",
       "                    <tr>\n",
       "                        <th> Dask graph </th>\n",
       "                        <td colspan=\"2\"> 1 chunks in 1 graph layer </td>\n",
       "                    </tr>\n",
       "                    <tr>\n",
       "                        <th> Data type </th>\n",
       "                        <td colspan=\"2\"> int32 numpy.ndarray </td>\n",
       "                    </tr>\n",
       "                </tbody>\n",
       "            </table>\n",
       "        </td>\n",
       "        <td>\n",
       "        <svg width=\"170\" height=\"92\" style=\"stroke:rgb(0,0,0);stroke-width:1\" >\n",
       "\n",
       "  <!-- Horizontal lines -->\n",
       "  <line x1=\"0\" y1=\"0\" x2=\"120\" y2=\"0\" style=\"stroke-width:2\" />\n",
       "  <line x1=\"0\" y1=\"42\" x2=\"120\" y2=\"42\" style=\"stroke-width:2\" />\n",
       "\n",
       "  <!-- Vertical lines -->\n",
       "  <line x1=\"0\" y1=\"0\" x2=\"0\" y2=\"42\" style=\"stroke-width:2\" />\n",
       "  <line x1=\"120\" y1=\"0\" x2=\"120\" y2=\"42\" style=\"stroke-width:2\" />\n",
       "\n",
       "  <!-- Colored Rectangle -->\n",
       "  <polygon points=\"0.0,0.0 120.0,0.0 120.0,42.89879552186203 0.0,42.89879552186203\" style=\"fill:#ECB172A0;stroke-width:0\"/>\n",
       "\n",
       "  <!-- Text -->\n",
       "  <text x=\"60.000000\" y=\"62.898796\" font-size=\"1.0rem\" font-weight=\"100\" text-anchor=\"middle\" >4</text>\n",
       "  <text x=\"140.000000\" y=\"21.449398\" font-size=\"1.0rem\" font-weight=\"100\" text-anchor=\"middle\" transform=\"rotate(0,140.000000,21.449398)\">1</text>\n",
       "</svg>\n",
       "        </td>\n",
       "    </tr>\n",
       "</table>"
      ],
      "text/plain": [
       "dask.array<arange, shape=(4,), dtype=int32, chunksize=(4,), chunktype=numpy.ndarray>"
      ]
     },
     "execution_count": 5,
     "metadata": {},
     "output_type": "execute_result"
    }
   ],
   "source": [
    "x = da.arange(1, 5)\n",
    "x"
   ]
  },
  {
   "cell_type": "markdown",
   "id": "c94ac737",
   "metadata": {
    "id": "c94ac737"
   },
   "source": [
    "* `linspace`: crea un número dado de elementos entre dos valores:"
   ]
  },
  {
   "cell_type": "code",
   "execution_count": 6,
   "id": "3442e9b4",
   "metadata": {
    "id": "3442e9b4"
   },
   "outputs": [
    {
     "data": {
      "text/html": [
       "<table>\n",
       "    <tr>\n",
       "        <td>\n",
       "            <table style=\"border-collapse: collapse;\">\n",
       "                <thead>\n",
       "                    <tr>\n",
       "                        <td> </td>\n",
       "                        <th> Array </th>\n",
       "                        <th> Chunk </th>\n",
       "                    </tr>\n",
       "                </thead>\n",
       "                <tbody>\n",
       "                    \n",
       "                    <tr>\n",
       "                        <th> Bytes </th>\n",
       "                        <td> 800 B </td>\n",
       "                        <td> 800 B </td>\n",
       "                    </tr>\n",
       "                    \n",
       "                    <tr>\n",
       "                        <th> Shape </th>\n",
       "                        <td> (100,) </td>\n",
       "                        <td> (100,) </td>\n",
       "                    </tr>\n",
       "                    <tr>\n",
       "                        <th> Dask graph </th>\n",
       "                        <td colspan=\"2\"> 1 chunks in 1 graph layer </td>\n",
       "                    </tr>\n",
       "                    <tr>\n",
       "                        <th> Data type </th>\n",
       "                        <td colspan=\"2\"> float64 numpy.ndarray </td>\n",
       "                    </tr>\n",
       "                </tbody>\n",
       "            </table>\n",
       "        </td>\n",
       "        <td>\n",
       "        <svg width=\"170\" height=\"75\" style=\"stroke:rgb(0,0,0);stroke-width:1\" >\n",
       "\n",
       "  <!-- Horizontal lines -->\n",
       "  <line x1=\"0\" y1=\"0\" x2=\"120\" y2=\"0\" style=\"stroke-width:2\" />\n",
       "  <line x1=\"0\" y1=\"25\" x2=\"120\" y2=\"25\" style=\"stroke-width:2\" />\n",
       "\n",
       "  <!-- Vertical lines -->\n",
       "  <line x1=\"0\" y1=\"0\" x2=\"0\" y2=\"25\" style=\"stroke-width:2\" />\n",
       "  <line x1=\"120\" y1=\"0\" x2=\"120\" y2=\"25\" style=\"stroke-width:2\" />\n",
       "\n",
       "  <!-- Colored Rectangle -->\n",
       "  <polygon points=\"0.0,0.0 120.0,0.0 120.0,25.412616514582485 0.0,25.412616514582485\" style=\"fill:#ECB172A0;stroke-width:0\"/>\n",
       "\n",
       "  <!-- Text -->\n",
       "  <text x=\"60.000000\" y=\"45.412617\" font-size=\"1.0rem\" font-weight=\"100\" text-anchor=\"middle\" >100</text>\n",
       "  <text x=\"140.000000\" y=\"12.706308\" font-size=\"1.0rem\" font-weight=\"100\" text-anchor=\"middle\" transform=\"rotate(0,140.000000,12.706308)\">1</text>\n",
       "</svg>\n",
       "        </td>\n",
       "    </tr>\n",
       "</table>"
      ],
      "text/plain": [
       "dask.array<linspace, shape=(100,), dtype=float64, chunksize=(100,), chunktype=numpy.ndarray>"
      ]
     },
     "execution_count": 6,
     "metadata": {},
     "output_type": "execute_result"
    }
   ],
   "source": [
    "x = da.linspace(-1, 1, 100)\n",
    "x"
   ]
  },
  {
   "cell_type": "markdown",
   "id": "50fd0fe1",
   "metadata": {
    "id": "50fd0fe1"
   },
   "source": [
    "### **2.2. Arreglos Aleatorios Nativos**\n",
    "---\n",
    "\n",
    "Al igual que `numpy` tenemos un paquete `random` que nos permite generar arreglos de forma aleatoria, por ejemplo, la función `randint` genera un arreglo con valores enteros asignados de forma aleatoria entre dos números y con un tamaño dado:"
   ]
  },
  {
   "cell_type": "code",
   "execution_count": 7,
   "id": "c87c4585",
   "metadata": {
    "id": "c87c4585"
   },
   "outputs": [
    {
     "data": {
      "text/html": [
       "<table>\n",
       "    <tr>\n",
       "        <td>\n",
       "            <table style=\"border-collapse: collapse;\">\n",
       "                <thead>\n",
       "                    <tr>\n",
       "                        <td> </td>\n",
       "                        <th> Array </th>\n",
       "                        <th> Chunk </th>\n",
       "                    </tr>\n",
       "                </thead>\n",
       "                <tbody>\n",
       "                    \n",
       "                    <tr>\n",
       "                        <th> Bytes </th>\n",
       "                        <td> 400 B </td>\n",
       "                        <td> 400 B </td>\n",
       "                    </tr>\n",
       "                    \n",
       "                    <tr>\n",
       "                        <th> Shape </th>\n",
       "                        <td> (10, 10) </td>\n",
       "                        <td> (10, 10) </td>\n",
       "                    </tr>\n",
       "                    <tr>\n",
       "                        <th> Dask graph </th>\n",
       "                        <td colspan=\"2\"> 1 chunks in 1 graph layer </td>\n",
       "                    </tr>\n",
       "                    <tr>\n",
       "                        <th> Data type </th>\n",
       "                        <td colspan=\"2\"> int32 numpy.ndarray </td>\n",
       "                    </tr>\n",
       "                </tbody>\n",
       "            </table>\n",
       "        </td>\n",
       "        <td>\n",
       "        <svg width=\"170\" height=\"170\" style=\"stroke:rgb(0,0,0);stroke-width:1\" >\n",
       "\n",
       "  <!-- Horizontal lines -->\n",
       "  <line x1=\"0\" y1=\"0\" x2=\"120\" y2=\"0\" style=\"stroke-width:2\" />\n",
       "  <line x1=\"0\" y1=\"120\" x2=\"120\" y2=\"120\" style=\"stroke-width:2\" />\n",
       "\n",
       "  <!-- Vertical lines -->\n",
       "  <line x1=\"0\" y1=\"0\" x2=\"0\" y2=\"120\" style=\"stroke-width:2\" />\n",
       "  <line x1=\"120\" y1=\"0\" x2=\"120\" y2=\"120\" style=\"stroke-width:2\" />\n",
       "\n",
       "  <!-- Colored Rectangle -->\n",
       "  <polygon points=\"0.0,0.0 120.0,0.0 120.0,120.0 0.0,120.0\" style=\"fill:#ECB172A0;stroke-width:0\"/>\n",
       "\n",
       "  <!-- Text -->\n",
       "  <text x=\"60.000000\" y=\"140.000000\" font-size=\"1.0rem\" font-weight=\"100\" text-anchor=\"middle\" >10</text>\n",
       "  <text x=\"140.000000\" y=\"60.000000\" font-size=\"1.0rem\" font-weight=\"100\" text-anchor=\"middle\" transform=\"rotate(0,140.000000,60.000000)\">10</text>\n",
       "</svg>\n",
       "        </td>\n",
       "    </tr>\n",
       "</table>"
      ],
      "text/plain": [
       "dask.array<randint, shape=(10, 10), dtype=int32, chunksize=(10, 10), chunktype=numpy.ndarray>"
      ]
     },
     "execution_count": 7,
     "metadata": {},
     "output_type": "execute_result"
    }
   ],
   "source": [
    "X = da.random.randint(1, 5, size=(10, 10))\n",
    "X"
   ]
  },
  {
   "cell_type": "markdown",
   "id": "41963f3a",
   "metadata": {
    "id": "41963f3a"
   },
   "source": [
    "De la misma forma, podemos generar números con una distribución uniforme:"
   ]
  },
  {
   "cell_type": "code",
   "execution_count": 8,
   "id": "9808180a",
   "metadata": {
    "id": "9808180a"
   },
   "outputs": [
    {
     "data": {
      "text/html": [
       "<table>\n",
       "    <tr>\n",
       "        <td>\n",
       "            <table style=\"border-collapse: collapse;\">\n",
       "                <thead>\n",
       "                    <tr>\n",
       "                        <td> </td>\n",
       "                        <th> Array </th>\n",
       "                        <th> Chunk </th>\n",
       "                    </tr>\n",
       "                </thead>\n",
       "                <tbody>\n",
       "                    \n",
       "                    <tr>\n",
       "                        <th> Bytes </th>\n",
       "                        <td> 78.12 kiB </td>\n",
       "                        <td> 78.12 kiB </td>\n",
       "                    </tr>\n",
       "                    \n",
       "                    <tr>\n",
       "                        <th> Shape </th>\n",
       "                        <td> (100, 100) </td>\n",
       "                        <td> (100, 100) </td>\n",
       "                    </tr>\n",
       "                    <tr>\n",
       "                        <th> Dask graph </th>\n",
       "                        <td colspan=\"2\"> 1 chunks in 1 graph layer </td>\n",
       "                    </tr>\n",
       "                    <tr>\n",
       "                        <th> Data type </th>\n",
       "                        <td colspan=\"2\"> float64 numpy.ndarray </td>\n",
       "                    </tr>\n",
       "                </tbody>\n",
       "            </table>\n",
       "        </td>\n",
       "        <td>\n",
       "        <svg width=\"170\" height=\"170\" style=\"stroke:rgb(0,0,0);stroke-width:1\" >\n",
       "\n",
       "  <!-- Horizontal lines -->\n",
       "  <line x1=\"0\" y1=\"0\" x2=\"120\" y2=\"0\" style=\"stroke-width:2\" />\n",
       "  <line x1=\"0\" y1=\"120\" x2=\"120\" y2=\"120\" style=\"stroke-width:2\" />\n",
       "\n",
       "  <!-- Vertical lines -->\n",
       "  <line x1=\"0\" y1=\"0\" x2=\"0\" y2=\"120\" style=\"stroke-width:2\" />\n",
       "  <line x1=\"120\" y1=\"0\" x2=\"120\" y2=\"120\" style=\"stroke-width:2\" />\n",
       "\n",
       "  <!-- Colored Rectangle -->\n",
       "  <polygon points=\"0.0,0.0 120.0,0.0 120.0,120.0 0.0,120.0\" style=\"fill:#ECB172A0;stroke-width:0\"/>\n",
       "\n",
       "  <!-- Text -->\n",
       "  <text x=\"60.000000\" y=\"140.000000\" font-size=\"1.0rem\" font-weight=\"100\" text-anchor=\"middle\" >100</text>\n",
       "  <text x=\"140.000000\" y=\"60.000000\" font-size=\"1.0rem\" font-weight=\"100\" text-anchor=\"middle\" transform=\"rotate(-90,140.000000,60.000000)\">100</text>\n",
       "</svg>\n",
       "        </td>\n",
       "    </tr>\n",
       "</table>"
      ],
      "text/plain": [
       "dask.array<uniform, shape=(100, 100), dtype=float64, chunksize=(100, 100), chunktype=numpy.ndarray>"
      ]
     },
     "execution_count": 8,
     "metadata": {},
     "output_type": "execute_result"
    }
   ],
   "source": [
    "X = da.random.uniform(-1, 1, size=(100, 100))\n",
    "X"
   ]
  },
  {
   "cell_type": "markdown",
   "id": "2df2d25a",
   "metadata": {
    "id": "2df2d25a"
   },
   "source": [
    "Incluso arreglos con distribución normal:"
   ]
  },
  {
   "cell_type": "code",
   "execution_count": 9,
   "id": "e339a5d0",
   "metadata": {
    "id": "e339a5d0"
   },
   "outputs": [
    {
     "data": {
      "text/html": [
       "<table>\n",
       "    <tr>\n",
       "        <td>\n",
       "            <table style=\"border-collapse: collapse;\">\n",
       "                <thead>\n",
       "                    <tr>\n",
       "                        <td> </td>\n",
       "                        <th> Array </th>\n",
       "                        <th> Chunk </th>\n",
       "                    </tr>\n",
       "                </thead>\n",
       "                <tbody>\n",
       "                    \n",
       "                    <tr>\n",
       "                        <th> Bytes </th>\n",
       "                        <td> 78.12 kiB </td>\n",
       "                        <td> 78.12 kiB </td>\n",
       "                    </tr>\n",
       "                    \n",
       "                    <tr>\n",
       "                        <th> Shape </th>\n",
       "                        <td> (100, 100) </td>\n",
       "                        <td> (100, 100) </td>\n",
       "                    </tr>\n",
       "                    <tr>\n",
       "                        <th> Dask graph </th>\n",
       "                        <td colspan=\"2\"> 1 chunks in 1 graph layer </td>\n",
       "                    </tr>\n",
       "                    <tr>\n",
       "                        <th> Data type </th>\n",
       "                        <td colspan=\"2\"> float64 numpy.ndarray </td>\n",
       "                    </tr>\n",
       "                </tbody>\n",
       "            </table>\n",
       "        </td>\n",
       "        <td>\n",
       "        <svg width=\"170\" height=\"170\" style=\"stroke:rgb(0,0,0);stroke-width:1\" >\n",
       "\n",
       "  <!-- Horizontal lines -->\n",
       "  <line x1=\"0\" y1=\"0\" x2=\"120\" y2=\"0\" style=\"stroke-width:2\" />\n",
       "  <line x1=\"0\" y1=\"120\" x2=\"120\" y2=\"120\" style=\"stroke-width:2\" />\n",
       "\n",
       "  <!-- Vertical lines -->\n",
       "  <line x1=\"0\" y1=\"0\" x2=\"0\" y2=\"120\" style=\"stroke-width:2\" />\n",
       "  <line x1=\"120\" y1=\"0\" x2=\"120\" y2=\"120\" style=\"stroke-width:2\" />\n",
       "\n",
       "  <!-- Colored Rectangle -->\n",
       "  <polygon points=\"0.0,0.0 120.0,0.0 120.0,120.0 0.0,120.0\" style=\"fill:#ECB172A0;stroke-width:0\"/>\n",
       "\n",
       "  <!-- Text -->\n",
       "  <text x=\"60.000000\" y=\"140.000000\" font-size=\"1.0rem\" font-weight=\"100\" text-anchor=\"middle\" >100</text>\n",
       "  <text x=\"140.000000\" y=\"60.000000\" font-size=\"1.0rem\" font-weight=\"100\" text-anchor=\"middle\" transform=\"rotate(-90,140.000000,60.000000)\">100</text>\n",
       "</svg>\n",
       "        </td>\n",
       "    </tr>\n",
       "</table>"
      ],
      "text/plain": [
       "dask.array<normal, shape=(100, 100), dtype=float64, chunksize=(100, 100), chunktype=numpy.ndarray>"
      ]
     },
     "execution_count": 9,
     "metadata": {},
     "output_type": "execute_result"
    }
   ],
   "source": [
    "X = da.random.normal(loc=0, scale=1, size=(100, 100))\n",
    "X"
   ]
  },
  {
   "cell_type": "markdown",
   "id": "03526168",
   "metadata": {
    "id": "03526168"
   },
   "source": [
    "Puede usar otras distribuciones aleatorias de `dask` como: `binomial`, `pareto`, `geometric` y muchas más, recuerde que son exactamente las mismas que están en `numpy` y las puede consultar en [este enlace](https://numpy.org/doc/stable/reference/random/index.html)."
   ]
  },
  {
   "cell_type": "markdown",
   "id": "155a04fe",
   "metadata": {
    "id": "155a04fe"
   },
   "source": [
    "### **2.3. Arreglos Externos**\n",
    "---\n",
    "\n",
    "Podemos crear arreglos de `dask` desde distintas fuentes (como `numpy`), esto se consigue usando la función `from_array` de `dask`, veamos un ejemplo:"
   ]
  },
  {
   "cell_type": "code",
   "execution_count": null,
   "id": "1ae2ef7f",
   "metadata": {
    "id": "1ae2ef7f"
   },
   "outputs": [],
   "source": [
    "X = da.from_array(np.random.normal(size=(100, 10)), chunks=(10, 10))\n",
    "X"
   ]
  },
  {
   "cell_type": "markdown",
   "id": "f3d06f2a",
   "metadata": {
    "id": "f3d06f2a"
   },
   "source": [
    "En este caso, usamos el parámetro `chunks` para especificar cómo serán internamente las particiones del arreglo. Recuerde que los arreglos de `dask` no están directamente en la memoria RAM hasta que no se especifique, de hecho, todos los arreglos que hemos creado hasta este momento son elementos conocidos como **promesas** (son valores que aún no se ejecutan pero esperamos que sigan determinados criterios como tipo, forma, tamaño, entre otras).\n",
    "\n",
    "Veamos cuál es el porcentaje de utilización de la memoria RAM antes de crear un arreglo de `dask` con la librería `psutil`:"
   ]
  },
  {
   "cell_type": "code",
   "execution_count": null,
   "id": "aef8d6a7",
   "metadata": {
    "id": "aef8d6a7"
   },
   "outputs": [],
   "source": [
    "import psutil\n",
    "print(f\"RAM: {psutil.virtual_memory()[2]}%\")"
   ]
  },
  {
   "cell_type": "markdown",
   "id": "5470915d",
   "metadata": {
    "id": "5470915d"
   },
   "source": [
    "Ahora, creamos un arreglo de `dask` de un gran tamaño:"
   ]
  },
  {
   "cell_type": "code",
   "execution_count": null,
   "id": "5ac44c17",
   "metadata": {
    "id": "5ac44c17"
   },
   "outputs": [],
   "source": [
    "X = da.random.normal(size=(1_000_000, 100), chunks=(1000, 100))\n",
    "X"
   ]
  },
  {
   "cell_type": "markdown",
   "id": "239bd171",
   "metadata": {
    "id": "239bd171"
   },
   "source": [
    "Veamos el porcentaje de utilización de la memoria RAM luego de crear el arreglo:"
   ]
  },
  {
   "cell_type": "code",
   "execution_count": null,
   "id": "b1682abf",
   "metadata": {
    "id": "b1682abf"
   },
   "outputs": [],
   "source": [
    "print(f\"RAM: {psutil.virtual_memory()[2]}%\")"
   ]
  },
  {
   "cell_type": "markdown",
   "id": "c30a55b3",
   "metadata": {
    "id": "c30a55b3"
   },
   "source": [
    "Como puede ver, el cambio en la memoria es mínimo (el arreglo no se ha calculado aún y tampoco existe en la memoria).\n",
    "\n",
    "Un ejemplo típico para el manejo de grandes cantidades de datos desde `dask` es con el formato `hdf5`. Se trata de un formato de archivo que es bastante compacto y que facilita la **lectura aleatoria** (no necesitamos cargar todo el archivo para extraer un valor, podemos hacerlo directamente). Podemos exportar el arreglo directamente al disco con el método `to_hdf5` sin la necesidad de que el archivo esté en la memoria:"
   ]
  },
  {
   "cell_type": "code",
   "execution_count": null,
   "id": "418997af",
   "metadata": {
    "id": "418997af"
   },
   "outputs": [],
   "source": [
    "X.to_hdf5(\"array.h5\", \"/data\")"
   ]
  },
  {
   "cell_type": "markdown",
   "id": "4ea18377",
   "metadata": {
    "id": "4ea18377"
   },
   "source": [
    "Corroboremos la memoria RAM:"
   ]
  },
  {
   "cell_type": "code",
   "execution_count": null,
   "id": "2919b173",
   "metadata": {
    "id": "2919b173"
   },
   "outputs": [],
   "source": [
    "print(f\"RAM: {psutil.virtual_memory()[2]}%\")"
   ]
  },
  {
   "cell_type": "markdown",
   "id": "ee26aa07",
   "metadata": {
    "id": "ee26aa07"
   },
   "source": [
    "En este caso, `dask` trabaja únicamente sobre _chunks_ y no sobre el arreglo completo, por ello, únicamente es necesario tener en memoria _chunks_ de tamaño `(1000, 100)` en lugar de un arreglo de tamaño `(1000000, 100)`.\n",
    "\n",
    "Veamos que se creó un archivo con los datos del arreglo masivo de `dask`:"
   ]
  },
  {
   "cell_type": "code",
   "execution_count": null,
   "id": "a73da475",
   "metadata": {
    "id": "a73da475"
   },
   "outputs": [],
   "source": [
    "import os\n",
    "size = os.stat(\"array.h5\").st_size / (1024 ** 2)\n",
    "print(f\"Tamaño del archivo {size:.2f}MB\")"
   ]
  },
  {
   "cell_type": "markdown",
   "id": "8dc65405",
   "metadata": {
    "id": "8dc65405"
   },
   "source": [
    "De la misma forma, podemos cargar un arreglo masivo a partir de archivos `hdf5` desde `dask` con la librería `h5py`:"
   ]
  },
  {
   "cell_type": "code",
   "execution_count": null,
   "id": "92b8503d",
   "metadata": {
    "id": "92b8503d"
   },
   "outputs": [],
   "source": [
    "import h5py\n",
    "file = h5py.File(\"array.h5\", \"r\")\n",
    "data = file[\"data\"]\n",
    "data"
   ]
  },
  {
   "cell_type": "markdown",
   "id": "a9d5f767",
   "metadata": {
    "id": "a9d5f767"
   },
   "source": [
    "Lo cargamos con `dask`:"
   ]
  },
  {
   "cell_type": "code",
   "execution_count": null,
   "id": "44432016",
   "metadata": {
    "id": "44432016"
   },
   "outputs": [],
   "source": [
    "X = da.from_array(data, chunks=(1000, 100))\n",
    "X"
   ]
  },
  {
   "cell_type": "markdown",
   "id": "4a002645",
   "metadata": {
    "id": "4a002645"
   },
   "source": [
    "Finalmente, cerramos el archivo:"
   ]
  },
  {
   "cell_type": "code",
   "execution_count": null,
   "id": "77c5e81e",
   "metadata": {
    "id": "77c5e81e"
   },
   "outputs": [],
   "source": [
    "file.close()"
   ]
  },
  {
   "cell_type": "markdown",
   "id": "138f80f4",
   "metadata": {
    "id": "138f80f4"
   },
   "source": [
    "## **3. Atributos**\n",
    "---\n",
    "\n",
    "Los arreglos de `dask` tienen atributos adicionales a los arreglos de `numpy`, veamos los más útiles:\n",
    "\n",
    "El atributo `shape` nos permite extraer el tamaño del arreglo:"
   ]
  },
  {
   "cell_type": "code",
   "execution_count": null,
   "id": "32449d97",
   "metadata": {
    "id": "32449d97"
   },
   "outputs": [],
   "source": [
    "print(X.shape)"
   ]
  },
  {
   "cell_type": "markdown",
   "id": "bf439b6f",
   "metadata": {
    "id": "bf439b6f"
   },
   "source": [
    "El atributo `dtype` nos permite saber qué tipo de datos contiene el arreglo:"
   ]
  },
  {
   "cell_type": "code",
   "execution_count": null,
   "id": "bbab1f40",
   "metadata": {
    "id": "bbab1f40"
   },
   "outputs": [],
   "source": [
    "print(X.dtype)"
   ]
  },
  {
   "cell_type": "markdown",
   "id": "664c9aa4",
   "metadata": {
    "id": "664c9aa4"
   },
   "source": [
    "El atributo `chunksize` permite extraer el tamaño de las particiones del arreglo:"
   ]
  },
  {
   "cell_type": "code",
   "execution_count": null,
   "id": "211beb86",
   "metadata": {
    "id": "211beb86"
   },
   "outputs": [],
   "source": [
    "print(X.chunksize)"
   ]
  },
  {
   "cell_type": "markdown",
   "id": "31d92287",
   "metadata": {
    "id": "31d92287"
   },
   "source": [
    "También podemos extraer el número completo de elementos que hay en el arreglo con el atributo `size`:"
   ]
  },
  {
   "cell_type": "code",
   "execution_count": null,
   "id": "33d6a2c5",
   "metadata": {
    "id": "33d6a2c5"
   },
   "outputs": [],
   "source": [
    "print(X.size)"
   ]
  },
  {
   "cell_type": "markdown",
   "id": "022b4721",
   "metadata": {
    "id": "022b4721"
   },
   "source": [
    "## **4. Métodos**\n",
    "---\n",
    "\n",
    "Los arreglos de `dask` usan métodos similares a los de un arreglo de `numpy` y algunos adicionales que nos van a permitir controlar el manejo de memoria. Veamos algunos ejemplos:\n",
    "\n",
    "* `compute`: este método permite evaluar el arreglo de `dask` y obtener el arreglo de `numpy` correspondiente, veamos un ejemplo:"
   ]
  },
  {
   "cell_type": "code",
   "execution_count": null,
   "id": "c7947229",
   "metadata": {
    "id": "c7947229"
   },
   "outputs": [],
   "source": [
    "X = da.random.uniform(size=(100, 10), chunks=(10, 10))\n",
    "X"
   ]
  },
  {
   "cell_type": "markdown",
   "id": "a03670ca",
   "metadata": {
    "id": "a03670ca"
   },
   "source": [
    "Usamos el método `compute`:"
   ]
  },
  {
   "cell_type": "code",
   "execution_count": null,
   "id": "a4856009",
   "metadata": {
    "id": "a4856009"
   },
   "outputs": [],
   "source": [
    "X_np = X.compute()\n",
    "print(X_np)"
   ]
  },
  {
   "cell_type": "markdown",
   "id": "f4217972",
   "metadata": {
    "id": "f4217972"
   },
   "source": [
    "* `rechunk`: permite cambiar el tamaño de los _chunks_ de un arreglo, por ejemplo:"
   ]
  },
  {
   "cell_type": "code",
   "execution_count": null,
   "id": "73d137fa",
   "metadata": {
    "id": "73d137fa"
   },
   "outputs": [],
   "source": [
    "X2 = X.rechunk(chunks=(50, 10))\n",
    "X2"
   ]
  },
  {
   "cell_type": "markdown",
   "id": "3275d893",
   "metadata": {
    "id": "3275d893"
   },
   "source": [
    "* `persist`: permite guardar en disco los resultados de una operación:"
   ]
  },
  {
   "cell_type": "code",
   "execution_count": null,
   "id": "0691d28f",
   "metadata": {
    "id": "0691d28f"
   },
   "outputs": [],
   "source": [
    "X3 = X2.persist()\n",
    "X3"
   ]
  },
  {
   "cell_type": "markdown",
   "id": "16763ac1",
   "metadata": {
    "id": "16763ac1"
   },
   "source": [
    "Adicional a esto, tenemos métodos similares como los que manejan los arreglos de `numpy`, veamos algunos:\n",
    "\n",
    "* `sum` permite sumar los elementos de un arreglo sobre un eje dado:"
   ]
  },
  {
   "cell_type": "code",
   "execution_count": null,
   "id": "c3b35a1e",
   "metadata": {
    "id": "c3b35a1e"
   },
   "outputs": [],
   "source": [
    "sums = X3.sum(axis=1)\n",
    "sums"
   ]
  },
  {
   "cell_type": "markdown",
   "id": "26ce3000",
   "metadata": {
    "id": "26ce3000"
   },
   "source": [
    "Evaluamos el resultado:"
   ]
  },
  {
   "cell_type": "code",
   "execution_count": null,
   "id": "10b651db",
   "metadata": {
    "id": "10b651db"
   },
   "outputs": [],
   "source": [
    "sums.compute()"
   ]
  },
  {
   "cell_type": "markdown",
   "id": "132623a3",
   "metadata": {
    "id": "132623a3"
   },
   "source": [
    "* `mean` permite promediar los elementos de un arreglo sobre un eje dado:"
   ]
  },
  {
   "cell_type": "code",
   "execution_count": null,
   "id": "63147d18",
   "metadata": {
    "id": "63147d18"
   },
   "outputs": [],
   "source": [
    "means = X3.mean(axis=1)\n",
    "means"
   ]
  },
  {
   "cell_type": "markdown",
   "id": "149fe075",
   "metadata": {
    "id": "149fe075"
   },
   "source": [
    "Evaluamos el resultado:"
   ]
  },
  {
   "cell_type": "code",
   "execution_count": null,
   "id": "89c87854",
   "metadata": {
    "id": "89c87854"
   },
   "outputs": [],
   "source": [
    "print(means.compute())"
   ]
  },
  {
   "cell_type": "markdown",
   "id": "8012a60d",
   "metadata": {
    "id": "8012a60d"
   },
   "source": [
    "* `std` permite calcular la desviación estándar de los elementos de un arreglo sobre un eje dado:"
   ]
  },
  {
   "cell_type": "code",
   "execution_count": null,
   "id": "767296ed",
   "metadata": {
    "id": "767296ed"
   },
   "outputs": [],
   "source": [
    "stds = X3.std(axis=1)\n",
    "stds"
   ]
  },
  {
   "cell_type": "markdown",
   "id": "4b65bbef",
   "metadata": {
    "id": "4b65bbef"
   },
   "source": [
    "Evaluamos el resultado:"
   ]
  },
  {
   "cell_type": "code",
   "execution_count": null,
   "id": "acd760c1",
   "metadata": {
    "id": "acd760c1"
   },
   "outputs": [],
   "source": [
    "print(stds.compute())"
   ]
  },
  {
   "cell_type": "markdown",
   "id": "4b3526e2",
   "metadata": {
    "id": "4b3526e2"
   },
   "source": [
    "* `reshape` premite cambiar la forma de un arreglo:"
   ]
  },
  {
   "cell_type": "code",
   "execution_count": null,
   "id": "68505223",
   "metadata": {
    "id": "68505223"
   },
   "outputs": [],
   "source": [
    "X4 = X3.reshape((10, 10, 10))\n",
    "print(X4)"
   ]
  },
  {
   "cell_type": "markdown",
   "id": "e58a01a9",
   "metadata": {
    "id": "e58a01a9"
   },
   "source": [
    "Debe tener cuidado con la operación de `reshape` ya que esta únicamente permite dividir o combinar ejes.\n",
    "\n",
    "También podemos aplicar la operación `flatten` para cambiar la forma del arreglo"
   ]
  },
  {
   "cell_type": "code",
   "execution_count": null,
   "id": "211eac8b",
   "metadata": {
    "id": "211eac8b"
   },
   "outputs": [],
   "source": [
    "X5 = X4.flatten()\n",
    "X5"
   ]
  },
  {
   "cell_type": "markdown",
   "id": "05d40779",
   "metadata": {
    "id": "05d40779"
   },
   "source": [
    "## **5. Operaciones con Arreglos**\n",
    "---\n",
    "\n",
    "Podemos realizar distintos tipos de operaciones aritméticas, geométricas y algebraicas sobre los arreglos de `dask`.\n",
    "\n",
    "Por ejemplo, podemos sumar dos arreglos, comenzamos definiéndolos:"
   ]
  },
  {
   "cell_type": "code",
   "execution_count": null,
   "id": "175ddfef",
   "metadata": {
    "id": "175ddfef"
   },
   "outputs": [],
   "source": [
    "X1 = da.random.normal(loc=0, scale=1, size=(10, 10))\n",
    "X1"
   ]
  },
  {
   "cell_type": "code",
   "execution_count": null,
   "id": "79887aa6",
   "metadata": {
    "id": "79887aa6"
   },
   "outputs": [],
   "source": [
    "X2 = da.random.normal(loc=0, scale=1, size=(10, 10))\n",
    "X2"
   ]
  },
  {
   "cell_type": "markdown",
   "id": "1b529b28",
   "metadata": {
    "id": "1b529b28"
   },
   "source": [
    "La suma se realiza elemento a elemento:"
   ]
  },
  {
   "cell_type": "code",
   "execution_count": null,
   "id": "a0dc44ae",
   "metadata": {
    "id": "a0dc44ae"
   },
   "outputs": [],
   "source": [
    "X3 = X1 + X2\n",
    "X3"
   ]
  },
  {
   "cell_type": "markdown",
   "id": "355ee5d7",
   "metadata": {
    "id": "355ee5d7"
   },
   "source": [
    "Veamos el resultado:"
   ]
  },
  {
   "cell_type": "code",
   "execution_count": null,
   "id": "9f667cd6",
   "metadata": {
    "id": "9f667cd6"
   },
   "outputs": [],
   "source": [
    "print(X3.compute())"
   ]
  },
  {
   "cell_type": "markdown",
   "id": "46168a06",
   "metadata": {
    "id": "46168a06"
   },
   "source": [
    "Lo mismo aplica para operaciones como resta:"
   ]
  },
  {
   "cell_type": "code",
   "execution_count": null,
   "id": "625a3dbb",
   "metadata": {
    "id": "625a3dbb"
   },
   "outputs": [],
   "source": [
    "X3 = X1 - X2\n",
    "X3"
   ]
  },
  {
   "cell_type": "markdown",
   "id": "0c2640bd",
   "metadata": {
    "id": "0c2640bd"
   },
   "source": [
    "La multiplicación elemento a elemento:"
   ]
  },
  {
   "cell_type": "code",
   "execution_count": null,
   "id": "b85f5a56",
   "metadata": {
    "id": "b85f5a56"
   },
   "outputs": [],
   "source": [
    "X3 = X1 * X2\n",
    "X3"
   ]
  },
  {
   "cell_type": "markdown",
   "id": "ceb9ce4d",
   "metadata": {
    "id": "ceb9ce4d"
   },
   "source": [
    "La división:"
   ]
  },
  {
   "cell_type": "code",
   "execution_count": null,
   "id": "1691b0af",
   "metadata": {
    "id": "1691b0af"
   },
   "outputs": [],
   "source": [
    "X3 = X1 / X2\n",
    "X3"
   ]
  },
  {
   "cell_type": "markdown",
   "id": "5669d2af",
   "metadata": {
    "id": "5669d2af"
   },
   "source": [
    "Podemos realizar un producto matricial con el operador `@`:"
   ]
  },
  {
   "cell_type": "code",
   "execution_count": null,
   "id": "a43c6855",
   "metadata": {
    "id": "a43c6855"
   },
   "outputs": [],
   "source": [
    "X3 = X1 @ X2\n",
    "X3"
   ]
  },
  {
   "cell_type": "markdown",
   "id": "3331057a",
   "metadata": {
    "id": "3331057a"
   },
   "source": [
    "También podemos aplicar las reglas de _broadcasting_ como se usan en `numpy`, por ejemplo, para convertir a ceros todas las columnas pares:"
   ]
  },
  {
   "cell_type": "code",
   "execution_count": null,
   "id": "071b9f3f",
   "metadata": {
    "id": "071b9f3f"
   },
   "outputs": [],
   "source": [
    "mask = (da.arange(10) % 2).reshape(-1, 1)\n",
    "mask"
   ]
  },
  {
   "cell_type": "markdown",
   "id": "1a8e2826",
   "metadata": {
    "id": "1a8e2826"
   },
   "source": [
    "Aplicamos un producto elemento a elemento para enmascarar:"
   ]
  },
  {
   "cell_type": "code",
   "execution_count": null,
   "id": "d0dd01bb",
   "metadata": {
    "id": "d0dd01bb"
   },
   "outputs": [],
   "source": [
    "res = X1 * mask\n",
    "res"
   ]
  },
  {
   "cell_type": "markdown",
   "id": "04114af0",
   "metadata": {
    "id": "04114af0"
   },
   "source": [
    "Veamos el resultado:"
   ]
  },
  {
   "cell_type": "code",
   "execution_count": null,
   "id": "d8f83cea",
   "metadata": {
    "id": "d8f83cea"
   },
   "outputs": [],
   "source": [
    "print(res.compute())"
   ]
  },
  {
   "cell_type": "markdown",
   "id": "39bb5279",
   "metadata": {
    "id": "39bb5279"
   },
   "source": [
    "También podemos aplicar distintas funciones de forma distribuida de `dask`, por ejemplo la raíz cuadrada:"
   ]
  },
  {
   "cell_type": "code",
   "execution_count": null,
   "id": "b09eda5d",
   "metadata": {
    "id": "b09eda5d"
   },
   "outputs": [],
   "source": [
    "X3 = da.sqrt(X1)\n",
    "X3"
   ]
  },
  {
   "cell_type": "markdown",
   "id": "ba60eba3",
   "metadata": {
    "id": "ba60eba3"
   },
   "source": [
    "El exponente:"
   ]
  },
  {
   "cell_type": "code",
   "execution_count": null,
   "id": "70dbb709",
   "metadata": {
    "id": "70dbb709"
   },
   "outputs": [],
   "source": [
    "X3 = da.exp(X1)\n",
    "X3"
   ]
  },
  {
   "cell_type": "markdown",
   "id": "07cacd0e",
   "metadata": {
    "id": "07cacd0e"
   },
   "source": [
    "El logaritmo:"
   ]
  },
  {
   "cell_type": "code",
   "execution_count": null,
   "id": "6014dce5",
   "metadata": {
    "id": "6014dce5"
   },
   "outputs": [],
   "source": [
    "X3 = da.log(X1)\n",
    "X3"
   ]
  },
  {
   "cell_type": "markdown",
   "id": "a28c880c",
   "metadata": {
    "id": "a28c880c"
   },
   "source": [
    "El módulo `linalg` de `dask` nos permite realizar algunas operaciones algebraicas que pueden ser distribuidas facilmente, entre ellas tenemos:\n",
    "\n",
    "* Inverso de una matriz con `inv`.\n",
    "* Métodos de descomposición matricial como `cholesky`, `svd`, `lu`, `qr`, entre otras.\n",
    "* Normas de vectores `norm`.\n",
    "\n",
    "Veamos un ejemplo donde calculamos una matriz al cuadrado, calculamos el inverso de la matriz y calculamos la norma de sus vectores con respecto a su primer eje:"
   ]
  },
  {
   "cell_type": "code",
   "execution_count": null,
   "id": "98d7a58f",
   "metadata": {
    "id": "98d7a58f"
   },
   "outputs": [],
   "source": [
    "X = da.random.normal(size=(10, 5))\n",
    "X2 = X @ X.T + da.eye(10) # .T nos permite transponer la matriz.\n",
    "X3 = da.linalg.inv(X2)\n",
    "X4 = da.linalg.norm(X3, axis=0)\n",
    "print(X4.compute())"
   ]
  },
  {
   "cell_type": "markdown",
   "id": "88d465fa",
   "metadata": {
    "id": "88d465fa"
   },
   "source": [
    "Podemos concatenar arreglos de la misma forma que en un arreglo de `numpy` con la función `concatenate`, veamos un ejemplo con los siguientes arreglos:"
   ]
  },
  {
   "cell_type": "code",
   "execution_count": null,
   "id": "e28e792e",
   "metadata": {
    "id": "e28e792e"
   },
   "outputs": [],
   "source": [
    "X1 = da.random.normal(size=(20, 10), chunks=(10, 10))\n",
    "X1"
   ]
  },
  {
   "cell_type": "code",
   "execution_count": null,
   "id": "1ad1460e",
   "metadata": {
    "id": "1ad1460e"
   },
   "outputs": [],
   "source": [
    "X2 = da.random.normal(size=(20, 20), chunks=(10, 20))\n",
    "X2"
   ]
  },
  {
   "cell_type": "markdown",
   "id": "7aaf4928",
   "metadata": {
    "id": "7aaf4928"
   },
   "source": [
    "Veamos la concatenación:"
   ]
  },
  {
   "cell_type": "code",
   "execution_count": null,
   "id": "fab6be9c",
   "metadata": {
    "id": "fab6be9c"
   },
   "outputs": [],
   "source": [
    "X3 = da.concatenate([X1, X2], axis=1)\n",
    "X3"
   ]
  },
  {
   "cell_type": "markdown",
   "id": "b5ff01e5",
   "metadata": {
    "id": "b5ff01e5"
   },
   "source": [
    "## **6. Indexación**\n",
    "---\n",
    "\n",
    "Podemos indexar los arreglos de `dask` siguiendo la misma notación que usamos en los arreglos de `numpy`, veamos un ejemplo sobre el siguiente arreglo:"
   ]
  },
  {
   "cell_type": "code",
   "execution_count": null,
   "id": "b34041fb",
   "metadata": {
    "id": "b34041fb"
   },
   "outputs": [],
   "source": [
    "X = da.random.normal(size=(100, 10), chunks=(10, 10))\n",
    "X"
   ]
  },
  {
   "cell_type": "markdown",
   "id": "b0b10d00",
   "metadata": {
    "id": "b0b10d00"
   },
   "source": [
    "Podemos seleccionar la primer fila:"
   ]
  },
  {
   "cell_type": "code",
   "execution_count": null,
   "id": "23e7dedc",
   "metadata": {
    "id": "23e7dedc"
   },
   "outputs": [],
   "source": [
    "x_0 = X[0]\n",
    "x_0"
   ]
  },
  {
   "cell_type": "markdown",
   "id": "13150153",
   "metadata": {
    "id": "13150153"
   },
   "source": [
    "Con `:` podemos seleccionar la primer columna:"
   ]
  },
  {
   "cell_type": "code",
   "execution_count": null,
   "id": "c2901501",
   "metadata": {
    "id": "c2901501"
   },
   "outputs": [],
   "source": [
    "x_0 = X[:, 0]\n",
    "x_0"
   ]
  },
  {
   "cell_type": "markdown",
   "id": "d4a4cf80",
   "metadata": {
    "id": "d4a4cf80"
   },
   "source": [
    "También podemos seleccionar rangos valores específicos, por ejemplo, las dos primeras filas y las dos primeras columnas:"
   ]
  },
  {
   "cell_type": "code",
   "execution_count": null,
   "id": "58907cca",
   "metadata": {
    "id": "58907cca"
   },
   "outputs": [],
   "source": [
    "X2 = X[:2, :2]\n",
    "X2"
   ]
  },
  {
   "cell_type": "markdown",
   "id": "7a04aa16",
   "metadata": {
    "id": "7a04aa16"
   },
   "source": [
    "De igual forma, podemos seleccionar valores específicos dando una lista de valores, por ejemplo, seleccionamos las filas 0, 3 y 5:"
   ]
  },
  {
   "cell_type": "code",
   "execution_count": null,
   "id": "c444778c",
   "metadata": {
    "id": "c444778c"
   },
   "outputs": [],
   "source": [
    "X2 = X[[0, 3, 5]]\n",
    "X2"
   ]
  },
  {
   "cell_type": "markdown",
   "id": "36523e0e",
   "metadata": {
    "id": "36523e0e"
   },
   "source": [
    "También podemos aplicar selección condicional:"
   ]
  },
  {
   "cell_type": "code",
   "execution_count": null,
   "id": "9ec92eaf",
   "metadata": {
    "id": "9ec92eaf"
   },
   "outputs": [],
   "source": [
    "X2 = X[X > 0]\n",
    "X2"
   ]
  },
  {
   "cell_type": "markdown",
   "id": "4ae41f26",
   "metadata": {
    "id": "4ae41f26"
   },
   "source": [
    "Evaluemos el resultado:"
   ]
  },
  {
   "cell_type": "code",
   "execution_count": null,
   "id": "c1d17e58",
   "metadata": {
    "id": "c1d17e58"
   },
   "outputs": [],
   "source": [
    "print(X2.compute())"
   ]
  },
  {
   "cell_type": "markdown",
   "id": "fc5148c2",
   "metadata": {
    "id": "fc5148c2"
   },
   "source": [
    "Como puede ver, los arreglos de `dask` son una herramienta poderosa que nos permite escalar los arreglos de `numpy` a grandes cantidades de datos y su ejecución de forma distribuida. No obstante, si estamos manejando un conjunto de datos pequeño no es muy recomendable usar `dask`, veamos una comparativa entre las operaciones con `dask` y con `numpy` con una matriz pequeña de `(1000, 1000)` usando la librería `time`:"
   ]
  },
  {
   "cell_type": "code",
   "execution_count": null,
   "id": "8ae6d3d2",
   "metadata": {
    "id": "8ae6d3d2"
   },
   "outputs": [],
   "source": [
    "import time"
   ]
  },
  {
   "cell_type": "markdown",
   "id": "c62c403f",
   "metadata": {
    "id": "c62c403f"
   },
   "source": [
    "Vamos a implementar un producto matricial desde `numpy` primero y a evaluar el tiempo:"
   ]
  },
  {
   "cell_type": "code",
   "execution_count": null,
   "id": "5bc7715c",
   "metadata": {
    "id": "5bc7715c"
   },
   "outputs": [],
   "source": [
    "t0 = time.time()\n",
    "X = np.random.uniform(size=(1000, 1000))\n",
    "Y = X @ X\n",
    "delta_t = time.time() - t0\n",
    "print(delta_t)"
   ]
  },
  {
   "cell_type": "markdown",
   "id": "2124c1b0",
   "metadata": {
    "id": "2124c1b0"
   },
   "source": [
    "Ahora veamos la misma operación con `dask`:"
   ]
  },
  {
   "cell_type": "code",
   "execution_count": null,
   "id": "8e964e76",
   "metadata": {
    "id": "8e964e76"
   },
   "outputs": [],
   "source": [
    "t0 = time.time()\n",
    "X = da.random.uniform(size=(1000, 1000), chunks=(100, 100))\n",
    "Y = (X @ X).compute()\n",
    "delta_t = time.time() - t0\n",
    "print(delta_t)"
   ]
  },
  {
   "cell_type": "markdown",
   "id": "d17a7b8b",
   "metadata": {
    "id": "d17a7b8b"
   },
   "source": [
    "Como puede ver, la operación con `dask` puede tomar más tiempo. Esto se debe a que `dask` tiene que coordinar y manipular las operaciones entre varios arreglos y luego unir los resultados. Esto tiene beneficios con grandes cantidades de datos pero genera un cuello de botella con datasets pequeños."
   ]
  },
  {
   "cell_type": "markdown",
   "id": "62e51fef",
   "metadata": {
    "id": "62e51fef"
   },
   "source": [
    "## **7. Recursos Adicionales**\n",
    "---\n",
    "\n",
    "* [Arreglos de Dask](https://docs.dask.org/en/stable/array.html).\n",
    "* [Dask - Talks & tutorials](https://docs.dask.org/en/stable/presentations.html)."
   ]
  },
  {
   "cell_type": "markdown",
   "id": "eb815e0a",
   "metadata": {
    "id": "eb815e0a"
   },
   "source": [
    "## **8. Créditos**\n",
    "---\n",
    "\n",
    "**Profesor**\n",
    "\n",
    "- [Jorge E. Camargo, PhD](https://dis.unal.edu.co/~jecamargom/)\n",
    "\n",
    "**Diseño, desarrollo del notebook y material audiovisual**\n",
    "\n",
    "- [Juan S. Lara MSc](https://www.linkedin.com/in/juan-sebastian-lara-ramirez-43570a214/)\n",
    "\n",
    "**Universidad Nacional de Colombia** - *Facultad de Ingeniería*"
   ]
  }
 ],
 "metadata": {
  "colab": {
   "private_outputs": true,
   "provenance": []
  },
  "jupytext": {
   "cell_metadata_filter": "-all",
   "main_language": "python",
   "notebook_metadata_filter": "-all"
  },
  "kernelspec": {
   "display_name": "Python 3 (ipykernel)",
   "language": "python",
   "name": "python3"
  },
  "language_info": {
   "codemirror_mode": {
    "name": "ipython",
    "version": 3
   },
   "file_extension": ".py",
   "mimetype": "text/x-python",
   "name": "python",
   "nbconvert_exporter": "python",
   "pygments_lexer": "ipython3",
   "version": "3.11.5"
  }
 },
 "nbformat": 4,
 "nbformat_minor": 5
}
