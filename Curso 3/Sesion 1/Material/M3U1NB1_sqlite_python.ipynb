{
 "cells": [
  {
   "cell_type": "markdown",
   "id": "0583e75a",
   "metadata": {
    "id": "0583e75a"
   },
   "source": [
    "<img src=\"https://drive.google.com/uc?export=view&id=1K9OCVYN1o-SI5c11HV1z2R-ruaN4IQet\" width=\"100%\" alt=\"Encabezado unidad 1\"></img>"
   ]
  },
  {
   "cell_type": "markdown",
   "id": "743b8bb9",
   "metadata": {
    "id": "743b8bb9"
   },
   "source": [
    "# **SQLite en Python**\n",
    "---\n",
    "\n",
    "En este notebook se da una introducción práctica a los drivers para la integración y comunicación entre el motor de bases relacionales _SQLite_ y el lenguaje de programación _Python_."
   ]
  },
  {
   "cell_type": "markdown",
   "id": "62c33e56",
   "metadata": {
    "id": "62c33e56"
   },
   "source": [
    "## **1. ¿Qué es SQLite?**\n",
    "---\n",
    "\n",
    "<img src=\"https://drive.google.com/uc?export=view&id=1mUTrhI1jQTtlxn2d_41Rz5tB9l8yKTF8\" width=\"40%\" alt=\"Logo SQLite\"></img>\n",
    "\n",
    "* Se trata de un motor de bases de datos tipo SQL creado por D. Richard Hipp en el 2000.\n",
    "* Se trata de un sistema de gestión, contenido en una librería pequeña (~275KB) escrita en el lenguaje de programación C.\n",
    "* Permite manipular información tabular y relacional en archivos como `.dat` o en memoria (similar a como funciona `pandas`).\n",
    "\n",
    "SQLite es un motor de base de datos ligero que opera con el sistema de archivos local sin necesidad de un servidor, con una integración sencilla con _Python_, basado en el lenguaje de dominio general SQL (del inglés _Structured Query Language_), usado ampliamente en una amplia variedad gestores de bases de datos relacionales, y siendo uno de los pilares fundamentales del almacenamiento tradicional.\n",
    "\n",
    "Por defecto, _Python_ trae una librería estándar: **`sqlite3`** que permite interactuar con esta base de datos:"
   ]
  },
  {
   "cell_type": "code",
   "execution_count": 1,
   "id": "51a86440",
   "metadata": {
    "id": "51a86440"
   },
   "outputs": [],
   "source": [
    "import sqlite3"
   ]
  },
  {
   "cell_type": "markdown",
   "id": "6be81af4",
   "metadata": {
    "id": "6be81af4"
   },
   "source": [
    "## **2. Creación y Conexión a la Base de Datos**\n",
    "---\n",
    "\n",
    "Hay dos modos de uso de `sqlite`:\n",
    "\n",
    "* Persistente.\n",
    "* Basado en memoria."
   ]
  },
  {
   "cell_type": "markdown",
   "id": "2a95a051",
   "metadata": {
    "id": "2a95a051"
   },
   "source": [
    "### **2.1. Persistente**\n",
    "---\n",
    "\n",
    "En este modo se crea un fichero binario donde se almacenan los datos en el disco duro.\n",
    "\n",
    "Veamos un ejemplo de esto en _Python_:"
   ]
  },
  {
   "cell_type": "code",
   "execution_count": 2,
   "id": "9d9430d9",
   "metadata": {
    "id": "9d9430d9"
   },
   "outputs": [
    {
     "name": "stdout",
     "output_type": "stream",
     "text": [
      "<sqlite3.Connection object at 0x0000019663FC7790>\n",
      "<class 'sqlite3.Connection'>\n"
     ]
    }
   ],
   "source": [
    "connection = sqlite3.connect(\"database.db\")\n",
    "print(connection)\n",
    "print(type(connection))\n",
    "connection.close()"
   ]
  },
  {
   "cell_type": "markdown",
   "id": "852d0ee9",
   "metadata": {
    "id": "852d0ee9"
   },
   "source": [
    "Esta función recibe como argumento `database`, el cual puede ser interpretado de varias maneras. En este caso, se genera un archivo en el disco con el contenido de la base de datos. Procedemos a ver el archivo generado:"
   ]
  },
  {
   "cell_type": "code",
   "execution_count": 3,
   "id": "00aad436",
   "metadata": {
    "id": "00aad436"
   },
   "outputs": [
    {
     "name": "stderr",
     "output_type": "stream",
     "text": [
      "\"ls\" no se reconoce como un comando interno o externo,\n",
      "programa o archivo por lotes ejecutable.\n"
     ]
    }
   ],
   "source": [
    "!ls -l database.db # con este comando podemos listar archivos y sus tamaños"
   ]
  },
  {
   "cell_type": "markdown",
   "id": "e4187c9f",
   "metadata": {
    "id": "e4187c9f"
   },
   "source": [
    "### **2.2. Basado en Memoria**\n",
    "---\n",
    "\n",
    "En este modo, `sqlite` crea la base de datos directamente en la memoria RAM (del mismo modo en el que funciona `pandas`).\n",
    "\n",
    "Cuando trabajamos en memoria tenemos las siguientes consideraciones:\n",
    "\n",
    "* Las operaciones sobre la memoria RAM suelen ser más rápidas en comparación con el disco.\n",
    "* Generalmente el tamaño de la memoria RAM es menor en comparación con el tamaño de almacenamiento en disco, lo cual impone una restricción sobre el número de datos que se pueden manipular.\n",
    "\n",
    "Veamos un ejemplo en _Python_:"
   ]
  },
  {
   "cell_type": "code",
   "execution_count": 4,
   "id": "7e82070e",
   "metadata": {
    "id": "7e82070e"
   },
   "outputs": [
    {
     "name": "stdout",
     "output_type": "stream",
     "text": [
      "<sqlite3.Connection object at 0x0000019664018040>\n",
      "<class 'sqlite3.Connection'>\n"
     ]
    }
   ],
   "source": [
    "connection = sqlite3.connect(\":memory:\")\n",
    "print(connection)\n",
    "print(type(connection))\n",
    "connection.close()"
   ]
  },
  {
   "cell_type": "markdown",
   "id": "3bf56a79",
   "metadata": {
    "id": "3bf56a79"
   },
   "source": [
    "Para el siguiente ejemplo, crearemos una base de datos persistida:"
   ]
  },
  {
   "cell_type": "code",
   "execution_count": 5,
   "id": "2d35225b",
   "metadata": {
    "id": "2d35225b"
   },
   "outputs": [],
   "source": [
    "connection = sqlite3.connect(\"database.db\")"
   ]
  },
  {
   "cell_type": "markdown",
   "id": "a06c0bf7",
   "metadata": {
    "id": "a06c0bf7"
   },
   "source": [
    "## **3. Creación del Cursor**\n",
    "---\n",
    "\n",
    "Generalmente los drivers para conexión a distintas bases de datos definen un objeto de tipo [cursor](https://es.wikipedia.org/wiki/Cursor_(base_de_datos)) con el cual controlamos la ejecución de comandos o consultas (query)."
   ]
  },
  {
   "cell_type": "code",
   "execution_count": 6,
   "id": "b9e3a874",
   "metadata": {
    "id": "b9e3a874"
   },
   "outputs": [],
   "source": [
    "cursor = connection.cursor()"
   ]
  },
  {
   "cell_type": "markdown",
   "id": "a31ebaba",
   "metadata": {
    "id": "a31ebaba"
   },
   "source": [
    "## **4. Ejecución de Consulta**\n",
    "---\n",
    "\n",
    "Veamos cómo ejecutar una consulta SQL con el cursor (en el notebook `3_conceptos_sql.ipynb` encontrará más información de la sintaxis SQL estándar."
   ]
  },
  {
   "cell_type": "code",
   "execution_count": 7,
   "id": "7f3b97e9",
   "metadata": {
    "id": "7f3b97e9"
   },
   "outputs": [
    {
     "data": {
      "text/plain": [
       "<sqlite3.Cursor at 0x19663fee9c0>"
      ]
     },
     "execution_count": 7,
     "metadata": {},
     "output_type": "execute_result"
    }
   ],
   "source": [
    "query = \"\"\"\n",
    "CREATE TABLE test (\n",
    "    id INTEGER PRIMARY KEY,\n",
    "    age INTEGER,\n",
    "    name VARCHAR(255)\n",
    "    )\n",
    ";\n",
    "\"\"\"\n",
    "cursor.execute(query)"
   ]
  },
  {
   "cell_type": "markdown",
   "id": "099bd920",
   "metadata": {
    "id": "099bd920"
   },
   "source": [
    "El método `commit` da persistencia de las operaciones que estamos realizando, se suele usar cuando insertamos/creamos/actualizamos datos."
   ]
  },
  {
   "cell_type": "code",
   "execution_count": 8,
   "id": "c32ea805",
   "metadata": {
    "id": "c32ea805"
   },
   "outputs": [],
   "source": [
    "connection.commit()"
   ]
  },
  {
   "cell_type": "markdown",
   "id": "47204f48",
   "metadata": {
    "id": "47204f48"
   },
   "source": [
    "## **5. Validación**\n",
    "---\n",
    "\n",
    "Podemos revisar el tamaño del fichero creado para evidenciar que se ha guardado la información"
   ]
  },
  {
   "cell_type": "code",
   "execution_count": 9,
   "id": "88bd45c2",
   "metadata": {
    "id": "88bd45c2"
   },
   "outputs": [
    {
     "name": "stderr",
     "output_type": "stream",
     "text": [
      "\"ls\" no se reconoce como un comando interno o externo,\n",
      "programa o archivo por lotes ejecutable.\n"
     ]
    }
   ],
   "source": [
    "!ls -l database.db"
   ]
  },
  {
   "cell_type": "markdown",
   "id": "a6f96205",
   "metadata": {
    "id": "a6f96205"
   },
   "source": [
    "Finalmente cerramos la conexión:"
   ]
  },
  {
   "cell_type": "code",
   "execution_count": 10,
   "id": "aee39c54",
   "metadata": {
    "id": "aee39c54"
   },
   "outputs": [],
   "source": [
    "connection.close()"
   ]
  },
  {
   "cell_type": "markdown",
   "id": "d8e8567e",
   "metadata": {
    "id": "d8e8567e"
   },
   "source": [
    "## **6. Recursos Adicionales**\n",
    "---\n",
    "\n",
    "* [SQLite Documentation](https://www.sqlite.org/docs.html)\n",
    "* [sqlite3 — DB-API 2.0 interface for SQLite databases](https://docs.python.org/3/library/sqlite3.html)"
   ]
  },
  {
   "cell_type": "markdown",
   "id": "26ce75dd",
   "metadata": {
    "id": "26ce75dd"
   },
   "source": [
    "## **7. Créditos**\n",
    "---\n",
    "\n",
    "**Profesor**\n",
    "\n",
    "- [Jorge E. Camargo, PhD](https://dis.unal.edu.co/~jecamargom/)\n",
    "\n",
    "**Diseño, desarrollo del notebook y material audiovisual**\n",
    "\n",
    "- [Juan S. Lara MSc](https://www.linkedin.com/in/juan-sebastian-lara-ramirez-43570a214/)\n",
    "\n",
    "**Universidad Nacional de Colombia** - *Facultad de Ingeniería*"
   ]
  }
 ],
 "metadata": {
  "colab": {
   "private_outputs": true,
   "provenance": []
  },
  "gpuClass": "standard",
  "jupytext": {
   "cell_metadata_filter": "-all",
   "main_language": "python",
   "notebook_metadata_filter": "-all"
  },
  "kernelspec": {
   "display_name": "Python 3 (ipykernel)",
   "language": "python",
   "name": "python3"
  },
  "language_info": {
   "codemirror_mode": {
    "name": "ipython",
    "version": 3
   },
   "file_extension": ".py",
   "mimetype": "text/x-python",
   "name": "python",
   "nbconvert_exporter": "python",
   "pygments_lexer": "ipython3",
   "version": "3.11.5"
  }
 },
 "nbformat": 4,
 "nbformat_minor": 5
}
