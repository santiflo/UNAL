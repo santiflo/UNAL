{
 "cells": [
  {
   "cell_type": "markdown",
   "id": "40464b14",
   "metadata": {
    "id": "40464b14"
   },
   "source": [
    "  <img src = \"https://drive.google.com/uc?export=view&id=1K9OCVYN1o-SI5c11HV1z2R-ruaN4IQet\" alt = \"Encabezado MLDS unidad 1\" width = \"100%\">  </img>"
   ]
  },
  {
   "cell_type": "markdown",
   "id": "995830e6",
   "metadata": {
    "id": "995830e6"
   },
   "source": [
    "# **Taller 1 : SQLite y Pandas**\n",
    "---\n",
    "\n",
    "En este taller se evaluarán las habilidades adquiridas usando _Python_ en el manejo de la librería _SQLite_. Usted deberá realizar algunas operaciones de consulta de bases de datos con la librería `sqlite3` de la librería estándar de _Python_ para una base de datos real con información histórica del campeonato de _Fórmula 1_.\n",
    "\n",
    "> **Nota:** Esta tarea va a ser calificada en la plataforma **[UNCode](https://juezun.github.io/)**. Para esto, en cada ejercicio se indicará si es calificable o no, también los lugares donde debe escribir su código sin modificar lo demás con un aproximado de cantidad de líneas a escribir. No se preocupe si su código toma más líneas, esto es simplemente un aproximado destinado a que pueda replantear su estrategia si el código está tomando más de las esperadas. No es un requisito estricto y soluciones más largas también son válidas. Al finalizar, para realizar el envío (*submission*), descargue el notebook como un archivo **`.ipynb`** y haga su entrega a través de **Edunext**."
   ]
  },
  {
   "cell_type": "markdown",
   "id": "7a9f62db",
   "metadata": {
    "id": "7a9f62db"
   },
   "source": [
    "Ejecute la siguiente celda para importar las librerías."
   ]
  },
  {
   "cell_type": "code",
   "execution_count": null,
   "id": "bdc9bb4b",
   "metadata": {
    "id": "bdc9bb4b"
   },
   "outputs": [],
   "source": [
    "# Importar librerías\n",
    "import sqlite3\n",
    "import numpy as np\n",
    "import pandas as pd"
   ]
  },
  {
   "cell_type": "code",
   "execution_count": null,
   "id": "c5c019ae",
   "metadata": {
    "id": "c5c019ae"
   },
   "outputs": [],
   "source": [
    "#TEST_CELL\n",
    "# !python --version\n",
    "\n",
    "import platform\n",
    "print('SQLite (Python):', platform.python_version())\n",
    "print('NumPy', np.__version__)\n",
    "print('Pandas', pd.__version__)"
   ]
  },
  {
   "cell_type": "markdown",
   "id": "45dc957a",
   "metadata": {
    "id": "45dc957a"
   },
   "source": [
    "Este material fue realizado con las siguientes versiones:\n",
    "\n",
    "- Python: 3.7.10\n",
    "- SQLite (Python): 3.7.10\n",
    "- NumPy: 1.19.5\n",
    "- Pandas: 1.1.5"
   ]
  },
  {
   "cell_type": "markdown",
   "id": "effcd00f",
   "metadata": {
    "id": "effcd00f"
   },
   "source": [
    "## **Base de datos**\n",
    "---\n",
    "\n",
    "En esta tarea se va a utilizar el conjunto de datos [**Formula 1 Race Data**](https://www.kaggle.com/cjgdev/formula-1-race-data-19502017) de _Kaggle_, y en particular, una [versión](https://www.kaggle.com/davidcochran/formula-1-race-data-sqlite) del conjunto de datos construido para su uso en el formato del estándar _SQLite_. Este fue recopilado de la plataforma [**Ergast**](http://ergast.com/mrd/) y contiene información de la competición entre los años $1950$ y $2017$ y está compuesto por varias tablas para los conductores, circuitos, fabricantes y carreras, entre otros.\n",
    "\n",
    "Para cargar el conjunto de datos realizaremos una conexión a un archivo local con extensión `.sqlite`. Ejecute la siguiente celda para descargar el archivo:\n",
    "\n",
    "> **Nota**: El archivo `formula1.sqlite` estará en el ambiente de _UNCode_, no se preocupe por ello."
   ]
  },
  {
   "cell_type": "code",
   "execution_count": null,
   "id": "d24b36e3",
   "metadata": {
    "id": "d24b36e3"
   },
   "outputs": [],
   "source": [
    "# TEST_CELL\n",
    "!wget 'https://drive.google.com/uc?export=view&id=1DupYqI2NnceaeVkGyvkMOVmcJsY1rKg9' -O formula1.sqlite"
   ]
  },
  {
   "cell_type": "markdown",
   "id": "9d774547",
   "metadata": {
    "id": "9d774547"
   },
   "source": [
    "### Comandos PRAGMA de SQLite\n",
    "\n",
    "---\n",
    "\n",
    "La sentencia **PRAGMA** es una extensión específica de *SQLite* utilizada para modificar el comportamiento o las operaciones de la librería de SQLite mediante el llamado a funciones especiales y/o para consultar dicha librería en busca de datos internos (que no sean tablas).\n",
    "\n",
    "Existen 4 categorías de pragmas disponibles:\n",
    "\n",
    "*   Los pragmas utilizados para consultar el esquema de la base de datos actual.\n",
    "*   Los usados para analizar y depurar la biblioteca. Así se logra verificar que los archivos de la base de datos no estén corruptos.\n",
    "*   Los pragmas empleados para consultar o modificar los valores de las versiones de las bases de datos: la versión del esquema, la cual manipulada por SQLite internamente, y la versión del usuario, que es utilizada por las aplicaciones para cualquier propósito.\n",
    "*   Por último, los pragmas empleados para, como mencionamos anteriormente, para consultar el modo de funcionamiento actual de la librería de SQLite o modificarlo.\n",
    "\n",
    "> Si se utiliza una sentencia **PRAGMA** que no sea reconocida por el lenguaje, *SQLite* simplemente la ignora y no efectúa la acción del pragma específicado. De igual manera, si hay un error tipográfico al momento de declarar un pragma, la librería no informa al usuario del error, solo continúa con la ejecución del resto de sentencias.\n",
    "\n",
    "Algunas de las funciones PRAGMA más utilizadas son:\n",
    "\n",
    "*   `foreign_key_check`: permite verificar cuales restricciones de las llaves foráneas existentes en la base de datos están siendo infringidas o vulneradas. En caso de que se requieran verifican solo las llaves foráneas de una tabla en específico, se adiciona el nombre de la tabla como argumento a la función ➡️ `foreign_key_check (table-name)`.\n",
    "\n",
    "*   `foreign_key_list(table-name)`: este retorna una lista de todas las restricciones de llaves foráneas que contiene la tabla específicada.\n",
    "\n",
    "*   `foreign_keys = boolean`: permite consultar, establecer o eliminar la aplicación de las restricciones de las llaves foráneas en la base de datos. Tenga en cuenta que, una vez *modificadas* dichas llaves, se ven afectados todas las consultas o declaraciones preparadas con antelación.\n",
    "\n",
    "*   `query_only = boolean`: esta sentencia previene que se modifiquen los datos de la base de datos. Cuando este pragma está activo, cualquier intento con las sentencias `CREATE`, `DROP`, `DELETE`, `UPDATE` o `INSERT` resultarán en un mensaje de error `SQLITE_READONLY` indicando que no se tienen permisos de escritura.\n",
    "\n",
    "*   `table_info(table-name)`: retorna una fila por cada columna en la tabla indicada. Cada fila incluye el nombre de la columna, el tipo de datos que acepta, si la misma puede contener un valor nulo o no, el valor predeterminado de la columna. Además, incluye un campo *pk* el cual contiene un 0 si la columna no es la llave primaria, en caso contario, contendrá el valor del índice que ocupe la columna de la llave primaria en la tabla.\n",
    "\n",
    "> Los PRAGMAs que retornan un resultado y no involucran una modificación en los datos pueden ser utilizados junto a la sentencia (`SELECT`).\n",
    "\n",
    "Ahora, iniciamos la conexión:"
   ]
  },
  {
   "cell_type": "code",
   "execution_count": null,
   "id": "797526fc",
   "metadata": {
    "id": "797526fc"
   },
   "outputs": [],
   "source": [
    "# TEST_CELL\n",
    "# Iniciamos y configuramos la conexión con la\n",
    "# base de datos en modo de solo consulta.\n",
    "conn = sqlite3.connect(\"formula1.sqlite\")\n",
    "conn.execute('PRAGMA query_only = ON')\n",
    "conn.commit()"
   ]
  },
  {
   "cell_type": "markdown",
   "id": "c1c52189",
   "metadata": {
    "id": "c1c52189"
   },
   "source": [
    "En este caso, trabajaremos con 4 de las tablas disponibles. Estas son la tabla de conductores (`drivers`), circuitos (`circuits`), carreras (`races`) y resultados (`results`). Tenemos el siguiente modelo de datos:\n",
    "\n",
    "<img src=\"https://drive.google.com/uc?export=view&id=1g5LKZFSNuwbazl168jCNVzg9yVyIndNO\" width=\"70%\" alt=\"Diagrama base de datos\"></img>\n",
    "\n",
    "Veamos los campos de cada una de ellas:"
   ]
  },
  {
   "cell_type": "markdown",
   "id": "d805d342",
   "metadata": {
    "id": "d805d342"
   },
   "source": [
    "### **Tabla de conductores.**"
   ]
  },
  {
   "cell_type": "code",
   "execution_count": null,
   "id": "f9c00b73",
   "metadata": {
    "id": "f9c00b73"
   },
   "outputs": [],
   "source": [
    "#TEST_CELL\n",
    "# Campos de la tabla de conductores.\n",
    "query = \"PRAGMA table_info(drivers);\"\n",
    "pd.read_sql(query, conn)"
   ]
  },
  {
   "cell_type": "markdown",
   "id": "da50a2d5",
   "metadata": {
    "id": "da50a2d5"
   },
   "source": [
    "### **Tabla de circuitos.**"
   ]
  },
  {
   "cell_type": "code",
   "execution_count": null,
   "id": "5f733859",
   "metadata": {
    "id": "5f733859"
   },
   "outputs": [],
   "source": [
    "#TEST_CELL\n",
    "# Campos de la tabla de circuitos.\n",
    "query = \"PRAGMA table_info(circuits);\"\n",
    "pd.read_sql(query, conn)"
   ]
  },
  {
   "cell_type": "markdown",
   "id": "eee18869",
   "metadata": {
    "id": "eee18869"
   },
   "source": [
    "### **Tabla de carreras.**"
   ]
  },
  {
   "cell_type": "code",
   "execution_count": null,
   "id": "1344ddcb",
   "metadata": {
    "id": "1344ddcb"
   },
   "outputs": [],
   "source": [
    "#TEST_CELL\n",
    "# Campos de la tabla de carreras.\n",
    "query = \"PRAGMA table_info(races);\"\n",
    "pd.read_sql(query, conn)"
   ]
  },
  {
   "cell_type": "markdown",
   "id": "b3cd17f5",
   "metadata": {
    "id": "b3cd17f5"
   },
   "source": [
    "### **Tabla de resultados**"
   ]
  },
  {
   "cell_type": "code",
   "execution_count": null,
   "id": "ac7c15e5",
   "metadata": {
    "id": "ac7c15e5",
    "lines_to_next_cell": 1
   },
   "outputs": [],
   "source": [
    "#TEST_CELL\n",
    "# Campos de la tabla de resultados.\n",
    "query = \"PRAGMA table_info(results);\"\n",
    "pd.read_sql(query, conn)"
   ]
  },
  {
   "cell_type": "markdown",
   "id": "8ec6da1f",
   "metadata": {
    "id": "8ec6da1f"
   },
   "source": [
    "## **1. Circuitos del Hemisferio Sur**\n",
    "---\n",
    "\n",
    "La primera tabla que consideraremos es la que contiene la lista de las pistas o circuitos (`circuits`) de la competición. En esta, se almacena información geográfica del circuito, como el país, ciudad y coordenadas geográficas de su ubicación exacta.\n",
    "\n",
    "> Las [coordenadas geográficas](https://es.wikipedia.org/wiki/Coordenadas_geogr%C3%A1ficas) permiten codificar la posición en el mundo de un punto determinado y están compuestas por los valores de **latitud** y **longitud**. La latitud representa el ángulo de la ubicación con respecto al plano del ecuador (con $-90°$ para el polo sur y $90°$ para el polo norte) y la longitud representa el ángulo con respecto al meridiano de _Greenwich_ (con valores de  $-180°$ hacia el occidente y $180°$ hacia el oriente).\n",
    "\n",
    "En este ejercicio usted deberá completar la función `south_circuits`, que retorne una cadena de texto con una **consulta SQL válida** que retorne el **país**, **ciudad** y **nombre** de los circuitos ubicados en el **hemisferio sur**.\n",
    "\n",
    "**Parámetros de entrada:**\n",
    "\n",
    "* No hay parámetros de entrada para esta función.\n",
    "\n",
    "**Salida:**\n",
    "\n",
    "* `query`: cadena de texto con una consulta válida de _SQLite_."
   ]
  },
  {
   "cell_type": "code",
   "execution_count": null,
   "id": "90e2da9c",
   "metadata": {
    "id": "90e2da9c",
    "lines_to_next_cell": 1
   },
   "outputs": [],
   "source": [
    "# FUNCIÓN CALIFICADA south_circuits:\n",
    "\n",
    "def south_circuits():\n",
    "    \"\"\"\n",
    "    Retorna:\n",
    "        query: cadena de texto con una consulta válida de SQLite.\n",
    "    \"\"\"\n",
    "    ### ESCRIBA SU CÓDIGO AQUÍ ### (~1-9 líneas de código (cadena de texto multilínea))\n",
    "    # Modifique la siguiente cadena de texto con la sintaxis\n",
    "    # necesaria para realizar la consulta indicada.\n",
    "\n",
    "    query = \"\"\"\n",
    "    SELECT\n",
    "        ...\n",
    "    FROM\n",
    "        ...\n",
    "    WHERE\n",
    "        ...\n",
    "    ;\n",
    "    \"\"\"\n",
    "    return query"
   ]
  },
  {
   "cell_type": "markdown",
   "id": "99118896",
   "metadata": {
    "id": "99118896"
   },
   "source": [
    "Use la siguiente celda para probar su consulta:"
   ]
  },
  {
   "cell_type": "code",
   "execution_count": null,
   "id": "dda6c360",
   "metadata": {
    "id": "dda6c360"
   },
   "outputs": [],
   "source": [
    "#TEST_CELL\n",
    "from IPython.display import display\n",
    "try:\n",
    "    display(pd.read_sql(south_circuits(), conn))\n",
    "except Exception as e:\n",
    "    print(\"La consulta retornada no es válida. Revise su solución y guíese del siguiente error:\")\n",
    "    print(e)"
   ]
  },
  {
   "cell_type": "markdown",
   "id": "f5422754",
   "metadata": {
    "id": "f5422754"
   },
   "source": [
    "**Salida esperada:**\n",
    "\n",
    "<table border=\"1\" class=\"dataframe\">\n",
    "  <thead>\n",
    "    <tr style=\"text-align: right;\">\n",
    "      <th></th>\n",
    "      <th>country</th>\n",
    "      <th>location</th>\n",
    "      <th>name</th>\n",
    "    </tr>\n",
    "  </thead>\n",
    "  <tbody>\n",
    "    <tr>\n",
    "      <th>0</th>\n",
    "      <td>Australia</td>\n",
    "      <td>Melbourne</td>\n",
    "      <td>Albert Park Grand Prix Circuit</td>\n",
    "    </tr>\n",
    "    <tr>\n",
    "      <th>1</th>\n",
    "      <td>Brazil</td>\n",
    "      <td>SÃ£o Paulo</td>\n",
    "      <td>AutÃ_dromo JosÃ© Carlos Pace</td>\n",
    "    </tr>\n",
    "    <tr>\n",
    "      <th>2</th>\n",
    "      <td>Argentina</td>\n",
    "      <td>Buenos Aires</td>\n",
    "      <td>AutÃ_dromo Juan y Oscar GÃ¡lvez</td>\n",
    "    </tr>\n",
    "    <tr>\n",
    "      <th>3</th>\n",
    "      <td>Australia</td>\n",
    "      <td>Adelaide</td>\n",
    "      <td>Adelaide Street Circuit</td>\n",
    "    </tr>\n",
    "    <tr>\n",
    "      <th>4</th>\n",
    "      <td>South Africa</td>\n",
    "      <td>Midrand</td>\n",
    "      <td>Kyalami</td>\n",
    "    </tr>\n",
    "    <tr>\n",
    "      <th>5</th>\n",
    "      <td>Brazil</td>\n",
    "      <td>Rio de Janeiro</td>\n",
    "      <td>AutÃ_dromo Internacional Nelson Piquet</td>\n",
    "    </tr>\n",
    "    <tr>\n",
    "      <th>6</th>\n",
    "      <td>South Africa</td>\n",
    "      <td>Eastern Cape Province</td>\n",
    "      <td>Prince George Circuit</td>\n",
    "    </tr>\n",
    "  </tbody>\n",
    "</table>"
   ]
  },
  {
   "cell_type": "markdown",
   "id": "4e1c0ee6",
   "metadata": {
    "id": "4e1c0ee6"
   },
   "source": [
    "<details>    \n",
    "<summary>\n",
    "    <font size=\"3\" color=\"darkgreen\"><b>Pista 1</b></font>\n",
    "</summary>\n",
    "\n",
    "* Verifique los campos seleccionados con su consulta y asegúrese de indicarlas en minúsculas. Estas deben ser, en ese orden:\n",
    "  * `country`: país.\n",
    "  * `location`: ciudad.\n",
    "  * `name`: nombre del circuito.\n",
    "</details>"
   ]
  },
  {
   "cell_type": "markdown",
   "id": "f3fdc2d4",
   "metadata": {
    "id": "f3fdc2d4"
   },
   "source": [
    "<details>    \n",
    "<summary>\n",
    "    <font size=\"3\" color=\"darkgreen\"><b>Pista 2</b></font>\n",
    "</summary>\n",
    "\n",
    "* Los puntos ubicados en el hemisferio sur son aquellos con valores negativos de **latitud**. Utilice una expresión `WHERE` para condicionar la consulta a los valores negativos del campo `lat` de la tabla."
   ]
  },
  {
   "cell_type": "markdown",
   "id": "07e8677f",
   "metadata": {
    "id": "07e8677f"
   },
   "source": [
    "## **2. Pilotos de una Nacionalidad Específica**\n",
    "---\n",
    "\n",
    "Otra de las tablas disponibles en la base de datos es la tabla de los pilotos (`drivers`) con información básica como sus códigos de identificación, nombres, apellidos, fecha de nacimiento, nacionalidad y una url de *Wikipedia* con más información.\n",
    "\n",
    "> Para conocer las nacionalidades únicas de la base de datos, podemos utilizar la palabra clave `DISTINCT`, que permite obtener los valores sin repeticiones de un campo determinado."
   ]
  },
  {
   "cell_type": "code",
   "execution_count": null,
   "id": "61788b50",
   "metadata": {
    "id": "61788b50",
    "lines_to_next_cell": 1
   },
   "outputs": [],
   "source": [
    "#TEST_CELL\n",
    "# Nacionalidades únicas del campo 'nationality'.\n",
    "query = \"\"\"\n",
    "SELECT DISTINCT\n",
    "    nationality\n",
    "FROM\n",
    "    drivers\n",
    ";\n",
    "\"\"\"\n",
    "pd.read_sql(query, conn)"
   ]
  },
  {
   "cell_type": "markdown",
   "id": "f53bfe0d",
   "metadata": {
    "id": "f53bfe0d"
   },
   "source": [
    "En este ejercicio usted deberá completar la función `drivers_by_nation`, que reciba una cadena de texto con una nacionalidad (correspondiente a valores del campo `nationality`) y retorne una cadena de texto con una consulta SQL válida que permita obtener el **nombre**, **apellido** y **url** de los pilotos de dicha nacionalidad.\n",
    "\n",
    "**Parámetros de entrada:**\n",
    "\n",
    "* `nationality`: cadena de texto con la nacionalidad de los conductores que se desean obtener, que corresponde a alguno de los valores de la tabla anterior.\n",
    "\n",
    "**Salida:**\n",
    "\n",
    "* `query`: cadena de texto con una consulta válida de _SQLite_."
   ]
  },
  {
   "cell_type": "code",
   "execution_count": null,
   "id": "4cf509b1",
   "metadata": {
    "id": "4cf509b1",
    "lines_to_next_cell": 1
   },
   "outputs": [],
   "source": [
    "# FUNCIÓN CALIFICADA drivers_by_nation:\n",
    "\n",
    "def drivers_by_nation(nationality):\n",
    "    \"\"\"\n",
    "    Entradas:\n",
    "        nationality: cadena de texto con la nacionalidad de los conductores.\n",
    "    Retorna:\n",
    "        query: cadena de texto con una consulta válida de SQLite.\n",
    "    \"\"\"\n",
    "    ### ESCRIBA SU CÓDIGO AQUÍ ### (~1-9 líneas de código (cadena de texto multilínea))\n",
    "    # Modifique la siguiente cadena de texto con la sintaxis\n",
    "    # necesaria para realizar la consulta indicada.\n",
    "    query = \"\"\"\n",
    "    SELECT\n",
    "        ...\n",
    "    FROM\n",
    "      ...\n",
    "    \"\"\"\n",
    "    return query.format(nationality)"
   ]
  },
  {
   "cell_type": "markdown",
   "id": "c954aab2",
   "metadata": {
    "id": "c954aab2"
   },
   "source": [
    "Use la siguiente celda para probar su código:"
   ]
  },
  {
   "cell_type": "code",
   "execution_count": null,
   "id": "38533a9a",
   "metadata": {
    "id": "38533a9a",
    "lines_to_next_cell": 1
   },
   "outputs": [],
   "source": [
    "#TEST_CELL\n",
    "from IPython.display import display\n",
    "try:\n",
    "    display(pd.read_sql(drivers_by_nation('Colombian'), conn))\n",
    "except Exception as e:\n",
    "    print(\"La consulta retornada no es válida. Revise su solución y guíese del siguiente error:\")\n",
    "    print(e)"
   ]
  },
  {
   "cell_type": "markdown",
   "id": "ebba66e5",
   "metadata": {
    "id": "ebba66e5"
   },
   "source": [
    "**Salida esperada:**\n",
    "\n",
    "| | forename | surname | url |\n",
    "|--- | --- | --- | --- |\n",
    "| 0 | Juan | Pablo Montoya | http://en.wikipedia.org/wiki/Juan_Pablo_Montoya |\n",
    "| 1 | Roberto | Guerrero | http://en.wikipedia.org/wiki/Roberto_Guerrero |\n",
    "| 2 | Ricardo | Londo̱o | http://en.wikipedia.org/wiki/Ricardo_Londo%C3%B1o |"
   ]
  },
  {
   "cell_type": "markdown",
   "id": "eae7f8fd",
   "metadata": {
    "id": "eae7f8fd"
   },
   "source": [
    "<details>    \n",
    "<summary>\n",
    "    <font size=\"3\" color=\"darkgreen\"><b>Pista 1</b></font>\n",
    "</summary>\n",
    "\n",
    "* Verifique los campos seleccionados con su consulta y asegúrese de indicarlas en minúsculas. Estas deben ser, en ese orden:\n",
    "  * `forename`: nombres.\n",
    "  * `surname`: apellidos.\n",
    "  * `url`: url de _Wikipedia_.\n",
    "</details>"
   ]
  },
  {
   "cell_type": "markdown",
   "id": "6ab499d3",
   "metadata": {
    "id": "6ab499d3"
   },
   "source": [
    "<details>    \n",
    "<summary>\n",
    "    <font size=\"3\" color=\"darkgreen\"><b>Pista 2</b></font>\n",
    "</summary>\n",
    "\n",
    "* Utilice una expresión `WHERE` para condicionar la consulta a los valores exactos del campo `nationality`. Utilice una cadena de texto [**f-string**](https://realpython.com/python-f-strings/) o métodos similares como la concatenación de cadenas de texto para usar el valor dado como argumento.\n",
    "\n",
    "Es importante que tenga en cuenta el uso de comillas. De lo contrario se interpretará el valor como el nombre de una variable, en vez de una cadena de texto. La cadena de su respuesta debería quedar:\n",
    "\n",
    "```sql\n",
    "...\n",
    "WHERE\n",
    "  _______ = 'Colombian'\n",
    "...\n",
    "```\n",
    "\n",
    "Si por el contrario queda como se muestra a continuación no se obtendrá un resultado correcto pues el motor intentará encontrar la variable `Colombian`.\n",
    "\n",
    "```sql\n",
    "...\n",
    "WHERE\n",
    "  _______ = Colombian\n",
    "...\n",
    "```"
   ]
  },
  {
   "cell_type": "markdown",
   "id": "5f7f5d82",
   "metadata": {
    "id": "5f7f5d82"
   },
   "source": [
    "## **3. Número de Conductores por Nacionalidad**\n",
    "---\n",
    "En este caso también se utilizará la tabla de pilotos ( `drivers` ) utilizada en el ejercicio 2. Tabla que almacena atributos de cada piloto como su nombre, apellido, edad de nacimiento e inclusive una URL que apunta a *Wikipedia* donde se expande aún más la información.\n",
    "\n",
    "> * Para conocer el número de conductores por nacionalidad se debe usar la función de agregación de SQL `COUNT()` que cuenta la cantidad de filas retornadas por una operación de selección `SELECT`\n",
    "* Las funciones de agregación como `COUNT(), AVG(), SUM()`, entre otras, generan un campo (o columna) adicional  en las tablas retornadas por un *query*. Para este caso la función `COUNT()` genera un nuevo columna que debe ser renombrado en letras minúsculas y exactamente como `counts`\n",
    "\n",
    "\n",
    "En este ejercicio usted deberá completar la función `number_drivers_nation()`, que retorne una cadena de texto con una **consulta SQL válida** que retorne **TODAS** las nacionalidades con una cuenta de la cantidad de **TODOS** los pilotos que hay en cada una de ellas.\n",
    "\n",
    "**Parámetros de entrada:**\n",
    "\n",
    "* No hay parámetros de entrada para esta función.\n",
    "\n",
    "**Salida:**\n",
    "\n",
    "* `query`: cadena de texto con una consulta válida de _SQLite_."
   ]
  },
  {
   "cell_type": "code",
   "execution_count": null,
   "id": "61b86401",
   "metadata": {
    "id": "61b86401",
    "lines_to_next_cell": 1
   },
   "outputs": [],
   "source": [
    "# FUNCIÓN CALIFICADA number_drivers_nation:\n",
    "\n",
    "def number_drivers_nation():\n",
    "    \"\"\"\n",
    "    Retorna:\n",
    "        query: cadena de texto con una consulta válida de SQLite.\n",
    "    \"\"\"\n",
    "    ### ESCRIBA SU CÓDIGO AQUÍ ### (~1-9 líneas de código (cadena de texto multilínea))\n",
    "    # Modifique la siguiente cadena de texto con la sintaxis\n",
    "    # necesaria para realizar la consulta indicada.\n",
    "    query = \"\"\"\n",
    "    SELECT\n",
    "        ...\n",
    "    FROM\n",
    "      ...\n",
    "    \"\"\"\n",
    "    return query"
   ]
  },
  {
   "cell_type": "markdown",
   "id": "4cc3f932",
   "metadata": {
    "id": "4cc3f932"
   },
   "source": [
    "Use la siguiente celda para probar su código:"
   ]
  },
  {
   "cell_type": "code",
   "execution_count": null,
   "id": "3801af51",
   "metadata": {
    "id": "3801af51",
    "lines_to_next_cell": 1
   },
   "outputs": [],
   "source": [
    "from IPython.display import display\n",
    "try:\n",
    "    display(pd.read_sql(number_drivers_nation(), conn).head(10))\n",
    "except Exception as e:\n",
    "    print(\"La consulta retornada no es válida. Revise su solución y guíese del siguiente error:\")\n",
    "    print(e)"
   ]
  },
  {
   "cell_type": "markdown",
   "id": "35cdaa0b",
   "metadata": {
    "id": "35cdaa0b"
   },
   "source": [
    "**Salida esperada:**"
   ]
  },
  {
   "cell_type": "markdown",
   "id": "29379d76",
   "metadata": {
    "id": "29379d76"
   },
   "source": [
    "|    | nationality       |   counts |\n",
    "|---:|:------------------|---------:|\n",
    "|  0 | American          |      157 |\n",
    "|  1 | American-Italian  |        1 |\n",
    "|  2 | Argentine         |       24 |\n",
    "|  3 | Argentine-Italian |        1 |\n",
    "|  4 | Australian        |       17 |\n",
    "|  5 | Austrian          |       15 |\n",
    "|  6 | Belgian           |       23 |\n",
    "|  7 | Brazilian         |       31 |\n",
    "|  8 | British           |      162 |\n",
    "|  9 | Canadian          |       13 |"
   ]
  },
  {
   "cell_type": "markdown",
   "id": "037e3111",
   "metadata": {
    "id": "037e3111"
   },
   "source": [
    "<details>    \n",
    "<summary>\n",
    "    <font size=\"3\" color=\"darkgreen\"><b>Pista 1</b></font>\n",
    "</summary>\n",
    "\n",
    "* Verifique el campo seleccionado con su consulta y asegúrese de indicarlo en minúscula. Este debe ser:\n",
    "  * `nationality`: país\n",
    "</details>"
   ]
  },
  {
   "cell_type": "markdown",
   "id": "0ccc9b9e",
   "metadata": {
    "id": "0ccc9b9e"
   },
   "source": [
    "<details>    \n",
    "<summary>\n",
    "    <font size=\"3\" color=\"darkgreen\"><b>Pista 2</b></font>\n",
    "</summary>\n",
    "\n",
    "* Recuerde que para renombrar un campo en una tabla retornada por un *query* se debe usar, después del nombre del campo o de la función de agregación, la sentencia `AS` y posteriormente agregar el nombre deseado.\n",
    "</details>"
   ]
  },
  {
   "cell_type": "markdown",
   "id": "8479f594",
   "metadata": {
    "id": "8479f594"
   },
   "source": [
    "<details>    \n",
    "<summary>\n",
    "    <font size=\"3\" color=\"darkgreen\"><b>Pista 3</b></font>\n",
    "</summary>\n",
    "\n",
    "* Su consulta debería incluir la sentencia `GROUP BY` al campo `nationality`, ya que debe hacer la cuenta de todos los pilotos por cada nacionalidad *diferente*.\n",
    "</details>"
   ]
  },
  {
   "cell_type": "markdown",
   "id": "c79a4a2f",
   "metadata": {
    "id": "c79a4a2f"
   },
   "source": [
    "## **4. Número de Ciudades donde hay Carreras por País**"
   ]
  },
  {
   "cell_type": "markdown",
   "id": "3b282154",
   "metadata": {
    "id": "3b282154"
   },
   "source": [
    "Para este ejercicio consideraremos nuevamente la tabla (`circuits`) ya que esta es la que contiene la información acerca de la ubicación de cada carrera. En este caso necesitaremos el país y la ciudad donde ocurre cada una de estas.\n",
    "\n",
    "> La función `COUNT` retorna el número de filas que coinciden con un criterio específico.\n",
    "\n",
    "En este ejercicio usted debe completar la función `number_cities_country`, la cual deberá retornar una cadena de texto con una **consulta SQL válida** que contenga el **país** y la **cantidad de ciudades** de este donde se lleva a cabo al menos una carrera.\n",
    "\n",
    "**Parámetros de entrada:**\n",
    "\n",
    "* No hay parámetros de entrada para esta función.\n",
    "\n",
    "**Salida:**\n",
    "\n",
    "* `query`: cadena de texto con una consulta válida de _SQLite_."
   ]
  },
  {
   "cell_type": "code",
   "execution_count": null,
   "id": "f82f217e",
   "metadata": {
    "id": "f82f217e",
    "lines_to_next_cell": 1
   },
   "outputs": [],
   "source": [
    "def number_cities_country():\n",
    "    \"\"\"\n",
    "    Retorna:\n",
    "        query: cadena de texto con una consulta válida de SQLite.\n",
    "    \"\"\"\n",
    "    ### ESCRIBA SU CÓDIGO AQUÍ ### (~1-9 líneas de código (cadena de texto multilínea))\n",
    "    # Modifique la siguiente cadena de texto con la sintaxis\n",
    "    # necesaria para realizar la consulta indicada.\n",
    "    query = \"\"\"\n",
    "    SELECT\n",
    "        ...\n",
    "    FROM\n",
    "      ...\n",
    "    \"\"\"\n",
    "    return query"
   ]
  },
  {
   "cell_type": "code",
   "execution_count": null,
   "id": "c9b33622",
   "metadata": {
    "id": "c9b33622",
    "lines_to_next_cell": 1
   },
   "outputs": [],
   "source": [
    "from IPython.display import display\n",
    "try:\n",
    "    display(pd.read_sql(number_cities_country(), conn).head(10))\n",
    "except Exception as e:\n",
    "    print(\"La consulta retornada no es válida. Revise su solución y guíese del siguiente error:\")\n",
    "    print(e)"
   ]
  },
  {
   "cell_type": "markdown",
   "id": "84c4915b",
   "metadata": {
    "id": "84c4915b"
   },
   "source": [
    "**Salida esperada:**\n",
    "<table border=\"1\" class=\"dataframe\">\n",
    "  <thead>\n",
    "    <tr style=\"text-align: right;\">\n",
    "      <th></th>\n",
    "      <th>country</th>\n",
    "      <th>counts</th>\n",
    "    </tr>\n",
    "  </thead>\n",
    "  <tbody>\n",
    "    <tr>\n",
    "      <th>0</th>\n",
    "      <td>Argentina</td>\n",
    "      <td>1</td>\n",
    "    </tr>\n",
    "    <tr>\n",
    "      <th>1</th>\n",
    "      <td>Australia</td>\n",
    "      <td>2</td>\n",
    "    </tr>\n",
    "    <tr>\n",
    "      <th>2</th>\n",
    "      <td>Austria</td>\n",
    "      <td>2</td>\n",
    "    </tr>\n",
    "    <tr>\n",
    "      <th>3</th>\n",
    "      <td>Azerbaijan</td>\n",
    "      <td>1</td>\n",
    "    </tr>\n",
    "    <tr>\n",
    "      <th>4</th>\n",
    "      <td>Bahrain</td>\n",
    "      <td>1</td>\n",
    "    </tr>\n",
    "    <tr>\n",
    "      <th>5</th>\n",
    "      <td>Belgium</td>\n",
    "      <td>3</td>\n",
    "    </tr>\n",
    "    <tr>\n",
    "      <th>6</th>\n",
    "      <td>Brazil</td>\n",
    "      <td>2</td>\n",
    "    </tr>\n",
    "    <tr>\n",
    "      <th>7</th>\n",
    "      <td>Canada</td>\n",
    "      <td>3</td>\n",
    "    </tr>\n",
    "    <tr>\n",
    "      <th>8</th>\n",
    "      <td>China</td>\n",
    "      <td>1</td>\n",
    "    </tr>\n",
    "    <tr>\n",
    "      <th>9</th>\n",
    "      <td>France</td>\n",
    "      <td>7</td>\n",
    "    </tr>\n",
    "  </tbody>\n",
    "</table>"
   ]
  },
  {
   "cell_type": "markdown",
   "id": "05e4ac58",
   "metadata": {
    "id": "05e4ac58"
   },
   "source": [
    "<details>    \n",
    "<summary>\n",
    "    <font size=\"3\" color=\"darkgreen\"><b>Pista 1</b></font>\n",
    "</summary>\n",
    "\n",
    "* Las consultas deben indicarse en minúsculas. Estas deben seguir el siguiente orden:\n",
    "  * `country`: país.\n",
    "  * `counts`: cantidad de ciudades con carreras.\n",
    "</details>"
   ]
  },
  {
   "cell_type": "markdown",
   "id": "0159be6c",
   "metadata": {
    "id": "0159be6c"
   },
   "source": [
    "<details>    \n",
    "<summary>\n",
    "    <font size=\"3\" color=\"darkgreen\"><b>Pista 2</b></font>\n",
    "</summary>\n",
    "\n",
    "* Verifique el resultado del query. Tenga en cuenta que SQL tiene la palabra reservada `AS` para crear un *alias* y así renombrar una columna o tabla al realizar una consulta.\n",
    "</details>"
   ]
  },
  {
   "cell_type": "markdown",
   "id": "af2f58b5",
   "metadata": {
    "id": "af2f58b5"
   },
   "source": [
    "## **5. Número de Carreras por Año**\n",
    "---\n",
    "El ejercicio cinco usa la tabla de carreras ( `races` ). Tabla que almacena campos de cada carrera como el año cuando ocurrió (`year`), el ID de cada carrera (`raceId`), el nombre (`name`), fecha (`date`) e inclusive también una URL (`url`) que apunta a *Wikipedia* donde se expande aún más la información. No olvide que en la sección *Bases de datos* puede ver el modelo usado para todas las tablas.\n",
    "\n",
    "> * Para conocer el número de carreras por año se debe usar la función de agregación de SQL `COUNT()` que cuenta la cantidad de filas retornadas por una operación de selección `SELECT`.\n",
    "* La función `COUNT()` suele ser usada en las consultas donde aparece una sentencia `GROUP BY`.\n",
    "* Las funciones de agregación como `COUNT(), AVG(), SUM()`, entre otras, generan un campo (o columna) adicional  en las tablas retornadas por un *query*. Para este caso la función `COUNT()` genera una nuevo campo que debe ser renombrado en letras minúsculas y exactamente como `counts`.\n",
    "\n",
    "\n",
    "En este ejercicio usted deberá completar la función `number_races_year()`, que retorne una cadena de texto con una **consulta SQL válida** que retorne **TODOS** las años con una cuenta de la cantidad de **TODAS** los carreras que sucedieron anualmente.\n",
    "\n",
    "**Parámetros de entrada:**\n",
    "\n",
    "* No hay parámetros de entrada para esta función.\n",
    "\n",
    "**Salida:**\n",
    "\n",
    "* `query`: cadena de texto con una consulta válida de _SQLite_."
   ]
  },
  {
   "cell_type": "code",
   "execution_count": null,
   "id": "7afb1bca",
   "metadata": {
    "id": "7afb1bca",
    "lines_to_next_cell": 1
   },
   "outputs": [],
   "source": [
    "# FUNCIÓN CALIFICADA number_races_year:\n",
    "\n",
    "def number_races_year():\n",
    "    \"\"\"\n",
    "    Retorna:\n",
    "        query: cadena de texto con una consulta válida de SQLite.\n",
    "    \"\"\"\n",
    "    ### ESCRIBA SU CÓDIGO AQUÍ ### (~1-9 líneas de código (cadena de texto multilínea))\n",
    "    # Modifique la siguiente cadena de texto con la sintaxis\n",
    "    # necesaria para realizar la consulta indicada.\n",
    "    query = \"\"\"\n",
    "    SELECT\n",
    "        ...\n",
    "    FROM\n",
    "      ...\n",
    "    \"\"\"\n",
    "    return query"
   ]
  },
  {
   "cell_type": "markdown",
   "id": "51efc53f",
   "metadata": {
    "id": "51efc53f"
   },
   "source": [
    "Use la siguiente celda para probar su código:"
   ]
  },
  {
   "cell_type": "code",
   "execution_count": null,
   "id": "a47f00a7",
   "metadata": {
    "id": "a47f00a7",
    "lines_to_next_cell": 1
   },
   "outputs": [],
   "source": [
    "from IPython.display import display\n",
    "try:\n",
    "    display(pd.read_sql(number_races_year(), conn))\n",
    "except Exception as e:\n",
    "    print(\"La consulta retornada no es válida. Revise su solución y guíese del siguiente error:\")\n",
    "    print(e)"
   ]
  },
  {
   "cell_type": "markdown",
   "id": "373c7231",
   "metadata": {
    "id": "373c7231"
   },
   "source": [
    "**Salida esperada:**\n",
    "\n",
    "|    |   year |   counts |\n",
    "|---:|-------:|---------:|\n",
    "|  0 |   1950 |        7 |\n",
    "|  1 |   1951 |        8 |\n",
    "|  2 |   1952 |        8 |\n",
    "|  3 |   1953 |        9 |\n",
    "|  4 |   1954 |        9 |\n",
    "|  5 |   1955 |        7 |\n",
    "|  6 |   1956 |        8 |\n",
    "|  7 |   1957 |        8 |\n",
    "|  8 |   1958 |       11 |\n",
    "|  9 |   1959 |        9 |"
   ]
  },
  {
   "cell_type": "markdown",
   "id": "a110ced6",
   "metadata": {
    "id": "a110ced6"
   },
   "source": [
    "<details>    \n",
    "<summary>\n",
    "    <font size=\"3\" color=\"darkgreen\"><b>Pista 1</b></font>\n",
    "</summary>\n",
    "\n",
    "* Verifique el campo seleccionado con su consulta y asegúrese de indicarlo en minúscula. Este debe ser:\n",
    "  * `year`: año\n",
    "</details>"
   ]
  },
  {
   "cell_type": "markdown",
   "id": "fc9d5936",
   "metadata": {
    "id": "fc9d5936"
   },
   "source": [
    "<details>    \n",
    "<summary>\n",
    "    <font size=\"3\" color=\"darkgreen\"><b>Pista 2</b></font>\n",
    "</summary>\n",
    "\n",
    "* La función `COUNT()` para este caso debe ser usada con el campo `raceId` como *parámetro*. Recuerde que esta función puede ser usada como `COUNT(*)` que es su caso genérico, y para casos más específicos como `COUNT(parámetro)` donde el parámetro puede variar dependiendo de la especificidad o necesidad de cada consulta.\n",
    "</details>"
   ]
  },
  {
   "cell_type": "markdown",
   "id": "443e03ac",
   "metadata": {
    "id": "443e03ac"
   },
   "source": [
    "<details>    \n",
    "<summary>\n",
    "    <font size=\"3\" color=\"darkgreen\"><b>Pista 3</b></font>\n",
    "</summary>\n",
    "\n",
    "* El ejercicio 3 y 4 usan la función `COUNT()` también, compare los ejercicios y encontrará similitudes y diferencias que le ayudarán a resolver este ejercicio.\n",
    "</details>"
   ]
  },
  {
   "cell_type": "markdown",
   "id": "99d383bb",
   "metadata": {
    "id": "99d383bb"
   },
   "source": [
    "## **6. Total de Puntos por Nacionalidad**"
   ]
  },
  {
   "cell_type": "markdown",
   "id": "a0e2eb02",
   "metadata": {
    "id": "a0e2eb02"
   },
   "source": [
    "En este caso tomaremos en cuenta los datos de tres tablas: (`races`), (`drivers`) y (`results`) con la finalidad de obtener la información necesaria para resolver el ejercicio. La tabla (`drivers`) contiene la nacionalidad de los corredores, las cuales deben ser agrupadas para poder realizar el cálculo de la suma total de puntos obtenidos en las carreras.\n",
    "\n",
    "> La cláusula `INNER JOIN` busca coincidencias entre 2 tablas en función a una columna que tengan en común. La sentencia `GROUP BY` se utiliza para organizar datos idénticos en grupos con la ayuda de algunas funciones auxiliares o complementarias.\n",
    "\n",
    "\n",
    "En este ejercicio usted debe completar la función `points_year_nationality`, la cual deberá retornar una cadena de texto con una **consulta SQL válida** que contenga el total de puntos acumulados en la carreras por **nacionalidad**.\n",
    "\n",
    "**Parámetros de entrada:**\n",
    "\n",
    "* No hay parámetros de entrada para esta función.\n",
    "\n",
    "**Salida:**\n",
    "\n",
    "* `query`: cadena de texto con una consulta válida de _SQLite_."
   ]
  },
  {
   "cell_type": "code",
   "execution_count": null,
   "id": "2258f1c9",
   "metadata": {
    "id": "2258f1c9",
    "lines_to_next_cell": 1
   },
   "outputs": [],
   "source": [
    "# FUNCIÓN CALIFICADA points_year_country:\n",
    "\n",
    "def points_year_nationality():\n",
    "    \"\"\"\n",
    "    Retorna:\n",
    "        query: cadena de texto con una consulta válida de SQLite.\n",
    "    \"\"\"\n",
    "    ### ESCRIBA SU CÓDIGO AQUÍ ### (~1-9 líneas de código (cadena de texto multilínea))\n",
    "    # Modifique la siguiente cadena de texto con la sintaxis\n",
    "    # necesaria para realizar la consulta indicada.\n",
    "    query = \"\"\"\n",
    "    SELECT\n",
    "        ...\n",
    "    FROM\n",
    "      ...\n",
    "    \"\"\"\n",
    "    return query"
   ]
  },
  {
   "cell_type": "code",
   "execution_count": null,
   "id": "6fe1c244",
   "metadata": {
    "id": "6fe1c244",
    "lines_to_next_cell": 1
   },
   "outputs": [],
   "source": [
    "from IPython.display import display\n",
    "try:\n",
    "    display(pd.read_sql(points_year_nationality(), conn).head(10))\n",
    "except Exception as e:\n",
    "    print(\"La consulta retornada no es válida. Revise su solución y guíese del siguiente error:\")\n",
    "    print(e)"
   ]
  },
  {
   "cell_type": "markdown",
   "id": "2248a328",
   "metadata": {
    "id": "2248a328"
   },
   "source": [
    "**Salida esperada:**\n",
    "<table border=\"1\" class=\"dataframe\">\n",
    "  <thead>\n",
    "    <tr style=\"text-align: right;\">\n",
    "      <th></th>\n",
    "      <th>nationality</th>\n",
    "      <th>points</th>\n",
    "    </tr>\n",
    "  </thead>\n",
    "  <tbody>\n",
    "    <tr>\n",
    "      <th>0</th>\n",
    "      <td>American</td>\n",
    "      <td>998.00</td>\n",
    "    </tr>\n",
    "    <tr>\n",
    "      <th>1</th>\n",
    "      <td>American-Italian</td>\n",
    "      <td>0.00</td>\n",
    "    </tr>\n",
    "    <tr>\n",
    "      <th>2</th>\n",
    "      <td>Argentine</td>\n",
    "      <td>698.92</td>\n",
    "    </tr>\n",
    "    <tr>\n",
    "      <th>3</th>\n",
    "      <td>Argentine-Italian</td>\n",
    "      <td>0.00</td>\n",
    "    </tr>\n",
    "    <tr>\n",
    "      <th>4</th>\n",
    "      <td>Australian</td>\n",
    "      <td>2337.50</td>\n",
    "    </tr>\n",
    "    <tr>\n",
    "      <th>5</th>\n",
    "      <td>Austrian</td>\n",
    "      <td>990.50</td>\n",
    "    </tr>\n",
    "    <tr>\n",
    "      <th>6</th>\n",
    "      <td>Belgian</td>\n",
    "      <td>376.00</td>\n",
    "    </tr>\n",
    "    <tr>\n",
    "      <th>7</th>\n",
    "      <td>Brazilian</td>\n",
    "      <td>3423.00</td>\n",
    "    </tr>\n",
    "    <tr>\n",
    "      <th>8</th>\n",
    "      <td>British</td>\n",
    "      <td>8077.14</td>\n",
    "    </tr>\n",
    "    <tr>\n",
    "      <th>9</th>\n",
    "      <td>Canadian</td>\n",
    "      <td>382.00</td>\n",
    "    </tr>\n",
    "  </tbody>\n",
    "</table>"
   ]
  },
  {
   "cell_type": "markdown",
   "id": "e7350921",
   "metadata": {
    "id": "e7350921"
   },
   "source": [
    "<details>    \n",
    "<summary>\n",
    "    <font size=\"3\" color=\"darkgreen\"><b>Pista 1</b></font>\n",
    "</summary>\n",
    "\n",
    "* Las consultas deben indicarse en minúsculas. Estas deben seguir el siguiente orden:\n",
    "  * `nationality`: nacionalidad.\n",
    "  * `points`: puntos totales por nacionalidad.\n",
    "</details>"
   ]
  },
  {
   "cell_type": "markdown",
   "id": "e7e4e2a9",
   "metadata": {
    "id": "e7e4e2a9"
   },
   "source": [
    "<details>    \n",
    "<summary>\n",
    "    <font size=\"3\" color=\"darkgreen\"><b>Pista 2</b></font>\n",
    "</summary>\n",
    "\n",
    "* Por lo general, la función `GROUP BY` es utilizada con las funciones `COUNT()`, `MAX()`, `MIN()`, `SUM()` y/o `AVG()`. La que se debe utilizar en la resolución del ejercicio es `SUM()`.\n",
    "</details>"
   ]
  },
  {
   "cell_type": "markdown",
   "id": "ceb02478",
   "metadata": {
    "id": "ceb02478"
   },
   "source": [
    "## **7. Total de Puntos por Año y Conductor**\n",
    "---\n",
    "El modelo mostrado en la sección *Bases de datos* relaciona información de la *Formula 1* entre los años $1950$ y $2017$, cada tabla guarda información sobre determinada entidad, las entidades del modelo son conductores, resultados, carreras y circuitos, que al final se relacionan entre ellas mismas mediante `FOREIGN_KEYS`. Esta herramienta de `SQL` permite que la información guardada sea completa y debidamente distribuida.\n",
    "\n",
    "Para este ejercicio es necesario usar determinados campos, no todos, de las tablas conductores (`drivers`), resultados (`results`) y carreras (`races`).\n",
    "\n",
    "> Existe una sentencia de `SQL` que permite relacionar dos tablas mediante `FOREIGN_KEYS`, esta sentencia es `JOIN`. Esta, a su vez tiene algunas otras variaciones como `RIGHT JOIN`, `LEFT JOIN`, `CROSS JOIN`, `INNER JOIN` y `FULL OUTER JOIN` que también relacionan las tablas pero cada una lo hace de manera diferente, su trabajo es encontrar la sentencia **JOIN** adecuada que le permita retornar la busqueda solicitada exacta.\n",
    "\n",
    "\n",
    "En este ejercicio usted deberá completar la función `points_year_driver()`, que retorne una cadena de texto con una **consulta SQL válida** que retorne los **PUNTOS** obtenidos por cada **AÑO** en **TODAS** las carreras ocurridas en cada año correspondiente por cada **CONDUCTOR**.\n",
    "\n",
    "> Para este ejercicio usted debe hacer varias renombraciones con la sentencia `AS`, la renombración debe ser en minúscula y exactamente al nombre específicado:\n",
    "* Concatene los campos `forename` y `surname` y luego esta concatenación la renombra como `full_name`.\n",
    "* El campo año de la tabla carreras (`races.year`) como `year`.\n",
    "* Los puntos obtenidos como `points`.\n",
    "\n",
    "**Parámetros de entrada:**\n",
    "\n",
    "* No hay parámetros de entrada para esta función.\n",
    "\n",
    "**Salida:**\n",
    "\n",
    "* `query`: cadena de texto con una consulta válida de _SQLite_."
   ]
  },
  {
   "cell_type": "code",
   "execution_count": null,
   "id": "eecc764f",
   "metadata": {
    "id": "eecc764f",
    "lines_to_next_cell": 1
   },
   "outputs": [],
   "source": [
    "# FUNCIÓN CALIFICADA points_year_driver:\n",
    "\n",
    "def points_year_driver():\n",
    "    \"\"\"\n",
    "    Retorna:\n",
    "        query: cadena de texto con una consulta válida de SQLite.\n",
    "    \"\"\"\n",
    "    ### ESCRIBA SU CÓDIGO AQUÍ ### (~1-9 líneas de código (cadena de texto multilínea))\n",
    "    # Modifique la siguiente cadena de texto con la sintaxis\n",
    "    # necesaria para realizar la consulta indicada.\n",
    "    query = \"\"\"\n",
    "    SELECT\n",
    "        ...\n",
    "    FROM\n",
    "      ...\n",
    "    \"\"\"\n",
    "    return query"
   ]
  },
  {
   "cell_type": "markdown",
   "id": "864dc6f9",
   "metadata": {
    "id": "864dc6f9"
   },
   "source": [
    "Use la siguiente celda para probar su código:"
   ]
  },
  {
   "cell_type": "code",
   "execution_count": null,
   "id": "266208ff",
   "metadata": {
    "id": "266208ff",
    "lines_to_next_cell": 1
   },
   "outputs": [],
   "source": [
    "from IPython.display import display\n",
    "try:\n",
    "    display(pd.read_sql(points_year_driver(), conn).head(10))\n",
    "except Exception as e:\n",
    "    print(\"La consulta retornada no es válida. Revise su solución y guíese del siguiente error:\")\n",
    "    print(e)"
   ]
  },
  {
   "cell_type": "markdown",
   "id": "41fcd00b",
   "metadata": {
    "id": "41fcd00b"
   },
   "source": [
    "**Salida esperada:**\n",
    "\n",
    "|    | full_name      |   year |   points |\n",
    "|---:|:---------------|-------:|---------:|\n",
    "|  0 | Adolf Brudes   |   1952 |        0 |\n",
    "|  1 | Adolfo Cruz    |   1953 |        0 |\n",
    "|  2 | Adrian Sutil   |   2007 |        1 |\n",
    "|  3 | Adrian Sutil   |   2008 |        0 |\n",
    "|  4 | Adrian Sutil   |   2009 |        5 |\n",
    "|  5 | Adrian Sutil   |   2010 |       47 |\n",
    "|  6 | Adrian Sutil   |   2011 |       42 |\n",
    "|  7 | Adrian Sutil   |   2013 |       29 |\n",
    "|  8 | Adrian Sutil   |   2014 |        0 |\n",
    "|  9 | Adri��n Campos |   1987 |        0 |"
   ]
  },
  {
   "cell_type": "markdown",
   "id": "b4a86a9e",
   "metadata": {
    "id": "b4a86a9e"
   },
   "source": [
    "<details>    \n",
    "<summary>\n",
    "    <font size=\"3\" color=\"darkgreen\"><b>Pista 1</b></font>\n",
    "</summary>\n",
    "\n",
    "* Verifique los campos seleccionados con su consulta y asegúrese de indicarlos en minúscula y renombrarlos correctamente. Estos deben ser y estar ordenados de la siguiente manera:\n",
    "  1. **Concatenación** de `drivers.forename` junto `drivers.surname` -> **Renombramiento:** `full_name`.\n",
    "  2. `races.year`: año carrera -> **Renombramiento:** `year`.\n",
    "  3. **Total de puntos** de `results.points` -> **Renombramiento:** `points`.\n",
    "</details>"
   ]
  },
  {
   "cell_type": "markdown",
   "id": "8ac3843d",
   "metadata": {
    "id": "8ac3843d"
   },
   "source": [
    "<details>    \n",
    "<summary>\n",
    "    <font size=\"3\" color=\"darkgreen\"><b>Pista 2</b></font>\n",
    "</summary>\n",
    "\n",
    "* Analice las `FOREIGN_KEY` del modelo de la sección *Bases de datos*, esto le ayudará a saber entre qué tablas usar las sentencias `JOIN` correctamente.\n",
    "</details>"
   ]
  },
  {
   "cell_type": "markdown",
   "id": "d5ff8dda",
   "metadata": {
    "id": "d5ff8dda"
   },
   "source": [
    "<details>    \n",
    "<summary>\n",
    "    <font size=\"3\" color=\"darkgreen\"><b>Pista 3</b></font>\n",
    "</summary>\n",
    "\n",
    "* Recuerde que para sumar todos los valores númericos de un campo se usa la función de agregación `SUM()` de `SQL` y dentro del argumento de la función se pasa el nombre de los campos. La petición de hallar el *Total de puntos* está relacionada con esta función.\n",
    "</details>"
   ]
  },
  {
   "cell_type": "markdown",
   "id": "f2d20f49",
   "metadata": {
    "id": "f2d20f49"
   },
   "source": [
    "<details>    \n",
    "<summary>\n",
    "    <font size=\"3\" color=\"darkgreen\"><b>Pista 4</b></font>\n",
    "</summary>\n",
    "\n",
    "* La sentencia `GROUP BY` es necesaria en esta consulta, asegúrese de usarla en los **CAMPOS** correspondientes.\n",
    "</details>"
   ]
  },
  {
   "cell_type": "markdown",
   "id": "7e599e66",
   "metadata": {
    "id": "7e599e66"
   },
   "source": [
    "## **8. Piloto con más Puntos por Carrera**"
   ]
  },
  {
   "cell_type": "markdown",
   "id": "62e47b81",
   "metadata": {
    "id": "62e47b81"
   },
   "source": [
    "Al igual que el ejercicio 6, se consideran los datos de las tablas (`races`), (`drivers`) y (`results`). La tabla (`drivers`) incluye toda la información necesaria de todos los corredores y, en conjunto con las tablas (`drivers`) y (`results`), se obtiene la información de la participación de cada uno en cada carrera.\n",
    "\n",
    "En este ejercicio usted debe completar la función `higher_driver_race`, la cual deberá retornar una cadena de texto con una **consulta SQL válida** que contenga el **puntaje máximo** obtenido por un **píloto** por **carrera**.\n",
    "\n",
    "**Parámetros de entrada:**\n",
    "\n",
    "* No hay parámetros de entrada para esta función.\n",
    "\n",
    "**Salida:**\n",
    "\n",
    "* `query`: cadena de texto con una consulta válida de _SQLite_."
   ]
  },
  {
   "cell_type": "code",
   "execution_count": null,
   "id": "1bd5c528",
   "metadata": {
    "id": "1bd5c528",
    "lines_to_next_cell": 1
   },
   "outputs": [],
   "source": [
    "# FUNCIÓN CALIFICADA higher_driver_race:\n",
    "\n",
    "def higher_driver_race():\n",
    "    \"\"\"\n",
    "    Retorna:\n",
    "        query: cadena de texto con una consulta válida de SQLite.\n",
    "    \"\"\"\n",
    "    ### ESCRIBA SU CÓDIGO AQUÍ ### (~1-9 líneas de código (cadena de texto multilínea))\n",
    "    # Modifique la siguiente cadena de texto con la sintaxis\n",
    "    # necesaria para realizar la consulta indicada.\n",
    "    query = \"\"\"\n",
    "    SELECT\n",
    "        ...\n",
    "    FROM\n",
    "      ...\n",
    "    \"\"\"\n",
    "    return query"
   ]
  },
  {
   "cell_type": "code",
   "execution_count": null,
   "id": "417ac100",
   "metadata": {
    "id": "417ac100"
   },
   "outputs": [],
   "source": [
    "from IPython.display import display\n",
    "try:\n",
    "    display(pd.read_sql(higher_driver_race(), conn).head(10))\n",
    "except Exception as e:\n",
    "    print(\"La consulta retornada no es válida. Revise su solución y guíese del siguiente error:\")\n",
    "    print(e)"
   ]
  },
  {
   "cell_type": "markdown",
   "id": "5e44e2e5",
   "metadata": {
    "id": "5e44e2e5"
   },
   "source": [
    "**Salida esperada:**\n",
    "<table border=\"1\" class=\"dataframe\">\n",
    "  <thead>\n",
    "    <tr style=\"text-align: right;\">\n",
    "      <th></th>\n",
    "      <th>full_name</th>\n",
    "      <th>race_name</th>\n",
    "      <th>race_year</th>\n",
    "      <th>points</th>\n",
    "    </tr>\n",
    "  </thead>\n",
    "  <tbody>\n",
    "    <tr>\n",
    "      <th>0</th>\n",
    "      <td>Jenson Button</td>\n",
    "      <td>Australian Grand Prix</td>\n",
    "      <td>2009</td>\n",
    "      <td>10.0</td>\n",
    "    </tr>\n",
    "    <tr>\n",
    "      <th>1</th>\n",
    "      <td>Jenson Button</td>\n",
    "      <td>Malaysian Grand Prix</td>\n",
    "      <td>2009</td>\n",
    "      <td>5.0</td>\n",
    "    </tr>\n",
    "    <tr>\n",
    "      <th>2</th>\n",
    "      <td>Sebastian Vettel</td>\n",
    "      <td>Chinese Grand Prix</td>\n",
    "      <td>2009</td>\n",
    "      <td>10.0</td>\n",
    "    </tr>\n",
    "    <tr>\n",
    "      <th>3</th>\n",
    "      <td>Jenson Button</td>\n",
    "      <td>Bahrain Grand Prix</td>\n",
    "      <td>2009</td>\n",
    "      <td>10.0</td>\n",
    "    </tr>\n",
    "    <tr>\n",
    "      <th>4</th>\n",
    "      <td>Jenson Button</td>\n",
    "      <td>Spanish Grand Prix</td>\n",
    "      <td>2009</td>\n",
    "      <td>10.0</td>\n",
    "    </tr>\n",
    "    <tr>\n",
    "      <th>5</th>\n",
    "      <td>Jenson Button</td>\n",
    "      <td>Monaco Grand Prix</td>\n",
    "      <td>2009</td>\n",
    "      <td>10.0</td>\n",
    "    </tr>\n",
    "    <tr>\n",
    "      <th>6</th>\n",
    "      <td>Jenson Button</td>\n",
    "      <td>Turkish Grand Prix</td>\n",
    "      <td>2009</td>\n",
    "      <td>10.0</td>\n",
    "    </tr>\n",
    "    <tr>\n",
    "      <th>7</th>\n",
    "      <td>Sebastian Vettel</td>\n",
    "      <td>British Grand Prix</td>\n",
    "      <td>2009</td>\n",
    "      <td>10.0</td>\n",
    "    </tr>\n",
    "    <tr>\n",
    "      <th>8</th>\n",
    "      <td>Mark Webber</td>\n",
    "      <td>German Grand Prix</td>\n",
    "      <td>2009</td>\n",
    "      <td>10.0</td>\n",
    "    </tr>\n",
    "    <tr>\n",
    "      <th>9</th>\n",
    "      <td>Lewis Hamilton</td>\n",
    "      <td>Hungarian Grand Prix</td>\n",
    "      <td>2009</td>\n",
    "      <td>10.0</td>\n",
    "    </tr>\n",
    "  </tbody>\n",
    "</table>"
   ]
  },
  {
   "cell_type": "markdown",
   "id": "ed3d0f1d",
   "metadata": {
    "id": "ed3d0f1d"
   },
   "source": [
    "<details>    \n",
    "<summary>\n",
    "    <font size=\"3\" color=\"darkgreen\"><b>Pista 1</b></font>\n",
    "</summary>\n",
    "\n",
    "* Las consultas deben indicarse en minúsculas. Estas deben seguir el siguiente orden:\n",
    "  * `full_name`: nombre **completo** del corredor.\n",
    "  * `race_name`: nombre de la carrera.\n",
    "  * `race_year`: año de la carrera.\n",
    "  * `points`: puntos obtenidos por el corredor.\n",
    "</details>"
   ]
  },
  {
   "cell_type": "markdown",
   "id": "e3ab1af9",
   "metadata": {
    "id": "e3ab1af9"
   },
   "source": [
    "<details>    \n",
    "<summary>\n",
    "    <font size=\"3\" color=\"darkgreen\"><b>Pista 2</b></font>\n",
    "</summary>\n",
    "\n",
    "* SQL provee la función `CONCAT()` para unir cadenas dentro de una base de datos en una sola columna. Sin embargo, SQLite no tiene está función. En su lugar, utiliza el operador de concatenación `||` para unir dos cadenas en una.\n",
    "\n",
    "    > <font size=\"2\" color=\"darkblue\"><i><b>Por ejemplo: </b></i></font>\n",
    "    `'columna_1' || ' ' || 'columna_2';`\n",
    "    \n",
    "</details>"
   ]
  },
  {
   "cell_type": "markdown",
   "id": "68e3eec4",
   "metadata": {
    "id": "68e3eec4"
   },
   "source": [
    "**¡Felicitaciones!** Ha terminado la tarea de conceptos de SQL de la Unidad 1. ¡Buen trabajo!\n",
    "\n",
    "## **Entrega**\n",
    "\n",
    "Para entregar el notebook por favor haga lo siguiente:\n",
    "1. Descargue el notebook (`Archivo` -> `Descargar .ipynb`).\n",
    "2. Ingrese a Edunext.\n",
    "3. Realice el envío del *notebook* que descargó en la tarea (o quiz) correspondiente.\n",
    "4. Recuerde que si tiene algún error, puede hacer múltiples intentos de envío en UNCode."
   ]
  },
  {
   "cell_type": "markdown",
   "id": "52a83cb8",
   "metadata": {
    "id": "52a83cb8"
   },
   "source": [
    "## **Créditos**\n",
    "---\n",
    "\n",
    "**Profesor**\n",
    "\n",
    "- [Jorge E. Camargo, PhD](https://dis.unal.edu.co/~jecamargom/)\n",
    "\n",
    "**Diseño, desarrollo del notebook y material audiovisual**\n",
    "\n",
    "- [Juan S. Lara MSc](https://www.linkedin.com/in/juan-sebastian-lara-ramirez-43570a214/)\n",
    "\n",
    "**Universidad Nacional de Colombia** - *Facultad de Ingeniería*"
   ]
  }
 ],
 "metadata": {
  "colab": {
   "collapsed_sections": [
    "52a83cb8"
   ],
   "provenance": []
  },
  "jupytext": {
   "cell_metadata_filter": "-all",
   "main_language": "python",
   "notebook_metadata_filter": "-all"
  },
  "kernelspec": {
   "display_name": "Python 3 (ipykernel)",
   "language": "python",
   "name": "python3"
  },
  "language_info": {
   "codemirror_mode": {
    "name": "ipython",
    "version": 3
   },
   "file_extension": ".py",
   "mimetype": "text/x-python",
   "name": "python",
   "nbconvert_exporter": "python",
   "pygments_lexer": "ipython3",
   "version": "3.11.5"
  }
 },
 "nbformat": 4,
 "nbformat_minor": 5
}
