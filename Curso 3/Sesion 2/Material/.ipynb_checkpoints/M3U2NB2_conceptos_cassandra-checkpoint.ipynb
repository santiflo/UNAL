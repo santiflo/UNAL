{
 "cells": [
  {
   "cell_type": "markdown",
   "id": "80097e96",
   "metadata": {
    "id": "80097e96"
   },
   "source": [
    "<img src=\"https://drive.google.com/uc?export=view&id=15SNbs9etrW7wdww8q0BYpewEgOKC1d3m\" width=\"100%\" alt=\"Encabezado unidad 2\"></img>"
   ]
  },
  {
   "cell_type": "markdown",
   "id": "513e0005",
   "metadata": {
    "id": "513e0005"
   },
   "source": [
    "# Conceptos de Cassandra\n",
    "---\n",
    "\n",
    "En este notebook mostraremos algunas generalidades y formas de uso de la base de datos _Cassandra_ y su lenguaje de consulta CQL.\n",
    "\n",
    "Primero instalaremos e importaremos las librerías Necesarias:"
   ]
  },
  {
   "cell_type": "code",
   "execution_count": null,
   "id": "01db72f1",
   "metadata": {
    "id": "01db72f1"
   },
   "outputs": [],
   "source": [
    "!pip install cassandra-driver"
   ]
  },
  {
   "cell_type": "code",
   "execution_count": 1,
   "id": "a2c49dec",
   "metadata": {
    "id": "a2c49dec"
   },
   "outputs": [],
   "source": [
    "from cassandra.cluster import Cluster\n",
    "from cassandra.auth import PlainTextAuthProvider\n",
    "import json\n",
    "from IPython import display"
   ]
  },
  {
   "cell_type": "markdown",
   "id": "4d8f9e6c",
   "metadata": {
    "id": "4d8f9e6c"
   },
   "source": [
    "Ahora, realizaremos la conexión a la base de datos de [astra](https://astra.datastax.com/) tal y cómo se mostró en el notebook `M3U2NB1_cassandra_python.ipynb`:\n",
    "\n",
    "> **Nota**: recuerde subir los archivos `bundle.zip` y `token.json`."
   ]
  },
  {
   "cell_type": "code",
   "execution_count": 2,
   "id": "4a5b83e4",
   "metadata": {
    "id": "4a5b83e4"
   },
   "outputs": [],
   "source": [
    "cloud_config= {\n",
    "        \"secure_connect_bundle\": \"bundle.zip\" # nombre de su archivo de bundle\n",
    "}\n",
    "with open('token.json') as user_file:\n",
    "  token = json.loads(user_file.read())"
   ]
  },
  {
   "cell_type": "code",
   "execution_count": 3,
   "id": "53b6d279",
   "metadata": {
    "id": "53b6d279"
   },
   "outputs": [],
   "source": [
    "auth_provider = PlainTextAuthProvider(\n",
    "        token[\"clientId\"],\n",
    "        token[\"secret\"]\n",
    "        )\n",
    "cluster = Cluster(\n",
    "        cloud=cloud_config,\n",
    "        auth_provider=auth_provider\n",
    "        )\n",
    "session = cluster.connect()"
   ]
  },
  {
   "cell_type": "markdown",
   "id": "199312f5",
   "metadata": {
    "id": "199312f5"
   },
   "source": [
    "Cassandra maneja un lenguaje de consulta llamado **Cassandra Query Languaje** (CQL), el cual se caracteriza por ser muy cercano a SQL, en especial a _MySQL_. En especial la jerarquía de organización de datos tiene la siguiente analogía:\n",
    "\n",
    "| SQL | Cassandra |\n",
    "| --- | --- |\n",
    "| DATABASE | KEYSPACE |\n",
    "| TABLE | TABLE |\n",
    "\n",
    "Aunque _CQL_ resulta ser muy cercano a _SQL_, el enfoque es totalmente diferente y hay varios conceptos que hay que considerar para el diseño del modelo de datos y las tablas, en especial _Cassandra_ y varias bases de datos NoSQL siguen un enfoque de **Query First Design**.\n",
    "\n",
    "En este caso comenzaremos mostrando la forma en la que debemos diseñar tablas en _Cassandra_ y algunas particularidades de esta base de datos:"
   ]
  },
  {
   "cell_type": "markdown",
   "id": "d445e619",
   "metadata": {
    "id": "d445e619"
   },
   "source": [
    "## **1. Query First Design**\n",
    "---\n",
    "\n",
    "A diferencia de otros modelos para la estructuración de tablas y bases de datos, _Cassandra_ sigue un enfoque de diseño enfocado a la consulta, es decir, debemos construir nuestras tablas de una forma en la que la consulta sea bastante simple.\n",
    "\n",
    "Esto involucra las siguientes consideraciones:\n",
    "\n",
    "* La tabla debe estar construida para que los filtros sean simples, es decir, como máximo filtramos usando operadores de igualdad sobre un campo y unimos condiciones sólo con `AND`.\n",
    "* Es mejor tener los resultados pre-calculados aunque sean redundantes. Esto se hace notorio ante la falta de la operación `JOIN` en _Cassandra_, ya que, es mejor tener una tabla con el resultado del cruce de datos y no tener que cruzar estos datos cuando se ejecute la consulta.\n",
    "* El motor de _Cassandra_ al estar enfocado en la consulta, también está pensado para que las operaciones de consulta sean rápidas. _Cassandra_ permite ejecutar consultas de forma distribuida y eficiente.\n",
    "\n",
    "Veamos un ejemplo de un modelo de datos clásico en SQL para datos de estudiantes de un colegio y sus acudientes:\n",
    "\n",
    "* **students**\n",
    "\n",
    "| id | name | age | gender | grade |\n",
    "|---|---|---|---|---|\n",
    "| 1 | Bart Simpson | 10 | male | 3.0 |\n",
    "| 2 | Lisa Simpson | 8 | female | 4.9 |\n",
    "| 3 | Milhouse Van Houten | 11 | male | 2.8 |\n",
    "\n",
    "* **parents**\n",
    "\n",
    "| id | name | age | gender | student_id |\n",
    "|---|---|---|---|---|\n",
    "| 1 | Homero Simpson | 39 | male | 1 |\n",
    "| 2 | Marge Simpson | 33 | female | 1 |\n",
    "| 3 | Homero Simpson | 50 | male | 2 |\n",
    "| 4 | Marge Simpson | 50 | female | 2 |\n",
    "| 5 | Kirk Van Houten | 40 | male | 3 |\n",
    "| 6 | Luann Van Houten |  32 | female | 3 |\n",
    "\n",
    "Si quisieramos encontrar la lista de estudiantes y sus acudientes desde _SQL_, probablemente construiríamos una consulta de la siguiente forma:\n",
    "\n",
    "```sql\n",
    "SELECT\n",
    "    students.name AS student_name,\n",
    "    parents.name AS parent_name\n",
    "FROM\n",
    "    students\n",
    "INNER JOIN\n",
    "    parents\n",
    "ON\n",
    "    students.id = parents.student_id\n",
    ";\n",
    "```\n",
    "\n",
    "Este comportamiento no es posible en Cassandra, para ello tendríamos que tener una tabla con el inner join definida desde un inicio:\n",
    "\n",
    "* **students_parents**\n",
    "\n",
    "| student_name | parent_name |\n",
    "| --- | --- |\n",
    "| Bart Simpson | Homero Simpson |\n",
    "| Bart Simpson | Marge Simpson |\n",
    "| Lisa Simpson | Homero Simpson |\n",
    "| Lisa Simpson | Marge Simpson |\n",
    "| Milhouse Van Houten | Kirk Van Houten |\n",
    "| Milhouse Van Houten | Luann Van Houten |\n",
    "\n",
    "De esta forma, en _Cassandra_ se extraería la información de la siguiente forma:\n",
    "\n",
    "```sql\n",
    "SELECT\n",
    "    *\n",
    "FROM\n",
    "    students_parents\n",
    ";\n",
    "```\n",
    "\n",
    "Note la simplicidad en la consulta, lo que es el objetivo final en _Cassandra_.\n",
    "\n",
    "Veamos algunos métodos para la manipulación de datos en _Cassandra_:"
   ]
  },
  {
   "cell_type": "markdown",
   "id": "827f0ffe",
   "metadata": {
    "id": "827f0ffe"
   },
   "source": [
    "## **2. Creación**\n",
    "---\n",
    "\n",
    "La sintaxis para la creación de tablas en _Cassandra_ es la siguiente:\n",
    "\n",
    "```sql\n",
    "CREATE TABLE [IF NOT EXISTS] <nombre_keyspace>.<nombre_tabla> (\n",
    "    nombre_columna1 TIPO1,\n",
    "    nombre_columna2 TIPO2,\n",
    "    nombre_columna3 TIPO3\n",
    "    PRIMARY KEY(nombre_columna1, nombre_columna2)\n",
    "    )\n",
    ";\n",
    "```\n",
    "\n",
    "Veamos un ejemplo:"
   ]
  },
  {
   "cell_type": "code",
   "execution_count": 4,
   "id": "21125116",
   "metadata": {
    "id": "21125116"
   },
   "outputs": [
    {
     "data": {
      "text/plain": [
       "<cassandra.cluster.ResultSet at 0x23de68d4dd0>"
      ]
     },
     "execution_count": 4,
     "metadata": {},
     "output_type": "execute_result"
    }
   ],
   "source": [
    "query = \"\"\"\n",
    "CREATE TABLE IF NOT EXISTS test.students (\n",
    "        id INT PRIMARY KEY,\n",
    "        name TEXT,\n",
    "        age INT,\n",
    "        gender TEXT,\n",
    "        grade FLOAT\n",
    "        )\n",
    ";\n",
    "\"\"\"\n",
    "session.execute(query)"
   ]
  },
  {
   "cell_type": "markdown",
   "id": "8339270a",
   "metadata": {
    "id": "8339270a"
   },
   "source": [
    "Puede ver información de las tablas accediendo al objeto `cluster`:"
   ]
  },
  {
   "cell_type": "code",
   "execution_count": 5,
   "id": "befdc0ba",
   "metadata": {
    "id": "befdc0ba"
   },
   "outputs": [
    {
     "data": {
      "text/plain": [
       "{'system_auth': <cassandra.metadata.KeyspaceMetadata at 0x23df11e24d0>,\n",
       " 'system_schema': <cassandra.metadata.KeyspaceMetadata at 0x23df1152d50>,\n",
       " 'datastax_sla': <cassandra.metadata.KeyspaceMetadata at 0x23df120ea50>,\n",
       " 'test': <cassandra.metadata.KeyspaceMetadata at 0x23df120ef50>,\n",
       " 'system': <cassandra.metadata.KeyspaceMetadata at 0x23df120f190>,\n",
       " 'system_traces': <cassandra.metadata.KeyspaceMetadata at 0x23df121e690>,\n",
       " 'data_endpoint_auth': <cassandra.metadata.KeyspaceMetadata at 0x23df121f590>,\n",
       " 'system_views': <cassandra.metadata.KeyspaceMetadata at 0x23df121fc50>,\n",
       " 'system_virtual_schema': <cassandra.metadata.KeyspaceMetadata at 0x23df121fdd0>}"
      ]
     },
     "execution_count": 5,
     "metadata": {},
     "output_type": "execute_result"
    }
   ],
   "source": [
    "cluster.metadata.keyspaces"
   ]
  },
  {
   "cell_type": "code",
   "execution_count": 6,
   "id": "7d10fed9",
   "metadata": {
    "id": "7d10fed9"
   },
   "outputs": [
    {
     "data": {
      "text/plain": [
       "{'students': <cassandra.metadata.TableMetadataV3 at 0x23df11e11d0>}"
      ]
     },
     "execution_count": 6,
     "metadata": {},
     "output_type": "execute_result"
    }
   ],
   "source": [
    "cluster.metadata.keyspaces[\"test\"].tables"
   ]
  },
  {
   "cell_type": "code",
   "execution_count": 7,
   "id": "269f3f4e",
   "metadata": {
    "id": "269f3f4e"
   },
   "outputs": [
    {
     "data": {
      "text/plain": [
       "OrderedDict([('id', <cassandra.metadata.ColumnMetadata at 0x23df11e1010>),\n",
       "             ('age', <cassandra.metadata.ColumnMetadata at 0x23df11e1110>),\n",
       "             ('gender', <cassandra.metadata.ColumnMetadata at 0x23df11e1290>),\n",
       "             ('grade', <cassandra.metadata.ColumnMetadata at 0x23df11e0e10>),\n",
       "             ('name', <cassandra.metadata.ColumnMetadata at 0x23df11e0d10>)])"
      ]
     },
     "execution_count": 7,
     "metadata": {},
     "output_type": "execute_result"
    }
   ],
   "source": [
    "cluster.metadata.keyspaces[\"test\"].tables[\"students\"].columns"
   ]
  },
  {
   "cell_type": "markdown",
   "id": "61e34086",
   "metadata": {
    "id": "61e34086"
   },
   "source": [
    "Ahora, veamos un ejemplo de inserción de datos. La sintaxis es la siguiente:\n",
    "\n",
    "```sql\n",
    "INSERT INTO <nombre_keyspace>.<nombre_tabla> (\n",
    "    nombre_columna1, nombre_columna2\n",
    "    )\n",
    "VALUES\n",
    "    (<valor1>, <valor2>)\n",
    ";\n",
    "```\n",
    "\n",
    "Veamos un ejemplo"
   ]
  },
  {
   "cell_type": "code",
   "execution_count": 8,
   "id": "cb50cca4",
   "metadata": {
    "id": "cb50cca4"
   },
   "outputs": [
    {
     "data": {
      "text/plain": [
       "<cassandra.cluster.ResultSet at 0x23df11e1cd0>"
      ]
     },
     "execution_count": 8,
     "metadata": {},
     "output_type": "execute_result"
    }
   ],
   "source": [
    "query = \"\"\"\n",
    "INSERT INTO test.students (\n",
    "        id, name, age, gender, grade\n",
    "        )\n",
    "VALUES\n",
    "    (1, 'Bart Simpson', 10, 'male', 3.0)\n",
    ";\n",
    "\"\"\"\n",
    "session.execute(query)"
   ]
  },
  {
   "cell_type": "markdown",
   "id": "af46623e",
   "metadata": {
    "id": "af46623e"
   },
   "source": [
    "También es posible insertar multiples valores al tiempo (batch), de la siguiente forma:"
   ]
  },
  {
   "cell_type": "code",
   "execution_count": 9,
   "id": "7d35b6ac",
   "metadata": {
    "id": "7d35b6ac"
   },
   "outputs": [
    {
     "data": {
      "text/plain": [
       "<cassandra.cluster.ResultSet at 0x23df11d7090>"
      ]
     },
     "execution_count": 9,
     "metadata": {},
     "output_type": "execute_result"
    }
   ],
   "source": [
    "query = \"\"\"\n",
    "BEGIN BATCH\n",
    "    INSERT INTO test.students (id, name, age) VALUES (2, 'Lisa Simpson', 8);\n",
    "    INSERT INTO test.students (id, name, gender) VALUES (3, 'Milhouse Van Houten', 'male');\n",
    "APPLY BATCH\n",
    ";\n",
    "\"\"\"\n",
    "session.execute(query)"
   ]
  },
  {
   "cell_type": "markdown",
   "id": "b52ee94a",
   "metadata": {
    "id": "b52ee94a"
   },
   "source": [
    "En _Cassandra_ hay un concepto crucial que hay que considerar para la creación de las tablas. Se trata de los tres tipos de llaves que tiene:\n",
    "\n",
    "* **Llaves compuestas**: se trata de llaves que se conforman por varias columnas, en especial una llave primaria es una llave compuesta por llaves de partición y llaves de agrupamiento.\n",
    "* **Llaves de partición**: son llaves que _Cassandra_ utiliza para la indexación, y como su nombre lo indica son usadas para determinar en qué partición física (nodo de almacenamiento o token) se ubicarán los datos.\n",
    "* **Llaves de agrupamiento**: son llaves que _Cassandra_ utiliza para permitir filtros rápidos por grupos y operaciones de agregación `GROUP BY`. Internamente, _Cassandra_ utiliza estas llaves para determinar el orden en el que se depositan los datos dentro de la partición.\n",
    "\n",
    "Generalmente, estas llaves se definen de la siguiente forma dentro de la operación de creación de tablas:\n",
    "\n",
    "```sql\n",
    "PRIMARY KEY( (columna1, columna2), columna3, columna4 )\n",
    "```\n",
    "\n",
    "En este caso, `columna1` y `columna2` son llaves de partición y `columna3` y `columna4` son llaves de agrupamiento.\n",
    "\n",
    "> **Nota**: puede usar multiples llaves de partición o de agrupamiento.\n",
    "\n",
    "Veamos la creación de una tabla con llaves de partición y de agrupamiento:"
   ]
  },
  {
   "cell_type": "code",
   "execution_count": 10,
   "id": "6d73acbc",
   "metadata": {
    "id": "6d73acbc"
   },
   "outputs": [
    {
     "data": {
      "text/plain": [
       "<cassandra.cluster.ResultSet at 0x23df0e45790>"
      ]
     },
     "execution_count": 10,
     "metadata": {},
     "output_type": "execute_result"
    }
   ],
   "source": [
    "query = \"\"\"\n",
    "CREATE TABLE test.students2 (\n",
    "        id UUID,\n",
    "        name TEXT,\n",
    "        age INT,\n",
    "        gender TEXT,\n",
    "        grade FLOAT,\n",
    "        PRIMARY KEY ((id, name), gender)\n",
    "        )\n",
    ";\n",
    "\"\"\"\n",
    "session.execute(query)"
   ]
  },
  {
   "cell_type": "markdown",
   "id": "ea491d14",
   "metadata": {
    "id": "ea491d14"
   },
   "source": [
    "En este caso, `id` y `name` son llaves de partición y `gender` es una llave de agrupamiento.\n",
    "\n",
    "El tipo `UUID` es comunmente usado en lugar de valores autoincrementales como en _SQL_, esto se hace principalmente por que _Cassandra_ tiene datos particionados (en distintas ubicaciones) y tener un orden no tiene mucho sentido."
   ]
  },
  {
   "cell_type": "markdown",
   "id": "7dc639e3",
   "metadata": {
    "id": "7dc639e3"
   },
   "source": [
    "## **3. Consulta**\n",
    "---\n",
    "\n",
    "En _Cassandra_ las operaciones de consulta suelen ser más simples, el éxito de una implementación de una base de datos en _Cassandra_ depende fundamentalmente de un buen diseño de tablas (query first) y una buena selección de llaves primarias y de partición.\n",
    "\n",
    "Veamos algunos ejemplos de consultas y qué operaciones se pueden hacer sobre distintos tipos de llaves, primero vamos a crear una tabla y a llenarla con algunos datos"
   ]
  },
  {
   "cell_type": "code",
   "execution_count": 11,
   "id": "4d831522",
   "metadata": {
    "id": "4d831522"
   },
   "outputs": [
    {
     "data": {
      "text/plain": [
       "<cassandra.cluster.ResultSet at 0x23de6437b50>"
      ]
     },
     "execution_count": 11,
     "metadata": {},
     "output_type": "execute_result"
    }
   ],
   "source": [
    "query = \"\"\"\n",
    "CREATE TABLE test.only_partition (\n",
    "        id INT PRIMARY KEY,\n",
    "        category TEXT,\n",
    "        )\n",
    ";\n",
    "\"\"\"\n",
    "session.execute(query)"
   ]
  },
  {
   "cell_type": "code",
   "execution_count": 12,
   "id": "1374f1d4",
   "metadata": {
    "id": "1374f1d4"
   },
   "outputs": [
    {
     "data": {
      "text/plain": [
       "<cassandra.cluster.ResultSet at 0x23df0c5cc50>"
      ]
     },
     "execution_count": 12,
     "metadata": {},
     "output_type": "execute_result"
    }
   ],
   "source": [
    "query = \"\"\"\n",
    "BEGIN BATCH\n",
    "INSERT INTO test.only_partition (id, category) VALUES (1, 'A');\n",
    "INSERT INTO test.only_partition (id, category) VALUES (2, 'B');\n",
    "INSERT INTO test.only_partition (id, category) VALUES (3, 'B');\n",
    "APPLY BATCH;\n",
    "\"\"\"\n",
    "session.execute(query)"
   ]
  },
  {
   "cell_type": "markdown",
   "id": "0a4359ab",
   "metadata": {
    "id": "0a4359ab"
   },
   "source": [
    "Comenzamos con una selección completa de los datos de la tabla, usamos el método `all()` para extraer el resultado:"
   ]
  },
  {
   "cell_type": "code",
   "execution_count": 13,
   "id": "d53504ca",
   "metadata": {
    "id": "d53504ca"
   },
   "outputs": [
    {
     "data": {
      "text/plain": [
       "[Row(id=1, category='A'), Row(id=2, category='B'), Row(id=3, category='B')]"
      ]
     },
     "execution_count": 13,
     "metadata": {},
     "output_type": "execute_result"
    }
   ],
   "source": [
    "query = \"\"\"\n",
    "SELECT * FROM test.only_partition;\n",
    "\"\"\"\n",
    "session.execute(query).all()"
   ]
  },
  {
   "cell_type": "markdown",
   "id": "68522c7c",
   "metadata": {
    "id": "68522c7c"
   },
   "source": [
    "Ahora, vamos a intentar filtrar por el campo `id`:"
   ]
  },
  {
   "cell_type": "code",
   "execution_count": 14,
   "id": "8f91df8c",
   "metadata": {
    "id": "8f91df8c"
   },
   "outputs": [
    {
     "name": "stdout",
     "output_type": "stream",
     "text": [
      "[Row(id=1, category='A')]\n"
     ]
    }
   ],
   "source": [
    "query = \"\"\"\n",
    "SELECT\n",
    "    *\n",
    "FROM\n",
    "    test.only_partition\n",
    "WHERE\n",
    "    id = 1\n",
    ";\n",
    "\"\"\"\n",
    "try:\n",
    "    print(session.execute(query).all())\n",
    "except Exception as e:\n",
    "    display(e)"
   ]
  },
  {
   "cell_type": "markdown",
   "id": "9ad77c56",
   "metadata": {
    "id": "9ad77c56"
   },
   "source": [
    "Ahora, vamos a intentar filtros con desigualdades:"
   ]
  },
  {
   "cell_type": "code",
   "execution_count": 17,
   "id": "25c80f1d",
   "metadata": {
    "id": "25c80f1d"
   },
   "outputs": [
    {
     "ename": "TypeError",
     "evalue": "'module' object is not callable",
     "output_type": "error",
     "traceback": [
      "\u001b[1;31m---------------------------------------------------------------------------\u001b[0m",
      "\u001b[1;31mSyntaxException\u001b[0m                           Traceback (most recent call last)",
      "Cell \u001b[1;32mIn[17], line 11\u001b[0m\n\u001b[0;32m     10\u001b[0m \u001b[38;5;28;01mtry\u001b[39;00m:\n\u001b[1;32m---> 11\u001b[0m     \u001b[38;5;28mprint\u001b[39m(\u001b[43msession\u001b[49m\u001b[38;5;241;43m.\u001b[39;49m\u001b[43mexecute\u001b[49m\u001b[43m(\u001b[49m\u001b[43mquery\u001b[49m\u001b[43m)\u001b[49m\u001b[38;5;241m.\u001b[39mall())\n\u001b[0;32m     12\u001b[0m \u001b[38;5;28;01mexcept\u001b[39;00m \u001b[38;5;167;01mException\u001b[39;00m \u001b[38;5;28;01mas\u001b[39;00m e:\n",
      "File \u001b[1;32m~\\AppData\\Local\\Programs\\Python\\Python311\\Lib\\site-packages\\cassandra\\cluster.py:2637\u001b[0m, in \u001b[0;36mcassandra.cluster.Session.execute\u001b[1;34m()\u001b[0m\n",
      "File \u001b[1;32m~\\AppData\\Local\\Programs\\Python\\Python311\\Lib\\site-packages\\cassandra\\cluster.py:4920\u001b[0m, in \u001b[0;36mcassandra.cluster.ResponseFuture.result\u001b[1;34m()\u001b[0m\n",
      "\u001b[1;31mSyntaxException\u001b[0m: <Error from server: code=2000 [Syntax error in CQL query] message=\"line 7:8 no viable alternative at input '>' (...    test.only_partitionWHERE    id <[>]...)\">",
      "\nDuring handling of the above exception, another exception occurred:\n",
      "\u001b[1;31mTypeError\u001b[0m                                 Traceback (most recent call last)",
      "Cell \u001b[1;32mIn[17], line 13\u001b[0m\n\u001b[0;32m     11\u001b[0m     \u001b[38;5;28mprint\u001b[39m(session\u001b[38;5;241m.\u001b[39mexecute(query)\u001b[38;5;241m.\u001b[39mall())\n\u001b[0;32m     12\u001b[0m \u001b[38;5;28;01mexcept\u001b[39;00m \u001b[38;5;167;01mException\u001b[39;00m \u001b[38;5;28;01mas\u001b[39;00m e:\n\u001b[1;32m---> 13\u001b[0m     \u001b[43mdisplay\u001b[49m\u001b[43m(\u001b[49m\u001b[43me\u001b[49m\u001b[43m)\u001b[49m\n",
      "\u001b[1;31mTypeError\u001b[0m: 'module' object is not callable"
     ]
    }
   ],
   "source": [
    "query = \"\"\"\n",
    "SELECT\n",
    "    *\n",
    "FROM\n",
    "    test.only_partition\n",
    "WHERE\n",
    "    id > 1\n",
    ";\n",
    "\"\"\"\n",
    "try:\n",
    "    print(session.execute(query).all())\n",
    "except Exception as e:\n",
    "    display(e)"
   ]
  },
  {
   "cell_type": "markdown",
   "id": "d43b0cf0",
   "metadata": {
    "id": "d43b0cf0"
   },
   "source": [
    "Note que esta consulta **genera error**, esto se debe a que las desigualdades por lo general requieren la comparación de múltiples valores y esto resulta ser muy costoso con tablas muy grandes.\n",
    "\n",
    "Ahora, vamos a filtrar con respecto al otro campo:"
   ]
  },
  {
   "cell_type": "code",
   "execution_count": 18,
   "id": "8c4cf757",
   "metadata": {
    "id": "8c4cf757"
   },
   "outputs": [
    {
     "ename": "TypeError",
     "evalue": "'module' object is not callable",
     "output_type": "error",
     "traceback": [
      "\u001b[1;31m---------------------------------------------------------------------------\u001b[0m",
      "\u001b[1;31mInvalidRequest\u001b[0m                            Traceback (most recent call last)",
      "Cell \u001b[1;32mIn[18], line 11\u001b[0m\n\u001b[0;32m     10\u001b[0m \u001b[38;5;28;01mtry\u001b[39;00m:\n\u001b[1;32m---> 11\u001b[0m     \u001b[38;5;28mprint\u001b[39m(\u001b[43msession\u001b[49m\u001b[38;5;241;43m.\u001b[39;49m\u001b[43mexecute\u001b[49m\u001b[43m(\u001b[49m\u001b[43mquery\u001b[49m\u001b[43m)\u001b[49m\u001b[38;5;241m.\u001b[39mall())\n\u001b[0;32m     12\u001b[0m \u001b[38;5;28;01mexcept\u001b[39;00m \u001b[38;5;167;01mException\u001b[39;00m \u001b[38;5;28;01mas\u001b[39;00m e:\n",
      "File \u001b[1;32m~\\AppData\\Local\\Programs\\Python\\Python311\\Lib\\site-packages\\cassandra\\cluster.py:2637\u001b[0m, in \u001b[0;36mcassandra.cluster.Session.execute\u001b[1;34m()\u001b[0m\n",
      "File \u001b[1;32m~\\AppData\\Local\\Programs\\Python\\Python311\\Lib\\site-packages\\cassandra\\cluster.py:4920\u001b[0m, in \u001b[0;36mcassandra.cluster.ResponseFuture.result\u001b[1;34m()\u001b[0m\n",
      "\u001b[1;31mInvalidRequest\u001b[0m: Error from server: code=2200 [Invalid query] message=\"Cannot execute this query as it might involve data filtering and thus may have unpredictable performance. If you want to execute this query despite the performance unpredictability, use ALLOW FILTERING\"",
      "\nDuring handling of the above exception, another exception occurred:\n",
      "\u001b[1;31mTypeError\u001b[0m                                 Traceback (most recent call last)",
      "Cell \u001b[1;32mIn[18], line 13\u001b[0m\n\u001b[0;32m     11\u001b[0m     \u001b[38;5;28mprint\u001b[39m(session\u001b[38;5;241m.\u001b[39mexecute(query)\u001b[38;5;241m.\u001b[39mall())\n\u001b[0;32m     12\u001b[0m \u001b[38;5;28;01mexcept\u001b[39;00m \u001b[38;5;167;01mException\u001b[39;00m \u001b[38;5;28;01mas\u001b[39;00m e:\n\u001b[1;32m---> 13\u001b[0m     \u001b[43mdisplay\u001b[49m\u001b[43m(\u001b[49m\u001b[43me\u001b[49m\u001b[43m)\u001b[49m\n",
      "\u001b[1;31mTypeError\u001b[0m: 'module' object is not callable"
     ]
    }
   ],
   "source": [
    "query = \"\"\"\n",
    "SELECT\n",
    "    *\n",
    "FROM\n",
    "    test.only_partition\n",
    "WHERE\n",
    "    category = 'A'\n",
    ";\n",
    "\"\"\"\n",
    "try:\n",
    "    print(session.execute(query).all())\n",
    "except Exception as e:\n",
    "    display(e)"
   ]
  },
  {
   "cell_type": "markdown",
   "id": "7dae5088",
   "metadata": {
    "id": "7dae5088"
   },
   "source": [
    "Esta consulta también **genera error**, y esto se debe a que estamos tratando de filtrar con un campo no indexable. En _Cassandra_ se recomienda filtrar unicamente sobre las llaves de partición y las llaves de agrupamiento por motivos de velocidad en la consulta.\n",
    "\n",
    "Veamos un ejemplo con una tabla de múltiples llaves de partición y de agrupamiento:"
   ]
  },
  {
   "cell_type": "code",
   "execution_count": 19,
   "id": "ef090f60",
   "metadata": {
    "id": "ef090f60"
   },
   "outputs": [
    {
     "data": {
      "text/plain": [
       "<cassandra.cluster.ResultSet at 0x23de6499510>"
      ]
     },
     "execution_count": 19,
     "metadata": {},
     "output_type": "execute_result"
    }
   ],
   "source": [
    "query = \"\"\"\n",
    "CREATE TABLE\n",
    "    test.multiple_keys (\n",
    "        name TEXT,\n",
    "        last_name TEXT,\n",
    "        category TEXT,\n",
    "        sub_category TEXT,\n",
    "        age INT,\n",
    "        PRIMARY KEY ((name, last_name), category, sub_category)\n",
    "        )\n",
    ";\n",
    "\"\"\"\n",
    "session.execute(query)"
   ]
  },
  {
   "cell_type": "markdown",
   "id": "db7c044c",
   "metadata": {
    "id": "db7c044c"
   },
   "source": [
    "En este caso tenemos `name` y `last_name` como llaves primarias, `category` y `sub_category` son llaves de agrupamiento.\n",
    "\n",
    "Vamos a insertar algunos valores:"
   ]
  },
  {
   "cell_type": "code",
   "execution_count": 20,
   "id": "2fd09ec9",
   "metadata": {
    "id": "2fd09ec9"
   },
   "outputs": [
    {
     "data": {
      "text/plain": [
       "<cassandra.cluster.ResultSet at 0x23df1853d90>"
      ]
     },
     "execution_count": 20,
     "metadata": {},
     "output_type": "execute_result"
    }
   ],
   "source": [
    "query = \"\"\"\n",
    "BEGIN BATCH\n",
    "    INSERT INTO\n",
    "        test.multiple_keys (\n",
    "            name, last_name, category, sub_category, age\n",
    "            )\n",
    "    VALUES\n",
    "        ('Pedro', 'Picapiedra', 'A', 'casado', 50)\n",
    "    ;\n",
    "    INSERT INTO\n",
    "        test.multiple_keys (\n",
    "            name, last_name, category, sub_category, age\n",
    "            )\n",
    "    VALUES\n",
    "        ('Pedro', 'Montenegro', 'A', 'soltero', 49)\n",
    "    ;\n",
    "    INSERT INTO\n",
    "        test.multiple_keys (\n",
    "            name, last_name, category, sub_category, age\n",
    "            )\n",
    "    VALUES\n",
    "        ('Homero', 'Simpson', 'B', 'casado', 45)\n",
    "    ;\n",
    "    INSERT INTO\n",
    "        test.multiple_keys (\n",
    "            name, last_name, category, sub_category, age\n",
    "            )\n",
    "    VALUES\n",
    "        ('Anapolo', 'Rocondo', 'B', 'soltero', 45)\n",
    "    ;\n",
    "APPLY BATCH;\n",
    "\"\"\"\n",
    "session.execute(query)"
   ]
  },
  {
   "cell_type": "markdown",
   "id": "19e3813d",
   "metadata": {
    "id": "19e3813d"
   },
   "source": [
    "Veamos una consulta donde filtramos por el campo `name`:"
   ]
  },
  {
   "cell_type": "code",
   "execution_count": 21,
   "id": "36d9cd50",
   "metadata": {
    "id": "36d9cd50"
   },
   "outputs": [
    {
     "ename": "TypeError",
     "evalue": "'module' object is not callable",
     "output_type": "error",
     "traceback": [
      "\u001b[1;31m---------------------------------------------------------------------------\u001b[0m",
      "\u001b[1;31mInvalidRequest\u001b[0m                            Traceback (most recent call last)",
      "Cell \u001b[1;32mIn[21], line 11\u001b[0m\n\u001b[0;32m     10\u001b[0m \u001b[38;5;28;01mtry\u001b[39;00m:\n\u001b[1;32m---> 11\u001b[0m     \u001b[38;5;28mprint\u001b[39m(\u001b[43msession\u001b[49m\u001b[38;5;241;43m.\u001b[39;49m\u001b[43mexecute\u001b[49m\u001b[43m(\u001b[49m\u001b[43mquery\u001b[49m\u001b[43m)\u001b[49m\u001b[38;5;241m.\u001b[39mall())\n\u001b[0;32m     12\u001b[0m \u001b[38;5;28;01mexcept\u001b[39;00m \u001b[38;5;167;01mException\u001b[39;00m \u001b[38;5;28;01mas\u001b[39;00m e:\n",
      "File \u001b[1;32m~\\AppData\\Local\\Programs\\Python\\Python311\\Lib\\site-packages\\cassandra\\cluster.py:2637\u001b[0m, in \u001b[0;36mcassandra.cluster.Session.execute\u001b[1;34m()\u001b[0m\n",
      "File \u001b[1;32m~\\AppData\\Local\\Programs\\Python\\Python311\\Lib\\site-packages\\cassandra\\cluster.py:4920\u001b[0m, in \u001b[0;36mcassandra.cluster.ResponseFuture.result\u001b[1;34m()\u001b[0m\n",
      "\u001b[1;31mInvalidRequest\u001b[0m: Error from server: code=2200 [Invalid query] message=\"Cannot execute this query as it might involve data filtering and thus may have unpredictable performance. If you want to execute this query despite the performance unpredictability, use ALLOW FILTERING\"",
      "\nDuring handling of the above exception, another exception occurred:\n",
      "\u001b[1;31mTypeError\u001b[0m                                 Traceback (most recent call last)",
      "Cell \u001b[1;32mIn[21], line 13\u001b[0m\n\u001b[0;32m     11\u001b[0m     \u001b[38;5;28mprint\u001b[39m(session\u001b[38;5;241m.\u001b[39mexecute(query)\u001b[38;5;241m.\u001b[39mall())\n\u001b[0;32m     12\u001b[0m \u001b[38;5;28;01mexcept\u001b[39;00m \u001b[38;5;167;01mException\u001b[39;00m \u001b[38;5;28;01mas\u001b[39;00m e:\n\u001b[1;32m---> 13\u001b[0m     \u001b[43mdisplay\u001b[49m\u001b[43m(\u001b[49m\u001b[43me\u001b[49m\u001b[43m)\u001b[49m\n",
      "\u001b[1;31mTypeError\u001b[0m: 'module' object is not callable"
     ]
    }
   ],
   "source": [
    "query = \"\"\"\n",
    "SELECT\n",
    "    *\n",
    "FROM\n",
    "    test.multiple_keys\n",
    "WHERE\n",
    "    name = 'Anapolo'\n",
    ";\n",
    "\"\"\"\n",
    "try:\n",
    "    print(session.execute(query).all())\n",
    "except Exception as e:\n",
    "    display(e)"
   ]
  },
  {
   "cell_type": "markdown",
   "id": "65075b87",
   "metadata": {
    "id": "65075b87"
   },
   "source": [
    "Note que esta consulta **genera error** a pesar que `name` es una llave de partición. Esto se debe a que las consultas en _Cassandra_ están pensadas para realizarse sobre todas las llaves de partición al tiempo y de forma obligatoria:"
   ]
  },
  {
   "cell_type": "code",
   "execution_count": 22,
   "id": "60ad2a11",
   "metadata": {
    "id": "60ad2a11"
   },
   "outputs": [
    {
     "name": "stdout",
     "output_type": "stream",
     "text": [
      "[Row(name='Anapolo', last_name='Rocondo', category='B', sub_category='soltero', age=45)]\n"
     ]
    }
   ],
   "source": [
    "query = \"\"\"\n",
    "SELECT\n",
    "    *\n",
    "FROM\n",
    "    test.multiple_keys\n",
    "WHERE\n",
    "    name = 'Anapolo' AND last_name = 'Rocondo'\n",
    ";\n",
    "\"\"\"\n",
    "try:\n",
    "    print(session.execute(query).all())\n",
    "except Exception as e:\n",
    "    display(e)"
   ]
  },
  {
   "cell_type": "markdown",
   "id": "5fb27f15",
   "metadata": {
    "id": "5fb27f15"
   },
   "source": [
    "Los filtros sobre las llaves de agrupamiento son opcionales, veamos un ejemplo, con una nueva tabla:"
   ]
  },
  {
   "cell_type": "code",
   "execution_count": 23,
   "id": "032f00c0",
   "metadata": {
    "id": "032f00c0"
   },
   "outputs": [
    {
     "data": {
      "text/plain": [
       "<cassandra.cluster.ResultSet at 0x23de6b4a390>"
      ]
     },
     "execution_count": 23,
     "metadata": {},
     "output_type": "execute_result"
    }
   ],
   "source": [
    "query = \"\"\"\n",
    "CREATE TABLE\n",
    "    test.clustering_keys (\n",
    "        name TEXT,\n",
    "        category TEXT,\n",
    "        sub_category TEXT,\n",
    "        age INT,\n",
    "        PRIMARY KEY (name, category, sub_category)\n",
    "        )\n",
    ";\n",
    "\"\"\"\n",
    "session.execute(query)"
   ]
  },
  {
   "cell_type": "markdown",
   "id": "0b22ec41",
   "metadata": {
    "id": "0b22ec41"
   },
   "source": [
    "Insertamos algunos valores:"
   ]
  },
  {
   "cell_type": "code",
   "execution_count": 24,
   "id": "46cff839",
   "metadata": {
    "id": "46cff839"
   },
   "outputs": [
    {
     "data": {
      "text/plain": [
       "<cassandra.cluster.ResultSet at 0x23df17fb590>"
      ]
     },
     "execution_count": 24,
     "metadata": {},
     "output_type": "execute_result"
    }
   ],
   "source": [
    "query = \"\"\"\n",
    "BEGIN BATCH\n",
    "    INSERT INTO\n",
    "        test.clustering_keys (\n",
    "            name, category, sub_category, age\n",
    "            )\n",
    "    VALUES\n",
    "        ('Pedro', 'A', 'casado', 50)\n",
    "    ;\n",
    "    INSERT INTO\n",
    "        test.clustering_keys (\n",
    "            name, category, sub_category, age\n",
    "            )\n",
    "    VALUES\n",
    "        ('Pedro', 'A', 'soltero', 49)\n",
    "    ;\n",
    "    INSERT INTO\n",
    "        test.clustering_keys (\n",
    "            name, category, sub_category, age\n",
    "            )\n",
    "    VALUES\n",
    "        ('Homero', 'B', 'casado', 45)\n",
    "    ;\n",
    "    INSERT INTO\n",
    "        test.clustering_keys (\n",
    "            name, category, sub_category, age\n",
    "            )\n",
    "    VALUES\n",
    "        ('Homero', 'B', 'soltero', 45)\n",
    "    ;\n",
    "APPLY BATCH;\n",
    "\"\"\"\n",
    "session.execute(query)"
   ]
  },
  {
   "cell_type": "markdown",
   "id": "525863b6",
   "metadata": {
    "id": "525863b6"
   },
   "source": [
    "Veamos filtros sobre columnas de agrupamiento:"
   ]
  },
  {
   "cell_type": "code",
   "execution_count": 25,
   "id": "3958ea03",
   "metadata": {
    "id": "3958ea03"
   },
   "outputs": [
    {
     "name": "stdout",
     "output_type": "stream",
     "text": [
      "[Row(name='Pedro', category='A', sub_category='casado', age=50), Row(name='Pedro', category='A', sub_category='soltero', age=49)]\n"
     ]
    }
   ],
   "source": [
    "query = \"\"\"\n",
    "SELECT\n",
    "    *\n",
    "FROM\n",
    "    test.clustering_keys\n",
    "WHERE\n",
    "    name = 'Pedro'\n",
    ";\n",
    "\"\"\"\n",
    "try:\n",
    "    print(session.execute(query).all())\n",
    "except Exception as e:\n",
    "    display(e)"
   ]
  },
  {
   "cell_type": "code",
   "execution_count": 26,
   "id": "ea1afd93",
   "metadata": {
    "id": "ea1afd93"
   },
   "outputs": [
    {
     "name": "stdout",
     "output_type": "stream",
     "text": [
      "[Row(name='Pedro', category='A', sub_category='casado', age=50), Row(name='Pedro', category='A', sub_category='soltero', age=49)]\n"
     ]
    }
   ],
   "source": [
    "query = \"\"\"\n",
    "SELECT\n",
    "    *\n",
    "FROM\n",
    "    test.clustering_keys\n",
    "WHERE\n",
    "    name = 'Pedro' AND\n",
    "    category = 'A'\n",
    ";\n",
    "\"\"\"\n",
    "try:\n",
    "    print(session.execute(query).all())\n",
    "except Exception as e:\n",
    "    display(e)"
   ]
  },
  {
   "cell_type": "markdown",
   "id": "48f54195",
   "metadata": {
    "id": "48f54195"
   },
   "source": [
    "Como puede ver, las llaves de agrupamiento son opcionales, aunque son útiles para agrupar:"
   ]
  },
  {
   "cell_type": "code",
   "execution_count": 27,
   "id": "b24308bd",
   "metadata": {
    "id": "b24308bd"
   },
   "outputs": [
    {
     "name": "stdout",
     "output_type": "stream",
     "text": [
      "[Row(category='B', age_avg=45), Row(category='A', age_avg=49)]\n"
     ]
    }
   ],
   "source": [
    "query = \"\"\"\n",
    "SELECT\n",
    "    category,\n",
    "    AVG(age) AS age_avg\n",
    "FROM\n",
    "    test.clustering_keys\n",
    "GROUP BY\n",
    "    name, category\n",
    ";\n",
    "\"\"\"\n",
    "try:\n",
    "    print(session.execute(query).all())\n",
    "except Exception as e:\n",
    "    display(e)"
   ]
  },
  {
   "cell_type": "markdown",
   "id": "05d9924d",
   "metadata": {
    "id": "05d9924d"
   },
   "source": [
    "## **4. Actualización**\n",
    "---\n",
    "\n",
    "Las operaciones de actualización son similares a las de `SQL`, por ejemplo para modificar columnas usamos comandos `ALTER`, por ejemplo:"
   ]
  },
  {
   "cell_type": "code",
   "execution_count": 28,
   "id": "dd3fb5ef",
   "metadata": {
    "id": "dd3fb5ef"
   },
   "outputs": [
    {
     "data": {
      "text/plain": [
       "<cassandra.cluster.ResultSet at 0x23df0cc1ad0>"
      ]
     },
     "execution_count": 28,
     "metadata": {},
     "output_type": "execute_result"
    }
   ],
   "source": [
    "query = \"\"\"\n",
    "ALTER TABLE\n",
    "    test.clustering_keys\n",
    "ADD\n",
    "    nueva_columna INT\n",
    ";\n",
    "\"\"\"\n",
    "session.execute(query)"
   ]
  },
  {
   "cell_type": "code",
   "execution_count": 29,
   "id": "392fd4b5",
   "metadata": {
    "id": "392fd4b5"
   },
   "outputs": [
    {
     "data": {
      "text/plain": [
       "OrderedDict([('name', <cassandra.metadata.ColumnMetadata at 0x23df185f0d0>),\n",
       "             ('category',\n",
       "              <cassandra.metadata.ColumnMetadata at 0x23df17fe350>),\n",
       "             ('sub_category',\n",
       "              <cassandra.metadata.ColumnMetadata at 0x23df11d4850>),\n",
       "             ('age', <cassandra.metadata.ColumnMetadata at 0x23df17fee90>),\n",
       "             ('nueva_columna',\n",
       "              <cassandra.metadata.ColumnMetadata at 0x23df17fe5d0>)])"
      ]
     },
     "execution_count": 29,
     "metadata": {},
     "output_type": "execute_result"
    }
   ],
   "source": [
    "cluster.metadata.keyspaces[\"test\"].tables[\"clustering_keys\"].columns"
   ]
  },
  {
   "cell_type": "markdown",
   "id": "4a938179",
   "metadata": {
    "id": "4a938179"
   },
   "source": [
    "Para modificar valores podemos usar el comando `UPDATE` como en _SQL_, aunque es necesario especificar todas las llaves de partición y de agrupamiento para la operación:"
   ]
  },
  {
   "cell_type": "code",
   "execution_count": 30,
   "id": "86dbc3c0",
   "metadata": {
    "id": "86dbc3c0"
   },
   "outputs": [
    {
     "data": {
      "text/plain": [
       "<cassandra.cluster.ResultSet at 0x23df11d5a50>"
      ]
     },
     "execution_count": 30,
     "metadata": {},
     "output_type": "execute_result"
    }
   ],
   "source": [
    "query = \"\"\"\n",
    "UPDATE\n",
    "    test.clustering_keys\n",
    "SET\n",
    "    age = -1\n",
    "WHERE\n",
    "    name = 'Homero' AND category = 'B' and sub_category = 'soltero'\n",
    ";\n",
    "\"\"\"\n",
    "session.execute(query)"
   ]
  },
  {
   "cell_type": "markdown",
   "id": "796cf36f",
   "metadata": {
    "id": "796cf36f"
   },
   "source": [
    "Veamos cómo queda la tabla:"
   ]
  },
  {
   "cell_type": "code",
   "execution_count": 31,
   "id": "7c6b36af",
   "metadata": {
    "id": "7c6b36af"
   },
   "outputs": [
    {
     "data": {
      "text/plain": [
       "[Row(name='Homero', category='B', sub_category='casado', age=45, nueva_columna=None),\n",
       " Row(name='Homero', category='B', sub_category='soltero', age=-1, nueva_columna=None),\n",
       " Row(name='Pedro', category='A', sub_category='casado', age=50, nueva_columna=None),\n",
       " Row(name='Pedro', category='A', sub_category='soltero', age=49, nueva_columna=None)]"
      ]
     },
     "execution_count": 31,
     "metadata": {},
     "output_type": "execute_result"
    }
   ],
   "source": [
    "query = \"SELECT * FROM test.clustering_keys;\"\n",
    "session.execute(query).all()"
   ]
  },
  {
   "cell_type": "markdown",
   "id": "835f7bf6",
   "metadata": {
    "id": "835f7bf6"
   },
   "source": [
    "## **5. Borrado**\n",
    "---\n",
    "\n",
    "Para eliminar registros debemos usar la sintaxis `DELETE` como en _SQL_:"
   ]
  },
  {
   "cell_type": "code",
   "execution_count": 32,
   "id": "30fd8ad0",
   "metadata": {
    "id": "30fd8ad0"
   },
   "outputs": [
    {
     "data": {
      "text/plain": [
       "<cassandra.cluster.ResultSet at 0x23df17ec210>"
      ]
     },
     "execution_count": 32,
     "metadata": {},
     "output_type": "execute_result"
    }
   ],
   "source": [
    "query = \"\"\"\n",
    "DELETE FROM\n",
    "    test.clustering_keys\n",
    "WHERE\n",
    "    name = 'Pedro'\n",
    ";\n",
    "\"\"\"\n",
    "session.execute(query)"
   ]
  },
  {
   "cell_type": "markdown",
   "id": "e9130bfa",
   "metadata": {
    "id": "e9130bfa"
   },
   "source": [
    "Veamos cómo queda la tabla:"
   ]
  },
  {
   "cell_type": "code",
   "execution_count": 33,
   "id": "4e8d632e",
   "metadata": {
    "id": "4e8d632e"
   },
   "outputs": [
    {
     "data": {
      "text/plain": [
       "[Row(name='Homero', category='B', sub_category='casado', age=45, nueva_columna=None),\n",
       " Row(name='Homero', category='B', sub_category='soltero', age=-1, nueva_columna=None)]"
      ]
     },
     "execution_count": 33,
     "metadata": {},
     "output_type": "execute_result"
    }
   ],
   "source": [
    "query = \"SELECT * FROM test.clustering_keys;\"\n",
    "session.execute(query).all()"
   ]
  },
  {
   "cell_type": "markdown",
   "id": "1e89f1e1",
   "metadata": {
    "id": "1e89f1e1"
   },
   "source": [
    "También podemos eliminar columnas, siempre y cuando no sean llaves de agrupamiento ni de partición."
   ]
  },
  {
   "cell_type": "code",
   "execution_count": 34,
   "id": "cd49e472",
   "metadata": {
    "id": "cd49e472"
   },
   "outputs": [
    {
     "data": {
      "text/plain": [
       "<cassandra.cluster.ResultSet at 0x23df0b883d0>"
      ]
     },
     "execution_count": 34,
     "metadata": {},
     "output_type": "execute_result"
    }
   ],
   "source": [
    "query = \"\"\"\n",
    "ALTER TABLE\n",
    "    test.clustering_keys\n",
    "DROP\n",
    "    age\n",
    ";\n",
    "\"\"\"\n",
    "session.execute(query)"
   ]
  },
  {
   "cell_type": "code",
   "execution_count": 35,
   "id": "a6e5f8a9",
   "metadata": {
    "id": "a6e5f8a9"
   },
   "outputs": [
    {
     "data": {
      "text/plain": [
       "OrderedDict([('name', <cassandra.metadata.ColumnMetadata at 0x23df17da3d0>),\n",
       "             ('category',\n",
       "              <cassandra.metadata.ColumnMetadata at 0x23df1854f90>),\n",
       "             ('sub_category',\n",
       "              <cassandra.metadata.ColumnMetadata at 0x23df1886f50>),\n",
       "             ('nueva_columna',\n",
       "              <cassandra.metadata.ColumnMetadata at 0x23df17fc0d0>)])"
      ]
     },
     "execution_count": 35,
     "metadata": {},
     "output_type": "execute_result"
    }
   ],
   "source": [
    "cluster.metadata.keyspaces[\"test\"].tables[\"clustering_keys\"].columns"
   ]
  },
  {
   "cell_type": "markdown",
   "id": "56d16647",
   "metadata": {
    "id": "56d16647"
   },
   "source": [
    "Finalmente, para eliminar tablas, usamos el comando `DROP` como en _SQL_:"
   ]
  },
  {
   "cell_type": "code",
   "execution_count": 36,
   "id": "f19726d6",
   "metadata": {
    "id": "f19726d6"
   },
   "outputs": [
    {
     "data": {
      "text/plain": [
       "<cassandra.cluster.ResultSet at 0x23df11d5350>"
      ]
     },
     "execution_count": 36,
     "metadata": {},
     "output_type": "execute_result"
    }
   ],
   "source": [
    "query = \"\"\"\n",
    "DROP TABLE test.students;\n",
    "\"\"\"\n",
    "session.execute(query, timeout=None)"
   ]
  },
  {
   "cell_type": "code",
   "execution_count": 37,
   "id": "c640f1ce",
   "metadata": {
    "id": "c640f1ce"
   },
   "outputs": [
    {
     "data": {
      "text/plain": [
       "<cassandra.cluster.ResultSet at 0x23df17dda50>"
      ]
     },
     "execution_count": 37,
     "metadata": {},
     "output_type": "execute_result"
    }
   ],
   "source": [
    "query = \"\"\"\n",
    "DROP TABLE test.students2;\n",
    "\"\"\"\n",
    "session.execute(query, timeout=None)"
   ]
  },
  {
   "cell_type": "code",
   "execution_count": 38,
   "id": "6633efda",
   "metadata": {
    "id": "6633efda"
   },
   "outputs": [
    {
     "data": {
      "text/plain": [
       "<cassandra.cluster.ResultSet at 0x23df1870850>"
      ]
     },
     "execution_count": 38,
     "metadata": {},
     "output_type": "execute_result"
    }
   ],
   "source": [
    "query = \"\"\"\n",
    "DROP TABLE test.only_partition;\n",
    "\"\"\"\n",
    "session.execute(query, timeout=None)"
   ]
  },
  {
   "cell_type": "code",
   "execution_count": 39,
   "id": "9047024a",
   "metadata": {
    "id": "9047024a"
   },
   "outputs": [
    {
     "data": {
      "text/plain": [
       "<cassandra.cluster.ResultSet at 0x23df0d56250>"
      ]
     },
     "execution_count": 39,
     "metadata": {},
     "output_type": "execute_result"
    }
   ],
   "source": [
    "query = \"\"\"\n",
    "DROP TABLE test.multiple_keys;\n",
    "\"\"\"\n",
    "session.execute(query, timeout=None)"
   ]
  },
  {
   "cell_type": "code",
   "execution_count": 40,
   "id": "af9dc4d3",
   "metadata": {
    "id": "af9dc4d3"
   },
   "outputs": [
    {
     "data": {
      "text/plain": [
       "<cassandra.cluster.ResultSet at 0x23df1778050>"
      ]
     },
     "execution_count": 40,
     "metadata": {},
     "output_type": "execute_result"
    }
   ],
   "source": [
    "query = \"\"\"\n",
    "DROP TABLE test.clustering_keys;\n",
    "\"\"\"\n",
    "session.execute(query, timeout=None)"
   ]
  },
  {
   "cell_type": "markdown",
   "id": "d0d26dbd",
   "metadata": {
    "id": "d0d26dbd"
   },
   "source": [
    "## **6. Recursos Adicionales**\n",
    "---\n",
    "\n",
    "* [Apache Cassandra](https://cassandra.apache.org/_/index.html).\n",
    "* [CQL reference](https://docs.datastax.com/en/cql-oss/3.3/cql/cql_reference/cqlReferenceTOC.html)\n",
    "* [Begginers guide to learn cassandra](https://medium.com/@aymannaitcherif/beginners-guide-to-learn-cassandra-part-2-4e8511a4838f)"
   ]
  },
  {
   "cell_type": "markdown",
   "id": "af6ef9ab",
   "metadata": {
    "id": "af6ef9ab"
   },
   "source": [
    "## **7. Créditos**\n",
    "---\n",
    "\n",
    "**Profesor**\n",
    "\n",
    "- [Jorge E. Camargo, PhD](https://dis.unal.edu.co/~jecamargom/)\n",
    "\n",
    "**Diseño, desarrollo del notebook y material audiovisual**\n",
    "\n",
    "- [Juan S. Lara MSc](https://www.linkedin.com/in/juan-sebastian-lara-ramirez-43570a214/)\n",
    "\n",
    "**Universidad Nacional de Colombia** - *Facultad de Ingeniería*"
   ]
  }
 ],
 "metadata": {
  "colab": {
   "private_outputs": true,
   "provenance": []
  },
  "jupytext": {
   "cell_metadata_filter": "-all",
   "main_language": "python",
   "notebook_metadata_filter": "-all"
  },
  "kernelspec": {
   "display_name": "Python 3 (ipykernel)",
   "language": "python",
   "name": "python3"
  },
  "language_info": {
   "codemirror_mode": {
    "name": "ipython",
    "version": 3
   },
   "file_extension": ".py",
   "mimetype": "text/x-python",
   "name": "python",
   "nbconvert_exporter": "python",
   "pygments_lexer": "ipython3",
   "version": "3.11.5"
  }
 },
 "nbformat": 4,
 "nbformat_minor": 5
}
