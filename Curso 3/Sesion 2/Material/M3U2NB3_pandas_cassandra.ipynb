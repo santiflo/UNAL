{
 "cells": [
  {
   "cell_type": "markdown",
   "id": "6b6f9393",
   "metadata": {
    "id": "6b6f9393"
   },
   "source": [
    "<img src=\"https://drive.google.com/uc?export=view&id=15SNbs9etrW7wdww8q0BYpewEgOKC1d3m\" width=\"100%\" alt=\"Encabezado unidad 2\"></img>"
   ]
  },
  {
   "cell_type": "markdown",
   "id": "980627f6",
   "metadata": {
    "id": "980627f6"
   },
   "source": [
    "# Cassandra y Pandas\n",
    "---\n",
    "\n",
    "En este notebook mostraremos cómo leer y escribir datos en _Cassandra_ desde `pandas`.\n",
    "\n",
    "Primero instalaremos e importaremos las librerías Necesarias:"
   ]
  },
  {
   "cell_type": "code",
   "execution_count": null,
   "id": "dd25a45f",
   "metadata": {
    "id": "dd25a45f"
   },
   "outputs": [],
   "source": [
    "!pip install cassandra-driver"
   ]
  },
  {
   "cell_type": "code",
   "execution_count": 1,
   "id": "feb11576",
   "metadata": {
    "id": "feb11576"
   },
   "outputs": [],
   "source": [
    "import pandas as pd\n",
    "import numpy as np\n",
    "from cassandra.cluster import Cluster\n",
    "from cassandra.auth import PlainTextAuthProvider\n",
    "import json\n",
    "from IPython import display"
   ]
  },
  {
   "cell_type": "markdown",
   "id": "097df4d8",
   "metadata": {
    "id": "097df4d8"
   },
   "source": [
    "Ahora, realizaremos la conexión a la base de datos de [astra](https://astra.datastax.com/) tal y cómo se mostró en el notebook `M3U2NB1_cassandra_python.ipynb`:\n",
    "\n",
    "> **Nota**: recuerde subir los archivos `bundle.zip` y `token.json`."
   ]
  },
  {
   "cell_type": "code",
   "execution_count": 2,
   "id": "c01c110b",
   "metadata": {
    "id": "c01c110b"
   },
   "outputs": [],
   "source": [
    "cloud_config= {\n",
    "        \"secure_connect_bundle\": \"bundle.zip\" # nombre de su archivo de bundle\n",
    "}\n",
    "with open('token.json') as user_file:\n",
    "  token = json.loads(user_file.read())"
   ]
  },
  {
   "cell_type": "code",
   "execution_count": 3,
   "id": "d0cbe24d",
   "metadata": {
    "id": "d0cbe24d"
   },
   "outputs": [],
   "source": [
    "auth_provider = PlainTextAuthProvider(\n",
    "        token[\"clientId\"],\n",
    "        token[\"secret\"]\n",
    "        )\n",
    "cluster = Cluster(\n",
    "        cloud=cloud_config,\n",
    "        auth_provider=auth_provider\n",
    "        )\n",
    "session = cluster.connect()"
   ]
  },
  {
   "cell_type": "markdown",
   "id": "a82b32a2",
   "metadata": {
    "id": "a82b32a2"
   },
   "source": [
    "## **1. Escritura**\n",
    "---\n",
    "\n",
    "Primero, vamos a crear un conjunto de datos sintético en `pandas`"
   ]
  },
  {
   "cell_type": "code",
   "execution_count": 4,
   "id": "a6fda025",
   "metadata": {
    "id": "a6fda025"
   },
   "outputs": [],
   "source": [
    "df = pd.DataFrame(\n",
    "        data=np.random.uniform(size=(500, 4)),\n",
    "        columns=[f\"columna{i}\" for i in range(1, 5)]\n",
    "        ).reset_index().rename(columns={\"index\": \"id\"})"
   ]
  },
  {
   "cell_type": "code",
   "execution_count": 5,
   "id": "ec89615e",
   "metadata": {
    "id": "ec89615e"
   },
   "outputs": [
    {
     "data": {
      "text/html": [
       "<div>\n",
       "<style scoped>\n",
       "    .dataframe tbody tr th:only-of-type {\n",
       "        vertical-align: middle;\n",
       "    }\n",
       "\n",
       "    .dataframe tbody tr th {\n",
       "        vertical-align: top;\n",
       "    }\n",
       "\n",
       "    .dataframe thead th {\n",
       "        text-align: right;\n",
       "    }\n",
       "</style>\n",
       "<table border=\"1\" class=\"dataframe\">\n",
       "  <thead>\n",
       "    <tr style=\"text-align: right;\">\n",
       "      <th></th>\n",
       "      <th>id</th>\n",
       "      <th>columna1</th>\n",
       "      <th>columna2</th>\n",
       "      <th>columna3</th>\n",
       "      <th>columna4</th>\n",
       "    </tr>\n",
       "  </thead>\n",
       "  <tbody>\n",
       "    <tr>\n",
       "      <th>0</th>\n",
       "      <td>0</td>\n",
       "      <td>0.033428</td>\n",
       "      <td>0.726554</td>\n",
       "      <td>0.617573</td>\n",
       "      <td>0.301166</td>\n",
       "    </tr>\n",
       "    <tr>\n",
       "      <th>1</th>\n",
       "      <td>1</td>\n",
       "      <td>0.257129</td>\n",
       "      <td>0.518141</td>\n",
       "      <td>0.709545</td>\n",
       "      <td>0.545056</td>\n",
       "    </tr>\n",
       "    <tr>\n",
       "      <th>2</th>\n",
       "      <td>2</td>\n",
       "      <td>0.416254</td>\n",
       "      <td>0.604746</td>\n",
       "      <td>0.153769</td>\n",
       "      <td>0.993930</td>\n",
       "    </tr>\n",
       "    <tr>\n",
       "      <th>3</th>\n",
       "      <td>3</td>\n",
       "      <td>0.039410</td>\n",
       "      <td>0.850804</td>\n",
       "      <td>0.502700</td>\n",
       "      <td>0.761225</td>\n",
       "    </tr>\n",
       "    <tr>\n",
       "      <th>4</th>\n",
       "      <td>4</td>\n",
       "      <td>0.495070</td>\n",
       "      <td>0.471937</td>\n",
       "      <td>0.411307</td>\n",
       "      <td>0.636851</td>\n",
       "    </tr>\n",
       "  </tbody>\n",
       "</table>\n",
       "</div>"
      ],
      "text/plain": [
       "   id  columna1  columna2  columna3  columna4\n",
       "0   0  0.033428  0.726554  0.617573  0.301166\n",
       "1   1  0.257129  0.518141  0.709545  0.545056\n",
       "2   2  0.416254  0.604746  0.153769  0.993930\n",
       "3   3  0.039410  0.850804  0.502700  0.761225\n",
       "4   4  0.495070  0.471937  0.411307  0.636851"
      ]
     },
     "execution_count": 5,
     "metadata": {},
     "output_type": "execute_result"
    }
   ],
   "source": [
    "df.head()"
   ]
  },
  {
   "cell_type": "code",
   "execution_count": 6,
   "id": "b1267351",
   "metadata": {
    "id": "b1267351"
   },
   "outputs": [
    {
     "name": "stdout",
     "output_type": "stream",
     "text": [
      "<class 'pandas.core.frame.DataFrame'>\n",
      "RangeIndex: 500 entries, 0 to 499\n",
      "Data columns (total 5 columns):\n",
      " #   Column    Non-Null Count  Dtype  \n",
      "---  ------    --------------  -----  \n",
      " 0   id        500 non-null    int64  \n",
      " 1   columna1  500 non-null    float64\n",
      " 2   columna2  500 non-null    float64\n",
      " 3   columna3  500 non-null    float64\n",
      " 4   columna4  500 non-null    float64\n",
      "dtypes: float64(4), int64(1)\n",
      "memory usage: 19.7 KB\n"
     ]
    }
   ],
   "source": [
    "df.info()"
   ]
  },
  {
   "cell_type": "markdown",
   "id": "2ccaa9a7",
   "metadata": {
    "id": "2ccaa9a7"
   },
   "source": [
    "Ahora, veamos cómo escribir esta tabla dentro de _Cassandra_, primero creamos la tabla, debe reemplazar `<nombre_keyspace>` por el nombre de su KEYSPACE."
   ]
  },
  {
   "cell_type": "code",
   "execution_count": 7,
   "id": "e4619320",
   "metadata": {
    "id": "e4619320"
   },
   "outputs": [
    {
     "data": {
      "text/plain": [
       "<cassandra.cluster.ResultSet at 0x2c123025350>"
      ]
     },
     "execution_count": 7,
     "metadata": {},
     "output_type": "execute_result"
    }
   ],
   "source": [
    "query = \"\"\"\n",
    "CREATE TABLE\n",
    "    test.tabla_pandas (\n",
    "        id INT PRIMARY KEY,\n",
    "        columna1 FLOAT,\n",
    "        columna2 FLOAT,\n",
    "        columna3 FLOAT,\n",
    "        columna4 FLOAT\n",
    "        )\n",
    ";\n",
    "\"\"\"\n",
    "session.execute(query)"
   ]
  },
  {
   "cell_type": "markdown",
   "id": "09201b70",
   "metadata": {
    "id": "09201b70"
   },
   "source": [
    "Ahora insertamos los valores desde `pandas`, primero, preparamos los campos de la tabla que serán insertados:"
   ]
  },
  {
   "cell_type": "code",
   "execution_count": 8,
   "id": "d678b3c3",
   "metadata": {
    "id": "d678b3c3"
   },
   "outputs": [],
   "source": [
    "query = \"\"\"\n",
    "INSERT INTO\n",
    "    test.tabla_pandas (\n",
    "            id, columna1, columna2,\n",
    "            columna3, columna4\n",
    "            )\n",
    "VALUES\n",
    "    (?, ?, ?, ?, ?)\n",
    ";\n",
    "\"\"\"\n",
    "prepared = session.prepare(query)"
   ]
  },
  {
   "cell_type": "markdown",
   "id": "0bd19f13",
   "metadata": {
    "id": "0bd19f13"
   },
   "source": [
    "Con esto, podemos insertar los valores desde `pandas`:"
   ]
  },
  {
   "cell_type": "code",
   "execution_count": 9,
   "id": "ea17426b",
   "metadata": {
    "id": "ea17426b"
   },
   "outputs": [],
   "source": [
    "for row in df.itertuples():\n",
    "    session.execute(\n",
    "            prepared,\n",
    "            (\n",
    "                row.id, row.columna1, row.columna2,\n",
    "                row.columna3, row.columna4\n",
    "                )\n",
    "            )"
   ]
  },
  {
   "cell_type": "markdown",
   "id": "aaa75997",
   "metadata": {
    "id": "aaa75997"
   },
   "source": [
    "## **2. Lectura**\n",
    "---\n",
    "\n",
    "Ahora, veamos cómo podemos extraer una tabla de _Cassandra_ como un dataframe de `pandas`, para ello usaremos la siguiente consulta:"
   ]
  },
  {
   "cell_type": "code",
   "execution_count": 10,
   "id": "ec4b71b0",
   "metadata": {
    "id": "ec4b71b0"
   },
   "outputs": [],
   "source": [
    "query = \"\"\"\n",
    "SELECT\n",
    "    id,\n",
    "    columna1 + columna2 AS columna5,\n",
    "    columna3 + columna4 AS columna6\n",
    "FROM\n",
    "    test.tabla_pandas\n",
    ";\n",
    "\"\"\""
   ]
  },
  {
   "cell_type": "code",
   "execution_count": 11,
   "id": "e9993d3f",
   "metadata": {
    "id": "e9993d3f"
   },
   "outputs": [
    {
     "data": {
      "text/html": [
       "<div>\n",
       "<style scoped>\n",
       "    .dataframe tbody tr th:only-of-type {\n",
       "        vertical-align: middle;\n",
       "    }\n",
       "\n",
       "    .dataframe tbody tr th {\n",
       "        vertical-align: top;\n",
       "    }\n",
       "\n",
       "    .dataframe thead th {\n",
       "        text-align: right;\n",
       "    }\n",
       "</style>\n",
       "<table border=\"1\" class=\"dataframe\">\n",
       "  <thead>\n",
       "    <tr style=\"text-align: right;\">\n",
       "      <th></th>\n",
       "      <th>id</th>\n",
       "      <th>columna5</th>\n",
       "      <th>columna6</th>\n",
       "    </tr>\n",
       "  </thead>\n",
       "  <tbody>\n",
       "    <tr>\n",
       "      <th>0</th>\n",
       "      <td>23</td>\n",
       "      <td>1.443644</td>\n",
       "      <td>1.528181</td>\n",
       "    </tr>\n",
       "    <tr>\n",
       "      <th>1</th>\n",
       "      <td>114</td>\n",
       "      <td>1.194502</td>\n",
       "      <td>0.732621</td>\n",
       "    </tr>\n",
       "    <tr>\n",
       "      <th>2</th>\n",
       "      <td>53</td>\n",
       "      <td>0.729559</td>\n",
       "      <td>1.056051</td>\n",
       "    </tr>\n",
       "    <tr>\n",
       "      <th>3</th>\n",
       "      <td>110</td>\n",
       "      <td>1.325311</td>\n",
       "      <td>1.624600</td>\n",
       "    </tr>\n",
       "    <tr>\n",
       "      <th>4</th>\n",
       "      <td>91</td>\n",
       "      <td>0.816386</td>\n",
       "      <td>0.201507</td>\n",
       "    </tr>\n",
       "  </tbody>\n",
       "</table>\n",
       "</div>"
      ],
      "text/plain": [
       "    id  columna5  columna6\n",
       "0   23  1.443644  1.528181\n",
       "1  114  1.194502  0.732621\n",
       "2   53  0.729559  1.056051\n",
       "3  110  1.325311  1.624600\n",
       "4   91  0.816386  0.201507"
      ]
     },
     "execution_count": 11,
     "metadata": {},
     "output_type": "execute_result"
    }
   ],
   "source": [
    "df = pd.DataFrame(session.execute(query).all())\n",
    "df.head()"
   ]
  },
  {
   "cell_type": "markdown",
   "id": "a8878b8a",
   "metadata": {
    "id": "a8878b8a"
   },
   "source": [
    "Finalmente, eliminamos la tabla creada para este ejercicio:"
   ]
  },
  {
   "cell_type": "code",
   "execution_count": 12,
   "id": "2a505d95",
   "metadata": {
    "id": "2a505d95"
   },
   "outputs": [
    {
     "data": {
      "text/plain": [
       "<cassandra.cluster.ResultSet at 0x2c123048290>"
      ]
     },
     "execution_count": 12,
     "metadata": {},
     "output_type": "execute_result"
    }
   ],
   "source": [
    "query = \"\"\"\n",
    "DROP TABLE test.tabla_pandas;\n",
    "\"\"\"\n",
    "session.execute(query, timeout=None)"
   ]
  },
  {
   "cell_type": "markdown",
   "id": "c1719f04",
   "metadata": {
    "id": "c1719f04"
   },
   "source": [
    "## **3. Recursos Adicionales**\n",
    "---\n",
    "\n",
    "* [Python read cassandra data into pandas](https://stackoverflow.com/questions/41247345/python-read-cassandra-data-into-pandas).\n",
    "* [How to insert pandas dataframe into cassandra(https://stackoverflow.com/questions/49108809/how-to-insert-pandas-dataframe-into-cassandra)."
   ]
  },
  {
   "cell_type": "markdown",
   "id": "89af4cc4",
   "metadata": {
    "id": "89af4cc4"
   },
   "source": [
    "## **4. Créditos**\n",
    "---\n",
    "\n",
    "**Profesor**\n",
    "\n",
    "- [Jorge E. Camargo, PhD](https://dis.unal.edu.co/~jecamargom/)\n",
    "\n",
    "**Diseño, desarrollo del notebook y material audiovisual**\n",
    "\n",
    "- [Juan S. Lara MSc](https://www.linkedin.com/in/juan-sebastian-lara-ramirez-43570a214/)\n",
    "\n",
    "**Universidad Nacional de Colombia** - *Facultad de Ingeniería*"
   ]
  }
 ],
 "metadata": {
  "colab": {
   "private_outputs": true,
   "provenance": []
  },
  "jupytext": {
   "cell_metadata_filter": "-all",
   "main_language": "python",
   "notebook_metadata_filter": "-all"
  },
  "kernelspec": {
   "display_name": "Python 3 (ipykernel)",
   "language": "python",
   "name": "python3"
  },
  "language_info": {
   "codemirror_mode": {
    "name": "ipython",
    "version": 3
   },
   "file_extension": ".py",
   "mimetype": "text/x-python",
   "name": "python",
   "nbconvert_exporter": "python",
   "pygments_lexer": "ipython3",
   "version": "3.11.5"
  }
 },
 "nbformat": 4,
 "nbformat_minor": 5
}
