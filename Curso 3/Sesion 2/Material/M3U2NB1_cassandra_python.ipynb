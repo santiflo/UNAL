{
  "cells": [
    {
      "cell_type": "markdown",
      "id": "1a2b820e",
      "metadata": {
        "id": "1a2b820e"
      },
      "source": [
        "<img src=\"https://drive.google.com/uc?export=view&id=15SNbs9etrW7wdww8q0BYpewEgOKC1d3m\" width=\"100%\" alt=\"Encabezado unidad 2\"></img>"
      ]
    },
    {
      "cell_type": "markdown",
      "id": "3893fd9b",
      "metadata": {
        "id": "3893fd9b"
      },
      "source": [
        "# **Cassandra y Python**\n",
        "---\n",
        "\n",
        "En este notebook mostraremos cómo realizar una conexión a una base de datos en _Cassandra_ desde _Python_"
      ]
    },
    {
      "cell_type": "markdown",
      "id": "0ffe7b46",
      "metadata": {
        "id": "0ffe7b46"
      },
      "source": [
        "## **1. ¿Qué es Cassandra?**\n",
        "---\n",
        "\n",
        "<img src=\"https://drive.google.com/uc?export=view&id=1z60Ka4d5xQZFiiSXp2giyLAEhXHdiHMW\" width=\"50%\" alt=\"Logo cassandra\"></img>\n",
        "\n",
        "* Es una base de datos columnar NoSQL distribuida y basada en modelos de almacenamiento tabulares.\n",
        "* Fue escrita en _Java_ lo cual permite el manejo de grandes cantidades de datos de forma segura.\n",
        "* Fue desarrollada en _Facebook_ y lanzada en el 2008, aunque en el 2009 se volvió proyecto de código abierto de tipo Apache."
      ]
    },
    {
      "cell_type": "markdown",
      "id": "02e1a6bd",
      "metadata": {
        "id": "02e1a6bd"
      },
      "source": [
        "## **2. Creación de la Base de Datos**\n",
        "---\n",
        "\n",
        "Para esta práctica debe crear una cuenta gratuita en [Astra](https://astra.datastax.com/register), puede registrarse con una cuenta de _gmail_, o una cuenta de _GitHub_ o usando su correo personal.\n",
        "\n",
        "Una vez creada la cuenta debe ingresar la siguiente información sobre el uso de astra:\n",
        "\n",
        "<img src=\"https://drive.google.com/uc?export=view&id=1se0WQzpK9GqyacmYWpD6DDGqBWXLV8jC\" width=\"50%\">\n",
        "\n",
        "Con esto, llegará al panel de control general de Astra donde deberá crear una base de datos:\n",
        "\n",
        "<img src=\"https://drive.google.com/uc?export=view&id=1bCG3V9XPgvLm2UmuJWNhCG_Vakz4rHmR\" width=\"80%\">\n",
        "\n",
        "Debe poner las siguientes configuraciones en la creación de la base de datos:\n",
        "\n",
        "* **Database name**: `mlds3`\n",
        "* **Keyspace name**: `test`\n",
        "* **Provider and region**: puede usar cualquiera de las disponibles, se recomienda usar los valores de la siguiente imagen.\n",
        "\n",
        "<img src=\"https://drive.google.com/uc?export=view&id=1qlIxc-L90RNX70EN7J3OlR5K5I8AiNud\" width=\"50%\">\n",
        "\n",
        "Luego de crear la base de datos, Astra le proveerá un token con la configuración por defecto, no es necesario que lo descargue, pues más adelante configuraremos más permisos para el acceso a la base de datos.\n",
        "\n",
        "Ahora, vamos a crear el token de acceso para poder acceder a la base de datos y obtener el archivo con la información del servidor. Para ello hacemos clic en la base de datos que creamos y damos clic en **connect**\n",
        "\n",
        "<img src=\"https://drive.google.com/uc?export=view&id=1O_hKazRtYp2XDF1f2MWWRQm_qOCBRZS3\" width=\"60%\">\n",
        "\n",
        "\n",
        "Debe bajar seleccionar el tipo de conexión por **driver** de tipo **native** con el lenguaje de programación _Python_. Esto mostrará los pasos que debe seguir para poder realizar la conexión.\n",
        "\n",
        "<img src=\"https://drive.google.com/uc?export=view&id=1wSeh1FY8OeDDAIHx4sBJOPxq-CHE0QNn\" width=\"50%\">\n",
        "\n",
        "Descargue el archivo **bundle** y cambie el nombre a `bundle.zip`.\n",
        "\n",
        "<img src=\"https://drive.google.com/uc?export=view&id=1YIcapxtqVBtWbC_DNyjPYJm4tiRI82dN\" width=\"50%\">\n",
        "\n",
        "Luego descargue el **token** y cambie el nombre a `token.json`\n",
        "\n",
        "<img src=\"https://drive.google.com/uc?export=view&id=1_iRltvUuz3Atfv_T8j07peroBC09NBku\" width=\"50%\">\n",
        "\n",
        "Por último debe subir los archivos `token.json` y `bundle.zip` a google colaboratory o dejarlos en el espacio de trabajo donde está corriendo el notebook."
      ]
    },
    {
      "cell_type": "markdown",
      "id": "37ff5d5a",
      "metadata": {
        "id": "37ff5d5a"
      },
      "source": [
        "## **3. Conexión a la Base de Datos**\n",
        "---\n",
        "\n",
        "La conexión a la base de datos se da por medio de la librería `cassandra-driver`, la puede instalar con el siguiente comando:"
      ]
    },
    {
      "cell_type": "code",
      "execution_count": null,
      "id": "21189b0c",
      "metadata": {
        "id": "21189b0c"
      },
      "outputs": [],
      "source": [
        "!pip install cassandra-driver"
      ]
    },
    {
      "cell_type": "markdown",
      "id": "20a15f6c",
      "metadata": {
        "id": "20a15f6c"
      },
      "source": [
        "Finalmente, importamos las librerías necesarias para la conexión:"
      ]
    },
    {
      "cell_type": "code",
      "execution_count": null,
      "id": "188a5069",
      "metadata": {
        "id": "188a5069"
      },
      "outputs": [],
      "source": [
        "from cassandra.cluster import Cluster\n",
        "from cassandra.auth import PlainTextAuthProvider\n",
        "import json"
      ]
    },
    {
      "cell_type": "markdown",
      "id": "8c3729e5",
      "metadata": {
        "id": "8c3729e5"
      },
      "source": [
        "Para conectarse debe descargar el *bundle* y el token de acceso en formato `csv` que obtuvo al momento de crear la base de datos. Estos archivos los debe subir a google colaboratory.\n",
        "\n",
        "Veamos cómo crear la conexión:\n",
        "\n",
        "> **Nota**: debe cambiar el nombre del bundle (formato zip) y del token (formato csv) a el nombre que tengan estos archivos en su base de datos."
      ]
    },
    {
      "cell_type": "code",
      "execution_count": null,
      "id": "6267113b",
      "metadata": {
        "id": "6267113b"
      },
      "outputs": [],
      "source": [
        "cloud_config= {\n",
        "        \"secure_connect_bundle\": \"bundle.zip\" # nombre de su archivo de bundle\n",
        "}\n",
        "with open('token.json') as user_file:\n",
        "  token = json.loads(user_file.read())"
      ]
    },
    {
      "cell_type": "markdown",
      "id": "c5493a1e",
      "metadata": {
        "id": "c5493a1e"
      },
      "source": [
        "Ahora, vamos a crear los objeton de conexión y autenticación, creamos los siguientes tres objetos:\n",
        "\n",
        "* `auth_provider`: objeto de autenticación creado con las credenciales de acceso a [astra](https://astra.datastax.com/).\n",
        "* `cluster`: objeto de identificación del servidor (cluster) maestro de la base de datos.\n",
        "* `session`: session de conexión sobre la que se ejecutarán los distintos comandos (es equivalente al objeto cursor en bases SQL).\n",
        "\n",
        "> **Nota**: las bases de datos gratuitas en [astra](https://astra.datastax.com/) se pausan luego de 48h sin uso, debe revisar desde el panel de control de astra que se encuentre activa o en caso contrario resumirla."
      ]
    },
    {
      "cell_type": "code",
      "execution_count": null,
      "id": "69ce097c",
      "metadata": {
        "id": "69ce097c"
      },
      "outputs": [],
      "source": [
        "auth_provider = PlainTextAuthProvider(\n",
        "        token[\"clientId\"],\n",
        "        token[\"secret\"]\n",
        "        )\n",
        "cluster = Cluster(\n",
        "        cloud=cloud_config,\n",
        "        auth_provider=auth_provider\n",
        "        )\n",
        "session = cluster.connect()"
      ]
    },
    {
      "cell_type": "markdown",
      "id": "fcad3242",
      "metadata": {
        "id": "fcad3242"
      },
      "source": [
        "## **4. Ejecución de la Consulta**\n",
        "---\n",
        "\n",
        "Veamos como ejecutar un comando en la base de datos:"
      ]
    },
    {
      "cell_type": "code",
      "execution_count": null,
      "id": "fd59bdf5",
      "metadata": {
        "id": "fd59bdf5"
      },
      "outputs": [],
      "source": [
        "query = \"\"\"\n",
        "SELECT\n",
        "    release_version\n",
        "FROM\n",
        "    system.local\n",
        ";\n",
        "\"\"\"\n",
        "row = session.execute(query).one()\n",
        "print(row[0])"
      ]
    },
    {
      "cell_type": "markdown",
      "id": "34c24ebb",
      "metadata": {
        "id": "34c24ebb"
      },
      "source": [
        "Este resultado muestra la versión del servidor de cassandra, debe obtener un número parecido (no necesariamente igual) al siguiente:\n",
        "\n",
        "```\n",
        "4.0.0.6816\n",
        "```"
      ]
    },
    {
      "cell_type": "markdown",
      "id": "fec26d1a",
      "metadata": {
        "id": "fec26d1a"
      },
      "source": [
        "## **5. Recursos Adicionales**\n",
        "---\n",
        "\n",
        "* [AstraDB DataStax](https://www.datastax.com/products/datastax-astra).\n",
        "* [Python driver for Apache Cassandra](https://docs.datastax.com/en/developer/python-driver/3.25/)."
      ]
    },
    {
      "cell_type": "markdown",
      "id": "81e5f55c",
      "metadata": {
        "id": "81e5f55c"
      },
      "source": [
        "## **6. Créditos**\n",
        "---\n",
        "\n",
        "**Profesor**\n",
        "\n",
        "- [Jorge E. Camargo, PhD](https://dis.unal.edu.co/~jecamargom/)\n",
        "\n",
        "**Diseño, desarrollo del notebook y material audiovisual**\n",
        "\n",
        "- [Juan S. Lara MSc](https://www.linkedin.com/in/juan-sebastian-lara-ramirez-43570a214/)\n",
        "\n",
        "**Universidad Nacional de Colombia** - *Facultad de Ingeniería*"
      ]
    }
  ],
  "metadata": {
    "jupytext": {
      "cell_metadata_filter": "-all",
      "main_language": "python",
      "notebook_metadata_filter": "-all"
    },
    "colab": {
      "provenance": [],
      "private_outputs": true
    },
    "language_info": {
      "name": "python"
    },
    "kernelspec": {
      "name": "python3",
      "display_name": "Python 3"
    }
  },
  "nbformat": 4,
  "nbformat_minor": 5
}