{
 "cells": [
  {
   "cell_type": "markdown",
   "id": "6418beed",
   "metadata": {
    "id": "6418beed"
   },
   "source": [
    "<img src=\"https://drive.google.com/uc?export=view&id=15SNbs9etrW7wdww8q0BYpewEgOKC1d3m\" width=\"100%\" alt=\"Encabezado unidad 2\"></img>"
   ]
  },
  {
   "cell_type": "markdown",
   "id": "761e8e39",
   "metadata": {
    "id": "761e8e39"
   },
   "source": [
    "# **Taller 2: Cassandra**\n",
    "---\n",
    "\n",
    "En este taller se evaluarán las habilidades adquiridas usando _Cassandra_ desde _Python_. Usted deberá realizar algunas operaciones de consulta sobre el conjunto de datos [Netflix Data: Cleaning, Analysis and Visualization](https://www.kaggle.com/datasets/ariyoomotade/netflix-data-cleaning-analysis-and-visualization)\n",
    "\n",
    "Este conjunto de datos incluye la información acerca del contenido añadido a la plataforma de streaming *Netflix* entre el $2008$ y el $2021$. Está conformado por 12 columnas, las cuales son:\n",
    "\n",
    "* `show_id:` corresponde a la llave primaria de la tabla. Tiene un formato establecido el cual corresponde a una <i>s</i> seguida de un número en secuencia, por ejemplo: s34.\n",
    "* `type:` indica el tipo de show ofrecido (Película o Serie).\n",
    "* `title:` señala el nombre de la serie o la película.\n",
    "* `director:` indica el nombre de quién dirigió la película o serie.\n",
    "* `country:` indica el lugar de producción del show.\n",
    "* `date_added:` muestra la fecha de publicación de la serie o película en la plataforma con el formato <i>MMMMMM DD, AAAA</i>.\n",
    "* `release_year:` muestra el año de publicación original de la película o serie.\n",
    "* `rating:` muestra las calificaciones o el nivel de conveniencia de la película según su contenido, por ejemplo: PG-13, TV-PG, etc.\n",
    "* `duration:` corresponde a la duración en minutos en el caso de las películas y la cantidad de temporadas en el caso de las series.\n",
    "* `listed_in:` indica el género o categoría donde se clasifica la serie o película dentro de la plataforma.\n",
    "\n",
    "> **Nota:** Esta tarea va a ser calificada **dentro del mismo notebook**. Para esto, en cada ejercicio se indicará las intrucciones, la función calificada, también los lugares donde debe escribir su código sin modificar lo demás con un aproximado de cantidad de líneas a escribir. No se preocupe si su código toma más líneas, esto es simplemente un aproximado destinado a que pueda replantear su estrategia si el código está tomando más de las esperadas. No es un requisito estricto y soluciones más largas también son válidas.\n",
    "\n",
    "Al finalizar, para realizar el envío (*submission*), debe ejecutar la función `submit_task` al final, en la sección de evaluación **Edunext**. Recuerde que primero debe haber visto la actividad dentro de la plataforma para hacer correctamente el enlace y que la calificación se vea reflejada en esta.\n"
   ]
  },
  {
   "cell_type": "markdown",
   "id": "w-N11wux48EL",
   "metadata": {
    "id": "w-N11wux48EL"
   },
   "source": [
    "Ejecute las siguientes celdas para crear el enlace con su cuenta de UNCode"
   ]
  },
  {
   "cell_type": "code",
   "execution_count": null,
   "id": "Ay1VEEV143-w",
   "metadata": {
    "id": "Ay1VEEV143-w"
   },
   "outputs": [],
   "source": [
    "!pip install rlxcrypt\n",
    "!wget --no-cache -O session.pye -q https://raw.githubusercontent.com/JuezUN/INGInious/master/external%20libs/session.pye"
   ]
  },
  {
   "cell_type": "code",
   "execution_count": null,
   "id": "o1c1UHyz5EnF",
   "metadata": {
    "id": "o1c1UHyz5EnF"
   },
   "outputs": [],
   "source": [
    "import rlxcrypt\n",
    "import session\n",
    "\n",
    "grader = session.LoginSequence(\"BD-GroupMLDS-3-2023-2@f3eb9964-cbee-491a-b07d-195dca3eae98\")"
   ]
  },
  {
   "cell_type": "markdown",
   "id": "446QgSsN448T",
   "metadata": {
    "id": "446QgSsN448T"
   },
   "source": [
    "Ejecute la siguiente celda para importar las librerías que permiten la ejecucuión de los queries de *Cassandra*."
   ]
  },
  {
   "cell_type": "code",
   "execution_count": null,
   "id": "e838e2f7",
   "metadata": {
    "id": "e838e2f7"
   },
   "outputs": [],
   "source": [
    "!pip install cassandra-driver"
   ]
  },
  {
   "cell_type": "code",
   "execution_count": null,
   "id": "a05bfa16",
   "metadata": {
    "id": "a05bfa16"
   },
   "outputs": [],
   "source": [
    "import pandas as pd\n",
    "from cassandra.cluster import Cluster\n",
    "from cassandra.auth import PlainTextAuthProvider\n",
    "from IPython.display import display\n",
    "import json"
   ]
  },
  {
   "cell_type": "markdown",
   "id": "ad302242",
   "metadata": {
    "id": "ad302242"
   },
   "source": [
    "## **Conexión con Astra**\n",
    "---\n",
    "\n",
    "Ahora, realizaremos la conexión a la base de datos de [astra](https://astra.datastax.com/) tal y cómo se mostró en el notebook `M3U2NB1_cassandra_python.ipynb`:\n",
    "\n",
    "> **Nota**: recuerde subir los archivos `bundle.zip` y `token.json`."
   ]
  },
  {
   "cell_type": "code",
   "execution_count": null,
   "id": "8b214610",
   "metadata": {
    "id": "8b214610"
   },
   "outputs": [],
   "source": [
    "cloud_config= {\n",
    "        \"secure_connect_bundle\": \"bundle.zip\" # nombre de su archivo de bundle\n",
    "}\n",
    "with open('token.json') as user_file:\n",
    "  token = json.loads(user_file.read())\n",
    "\n",
    "auth_provider = PlainTextAuthProvider(\n",
    "        token[\"clientId\"],\n",
    "        token[\"secret\"]\n",
    "        )\n",
    "cluster = Cluster(\n",
    "        cloud=cloud_config,\n",
    "        auth_provider=auth_provider\n",
    "        )\n",
    "session = cluster.connect()"
   ]
  },
  {
   "cell_type": "markdown",
   "id": "b24dc481",
   "metadata": {
    "id": "b24dc481"
   },
   "source": [
    "## **Creación de la Base de Datos**\n",
    "---\n",
    "\n",
    "Primero, vamos a cargar el conjunto de datos desde `pandas` para subirlo al servidor de _Cassandra_:"
   ]
  },
  {
   "cell_type": "code",
   "execution_count": null,
   "id": "690bb528",
   "metadata": {
    "id": "690bb528"
   },
   "outputs": [],
   "source": [
    "df = pd.read_parquet(\"https://drive.google.com/uc?export=view&id=1Fn9NAv9mDnxAklS8HQ_xG8ZhLeHYSLz_\")"
   ]
  },
  {
   "cell_type": "markdown",
   "id": "91dfa3e4",
   "metadata": {
    "id": "91dfa3e4"
   },
   "source": [
    "El siguiente código crea las tablas necesarias para el taller, no debe modificar esta celda. Puede revisar el código si desea ver el proceso de creación de la base de datos y carga de datos."
   ]
  },
  {
   "cell_type": "code",
   "execution_count": null,
   "id": "d5c54606",
   "metadata": {
    "id": "d5c54606",
    "lines_to_next_cell": 1
   },
   "outputs": [],
   "source": [
    "#@title **Carga de datos. Ejecute esta celda para obtener todos los datos**\n",
    "queries = []\n",
    "table_name = [\n",
    "        \"query_by_year\",\n",
    "        \"query_by_country\",\n",
    "        \"query_by_year_country\"\n",
    "        ]\n",
    "queries.extend(\n",
    "        [\n",
    "            \"DROP TABLE IF EXISTS test.{};\".format(table)\n",
    "            for table in table_name\n",
    "            ]\n",
    "        )\n",
    "queries.append(\"\"\"\n",
    "CREATE TABLE IF NOT EXISTS test.query_by_year (\n",
    "        show_id TEXT,\n",
    "        type TEXT,\n",
    "        title TEXT,\n",
    "        director TEXT,\n",
    "        country TEXT,\n",
    "        date_added TEXT,\n",
    "        release_year INT,\n",
    "        rating TEXT,\n",
    "        duration TEXT,\n",
    "        listed_in TEXT,\n",
    "        PRIMARY KEY(release_year, type, rating, show_id)\n",
    "        )\n",
    ";\n",
    "\"\"\"\n",
    ")\n",
    "\n",
    "queries.append(\"\"\"\n",
    "CREATE TABLE IF NOT EXISTS test.query_by_country (\n",
    "        show_id TEXT,\n",
    "        type TEXT,\n",
    "        title TEXT,\n",
    "        director TEXT,\n",
    "        country TEXT,\n",
    "        date_added TEXT,\n",
    "        release_year INT,\n",
    "        rating TEXT,\n",
    "        duration TEXT,\n",
    "        listed_in TEXT,\n",
    "        PRIMARY KEY(country, type, rating, show_id)\n",
    "        )\n",
    ";\n",
    "\"\"\")\n",
    "\n",
    "queries.append(\"\"\"\n",
    "CREATE TABLE IF NOT EXISTS test.query_by_year_country (\n",
    "        show_id TEXT,\n",
    "        type TEXT,\n",
    "        title TEXT,\n",
    "        director TEXT,\n",
    "        country TEXT,\n",
    "        date_added TEXT,\n",
    "        release_year INT,\n",
    "        rating TEXT,\n",
    "        duration TEXT,\n",
    "        listed_in TEXT,\n",
    "        PRIMARY KEY((release_year, country), type, rating, show_id)\n",
    "        )\n",
    ";\n",
    "\"\"\")\n",
    "\n",
    "for query in queries:\n",
    "    session.execute(query, timeout=None)\n",
    "\n",
    "query_format = \"\"\"\n",
    "INSERT INTO\n",
    "    test.{} (\n",
    "            show_id, type, title, director, country, date_added,\n",
    "            release_year, rating, duration, listed_in\n",
    "            )\n",
    "VALUES\n",
    "    ('{}', '{}', '{}', '{}', '{}', '{}', {}, '{}', '{}', '{}')\n",
    ";\n",
    "\"\"\"\n",
    "\n",
    "batch_size = 256\n",
    "for table in table_name:\n",
    "    data = [\n",
    "            query_format.format(\n",
    "                table, row.show_id, row.type, row.title,\n",
    "                row.director, row.country, row.date_added,\n",
    "                row.release_year, row.rating, row.duration,\n",
    "                row.listed_in\n",
    "                )\n",
    "            for row in df.itertuples()\n",
    "            ]\n",
    "    for i in range(len(data) // batch_size + 1):\n",
    "        batch_data = \"\\n\".join(\n",
    "                data[i * batch_size: (i + 1) * batch_size]\n",
    "                )\n",
    "        query = \"\"\"\n",
    "        BEGIN BATCH\n",
    "        {}\n",
    "        APPLY BATCH;\n",
    "        \"\"\".format(batch_data)\n",
    "        session.execute(query)"
   ]
  },
  {
   "cell_type": "markdown",
   "id": "11a67934",
   "metadata": {
    "id": "11a67934"
   },
   "source": [
    "## **Recomendaciones**\n",
    "---\n",
    "\n",
    "* Para todos los ejercicios se consideran los datos de la tabla [Netflix Data: Cleaning, Analysis and Visualization](https://www.kaggle.com/datasets/ariyoomotade/netflix-data-cleaning-analysis-and-visualization), señalada al inicio del notebook. Además, las tablas se diseñaron siguiendo el enfoque **Query - First Design**.\n",
    "* La base de datos creada tiene el esquema mostrado en la siguiente imagen (llaves de partición en rojo y llaves de agrupamiento en azul). En los ejercicios propuestos en este notebook deberá seleccionar la tabla más apropiada para una consulta en específico.\n",
    "\n",
    "<img src=\"https://drive.google.com/uc?export=view&id=1YENB9PcMLXo0bAo2NBc95wqT7Trybyec\" width=\"40%\" alt=\"Diagrama base de datos\">"
   ]
  },
  {
   "cell_type": "markdown",
   "id": "78ec340a",
   "metadata": {
    "id": "78ec340a"
   },
   "source": [
    "## **1. Shows de un Año Específico**\n",
    "---\n",
    "\n",
    "En este primer ejercicio usted deberá completar la función `shows_year`, esta recibe como entrada un año y debe retornar una cadena de texto con una consulta **CQL** válida que permita obtener los campos `title` y `director` de **TODOS** los shows para un año de lanzamiento específico.\n",
    "\n",
    "Debe modificar el string `query` para cumplir con la consulta. Se recomienda usar [f-strings](https://realpython.com/python-f-strings/) para poder cumplir con este requisito.\n",
    "\n",
    "**Parámetros**\n",
    "\n",
    "* `year`: entero que representa el año de lanzamiento de un show.\n",
    "\n",
    "**Retorna**\n",
    "\n",
    "* `query`: cadena de texto con una consulta válida de **CQL**."
   ]
  },
  {
   "cell_type": "code",
   "execution_count": null,
   "id": "7ZvppJ8S8Rit",
   "metadata": {
    "id": "7ZvppJ8S8Rit"
   },
   "outputs": [],
   "source": [
    "def shows_year(year):\n",
    "    query = f\"\"\"\n",
    "    SELECT\n",
    "        title,\n",
    "        director\n",
    "    FROM\n",
    "        test.query_by_year\n",
    "    WHERE\n",
    "        release_year = {year}\n",
    "    ;\n",
    "    \"\"\"\n",
    "    return query.format(year)"
   ]
  },
  {
   "cell_type": "markdown",
   "id": "c75930b6",
   "metadata": {
    "id": "c75930b6"
   },
   "source": [
    "Use la siguiente celda para probar su código para filtrar los registros en el año 2018."
   ]
  },
  {
   "cell_type": "code",
   "execution_count": null,
   "id": "51adf210",
   "metadata": {
    "id": "51adf210",
    "lines_to_next_cell": 1
   },
   "outputs": [],
   "source": [
    "try:\n",
    "    df = pd.DataFrame(session.execute(shows_year(2018)).all())\n",
    "    display(df.head(10))\n",
    "except Exception as e:\n",
    "    print(e)"
   ]
  },
  {
   "cell_type": "markdown",
   "id": "15d18e13",
   "metadata": {
    "id": "15d18e13"
   },
   "source": [
    "**Salida esperada:**\n",
    "\n",
    "|    | title                        | director          |\n",
    "|---:|:-----------------------------|:------------------|\n",
    "|  0 | a champion heart             | david de vos      |\n",
    "|  1 | pup star world tour          | robert vince      |\n",
    "|  2 | ladylike                     | not given         |\n",
    "|  3 | adventures in public school  | kyle rideout      |\n",
    "|  4 | at eternitys gate            | julian schnabel   |\n",
    "|  5 | operation finale             | chris weitz       |\n",
    "|  6 | elliot the littlest reindeer | jennifer westcott |\n",
    "|  7 | adrift                       | baltasar kormkur  |\n",
    "|  8 | okkos inn                    | kitaro kosaka     |\n",
    "|  9 | mirai                        | mamoru hosoda     |"
   ]
  },
  {
   "cell_type": "markdown",
   "id": "a617a7f8",
   "metadata": {
    "id": "a617a7f8"
   },
   "source": [
    "<details>    \n",
    "<summary>\n",
    "    <font size=\"3\" color=\"darkgreen\"><b>Pista 1</b></font>\n",
    "</summary>\n",
    "\n",
    "Verifique que los campos seleccionados en su consulta están escritos correspondientemente a los nombres de los campos en las tablas y en minúscula:\n",
    "\n",
    "  - título: `title`\n",
    "  - director: `director`\n",
    "</details>"
   ]
  },
  {
   "cell_type": "markdown",
   "id": "8325ab3f",
   "metadata": {
    "id": "8325ab3f"
   },
   "source": [
    "<details>    \n",
    "<summary>\n",
    "    <font size=\"3\" color=\"darkgreen\"><b>Pista 2</b></font>\n",
    "</summary>\n",
    "\n",
    "Verifique que al momento de seleccionar la tabla la está escribiendo correctamente en su query, el nombre de la tabla debe cumplir la siguiente estructura:\n",
    "\n",
    "```sql\n",
    "<nombre_keyspace>.<nombre_tabla>\n",
    "```\n",
    "</details>"
   ]
  },
  {
   "cell_type": "markdown",
   "id": "258dacb2",
   "metadata": {
    "id": "258dacb2"
   },
   "source": [
    "<details>    \n",
    "<summary>\n",
    "    <font size=\"3\" color=\"darkgreen\"><b>Pista 3</b></font>\n",
    "</summary>\n",
    "\n",
    "* Verifique que al momento de filtrar (momento de usar la sentencia `WHERE`) está usando una llave de partición o una llave de agrupamiento.\n",
    "* Si la tabla sobre la que está haciendo la consulta, no tiene como llave de partición o agrupamiento el campo con el que está filtrando, probablemente está seleccionando mal la tabla.\n",
    "</details>"
   ]
  },
  {
   "cell_type": "markdown",
   "id": "CtKCtq2Y8m1g",
   "metadata": {
    "id": "CtKCtq2Y8m1g"
   },
   "source": [
    "### **Evaluar código**"
   ]
  },
  {
   "cell_type": "code",
   "execution_count": null,
   "id": "hpuEryev6wWj",
   "metadata": {
    "id": "hpuEryev6wWj"
   },
   "outputs": [],
   "source": [
    "grader.run_test(\"Test 1_1\", globals())"
   ]
  },
  {
   "cell_type": "code",
   "execution_count": null,
   "id": "x2yz0ktDRysT",
   "metadata": {
    "id": "x2yz0ktDRysT"
   },
   "outputs": [],
   "source": [
    "grader.run_test(\"Test 1_2\", globals())"
   ]
  },
  {
   "cell_type": "code",
   "execution_count": null,
   "id": "Y3I42yT7SHHk",
   "metadata": {
    "id": "Y3I42yT7SHHk"
   },
   "outputs": [],
   "source": [
    "grader.run_test(\"Test 1_3\", globals())"
   ]
  },
  {
   "cell_type": "markdown",
   "id": "30e023f0",
   "metadata": {
    "id": "30e023f0"
   },
   "source": [
    "## **2. Shows de un Tipo y Año Específico**\n",
    "---\n",
    "\n",
    "En este punto debe seleccionar todos los shows de un tipo y año en específico. Debe completar la función `shows_year_type`, la cual deberá retornar una cadena de texto con una consulta **CQL** válida que contenga los campos `title` y `director` de cada una de las películas o series que cumplan con los argumentos dados.\n",
    "\n",
    "**Parámetros**\n",
    "\n",
    "* `year`: número entero que sirve para señalar el año de publicación original de la película o serie.\n",
    "* `show_type`: string que indica el tipo del show que se desea obtener.\n",
    "\n",
    "**Retorna**\n",
    "\n",
    "* `query`: cadena de texto con una consulta válida para _Cassandra_."
   ]
  },
  {
   "cell_type": "code",
   "execution_count": null,
   "id": "bFUUmJkK8YeG",
   "metadata": {
    "id": "bFUUmJkK8YeG"
   },
   "outputs": [],
   "source": [
    "def shows_year_type(year, show_type):\n",
    "    query = f\"\"\"\n",
    "    SELECT\n",
    "        title,\n",
    "        director\n",
    "    FROM\n",
    "        test.query_by_year\n",
    "    where\n",
    "        release_year = {year}\n",
    "        and type = '{show_type}'\n",
    "    ;\n",
    "    \"\"\"\n",
    "    return query.format(year, show_type)"
   ]
  },
  {
   "cell_type": "markdown",
   "id": "d7fb49d2",
   "metadata": {
    "id": "d7fb49d2"
   },
   "source": [
    "Use la siguiente celda para probar su código:"
   ]
  },
  {
   "cell_type": "code",
   "execution_count": null,
   "id": "da66a144",
   "metadata": {
    "id": "da66a144",
    "lines_to_next_cell": 1
   },
   "outputs": [],
   "source": [
    "try:\n",
    "    df = pd.DataFrame(session.execute(shows_year_type(2017, \"tv show\")).all())\n",
    "    display(df.head(10))\n",
    "except Exception as e:\n",
    "    print(e)"
   ]
  },
  {
   "cell_type": "markdown",
   "id": "780a9929",
   "metadata": {
    "id": "780a9929"
   },
   "source": [
    "**Salida esperada:**\n",
    "\n",
    "Para el el caso `shows_year_type(2017, \"tv show\")` se obtiene la siguiente tabla de ejemplo:\n",
    "\n",
    "<table border=\"1\" class=\"dataframe\">\n",
    "  <thead>\n",
    "    <tr style=\"text-align: right;\">\n",
    "      <th></th>\n",
    "      <th>title</th>\n",
    "      <th>director</th>\n",
    "    </tr>\n",
    "  </thead>\n",
    "  <tbody>\n",
    "    <tr>\n",
    "      <th>0</th>\n",
    "      <td>my secret romance</td>\n",
    "      <td>not given</td>\n",
    "    </tr>\n",
    "    <tr>\n",
    "      <th>1</th>\n",
    "      <td>sons of the caliphate</td>\n",
    "      <td>not given</td>\n",
    "    </tr>\n",
    "    <tr>\n",
    "      <th>2</th>\n",
    "      <td>because this is my first life</td>\n",
    "      <td>not given</td>\n",
    "    </tr>\n",
    "    <tr>\n",
    "      <th>3</th>\n",
    "      <td>the bride of habaek</td>\n",
    "      <td>not given</td>\n",
    "    </tr>\n",
    "    <tr>\n",
    "      <th>4</th>\n",
    "      <td>my sassy girl</td>\n",
    "      <td>not given</td>\n",
    "    </tr>\n",
    "    <tr>\n",
    "      <th>5</th>\n",
    "      <td>tomorrow with you</td>\n",
    "      <td>not given</td>\n",
    "    </tr>\n",
    "    <tr>\n",
    "      <th>6</th>\n",
    "      <td>chicago typewriter</td>\n",
    "      <td>not given</td>\n",
    "    </tr>\n",
    "    <tr>\n",
    "      <th>7</th>\n",
    "      <td>march comes in like a lion</td>\n",
    "      <td>not given</td>\n",
    "    </tr>\n",
    "    <tr>\n",
    "      <th>8</th>\n",
    "      <td>this evening</td>\n",
    "      <td>not given</td>\n",
    "    </tr>\n",
    "    <tr>\n",
    "      <th>9</th>\n",
    "      <td>the kirlian frequency</td>\n",
    "      <td>not given</td>\n",
    "    </tr>\n",
    "  </tbody>\n",
    "</table>"
   ]
  },
  {
   "cell_type": "markdown",
   "id": "21ffb172",
   "metadata": {
    "id": "21ffb172"
   },
   "source": [
    "<details>    \n",
    "<summary>\n",
    "    <font size=\"3\" color=\"darkgreen\"><b>Pista 1</b></font>\n",
    "</summary>\n",
    "\n",
    "Puede usar el operador `AND` para unir dos condiciones lógicas. Por ejemplo, la comparación del año con la comparación del tipo.\n",
    "</details>"
   ]
  },
  {
   "cell_type": "markdown",
   "id": "3f865a8e",
   "metadata": {
    "id": "3f865a8e"
   },
   "source": [
    "<details>    \n",
    "<summary>\n",
    "    <font size=\"3\" color=\"darkgreen\"><b>Pista 2</b></font>\n",
    "</summary>\n",
    "\n",
    "Para realizar correctamente la consulta, recuerde los tipos de datos de los argumentos (`year` es de tipo `INT` y `show_type` de tipo `TEXT`). Recuerde que en **CQL** los datos de tipo texto deben ser acotados por comillas simples `''`.\n",
    "</details>"
   ]
  },
  {
   "cell_type": "markdown",
   "id": "iT6u7ZYX8oQu",
   "metadata": {
    "id": "iT6u7ZYX8oQu"
   },
   "source": [
    "### **Evaluar código**"
   ]
  },
  {
   "cell_type": "code",
   "execution_count": null,
   "id": "gHTgpU8pSqFH",
   "metadata": {
    "id": "gHTgpU8pSqFH"
   },
   "outputs": [],
   "source": [
    "grader.run_test(\"Test 2_1\", globals())"
   ]
  },
  {
   "cell_type": "code",
   "execution_count": null,
   "id": "L6XvGWUJXHHW",
   "metadata": {
    "id": "L6XvGWUJXHHW"
   },
   "outputs": [],
   "source": [
    "grader.run_test(\"Test 2_2\", globals())"
   ]
  },
  {
   "cell_type": "markdown",
   "id": "ee446f04",
   "metadata": {
    "id": "ee446f04"
   },
   "source": [
    "## **3. Número de Shows por País y Tipo**\n",
    "---\n",
    "\n",
    "En este punto usted deberá completar la función `number_shows_country_type` la cual debe retornar una cadena de texto con una consulta **CQL** válida con el recuento de elementos por cada tipo de show en cada uno de los países. La tabla resultante debe obtener los campos `country` (país), `type` (tipo) y un campo adicional que debe nombrar como `counts` con el recuento de shows por tipo y país.\n",
    "\n",
    "**Parámetros**\n",
    "\n",
    "* No hay parámetros de entrada para esta función.\n",
    "\n",
    "**Retorna**\n",
    "\n",
    "* `query`: cadena de texto con una consulta válida de **CQL**."
   ]
  },
  {
   "cell_type": "code",
   "execution_count": null,
   "id": "6MEQRKmJ8Z1v",
   "metadata": {
    "id": "6MEQRKmJ8Z1v"
   },
   "outputs": [],
   "source": [
    "def number_shows_country_type():\n",
    "    query = f\"\"\"\n",
    "    SELECT\n",
    "        country,\n",
    "        type,\n",
    "        count(1) as counts\n",
    "    FROM\n",
    "        test.query_by_country\n",
    "    group by\n",
    "        country,\n",
    "        type\n",
    "    ;\n",
    "    \"\"\"\n",
    "    return query"
   ]
  },
  {
   "cell_type": "markdown",
   "id": "4182d042",
   "metadata": {
    "id": "4182d042"
   },
   "source": [
    "Use la siguiente celda para probar su código:"
   ]
  },
  {
   "cell_type": "code",
   "execution_count": null,
   "id": "47fc16a9",
   "metadata": {
    "id": "47fc16a9",
    "lines_to_next_cell": 1
   },
   "outputs": [],
   "source": [
    "try:\n",
    "    df = pd.DataFrame(session.execute(number_shows_country_type()).all())\n",
    "    display(df.head(10))\n",
    "except Exception as e:\n",
    "    print(e)"
   ]
  },
  {
   "cell_type": "markdown",
   "id": "cd0c2b41",
   "metadata": {
    "id": "cd0c2b41"
   },
   "source": [
    "**Salida esperada:**\n",
    "\n",
    "|    | country              | type    |   counts |\n",
    "|---:|:---------------------|:--------|---------:|\n",
    "|  0 | germany              | movie   |       79 |\n",
    "|  1 | germany              | tv show |       25 |\n",
    "|  2 | mozambique           | movie   |        1 |\n",
    "|  3 | poland               | movie   |       22 |\n",
    "|  4 | poland               | tv show |        8 |\n",
    "|  5 | slovenia             | movie   |        1 |\n",
    "|  6 | united arab emirates | movie   |       20 |\n",
    "|  7 | united arab emirates | tv show |        1 |\n",
    "|  8 | indonesia            | movie   |       84 |\n",
    "|  9 | indonesia            | tv show |        2 |"
   ]
  },
  {
   "cell_type": "markdown",
   "id": "e7069631",
   "metadata": {
    "id": "e7069631"
   },
   "source": [
    "<details>    \n",
    "<summary>\n",
    "    <font size=\"3\" color=\"darkgreen\"><b>Pista 1</b></font>\n",
    "</summary>\n",
    "\n",
    "Se recomienda revisar la función `COUNT()` tal y como se mostró en el taller guiado de _Cassandra_, recuerde que la sintaxis en el lenguaje *CQL* es muy similar al de `SQL`.\n",
    "</details>"
   ]
  },
  {
   "cell_type": "markdown",
   "id": "c08144b3",
   "metadata": {
    "id": "c08144b3"
   },
   "source": [
    "<details>    \n",
    "<summary>\n",
    "    <font size=\"3\" color=\"darkgreen\"><b>Pista 2</b></font>\n",
    "</summary>\n",
    "    \n",
    "Verifique que los campos seleccionados en su consulta corresponden a los nombres de los campos en las tablas y se encuentran en minúscula:\n",
    "\n",
    "  * país: `country`\n",
    "  * tipo: `type`\n",
    "\n",
    "Igualmente recuerde renombrar los conteos obtenidos de la función `COUNT()`, algo de la forma:\n",
    "\n",
    "```sql\n",
    "COUNT(columna) AS counts\n",
    "```\n",
    "</details>"
   ]
  },
  {
   "cell_type": "markdown",
   "id": "b149747f",
   "metadata": {
    "id": "b149747f"
   },
   "source": [
    "<details>    \n",
    "<summary>\n",
    "    <font size=\"3\" color=\"darkgreen\"><b>Pista 3</b></font>\n",
    "</summary>\n",
    "\n",
    "Verifique que esté usando un esquema válido, es decir:\n",
    "\n",
    "```sql\n",
    "SELECT\n",
    "    ...\n",
    "FROM\n",
    "    test.<nombre_tabla>\n",
    "...\n",
    "```\n",
    "</details>"
   ]
  },
  {
   "cell_type": "markdown",
   "id": "b5185ecf",
   "metadata": {
    "id": "b5185ecf"
   },
   "source": [
    "<details>    \n",
    "<summary>\n",
    "    <font size=\"3\" color=\"darkgreen\"><b>Pista 4</b></font>\n",
    "</summary>\n",
    "\n",
    "No olvide que para realizar un `GROUP BY` sobre una llave de agrupamiento, debe agrupar sobre todas las llaves de agrupamiento anteriores a esta, es decir, de acuerdo a las posiciones en las que fue creada la tabla.\n",
    "</details>"
   ]
  },
  {
   "cell_type": "markdown",
   "id": "tQbF3MqP8pZm",
   "metadata": {
    "id": "tQbF3MqP8pZm"
   },
   "source": [
    "### **Evaluar código**"
   ]
  },
  {
   "cell_type": "code",
   "execution_count": null,
   "id": "0qIqfu7-XtNM",
   "metadata": {
    "id": "0qIqfu7-XtNM"
   },
   "outputs": [],
   "source": [
    "grader.run_test(\"Test 3_1\", globals())"
   ]
  },
  {
   "cell_type": "markdown",
   "id": "4fa74bd4",
   "metadata": {
    "id": "4fa74bd4"
   },
   "source": [
    "## **4. Shows en un Año y País Específico**\n",
    "---\n",
    "\n",
    "En este ejercicio usted debe completar la función `shows_year_country`, la cual deberá retornar una cadena de texto con una **CQL** válida para obetener los campos `title` y `director` de todas las películas en un año y país específico.\n",
    "\n",
    "**Parámetros**\n",
    "\n",
    "* `year`: número entero que indica el año sobre el que se debe filtrar.\n",
    "* `country`: string que representa el país de producción de la serie o película que se desea filtrar.\n",
    "\n",
    "**Retorna**\n",
    "\n",
    "* `query`: cadena de texto con una consulta válida para _Cassandra_."
   ]
  },
  {
   "cell_type": "code",
   "execution_count": null,
   "id": "7iZ5mtec8bh9",
   "metadata": {
    "id": "7iZ5mtec8bh9"
   },
   "outputs": [],
   "source": [
    "def shows_year_country(year, country):\n",
    "    query = f\"\"\"\n",
    "    SELECT\n",
    "        title,\n",
    "        director\n",
    "    FROM\n",
    "        test.query_by_year_country\n",
    "    where\n",
    "        country = '{country}'\n",
    "        and release_year = {year}\n",
    "    ;\n",
    "    \"\"\"\n",
    "    return query.format(year, country)"
   ]
  },
  {
   "cell_type": "markdown",
   "id": "ba919f79",
   "metadata": {
    "id": "ba919f79"
   },
   "source": [
    "Use la siguiente celda para probar su código:"
   ]
  },
  {
   "cell_type": "code",
   "execution_count": null,
   "id": "4ac0229d",
   "metadata": {
    "id": "4ac0229d",
    "lines_to_next_cell": 1
   },
   "outputs": [],
   "source": [
    "try:\n",
    "    df = pd.DataFrame(session.execute(shows_year_country(2015, 'germany')).all())\n",
    "    display(df.head(10))\n",
    "except Exception as e:\n",
    "    print(e)"
   ]
  },
  {
   "cell_type": "markdown",
   "id": "62bb6989",
   "metadata": {
    "id": "62bb6989"
   },
   "source": [
    "**Salida esperada:**\n",
    "\n",
    "Para el caso `shows_year_country(2015, 'germany')` debe obtener:\n",
    "\n",
    "<table border=\"1\" class=\"dataframe\">\n",
    "  <thead>\n",
    "    <tr style=\"text-align: right;\">\n",
    "      <th></th>\n",
    "      <th>title</th>\n",
    "      <th>director</th>\n",
    "    </tr>\n",
    "  </thead>\n",
    "  <tbody>\n",
    "    <tr>\n",
    "      <th>0</th>\n",
    "      <td>look whos back</td>\n",
    "      <td>david wnendt</td>\n",
    "    </tr>\n",
    "    <tr>\n",
    "      <th>1</th>\n",
    "      <td>colonia</td>\n",
    "      <td>florian gallenberger</td>\n",
    "    </tr>\n",
    "    <tr>\n",
    "      <th>2</th>\n",
    "      <td>pedal the world</td>\n",
    "      <td>felix starck</td>\n",
    "    </tr>\n",
    "    <tr>\n",
    "      <th>3</th>\n",
    "      <td>a heavy heart</td>\n",
    "      <td>thomas stuber</td>\n",
    "    </tr>\n",
    "    <tr>\n",
    "      <th>4</th>\n",
    "      <td>trken  ein baby</td>\n",
    "      <td>sinan akku</td>\n",
    "    </tr>\n",
    "    <tr>\n",
    "      <th>5</th>\n",
    "      <td>ho mermaid adventures</td>\n",
    "      <td>not given</td>\n",
    "    </tr>\n",
    "  </tbody>\n",
    "</table>"
   ]
  },
  {
   "cell_type": "markdown",
   "id": "2273014d",
   "metadata": {
    "id": "2273014d"
   },
   "source": [
    "<details>    \n",
    "<summary>\n",
    "    <font size=\"3\" color=\"darkgreen\"><b>Pista 1</b></font>\n",
    "</summary>\n",
    "\n",
    "Para realizar correctamente la consulta, recuerde los tipos de datos de los argumentos (`year` es de tipo `INT` y `country` de tipo `TEXT`). Recuerde que en **CQL** los datos de tipo texto deben ser acotados por comillas simples `''`.\n",
    "</details>"
   ]
  },
  {
   "cell_type": "markdown",
   "id": "4a1ac98f",
   "metadata": {
    "id": "4a1ac98f"
   },
   "source": [
    "<details>    \n",
    "<summary>\n",
    "    <font size=\"3\" color=\"darkgreen\"><b>Pista 2</b></font>\n",
    "</summary>\n",
    "\n",
    "Puede usar el método `.format` para sustituir variables dentro del string de una consulta `query.format(arg1, arg2, ...)` siempre que tenga un par de llaves  `{}` dentro del string.\n",
    "</details>"
   ]
  },
  {
   "cell_type": "markdown",
   "id": "bbb7a44a",
   "metadata": {
    "id": "bbb7a44a"
   },
   "source": [
    "<details>    \n",
    "<summary>\n",
    "    <font size=\"3\" color=\"darkgreen\"><b>Pista 3</b></font>\n",
    "</summary>\n",
    "\n",
    "* Verifique que al momento de filtrar (momento de usar la sentencia `WHERE`) está usando una llave de partición o una llave de agrupamiento.\n",
    "* Si la tabla sobre la que está haciendo la consulta, no tiene como llave de partición o agrupamiento el campo con el que está filtrando, probablemente está seleccionando mal la tabla.\n",
    "</details>"
   ]
  },
  {
   "cell_type": "markdown",
   "id": "_Wyzo5HT8qk4",
   "metadata": {
    "id": "_Wyzo5HT8qk4"
   },
   "source": [
    "### **Evaluar código**"
   ]
  },
  {
   "cell_type": "code",
   "execution_count": null,
   "id": "feLuv9Jxi81b",
   "metadata": {
    "id": "feLuv9Jxi81b"
   },
   "outputs": [],
   "source": [
    "grader.run_test(\"Test 4_1\", globals())"
   ]
  },
  {
   "cell_type": "code",
   "execution_count": null,
   "id": "ugdAPF5dp9tv",
   "metadata": {
    "id": "ugdAPF5dp9tv"
   },
   "outputs": [],
   "source": [
    "grader.run_test(\"Test 4_2\", globals())"
   ]
  },
  {
   "cell_type": "code",
   "execution_count": null,
   "id": "c-bF6zhYrrBD",
   "metadata": {
    "id": "c-bF6zhYrrBD"
   },
   "outputs": [],
   "source": [
    "grader.run_test(\"Test 4_3\", globals())"
   ]
  },
  {
   "cell_type": "markdown",
   "id": "cc079bea",
   "metadata": {
    "id": "cc079bea"
   },
   "source": [
    "## **5. Conteo de Rating de Shows por País**\n",
    "---\n",
    "\n",
    "En este punto deberá implementar la función `number_shows_rating_country`, la cual debe retornar un string con una consulta **CQL** válida que retorne la cantidad de shows que hay por tipo rating en cada país. La consulta debe extraer los campos `country` (país), `rating` (puntuación) y un campo adicional `counts` que debe contener el recuento de shows.\n",
    "\n",
    "**Parámetros**\n",
    "\n",
    "* No hay parámetros de entrada para esta función.\n",
    "\n",
    "**Retorna**\n",
    "\n",
    "* `query`: cadena de texto con una consulta válida de **CQL**."
   ]
  },
  {
   "cell_type": "code",
   "execution_count": null,
   "id": "f0a4726w8dCK",
   "metadata": {
    "id": "f0a4726w8dCK"
   },
   "outputs": [],
   "source": [
    "def number_shows_rating_country():\n",
    "    query = \"\"\"\n",
    "    SELECT\n",
    "      country,\n",
    "      rating,\n",
    "      count(rating) as counts\n",
    "    FROM\n",
    "      test.query_by_country\n",
    "    group by\n",
    "      country,\n",
    "      type,\n",
    "      rating\n",
    "    ;\n",
    "    \"\"\"\n",
    "    return query"
   ]
  },
  {
   "cell_type": "markdown",
   "id": "5ba0696e",
   "metadata": {
    "id": "5ba0696e"
   },
   "source": [
    "Use la siguiente celda para probar su código:"
   ]
  },
  {
   "cell_type": "code",
   "execution_count": null,
   "id": "7a3d07b0",
   "metadata": {
    "id": "7a3d07b0",
    "lines_to_next_cell": 1
   },
   "outputs": [],
   "source": [
    "try:\n",
    "    df = pd.DataFrame(session.execute(number_shows_rating_country()).all())\n",
    "    display(df.head(10))\n",
    "except Exception as e:\n",
    "    print(e)"
   ]
  },
  {
   "cell_type": "markdown",
   "id": "252701e8",
   "metadata": {
    "id": "252701e8"
   },
   "source": [
    "**Salida esperada:**\n",
    "\n",
    "|    | country   | rating   |   counts |\n",
    "|---:|:----------|:---------|---------:|\n",
    "|  0 | germany   | g        |        1 |\n",
    "|  1 | germany   | nr       |        1 |\n",
    "|  2 | germany   | pg       |       11 |\n",
    "|  3 | germany   | r        |       13 |\n",
    "|  4 | germany   | tv       |       12 |\n",
    "|  5 | germany   | tvg      |        4 |\n",
    "|  6 | germany   | tvma     |       30 |\n",
    "|  7 | germany   | tvpg     |        5 |\n",
    "|  8 | germany   | tvy      |        2 |\n",
    "|  9 | germany   | tv       |        3 |"
   ]
  },
  {
   "cell_type": "markdown",
   "id": "fd6c8b1a",
   "metadata": {
    "id": "fd6c8b1a"
   },
   "source": [
    "<details>    \n",
    "<summary>\n",
    "    <font size=\"3\" color=\"darkgreen\"><b>Pista 1</b></font>\n",
    "</summary>\n",
    "\n",
    "Se recomienda revisar la función `COUNT()` tal y como se mostró en el taller guiado de _Cassandra_, recuerde que la sintaxis en el lenguaje *CQL* es muy similar al de `SQL`.\n",
    "</details>"
   ]
  },
  {
   "cell_type": "markdown",
   "id": "baa81747",
   "metadata": {
    "id": "baa81747"
   },
   "source": [
    "<details>    \n",
    "<summary>\n",
    "    <font size=\"3\" color=\"darkgreen\"><b>Pista 2</b></font>\n",
    "</summary>\n",
    "\n",
    "Verifique que los campos seleccionados en su consulta corresponden a los nombres de los campos en las tablas y se encuentran en minúscula:\n",
    "\n",
    "  * país: `country`\n",
    "  * rating: `rating`\n",
    "\n",
    "Igualmente recuerde renombrar los conteos obtenidos de la función `COUNT()`, algo de la forma:\n",
    "\n",
    "```sql\n",
    "COUNT(columna) AS counts\n",
    "</details>"
   ]
  },
  {
   "cell_type": "markdown",
   "id": "fe003405",
   "metadata": {
    "id": "fe003405"
   },
   "source": [
    "<details>    \n",
    "<summary>\n",
    "    <font size=\"3\" color=\"darkgreen\"><b>Pista 3</b></font>\n",
    "</summary>\n",
    "\n",
    "Verifique que esté usando un esquema válido, es decir:\n",
    "\n",
    "```sql\n",
    "SELECT\n",
    "    ...\n",
    "FROM\n",
    "    test.<nombre_tabla>\n",
    "...\n",
    "```\n",
    "</details>"
   ]
  },
  {
   "cell_type": "markdown",
   "id": "b94b78b3",
   "metadata": {
    "id": "b94b78b3"
   },
   "source": [
    "<details>    \n",
    "<summary>\n",
    "    <font size=\"3\" color=\"darkgreen\"><b>Pista 4</b></font>\n",
    "</summary>\n",
    "\n",
    "No olvide que para hacer una agrupación en **`CQL`** debe usar todas las claves de partición y las claves de agrupamiento posicionalmente anteriores (de acuerdo al orden en el que se creó la tabla).\n",
    "</details>"
   ]
  },
  {
   "cell_type": "markdown",
   "id": "olR0pU878rol",
   "metadata": {
    "id": "olR0pU878rol"
   },
   "source": [
    "### **Evaluar código**"
   ]
  },
  {
   "cell_type": "code",
   "execution_count": null,
   "id": "GbOmofSjsOx3",
   "metadata": {
    "id": "GbOmofSjsOx3"
   },
   "outputs": [],
   "source": [
    "grader.run_test(\"Test 5_1\", globals())"
   ]
  },
  {
   "cell_type": "markdown",
   "id": "e9966f31",
   "metadata": {
    "id": "e9966f31"
   },
   "source": [
    "## **6. Conteo de Rating de Shows por Año**\n",
    "---\n",
    "\n",
    "En este ejercicio usted debe completar la función `number_shows_rating_year` la cual deberá retornar una cadena de texto con una consulta **CQL** válida que contenga los campos `release_year`, `rating` y `counts` (la cantidad total de películas o series por año que tienen una misma clasificación).\n",
    "\n",
    "**Parámetros**\n",
    "\n",
    "* No hay parámetros de entrada para esta función.\n",
    "\n",
    "**Retorna**\n",
    "\n",
    "* `query`: cadena de texto con una consulta válida para _Cassandra_."
   ]
  },
  {
   "cell_type": "code",
   "execution_count": null,
   "id": "sBypp68C8eb0",
   "metadata": {
    "id": "sBypp68C8eb0"
   },
   "outputs": [],
   "source": [
    "def number_shows_rating_year():\n",
    "    query = \"\"\"\n",
    "    SELECT\n",
    "      release_year,\n",
    "      rating,\n",
    "      count(rating) as counts\n",
    "    FROM\n",
    "      test.query_by_year\n",
    "    group by\n",
    "      release_year,\n",
    "      type,\n",
    "      rating\n",
    "    ;\n",
    "    \"\"\"\n",
    "    return query"
   ]
  },
  {
   "cell_type": "markdown",
   "id": "4ab0cd24",
   "metadata": {
    "id": "4ab0cd24"
   },
   "source": [
    "Use la siguiente celda para probar su código:"
   ]
  },
  {
   "cell_type": "code",
   "execution_count": null,
   "id": "71aa5ddd",
   "metadata": {
    "id": "71aa5ddd",
    "lines_to_next_cell": 1
   },
   "outputs": [],
   "source": [
    "try:\n",
    "    df = pd.DataFrame(session.execute(number_shows_rating_year()).all())\n",
    "    display(df.head(10))\n",
    "except Exception as e:\n",
    "    print(e)"
   ]
  },
  {
   "cell_type": "markdown",
   "id": "bf33d011",
   "metadata": {
    "id": "bf33d011"
   },
   "source": [
    "**Salida esperada:**\n",
    "<table border=\"1\" class=\"dataframe\">\n",
    "  <thead>\n",
    "    <tr style=\"text-align: right;\">\n",
    "      <th></th>\n",
    "      <th>release_year</th>\n",
    "      <th>rating</th>\n",
    "      <th>counts</th>\n",
    "    </tr>\n",
    "  </thead>\n",
    "  <tbody>\n",
    "    <tr>\n",
    "      <th>0</th>\n",
    "      <td>1942</td>\n",
    "      <td>tv</td>\n",
    "      <td>2</td>\n",
    "    </tr>\n",
    "    <tr>\n",
    "      <th>1</th>\n",
    "      <td>1944</td>\n",
    "      <td>tv</td>\n",
    "      <td>2</td>\n",
    "    </tr>\n",
    "    <tr>\n",
    "      <th>2</th>\n",
    "      <td>1944</td>\n",
    "      <td>tvpg</td>\n",
    "      <td>1</td>\n",
    "    </tr>\n",
    "    <tr>\n",
    "      <th>3</th>\n",
    "      <td>1992</td>\n",
    "      <td>pg</td>\n",
    "      <td>4</td>\n",
    "    </tr>\n",
    "    <tr>\n",
    "      <th>4</th>\n",
    "      <td>1992</td>\n",
    "      <td>r</td>\n",
    "      <td>11</td>\n",
    "    </tr>\n",
    "    <tr>\n",
    "      <th>5</th>\n",
    "      <td>1992</td>\n",
    "      <td>tv</td>\n",
    "      <td>2</td>\n",
    "    </tr>\n",
    "    <tr>\n",
    "      <th>6</th>\n",
    "      <td>1992</td>\n",
    "      <td>tvma</td>\n",
    "      <td>3</td>\n",
    "    </tr>\n",
    "    <tr>\n",
    "      <th>7</th>\n",
    "      <td>1992</td>\n",
    "      <td>tvpg</td>\n",
    "      <td>2</td>\n",
    "    </tr>\n",
    "    <tr>\n",
    "      <th>8</th>\n",
    "      <td>1992</td>\n",
    "      <td>tvy</td>\n",
    "      <td>1</td>\n",
    "    </tr>\n",
    "    <tr>\n",
    "      <th>9</th>\n",
    "      <td>1999</td>\n",
    "      <td>g</td>\n",
    "      <td>2</td>\n",
    "    </tr>\n",
    "  </tbody>\n",
    "</table>"
   ]
  },
  {
   "cell_type": "markdown",
   "id": "e363127a",
   "metadata": {
    "id": "e363127a"
   },
   "source": [
    "<details>    \n",
    "<summary>\n",
    "    <font size=\"3\" color=\"darkgreen\"><b>Pista 1</b></font>\n",
    "</summary>\n",
    "\n",
    "Los campos que se consideren en la función `GROUP BY` deben estar contenidos en la llave primaria y deben enunciarse en el mismo orden en el que se declararon al momento de crear la tabla, de lo contrario el resultado será una consulta inválida.\n",
    "</details>"
   ]
  },
  {
   "cell_type": "markdown",
   "id": "a412ed02",
   "metadata": {
    "id": "a412ed02"
   },
   "source": [
    "<details>    \n",
    "<summary>\n",
    "    <font size=\"3\" color=\"darkgreen\"><b>Pista 2</b></font>\n",
    "</summary>\n",
    "\n",
    "Al igual que en las bases de datos relacionales, existe la palabra reservada `AS` para crear un alias y así renombrar una columna o tabla al realizar una consulta.\n",
    "</details>"
   ]
  },
  {
   "cell_type": "markdown",
   "id": "7a91accf",
   "metadata": {
    "id": "7a91accf"
   },
   "source": [
    "<details>    \n",
    "<summary>\n",
    "    <font size=\"3\" color=\"darkgreen\"><b>Pista 3</b></font>\n",
    "</summary>\n",
    "\n",
    "La función `COUNT` añade una nueva columna al resultado del query. La misma debe ser renombrada a `counts` para que coincida con la salida esperada de ejemplo.\n",
    "</details>"
   ]
  },
  {
   "cell_type": "markdown",
   "id": "H3cy4Y5X8tMZ",
   "metadata": {
    "id": "H3cy4Y5X8tMZ"
   },
   "source": [
    "### **Evaluar código**"
   ]
  },
  {
   "cell_type": "code",
   "execution_count": null,
   "id": "l_1ptp7mu9Ja",
   "metadata": {
    "id": "l_1ptp7mu9Ja"
   },
   "outputs": [],
   "source": [
    "grader.run_test(\"Test 6_1\", globals())"
   ]
  },
  {
   "cell_type": "markdown",
   "id": "1dec4c98",
   "metadata": {
    "id": "1dec4c98"
   },
   "source": [
    "## **7. Conteo de Ratings de Shows por Año y País**\n",
    "---\n",
    "\n",
    "En este punto usted deberá completar la función `number_shows_rating_year_country`, la cual debe retornar una cadena de texto con una consulta **CQL** válida que permita obtener la cantidad de shows que hay por rating, en cada país y por año. La consulta debe extraer los campos: `release_year` (año de lanzamiento), `country` (país), `rating` (puntuación)` y `counts` (recuento de valores).\n",
    "\n",
    "**Parámetros**\n",
    "\n",
    "* No hay parámetros de entrada para esta función.\n",
    "\n",
    "**Retorna**\n",
    "\n",
    "* `query`: cadena de texto con una consulta válida de **CQL**."
   ]
  },
  {
   "cell_type": "code",
   "execution_count": null,
   "id": "GgReNh548gAi",
   "metadata": {
    "id": "GgReNh548gAi"
   },
   "outputs": [],
   "source": [
    "def number_shows_rating_year_country():\n",
    "    query = \"\"\"\n",
    "    SELECT\n",
    "        release_year,\n",
    "        country,\n",
    "        rating,\n",
    "        count(rating) as counts\n",
    "    FROM\n",
    "        test.query_by_year_country\n",
    "    group by\n",
    "        release_year,\n",
    "        country,\n",
    "        type,\n",
    "        rating\n",
    "    ;\n",
    "    \"\"\"\n",
    "    return query"
   ]
  },
  {
   "cell_type": "markdown",
   "id": "62c957cc",
   "metadata": {
    "id": "62c957cc"
   },
   "source": [
    "Use la siguiente celda para probar su código:"
   ]
  },
  {
   "cell_type": "code",
   "execution_count": null,
   "id": "ff7f1eba",
   "metadata": {
    "id": "ff7f1eba"
   },
   "outputs": [],
   "source": [
    "try:\n",
    "    df = pd.DataFrame(session.execute((number_shows_rating_year_country())).all())\n",
    "    display(df.head(10))\n",
    "except Exception as e:\n",
    "    print(e)"
   ]
  },
  {
   "cell_type": "code",
   "execution_count": null,
   "id": "-P222kXwtAEC",
   "metadata": {
    "id": "-P222kXwtAEC"
   },
   "outputs": [],
   "source": []
  },
  {
   "cell_type": "markdown",
   "id": "5126c483",
   "metadata": {
    "id": "5126c483"
   },
   "source": [
    "**Salida esperada:**\n",
    "\n",
    "|    |   release_year | country        | rating   |   counts |\n",
    "|---:|---------------:|:---------------|:---------|---------:|\n",
    "|  0 |           2018 | russia         | pg       |        1 |\n",
    "|  1 |           2018 | russia         | tvma     |        1 |\n",
    "|  2 |           2018 | russia         | tvy      |        1 |\n",
    "|  3 |           1973 | poland         | tvma     |        1 |\n",
    "|  4 |           1971 | united kingdom | r        |        1 |\n",
    "|  5 |           2020 | vietnam        | tvg      |        1 |\n",
    "|  6 |           2008 | germany        | pg       |        2 |\n",
    "|  7 |           2008 | germany        | r        |        1 |\n",
    "|  8 |           2008 | germany        | tvma     |        1 |\n",
    "|  9 |           2018 | poland         | tvma     |        2 |"
   ]
  },
  {
   "cell_type": "markdown",
   "id": "acd97c50",
   "metadata": {
    "id": "acd97c50"
   },
   "source": [
    "<details>    \n",
    "<summary>\n",
    "    <font size=\"3\" color=\"darkgreen\"><b>Pista 1</b></font>\n",
    "</summary>\n",
    "\n",
    "Se recomienda revisar la función `COUNT()` tal y como se mostró en el taller guiado de _Cassandra_, recuerde que la sintaxis en el lenguaje *CQL* es muy similar al de `SQL`.\n",
    "</details>"
   ]
  },
  {
   "cell_type": "markdown",
   "id": "1aeb027d",
   "metadata": {
    "id": "1aeb027d"
   },
   "source": [
    "<details>    \n",
    "<summary>\n",
    "    <font size=\"3\" color=\"darkgreen\"><b>Pista 2</b></font>\n",
    "</summary>\n",
    "\n",
    "Verifique que los campos seleccionados en su consulta están escritos correspondientemente a los nombres de los campos en las tablas y en minúscula:\n",
    "\n",
    "  - año de lanzamiento: `release_year`\n",
    "  - país: `country`\n",
    "  - rating: `rating`\n",
    "</details>"
   ]
  },
  {
   "cell_type": "markdown",
   "id": "0f903bd5",
   "metadata": {
    "id": "0f903bd5"
   },
   "source": [
    "<details>    \n",
    "<summary>\n",
    "    <font size=\"3\" color=\"darkgreen\"><b>Pista 3</b></font>\n",
    "</summary>\n",
    "\n",
    "Verifique que al momento de seleccionar la tabla la está escribiendo correctamente en su query, el nombre de la tabla debe cumplir la siguiente estructura:\n",
    "\n",
    "```sql\n",
    "<nombre_keyspace>.<nombre_tabla>\n",
    "```\n",
    "</details>"
   ]
  },
  {
   "cell_type": "markdown",
   "id": "MaiQelgS8u1Y",
   "metadata": {
    "id": "MaiQelgS8u1Y"
   },
   "source": [
    "### **Evaluar código**"
   ]
  },
  {
   "cell_type": "code",
   "execution_count": null,
   "id": "JbSj5T1-BvCV",
   "metadata": {
    "id": "JbSj5T1-BvCV"
   },
   "outputs": [],
   "source": [
    "grader.run_test(\"Test 7_1\", globals())"
   ]
  },
  {
   "cell_type": "markdown",
   "id": "Nys_U6Ta6UMN",
   "metadata": {
    "id": "Nys_U6Ta6UMN"
   },
   "source": [
    "# Evaluación\n",
    "---"
   ]
  },
  {
   "cell_type": "code",
   "execution_count": null,
   "id": "Zb6a01OY6YdB",
   "metadata": {
    "id": "Zb6a01OY6YdB"
   },
   "outputs": [],
   "source": [
    "grader.submit_task(globals())"
   ]
  },
  {
   "cell_type": "markdown",
   "id": "8fff43c7",
   "metadata": {
    "id": "8fff43c7"
   },
   "source": [
    "# Créditos\n",
    "---\n",
    "\n",
    "**Profesor**\n",
    "\n",
    "- [Jorge E. Camargo, PhD](https://dis.unal.edu.co/~jecamargom/)\n",
    "\n",
    "**Diseño, desarrollo del notebook y material audiovisual**\n",
    "\n",
    "- [Juan S. Lara MSc](https://www.linkedin.com/in/juan-sebastian-lara-ramirez-43570a214/)\n",
    "\n",
    "**Universidad Nacional de Colombia** - *Facultad de Ingeniería*"
   ]
  }
 ],
 "metadata": {
  "colab": {
   "private_outputs": true,
   "provenance": []
  },
  "gpuClass": "standard",
  "jupytext": {
   "cell_metadata_filter": "-all",
   "main_language": "python",
   "notebook_metadata_filter": "-all"
  },
  "kernelspec": {
   "display_name": "Python 3 (ipykernel)",
   "language": "python",
   "name": "python3"
  },
  "language_info": {
   "codemirror_mode": {
    "name": "ipython",
    "version": 3
   },
   "file_extension": ".py",
   "mimetype": "text/x-python",
   "name": "python",
   "nbconvert_exporter": "python",
   "pygments_lexer": "ipython3",
   "version": "3.11.5"
  }
 },
 "nbformat": 4,
 "nbformat_minor": 5
}
