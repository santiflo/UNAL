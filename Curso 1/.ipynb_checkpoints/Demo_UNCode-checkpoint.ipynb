{
  "nbformat": 4,
  "nbformat_minor": 0,
  "metadata": {
    "colab": {
      "provenance": []
    },
    "kernelspec": {
      "display_name": "Python 3",
      "language": "python",
      "name": "python3"
    },
    "language_info": {
      "codemirror_mode": {
        "name": "ipython",
        "version": 3
      },
      "file_extension": ".py",
      "mimetype": "text/x-python",
      "name": "python",
      "nbconvert_exporter": "python",
      "pygments_lexer": "ipython3",
      "version": "3.7.6"
    }
  },
  "cells": [
    {
      "cell_type": "markdown",
      "metadata": {
        "id": "blpKpnQvwPNy"
      },
      "source": [
        "<img src = \"https://drive.google.com/uc?export=view&id=1zD1_7Y4Ejud8OsuQb49rHGfl9qhihAh5\" alt = \"Encabezado MLDS\" width = \"100%\">  </img>"
      ]
    },
    {
      "cell_type": "markdown",
      "metadata": {
        "id": "4Gb04XWVHDB6"
      },
      "source": [
        "# **Demo - Enviar quiz en *UNCode***\n",
        "---\n",
        "\n",
        "Este quiz será calificado en la plataforma **[*UNCode*](https://juezun.github.io/)**. En cada ejercicio se indicará si es calificable o no. También, se indicará dónde debe escribir su código para resolver los problemas. Se le indicará además un aproximado de la cantidad de líneas que debe escribir en cada caso. No se preocupe si su código toma más lineas, esto es simplemente un aproximado."
      ]
    },
    {
      "cell_type": "markdown",
      "metadata": {
        "id": "Xyl5fF0zr9r4"
      },
      "source": [
        "Este material fue realizado con la siguiente versión:\n",
        "\n",
        "- Python 3.6.9"
      ]
    },
    {
      "cell_type": "code",
      "metadata": {
        "id": "875DsJCur8zB"
      },
      "source": [
        "!python --version"
      ],
      "execution_count": null,
      "outputs": []
    },
    {
      "cell_type": "markdown",
      "metadata": {
        "id": "ZT7Ua81bziOe"
      },
      "source": [
        "## **1. Suma de dos números**\n",
        "---\n"
      ]
    },
    {
      "cell_type": "markdown",
      "metadata": {
        "id": "aq3HM6YEMIxM"
      },
      "source": [
        "Escriba la función `sumar` en el lenguaje de programación `Python` que reciba dos números y retorne el resultado de la suma entre ellos.\n",
        "\n",
        "Veamos unos ejemplos:\n",
        "\n",
        "```\n",
        ">>> sumar(10, 20)\n",
        ">>> 30\n",
        "\n",
        ">>> sumar(-10, 10)\n",
        ">>> 0\n",
        "\n",
        ">>> sumar(2020, 300)\n",
        ">>> 2320\n",
        "```"
      ]
    },
    {
      "cell_type": "markdown",
      "metadata": {
        "id": "BA-nbOmnPYl6"
      },
      "source": [
        "<details>    \n",
        "<summary>\n",
        "    <font size=\"3\" color=\"darkgreen\"><b>Pistas</b></font>\n",
        "</summary>\n",
        "<p>\n",
        "<ul>\n",
        "    <li>En esta sección encontrarán pistas para resolver el problema.</li>\n",
        "</ul>\n",
        "</p>"
      ]
    },
    {
      "cell_type": "code",
      "metadata": {
        "id": "szKPIvFwzhUG"
      },
      "source": [
        "# FUNCIÓN CALIFICADA: sumar(a, b)\n",
        "def sumar(a, b):\n",
        "  \"\"\"\n",
        "  a: número entero\n",
        "  b: número entero\n",
        "\n",
        "  Retorna la suma de a y b\n",
        "  \"\"\"\n",
        "  ### ESCRIBA SU CÓDIGO AQUÍ ### (~ 1 línea de código)\n",
        "  return int(a)+int(b)\n",
        "  ### FIN DEL CÓDIGO ###"
      ],
      "execution_count": null,
      "outputs": []
    },
    {
      "cell_type": "code",
      "metadata": {
        "id": "xicbXt1uYDDt"
      },
      "source": [
        "# CELDA DE PRUEBAS\n",
        "print(sumar(10, 20))\n",
        "print(sumar(-10, 10))\n",
        "print(sumar(2020, 300))"
      ],
      "execution_count": null,
      "outputs": []
    },
    {
      "cell_type": "markdown",
      "metadata": {
        "id": "gS8eqbf4X2Am"
      },
      "source": [
        "La salida de la ejecución de la celda anterior debería ser:\n",
        "```\n",
        "30\n",
        "0\n",
        "2320\n",
        "```"
      ]
    },
    {
      "cell_type": "markdown",
      "metadata": {
        "id": "Xi9BmYqzqCKd"
      },
      "source": [
        "## **2. Saludar**\n",
        "---\n"
      ]
    },
    {
      "cell_type": "markdown",
      "metadata": {
        "id": "mhKMjwfZqCK0"
      },
      "source": [
        "Escriba la función `saludar` en el lenguaje de programación `Python`. Debe recibir un nombre propio como parámetro; y retornará la cadena `Hola` seguido de un espacio en blanco, y por último, el nombre propio recibido.\n",
        "\n",
        "Veamos unos ejemplos:\n",
        "\n",
        "```\n",
        ">>> saludar('UNAL')\n",
        ">>> 'Hola UNAL'\n",
        "\n",
        ">>> saludar('UNCode')\n",
        ">>> 'Hola UNCode'\n",
        "\n",
        ">>> saludar('María')\n",
        ">>> 'Hola María'\n",
        "```"
      ]
    },
    {
      "cell_type": "markdown",
      "metadata": {
        "id": "IZ2Wb06mqCK1"
      },
      "source": [
        "<details>    \n",
        "<summary>\n",
        "    <font size=\"3\" color=\"darkgreen\"><b>Pistas</b></font>\n",
        "</summary>\n",
        "<p>\n",
        "<ul>\n",
        "    <li>En esta sección encontrarán pistas para resolver el problema.</li>\n",
        "</ul>\n",
        "</p>"
      ]
    },
    {
      "cell_type": "code",
      "metadata": {
        "id": "1ojl6ITbqCK1"
      },
      "source": [
        "# FUNCIÓN CALIFICADA: saludar(nombre)\n",
        "def saludar(nombre):\n",
        "  \"\"\"\n",
        "  nombre: cadena de caracteres del nombre propio\n",
        "\n",
        "  Retorna la cadena 'Hola ' + nombre\n",
        "  \"\"\"\n",
        "  ### ESCRIBA SU CÓDIGO AQUÍ ### (~ 1 línea de código)\n",
        "  return ''\n",
        "  ### FIN DEL CÓDIGO ###"
      ],
      "execution_count": null,
      "outputs": []
    },
    {
      "cell_type": "code",
      "metadata": {
        "id": "Ed0VxuagqCK2"
      },
      "source": [
        "# CELDA DE PRUEBAS\n",
        "print(saludar('UNAL'))\n",
        "print(saludar('UNCode'))\n",
        "print(saludar('María'))"
      ],
      "execution_count": null,
      "outputs": []
    },
    {
      "cell_type": "markdown",
      "metadata": {
        "id": "5QVqB9TYqCK2"
      },
      "source": [
        "La salida de la ejecución de la celda anterior debería ser:\n",
        "```\n",
        "Hola UNAL\n",
        "Hola UNCode\n",
        "Hola María\n",
        "```"
      ]
    },
    {
      "cell_type": "markdown",
      "metadata": {
        "id": "4luKKP58V-Qs"
      },
      "source": [
        "**¡Fin del demo!** Ha terminado su primer Quiz. ¡Buen trabajo!\n",
        "\n",
        "## Entrega\n",
        "Para entregar el notebook por favor haga lo siguiente:\n",
        "1. Descargue el notebook (`Archivo` -> `Descargar .ipynb`).\n",
        "2. Realice el envío del notebook que descargó con la tarea (o quiz) correspondiente desde la plataforma OpenEdx.\n",
        "4. Recuerde que si tiene algún error, puede hacer múltiples intentos de envío en UNCode (sin penalización) antes de que termine el plazo máximo de entrega."
      ]
    },
    {
      "cell_type": "markdown",
      "metadata": {
        "id": "JJbV7A38uZhC"
      },
      "source": [
        "## **Créditos**\n",
        "\n",
        "* **Profesor:** [Felipe Restrepo Calle](https://dis.unal.edu.co/~ferestrepoca/)\n",
        "* **Asistente docente:** Alberto Nicolai Romero Martínez\n",
        "\n",
        "**Universidad Nacional de Colombia** - *Facultad de Ingeniería*\n"
      ]
    }
  ]
}