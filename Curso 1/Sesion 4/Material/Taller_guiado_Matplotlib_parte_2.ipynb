{
  "nbformat": 4,
  "nbformat_minor": 0,
  "metadata": {
    "colab": {
      "provenance": [],
      "toc_visible": true,
      "private_outputs": true
    },
    "kernelspec": {
      "name": "python3",
      "display_name": "Python 3"
    }
  },
  "cells": [
    {
      "cell_type": "markdown",
      "metadata": {
        "id": "fb9pUStUq6xf"
      },
      "source": [
        "<img src = \"https://drive.google.com/uc?export=view&id=1XN22c7U27IGl71aGFywSHAuEfjH-PAam\" alt = \"Encabezado MLDS\" width = \"100%\">  </img>"
      ]
    },
    {
      "cell_type": "markdown",
      "metadata": {
        "id": "kyyYqzShjxwL"
      },
      "source": [
        "# **Librería de visualización de *Python*: *Matplotlib* (parte 2)**\n",
        "---\n",
        "<img src = \"https://matplotlib.org/_static/logo2_compressed.svg\" alt = \"Encabezado MLDS\" width = \"70%\"/>\n",
        "\n",
        "\n",
        "En este material se explican algunas de las características más avanzadas de *Matplotlib*. Aunque posiblemente no sea necesario estudiar en profundidad los siguientes apartados de esta guía, resulta conveniente que conozca el amplio abanico de posibilidades que tiene a su disposición en caso de necesitar alguna de estas funcionalidades avanzadas en el futuro.\n",
        "    \n"
      ]
    },
    {
      "cell_type": "code",
      "metadata": {
        "id": "aPf1Ub-luMs8"
      },
      "source": [
        "# Importar Matplotlib.\n",
        "\n",
        "import matplotlib.pyplot as plt\n",
        "import matplotlib as mpl\n",
        "%matplotlib inline"
      ],
      "execution_count": null,
      "outputs": []
    },
    {
      "cell_type": "code",
      "metadata": {
        "id": "rtTkmDGyGpbX"
      },
      "source": [
        "# Importar Pandas y NumPy.\n",
        "\n",
        "import pandas as pd\n",
        "import numpy as np"
      ],
      "execution_count": null,
      "outputs": []
    },
    {
      "cell_type": "code",
      "metadata": {
        "id": "jUMP_2CPqwRY"
      },
      "source": [
        "# Versiones de Python, NumPy y Pandas.\n",
        "!python --version\n",
        "print('NumPy', np.__version__)\n",
        "print('Pandas', pd.__version__)\n",
        "print('Matplotlib', mpl.__version__)"
      ],
      "execution_count": null,
      "outputs": []
    },
    {
      "cell_type": "markdown",
      "metadata": {
        "id": "dxNzX3sfq3gZ"
      },
      "source": [
        "Este material se realizó con las siguientes versiones:\n",
        "- Python 3.10.6\n",
        "- NumPy 1.22.4\n",
        "- Pandas 1.5.3\n",
        "- Matplotlib 3.7.1"
      ]
    },
    {
      "cell_type": "code",
      "metadata": {
        "id": "Y3qBBgx_uMtH"
      },
      "source": [
        "# Datos usados en este material.\n",
        "\n",
        "x = np.linspace(0, 5, 10)\n",
        "y = x**2"
      ],
      "execution_count": null,
      "outputs": []
    },
    {
      "cell_type": "markdown",
      "metadata": {
        "id": "fBBkigShJkQ4"
      },
      "source": [
        "## **6. Casos de uso avanzados**\n",
        "---\n",
        "\n",
        "A continuación se presentan algunos métodos y configuraciones disponibles en *Matplotlib* para casos especiales.\n"
      ]
    },
    {
      "cell_type": "markdown",
      "metadata": {
        "id": "mz2NRC5DpSr-"
      },
      "source": [
        "### **6.1. Escala logarítmica**\n",
        "---\n",
        "Es posible establecer una escala logarítmica para uno o ambos ejes. Esta funcionalidad es, de hecho, solo una aplicación de un sistema de transformación más general en *Matplotlib*. Cada una de las escalas de los ejes se establece por separado utilizando los métodos **`set_xscale`** y **`set_yscale`** que aceptan un parámetro (con el valor **`\"log\"`** en este caso):\n"
      ]
    },
    {
      "cell_type": "code",
      "metadata": {
        "id": "nTKBQDtqpSsA"
      },
      "source": [
        "fig, axes = plt.subplots(1, 2, figsize=(10,4))\n",
        "\n",
        "#Escala lineal\n",
        "axes[0].plot(x, x**2, x, np.exp(x))\n",
        "axes[0].set_title(\"Escala lineal\")\n",
        "\n",
        "\n",
        "#Escala logarítmica\n",
        "axes[1].plot(x, x**2, x, np.exp(x))\n",
        "\n",
        "#########################\n",
        "axes[1].set_yscale(\"log\")\n",
        "##########################\n",
        "\n",
        "axes[1].set_title(\"Escala logarítmica (en $y$)\");"
      ],
      "execution_count": null,
      "outputs": []
    },
    {
      "cell_type": "markdown",
      "metadata": {
        "id": "OjOzsqilpSsD"
      },
      "source": [
        "### **6.2. Colocación de marcas y etiquetas personalizadas**\n",
        "---\n",
        "\n",
        "Podemos determinar explícitamente dónde queremos las marcas (*ticks*) de los ejes con **`set_xticks`** y **`set_yticks`**, que toman una lista de valores de dónde se colocarán los *ticks* en el eje. También podemos usar los métodos **`set_xticklabels`** y **`set_yticklabels`** para proporcionar una lista de etiquetas de texto personalizadas para cada ubicación de las marcas:"
      ]
    },
    {
      "cell_type": "code",
      "metadata": {
        "id": "Z2dtUXWhpSsE"
      },
      "source": [
        "fig, ax = plt.subplots(figsize=(10, 4))\n",
        "\n",
        "ax.plot(x, x**2, x, x**3, lw=2)\n",
        "\n",
        "#########\n",
        "ax.set_xticks([1, 2, 3, 4, 5])\n",
        "ax.set_xticklabels([r'$\\alpha$', r'$\\beta$', r'$\\gamma$', r'$\\delta$', r'$\\epsilon$'], fontsize=18) # Cadenas de texto con formato LaTeX.\n",
        "\n",
        "ax.set_yticks([0, 50, 100, 150])\n",
        "ax.set_yticklabels([\"$%.1f$\" % y for y in [0, 50, 100, 150]], fontsize=18); # Cadenas de texto con formato LaTeX.\n",
        "#########"
      ],
      "execution_count": null,
      "outputs": []
    },
    {
      "cell_type": "markdown",
      "metadata": {
        "id": "05tJaMVbpSsG"
      },
      "source": [
        "Hay una serie de métodos más avanzados para controlar la colocación de marcas mayores y menores en las figuras de *Matplotlib*, como la colocación automática de acuerdo con diferentes políticas. Vea el siguiente [enlace](https://matplotlib.org/stable/api/ticker_api.html) para más detalles.\n"
      ]
    },
    {
      "cell_type": "markdown",
      "metadata": {
        "id": "Su3ppZhkpSsH"
      },
      "source": [
        "### **6.3. Notación científica**\n",
        "---\n",
        "\n",
        "Muchas veces es mejor usar notación científica cuando tenemos números grandes en los ejes. Para esto usamos el submódulo de *Matplotlib* **`ticker`**, que provee una mayor personalización a los ticks de las visualizaciones en *Matplotlib*."
      ]
    },
    {
      "cell_type": "code",
      "metadata": {
        "id": "C6pBqmeOpSsI"
      },
      "source": [
        "fig, ax = plt.subplots(1, 1)\n",
        "\n",
        "ax.plot(x, x**2, x, np.exp(x))\n",
        "ax.set_title(\"Notación científica\")\n",
        "\n",
        "ax.set_yticks([0, 50, 100, 150])\n",
        "#########\n",
        "from matplotlib import ticker # Submódulo de Matplotlib para el manejo avanzado de ticks.\n",
        "\n",
        "formatter = ticker.ScalarFormatter(useMathText=True)\n",
        "formatter.set_scientific(True)\n",
        "formatter.set_powerlimits((-1,1))\n",
        "ax.yaxis.set_major_formatter(formatter)\n",
        "#########"
      ],
      "execution_count": null,
      "outputs": []
    },
    {
      "cell_type": "markdown",
      "metadata": {
        "id": "00tDXrZ7pSsK"
      },
      "source": [
        "### **6.4. Espaciado de las etiquetas de los ejes**\n",
        "---\n",
        "\n",
        "El manejo del espacio en las visualizaciones de *Matplotlib* es completamente personalizable. Uno de los casos más comunes es la ubicación de texto, como en el caso de las etiquetas de los ejes de una gráfica. Esto es posible accediendo al atributo **`labelpad`** de los ejes **`xaxis`** y **`yaxis`** de un objeto **`Axes`**."
      ]
    },
    {
      "cell_type": "code",
      "metadata": {
        "id": "gRaBjCZqpSsL"
      },
      "source": [
        "fig, ax = plt.subplots(1, 1)\n",
        "\n",
        "ax.plot(x, x**2, x, np.exp(x))\n",
        "ax.set_yticks([0, 50, 100, 150])\n",
        "\n",
        "ax.set_title(\"Espaciado de etiquetas\")\n",
        "\n",
        "#########\n",
        "# Espaciado entre números y etiquetas de los ejes\n",
        "ax.xaxis.labelpad = 150\n",
        "ax.yaxis.labelpad = 150\n",
        "#########\n",
        "\n",
        "ax.set_xlabel(\"El\\neje x\\ndebe\\nestar aquí\")\n",
        "ax.set_ylabel(\"El\\neje y\\ndebe\\nestar aquí\");"
      ],
      "execution_count": null,
      "outputs": []
    },
    {
      "cell_type": "markdown",
      "metadata": {
        "id": "JxgcgZBZpSsO"
      },
      "source": [
        "#### **6.4.1. Ajustes a la posición de los ejes**\n",
        "---\n",
        "A veces cuando se guardan las figuras en archivos, las etiquetas de los ejes se recortan. Es necesario ajustar la posición de los ejes ligeramente. Esto se puede lograr con el método **`subplots_adjust`**."
      ]
    },
    {
      "cell_type": "code",
      "metadata": {
        "id": "WK6GDWejpSsP"
      },
      "source": [
        "fig, ax = plt.subplots(1, 1)\n",
        "\n",
        "ax.plot(x, x**2, x, np.exp(x))\n",
        "ax.set_yticks([0, 50, 100, 150])\n",
        "ax.set_title(\"título\")\n",
        "ax.set_xlabel(\"x\")\n",
        "ax.set_ylabel(\"y\")\n",
        "\n",
        "#########\n",
        "fig.subplots_adjust(left=0.15, right=.9, bottom=0.1, top=0.9)\n",
        "#########"
      ],
      "execution_count": null,
      "outputs": []
    },
    {
      "cell_type": "markdown",
      "metadata": {
        "id": "e5f4BU1kpSsV"
      },
      "source": [
        "### **6.5. Visualización de cuadrícula o *grid***\n",
        "---\n",
        "Con el método **`grid`** en el objeto del eje, podemos activar y desactivar las líneas de la cuadrícula. También podemos personalizar el aspecto de las líneas de cuadrícula utilizando los mismos argumentos de palabra clave usados en la función **`plot`**:\n"
      ]
    },
    {
      "cell_type": "code",
      "metadata": {
        "id": "sN_jpyLapSsW"
      },
      "source": [
        "fig, axes = plt.subplots(1, 2, figsize=(10,3))\n",
        "\n",
        "# default grid\n",
        "axes[0].plot(x, x**2, x, x**3, lw=2)\n",
        "\n",
        "#########\n",
        "axes[0].grid(True)\n",
        "axes[0].set_facecolor(\"white\")\n",
        "#########\n",
        "\n",
        "\n",
        "# grid personalizado\n",
        "axes[1].plot(x, x**2, x, x**3, lw=2)\n",
        "\n",
        "#########\n",
        "axes[1].grid(color='orange', alpha=0.5, linestyle='dashed', linewidth=2.5)\n",
        "#########"
      ],
      "execution_count": null,
      "outputs": []
    },
    {
      "cell_type": "markdown",
      "metadata": {
        "id": "OKHQXB66pSsY"
      },
      "source": [
        "### **6.6. Estilo de ejes**\n",
        "---\n",
        "Los ejes (no confundir con los objetos **`Axes`**) se pueden modificar de varias maneras. Una de las formas es modificar su estilo, accediendo a los objetos que los representan (Objetos **`Spines`**)."
      ]
    },
    {
      "cell_type": "code",
      "metadata": {
        "id": "Cg8knmzepSsa"
      },
      "source": [
        "fig, ax = plt.subplots(figsize=(6,2))\n",
        "\n",
        "#########\n",
        "ax.spines['bottom'].set_color('green') # Eje inferior.\n",
        "ax.spines['top'].set_color('blue')     # Eje superior.\n",
        "ax.spines['top'].set_linewidth(2)\n",
        "ax.spines['left'].set_color('red')     # Eje izquierdo.\n",
        "ax.spines['left'].set_linewidth(2)\n",
        "#########\n",
        "\n",
        "\n",
        "# desactivar eje a la derecha\n",
        "ax.spines['right'].set_color(\"none\")    # Eje derecho.\n",
        "ax.yaxis.tick_left() # solo ticks a la izquierda\n",
        "#########"
      ],
      "execution_count": null,
      "outputs": []
    },
    {
      "cell_type": "markdown",
      "metadata": {
        "id": "akNaKmsipSsc"
      },
      "source": [
        "#### **6.6.1. Ejes gemelos**\n",
        "---\n",
        "Algunas veces es útil tener dos ejes $x$ o $y$ en una figura; por ejemplo, al trazar dos curvas con diferentes unidades de medida. *Matplotlib* soporta esta codificación con las funciones **`twinx`** y **`twiny`**:\n"
      ]
    },
    {
      "cell_type": "code",
      "metadata": {
        "id": "NNWA59lCpSsd"
      },
      "source": [
        "fig, ax1 = plt.subplots(dpi = 120)\n",
        "\n",
        "ax1.plot(x, x**2, lw=2, color=\"blue\")\n",
        "ax1.set_ylabel(r\"area $(m^2)$\", fontsize=18, color=\"blue\")\n",
        "\n",
        "for label in ax1.get_yticklabels():\n",
        "    label.set_color(\"blue\") # Se cambia el color de sus etiquetas para distinguir entre ambos ejes.\n",
        "\n",
        "#########\n",
        "ax2 = ax1.twinx() # Nuevo objeto Axes, gemelo de ax1.\n",
        "#########\n",
        "\n",
        "\n",
        "ax2.plot(x, x**3, lw=2, color=\"red\")\n",
        "ax2.set_ylabel(r\"volume $(m^3)$\", fontsize=18, color=\"red\")\n",
        "for label in ax2.get_yticklabels():\n",
        "    label.set_color(\"red\")"
      ],
      "execution_count": null,
      "outputs": []
    },
    {
      "cell_type": "markdown",
      "metadata": {
        "id": "7QmadvcspSsf"
      },
      "source": [
        "#### **6.6.2. Ejes centrados en $0,0$**\n",
        "---\n",
        "Por defecto, los ejes o *Spines* en *Matplotlib* rodean las figuras en forma de rectángulo. Con el método **`set_position`** de los objetos **`Spines`** se puede cambiar el centro de los ejes, en donde se cruzan, típicamente ubicado en $0,0$.\n"
      ]
    },
    {
      "cell_type": "code",
      "metadata": {
        "id": "F0ZV-7RKpSsg"
      },
      "source": [
        "fig, ax = plt.subplots(dpi = 100)\n",
        "\n",
        "ax.spines['right'].set_color('none') # No se muestran los ejes de la parte superior y derecha.\n",
        "ax.spines['top'].set_color('none')\n",
        "\n",
        "#########\n",
        "ax.xaxis.set_ticks_position('bottom')\n",
        "ax.spines['bottom'].set_position(('data',0)) # Configura la posición del eje x en x=0.\n",
        "\n",
        "ax.yaxis.set_ticks_position('left')\n",
        "ax.spines['left'].set_position(('data',0))   # Configura la posición del eje y en y=0.\n",
        "#########\n",
        "\n",
        "xx = np.linspace(-0.75, 1., 100)\n",
        "ax.plot(xx, xx**3);"
      ],
      "execution_count": null,
      "outputs": []
    },
    {
      "cell_type": "markdown",
      "metadata": {
        "id": "41yN3FfmpSsk"
      },
      "source": [
        "### **6.7. Otros estilos de gráficos 2D**\n",
        "---\n",
        "Además del método común **`plot`**, hay varias funciones para generar diferentes tipos de gráficos. Consulte la [galería](http://matplotlib.org/gallery.html) de *Matplotlib* para obtener una lista completa: Algunos de los más útiles se muestran a continuación:\n",
        "\n",
        "* **`step`**: Gráfico de pasos o de escalera.\n",
        "* **`bar`**: Gráfica de barras (Similar a los histogramas).\n",
        "* **`fill_between`**: Gráfica de área entre dos curvas.\n",
        "* **`axvline` | `axhline`**: Líneas verticales y horizontales."
      ]
    },
    {
      "cell_type": "code",
      "metadata": {
        "id": "h-81uKidpSsm"
      },
      "source": [
        "n = np.array([0,1,2,3,4,5])\n",
        "\n",
        "fig, axes = plt.subplots(2, 2, figsize=(15, 9))\n",
        "\n",
        "axes[0,0].step(n, n**2, lw=2)\n",
        "axes[0,0].set_title(\"step\")\n",
        "\n",
        "axes[0,1].bar(n, n**2, align=\"center\", width=0.8, alpha=0.5)\n",
        "axes[0,1].set_title(\"bar\")\n",
        "\n",
        "axes[1,0].fill_between(x, x**2, x**3, color=\"green\", alpha=0.5);\n",
        "axes[1,0].set_title(\"fill_between\");\n",
        "\n",
        "axes[1,1].axhline(5, 0.25, 0.75);\n",
        "axes[1,1].axvline(5, 0, 0.6);\n",
        "axes[1,1].set_title(\"axhline y axvline\");"
      ],
      "execution_count": null,
      "outputs": []
    },
    {
      "cell_type": "markdown",
      "metadata": {
        "id": "NQdeqyVApSsp"
      },
      "source": [
        "### **6.8. Anotaciones de texto**\n",
        "---\n",
        "Se puede anotar texto en figuras de *Matplotlib* usando la función **`text`**. Es compatible con el formato *LaTeX* al igual que los textos y títulos de las etiquetas de ejes:"
      ]
    },
    {
      "cell_type": "code",
      "metadata": {
        "id": "cIquoBngpSsq"
      },
      "source": [
        "fig, ax = plt.subplots(dpi = 100)\n",
        "ax.plot(xx, xx**2, xx, xx**3)\n",
        "\n",
        "#########\n",
        "ax.text(0.15, 0.3, # Las posiciones son la posición numérica en cada eje, entre 0 y 1.\n",
        "        r\"$y=x^2$\",\n",
        "        fontsize=12,\n",
        "        color=\"blue\")\n",
        "\n",
        "ax.text(-0.5, 0.8,\n",
        "        r\"Ejemplo de anotación\",\n",
        "        fontsize=12,\n",
        "        color=\"red\")\n",
        "\n",
        "ax.text(0.65, 0.1,\n",
        "        r\"$y=x^3$\",\n",
        "        fontsize=20,\n",
        "        color=\"green\");\n",
        "#########"
      ],
      "execution_count": null,
      "outputs": []
    },
    {
      "cell_type": "markdown",
      "metadata": {
        "id": "ddzsQ0XHpSss"
      },
      "source": [
        "### **6.9. Personalización de subfiguras múltiples**\n",
        "---\n",
        "\n",
        "Se pueden agregar manualmente ejes a una figura de *Matplotlib* usando **`fig.add_axes`** o usando un administrador de diseño de subfiguras como **`subplots`**, **`subplot2grid`** o **`gridspec`**:"
      ]
    },
    {
      "cell_type": "markdown",
      "metadata": {
        "id": "Eq7QT_PipSss"
      },
      "source": [
        "#### **6.9.1. Método `subplots`**\n",
        "---"
      ]
    },
    {
      "cell_type": "code",
      "metadata": {
        "id": "XchxvH-ypSss"
      },
      "source": [
        "#Versión más común y sencilla de componer múltiples subfiguras.\n",
        "\n",
        "fig, ax = plt.subplots(2, 3)\n",
        "fig.tight_layout()"
      ],
      "execution_count": null,
      "outputs": []
    },
    {
      "cell_type": "markdown",
      "metadata": {
        "id": "yrPbandXwHfk"
      },
      "source": [
        "#### **6.9.2. Método `subplot2grid`**\n",
        "---\n",
        "Se pueden componer las gráficas utilizando un sistema de cuadricula con la opción de combinar celdas. Para esto se utiliza el método **`subplot2grid`** de manera similar al uso dado del método **`subplots`**."
      ]
    },
    {
      "cell_type": "code",
      "metadata": {
        "id": "8H-3U1C1pSsv"
      },
      "source": [
        "fig = plt.figure()\n",
        "ax1 = plt.subplot2grid((3,3), (0,0), colspan=3) # Va a ocupar 3 columnas\n",
        "ax2 = plt.subplot2grid((3,3), (1,0), colspan=2) # Va a ocupar 2 columnas\n",
        "ax3 = plt.subplot2grid((3,3), (1,2), rowspan=2) # Va a ocupar 2 filas\n",
        "ax4 = plt.subplot2grid((3,3), (2,0))\n",
        "ax5 = plt.subplot2grid((3,3), (2,1))\n",
        "fig.tight_layout()"
      ],
      "execution_count": null,
      "outputs": []
    },
    {
      "cell_type": "markdown",
      "metadata": {
        "id": "NXGkmXCMwM6V"
      },
      "source": [
        "#### **6.9.3. Método `gridspec`**\n",
        "---\n",
        "Si se requiere una manipulación más profunda se puede utilizar el submódulo de *Matplotlib* **`gridspec`**. Con este se pueden definir rápidamente cuadriculas de objetos **`Axes`** a partir de sus relaciones de aspecto."
      ]
    },
    {
      "cell_type": "code",
      "metadata": {
        "id": "zRklKe4ppSsy"
      },
      "source": [
        "#Importamos el submódulo gridspec\n",
        "import matplotlib.gridspec as gridspec"
      ],
      "execution_count": null,
      "outputs": []
    },
    {
      "cell_type": "code",
      "metadata": {
        "id": "Y4vfTFzppSsz"
      },
      "source": [
        "#Versión más personalizable de las relaciones de aspecto\n",
        "#de las subfiguras de una visualización.\n",
        "\n",
        "fig = plt.figure()\n",
        "\n",
        "gs = gridspec.GridSpec(2, 3, height_ratios=[2,1], width_ratios=[1,2,1])\n",
        "for g in gs:\n",
        "    ax = fig.add_subplot(g)\n",
        "\n",
        "fig.tight_layout()"
      ],
      "execution_count": null,
      "outputs": []
    },
    {
      "cell_type": "markdown",
      "metadata": {
        "id": "WWXdEk7-pSs2"
      },
      "source": [
        "#### **6.9.4. Método `add_axes`**\n",
        "---\n",
        "\n",
        "Finalmente, es posbile agregar ejes manualmente con **`add_axes`**. Esto es útil para agregar inserciones a figuras utilizadas previamente."
      ]
    },
    {
      "cell_type": "code",
      "metadata": {
        "id": "_lzWFPZtpSs2"
      },
      "source": [
        "# Ubicar subfiguras en cualquier posición (incluso superpuesta a otra subfigura)\n",
        "\n",
        "fig, ax = plt.subplots()\n",
        "\n",
        "ax.plot(xx, xx**2, xx, xx**3)\n",
        "fig.tight_layout()\n",
        "\n",
        "# Inserción\n",
        "inset_ax = fig.add_axes([0.3, 0.55, 0.35, 0.35]) # X, Y, width, height\n",
        "\n",
        "inset_ax.plot(xx, xx**2, xx, xx**3)\n",
        "inset_ax.set_title('zoom cerca al origen')\n",
        "\n",
        "# Rango del eje\n",
        "inset_ax.set_xlim(-.2, .2)\n",
        "inset_ax.set_ylim(-.005, .01)\n",
        "\n",
        "# Ubicación de las marcas del eje\n",
        "inset_ax.set_yticks([-0.005,0, 0.005, 0.01])\n",
        "inset_ax.set_xticks([-0.1,0,.1]);"
      ],
      "execution_count": null,
      "outputs": []
    },
    {
      "cell_type": "markdown",
      "metadata": {
        "id": "LDyO26K_pStH"
      },
      "source": [
        "## **7. Figuras 3D**\n",
        "---\n",
        "*Matplotlib* cuenta con la posibilidad de generar gráficas de $3$ dimensiones. Para usar visualizaciones 3D en *Matplotlib*, primero necesitamos crear una instancia de la clase **`Axes3D`**."
      ]
    },
    {
      "cell_type": "code",
      "metadata": {
        "id": "8zhp7eNPpStH"
      },
      "source": [
        "from mpl_toolkits.mplot3d.axes3d import Axes3D"
      ],
      "execution_count": null,
      "outputs": []
    },
    {
      "cell_type": "markdown",
      "metadata": {
        "id": "88zTU8osOu51"
      },
      "source": [
        " Antes de empezar crearemos los datos para graficar en 3D."
      ]
    },
    {
      "cell_type": "code",
      "metadata": {
        "id": "jHMXQBC0oW9o"
      },
      "source": [
        "#Datos iniciales\n",
        "alpha = 0.7\n",
        "phi_ext = 2 * np.pi * 0.5\n",
        "\n",
        "def flux_qubit_potential(phi_m, phi_p):\n",
        "    return 2 + alpha - 2 * np.cos(phi_p) * np.cos(phi_m) - alpha * np.cos(phi_ext - 2*phi_p)"
      ],
      "execution_count": null,
      "outputs": []
    },
    {
      "cell_type": "code",
      "metadata": {
        "id": "xQx4SYWcoWOY"
      },
      "source": [
        "phi_m = np.linspace(0, 2*np.pi, 100)\n",
        "phi_p = np.linspace(0, 2*np.pi, 100)\n",
        "X,Y = np.meshgrid(phi_p, phi_m)\n",
        "Z = flux_qubit_potential(X, Y).T"
      ],
      "execution_count": null,
      "outputs": []
    },
    {
      "cell_type": "markdown",
      "metadata": {
        "id": "y0UXRns8xX1H"
      },
      "source": [
        "### **7.1. Superficies**\n",
        "---\n",
        "Los ejes 3D se pueden agregar a un canvas de figuras exactamente de la misma manera que los ejes 2D; o de una forma más conveniente, pasando un argumento de palabra clave **`projection = '3d'`** a los métodos **`add_axes`** o **`add_subplot`**.\n",
        "\n",
        "> **Nota:** La visualización de objetos en 3D tiene un mayor costo computacional y por tanto puede tardar más en generarse."
      ]
    },
    {
      "cell_type": "code",
      "metadata": {
        "id": "i_g2rGR4pStJ"
      },
      "source": [
        "fig = plt.figure(figsize=(14,6))\n",
        "\n",
        "# `ax` es un eje 3D por el parámetro projection='3d' en add_subplot\n",
        "ax = fig.add_subplot(1, 2, 1, projection='3d')\n",
        "\n",
        "p = ax.plot_surface(X, Y, Z, rstride=4, cstride=4, linewidth=0)\n",
        "\n",
        "# superficie con graduación de color y barra de color\n",
        "ax = fig.add_subplot(1, 2, 2, projection='3d')\n",
        "p = ax.plot_surface(X, Y, Z, rstride=1, cstride=1, cmap=mpl.cm.coolwarm, linewidth=0, antialiased=False)\n",
        "cb = fig.colorbar(p, shrink=0.5)"
      ],
      "execution_count": null,
      "outputs": []
    },
    {
      "cell_type": "markdown",
      "metadata": {
        "id": "U6OM7QyopStL"
      },
      "source": [
        "Además de las superficies básicas, *Matplotlib* cuenta con los gráficos de malla de tipo *Wire frame*, generados con el método **`plot_wireframe`**.\n",
        "\n",
        "\n"
      ]
    },
    {
      "cell_type": "code",
      "metadata": {
        "id": "ucUa75pKpStM"
      },
      "source": [
        "fig = plt.figure(figsize=(8,6))\n",
        "\n",
        "ax = fig.add_subplot(1, 1, 1, projection='3d')\n",
        "\n",
        "p = ax.plot_wireframe(X, Y, Z, rstride=4, cstride=4)"
      ],
      "execution_count": null,
      "outputs": []
    },
    {
      "cell_type": "markdown",
      "metadata": {
        "id": "YEOGoYXBpStO"
      },
      "source": [
        "Con el método **`contour`** se pueden generar visualizaciones en 2D proyectadas en los planos de fondo de una visualización 3D que representen el contorno de la superficie representada por los mismos datos."
      ]
    },
    {
      "cell_type": "code",
      "metadata": {
        "id": "sCx_X8WWpStP"
      },
      "source": [
        "fig = plt.figure(figsize=(8,6))\n",
        "\n",
        "ax = fig.add_subplot(1,1,1, projection='3d')\n",
        "\n",
        "ax.plot_surface(X, Y, Z, rstride=4, cstride=4, alpha=0.25)\n",
        "cset = ax.contour(X, Y, Z, zdir='z', offset=-np.pi, cmap=mpl.cm.coolwarm)\n",
        "cset = ax.contour(X, Y, Z, zdir='x', offset=-np.pi, cmap=mpl.cm.coolwarm)\n",
        "cset = ax.contour(X, Y, Z, zdir='y', offset=3*np.pi, cmap=mpl.cm.coolwarm)\n",
        "\n",
        "ax.set_xlim3d(-np.pi, 2*np.pi);\n",
        "ax.set_ylim3d(0, 3*np.pi);\n",
        "ax.set_zlim3d(-np.pi, 2*np.pi);"
      ],
      "execution_count": null,
      "outputs": []
    },
    {
      "cell_type": "markdown",
      "metadata": {
        "id": "RWXm5nLbQEr_"
      },
      "source": [
        "En la próxima unidad exploraremos librerías para la visualización interactiva de datos que podrán facilitar la exploración en detalle de gráficas en 2 y 3 dimensiones."
      ]
    },
    {
      "cell_type": "markdown",
      "metadata": {
        "id": "4r5hSQAz6d-g"
      },
      "source": [
        "## **Recursos adicionales**\n",
        "---\n",
        "Los siguientes enlaces corresponden a sitios en donde encontrará información muy útil para profundizar en el conocimiento de las funcionalidades de la librería *Matplotlib*:\n",
        "\n",
        "\n",
        "* [*Matplotlib*: Visualization with Python](http://www.matplotlib.org)\n",
        "* [Matplotlib Gallery - (Ejemplos)](http://matplotlib.org/gallery.html) - Se recomienda revisar la galería y ajustar el código de las visualizaciones requeridas.\n",
        "* [Nicolas P. Rougier - *Matplotlib* tutorial](http://www.labri.fr/perso/nrougier/teaching/matplotlib/)\n",
        "* [IBM (Coursera) - Data Visualization with *Python*](https://www.coursera.org/learn/python-for-data-visualization)\n",
        "* [DataCamp - Introduction to Data Visualization with *Matplotlib*](https://www.datacamp.com/courses/introduction-to-matplotlib)\n",
        "\n"
      ]
    },
    {
      "cell_type": "markdown",
      "metadata": {
        "id": "z4VavQ3wgMGo"
      },
      "source": [
        "## **Créditos**\n",
        "---\n",
        "\n",
        "* **Profesor:** [Felipe Restrepo Calle](https://dis.unal.edu.co/~ferestrepoca/)\n",
        "* **Asistente docente:** Alberto Nicolai Romero Martínez\n",
        "\n",
        "**Universidad Nacional de Colombia** - *Facultad de Ingeniería*"
      ]
    }
  ]
}