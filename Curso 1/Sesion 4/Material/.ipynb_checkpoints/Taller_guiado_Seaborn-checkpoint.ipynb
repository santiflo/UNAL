{
  "nbformat": 4,
  "nbformat_minor": 0,
  "metadata": {
    "colab": {
      "provenance": [],
      "toc_visible": true,
      "private_outputs": true
    },
    "kernelspec": {
      "name": "python3",
      "display_name": "Python 3"
    }
  },
  "cells": [
    {
      "cell_type": "markdown",
      "metadata": {
        "id": "fb9pUStUq6xf"
      },
      "source": [
        "<img src = \"https://drive.google.com/uc?export=view&id=1XN22c7U27IGl71aGFywSHAuEfjH-PAam\" alt = \"Encabezado MLDS\" width = \"100%\">  </img>"
      ]
    },
    {
      "cell_type": "markdown",
      "metadata": {
        "id": "kyyYqzShjxwL"
      },
      "source": [
        "# **Librería de visualización de datos estadísticos: *Seaborn***\n",
        "---\n",
        "\n",
        "![logo.png](https://raw.githubusercontent.com/mwaskom/seaborn/b528ba272e2995c390fc84f13a49dd8de801121b/doc/_static/logo-wide-lightbg.svg)\n",
        "\n",
        "***Seaborn*** es una librería de *Python* orientada a la construcción de visualizaciones de datos estadísticos. Está basada y construida con *Matplotlib*. Permite crear visualizaciones estadísticas complejas directamente desde objetos de *NumPy* y *Pandas*. Crea visualizaciones muy atractivas con gran facilidad gracias a sus diferentes estilos. Además, es especialmente útil para visualizaciones donde se involucran datos categóricos.\n",
        "\n",
        "Para mayor información acerca del proyecto ingrese a la página web oficial de [*Seaborn*](http://seaborn.pydata.org/).\n",
        "    \n"
      ]
    },
    {
      "cell_type": "markdown",
      "metadata": {
        "id": "fPDQHY8ORIHy"
      },
      "source": [
        "## **0. Importar *Seaborn***\n",
        "---\n",
        "\n",
        "*Seaborn* ya viene instalado en entornos como *Google Colaboratory* o *Anaconda*. En caso de ser necesario se puede instalar el módulo con el siguiente comando de consola:\n",
        "\n",
        "    pip install seaborn\n",
        "    \n",
        "Se recomienda trabajar con la versión estable más actualizada. Para esto, podría ser necesario actualizar la versión:"
      ]
    },
    {
      "cell_type": "code",
      "metadata": {
        "id": "Gpk9E_Gh8-_M"
      },
      "source": [
        "!pip install seaborn --upgrade"
      ],
      "execution_count": null,
      "outputs": []
    },
    {
      "cell_type": "markdown",
      "metadata": {
        "id": "TX0SY1fEvdZx"
      },
      "source": [
        "Por convención *Seaborn* se importa con el alias **`sns`**."
      ]
    },
    {
      "cell_type": "code",
      "metadata": {
        "id": "VVGVD4y9vdZy"
      },
      "source": [
        "import seaborn as sns\n",
        "import pandas as pd\n",
        "import numpy as np\n",
        "import matplotlib.pyplot as plt\n",
        "import matplotlib as mpl\n",
        "\n",
        "# Configuraciones de Matplotlib\n",
        "%matplotlib inline\n",
        "plt.rcParams['figure.dpi'] = 110"
      ],
      "execution_count": null,
      "outputs": []
    },
    {
      "cell_type": "code",
      "metadata": {
        "id": "Jss-fLlZCmWw"
      },
      "source": [
        "# Estilo por defecto para notebooks.\n",
        "sns.set_theme('notebook')"
      ],
      "execution_count": null,
      "outputs": []
    },
    {
      "cell_type": "markdown",
      "metadata": {
        "id": "dxNzX3sfq3gZ"
      },
      "source": [
        "Este material se realizó con las siguientes versiones:\n",
        "- Python 3.10.6\n",
        "- NumPy 1.22.4\n",
        "- Pandas 1.5.3\n",
        "- Matplotlib 3.7.1\n",
        "- Seaborn 0.12.2"
      ]
    },
    {
      "cell_type": "code",
      "metadata": {
        "id": "jUMP_2CPqwRY"
      },
      "source": [
        "# Versión de Python y las demás librerías.\n",
        "!python --version\n",
        "print('NumPy', np.__version__)\n",
        "print('Pandas', pd.__version__)\n",
        "print('Matplotlib', mpl.__version__)\n",
        "print('Seaborn', sns.__version__)"
      ],
      "execution_count": null,
      "outputs": []
    },
    {
      "cell_type": "markdown",
      "metadata": {
        "id": "6LIu0TU4vdZ4"
      },
      "source": [
        "## **1. Conjuntos de datos**\n",
        "---\n",
        "*Seaborn* tiene por defecto algunos *datasets* populares incorporados que podremos usar para la presentación de ejemplos. Uno de ellos es el dataset ***tips*** el cual almacena datos referentes a propinas dadas por clientes en un restaurante y algunos datos relacionados. Usaremos este *dataset* para algunas demostraciones en el transcurso de esta guía."
      ]
    },
    {
      "cell_type": "markdown",
      "metadata": {
        "id": "XQaxIqYeTAg-"
      },
      "source": [
        "Inicialmente cargamos el *dataset* **`tips`** en la variable tips, el dataset es \"cargado\" mediante la función **`load_dataset()`** de *Seaborn*. Este *dataset* contiene información acerca de propinas en un restaurante de Estados Unidos. Este contiene las siguientes columnas:\n",
        "\n",
        "| Variable | Definición\t| Valores |\n",
        "| --- | --- | --- |\n",
        "| total_bill   | \tCosto total de la factura. (USD) | \t|\n",
        "| tip          \t| Propina voluntaria. (USD) |\n",
        "| sex \t| Sexo de la persona que paga la factura. \t| Female, Male |\n",
        "| smoker |\tSi se tiene o no un fumador en el grupo de comensales. \t| No, Yes  |\n",
        "| day |\tDía de la semana. (De jueves a domingo) | Thur (Jueves), Fri (Viernes) , Sat (Sábado), Sun (Domingo) |\n",
        "| time |\tSi es durante el almuerzo o la cena.\t| Dinner (Cena), Lunch (Almuerzo) |\n",
        "| size |\tCantidad de comensales en la mesa. | |"
      ]
    },
    {
      "cell_type": "code",
      "metadata": {
        "id": "lKRfbt3pvdZ5"
      },
      "source": [
        "tips = sns.load_dataset('tips') # Retorna un DataFrame de pandas."
      ],
      "execution_count": null,
      "outputs": []
    },
    {
      "cell_type": "code",
      "metadata": {
        "id": "6jnmEUvDvdZ7"
      },
      "source": [
        "tips.info()   # visualizamos la cabecera del dataset"
      ],
      "execution_count": null,
      "outputs": []
    },
    {
      "cell_type": "code",
      "metadata": {
        "id": "-TIhxqgpsqC3"
      },
      "source": [
        "tips.head()"
      ],
      "execution_count": null,
      "outputs": []
    },
    {
      "cell_type": "code",
      "metadata": {
        "id": "ydNgVkR1jlFn"
      },
      "source": [
        "tips['day'].value_counts()"
      ],
      "execution_count": null,
      "outputs": []
    },
    {
      "cell_type": "markdown",
      "metadata": {
        "id": "n8JWNsNuA20Z"
      },
      "source": [
        "El argumento de la función **`load_dataset()`** recibe el nombre del dataset deseado. Este nombre debe corresponder a la lista de *dataset* disponibles en el siguiente [repositorio de Github](https://github.com/mwaskom/seaborn-data). Algunos de ellos ya han sido utilizados en unidades anteriores, como los dataset **`titanic`**, **`iris`** y **`anscombe`**. Puede adicionalmente\n",
        "conocer la lista de *datasets* disponible en la versión de *Seaborn* con el método **`sns.get_dataset_names`**."
      ]
    },
    {
      "cell_type": "code",
      "metadata": {
        "id": "g-jzqASKA2dJ"
      },
      "source": [
        "sns.get_dataset_names()"
      ],
      "execution_count": null,
      "outputs": []
    },
    {
      "cell_type": "markdown",
      "metadata": {
        "id": "VLkBedjCBTUi"
      },
      "source": [
        "## **2. Visualizaciones relacionales**\n",
        "---\n",
        "\n",
        "*Seaborn* cuenta con visualizaciones comunes para explorar la relación de variables. Estos se han visto previamente en la visualización con *Pandas* y *Matplotlib*, con una menor capacidad de personalización rápida. Los métodos usados para la visualización relacional son:\n",
        "\n",
        "* **`scatterplot`**\n",
        "* **`lineplot`**\n",
        "* **`relplot`**"
      ]
    },
    {
      "cell_type": "markdown",
      "metadata": {
        "id": "Lwso1OCrB44s"
      },
      "source": [
        "### **2.1. Método `scatterplot`**\n",
        "---\n",
        "\n",
        "El método **`scatterplot`** corresponde al diagrama de dispersión. Las funciones de visualización básicas de *Seaborn* son generadas con un único llamado a la función, definiendo la personalización a partir de sus argumentos.\n",
        "\n",
        "El ejemplo siguiente genera el diagrama de dispersión relacionando la columna **`'total_bill'`** y la columna **`'tip'`** del *DataFrame* **`tips`**.\n"
      ]
    },
    {
      "cell_type": "code",
      "metadata": {
        "id": "ytuNN-9CCNiV"
      },
      "source": [
        "sns.scatterplot(data=tips,        # Conjunto de datos\n",
        "                x=\"total_bill\",   # Variable del eje X\n",
        "                y=\"tip\")          # Variable del eje Y"
      ],
      "execution_count": null,
      "outputs": []
    },
    {
      "cell_type": "markdown",
      "metadata": {
        "id": "wrvVJPge5NtN"
      },
      "source": [
        "Nótese que el objeto generado en el llamado de esta función es un objeto **`Axes`** de *Matplotlib*. Esto quiere decir que podríamos asignarle un nombre y personalizar mucho más la figura mediante instrucciones de *Matplotlib* como veremos más adelante."
      ]
    },
    {
      "cell_type": "markdown",
      "metadata": {
        "id": "X9GyvuwBC78z"
      },
      "source": [
        "En el mismo llamado de la función se pueden añadir más codificaciones y detalles para la visualización. Por ejemplo, para utilizar el tono de color para codificar una tercera variable categórica se puede indicar el argumento **`hue`** y para codificar con el estilo del marcador se puede indicar con el argumento **`style`**."
      ]
    },
    {
      "cell_type": "code",
      "metadata": {
        "id": "J0qDbM-NC0El"
      },
      "source": [
        "sns.scatterplot(data=tips, x=\"total_bill\", y=\"tip\",\n",
        "                hue=\"day\",      # Tono de color\n",
        "                style=\"time\");   # Estilo del marcador."
      ],
      "execution_count": null,
      "outputs": []
    },
    {
      "cell_type": "markdown",
      "metadata": {
        "id": "qZm4E-W8ErvN"
      },
      "source": [
        "### **2.2. Método `lineplot`**\n",
        "---\n",
        "\n",
        "El método **`lineplot`** corresponde al diagrama de líneas. Este funciona de manera similar que el método anterior, con la definición de variables a partir de argumentos.\n",
        "\n",
        "A diferencia de otros métodos de visualización, *Seaborn* permite inferir ideas de visualización como la agregación a partir de la media, además de visualizar el intervalo de confianza asociado (con un nivel de confianza del $95\\%$).\n",
        "\n",
        "Por ejemplo, al relacionar la cantidad de comensales **`size`** con la propina dada **`tip`** se agregan las instancias de cada grupo de tamaños a partir de la media de la variable del eje $y$."
      ]
    },
    {
      "cell_type": "code",
      "metadata": {
        "id": "XeYCEd4AFYIJ"
      },
      "source": [
        "sns.lineplot(data = tips, x = 'size', y = 'tip');"
      ],
      "execution_count": null,
      "outputs": []
    },
    {
      "cell_type": "markdown",
      "metadata": {
        "id": "7e3kqllIHRh9"
      },
      "source": [
        "Al igual que antes es posible definir el tono de color y el estilo de marcador a partir de variables determinadas:"
      ]
    },
    {
      "cell_type": "code",
      "metadata": {
        "id": "zpSR3SzqGdm0"
      },
      "source": [
        "sns.lineplot(data = tips, x = 'size', y = 'tip', hue ='smoker', style = 'smoker');"
      ],
      "execution_count": null,
      "outputs": []
    },
    {
      "cell_type": "markdown",
      "metadata": {
        "id": "AZ8NCBLXHc1M"
      },
      "source": [
        "Además, se puede definir información importante como el estilo de la representación del error y el valor de confianza asociado."
      ]
    },
    {
      "cell_type": "code",
      "metadata": {
        "id": "isZdNbnlHqZK"
      },
      "source": [
        "sns.lineplot(data = tips, x = 'size', y = 'tip', hue ='smoker',\n",
        "              err_style= 'bars',    # Barras de error en vez de áreas.\n",
        "              errorbar=('ci', 50));             # Intervalo de confianza con un nivel del 50%"
      ],
      "execution_count": null,
      "outputs": []
    },
    {
      "cell_type": "markdown",
      "metadata": {
        "id": "iyTN3yrXVvyv"
      },
      "source": [
        "### **2.3. Método `lmplot`**\n",
        "---\n",
        "*Seaborn* viene con funcionalidades para graficar los modelos de regresiones lineales. El método **`lmplot`** permite visualizar modelos lineales, pero también permite dividir los gráficos en función de las características, así como colorear el tono en función de éstas.\n",
        "\n",
        "\n",
        "Iniciamos con el diagrama de regresión lineal para las variables **`total_bill`** y **`tips`** del *DataFrame* **`tips`**:\n",
        "\n"
      ]
    },
    {
      "cell_type": "code",
      "metadata": {
        "id": "m4wYRtb8Vvyx"
      },
      "source": [
        "sns.lmplot(x = 'total_bill', y = 'tip', data = tips);"
      ],
      "execution_count": null,
      "outputs": []
    },
    {
      "cell_type": "markdown",
      "metadata": {
        "id": "pxZj8SC2Nd-J"
      },
      "source": [
        "Es posible realizar la relación lineal para distintas categorías sobre un mismo diagrama. En el caso siguiente, veremos cómo podemos obtener la línea de regresión lineal y las parejas de datos de manera independiente para los casos de hombres y mujeres. Esto se logra con la definición del parámetro **`hue`** con el valor **`'sex'`**."
      ]
    },
    {
      "cell_type": "code",
      "metadata": {
        "id": "q-9rNBkHVvy2"
      },
      "source": [
        "sns.lmplot(x='total_bill', y='tip', data=tips, hue='sex');"
      ],
      "execution_count": null,
      "outputs": []
    },
    {
      "cell_type": "markdown",
      "metadata": {
        "id": "ool9rYlHVvzF"
      },
      "source": [
        "Es posible igualmente personalizar la gráfica definiendo diferentes tipos de marcadores, de acuerdo a los [soportados por *Matplotlib*](http://matplotlib.org/api/markers_api.html), y también hacer uso de una paleta de tonos diferente a la usada por defecto. Para ello se deben definir los parámetros **`palette`** y **`markers`** como se ilustra en el ejemplo:"
      ]
    },
    {
      "cell_type": "code",
      "metadata": {
        "id": "alEKuh0jVvzI"
      },
      "source": [
        "sns.lmplot(x='total_bill',\n",
        "           y='tip',\n",
        "           data=tips,\n",
        "           hue='sex',\n",
        "           palette='viridis',\n",
        "           markers=['o','v']);"
      ],
      "execution_count": null,
      "outputs": []
    },
    {
      "cell_type": "markdown",
      "metadata": {
        "id": "hwTGWaWjVvzS"
      },
      "source": [
        "Si se quiere modificar otros parámetros de *Matplotlib* más específicos como el tamaño del marcador, es necesario pasar esta información como un parámetro adicional en forma de diccionario."
      ]
    },
    {
      "cell_type": "code",
      "metadata": {
        "id": "oDrZ0clXVvzV"
      },
      "source": [
        "sns.lmplot(x='total_bill',\n",
        "           y='tip',\n",
        "           data=tips,\n",
        "           hue='sex',\n",
        "           palette='coolwarm',\n",
        "           markers=['o','v'], # Tipos de marcadores usados en la visualización.\n",
        "           scatter_kws={'s':80}); # scatter_kws (Scatter keywords). Argumentos de los marcadores de Matplotlib."
      ],
      "execution_count": null,
      "outputs": []
    },
    {
      "cell_type": "markdown",
      "metadata": {
        "id": "oCtoPEnnVvzi"
      },
      "source": [
        "Los argumentos *kwargs* de **`lmplot`** pasan a **`regplot`** que es una forma más general. **`regplot`** tiene un parámetro **`scatter_kws`** que se pasa a su vez a **`plt.scatter`**. Entonces, si se quiere establecer el parámetro **`'s'`**, que corresponde al tamaño del marcador, es necesario modificar este argumento en el diccionario.\n",
        "En otras palabras, en varias funciones de *Seaborn* se pasan los argumentos base a una función de *Matplotlib* por medio de argumentos de la forma **`*_kws`**. Si quiere conocer los detalles se recomienda consultar la [documentación de marcadores de *Matplotlib*](http://matplotlib.org/api/markers_api.html).\n"
      ]
    },
    {
      "cell_type": "markdown",
      "metadata": {
        "id": "wq_Nu-e0Vvzj"
      },
      "source": [
        "Podemos separar aún más las representaciones de los modelos lineales añadiendo una cuadrícula para analizar variables específicas. Simplemente hay que indicar los argumentos **`col`** o **`row`**. En el siguiente caso las gráficas se generan a partir de las categorías de la variable **`sex`**."
      ]
    },
    {
      "cell_type": "code",
      "metadata": {
        "id": "NHtEnSz2Vvzl"
      },
      "source": [
        "sns.lmplot(x='total_bill', y='tip', data=tips, col='sex');"
      ],
      "execution_count": null,
      "outputs": []
    },
    {
      "cell_type": "markdown",
      "metadata": {
        "id": "DxlR_g2CP01X"
      },
      "source": [
        "Adicionalmente, también se pueden asignar las filas para clasificar por otra categoría. En el siguiente caso las columnas continúan siendo clasificadas por la variable **`sexo`** pero adicionalmente en las filas se hace la clasificación por la columna **`time`**:"
      ]
    },
    {
      "cell_type": "code",
      "metadata": {
        "id": "rFs1yk33Vvzr"
      },
      "source": [
        "sns.lmplot(x=\"total_bill\", y=\"tip\", col=\"sex\", row=\"time\", data=tips);"
      ],
      "execution_count": null,
      "outputs": []
    },
    {
      "cell_type": "markdown",
      "metadata": {
        "id": "bI3Yr8yrRbS_"
      },
      "source": [
        "Es posible también combinar el uso de **`col`**, y **`row`** con el uso de **`hue`** para lograr así visualizar una mayor cantidad de información:"
      ]
    },
    {
      "cell_type": "code",
      "metadata": {
        "id": "fJebCgQ0Vvzz"
      },
      "source": [
        "sns.lmplot(x='total_bill', y='tip', data=tips,\n",
        "           col='day', col_wrap = 2,\n",
        "           hue='sex', palette='deep');"
      ],
      "execution_count": null,
      "outputs": []
    },
    {
      "cell_type": "markdown",
      "metadata": {
        "id": "_W_FLPg0Vvz8"
      },
      "source": [
        "Las figuras de *Seaborn* pueden ajustarse en tamaño y relación de aspecto con los parámetros **`size`** y **`aspect`**:"
      ]
    },
    {
      "cell_type": "code",
      "metadata": {
        "id": "HxGOltKvVv0A"
      },
      "source": [
        "sns.lmplot(x='total_bill',\n",
        "           y='tip',\n",
        "           data=tips,\n",
        "           row='day',\n",
        "           hue='sex',\n",
        "           palette='deep',\n",
        "           aspect=1.8,\n",
        "           height=5);"
      ],
      "execution_count": null,
      "outputs": []
    },
    {
      "cell_type": "markdown",
      "metadata": {
        "id": "QODpHtdZIsyQ"
      },
      "source": [
        "### **2.4. Método `relplot`**\n",
        "---\n",
        "\n",
        "En *Seaborn* existen categorías de visualización que son agrupadas en funciones generales. Para el caso de las funciones relacionales se dispone de la función **`relplot`** que, entre otras cosas, permite codificar a partir de filas y columnas en gráficas conformando una cuadrícula. Algunos argumentos importantes son:\n",
        "\n",
        "Por medio del argumento **`kind`** se puede definir el tipo de visualización (**`'scatter'`** o **`'line'`**)."
      ]
    },
    {
      "cell_type": "code",
      "metadata": {
        "id": "UeLS0TmEJqmU"
      },
      "source": [
        "sns.relplot(data=tips, x=\"total_bill\", y=\"tip\", hue=\"day\",\n",
        "            kind = 'scatter') # Gráfica relacional de dispersión."
      ],
      "execution_count": null,
      "outputs": []
    },
    {
      "cell_type": "markdown",
      "metadata": {
        "id": "cCCCJLzbKP3k"
      },
      "source": [
        "Note que ahora el objeto retornado es un objeto de *Seaborn* conocido como **`FacetGrid`**. Este representa una cuadrícula de gráficas, como se verá más adelante en este material. Para representar variables como filas o columnas se puede usar el argumento **`col`** y **`row`**."
      ]
    },
    {
      "cell_type": "code",
      "metadata": {
        "id": "RZV0kn5QKOsR"
      },
      "source": [
        "sns.relplot(data=tips, x=\"total_bill\", y=\"tip\", hue=\"day\", kind = 'scatter',\n",
        "            col = 'sex',\n",
        "            row = 'time'\n",
        "            );"
      ],
      "execution_count": null,
      "outputs": []
    },
    {
      "cell_type": "markdown",
      "metadata": {
        "id": "kN2Qp8WhtQKF"
      },
      "source": [
        "## **3. Visualización de distribuciones**\n",
        "---\n",
        "\n",
        "\n",
        "Otra categoría importante que distingue *Seaborn* es la de visualización de distribuciones. A continuación se presentan algunos tipos de gráficos de *Seaborn* útiles para visualizar la distribución de datos numéricos. Estos son:\n",
        "\n",
        "* **`distplot`**\n",
        "* **`jointplot`**\n",
        "* **`pairplot`**\n",
        "* **`rugplot`**\n",
        "* **`kdeplot`**"
      ]
    },
    {
      "cell_type": "markdown",
      "metadata": {
        "id": "2AboYsdIvdZ-"
      },
      "source": [
        "### **3.1. Método `histplot`**\n",
        "---\n",
        "\n",
        "El método **`histplot`** muestra la distribución de un conjunto de observaciones de una variable numérica. El diagrama generado es un histograma con los valores presentes en la columna del *DataFrame* o el objeto *Series* que se pasa en el argumento.\n",
        "\n",
        "El ejemplo siguiente diagrama el histograma para la columna **`'total_bill'`** del *DataFrame* **`tips`**."
      ]
    },
    {
      "cell_type": "code",
      "metadata": {
        "id": "m2tjevGTvdZ_"
      },
      "source": [
        "sns.histplot(tips['total_bill'], kde=True);"
      ],
      "execution_count": null,
      "outputs": []
    },
    {
      "cell_type": "markdown",
      "metadata": {
        "id": "zQQecicrvdaB"
      },
      "source": [
        "Con el argumento **`kde`** se presenta en la figura la línea de **Estimación de Densidad de Kernel (KDE)**, muy útil para representar una aproximación a la **función de densidad de probabilidad** del conjunto de datos representado.\n"
      ]
    },
    {
      "cell_type": "markdown",
      "metadata": {
        "id": "GjKaxqRsaH_q"
      },
      "source": [
        "**`histplot`** admite varios parámetros para la personalización de la gráfica. Por ejemplo, con el argumento **`bins`** se puede establecer el número de barras (intervalos de clase) a mostrar en el histograma. Por defecto, este valor es generado con la regla **[Freedman-Diaconis](https://en.wikipedia.org/wiki/Freedman%E2%80%93Diaconis_rule)**. En el siguiente ejemplo se define un número de intervalos de clase específico:"
      ]
    },
    {
      "cell_type": "code",
      "metadata": {
        "id": "vM7H5W8tvdaC"
      },
      "source": [
        "sns.histplot(tips['total_bill'],\n",
        "             kde=False,\n",
        "             bins=30);"
      ],
      "execution_count": null,
      "outputs": []
    },
    {
      "cell_type": "markdown",
      "metadata": {
        "id": "iSDCOo4DvdaE"
      },
      "source": [
        "### **3.2. Método `jointplot`**\n",
        "---\n",
        "\n",
        "El método **`joinplot`** permite diagramar la relación entre dos columnas numéricas de un *dataset*. Por ejemplo, si se quisiera mostrar una relación comparativa de la propina entregada con respecto al valor total de la factura, usaríamos la función **`joinplot`** de la siguiente manera:\n",
        "\n"
      ]
    },
    {
      "cell_type": "code",
      "metadata": {
        "id": "S-9M6GN8eMZl"
      },
      "source": [
        "#se define la columna a diagramar en cada uno de los dos ejes,\n",
        "# y el dataset correspondiente (data)\n",
        "\n",
        "sns.jointplot(x='total_bill',\n",
        "              y='tip',\n",
        "              data=tips);"
      ],
      "execution_count": null,
      "outputs": []
    },
    {
      "cell_type": "markdown",
      "metadata": {
        "id": "IeetdXaTfQM4"
      },
      "source": [
        "El resultado es una gráfica **`histplot`** (histograma) por cada eje, y un diagrama de dispersión o **`scatter`** que permite la interpretación de esta relación. Por ejemplo en la gráfica anterior se puede interpretar que a un mayor valor del total de la factura, se tiene un mayor valor de propina.\n",
        "\n",
        "Por defecto el diagrama de la relación se realiza con una visualización tipo **`scatter`**, sin embargo **`jointplot()`**  permite hacer esta representación con otros diagramas mediante la definición del parametro **`kind`** el cual puede ser de los siguientes tipos:\n",
        "  * **`'scatter'`** (por defecto)\n",
        "  * **`'reg'`**\n",
        "  * **`'resid'`**\n",
        "  * **`'kde'`**\n",
        "  * **`'hex'`**"
      ]
    },
    {
      "cell_type": "markdown",
      "metadata": {
        "id": "RcBphMQKhZg-"
      },
      "source": [
        "Las siguientes celdas muestran el resultado de usar la función **`jointplot()`** con distintas formas de diagramar la relación entre las columnas:"
      ]
    },
    {
      "cell_type": "code",
      "metadata": {
        "id": "mOdwVRC5vdaF"
      },
      "source": [
        "# scatter: El mismo resultado anterior, pues 'scatter' es el modo por defecto.\n",
        "sns.jointplot(x='total_bill', y='tip', data=tips, kind='scatter');"
      ],
      "execution_count": null,
      "outputs": []
    },
    {
      "cell_type": "code",
      "metadata": {
        "id": "gGV4uFIbvdaH"
      },
      "source": [
        "# hex: Se representa la relación con hexágonos, a mayor densidad de puntos,\n",
        "# más oscuro se presenta el hexágono correspondiente.\n",
        "# Esto es muy útil cuando tenemos una gran cantidad de datos (alta densidad)\n",
        "\n",
        "sns.jointplot(x='total_bill',y='tip',data=tips,kind='hex');"
      ],
      "execution_count": null,
      "outputs": []
    },
    {
      "cell_type": "markdown",
      "metadata": {
        "id": "_fmw_ZUUNUqi"
      },
      "source": [
        "Podemos adicionar un objeto **`colorBar`** usando *Matplotlib*:"
      ]
    },
    {
      "cell_type": "code",
      "metadata": {
        "id": "M9-iASXYM0oG"
      },
      "source": [
        "# Ponemos el nombre 'hexplot' al objeto retornado por Seaborn.\n",
        "# Esto nos permitirá personalizar aspectos de la visualización usando Matplotlib.\n",
        "hexplot = sns.jointplot(x=tips[\"total_bill\"], y=tips[\"tip\"], kind=\"hex\")\n",
        "\n",
        "plt.subplots_adjust(left=0.2, right=0.8, top=0.8, bottom=0.2)  #Reducimos el tamaño de la figura original para darle espacio al colorBar.\n",
        "\n",
        "# Construimos un nuevo Axes para el colorBar.\n",
        "cbar_ax = hexplot.fig.add_axes([.85, .25, .05, .4])  # x, y, ancho, alto\n",
        "plt.colorbar(cax=cbar_ax)\n",
        "plt.show()"
      ],
      "execution_count": null,
      "outputs": []
    },
    {
      "cell_type": "code",
      "metadata": {
        "id": "jEiMFrmlP-lr"
      },
      "source": [
        "# kde: Se representa con un diagrama de densidades bidimensional\n",
        "sns.jointplot(x='total_bill', y='tip', data=tips, kind='kde');"
      ],
      "execution_count": null,
      "outputs": []
    },
    {
      "cell_type": "code",
      "metadata": {
        "id": "iw1UPAj2vdaK"
      },
      "source": [
        "# reg: Es básicamente el diagrama de tipo scatter, pero se incluye la línea de regresión lineal con su intervalo de confianza.\n",
        "sns.jointplot(x ='total_bill',\n",
        "              y ='tip',\n",
        "              data = tips,\n",
        "              kind = 'reg');"
      ],
      "execution_count": null,
      "outputs": []
    },
    {
      "cell_type": "markdown",
      "metadata": {
        "id": "vqEb83BAOFTj"
      },
      "source": [
        "Si queremos que aparezca la ecuación de la regresión lineal, podemos calcular sus coeficientes y añadirlos como una etiqueta:"
      ]
    },
    {
      "cell_type": "code",
      "metadata": {
        "id": "ffQlER6uOfFI"
      },
      "source": [
        "from scipy import stats\n",
        "\n",
        "#Se calcula la regresión usando scipy.\n",
        "pendiente, intercepto, r_value, p_value, std_err = stats.linregress(tips['total_bill'],tips['tip'])\n",
        "\n",
        "ax = sns.jointplot(x='total_bill',y='tip',data=tips,kind='reg',\n",
        "                  line_kws={'label':\"y={0:.1f}x + {1:.1f}\".format(pendiente, intercepto)})\n",
        "\n",
        "ax.fig.axes[0].legend()\n",
        "plt.show()"
      ],
      "execution_count": null,
      "outputs": []
    },
    {
      "cell_type": "markdown",
      "metadata": {
        "id": "qj0jU8mqvdaN"
      },
      "source": [
        "### **3.3. Método `pairplot`**\n",
        "---\n",
        "\n",
        "**`pairplot`** grafica las distribuciones comparando relaciones entre todas las variables númericas del DataFrame. Para esto, el método genera un diagrama para cada combinación posible de dos columnas numéricas contenidas en el *DataFrame* que recibe como parámetro.\n"
      ]
    },
    {
      "cell_type": "code",
      "metadata": {
        "id": "9L3lJWbPP-l2"
      },
      "source": [
        "tips.select_dtypes('number').columns"
      ],
      "execution_count": null,
      "outputs": []
    },
    {
      "cell_type": "code",
      "metadata": {
        "id": "lHCrr3sPvdaN"
      },
      "source": [
        "sns.pairplot(tips);"
      ],
      "execution_count": null,
      "outputs": []
    },
    {
      "cell_type": "markdown",
      "metadata": {
        "id": "tm9bXCUHl8cj"
      },
      "source": [
        "El resultado anterior es un diagrama construido por cada par de variables numéricas relacionadas. En cada eje se encuentran representadas cada una de las columnas numéricas del *DataFrame*, y en el cruce de éstas, la gráfica correspondiente a su relación en un diagrama de dispersión o *scatter*. Como se muestra en el resultado, en los casos en que se cruza la variable consigo misma (diagonal), se presenta el histograma correspondiente a esa variable.\n",
        "\n",
        "Adicionalmente en el llamado a **`pairplot`** se puede incluir el parámetro **`hue`** (tono) con el que se puede especificar una categorización o clasificación de acuerdo a una columna categórica del mismo *DataFrame*.\n",
        "\n",
        "En el siguiente ejemplo se especifica el argumento **`hue`**. De esta manera las gráficas resultantes clasificarán los resultados mediante colores distintos para cada valor de la columna **`'sex'`** en el *DataFrame*, en este caso los valores **`'male'`** y **`'female'`**.\n",
        "\n",
        "\n",
        "> **Nota:** Entre más codificaciones se realicen, mayor costo computacional tiene la visualización y más tardará en generarse."
      ]
    },
    {
      "cell_type": "code",
      "metadata": {
        "id": "ITZSQpmxvdaQ"
      },
      "source": [
        "# Si queremos usar histogramas en la diagonal, usar el parámetro: diag_kind='hist'\n",
        "sns.pairplot(tips, hue='sex');"
      ],
      "execution_count": null,
      "outputs": []
    },
    {
      "cell_type": "markdown",
      "metadata": {
        "id": "UTemCrZWrQVq"
      },
      "source": [
        "El uso del parámetro **`palette`** permite establecer un estilo de colores predefinido para la gráfica. En la [documentación](https://seaborn.pydata.org/tutorial/color_palettes.html) de *Seaborn* podrá encontrar los estilos de color disponibles, algunas opciones son:\n",
        "**`coolwarm`, `deep`, `muted`, `bright`, `pastel`, `dark`, `colorblind`**."
      ]
    },
    {
      "cell_type": "code",
      "metadata": {
        "id": "BI5p6DtYP-mR"
      },
      "source": [
        "sns.pairplot(tips,\n",
        "             diag_kind = 'hist', # Tipo de diagrama de distribución.\n",
        "             hue='sex',\n",
        "             palette='coolwarm');"
      ],
      "execution_count": null,
      "outputs": []
    },
    {
      "cell_type": "markdown",
      "metadata": {
        "id": "Im_-8wravdaW"
      },
      "source": [
        "### **3.4. Método `rugplot`**\n",
        "---\n",
        "\n",
        "**`rugplot`** permite una representación gráfica de la distribución de los valores de una columna numérica. Consiste básicamente en la gráfica de los valores de la variable a lo largo de un solo eje, representando su distribución mediante densidades. Podría interpretarse como un tipo de diagrama **scatter** de una sola dimensión, es decir, sobre un solo eje."
      ]
    },
    {
      "cell_type": "code",
      "metadata": {
        "id": "N8O3lC0vvdaX"
      },
      "source": [
        "sns.rugplot(tips['total_bill']);"
      ],
      "execution_count": null,
      "outputs": []
    },
    {
      "cell_type": "markdown",
      "metadata": {
        "id": "P2QVSFYU0aZc"
      },
      "source": [
        "**`rugplot`** permite la personalización de la gráfica mediante uso de distintos parámetros. Por ejemplo, es posible definir el eje sobre el cual se desea diagramar, así como la elevación o altura del diagrama con los parámetros **`x`**, **`y`**  y **`height`**,  respectivamente."
      ]
    },
    {
      "cell_type": "code",
      "metadata": {
        "id": "RJB9xq670sNG"
      },
      "source": [
        "sns.rugplot(y = tips['total_bill'], height=0.1);"
      ],
      "execution_count": null,
      "outputs": []
    },
    {
      "cell_type": "markdown",
      "metadata": {
        "id": "l9gJPE9Ivdaa"
      },
      "source": [
        "### **3.5. Método `kdeplot`**\n",
        "---\n",
        "\n",
        "Los *KDE plots* son [gráficos de Estimación de Densidad del Kernel](http://en.wikipedia.org/wiki/Kernel_density_estimation#Practical_estimation_of_the_bandwidth). Estas representaciones de *KDE* reemplazan cada observación con una distribución Normal o *Gaussiana* centrada a su alrededor.\n",
        "\n",
        "La función **`kdeplot`** grafica básicamente un diagrama de densidad de probabilidad estimado de la variable. La densidad de las observaciones sobre un eje se representa como la altura sobre el otro eje.\n",
        "\n",
        "El siguiente diagrama usa **`kdeplot`** para graficar la distribución de los valores de la columna **`total_bill`**.\n"
      ]
    },
    {
      "cell_type": "code",
      "metadata": {
        "id": "UzJ7kV1yvdag"
      },
      "source": [
        "sns.kdeplot(tips['total_bill']);"
      ],
      "execution_count": null,
      "outputs": []
    },
    {
      "cell_type": "markdown",
      "metadata": {
        "id": "mF0lsRXD_eW2"
      },
      "source": [
        "Se pueden interpretar o conceptualizar mejor los diagramas generados por **`kdeplot`** y **`rugplot`** si los dibujamos sobre una misma gráfica. En la siguiente celda se visualizan los dos tipos de diagramas sobre una misma gráfica para las columnas **`'tip'`** y **`'total_bill'`**."
      ]
    },
    {
      "cell_type": "code",
      "metadata": {
        "id": "PfDAzAfZvdaj"
      },
      "source": [
        "sns.kdeplot(tips['tip']);  # diagrama tipo kdeplot para la columna propinas\n",
        "sns.rugplot(tips['tip']);  # diagrama tipo rugplot para la columna propinas"
      ],
      "execution_count": null,
      "outputs": []
    },
    {
      "cell_type": "code",
      "metadata": {
        "id": "aRmaEWeHP-nX"
      },
      "source": [
        "sns.kdeplot(tips['total_bill']);  # diagrama tipo kdeplot para la columna total factura\n",
        "sns.rugplot(tips['total_bill']);  # diagrama tipo rugplot para la columna total factura"
      ],
      "execution_count": null,
      "outputs": []
    },
    {
      "cell_type": "markdown",
      "metadata": {
        "id": "ncRauPJBOSlv"
      },
      "source": [
        "### **3.6. Método `ecdfplot`**\n",
        "---\n",
        "\n",
        "Otro diagrama común de distribución es el *ECDF plot*,  Del inglés *empirical cumulative distribution functions*. Los diagramas de distribución empírica acumulada representan la proporción de valor **por debajo** de una observación determinada, sin recurrir al *binning* como en los histogramas.\n",
        "\n",
        "Por ejemplo, al observar los valores acumulados del valor de la factura obtenemos:"
      ]
    },
    {
      "cell_type": "code",
      "metadata": {
        "id": "WZS2PwSLO7ve"
      },
      "source": [
        "sns.ecdfplot(data = tips, x = 'total_bill');"
      ],
      "execution_count": null,
      "outputs": []
    },
    {
      "cell_type": "markdown",
      "metadata": {
        "id": "USwkmMgBPPs6"
      },
      "source": [
        "También es posible generar nuevas codificaciones de color a partir del argumento **`hue`**. Además, se puede usar el conteo absoluto (**`'count'`**) en vez de la proporción (**`'proportion'`**) definiendo estas cadenas en el argumento **`stat`**."
      ]
    },
    {
      "cell_type": "code",
      "metadata": {
        "id": "bnOOksVRPgb0"
      },
      "source": [
        "sns.ecdfplot(data = tips, x = 'total_bill', hue = 'day', stat = 'count');"
      ],
      "execution_count": null,
      "outputs": []
    },
    {
      "cell_type": "markdown",
      "metadata": {
        "id": "YVDcDgLrAJN8"
      },
      "source": [
        "### **3.7. Método `displot`**\n",
        "---\n",
        "\n",
        "Finalmente, *Seaborn* dispone de un método general para gráficos de distribución. Este es el método **`displot`** que permite generalizar los  gráficos de distribución de una variable (**`histplot`**, **`kdeplot`** y **`ecdfplot`**), además de habilitar la codificación por filas y columnas."
      ]
    },
    {
      "cell_type": "code",
      "metadata": {
        "id": "IbT8HsO0QSj6"
      },
      "source": [
        "sns.displot(data=tips, x=\"tip\", kind=\"kde\", hue = 'sex');"
      ],
      "execution_count": null,
      "outputs": []
    },
    {
      "cell_type": "markdown",
      "metadata": {
        "id": "z9Sd9LN2Qnd_"
      },
      "source": [
        "En el caso de los histogramas y los diagramas *KDE* es posible generar diagramas de distribución bivariados al definir por aparte la columna en el eje **`x`** y en el eje **`y`**.\n",
        "\n",
        "Otro argumento valioso es el argumento **`col_wrap`** (y su equivalente para filas **`row_wrap`**), que permite definir un límite de columnas de gráficos por fila."
      ]
    },
    {
      "cell_type": "code",
      "metadata": {
        "id": "cjEEUpPlQ0Bc"
      },
      "source": [
        "sns.displot(data=tips, x=\"tip\", y = 'total_bill',\n",
        "            kind=\"hist\",\n",
        "            col = 'day',\n",
        "            col_wrap = 2,\n",
        "            hue = 'sex');"
      ],
      "execution_count": null,
      "outputs": []
    },
    {
      "cell_type": "markdown",
      "metadata": {
        "collapsed": true,
        "id": "XN70t4yCCBSP"
      },
      "source": [
        "## **4. Visualizaciones de datos categóricos**\n",
        "---\n",
        "\n",
        "A continuación veremos las funciones especiales para la representar la distribución de datos categóricos, entendiendo esto como la distribución de los datos respecto a columnas no numéricas, pero con valores que clasifican los datos por categorías; por ejemplo por sexo, nacionalidad, profesión, así como su relación con respecto a otras columnas numéricas o también categóricas.\n",
        "\n",
        "Detallaremos el uso de las siguientes funciones:\n",
        "\n",
        "* **`barplot`**\n",
        "* **`countplot`**\n",
        "* **`boxplot`**\n",
        "* **`violinplot`**\n",
        "* **`stripplot`**\n",
        "* **`swarmplot`**\n",
        "* **`catplot`**\n"
      ]
    },
    {
      "cell_type": "markdown",
      "metadata": {
        "id": "4r0XxEBruLGm"
      },
      "source": [
        "### **4.1. Métodos `barplot` y `countplot`**\n",
        "---\n",
        "\n",
        "Estas gráficas son muy similares. Permiten obtener datos agregados de una variable categórica y representar el resultado gráficamente.  "
      ]
    },
    {
      "cell_type": "markdown",
      "metadata": {
        "id": "KeRw7-oUCBSn"
      },
      "source": [
        "**`barplot`**: Es un gráfico que permite consolidar, por categoría, los valores de cierta columna numérica basándose en alguna función de agregación; por defecto, la media aritmética.\n",
        "\n",
        "Por ejemplo, para el *DataFrame* **`tips`** podríamos estar interesados en conocer cuál es el promedio por sexo, del valor total de factura cancelado. Para ello usamos la función **`barplot`**, en donde se especifica la categoría por la cual se consolidará el resultado (**`x ='sex'`**), el dato o columna que queremos consolidar (**`y ='total_bill'`**), y finalmente, el *DataFrame* del cual se obtendrán los datos (**`data = tips`**):"
      ]
    },
    {
      "cell_type": "code",
      "metadata": {
        "scrolled": true,
        "id": "lGqx2rCiCBSs"
      },
      "source": [
        "# Por defecto presenta barras con el intervalo de confianza al 95% para el cálculo de la medida de tendencia central\n",
        "sns.barplot(x='sex',\n",
        "            y='total_bill',\n",
        "            data=tips);"
      ],
      "execution_count": null,
      "outputs": []
    },
    {
      "cell_type": "code",
      "metadata": {
        "id": "X-aE9c3MB073"
      },
      "source": [
        "# Para no mostrar la barra del intervalo de confianza, se puede usar el argumento \"ci = None\"\n",
        "sns.barplot(x='sex',\n",
        "            y='total_bill',\n",
        "            data=tips,\n",
        "            errorbar=None);"
      ],
      "execution_count": null,
      "outputs": []
    },
    {
      "cell_type": "markdown",
      "metadata": {
        "id": "vxYTpibXCBSy"
      },
      "source": [
        "Es posible cambiar la función de agregación, por una función propia u otra predefinida que convierta un vector a un escalar. Por ejemplo, la desviación estándar. Esto se realiza definiendo el parámetro **`estimator`** en el llamado a la función:"
      ]
    },
    {
      "cell_type": "code",
      "metadata": {
        "id": "U7NHhuoXCBS0"
      },
      "source": [
        "sns.barplot(x='sex',\n",
        "            y='total_bill',\n",
        "            data=tips,\n",
        "            estimator=np.std);"
      ],
      "execution_count": null,
      "outputs": []
    },
    {
      "cell_type": "markdown",
      "metadata": {
        "id": "ijaJZz6dCBS-"
      },
      "source": [
        "**`countplot`**: Es muy similar a **`barplot`**, excepto que en este caso el estimador está contando explícitamente el número de ocurrencias. Por esto, sólo pasamos como parámetro el valor de `x` que corresponde a la categoría que se diagramará. El resultado es una gráfica con el consolidado de ocurrencias por cada categoría, que en el caso del ejemplo corresponde a cada día **`'day'`**."
      ]
    },
    {
      "cell_type": "code",
      "metadata": {
        "id": "HMQVzWxgCBTF"
      },
      "source": [
        "sns.countplot(x='day', data=tips);"
      ],
      "execution_count": null,
      "outputs": []
    },
    {
      "cell_type": "markdown",
      "metadata": {
        "id": "crPph2NHCBTL"
      },
      "source": [
        "### **4.2. Métodos `boxplot` y `violinplot`**\n",
        "---\n",
        "\n",
        "Los diagramas de caja **`boxplot`** y los diagramas de violín **`violinplot`** se utilizan para conocer la distribución de datos numéricos. Si se requiere, es posible diferenciar las distribuciones por categorías."
      ]
    },
    {
      "cell_type": "markdown",
      "metadata": {
        "id": "RekRp5MrK0L-"
      },
      "source": [
        "**`boxplot`**: Un diagrama de caja muestra la distribución de datos cuantitativos de una manera que facilita las comparaciones entre variables o entre niveles de una variable para distintas categorías. El recuadro muestra los cuartiles del conjunto de datos, mientras que los bigotes se extienden para mostrar el resto de la distribución, excepto los puntos que se determinan como valores atípicos (*outliers*), utilizando un método que es una función del rango intercuartílico.\n",
        "\n",
        "En el siguiente ejemplo se muestra la distribución correspondiente para la columna **`total_bill`**, clasificándola por día de la semana **`'day'`**, donde cada caja representa la distribución correspondiente en cada día.\n"
      ]
    },
    {
      "cell_type": "code",
      "metadata": {
        "id": "ZxgrQcQpCBTO"
      },
      "source": [
        "# Se pone el nombre ax para afinar la figura con instrucciones de matplotlib posteriormente\n",
        "ax = sns.boxplot(x=\"day\",\n",
        "                 y=\"total_bill\",\n",
        "                 data=tips,\n",
        "                 palette='rainbow')\n",
        "\n",
        "ax.set_title(\"Ejemplo BoxPlot\")\n",
        "ax.set_xlabel(\"Día de la semana\")\n",
        "ax.set_ylabel(\"Total de la cuenta\");\n"
      ],
      "execution_count": null,
      "outputs": []
    },
    {
      "cell_type": "markdown",
      "metadata": {
        "id": "yZRpVGmkDtwQ"
      },
      "source": [
        "Incluso, es posible segmentar más las distribuciones dentro de una categoría. Esto permite mostrar subcategorías originadas de agrupar los datos de acuerdo a los valores contenidos en otra columna categórica adicional.\n",
        "\n",
        "Por ejemplo, podríamos querer visualizar la distribución de los valores de la columna **`total_bill`** para cada día, pero mostrando separadamente la distribución que corresponde a grupos según el género **`'sex'`**. Para ello, se hace uso del parámetro **`hue`** con el que se especifica la subcategoría:"
      ]
    },
    {
      "cell_type": "code",
      "metadata": {
        "id": "FiprWOSzDue0"
      },
      "source": [
        "sns.boxplot(x='day', y='total_bill', data=tips, hue='sex');"
      ],
      "execution_count": null,
      "outputs": []
    },
    {
      "cell_type": "markdown",
      "metadata": {
        "id": "kyyH2Ho1G8tn"
      },
      "source": [
        "Si en el llamado a la función no se especifican los parámetros **`x`** y **`y`**, se mostrará la distribución general (sin usar categorías), de cada una de las columnas con valores cuantitativos contenidas en el *DataFrame* ingresado como parámetro:"
      ]
    },
    {
      "cell_type": "code",
      "metadata": {
        "id": "zHFabePrCBTX"
      },
      "source": [
        "sns.boxplot(data=tips);"
      ],
      "execution_count": null,
      "outputs": []
    },
    {
      "cell_type": "markdown",
      "metadata": {
        "id": "6OavElRIxwEy"
      },
      "source": [
        "Note que el resultado no es muy adecuado porque las 3 variables tienen valores en escalas distintas. En este caso, sería preferible generar diagramas de cajas independientes por cada variable."
      ]
    },
    {
      "cell_type": "markdown",
      "metadata": {
        "id": "-vvrbFjjIGE-"
      },
      "source": [
        "Al igual que antes, también es posible personalizar la gráfica con el uso de algunos otros parámetros como **`palette`**, o **`orient`**. En el siguiente ejemplo usamos el parámetro **`orient`** para cambiar la orientación de las gráficas a un modo horizontal:"
      ]
    },
    {
      "cell_type": "code",
      "metadata": {
        "id": "pwG_ZeBTIVdy"
      },
      "source": [
        "sns.boxplot(data=tips, orient='h', palette='pastel');"
      ],
      "execution_count": null,
      "outputs": []
    },
    {
      "cell_type": "markdown",
      "metadata": {
        "id": "HZwZUZw7CBTm"
      },
      "source": [
        "**`violinplot`**: Un gráfico de violín juega un papel similar al diagrama de cajas. Muestra la distribución de datos cuantitativos a través de varios niveles de una (o más) variables categóricas. Así, permite que esas distribuciones se puedan comparar entre sí. A diferencia de un diagrama de caja, en el que todos los componentes de la gráfica corresponden a puntos de datos reales, la gráfica del violín presenta una **estimación de la densidad de kernel** de la distribución de probabilidad subyacente **(kde)**."
      ]
    },
    {
      "cell_type": "code",
      "metadata": {
        "id": "hcPi0igvCBTo"
      },
      "source": [
        "sns.violinplot(x=\"day\", y=\"total_bill\", data=tips, palette='rainbow');"
      ],
      "execution_count": null,
      "outputs": []
    },
    {
      "cell_type": "markdown",
      "metadata": {
        "id": "9nfRRpqFJdBj"
      },
      "source": [
        "**`violinplot`** permite además el uso del parámetro **`hue`** para diagramar una subcategorización de acuerdo a valores de otra columna categórica:"
      ]
    },
    {
      "cell_type": "code",
      "metadata": {
        "id": "cWa6A0nLCBTw"
      },
      "source": [
        "sns.violinplot(x=\"day\", y=\"total_bill\", data=tips, hue='sex');"
      ],
      "execution_count": null,
      "outputs": []
    },
    {
      "cell_type": "markdown",
      "metadata": {
        "id": "sAYNavucKOYA"
      },
      "source": [
        "Además, para evitar presentar información repetida, **`violinplot`** permite mostrar la distribución de cada subcategoría dividiendo cada distribución en dos partes, donde cada subcategoría se presenta en una mitad de la distribución. Para ello se usa el parámetro **`split`**, asignándole el valor **`True`**."
      ]
    },
    {
      "cell_type": "code",
      "metadata": {
        "id": "AQpp1WyECBT3"
      },
      "source": [
        "sns.violinplot(x=\"day\",\n",
        "               y=\"tip\",\n",
        "               data=tips,\n",
        "               hue='sex',\n",
        "               split=True);"
      ],
      "execution_count": null,
      "outputs": []
    },
    {
      "cell_type": "markdown",
      "metadata": {
        "id": "yamPovpcCBUA"
      },
      "source": [
        "### **4.3. Métodos `stripplot` y `swarmplot`**\n",
        "---\n",
        "Las funciones **`stripplot`** y **`swarmplot`** permiten generar una visualización de la distribución de una variable, en un estilo similar al de los diagramas de dispersión, permitiendo codificar la separación entre categorías.\n",
        "\n"
      ]
    },
    {
      "cell_type": "markdown",
      "metadata": {
        "id": "qBzfSbirKtdy"
      },
      "source": [
        "**`stripplot`**: El **`stripplot`** dibuja un diagrama de dispersión correspondiente a una variable numérica, clasificándola de acuerdo a una variable categórica."
      ]
    },
    {
      "cell_type": "code",
      "metadata": {
        "id": "xuicp8qKCBUB"
      },
      "source": [
        "sns.stripplot(x=\"day\", y=\"total_bill\", data=tips);"
      ],
      "execution_count": null,
      "outputs": []
    },
    {
      "cell_type": "markdown",
      "metadata": {
        "id": "ziydAtGjMqyG"
      },
      "source": [
        "Si quisiéramos ver la distribución en una sola línea de puntos, es posible usar el parámetro **`jitter`** con el valor **`False`**:"
      ]
    },
    {
      "cell_type": "code",
      "metadata": {
        "id": "8YHI2xgKCBUG"
      },
      "source": [
        "sns.stripplot(x=\"day\", y=\"total_bill\", data=tips, jitter=False);"
      ],
      "execution_count": null,
      "outputs": []
    },
    {
      "cell_type": "markdown",
      "metadata": {
        "id": "aU3LvTUVNRcF"
      },
      "source": [
        "También, es posible usar el parámetro **`hue`** para realizar una subclasificación de acuerdo a valores de otra columna categórica:"
      ]
    },
    {
      "cell_type": "code",
      "metadata": {
        "id": "QkhnnNKyCBUN"
      },
      "source": [
        "sns.stripplot(x=\"day\", y=\"total_bill\", data=tips, hue='sex', palette='Set1');"
      ],
      "execution_count": null,
      "outputs": []
    },
    {
      "cell_type": "markdown",
      "metadata": {
        "id": "Zbxl8gNXNr2x"
      },
      "source": [
        "El argumento **`dodge`**, usado para separar las categorías, también funciona con esta función y permite una visualización más clara:"
      ]
    },
    {
      "cell_type": "code",
      "metadata": {
        "id": "YazD5s_oCBUU"
      },
      "source": [
        "sns.stripplot(x=\"day\", y=\"total_bill\", data=tips, hue='sex', palette='Set1', dodge=True);"
      ],
      "execution_count": null,
      "outputs": []
    },
    {
      "cell_type": "markdown",
      "metadata": {
        "id": "qUeQFyODCBUc"
      },
      "source": [
        "**`swarmplot`**: **`swarmplot`** es similar a **`stripplot`**, pero los puntos se ajustan (sólo a lo largo del eje categórico) para que no se superpongan entre sí. Esto proporciona una mejor representación de la distribución de los valores. Sin embargo, esta representación no escala bien para un gran número de observaciones (tanto en términos de la capacidad de mostrar todos los puntos, como en términos del cálculo necesario para organizarlos). Por lo tanto, no es recomendable su uso cuando se tiene una gran cantidad de datos."
      ]
    },
    {
      "cell_type": "code",
      "metadata": {
        "id": "diwwUc5wCBUi"
      },
      "source": [
        "sns.swarmplot(x=\"day\", y=\"total_bill\", data=tips);"
      ],
      "execution_count": null,
      "outputs": []
    },
    {
      "cell_type": "markdown",
      "metadata": {
        "id": "RgffXA28Qcku"
      },
      "source": [
        "Finalmente, **`swarmplot`** también admite los parámetros **`hue`** y **`dodge`** para subclasificar de acuerdo a otras variables:"
      ]
    },
    {
      "cell_type": "code",
      "metadata": {
        "id": "IHbLwwluCBUq"
      },
      "source": [
        "sns.swarmplot(x =\"day\",\n",
        "              y =\"total_bill\",\n",
        "              hue = 'sex',\n",
        "              data = tips,\n",
        "              palette =\"Set1\",\n",
        "              dodge = True);"
      ],
      "execution_count": null,
      "outputs": []
    },
    {
      "cell_type": "markdown",
      "metadata": {
        "id": "nizu9oocwy2p"
      },
      "source": [
        "En algunos casos se puede generar un *warning* o alerta cuando se tienen demasiados puntos para representar. En este caso es posible disminuir el tamaño de cada punto para permitir mostrar más. Esto se logra con el argumento **`size`**, que representa el radio de cada punto, con 5 unidades por defecto."
      ]
    },
    {
      "cell_type": "code",
      "metadata": {
        "id": "H1Uy8Jd5xPqY"
      },
      "source": [
        "# Esta visualización no tiene alertas y representa todos los puntos del dataset.\n",
        "sns.swarmplot(x =\"day\",\n",
        "              y =\"total_bill\",\n",
        "              hue = 'sex',\n",
        "              data = tips,\n",
        "              palette =\"Set1\",\n",
        "              size = 4, # Disminuimos el tamaño de los puntos\n",
        "              dodge = True);"
      ],
      "execution_count": null,
      "outputs": []
    },
    {
      "cell_type": "markdown",
      "metadata": {
        "id": "eI3LMEvsCBUx"
      },
      "source": [
        "Es posible sobreponer dos tipos de diagramas diferentes sobre una misma gráfica para tener mayor información y mejorar la interpretación de los datos. Esto se logra llamando seguidamente dos funciones de visualización con la misma definición de datos a presentar, como se ilustra en el siguiente ejemplo en donde se sobreponen un **`swarmplot`** y un **`violinplot`**:"
      ]
    },
    {
      "cell_type": "code",
      "metadata": {
        "id": "iJsHjnCZCBUz"
      },
      "source": [
        "sns.violinplot(x=\"tip\", y=\"day\", data=tips,palette='rainbow')\n",
        "sns.swarmplot(x=\"tip\", y=\"day\", data=tips, color='black', size=3);"
      ],
      "execution_count": null,
      "outputs": []
    },
    {
      "cell_type": "markdown",
      "metadata": {
        "id": "-ZeFczczCBU8"
      },
      "source": [
        "### **4.4. Método `catplot`**\n",
        "---\n",
        "\n",
        "El método **`catplot`** (anteriormente conocido como *factorplot*) es un método genérico con el que se puede graficar cualquiera de los estilos previamente vistos para variables categóricas. Los parámetros usados son básicamente los mismos, y adicionalmente se define el parámetro **`kind`** para especificar el estilo de diagrama que se desea, este puede tomar los valores: **`'bar'`**, **`'swarm'`**, **`'violin'`**, etc."
      ]
    },
    {
      "cell_type": "code",
      "metadata": {
        "id": "q-X2l1CECBU-"
      },
      "source": [
        "sns.catplot(x='time',y='total_bill', data=tips,\n",
        "            kind='bar');"
      ],
      "execution_count": null,
      "outputs": []
    },
    {
      "cell_type": "code",
      "metadata": {
        "id": "2sEdEfS9CBVD"
      },
      "source": [
        "sns.catplot(x='time',y='total_bill',data=tips,kind='swarm');"
      ],
      "execution_count": null,
      "outputs": []
    },
    {
      "cell_type": "code",
      "metadata": {
        "id": "ByYKudm7TVtM"
      },
      "source": [
        "sns.catplot(x='time',y='total_bill',data=tips,kind='violin');"
      ],
      "execution_count": null,
      "outputs": []
    },
    {
      "cell_type": "markdown",
      "metadata": {
        "id": "CPaotqM-bL9I"
      },
      "source": [
        "Además de proveer la funcionalidad genérica para cada tipo de visualización categórica, es posible utilizar argumentos para organizar en cuadriculas subgráficas, tal como se realizó previamente con los métodos **`relplot`** y **`displot`**."
      ]
    },
    {
      "cell_type": "code",
      "metadata": {
        "id": "31ZSvnqxa-_b"
      },
      "source": [
        "sns.catplot(x='sex', y='total_bill',data=tips, kind='box',\n",
        "            col = 'day', col_wrap = 2);"
      ],
      "execution_count": null,
      "outputs": []
    },
    {
      "cell_type": "markdown",
      "metadata": {
        "collapsed": true,
        "id": "o87OzqBqUJ4Y"
      },
      "source": [
        "## **5. Gráficos matriciales**\n",
        "---\n",
        "\n",
        "Los diagramas de matriz le permiten graficar los datos como matrices codificadas por colores y también se pueden usar para indicar grupos (*clusters*) dentro de los datos.\n",
        "\n",
        "Comencemos explorando el **`heatmap`** y el **`clustermap`** de *Seaborn*."
      ]
    },
    {
      "cell_type": "markdown",
      "metadata": {
        "id": "v-bFiiQ_UJ5A"
      },
      "source": [
        "#### **5.1. Método `heatmap`**\n",
        "---\n",
        "\n",
        "Para que un mapa de calor funcione correctamente, sus datos ya deberían estar en forma de matriz. La función de **`heatmap`**  colorea los mapas de calor por usted. Por ejemplo:\n"
      ]
    },
    {
      "cell_type": "code",
      "metadata": {
        "id": "yvo8T7qCUJ5D"
      },
      "source": [
        "tips.head()"
      ],
      "execution_count": null,
      "outputs": []
    },
    {
      "cell_type": "markdown",
      "metadata": {
        "id": "nwswmIROtw_o"
      },
      "source": [
        "Recordemos que la función **`corr`** de *pandas* retorna una matriz con los valores de correlación entre pares de columnas numéricas. De esta manera, los indices horizontales y verticales del *DataFrame* retornado son los nombres de las columnas con valores numéricos de la matriz original, los valores de la matriz retornada son los coeficientes de correlación entre los correspondientes pares de índices que se interceptan:"
      ]
    },
    {
      "cell_type": "code",
      "metadata": {
        "id": "by_OLihHUJ5M"
      },
      "source": [
        "tips.corr()  #Retorna la matriz de correlaciones para pares de columnas con valor numérico."
      ],
      "execution_count": null,
      "outputs": []
    },
    {
      "cell_type": "markdown",
      "metadata": {
        "id": "1QXpjY2ex2Nx"
      },
      "source": [
        "Ahora, usamos la función **`heatmap`** para generar el mapa de calor de la matriz de correlación retornada por **`corr`**."
      ]
    },
    {
      "cell_type": "code",
      "metadata": {
        "id": "brx344yBUJ5V"
      },
      "source": [
        "sns.heatmap(tips.corr(numeric_only=True));"
      ],
      "execution_count": null,
      "outputs": []
    },
    {
      "cell_type": "markdown",
      "metadata": {
        "id": "jByN7GUnykoM"
      },
      "source": [
        "Para este caso, el diagrama permite identificar mediante tonos de colores los coeficientes de correlación. Como es de suponer, la diagonal representa la intersección de una columna consigo misma por lo que su valor de correlación es igual a $1.0$.\n",
        "\n",
        "Es posible incluir en la matriz el valor correspondiente a los coeficientes de correlación ajustando el parámetro **`annot`** en **`True`**:"
      ]
    },
    {
      "cell_type": "code",
      "metadata": {
        "scrolled": true,
        "id": "W-tfoTuRUJ5f"
      },
      "source": [
        "sns.heatmap(tips.corr(numeric_only=True),\n",
        "            annot=True,       # Se muestran los textos correspondientes.\n",
        "            fmt=r'.2f',       # Formato de la cadena de texto asociada. (2 dígitos decimales)\n",
        "            cmap='coolwarm'); # Colormap usado en la visualización."
      ],
      "execution_count": null,
      "outputs": []
    },
    {
      "cell_type": "markdown",
      "metadata": {
        "id": "-K1Xmob10Zg8"
      },
      "source": [
        "Se pueden usar distintas opciones para personalizar el estilo de la gráfica. Por ejemplo, es posible poner líneas de separación definiendo su color y grosor:"
      ]
    },
    {
      "cell_type": "code",
      "metadata": {
        "id": "WiybR2Px0pdB"
      },
      "source": [
        "sns.heatmap(tips.corr(numeric_only=True), annot=True,\n",
        "            linewidths=5, linecolor='white',  # Grosor y color de la separación.\n",
        "            cmap='coolwarm', vmin=0);  # vmin representa el valor mínimo del colormap, para tener el rango completo entre 0 y 1."
      ],
      "execution_count": null,
      "outputs": []
    },
    {
      "cell_type": "markdown",
      "metadata": {
        "id": "NvcW7C-jrTuf"
      },
      "source": [
        "Para los ejemplos siguientes usaremos un dataset *incluido* con *Seaborn* que corresponde a información de vuelos. Se registra el año, el mes y la cantidad de pasajeros en vuelos en Estados Unidos a mediados del siglo pasado."
      ]
    },
    {
      "cell_type": "code",
      "metadata": {
        "id": "lKKVjitDUJ4n"
      },
      "source": [
        "flights = sns.load_dataset('flights')\n",
        "flights.head(10)"
      ],
      "execution_count": null,
      "outputs": []
    },
    {
      "cell_type": "code",
      "metadata": {
        "id": "GDoedujTwbvg"
      },
      "source": [
        "flights.info()"
      ],
      "execution_count": null,
      "outputs": []
    },
    {
      "cell_type": "markdown",
      "metadata": {
        "id": "hxpMx-f62cAO"
      },
      "source": [
        "Para ver un *heatmap* con estos datos de vuelos necesitamos construir la matriz primero. Para esto, se puede usar la función **`pivot_table`**, así definimos los valores que se quieren relacionar. En este ejemplo se define que en las columnas se referirán los años y en los índices horizontales los meses; los valores de la matriz serán la cantidad de pasajeros para cada par **`mes-año`** respectivamente:"
      ]
    },
    {
      "cell_type": "code",
      "metadata": {
        "id": "9d2_ZKZnUJ50"
      },
      "source": [
        "pvflights = flights.pivot_table(values='passengers',\n",
        "                                index='month',\n",
        "                                columns='year',\n",
        "                                aggfunc='sum')\n",
        "pvflights"
      ],
      "execution_count": null,
      "outputs": []
    },
    {
      "cell_type": "markdown",
      "metadata": {
        "id": "ulOzGa1ZAZXL"
      },
      "source": [
        "Ahora se usa un diagrama de calor de la matriz resultado. Se puede concluir que Julio y Agosto son los meses con un mayor número de pasajeros a lo largo de los años. Recordemos que estos meses son de verano en Norteamérica. Igualmente, se  muestra un aumento progresivo de pasajeros cada año, mostrando que el de mayor cantidad de pasajeros es el año 1960. Este tipo de conclusiones se pueden hallar con sólo ver la gráfica e interpretar las tonalidades del diagrama, lo que facilita el análisis de la información."
      ]
    },
    {
      "cell_type": "code",
      "metadata": {
        "id": "Tm1UWs4HUJ56"
      },
      "source": [
        "sns.heatmap(pvflights);"
      ],
      "execution_count": null,
      "outputs": []
    },
    {
      "cell_type": "markdown",
      "metadata": {
        "id": "UnAeLD_nBynP"
      },
      "source": [
        "Si se requiere, es posible personalizar la gráfica con líneas divisorias y usando diferentes tonalidades de colores con el parámetro **`cmap`** como se ve a continuación:"
      ]
    },
    {
      "cell_type": "code",
      "metadata": {
        "id": "tfSKEkLVUJ6D"
      },
      "source": [
        "sns.heatmap(pvflights,\n",
        "            cmap='viridis',\n",
        "            linecolor='white',\n",
        "            linewidths=1);"
      ],
      "execution_count": null,
      "outputs": []
    },
    {
      "cell_type": "markdown",
      "metadata": {
        "id": "qCBMk_BQUJ6J"
      },
      "source": [
        "### **5.2. Método `clustermap`**\n",
        "---\n",
        "\n",
        "El **`clustermap`** usa agrupamiento jerárquico (usando [dendogramas](https://es.wikipedia.org/wiki/Dendrograma)) para generar una versión del mapa de calor donde se pueda distinguir entre grupos. Por ejemplo:"
      ]
    },
    {
      "cell_type": "code",
      "metadata": {
        "id": "HxRc56jAUJ6K"
      },
      "source": [
        "sns.clustermap(pvflights);"
      ],
      "execution_count": null,
      "outputs": []
    },
    {
      "cell_type": "markdown",
      "metadata": {
        "id": "oY03N2AAUJ6Q"
      },
      "source": [
        "Observe cómo los años y meses ya no están en orden, en su lugar se agrupan por similitud en el valor (recuento de pasajeros). Eso significa que podemos comenzar a inferir cosas de esta trama, como por ejemplo que agosto y julio siendo similares, se encuentran agrupados (tiene sentido, ya que ambos son meses de viaje de verano). También, observe que en un segundo nivel de agrupamiento, los meses de julio y agosto, se agrupan nuevamente con los meses de junio y septiembre, que es cuando inicia y termina el verano.\n",
        "\n",
        "Un comportamiento similar se puede observar para los meses de primavera/otoño e invierno. En el caso del invierno, los meses de enero, febrero y noviembre se agrupan claramente. Sin embargo, no aparece el mes de diciembre en esta agrupación. En este caso, si bien es un mes de invierno, tiene una tendencia diferente, quizás por tratarse del mes cuando se celebra la navidad."
      ]
    },
    {
      "cell_type": "markdown",
      "metadata": {
        "id": "15UcptgbP_oX"
      },
      "source": [
        "Por otra parte, si queremos hacer el análisis aún más detallado del comportamiento de las tendencias por meses, debemos tener en cuenta que no sería recomendable comparar los datos directamente. Cada año ha ido aumentando el total de viajeros y por este motivo no estamos haciendo una comparación justa. En este caso, se pueden añadir más opciones para entender y preparar mejor los datos, por ejemplo, mediante la normalización de los datos por año, usando el parámetro **`'standard_scale'`** y asignándole el valor $1$:"
      ]
    },
    {
      "cell_type": "code",
      "metadata": {
        "id": "ALb3wMq-UJ6R"
      },
      "source": [
        "vuelos = sns.clustermap(pvflights, cmap='coolwarm', standard_scale=1);"
      ],
      "execution_count": null,
      "outputs": []
    },
    {
      "cell_type": "markdown",
      "metadata": {
        "id": "Q7MDgCJnPiqr"
      },
      "source": [
        "Este resultado permite apreciar los análisis hechos anteriormente con mayor claridad.\n",
        "\n",
        "Por último, el resultado de la visualización se puede asignar a una variable, como en el caso anterior en donde se asignó a la variable **`vuelos`**, y podemos exportar a un archivo el diagrama mediante la función **`savefig`**:"
      ]
    },
    {
      "cell_type": "code",
      "metadata": {
        "id": "5Gruw8XiUJ6c"
      },
      "source": [
        "# Descargue o encuentre el archivo generado para ver el resultado.\n",
        "\n",
        "vuelos.savefig(\"vuelos.pdf\");"
      ],
      "execution_count": null,
      "outputs": []
    },
    {
      "cell_type": "markdown",
      "metadata": {
        "collapsed": true,
        "id": "lDutC2RVUoNx"
      },
      "source": [
        "## **6. Cuadrículas**\n",
        "---\n",
        "\n",
        "Las cuadrículas o *grids* son tipos generales de gráficos que permiten mapear diagramas en filas y columnas de una cuadrícula. Esto significa que se dibujarán distintas gráficas para cada par de variables correspondientes dentro de la cuadrícula. Al igual que la función **`pairplot`**, discutida anteriormente, con la que se grafican los datos para cada par de columnas de valores numéricos.\n",
        "\n",
        "Para los ejemplos siguientes obtendremos un *DataFrame* de los datos incorporados en el módulo *Seaborn*. En este caso, retomaremos el *dataset* ***iris***, que contiene diferentes medidas correspondientes a una muestra de 3 especies de flores:\n"
      ]
    },
    {
      "cell_type": "code",
      "metadata": {
        "id": "1FVTPtxuHK8g"
      },
      "source": [
        "iris = sns.load_dataset('iris')"
      ],
      "execution_count": null,
      "outputs": []
    },
    {
      "cell_type": "code",
      "metadata": {
        "id": "KQKZ71SBUoOI"
      },
      "source": [
        "iris.head()"
      ],
      "execution_count": null,
      "outputs": []
    },
    {
      "cell_type": "markdown",
      "metadata": {
        "id": "JvfaJz-VM_nP"
      },
      "source": [
        "Podemos visualizar rápidamente el *dataset* mediante la función **`pairplot`** que vimos al principio de este material, y en la tarea de la Unidad 3:\n",
        "\n",
        "> **Nota**: Las visualizaciones realizadas por medio de cuadrículas son más costosas computacionalmente. La ejecución de las funciones de esta sección puede tardar bastante más que las vistas hasta el momento."
      ]
    },
    {
      "cell_type": "code",
      "metadata": {
        "id": "gOgtXneeM_nP"
      },
      "source": [
        "sns.pairplot(data=iris);"
      ],
      "execution_count": null,
      "outputs": []
    },
    {
      "cell_type": "markdown",
      "metadata": {
        "id": "CeTZuVCbeUy4"
      },
      "source": [
        "También podemos distinguir una variable categórica por medio del tono con el argumento **`hue`**. Realicemos esto con la especie de la flor observada (**`species`**)."
      ]
    },
    {
      "cell_type": "code",
      "metadata": {
        "id": "Q-wxP2TZM_nS"
      },
      "source": [
        "# Especies distintas del dataset\n",
        "iris['species'].unique()"
      ],
      "execution_count": null,
      "outputs": []
    },
    {
      "cell_type": "code",
      "metadata": {
        "id": "5LJ4eg0vM_nU"
      },
      "source": [
        "sns.pairplot(iris,\n",
        "             hue='species',\n",
        "             palette='rainbow');"
      ],
      "execution_count": null,
      "outputs": []
    },
    {
      "cell_type": "markdown",
      "metadata": {
        "id": "z4yAhLoDM_nW"
      },
      "source": [
        "Los mecanismos que veremos en este *Notebook* permiten personalizar visualizaciones compuestas de este tipo. Estos métodos son: **`PairGrid`** y **`FacetGrid`**."
      ]
    },
    {
      "cell_type": "markdown",
      "metadata": {
        "id": "wFWrj4aLUoOu"
      },
      "source": [
        "### **6.2. Método `PairGrid`**\n",
        "---\n",
        "\n",
        "**`PairGrid`** genera una cuadrícula de *subplots* para presentar gráficos por cada pareja de variables del *dataset*. Inicialmente, las gráficas generadas no contienen ningún tipo de diagrama, y simplemente están en blanco, disponibles para dibujar sobre ellas el tipo de diagrama que se desee. Esto permite un amplio control y personalización sobre estas gráficas.\n",
        "\n",
        "Usamos **`PairGrid`** enviándole como argumento el *dataset* que se desea diagramar. Esto genera la siguiente cuadrícula, en donde para cada eje se encuentran representadas las columnas numéricas del *DataFrame*, y las gráficas en blanco por cada pareja."
      ]
    },
    {
      "cell_type": "code",
      "metadata": {
        "id": "vLOUpi1nUoOx"
      },
      "source": [
        "# Solo la cuadrícula\n",
        "sns.PairGrid(iris);"
      ],
      "execution_count": null,
      "outputs": []
    },
    {
      "cell_type": "markdown",
      "metadata": {
        "id": "yhrH9nl2b4vV"
      },
      "source": [
        "Para manipular la cuadrícula,  la asignamos a una variable **`g`** mediante la cual se podrán manipular las gráficas de la cuadrícula. Ahora, podremos usar **`g`** como la referencia a la cuadrícula para mapear las gráficas. En el siguiente ejemplo, se mapean las gráficas con diagramas de tipo **`scatter`**."
      ]
    },
    {
      "cell_type": "code",
      "metadata": {
        "id": "_9ySIthxUoO5"
      },
      "source": [
        "# Se mapea el tipo de gráfico que queremos en las figuras.\n",
        "g = sns.PairGrid(iris);\n",
        "g.map(plt.scatter);"
      ],
      "execution_count": null,
      "outputs": []
    },
    {
      "cell_type": "markdown",
      "metadata": {
        "id": "y7VME8pkdJ_C"
      },
      "source": [
        "Mediante la referencia a la cuadrícula, podemos establecer distintos tipos de diagrama para cada gráfica. Por ejemplo, en el siguiente caso se mapea un diagrama de tipo **`hist`** para la diagonal principal, uno de tipo **`scatter`** para las gráficas superiores a esta diagonal, y uno de tipo **`kde`** para las gráficas inferiores. Para elegir la sección de la cuadricula a mapear se usan las siguientes funciones:\n",
        "\n",
        "* **`map_diag`**: Diagonal de la matriz.\n",
        "* **`map_upper`**: Sección superior a la diagonal.\n",
        "* **`map_lower`**: Sección inferior a la diagonal.\n"
      ]
    },
    {
      "cell_type": "code",
      "metadata": {
        "id": "bEafOMO7UoPD"
      },
      "source": [
        "g = sns.PairGrid(iris)\n",
        "g.map_diag(plt.hist);\n",
        "g.map_upper(plt.scatter);\n",
        "g.map_lower(sns.kdeplot);"
      ],
      "execution_count": null,
      "outputs": []
    },
    {
      "cell_type": "markdown",
      "metadata": {
        "id": "wQYKehJRfaIv"
      },
      "source": [
        "**`PairGrid`** puede recibir otros parámetros adicionales, que permiten personalizar las gráficas u obtener más información. Por ejemplo, podemos subclasificar los datos con el parámetro **`hue`** y también personalizar los marcadores para cada subclase con **`hue_kws`**. Otras opciones permiten por ejemplo usar distintos tipos de colores para los diagramas:"
      ]
    },
    {
      "cell_type": "code",
      "metadata": {
        "id": "3RWjkIR_fZsq"
      },
      "source": [
        "# Se clasifican los diagramas de acuerdo a la especie y se personalizan los marcadores.\n",
        "\n",
        "g = sns.PairGrid(iris, hue='species',\n",
        "                 hue_kws={\"marker\": [\"o\", \"s\", \".\"]})\n",
        "g.map_diag(plt.hist)\n",
        "g.map_upper(plt.scatter)\n",
        "g.map_lower(sns.kdeplot);"
      ],
      "execution_count": null,
      "outputs": []
    },
    {
      "cell_type": "markdown",
      "metadata": {
        "id": "EHAzcxVDUoPH"
      },
      "source": [
        "### **6.3. Método `FacetGrid`**\n",
        "---\n",
        "\n",
        "**`FacetGrid`** permite generar gráficos con base en la agrupación de estos por una o dos características en común, entendiéndose característica como la información en una columna categórica. Una vez definidas las agrupaciones se graficará el tipo de diagrama que se desea sobre la variable numérica que se quiera analizar."
      ]
    },
    {
      "cell_type": "markdown",
      "metadata": {
        "id": "iS9o5L48uGSS"
      },
      "source": [
        "Usaremos nuevamente el *DataFrame* **`tips`**."
      ]
    },
    {
      "cell_type": "code",
      "metadata": {
        "id": "KkNdMyvMUoPQ"
      },
      "source": [
        "tips.head()"
      ],
      "execution_count": null,
      "outputs": []
    },
    {
      "cell_type": "markdown",
      "metadata": {
        "id": "fxS5gMM_umPW"
      },
      "source": [
        "El llamado a **`FacetGrid`** se hace definiendo el *DataFrame* a usar y el par de variables o columnas por los cuales se agruparán los datos. Esto generará las gráficas en blanco sobre las cuales se diagramará. Para el caso del siguiente ejemplo se realizarán las agrupaciones con base en las variables **`smoker`** y **`time`**."
      ]
    },
    {
      "cell_type": "code",
      "metadata": {
        "id": "jJBA9tO2UoPY"
      },
      "source": [
        "# Solo la cuadrícula\n",
        "g = sns.FacetGrid(tips, col=\"time\", row=\"smoker\")"
      ],
      "execution_count": null,
      "outputs": []
    },
    {
      "cell_type": "markdown",
      "metadata": {
        "id": "WAgtX5YF2FLe"
      },
      "source": [
        "Ahora se mapea sobre las gráficas el estilo de diagrama para la variable cuantitativa a analizar. En este ejemplo se realiza un diagrama de tipo **`hist`** para la variable **`total_bill`**."
      ]
    },
    {
      "cell_type": "code",
      "metadata": {
        "id": "OzkoVGuAUoPe"
      },
      "source": [
        "g = sns.FacetGrid(tips, col=\"time\",  row=\"smoker\")\n",
        "g = g.map(plt.hist, \"total_bill\")"
      ],
      "execution_count": null,
      "outputs": []
    },
    {
      "cell_type": "markdown",
      "metadata": {
        "id": "lpwdpFmw2ljj"
      },
      "source": [
        "Como se ve en las gráficas, las agrupaciones se han realizado para fumadores y no fumadores para cada tiempo, respectivamente. Podría haberse realizado la agrupación por una sola variable, por ejemplo **`'smoker'`** y tendríamos el siguiente resultado:"
      ]
    },
    {
      "cell_type": "code",
      "metadata": {
        "id": "iO7km1E63MxY"
      },
      "source": [
        "g = sns.FacetGrid(tips, col=\"smoker\")\n",
        "g = g.map(plt.hist, \"total_bill\")"
      ],
      "execution_count": null,
      "outputs": []
    },
    {
      "cell_type": "markdown",
      "metadata": {
        "id": "SYzCNoXI47qc"
      },
      "source": [
        "Con **`FacetGrid`** es posible también definir una subclasificación con base en otra variable mediante el parámetro **`hue`**. Por ejemplo, vemos el uso de **`hue`** con el valor **`'sex'`**, de manera que en cada agrupación se hará una diferenciación por sexo.\n",
        "\n",
        "También, usamos el siguiente ejemplo para mostrar que los estilos de diagramas del tipo **`scatter`** requieren de dos variables numéricas para la diagramación. En este caso se usan **`'total_bill'`** y **`'tip'`**. Si se hace el llamado con sólo una se generaría un error por deficiencia de argumentos.\n",
        "\n",
        "Además, se ilustra cómo agregar una leyenda al diagrama con ayuda del método **`add_legend`**:"
      ]
    },
    {
      "cell_type": "code",
      "metadata": {
        "id": "VSwQHVeBUoPk"
      },
      "source": [
        "g = sns.FacetGrid(tips, col=\"time\",  row=\"smoker\",hue='sex')\n",
        "g = g.map(plt.scatter, \"total_bill\", \"tip\").add_legend()"
      ],
      "execution_count": null,
      "outputs": []
    },
    {
      "cell_type": "markdown",
      "metadata": {
        "id": "6mlOed-CUoPn"
      },
      "source": [
        "### **6.4. Método `JointGrid`**\n",
        "---\n",
        "\n",
        "**`JointGrid`** es la versión general de las cuadrículas de tipo **`jointplot`** que se describió previamente.\n"
      ]
    },
    {
      "cell_type": "code",
      "metadata": {
        "id": "T9Rsf3DtOUkb"
      },
      "source": [
        "sns.jointplot(x='total_bill',y='tip',data=tips);"
      ],
      "execution_count": null,
      "outputs": []
    },
    {
      "cell_type": "markdown",
      "metadata": {
        "id": "e1jApmmnfds4"
      },
      "source": [
        "Primero se hace el llamado a la función definiendo el *DataFrame* a usar y el par de variables a representar en cada eje. Con esto obtenemos una gráfica en blanco referenciada por **`g`**, que usaremos para definir el tipo y características del diagrama a elaborar.\n"
      ]
    },
    {
      "cell_type": "code",
      "metadata": {
        "id": "icuLtHMeUoP4"
      },
      "source": [
        "# Crea la cuadrícula\n",
        "g = sns.JointGrid(x=\"total_bill\", y=\"tip\", data=tips)"
      ],
      "execution_count": null,
      "outputs": []
    },
    {
      "cell_type": "markdown",
      "metadata": {
        "id": "t3jnB2zm74If"
      },
      "source": [
        "Usando **`g`** como referencia a la figura, definimos el tipo de diagrama y obtenemos el siguiente resultado:"
      ]
    },
    {
      "cell_type": "code",
      "metadata": {
        "id": "ULbeO_M9UoP-"
      },
      "source": [
        "g = sns.JointGrid(x=\"total_bill\", y=\"tip\", data=tips)\n",
        "g = g.plot(sns.regplot, sns.kdeplot)"
      ],
      "execution_count": null,
      "outputs": []
    },
    {
      "cell_type": "markdown",
      "metadata": {
        "id": "6J32zoCEcnte"
      },
      "source": [
        "## **7. Estilo y color**\n",
        "---\n",
        "\n",
        "*Seaborn* es bastante amplio en opciones para personalizar la visualización de las gráficas. Veremos algunas de las principales haciendo uso del *DataFrame* de propinas **`tips`**."
      ]
    },
    {
      "cell_type": "markdown",
      "metadata": {
        "id": "5zigHm7NWE7E"
      },
      "source": [
        "### **7.1. Estilos**\n",
        "---\n",
        "\n",
        "Se puede usar estilos predefinidos mediante la función **`set_style`**. Todas las gráficas generadas después de realizar este cambio van a construirse con este estilo."
      ]
    },
    {
      "cell_type": "code",
      "metadata": {
        "id": "A7ZUtA3VWE7I"
      },
      "source": [
        "#Estilo predeterminado.\n",
        "sns.countplot(x='sex',data=tips);"
      ],
      "execution_count": null,
      "outputs": []
    },
    {
      "cell_type": "code",
      "metadata": {
        "id": "0dTMPvIvWE7Q"
      },
      "source": [
        "# Se puede escoger cualquiera de estos estilos: {darkgrid, whitegrid, dark, white, ticks}\n",
        "sns.set_style('dark')\n",
        "\n",
        "sns.countplot(x='sex',\n",
        "              data=tips);"
      ],
      "execution_count": null,
      "outputs": []
    },
    {
      "cell_type": "code",
      "metadata": {
        "id": "TKjmd0zFWE7X"
      },
      "source": [
        "sns.set_style('whitegrid')\n",
        "\n",
        "sns.countplot(x='sex',\n",
        "              data=tips,\n",
        "              palette='deep');\n",
        "\n"
      ],
      "execution_count": null,
      "outputs": []
    },
    {
      "cell_type": "code",
      "metadata": {
        "id": "dbviC59Kih5B"
      },
      "source": [
        "sns.set_style('darkgrid')"
      ],
      "execution_count": null,
      "outputs": []
    },
    {
      "cell_type": "markdown",
      "metadata": {
        "id": "n2YTL3n2WE7c"
      },
      "source": [
        "### **7.2. `despine`**\n",
        "---\n",
        "Con la función **`despine`** es posible prescindir de los ejes que no se quieran visualizar."
      ]
    },
    {
      "cell_type": "code",
      "metadata": {
        "id": "yyo1tDdFWE7e"
      },
      "source": [
        "sns.countplot(x = 'sex',\n",
        "              data = tips)\n",
        "sns.despine()"
      ],
      "execution_count": null,
      "outputs": []
    },
    {
      "cell_type": "markdown",
      "metadata": {
        "id": "jIvTv3IteKMs"
      },
      "source": [
        "Es posible definir explícitamente cuáles ejes se desean visualizar y cuáles no mediante la definición de los siguientes parámetros al invocar la función **`despine`**:\n",
        "\n",
        "```\n",
        "top=True, right=True, left=False, bottom=False\n",
        "```\n",
        "\n",
        "Los valores mostrados corresponden a los valores por defecto. Los valores en **`True`** son ocultados."
      ]
    },
    {
      "cell_type": "code",
      "metadata": {
        "id": "LAvFCj8EWE7l"
      },
      "source": [
        "#Se oculta el eje izquierdo y mostramos el eje derecho.\n",
        "\n",
        "sns.countplot(x ='sex',\n",
        "              data = tips)\n",
        "sns.despine(left = True, right = False)"
      ],
      "execution_count": null,
      "outputs": []
    },
    {
      "cell_type": "markdown",
      "metadata": {
        "id": "Lqr7MPpgWE7u"
      },
      "source": [
        "### **7.3. Tamaño y relación de aspecto**\n",
        "---\n",
        "Se puede usar el método de *Matplotlib* **`plt.figure(figsize=(width,height))`** para cambiar el tamaño de las figuras de *Seaborn*, que se construyen a partir de la funcionalidad de *Matplotlib*."
      ]
    },
    {
      "cell_type": "code",
      "metadata": {
        "id": "7W3fKwY6WE71"
      },
      "source": [
        "#La visualización en Seaborn depende del estado de Pyplot, parte de Matplotlib.\n",
        "plt.figure(figsize=(12,3))\n",
        "sns.countplot(x='sex',\n",
        "              data=tips);"
      ],
      "execution_count": null,
      "outputs": []
    },
    {
      "cell_type": "markdown",
      "metadata": {
        "id": "bNB7jmlfWE79"
      },
      "source": [
        "También se puede controlar el tamaño y la relación de aspecto de los gráficos de cuadrícula de Seaborn pasando los parámetros **`height`** y **`aspect`**. Por ejemplo:"
      ]
    },
    {
      "cell_type": "code",
      "metadata": {
        "id": "jHUkpoWBWE8D"
      },
      "source": [
        "# Gráfico de tipo Grid\n",
        "sns.lmplot(x ='total_bill',\n",
        "           y ='tip',\n",
        "           height = 6,\n",
        "           aspect = 2,\n",
        "           data = tips);"
      ],
      "execution_count": null,
      "outputs": []
    },
    {
      "cell_type": "markdown",
      "metadata": {
        "id": "pi-1xKF9WE8K"
      },
      "source": [
        "### **7.4. Contexto**\n",
        "---\n",
        "\n",
        "El método **`set_context`** permite sobreescribir los parámetros por defecto. Los contextos posibles son:\n",
        "\n",
        "* *notebook*. (por defecto)\n",
        "* *paper*.\n",
        "* *talk*.\n",
        "* *poster*."
      ]
    },
    {
      "cell_type": "code",
      "metadata": {
        "scrolled": true,
        "id": "kxuLHhesWE8M"
      },
      "source": [
        "sns.set_context('poster')\n",
        "sns.countplot(x='sex', data=tips, palette='coolwarm');"
      ],
      "execution_count": null,
      "outputs": []
    },
    {
      "cell_type": "code",
      "metadata": {
        "scrolled": true,
        "id": "TmREL7ELUvx6"
      },
      "source": [
        "sns.set_context('paper')\n",
        "sns.countplot(x='sex', data=tips, palette='coolwarm');"
      ],
      "execution_count": null,
      "outputs": []
    },
    {
      "cell_type": "markdown",
      "metadata": {
        "id": "u_4OLQpPfjCu"
      },
      "source": [
        "En los siguientes enlaces encontrará documentación detallada de las opciones disponibles para la personalización de la visualización de las gráficas:\n",
        "\n",
        "* [*Seaborn* - Controlando la estética de las figuras](http://seaborn.pydata.org/tutorial/aesthetics.html)\n",
        "* [*Matplotlib* - *Colormaps* cuando se especifica una paleta de colores](https://matplotlib.org/stable/gallery/color/colormap_reference.html?highlight=colormaps%20reference)"
      ]
    },
    {
      "cell_type": "markdown",
      "metadata": {
        "id": "4r5hSQAz6d-g"
      },
      "source": [
        "## **Recursos adicionales**\n",
        "---\n",
        "Los siguientes enlaces corresponden a sitios en donde encontrará información muy útil para profundizar en el conocimiento de las funcionalidades de la librería *Seaborn*:\n",
        "\n",
        "* [Official Seaborn tutorial](http://seaborn.pydata.org/tutorial.html)\n",
        "* [Kaggle - Data visualization](https://www.kaggle.com/learn/data-visualization)\n",
        "* [Elite Data Science - The Ultimate Python Seaborn Tutorial: Gotta Catch ‘Em All](https://elitedatascience.com/python-seaborn-tutorial)\n",
        "* [Kaggle - Seaborn tutorial for beginners](https://www.kaggle.com/kanncaa1/seaborn-tutorial-for-beginners)"
      ]
    },
    {
      "cell_type": "markdown",
      "metadata": {
        "id": "z4VavQ3wgMGo"
      },
      "source": [
        "## **Créditos**\n",
        "---\n",
        "\n",
        "* **Profesor:** [Felipe Restrepo Calle](https://dis.unal.edu.co/~ferestrepoca/)\n",
        "* **Asistente docente:** Alberto Nicolai Romero Martínez\n",
        "\n",
        "**Universidad Nacional de Colombia** - *Facultad de Ingeniería*"
      ]
    }
  ]
}