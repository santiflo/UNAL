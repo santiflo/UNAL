{
  "nbformat": 4,
  "nbformat_minor": 0,
  "metadata": {
    "colab": {
      "provenance": [],
      "toc_visible": true,
      "private_outputs": true
    },
    "kernelspec": {
      "name": "python3",
      "display_name": "Python 3"
    }
  },
  "cells": [
    {
      "cell_type": "markdown",
      "metadata": {
        "id": "fb9pUStUq6xf"
      },
      "source": [
        "<img src = \"https://drive.google.com/uc?export=view&id=1XN22c7U27IGl71aGFywSHAuEfjH-PAam\" alt = \"Encabezado MLDS\" width = \"100%\">  </img>"
      ]
    },
    {
      "cell_type": "markdown",
      "metadata": {
        "id": "kyyYqzShjxwL"
      },
      "source": [
        "# **Librería de visualización de *Python*: *Matplotlib* (parte 1)**\n",
        "---\n",
        "<img src = \"https://matplotlib.org/_static/logo2_compressed.svg\" alt = \"Encabezado MLDS\" width = \"70%\"/>\n",
        "\n",
        "\n",
        "***Matplotlib*** es la librería de gráficos 2D y 3D por excelencia del ecosistema de computación científica de *Python*. Fue creada por *John Hunter* asemejando las funcionalidades de visualización de MatLab en *Python*.\n",
        "\n",
        "Algunas de las principales ventajas de *Matplotlib* son:\n",
        "\n",
        "* Salida de alta calidad en muchos formatos.\n",
        "* Muy personalizable.\n",
        "* Todos los aspectos de las gráficas se controlan mediante código, por lo cual es reproducible.\n",
        "\n",
        "Para mayor información acerca del proyecto ingrese a la página web oficial de [*Matplotlib*](http://matplotlib.org/).\n",
        "    \n"
      ]
    },
    {
      "cell_type": "markdown",
      "metadata": {
        "id": "7nNPMd91m9Qi"
      },
      "source": [
        "##**0. Importar *Matplotlib***\n",
        "---\n",
        "\n",
        "*Matplotlib* ya viene instalado en entornos como *Google Colaboratory* o *Anaconda*. De todas maneras, en caso de ser necesario se puede instalar el módulo con el siguiente comando de consola:\n",
        "\n",
        "```\n",
        " pip install matplotlib\n",
        " ```"
      ]
    },
    {
      "cell_type": "markdown",
      "metadata": {
        "id": "rBHDPGV3nPXb"
      },
      "source": [
        "En la mayoría de casos, al trabajar con visualizaciones en *Matplotlib* se utiliza el submódulo **`matplotlib.pyplot`**, que es usualmente importado con el alias **`plt`**. Esta convención es ampliamente aceptada y recomendada, por lo que es común encontrarla en muchos ejemplos o recursos en línea."
      ]
    },
    {
      "cell_type": "code",
      "metadata": {
        "id": "aPf1Ub-luMs8"
      },
      "source": [
        "import matplotlib.pyplot as plt"
      ],
      "execution_count": null,
      "outputs": []
    },
    {
      "cell_type": "markdown",
      "metadata": {
        "id": "FykMZqjDEmea"
      },
      "source": [
        "En ocasiones es necesario importar el módulo completo, que se realiza con el alias **`mpl`**. Es menos común, pero necesario en ocasiones cuando se trata con configuraciones más específicas."
      ]
    },
    {
      "cell_type": "code",
      "metadata": {
        "id": "03vHb7Zl1Az9"
      },
      "source": [
        "import matplotlib as mpl"
      ],
      "execution_count": null,
      "outputs": []
    },
    {
      "cell_type": "markdown",
      "metadata": {
        "id": "iHKbwAi9uMtB"
      },
      "source": [
        "Para ver las figuras dentro del *Notebook* puede ser necesario ejecutar también el siguiente comando:"
      ]
    },
    {
      "cell_type": "code",
      "metadata": {
        "id": "fCQG7aTSuMtC"
      },
      "source": [
        "%matplotlib inline"
      ],
      "execution_count": null,
      "outputs": []
    },
    {
      "cell_type": "markdown",
      "metadata": {
        "id": "_-MKc4BquMtF"
      },
      "source": [
        "Tenga en cuenta que el comando anterior es necesario sólo para *Jupyter Notebooks*. Si está usando otro entorno de desarrollo, deberá usar: **`plt.show()`** al final de todos sus instrucciones de gráficas para que aparezca la figura en una ventana nueva. En caso de usar ***Google Colaboratory*** no es necesario hacer este llamado ni agregar la anotación mencionada.\n",
        "\n",
        "A continuación importaremos las otras librerías con las que hemos venido trabajando:"
      ]
    },
    {
      "cell_type": "code",
      "metadata": {
        "id": "rtTkmDGyGpbX"
      },
      "source": [
        "import pandas as pd\n",
        "import numpy as np"
      ],
      "execution_count": null,
      "outputs": []
    },
    {
      "cell_type": "code",
      "metadata": {
        "id": "jUMP_2CPqwRY"
      },
      "source": [
        "# Versiones de Python, NumPy y Pandas.\n",
        "!python --version\n",
        "print('NumPy', np.__version__)\n",
        "print('Pandas', pd.__version__)\n",
        "print('Matplotlib', mpl.__version__)"
      ],
      "execution_count": null,
      "outputs": []
    },
    {
      "cell_type": "markdown",
      "metadata": {
        "id": "dxNzX3sfq3gZ"
      },
      "source": [
        "Este material se realizó con las siguientes versiones:\n",
        "- Python 3.10.6\n",
        "- NumPy 1.22.4\n",
        "- Pandas 1.5.3\n",
        "- Matplotlib 3.7.1"
      ]
    },
    {
      "cell_type": "markdown",
      "metadata": {
        "collapsed": true,
        "id": "-7uS-kHruMtG"
      },
      "source": [
        "*Matplotlib* implementa interacciones con objetos de *NumPy* y *Pandas*. De hecho, las visualizaciones de objetos *Series* y *DataFrame* de *Pandas* descritas en la Unidad 2 están construidas usando *Matplotlib* por defecto. Veamos un ejemplo, graficando un *DataFrame* de *Pandas* mediante el método **`plot`**:"
      ]
    },
    {
      "cell_type": "code",
      "metadata": {
        "id": "zwbvm0BoGXtB"
      },
      "source": [
        "s = pd.DataFrame(np.arange(100), np.logspace(0,2, 100))\n",
        "\n",
        "s.plot.line() # El objeto generado es un objeto de Matplotlib: e.g. <matplotlib.axes._subplots.AxesSubplot at 0x...>"
      ],
      "execution_count": null,
      "outputs": []
    },
    {
      "cell_type": "markdown",
      "metadata": {
        "id": "TPTFu3_sGXFW"
      },
      "source": [
        "En los primeros ejemplos de esta guía usaremos dos arreglos de *NumPy* para representar la visualización de funciones matemáticas. Se pueden usar también listas de *Python*, pero es probable que en la práctica la mayoría de las veces se construyan visualizaciones a partir de arreglos de *NumPy* o de columnas de *DataFrames* de *Pandas*. Es de esta forma en que se realizará en el transcurso de la guía.\n",
        "\n",
        "Generaremos el arreglo **`x`**  que contendrá $10$ números entre $0$ y $5$, separados de forma uniforme (función **`np.linspace`**) y un segundo arreglo **`y`** en el cual sus elementos son los mismos del arreglo **x** tras aplicar una función matemática ($y = x^2$):"
      ]
    },
    {
      "cell_type": "code",
      "metadata": {
        "id": "Y3qBBgx_uMtH"
      },
      "source": [
        "x = np.linspace(0, 5, 10)\n",
        "y = x**2"
      ],
      "execution_count": null,
      "outputs": []
    },
    {
      "cell_type": "code",
      "metadata": {
        "id": "6gcgQ-PzuMtK"
      },
      "source": [
        "x"
      ],
      "execution_count": null,
      "outputs": []
    },
    {
      "cell_type": "code",
      "metadata": {
        "id": "PFvPedS5uMtN"
      },
      "source": [
        "y"
      ],
      "execution_count": null,
      "outputs": []
    },
    {
      "cell_type": "markdown",
      "metadata": {
        "id": "G3ivgUCTO8mg"
      },
      "source": [
        "Además, se construirá un *DataFrame* de *pandas* con los mismos datos para ilustrar algunos ejemplos:"
      ]
    },
    {
      "cell_type": "code",
      "metadata": {
        "id": "G8pQkRDPHnhW"
      },
      "source": [
        "df = pd.DataFrame({'y': y}, index  = x)"
      ],
      "execution_count": null,
      "outputs": []
    },
    {
      "cell_type": "markdown",
      "metadata": {
        "id": "OK8_sZ4vuMtR"
      },
      "source": [
        "En *Matplotlib* existen 2 formas de trabajar. Un método funcional inspirado en las funcionalidades de visualización de la herramienta [*Matlab*](https://www.mathworks.com/products/matlab.html), y un método orientado a objetos que permite una mayor personalización y flexibilidad. Aunque el segundo método es el más recomendado por su modularidad, se presentarán ambos métodos por completitud."
      ]
    },
    {
      "cell_type": "markdown",
      "metadata": {
        "id": "F-oqzQQtnqn5"
      },
      "source": [
        "## **1. Método funcional (`plt.plot`)**\n",
        "___\n",
        "En el modo funcional se usa el método **`plot`**, al cual le son pasados los datos a diagramar. Este identifica e interpreta dinámicamente cómo debe construir la visualización. Para el caso del ejemplo, se pasan como argumentos los arreglos **`x`** y **`y`**."
      ]
    },
    {
      "cell_type": "code",
      "metadata": {
        "id": "MAK9Gg0JuMtS"
      },
      "source": [
        "plt.plot(x, y)\n",
        "#plt.show()  #Descomente esta línea si no está trabajando en Google Colaboratory o Anaconda y no se muestra la visualización."
      ],
      "execution_count": null,
      "outputs": []
    },
    {
      "cell_type": "code",
      "metadata": {
        "id": "VGEtuhgWHuY1"
      },
      "source": [
        "plt.plot(df) # Equivalente a llamar la función df.plot()"
      ],
      "execution_count": null,
      "outputs": []
    },
    {
      "cell_type": "markdown",
      "metadata": {
        "id": "pqJpwxHk4RRs"
      },
      "source": [
        "El resultado es la visualización en un plano cartesiano de los valores contenidos en los dos arreglos **`x`** y **`y`**.\n",
        "\n",
        "*Matplotlib* debe su popularidad en parte a su flexibilidad al permitir la personalización en detalle de las gráficas generadas. Dentro de las opciones  para personalizar las visualizaciones está la definición de los títulos de los ejes **`x`** y **`y`**, el título del diagrama, el color de la gráfica, el tamaño y forma de cada par de datos en el diagrama, entre otros.\n",
        "\n",
        "Cada uno de estos métodos se verán más adelante. En este momento se utilizarán para ilustrar su uso y las diferencias entre los dos enfoques de *Matplotlib*."
      ]
    },
    {
      "cell_type": "code",
      "metadata": {
        "id": "PYd7pL_uuMtV"
      },
      "source": [
        "plt.plot(x, y, 'r', marker='o') #Los argumentos 'r' y marker = 'o' se discutirán más adelante.\n",
        "plt.xlabel('Título del Eje X')\n",
        "plt.ylabel('Título del Eje Y')\n",
        "plt.title('Título de la Figura')\n",
        "plt.show()"
      ],
      "execution_count": null,
      "outputs": []
    },
    {
      "cell_type": "markdown",
      "metadata": {
        "id": "ICIJPOyRmX6A"
      },
      "source": [
        "Con *Matplotlib* es posible hacer modificaciones al estilo de *MatLab* para controlar el aspecto de las gráficas. Si ha utilizado dicha herramienta con anterioridad, gran parte de la sintaxis de *Matplotlib* le parecerá familiar. Por ejemplo se puede definir el color y el estilo de línea como se ilustra en el siguiente ejemplo:"
      ]
    },
    {
      "cell_type": "code",
      "metadata": {
        "id": "nuCmWCHAuMte"
      },
      "source": [
        "plt.plot(x, y, 'b--') #El argumento b-- le indica a matplotlib\n",
        "                      #que genere una gráfica azul (blue) y de líneas intermitentes (--)"
      ],
      "execution_count": null,
      "outputs": []
    },
    {
      "cell_type": "markdown",
      "metadata": {
        "id": "Aq0TtennoEE-"
      },
      "source": [
        "### **1.1. Creación de múltiples visualizaciones - `plt.subplot`**\n",
        "---\n",
        "*Matplotlib* permite dibujar más de una gráfica sobre el mismo espacio de trabajo o *canvas*. Esto se realiza mediante la función **`subplot`**, la cual recibe tres parámetros: el número de filas, el número de columnas y el número o índice del **`plot`** a seleccionar. Cuando se decida cambiar la referencia a otra gráfica se tiene que realizar un llamado nuevo al método **`subplot`**."
      ]
    },
    {
      "cell_type": "code",
      "metadata": {
        "id": "_LQGGCTZuMtj"
      },
      "source": [
        "### plt.subplot(nrows, ncols, plot_number) ###\n",
        "\n",
        "plt.subplot(1,2,1)    # 1 fila, 2 columnas, referenciando el plot número 1\n",
        "plt.plot(x, y, 'r--') # Figura roja\n",
        "\n",
        "plt.subplot(1,2,2)    # ahora se referencia el plot número 2\n",
        "plt.plot(y, x, 'g*-') # Figura verde\n",
        "\n",
        "plt.show()"
      ],
      "execution_count": null,
      "outputs": []
    },
    {
      "cell_type": "markdown",
      "metadata": {
        "id": "dcUAa8z0q-Ug"
      },
      "source": [
        "Con el tercer parámetro se referencia el *plot* (componente del *canvas*) sobre el que se dibujará. Como ejemplo vemos en el siguiente código que al mantener referenciado el mismo *plot*, logramos que las gráficas se dibujen en la misma gráfica."
      ]
    },
    {
      "cell_type": "code",
      "metadata": {
        "id": "xgoIP0OgsDkj"
      },
      "source": [
        "plt.subplot(1,2,1)      # 1 fila, dos columnas y se está referenciando el número 1\n",
        "plt.plot(x, y, 'r--')   # Figura roja en el plot 1\n",
        "plt.plot(y, x, 'b*-')   # Con la referencia aún al plot 1, se dibuja otra gráfica (azul)\n",
        "\n",
        "plt.subplot(1,2,2)      # ahora se referencia el plot número 2\n",
        "plt.plot(y, x, 'g*-')"
      ],
      "execution_count": null,
      "outputs": []
    },
    {
      "cell_type": "markdown",
      "metadata": {
        "id": "o3h2A1EAuMtm"
      },
      "source": [
        "## **2. Método orientado a objetos**\n",
        "---\n",
        "\n",
        "A continuación realizaremos una introducción al método orientado a objetos de *Matplotlib*. La lógica detrás de este enfoque consiste en crear objetos de la clase **`Figure`** y luego emplear métodos o atributos de ese objeto. Este enfoque es más práctico cuando se trata de un canvas que tiene múltiples gráficos en él.\n",
        "\n",
        "Para comenzar, creamos una instancia (objeto) de figura, esto es, un canvas o área de trabajo en limpio. Posteriormente, se agregan los gráficos internos o \"ejes\" (objeto **`Axes`**) a esa figura. Los *axes* son componentes independientes dentro de una figura que pueden ser considerados subfiguras. No se deben confundir con los ejes del plano cartesiano.\n",
        "\n",
        "\n",
        "Los *axes* se adicionan con la función **`add_axes()`**, la cual recibe como parámetro una lista con cuatro valores entre $0$ y $1$ en notación decimal que representan en forma porcentual la posición de los ejes (izquierda, abajo), y las dimensiones de estos (ancho, alto):"
      ]
    },
    {
      "cell_type": "code",
      "metadata": {
        "id": "MzjvmDFFrxvI"
      },
      "source": [
        "fig = plt.figure()    # Creamos una Figura (canvas vacío)\n",
        "axes = fig.add_axes([0, 0, 1, 0.6])   #Añadimos los ejes en las proporciones indicadas.\n",
        "                      # Los primeros dos números se refieren a la esquina inferior izquierda de la gráfica (0, 0)\n",
        "                      # Los últimos dos números se refieren a las proporciones de ancho y alto (1, 0.6)\n",
        "axes.plot(x, y, 'b')\n",
        "fig.show()"
      ],
      "execution_count": null,
      "outputs": []
    },
    {
      "cell_type": "markdown",
      "metadata": {
        "id": "f5fnOHfASk-_"
      },
      "source": [
        "A primera vista el método orientado a objetos podría parecer más complicado. Sin embargo, es mucho más flexible y modular, por lo que se recomienda su uso cuando la visualización es más compleja."
      ]
    },
    {
      "cell_type": "markdown",
      "metadata": {
        "id": "PwACzNQ6N8kk"
      },
      "source": [
        "Ahora, los métodos de personalización se ejecutan directamente en objetos **`Figure`** y sus componentes básicos **`Axes`**.  En este caso, se agrega el prefijo **`set_*`**, para alterar el valor específico e independiente de cada figura, a diferencia de los métodos del método funcional."
      ]
    },
    {
      "cell_type": "code",
      "metadata": {
        "id": "QUPL0ZTONiNY"
      },
      "source": [
        "fig = plt.figure()\n",
        "axes = fig.add_axes([0, 0, 1, 0.8])\n",
        "axes.plot(x, y, 'b')\n",
        "\n",
        "# Nótese el uso de \"set_\" al principio del nombre de los métodos (diferente del método funcional).\n",
        "axes.set_xlabel('Eje X')              # Equivalente a plt.xlabel.\n",
        "axes.set_ylabel('Eje Y')              # Equivalente a plt.ylabel.\n",
        "axes.set_title('Título de la Figura') # Equivalente a plt.title.\n",
        "\n",
        "fig.show()"
      ],
      "execution_count": null,
      "outputs": []
    },
    {
      "cell_type": "markdown",
      "metadata": {
        "id": "v4iRY62VuMtp"
      },
      "source": [
        "Como se indicó anteriormente, el método orientado a objetos tiene ciertas ventajas sobre el método funcional convencional porque permite tener un mayor control sobre la diagramación. Por ejemplo, se tiene más control sobre el manejo y ubicación de los *axes*, permitiendo, entre otras cosas, trabajar con más de un par de objetos **`Axes`**, que representan una subgráfica rodeada de ejes del plano cartesiano, sobre una misma figura como se muestra en el siguiente ejemplo:\n"
      ]
    },
    {
      "cell_type": "code",
      "metadata": {
        "id": "t7hoUz4TuMtq"
      },
      "source": [
        "# Crea un canvas vacío\n",
        "fig = plt.figure()\n",
        "\n",
        "ax1 = fig.add_axes([0.0, 0.0, 1.0, 1.0]) # Subgráfica principal\n",
        "ax2 = fig.add_axes([0.3, 0.6, 0.3, 0.2]) # Subgráfica interior\n",
        "\n",
        "# Figura principal Axes 1\n",
        "ax1.plot(x, y, 'b')\n",
        "ax1.set_xlabel('Eje X Principal 1')\n",
        "ax1.set_ylabel('Eje Y Principal 1')\n",
        "ax1.set_title('Título Principal 1')\n",
        "\n",
        "# Inserta Figura Axes 2\n",
        "ax2.plot(y, x, 'r')\n",
        "ax2.set_xlabel('Eje X interior 2')\n",
        "ax2.set_ylabel('Eje Y interior 2')\n",
        "ax2.set_title('Título interior 2')\n",
        "ax2.set_facecolor('gray') #Método para cambiar el color del fondo.\n",
        "\n",
        "fig.show() #Ambos Axes están asociados al objeto fig original."
      ],
      "execution_count": null,
      "outputs": []
    },
    {
      "cell_type": "markdown",
      "metadata": {
        "id": "UQ-dC7sIuMtt"
      },
      "source": [
        "### **2.1. Creación de múltiples visualizaciones - `plt.subplots`**\n",
        "---\n",
        "El método **`plt.subplots()`** sirve como gestor automático de gráficos. De esta manera se puede crear más de una gráfica sobre una misma figura. El método retorna una instancia de tipo **`Figure`** y un arreglo de ejes que referencia a cada una de las gráficas.\n",
        "\n",
        "Algunos casos de uso comunes:"
      ]
    },
    {
      "cell_type": "code",
      "metadata": {
        "id": "3s55xohguMtu"
      },
      "source": [
        "# Se usa de forma similar a plt.figure() excepto que devuelve\n",
        "# al mismo tiempo un objeto Figure y un objeto/arreglo de ejes Axes.\n",
        "\n",
        "fig, axes = plt.subplots()\n",
        "\n",
        "# Ahora se usa el eje, como antes, para graficar en él\n",
        "axes.plot(x, y, 'r')\n",
        "axes.set_xlabel('x')\n",
        "axes.set_ylabel('y')\n",
        "axes.set_title('Título'); # El \";\" final no es obligatorio, sólo evita que se muestre la info del objeto en el notebook"
      ],
      "execution_count": null,
      "outputs": []
    },
    {
      "cell_type": "markdown",
      "metadata": {
        "id": "EmXloW_quMtz"
      },
      "source": [
        "En el llamado al método **`subplots`**, se puede especificar el número de filas y columnas en que se dividirá el canvas para mostrar el arreglo de figuras que se desee. Cada eje retornado en el arreglo puede ser referenciado mediante el uso de índices, para controlar de manera independiente las propiedades y el aspecto de cada gráfico. El número de filas se define mediante el parámetro **`nrows`** y el de columnas mediante el parámetro **`ncols`**. En el siguiente ejemplo se ilustra su uso mediante la creación de un canvas con 1 fila y 2 columnas (2 gráficos)."
      ]
    },
    {
      "cell_type": "code",
      "metadata": {
        "id": "fY24P9dZuMt1"
      },
      "source": [
        "# Canvas vacío de 1x2 subplots\n",
        "fig, axes = plt.subplots(nrows=1, ncols=2)"
      ],
      "execution_count": null,
      "outputs": []
    },
    {
      "cell_type": "code",
      "metadata": {
        "id": "l2_NPTg5gZjE"
      },
      "source": [
        "axes"
      ],
      "execution_count": null,
      "outputs": []
    },
    {
      "cell_type": "markdown",
      "metadata": {
        "id": "_1J4wdCoyQ7i"
      },
      "source": [
        "El objeto retornado es un arreglo de ejes **`Axes`** sobre los cuales se puede graficar. Por lo tanto, es posible referenciar cada gráfico mediante su índice, y de esta manera, graficar sobre cada uno de ellos y definir su aspecto de manera independiente:\n",
        "\n"
      ]
    },
    {
      "cell_type": "code",
      "metadata": {
        "id": "WJmU5ftLuMt6"
      },
      "source": [
        "fig, axes = plt.subplots(nrows=1, ncols=2)\n",
        "\n",
        "axes[0].plot(x,y,'r')  # Seleccionamos el eje (axes) con el índice 0 (axes[0])\n",
        "axes[1].plot(y,x,'b')  # Seleccionamos el eje (axes) con el índice 1 (axes[1])\n",
        "axes[0].set_title('Gráfico 1')\n",
        "axes[1].set_title('Gráfico 2');"
      ],
      "execution_count": null,
      "outputs": []
    },
    {
      "cell_type": "code",
      "metadata": {
        "id": "FA0Enkr_RCcp"
      },
      "source": [
        "#También se pueden desempaquetar como si se tratase de tuplas\n",
        "fig, (ax0, ax1) = plt.subplots(nrows=1, ncols=2)\n",
        "\n",
        "ax0.plot(x,y,'r')\n",
        "ax1.plot(y,x,'b')\n",
        "ax0.set_title('Gráfico 1')\n",
        "ax1.set_title('Gráfico 2');"
      ],
      "execution_count": null,
      "outputs": []
    },
    {
      "cell_type": "markdown",
      "metadata": {
        "id": "4ZcfOJH4uMuR"
      },
      "source": [
        "Un problema común en *Matplolib* es la superposición de gráficos. Podemos utilizar el método **`fig.tight_layout()`** o **`plt.tight_layout`** para ajustar automáticamente las posiciones de los ejes en el canvas de la figura para que no haya contenido superpuesto. A continuación se presenta un ejemplo donde hay superposición de elementos, y después, se muestra cómo solucionarlo."
      ]
    },
    {
      "cell_type": "markdown",
      "metadata": {
        "id": "2hhvzDPCCfnP"
      },
      "source": [
        "> **Nota:** El método **`subplots`** también puede ser definido con más de una fila y más de una columna."
      ]
    },
    {
      "cell_type": "code",
      "metadata": {
        "id": "dKhrV6nKuMuF"
      },
      "source": [
        "# Canvas vacío de 2x4 subplots\n",
        "\n",
        "fig, axes = plt.subplots(nrows=2, ncols=4)\n",
        "axes[0,2].plot(x, y, 'b') # Seleccionamos la fila 0, columna 2 (axes[0,2])\n",
        "\n",
        "# Debido a la gran cantidad de sub-figuras, el resultado presenta problemas de superposición de elementos"
      ],
      "execution_count": null,
      "outputs": []
    },
    {
      "cell_type": "code",
      "metadata": {
        "id": "C1IV68z4RhSO"
      },
      "source": [
        "fig, axes = plt.subplots(nrows=2, ncols=4)\n",
        "axes[0,2].plot(x, y, 'b')\n",
        "\n",
        "fig.tight_layout()   #Para prevenir la superposición de elementos."
      ],
      "execution_count": null,
      "outputs": []
    },
    {
      "cell_type": "markdown",
      "metadata": {
        "id": "87XOi38guMuO"
      },
      "source": [
        "Para este caso, en el que se definen $n$ filas y $m$ columnas, el arreglo de ejes retornados será una matriz de $n \\times m$ y se puede acceder a cada gráfico ya sea iterando sobre este arreglo, o mediante el uso de índices para referenciar cada elemento de una matriz bidimensional:"
      ]
    },
    {
      "cell_type": "code",
      "metadata": {
        "id": "83K4TOKSuMuO"
      },
      "source": [
        "for row in axes:       #Acceso mediante la iteración de sus elementos\n",
        "    for ax in row:\n",
        "        ax.plot(x, y, 'b')\n",
        "        ax.set_xlabel('x')\n",
        "        ax.set_ylabel('y')\n",
        "        ax.set_title('Título')\n",
        "\n",
        "axes[1,2].clear()\n",
        "axes[1,2].plot(x, y, 'g')          #Acceso mediante sus índices\n",
        "axes[1][2].plot(y, x, 'r')         #Otra manera (No recomendada)\n",
        "\n",
        "\n",
        "fig.tight_layout()\n",
        "\n",
        "# Para mostrar la figura\n",
        "fig # Es necesario porque había sido creada en una celda anterior"
      ],
      "execution_count": null,
      "outputs": []
    },
    {
      "cell_type": "markdown",
      "metadata": {
        "id": "EIzR_SDRSTkr"
      },
      "source": [
        "## **3. Personalización de visualizaciones**\n",
        "---\n",
        "\n",
        "Una vez definidos los dos estilos principales para realizar visualizaciones con *Matplotlib*, vamos a discutir las opciones de personalización de las visualizaciones construidas en ambos métodos."
      ]
    },
    {
      "cell_type": "markdown",
      "metadata": {
        "id": "n9Q2JYsbuMuV"
      },
      "source": [
        "### **3.1. Tamaño de figuras y DPI (Dots per Inch)**\n",
        "---\n",
        "*Matplotlib* permite especificar el *DPI* y el tamaño de la figura cuando se crea un objeto **`Figure`**. Para esto, se usan los argumentos de las palabras clave **`figsize`** y **`dpi`**.\n",
        "* **`figsize`** es una tupla del ancho y alto de la figura en pulgadas.\n",
        "* **`dpi`** es el punto por pulgada (pixel por pulgada).\n",
        "\n",
        "Por ejemplo:"
      ]
    },
    {
      "cell_type": "code",
      "metadata": {
        "id": "WM-ySzdNuMuW"
      },
      "source": [
        "fig = plt.figure(figsize=(12,3))  # 12 x 3 pulgadas.\n",
        "\n",
        "ax = fig.add_axes([0,0,1,1])\n",
        "ax.plot(x,y);"
      ],
      "execution_count": null,
      "outputs": []
    },
    {
      "cell_type": "markdown",
      "metadata": {
        "id": "Agsn4pL9uMuX"
      },
      "source": [
        "Estos mismos argumentos también se pueden pasar a los manejadores de layout, como el método **`subplots`**:"
      ]
    },
    {
      "cell_type": "code",
      "metadata": {
        "id": "aH805VFfuMuZ"
      },
      "source": [
        "fig, axes = plt.subplots(dpi=150)\n",
        "\n",
        "axes.plot(x, y, 'r')\n",
        "axes.set_xlabel('x')\n",
        "axes.set_ylabel('y')\n",
        "axes.set_title('Título');"
      ],
      "execution_count": null,
      "outputs": []
    },
    {
      "cell_type": "code",
      "metadata": {
        "id": "-lbOLBG3uMub"
      },
      "source": [
        "#Estos argumentos afectan a la figura, y por tanto\n",
        "#al espacio disponible para cada Axes.\n",
        "\n",
        "fig, axes = plt.subplots(nrows=2, ncols=1, figsize=(12,6))\n",
        "\n",
        "axes[0].plot(x, y, 'r') #Subfigura de 12 x 3 pulgadas\n",
        "axes[1].plot(y, x, 'g') #Subfigura de 12 x 3 pulgadas\n",
        "\n",
        "plt.tight_layout()"
      ],
      "execution_count": null,
      "outputs": []
    },
    {
      "cell_type": "markdown",
      "metadata": {
        "id": "uzDYdajjuMuo"
      },
      "source": [
        "### **3.2. Leyendas, etiquetas, títulos**\n",
        "---\n",
        "Veamos cómo agregar títulos, etiquetas de ejes y leyendas a la figura. El texto en *Matplotlib* tiene varias propiedades interesantes. Una de ellas es su interacción con el lenguaje de marcado *LaTeX*, usado para renderizar ecuaciones, de manera similar al lenguaje *Markdown*, usado en las celdas de texto de los *Jupyter Notebook*."
      ]
    },
    {
      "cell_type": "markdown",
      "metadata": {
        "id": "XvjsyTqFuMup"
      },
      "source": [
        "#### **3.2.1. Títulos de Figuras**\n",
        "---\n",
        "\n",
        "Use el método **`set_title`** en el objeto **`Axes`**:"
      ]
    },
    {
      "cell_type": "code",
      "metadata": {
        "id": "unYFstxIuMuq"
      },
      "source": [
        "fig, ax = plt.subplots()\n",
        "ax.set_title(\"Título de la figura\");"
      ],
      "execution_count": null,
      "outputs": []
    },
    {
      "cell_type": "code",
      "metadata": {
        "id": "CohgFaCyYqLU"
      },
      "source": [
        "#Equivalente en el método funcional.\n",
        "\n",
        "plt.plot()\n",
        "plt.title(\"Título de la figura\");"
      ],
      "execution_count": null,
      "outputs": []
    },
    {
      "cell_type": "markdown",
      "metadata": {
        "id": "BbSK80WluMuu"
      },
      "source": [
        "#### **3.2.2. Etiquetas de ejes**\n",
        "---\n",
        "\n",
        "Los métodos **`set_xlabel`** y **`set_ylabel`** permiten asignar nombres a los ejes $x$ y $y$ de los objetos **`Axes`**:"
      ]
    },
    {
      "cell_type": "code",
      "metadata": {
        "id": "zxhxh-ztuMuu"
      },
      "source": [
        "fig, ax = plt.subplots()\n",
        "\n",
        "ax.set_xlabel(\"Etiqueta del eje X\")\n",
        "ax.set_ylabel(\"Etiqueta del eje Y\");"
      ],
      "execution_count": null,
      "outputs": []
    },
    {
      "cell_type": "code",
      "metadata": {
        "id": "Y5SjpVAXZH5g"
      },
      "source": [
        "#Equivalente en el método funcional.\n",
        "plt.plot()\n",
        "\n",
        "plt.xlabel(\"Etiqueta del eje X\")\n",
        "plt.ylabel(\"Etiqueta del eje Y\");"
      ],
      "execution_count": null,
      "outputs": []
    },
    {
      "cell_type": "markdown",
      "metadata": {
        "id": "13_0XrS5uMux"
      },
      "source": [
        "#### **3.2.3. Leyenda**\n",
        "---\n",
        "Se puede usar el parámetro **`label= \"texto leyenda\"`** cuando se añaden plots u otros objetos a la figura. Después, se llama al método **legend** para incluir la leyenda en el gráfico:"
      ]
    },
    {
      "cell_type": "code",
      "metadata": {
        "id": "LZS5mdEeuMuy"
      },
      "source": [
        "fig, ax = plt.subplots()\n",
        "\n",
        "ax.plot(x, x**2, label=\"$x^2$\") # Texto en formato LaTeX entre símbolos \"$\"\n",
        "ax.plot(x, x**3, label=\"Función $x^3$\")\n",
        "ax.legend();"
      ],
      "execution_count": null,
      "outputs": []
    },
    {
      "cell_type": "markdown",
      "metadata": {
        "id": "b8aBr0eouMu0"
      },
      "source": [
        "El método **`legend`** tiene un parámetro opcional **`loc`** que se usa para especificar la posición de la leyenda en la figura. Soporta códigos numéricos o la cadena directamente. Le invitamos a consultar la [documentación](https://matplotlib.org/tutorials/intermediate/legend_guide.html#legend-location) para conocer muchas más opciones.\n",
        "\n",
        "Para conocer varias opciones, ejecute varias veces la siguiente celda, comentando/descomentando las diferentes líneas de código para ver el resultado:"
      ]
    },
    {
      "cell_type": "code",
      "metadata": {
        "id": "RI4A_LaUuMu1"
      },
      "source": [
        "# Descomente las líneas (una a una) para ver la diferencia.\n",
        "\n",
        "ax.legend(loc=0) # Matplotlib decide la mejor posición\n",
        "\n",
        "# Predeterminados\n",
        "#ax.legend(loc=1) # arriba a la derecha\n",
        "#ax.legend(loc=2) # arriba a la izquierda\n",
        "#ax.legend(loc=3) # abajo a la izquierda\n",
        "#ax.legend(loc=4) # abajo a la derecha\n",
        "\n",
        "# Personalizado\n",
        "#ax.legend(loc=(0.5,0.1),frameon=False)\n",
        "#ax.legend(loc=(1.02,0.1),fancybox=True)\n",
        "\n",
        "fig"
      ],
      "execution_count": null,
      "outputs": []
    },
    {
      "cell_type": "markdown",
      "metadata": {
        "id": "N-O5XkVyuMu5"
      },
      "source": [
        "### **3.3. Colores, ancho de líneas y tipo de líneas**\n",
        "---\n",
        "*Matplotlib* ofrece muchas opciones para personalizar el estilo de los marcadores como líneas o puntos, permitiendo modificar cosas como su color, ancho y tipo.\n",
        "\n",
        "*Matplotlib* soporta una sintaxis básica similar a *MatLab* que sugerimos evitar en aras de la claridad, a menos de que esté familiarizado con la herramienta:"
      ]
    },
    {
      "cell_type": "markdown",
      "metadata": {
        "id": "PQmOv7V9uMu8"
      },
      "source": [
        "#### **3.3.1. Sintaxis similar a MatLab**\n",
        "---\n",
        "Con *Matplotlib* podemos definir los colores de las líneas y otros elementos gráficos de varias maneras. En primer lugar, podemos usar la sintaxis similar a *MatLab* donde **`'b'`** significa azul, **`'g'`** significa verde, etc. También se pueden seleccionar estilos de línea donde, por ejemplo, **`'b.-'`** significa una línea azul con puntos:\n"
      ]
    },
    {
      "cell_type": "code",
      "metadata": {
        "id": "2CRj5ivHuMu-"
      },
      "source": [
        "# Estilo MATLAB\n",
        "fig, ax = plt.subplots()\n",
        "\n",
        "ax.plot(x, x**2, 'b.-.') # línea azul (b) discontinua (-.) con marcador de punto\n",
        "ax.plot(x, x**3, 'g*--'); # línea punteada verde (g) con marcador de *"
      ],
      "execution_count": null,
      "outputs": []
    },
    {
      "cell_type": "markdown",
      "metadata": {
        "id": "RWkOZ7EFuMvF"
      },
      "source": [
        "#### **3.3.2. Colores usando el argumento `color`**\n",
        "---\n",
        "Podemos definir colores por sus nombres o códigos hexadecimales RGB y, opcionalmente, proporcionar un valor *alfa* de transparencia utilizando los argumentos de palabras clave **`color`** y **`alpha`**. El valor alfa indica la opacidad o transparencia del elemento. Para más información del código de colores consulte la siguiente [página](https://www.w3schools.com/colors/colors_picker.asp), en donde encontrará un selector con el código de colores usado.\n",
        "\n",
        "\n"
      ]
    },
    {
      "cell_type": "code",
      "metadata": {
        "id": "_OW0Vc4uuMvG"
      },
      "source": [
        "fig, ax = plt.subplots()\n",
        "\n",
        "ax.plot(x, x+1, color=\"red\", alpha=0.5)     # Medio-transparente (alpha=0.5)\n",
        "ax.plot(x, x+2, color=\"#10109C\")            # Código hexadecimal RGB\n",
        "ax.plot(x, x+3, color=(0.9,0.8,0.2,0.75))   # Valores porcentuales de los valores RGBA\n"
      ],
      "execution_count": null,
      "outputs": []
    },
    {
      "cell_type": "markdown",
      "metadata": {
        "id": "cb09XPkduMvK"
      },
      "source": [
        "#### **3.3.3. Estilos de líneas y marcadores**\n",
        "---\n",
        "Para cambiar el ancho de línea se utiliza el argumento **`linewidth`** (o su abreviación **`lw`**). El estilo de línea se puede seleccionar mediante el argumento **`linestyle`** (o **`ls`**). En la siguiente celda se presentan muchos ejemplos donde se pueden ver otros parámetros que se podrían personalizar adicionalmente:"
      ]
    },
    {
      "cell_type": "code",
      "metadata": {
        "id": "aFfIn-PCuMvK"
      },
      "source": [
        "fig, ax = plt.subplots(figsize=(12,6))\n",
        "\n",
        "# linewidth\n",
        "ax.plot(x, x+1, color=\"red\", linewidth=0.25)\n",
        "ax.plot(x, x+2, color=\"red\", linewidth=0.50)\n",
        "ax.plot(x, x+3, color=\"red\", linewidth=1.00)\n",
        "ax.plot(x, x+4, color=\"red\", linewidth=5.00)\n",
        "\n",
        "# linestyle: ‘-‘, ‘-.’, ‘:’, ‘steps’\n",
        "ax.plot(x, x+5, color=\"green\", lw=3, linestyle='-')\n",
        "ax.plot(x, x+6, color=\"green\", lw=3, ls='-.')\n",
        "ax.plot(x, x+7, color=\"green\", lw=3, ls=':')\n",
        "\n",
        "# Línea personalizada\n",
        "line, = ax.plot(x, x+8, color=\"black\", lw=1.50)\n",
        "line.set_dashes([15, 2, 15, 10]) # formato: longitud de línea, longitud de espacio, ...\n",
        "\n",
        "# Marcadores: marker = '+', 'o', '*', 's', ',', '.', '1', '2', '3', '4', ...\n",
        "ax.plot(x, x+ 9, color=\"blue\", lw=0.5, ls='-', marker='+')\n",
        "ax.plot(x, x+10, color=\"blue\", lw=2, ls='--', marker='o')\n",
        "ax.plot(x, x+11, color=\"blue\", lw=2, ls='-', marker='s')\n",
        "ax.plot(x, x+12, color=\"blue\", lw=2, ls='--', marker='1')\n",
        "\n",
        "# Tamaño y color del marcador\n",
        "ax.plot(x, x+13, color=\"purple\", lw=1, ls='-', marker='o', markersize=2)\n",
        "ax.plot(x, x+14, color=\"purple\", lw=1, ls='-', marker='o', markersize=4)\n",
        "ax.plot(x, x+15, color=\"purple\", lw=1, ls='-', marker='o', markersize=8, markerfacecolor=\"red\")\n",
        "ax.plot(x, x+16, color=\"purple\", lw=1, ls='-', marker='s', markersize=8,\n",
        "        markerfacecolor=\"yellow\", markeredgewidth=3, markeredgecolor=\"green\");"
      ],
      "execution_count": null,
      "outputs": []
    },
    {
      "cell_type": "markdown",
      "metadata": {
        "id": "h-YfdR-4uMvP"
      },
      "source": [
        "### **3.4. Rango de los ejes**\n",
        "---\n",
        "\n",
        "Podemos configurar los rangos de los ejes usando los métodos **`set_ylim`** y **`set_xlim`** del objeto del eje, o llamando al método **`autoscale(tight = True)`** para obtener automáticamente rangos de ejes \"ajustados\":"
      ]
    },
    {
      "cell_type": "code",
      "metadata": {
        "id": "nhihX_sSuMvQ"
      },
      "source": [
        "fig, axes = plt.subplots(1, 3, figsize=(12, 4))\n",
        "\n",
        "axes[0].plot(x, x**2) # Se puede graficar sobre la misma figura llamando varias veces a plot()\n",
        "axes[0].plot(x, x**3)\n",
        "axes[0].set_title(\"Rango de ejes por defecto\")\n",
        "\n",
        "axes[1].plot(x, x**2, x, x**3) # Se puede hacer esto en una sola línea\n",
        "axes[1].autoscale(axis='both', tight=True)     #axis : ['both' | 'x' | 'y']; por defecto: 'both'\n",
        "axes[1].set_title(\"Rango ajustado\")\n",
        "\n",
        "axes[2].plot(x, x**2, x, x**3)\n",
        "axes[2].set_xlim([1, 2])\n",
        "axes[2].set_ylim([1, 10])\n",
        "axes[2].set_title(\"Rango personalizado\"); # Esta subfigura muestra un zoom sobre la figura original en un rango personalizado"
      ],
      "execution_count": null,
      "outputs": []
    },
    {
      "cell_type": "markdown",
      "metadata": {
        "id": "22qNOqyufkW8"
      },
      "source": [
        "### **3.5. Ocultar elementos**\n",
        "---\n",
        "\n",
        "Además de la personalización descrita hasta ahora, *Matplotlib* permite ocultar componentes de la visualización, como los ejes, etiquetas o leyenda. En la mayoría de los casos es suficiente con no especificar el elemento. Por ejemplo, si se desea ocultar los ticks (marcas \"-\") de los ejex $x$ y $y$, se puede acceder a ellos y ocultarlos con el método **`set_visible`**."
      ]
    },
    {
      "cell_type": "code",
      "metadata": {
        "id": "Gn8PyZQyfipQ"
      },
      "source": [
        "fig, ax = plt.subplots()\n",
        "ax.xaxis.set_visible(False) # Ocultar los tics del eje X."
      ],
      "execution_count": null,
      "outputs": []
    },
    {
      "cell_type": "markdown",
      "metadata": {
        "id": "c4CJwJ5sgwuv"
      },
      "source": [
        "Si se quieren eliminar o personalizar las líneas que rodean a los ejes, se puede usar el método **`axis`** en un objeto **`Axes`** con el argumento **`'off'`**."
      ]
    },
    {
      "cell_type": "code",
      "metadata": {
        "id": "6kgzVXs4gvFS"
      },
      "source": [
        "fig, ax = plt.subplots()\n",
        "ax.plot(x, y)\n",
        "ax.axis('off'); # Si el parámetro ingresado es 'off', ningún eje se visualizará."
      ],
      "execution_count": null,
      "outputs": []
    },
    {
      "cell_type": "markdown",
      "metadata": {
        "id": "TyQJ0rs1uMud"
      },
      "source": [
        "## **4. Exportar Figuras**\n",
        "---\n",
        "\n",
        "*Matplotlib* permite generar archivos de alta calidad en varios formatos, como PNG, JPG, EPS, SVG, PGF y PDF.\n",
        "\n",
        "Para guardar una figura en un archivo, podemos usar el método **`savefig`** de la clase **`Figure`**, el cual recibe como parámetro obligatorio el nombre del archivo de salida, con la extensión que define el formato del archivo generado. Además, acepta otros argumentos que permiten modificar la calidad y características del archivo generado.\n"
      ]
    },
    {
      "cell_type": "code",
      "metadata": {
        "id": "j3fOEnnAfHs-"
      },
      "source": [
        "fig, ax = plt.subplots(dpi = 150)\n",
        "ax.plot(x, y, 'rp');"
      ],
      "execution_count": null,
      "outputs": []
    },
    {
      "cell_type": "markdown",
      "metadata": {
        "id": "3nvEMmReuMug"
      },
      "source": [
        "También se puede especificar el *DPI* en el momento de la generación del archivo:"
      ]
    },
    {
      "cell_type": "code",
      "metadata": {
        "id": "i4bBPcl3uMuj"
      },
      "source": [
        "fig.savefig(\"figura_dpi200.png\", dpi=200)"
      ],
      "execution_count": null,
      "outputs": []
    },
    {
      "cell_type": "code",
      "metadata": {
        "id": "hldfcuoHuMum"
      },
      "source": [
        "# Generando un PDF\n",
        "fig.savefig(\"figura.pdf\")"
      ],
      "execution_count": null,
      "outputs": []
    },
    {
      "cell_type": "code",
      "metadata": {
        "id": "QO_cN_YjuMud"
      },
      "source": [
        "fig.savefig(\"figura.png\",\n",
        "            transparent=True, #Generar imagen con transparencia\n",
        "            dpi = 200)"
      ],
      "execution_count": null,
      "outputs": []
    },
    {
      "cell_type": "markdown",
      "metadata": {
        "id": "bwZoKJpsekc2"
      },
      "source": [
        "Antes de continuar, descargue a su computador las imágenes que acaba de exportar e inspecciónelas localmente. Si está trabajando en **Google Colaboratory**, podrá encontrarlas en el sistema de archivos de *colab*, haciendo clic sobre el ícono del directorio en la parte izquierda de la ventana.   "
      ]
    },
    {
      "cell_type": "markdown",
      "metadata": {
        "id": "-XGkbPHUfGIa"
      },
      "source": [
        "> **IMPORTANTE:** Siempre que sea posible, le recomendamos exportar las figuras a [formatos vectoriales](https://es.wikipedia.org/wiki/Gr%C3%A1fico_vectorial) como PDF, EPS o SVG. Esto le garantizará mantener la mejor resolución y calidad en sus visualizaciones."
      ]
    },
    {
      "cell_type": "markdown",
      "metadata": {
        "id": "lgnF_7hxhtEm"
      },
      "source": [
        "*Matplotlib* dispone de otro módulo para el manejo de imágenes. Aunque su revisión está por fuera del alcance de esta guía. Se utilizará a continuación para cargar y mostrar la imagen generada en formato **`PNG`**."
      ]
    },
    {
      "cell_type": "code",
      "metadata": {
        "id": "QinY7PK1epfy"
      },
      "source": [
        "import matplotlib.image as mpimg\n",
        "img = mpimg.imread('figura.png')\n",
        "\n",
        "fig, ax = plt.subplots(dpi = 150)\n",
        "ax.axis('off')\n",
        "\n",
        "plt.imshow(img);"
      ],
      "execution_count": null,
      "outputs": []
    },
    {
      "cell_type": "markdown",
      "metadata": {
        "id": "nYqdqm_nuMvS"
      },
      "source": [
        "## **5. Tipos de gráficos especiales**\n",
        "---\n",
        "\n",
        "Al igual que con *Pandas*, en *Matplotlib* se pueden crear varios tipos de gráficos estadísticos comunes: gráficas de barras, histogramas, diagramas de dispersión, y muchos más. La mayoría de estos gráficos los crearemos en el siguiente material usando ***Seaborn***, una librería especializada en la construcción de visualizaciones de datos estadísticos para *Python*. Sin embargo, aquí se presentan algunos ejemplos con *matplotlib*, que son los usados por el submódulo **`plot`** de *pandas*.\n",
        "\n",
        "La forma de uso de estas funciones, es similar al de la función **`plot`**; se envían como argumentos básicos los datos a graficar contenidos en dos arreglos, y es posible la personalización de algunas propiedades del gráfico de acuerdo con el tipo de visualización que se esté usando mediante el envío de argumentos opcionales.\n"
      ]
    },
    {
      "cell_type": "markdown",
      "metadata": {
        "id": "RyFAZXT_ZT0J"
      },
      "source": [
        "### **5.1. Diagramas de dispersión: `scatter()`**\n",
        "---\n",
        "\n",
        "En el ejemplo siguiente se usa la función **`scatter`**, con la cual se grafican los datos como se ve en el ejemplo. Adicionalmente permite uso de algunos modificadores como el caso de **`'marker'`** para definir la representación de los puntos en la gráfica."
      ]
    },
    {
      "cell_type": "code",
      "metadata": {
        "id": "Vf5_prQOuMvT"
      },
      "source": [
        "x_s = np.random.randn(150)\n",
        "y_s = np.random.randn(150)\n",
        "\n",
        "plt.figure(dpi = 100)\n",
        "plt.scatter(x_s, y_s, marker='+');"
      ],
      "execution_count": null,
      "outputs": []
    },
    {
      "cell_type": "markdown",
      "metadata": {
        "id": "X-gjSC8MZpSi"
      },
      "source": [
        "### **5.2. Histogramas: `hist()`**\n",
        "---\n",
        "\n",
        "Esta función permite la diagramación de los datos con estilo tipo histograma, como se discutió en la Unidad 2.\n",
        "\n",
        "El parámetro **bins** define la cantidad de barras para el diagrama (intervalos de clase), este puede ser un valor numérico, un rango, o una cadena. Para el caso de una cadena, esta debe corresponder a uno de los valores preestablecidos, los cuales puede consultar en la [documentación](https://matplotlib.org/api/_as_gen/matplotlib.pyplot.hist.html) en donde también se detallan los parámetros que acepta esta función.\n"
      ]
    },
    {
      "cell_type": "code",
      "metadata": {
        "id": "Kbfmfbk-uMvW"
      },
      "source": [
        "data = np.random.randint(1, 100, 50)  # De esta forma se genera un arreglo de 500 elementos con valores aleatorios comprendidos entre 1 y 100\n",
        "plt.hist(data, bins=8, width=5);   # bins define el número de barras (10 por defecto)"
      ],
      "execution_count": null,
      "outputs": []
    },
    {
      "cell_type": "markdown",
      "metadata": {
        "id": "5VvwVVynqT6v"
      },
      "source": [
        "### **5.3. Gráfica de cajas: `boxplot()`**\n",
        "---\n",
        "Mediante esta función se grafican los datos en un diagrama de cajas. Para el ejemplo siguiente se grafican los diagramas de caja de tres arreglos generados aleatoriamente con desviación estándar de 1, 2 y 3 respectivamente:"
      ]
    },
    {
      "cell_type": "code",
      "metadata": {
        "id": "987p3x9huMvZ"
      },
      "source": [
        "data = [np.random.normal(0, std, 100) for std in range(1, 4)] # Contendrá 3 arreglos de 100 elementos cada uno,\n",
        "                                                              # con valores aleatorios de distribución normal\n",
        "                                                              # con desviación estándar variando entre 1 y 3"
      ],
      "execution_count": null,
      "outputs": []
    },
    {
      "cell_type": "code",
      "metadata": {
        "id": "PIJCRHgomCEb"
      },
      "source": [
        "# Boxplot rectangular\n",
        "plt.figure()\n",
        "plt.boxplot(data, vert=True, patch_artist=True)\n",
        "plt.show()"
      ],
      "execution_count": null,
      "outputs": []
    },
    {
      "cell_type": "markdown",
      "metadata": {
        "id": "4r5hSQAz6d-g"
      },
      "source": [
        "## **Recursos adicionales**\n",
        "---\n",
        "Los siguientes enlaces corresponden a sitios en donde encontrará información muy útil para profundizar en el conocimiento de las funcionalidades de la librería *Matplotlib*:\n",
        "\n",
        "\n",
        "* [*Matplotlib*: Visualization with Python](http://www.matplotlib.org)\n",
        "* [Matplotlib Gallery - (Ejemplos)](http://matplotlib.org/gallery.html) - Se recomienda revisar la galería y ajustar el código de las visualizaciones requeridas.\n",
        "* [Nicolas P. Rougier - *Matplotlib* tutorial](http://www.labri.fr/perso/nrougier/teaching/matplotlib/)\n",
        "* [IBM (Coursera) - Data Visualization with *Python*](https://www.coursera.org/learn/python-for-data-visualization)\n",
        "* [DataCamp - Introduction to Data Visualization with *Matplotlib*](https://www.datacamp.com/courses/introduction-to-matplotlib)\n",
        "\n"
      ]
    },
    {
      "cell_type": "markdown",
      "metadata": {
        "id": "z4VavQ3wgMGo"
      },
      "source": [
        "## **Créditos**\n",
        "---\n",
        "\n",
        "* **Profesor:** [Felipe Restrepo Calle](https://dis.unal.edu.co/~ferestrepoca/)\n",
        "* **Asistente docente:** Alberto Nicolai Romero Martínez\n",
        "\n",
        "**Universidad Nacional de Colombia** - *Facultad de Ingeniería*"
      ]
    }
  ]
}