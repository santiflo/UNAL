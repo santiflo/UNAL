{
  "nbformat": 4,
  "nbformat_minor": 0,
  "metadata": {
    "colab": {
      "provenance": []
    },
    "kernelspec": {
      "name": "python3",
      "display_name": "Python 3"
    }
  },
  "cells": [
    {
      "cell_type": "markdown",
      "metadata": {
        "id": "fb9pUStUq6xf"
      },
      "source": [
        "<img src = \"https://drive.google.com/uc?export=view&id=1XN22c7U27IGl71aGFywSHAuEfjH-PAam\" alt = \"Encabezado MLDS\" width = \"100%\">  </img>"
      ]
    },
    {
      "cell_type": "markdown",
      "metadata": {
        "id": "4P-aXUSffVPX"
      },
      "source": [
        "#**Tarea 4 : Visualización de datos con *Python***\n",
        "---\n",
        "\n",
        "Esta es una tarea para practicar las habilidades adquiridas usando *Matplotlib* y *Seaborn* en la construcción de visualizaciones de información. Utilizaremos el *dataset* de pasajeros del ***Titanic***, uno de los *dataset* más populares en el área de la ciencia de datos, disponible en plataformas como [Kaggle](https://www.kaggle.com/c/titanic/data?select=train.csv). Este conjunto de datos está disponible en la librería *Seaborn*.\n",
        "\n",
        "El conjunto de datos cuenta con información personal de los pasajeros del *Titanic* y datos acerca de su supervivencia en el trágico evento:\n",
        "\n",
        "| Variable | Definición\t| Valores |\n",
        "| --- | --- | --- |\n",
        "| survived \\| alive | \tSobreviviente  | \t[0\\|no] = No, [1\\|yes] = Sí |\n",
        "| pclass \\| class\t| Clase del tiquete | \t1 = [1\\|First], 2 = [2\\|Second], 3 = [3\\|Third]\n",
        "| sex \t| Sexo \t| 'male', 'female' |\n",
        "| Age |\tEdad en años \t| |\n",
        "| sibsp |\t# de hermanos / cónyuge abordo del Titanic \t| |\n",
        "| parch |\t# de padres / hijos abordo del Titanic \t| |\n",
        "| fare \t| Costo del ticket | |\n",
        "| embarked |\tPuerto de embarque |\tC = Cherbourg, Q = Queenstown, S = Southampton |\n",
        "| who |\tSi es hombre, mujer o niño. | 'man', 'woman', 'child'  |\n",
        "| adult_male \t| Si es un hombre mayor de edad. | True, False\t|\n",
        "| deck |\tIdentificación de la cubierta/cabina.| 'A', 'B', 'C', 'D', 'E', 'F', 'G' |\n",
        "| alone |\tSi había embarcado solo.| True, False |\n",
        "\n",
        "\n",
        "\n",
        "En esta tarea usted deberá recrear algunas visualizaciones de ejemplo usando *Python* y sus librerías de visualización presentadas esta semana. Recuerde almacenar en una variable el objeto retornado por la función para la correcta calificación.\n",
        "\n",
        "> **Nota:** Esta tarea va a ser calificada en la plataforma **[UNCode](https://juezun.github.io/)**. Para esto, en cada ejercicio se indicará si es calificable o no, también los lugares donde debe escribir su código sin modificar lo demás con un aproximado de cantidad de líneas a escribir. No se preocupe si su código toma más líneas, esto es simplemente un aproximado destinado a que pueda replantear su estrategia si el código está tomando más de las esperadas. No es un requisito estricto y soluciones más largas también son válidas. Al finalizar, para realizar el envío (*submission*), descargue el notebook como un archivo **`.ipynb`** y haga su entrega a través de la plataforma de aprendizaje."
      ]
    },
    {
      "cell_type": "markdown",
      "metadata": {
        "id": "Ggs5x9YqdQKB"
      },
      "source": [
        "Ejecute la siguiente celda para importar las librerías."
      ]
    },
    {
      "cell_type": "code",
      "metadata": {
        "id": "weiA_rsqvelx"
      },
      "source": [
        "#Importar librerías\n",
        "import numpy as np\n",
        "import pandas as pd\n",
        "import matplotlib.pyplot as plt\n",
        "import matplotlib as mpl\n",
        "import seaborn as sns\n",
        "%matplotlib inline\n",
        "plt.rcParams['figure.dpi'] = 110"
      ],
      "execution_count": null,
      "outputs": []
    },
    {
      "cell_type": "code",
      "metadata": {
        "id": "YIRLOqN-hwtg"
      },
      "source": [
        "#TEST_CELL\n",
        "!python --version\n",
        "print('Pandas', pd.__version__)\n",
        "print('NumPy', np.__version__)\n",
        "print('Matplotlib', mpl.__version__)\n",
        "print('Seaborn', sns.__version__)"
      ],
      "execution_count": null,
      "outputs": []
    },
    {
      "cell_type": "markdown",
      "metadata": {
        "id": "ElYRIkj3hwtj"
      },
      "source": [
        "Este material fue realizado con las siguientes versiones:\n",
        "\n",
        "- Python 3.10.6\n",
        "- NumPy 1.22.4\n",
        "- Pandas 1.5.3\n",
        "- Matplotlib 3.7.1\n",
        "- Seaborn 0.12.2\n",
        "\n",
        "> **Nota:** Recuerde usar los alias y convenciones de la celda anterior en su código. UNCode no tendrá en cuenta librerías que importe en otras celdas y podrían afectar el tiempo de ejecución de los problemas. Estos son:\n",
        "  *  **Pandas**: **`pd`**\n",
        "  *  **NumPy**: **`np`**\n",
        "  *  **Matplotlib Pyplot**: **`plt`**\n",
        "  *  **Seaborn**: **`sns`**\n",
        "\n"
      ]
    },
    {
      "cell_type": "markdown",
      "metadata": {
        "id": "adqf_QGVpsMi"
      },
      "source": [
        "## **0.  Leer el archivo de datos**\n",
        "---\n",
        "En esta ocasión importaremos el archivo de datos aprovechando la utilidad de carga de conjuntos de datos comunes de *Seaborn*."
      ]
    },
    {
      "cell_type": "code",
      "metadata": {
        "id": "fKqVYXazMuqa"
      },
      "source": [
        "# Creando los datos  (EJECUTE ESTA CELDA SIN MODIFICARLA)\n",
        "titanic = sns.load_dataset('titanic', data_home='./')\n",
        "titanic.head()"
      ],
      "execution_count": null,
      "outputs": []
    },
    {
      "cell_type": "code",
      "metadata": {
        "id": "ouw2lvjPNL_S"
      },
      "source": [
        "#TEST_CELL\n",
        "titanic.info()"
      ],
      "execution_count": null,
      "outputs": []
    },
    {
      "cell_type": "markdown",
      "metadata": {
        "id": "LjpNvenZ9HNA"
      },
      "source": [
        "En los siguientes ejercicios deberá replicar las figuras que se presentan a continuación usando las librerías mencionadas. No se preocupe por replicar exactamente los mismos colores, sino las figuras como tal. La mayoría de figuras se puede recrear usando solamente una o dos líneas de código. Preste especial atención a las etiquetas $x$ y $y$ de los ejes pues no se le brindará mucha más información."
      ]
    },
    {
      "cell_type": "code",
      "metadata": {
        "id": "q3tuzz-d-y6h"
      },
      "source": [
        "sns.set_style('whitegrid') #Se usará este estilo en los casos de ejemplo que utilicen Seaborn."
      ],
      "execution_count": null,
      "outputs": []
    },
    {
      "cell_type": "markdown",
      "metadata": {
        "id": "LJCLzGMFBmPf"
      },
      "source": [
        "## **1. Correlación entre variables numéricas**\n",
        "---\n",
        "\n",
        "Inicialmente queremos conocer la correlación entre las variables numéricas del *dataset*. Para esto, no solamente calcularemos la matriz de correlación lineal entre cada una, sino que **graficaremos un mapa de calor** con el resultado.\n",
        "\n",
        "En este ejercicio deberá recrear el mapa de calor presentado a continuación utilizando la librería *Seaborn*.\n",
        "> Para la imagen de referencia utilizamos el *colormap* **`coolwarm`**\n",
        "\n",
        "Almacene el resultado de la función de visualización en la variable **`titanic_corr_matrix`**."
      ]
    },
    {
      "cell_type": "markdown",
      "metadata": {
        "id": "MLGwxvJnmbV3"
      },
      "source": [
        "<details>    \n",
        "<summary>\n",
        "    <font size=\"3\" color=\"darkgreen\"><b>Pistas</b></font>\n",
        "</summary>\n",
        "\n",
        "* Para este ejercicio deberá utilizar conceptos usados en las unidades anteriores. Primero es necesario calcular la matriz de correlación y después graficar el mapa de calor.\n",
        "* Ponga especial atención a los detalles. Teniendo en cuenta que los valores de los coeficientes de correlación están en el rango $-1.0$ a $1.0$, fijaremos estos valores como el mínimo (`vmin`) y máximo (`vmax`) en el mapa de calor, respectivamente.\n",
        "* Tenga presente la documentación de las funciones de visualización. Según la función que utilice, los argumentos a utilizar para definir los parámetros podrían variar.\n",
        "* Deberá agregar el título de la gráfica por su cuenta. Para esto, utilice métodos de objetos **`Axes`** de *Matplotlib* como **`set_title`** sobre el objeto **`titanic_corr_matrix`**.\n",
        "\n",
        "* La cadena de texto exacta usada en este ejercicio es:\n",
        "  * **Título**: `'Correlation heatmap'`"
      ]
    },
    {
      "cell_type": "code",
      "metadata": {
        "id": "dGYkoN86_pUM"
      },
      "source": [
        "## VARIABLE CALIFICADA: titanic_corr_matrix\n",
        "### ESCRIBA SU CÓDIGO AQUÍ ### (~ 1-2 líneas de código)\n",
        "\n",
        "titanic_corr_matrix = None\n",
        "### FIN DEL CÓDIGO ###\n",
        "\n",
        "titanic_corr_matrix"
      ],
      "execution_count": null,
      "outputs": []
    },
    {
      "cell_type": "markdown",
      "metadata": {
        "id": "SWjnAGXrsi22"
      },
      "source": [
        "**Salida esperada:**\n",
        "\n",
        "\n",
        " ```\n",
        "<matplotlib.axes._subplots.AxesSubplot at 0x____________>\n",
        "```\n",
        "![corr matrix](https://drive.google.com/uc?export=view&id=1MvaC9DfubQcRZhmz9GOENgou55_YGAwk)"
      ]
    },
    {
      "cell_type": "code",
      "metadata": {
        "id": "hA8GBX-x2PwG"
      },
      "source": [
        "# NO ELIMINAR - NECESARIO PARA LA CORRECTA CALIFICACIÓN\n",
        "titanic_corr_matrix.get_figure().show()\n",
        "plt.close()"
      ],
      "execution_count": null,
      "outputs": []
    },
    {
      "cell_type": "markdown",
      "metadata": {
        "id": "wQcjinKL_pUM"
      },
      "source": [
        "## **2. Tarifa del tiquete**\n",
        "---\n",
        "\n",
        "Vamos a explorar las tarifas pagadas por los pasajeros en el embarque del *Titanic*.  Algunas de las personas embarcadas hacían parte de la tripulación.\n",
        "¿Cuál fue el valor de su tarifa? ¿Los precios estaban claramente distribuidos por clases?\n"
      ]
    },
    {
      "cell_type": "markdown",
      "metadata": {
        "id": "aq9gYb6XIZzm"
      },
      "source": [
        "### **2.1. Distribución de la tarifa**\n",
        "---\n",
        "\n",
        "Primero deberá representar gráficamente la distribución de la tarifa del tiquete de ingreso de los pasajeros a bordo del *Titanic* por medio de un **histograma**.\n",
        "\n",
        "> * Para la imagen de referencia utilizamos el color naranja (**`orange`**).\n",
        "* Para este ejercicio deberá utilizar $10$ intervalos de clase (**`bins`**).\n",
        "\n",
        "Almacene el resultado de la función de visualización en la variable **`titanic_dist_tarifa`**."
      ]
    },
    {
      "cell_type": "markdown",
      "metadata": {
        "id": "7Y-HIBZ8zfBw"
      },
      "source": [
        "<details>    \n",
        "<summary>\n",
        "    <font size=\"3\" color=\"darkgreen\"><b>Pistas</b></font>\n",
        "</summary>\n",
        "\n",
        "* Deberá seleccionar los datos de la tarifa (**`fare`**) y después representar su distribución por medio de un histograma usando *Seaborn* o *Matplotlib*.\n",
        "* Tenga presente la documentación de las funciones de visualización.\n",
        "* En este ejercicio **SÍ** se evaluará el color de la figura. Utilice el nombre del color **`orange`**.\n",
        "* Deberá agregar el título y etiquetas de los ejes por su cuenta. Para esto, utilice métodos de objetos **`Axes`** de *Matplotlib* como **`set_title`** y **`set_xlabel`** sobre el objeto **`titanic_dist_tarifa`**.\n",
        "* Las cadenas de texto exactas usadas en este ejercicio son:\n",
        "  * **Título**: `'Fare distribution'`\n",
        "  * **Etiqueta del eje X**: `'Fare'`\n",
        "  * **Etiqueta del eje Y**: `'Passenger count'`\n"
      ]
    },
    {
      "cell_type": "code",
      "metadata": {
        "id": "N-_pbkzP97lB"
      },
      "source": [
        "## VARIABLE CALIFICADA: titanic_dist_tarifa\n",
        "### ESCRIBA SU CÓDIGO AQUÍ ### (~ 4 línea de código)\n",
        "titanic_dist_tarifa = None\n",
        "### FIN DEL CÓDIGO ###\n",
        "\n",
        "titanic_dist_tarifa"
      ],
      "execution_count": null,
      "outputs": []
    },
    {
      "cell_type": "markdown",
      "metadata": {
        "id": "RCdHt5xtqe4S"
      },
      "source": [
        "**Salida esperada:**\n",
        "\n",
        "```\n",
        "<matplotlib.axes._subplots.AxesSubplot at 0x____________>\n",
        "```\n",
        "\n",
        "![fare_hist](https://drive.google.com/uc?export=view&id=1qR7KUCaesnWXIewc1WX5RkU3w_f2j_nb)"
      ]
    },
    {
      "cell_type": "code",
      "metadata": {
        "id": "sqUcLpBq2Yls"
      },
      "source": [
        "# NO ELIMINAR - NECESARIO PARA LA CORRECTA CALIFICACIÓN\n",
        "titanic_dist_tarifa.get_figure().show()\n",
        "plt.close()"
      ],
      "execution_count": null,
      "outputs": []
    },
    {
      "cell_type": "markdown",
      "metadata": {
        "id": "ErzxvhhKIXId"
      },
      "source": [
        "### **2.2. Tarifa del tiquete y edad**\n",
        "---\n",
        "\n",
        "En muchas ocasiones las tarifas están claramente diferenciadas entre niños, adultos, y adultos mayores. ¿Era éste el caso del transatlántico?\n",
        "\n",
        "En esta tarea deberá representar gráficamente la relación entre la tarifa del tiquete de ingreso y la edad de los pasajeros a bordo del *Titanic* como se presenta a continuación.\n",
        "\n",
        "> Esta vez no se personalizaron los estilos de la gráfica con la ayuda de sus argumentos.\n",
        "\n",
        "Almacene el resultado de la función de visualización en la variable **`titanic_edad_tarifa`**."
      ]
    },
    {
      "cell_type": "markdown",
      "metadata": {
        "id": "lwAxhSZM0kby"
      },
      "source": [
        "<details>    \n",
        "<summary>\n",
        "    <font size=\"3\" color=\"darkgreen\"><b>Pistas</b></font>\n",
        "</summary>\n",
        "<p>\n",
        "\n",
        "* Construya el gráfico de distribuciones conjuntas de *Seaborn* para explorar la relación entre las edades (**`age`**) de los pasajeros y sus tarifas (**`fare`**).\n",
        "* Para este ejercicio no debe hacer ninguna modificación especial. Es suficiente con identificar la función de visualización apropiada y usar los argumentos de datos correctos.\n",
        "\n",
        "\n",
        "</p>"
      ]
    },
    {
      "cell_type": "code",
      "metadata": {
        "id": "d87tz-ag_lsF"
      },
      "source": [
        "## VARIABLE CALIFICADA: titanic_edad_tarifa\n",
        "### ESCRIBA SU CÓDIGO AQUÍ ### (~ 1 línea de código)\n",
        "titanic_edad_tarifa = None\n",
        "### FIN DEL CÓDIGO ###\n",
        "\n",
        "titanic_edad_tarifa"
      ],
      "execution_count": null,
      "outputs": []
    },
    {
      "cell_type": "markdown",
      "metadata": {
        "id": "1d1Y6oaLzIGa"
      },
      "source": [
        "**Salida esperada:**\n",
        "\n",
        "```\n",
        "<seaborn.axisgrid.JointGrid at 0x____________>\n",
        "```\n",
        "\n",
        "![corr matrix](https://drive.google.com/uc?export=view&id=1FOeM2vLSlRSDLP5gU5mbi_LSInTzq8qh)"
      ]
    },
    {
      "cell_type": "code",
      "metadata": {
        "id": "_-GyR2wJ2bL8"
      },
      "source": [
        "# NO ELIMINAR - NECESARIO PARA LA CORRECTA CALIFICACIÓN\n",
        "titanic_edad_tarifa.fig.show()\n",
        "plt.close()"
      ],
      "execution_count": null,
      "outputs": []
    },
    {
      "cell_type": "markdown",
      "metadata": {
        "id": "XtVwKdar_p8k"
      },
      "source": [
        "## **3. Hombres, mujeres y niños**\n",
        "---\n",
        "\n",
        "Ahora, exploraremos la distribución de los pasajeros y tripulación, distinguiendo por género y edad, y analizando la relación que estas variables tuvieron con su supervivencia."
      ]
    },
    {
      "cell_type": "markdown",
      "metadata": {
        "id": "pgUHewjzH2i2"
      },
      "source": [
        "### **3.1. Distribución de edad de mujeres y hombres**\n",
        "---\n",
        "\n",
        "Primero, exploraremos la distribución de edades para mujeres y hombres en dos gráficas.\n",
        "\n",
        "En esta tarea deberá representar mediante dos **histogramas** la edad de los pasajeros en dos gráficas en la misma figura, usando para discriminar las distribuciones la variable categórica sexo (**`sex`**) como se muestra a continuación:\n",
        "\n",
        "> * Los diagramas son construidos como un **`FacetGrid`** de *Seaborn*.\n",
        "* La paleta de color usada en el ejemplo es el *colormap* **`cool`**.\n",
        "\n",
        "Almacene el resultado de la función de visualización en la variable **`titanic_sex_dist`**."
      ]
    },
    {
      "cell_type": "markdown",
      "metadata": {
        "id": "Ern2UX5q02vA"
      },
      "source": [
        "<details>    \n",
        "<summary>\n",
        "    <font size=\"3\" color=\"darkgreen\"><b>Pistas</b></font>\n",
        "</summary>\n",
        "<p>\n",
        "\n",
        "* La solución tiene que realizarse con **`FacetGrid`** de *Seaborn* junto con la función de visualización de *Matplotlib* para graficar histogramas. No utilice el método **`displot`** ni **`histplot`** en el proceso y utilice los *bins* por defecto.\n",
        "* Para la imagen de referencia utilizamos el *colormap* **`cool`** como paleta de color. Este *colormap* se define al generar el **`FacetGrid`** vacío.\n",
        "* Para este ejercicio, tanto el color como la columna son usados para diferenciar entre las dos categorías.\n",
        "</p>"
      ]
    },
    {
      "cell_type": "code",
      "metadata": {
        "id": "xIn67wLh_p8k"
      },
      "source": [
        "## VARIABLE CALIFICADA: titanic_sex_dist\n",
        "### ESCRIBA SU CÓDIGO AQUÍ ### (~ 2 líneas de código)\n",
        "titanic_sex_dist = None\n",
        "\n",
        "### FIN DEL CÓDIGO ###"
      ],
      "execution_count": null,
      "outputs": []
    },
    {
      "cell_type": "markdown",
      "metadata": {
        "id": "xErSmz2dzMdY"
      },
      "source": [
        "**Salida esperada:**\n",
        "\n",
        "```\n",
        "<seaborn.axisgrid.FacetGrid at 0x____________>\n",
        "```\n",
        "\n",
        "![gender hist](https://drive.google.com/uc?export=view&id=1jzc3m0I211QTeTpee7_o8vb2JSMg6zcZ)"
      ]
    },
    {
      "cell_type": "code",
      "metadata": {
        "id": "PvAJwfQO2gQg"
      },
      "source": [
        "# NO ELIMINAR - NECESARIO PARA LA CORRECTA CALIFICACIÓN\n",
        "titanic_sex_dist.fig.show()\n",
        "plt.close()"
      ],
      "execution_count": null,
      "outputs": []
    },
    {
      "cell_type": "markdown",
      "metadata": {
        "id": "MtngHtd6H2i1"
      },
      "source": [
        "### **3.2. Mujeres y niños primero**\n",
        "---\n",
        "Durante la emergencia, se siguió un protocolo de *\\\"mujeres y niños primero\\\"* para decidir las personas que iban a acceder a las naves de salvamento.\n",
        "\n",
        "En esta tarea usted debe representar gráficamente la cantidad de hombres, mujeres y niños que sobrevivieron y fallecieron en la tragedia. Para esto realice una **gráfica de barras** con el conteo de valores para cada caso como se muestra a continuación:\n",
        "\n",
        "> Para la imagen de referencia utilizamos el *colormap*  **`plasma`** como paleta de color.\n",
        "\n",
        "Almacene el resultado de la función de visualización en la variable **`titanic_mujeres_y_niños`**."
      ]
    },
    {
      "cell_type": "markdown",
      "metadata": {
        "id": "Z48UP5PE1Woq"
      },
      "source": [
        "<details>    \n",
        "<summary>\n",
        "    <font size=\"3\" color=\"darkgreen\"><b>Pistas</b></font>\n",
        "</summary>\n",
        "\n",
        "* Usa la función para graficar conteos de variables categóricas de *Seaborn*.\n",
        "* Fíjese en los nombres de las variables que va a utilizar. Algunas columnas son muy similares pero el resultado obtenido no es el mismo. En este caso puede usar la variable **`who`** que determina si el pasajero es hombre, mujer o niño.\n",
        "* Deberá agregar el título y etiquetas de los ejes por su cuenta. Para esto, utilice métodos de objetos **`Axes`** de *Matplotlib* como **`set_title`** y **`set_xlabel`** sobre el objeto **`titanic_mujeres_y_niños`**.\n",
        "* Las cadenas de texto exactas usadas en este ejercicio son:\n",
        "  * **Título**: `'Women and Children First'`\n",
        "  * **Etiqueta del eje X**: `'Category (W, M, C)'`\n",
        "  * **Etiqueta del eje Y**: `'Total of survivors'`"
      ]
    },
    {
      "cell_type": "code",
      "metadata": {
        "id": "i0eQMYG_H3Uo"
      },
      "source": [
        "## VARIABLE CALIFICADA: titanic_mujeres_y_niños\n",
        "### ESCRIBA SU CÓDIGO AQUÍ ### (~ 4 línea de código)\n",
        "titanic_mujeres_y_niños = None\n",
        "### FIN DEL CÓDIGO ###\n",
        "titanic_mujeres_y_niños"
      ],
      "execution_count": null,
      "outputs": []
    },
    {
      "cell_type": "markdown",
      "metadata": {
        "id": "B4tO9D-yzXdm"
      },
      "source": [
        "**Salida esperada:**\n",
        "\n",
        "```\n",
        "<matplotlib.axes._subplots.AxesSubplot at 0x____________>\n",
        "```\n",
        "\n",
        "![women and children](https://drive.google.com/uc?export=view&id=112uC0gwNZw_bRL5WtzqbRgQA-SOnqOOn)"
      ]
    },
    {
      "cell_type": "code",
      "metadata": {
        "id": "R_jvMxyS2jjs"
      },
      "source": [
        "# NO ELIMINAR - NECESARIO PARA LA CORRECTA CALIFICACIÓN\n",
        "titanic_mujeres_y_niños.get_figure().show()\n",
        "plt.close()"
      ],
      "execution_count": null,
      "outputs": []
    },
    {
      "cell_type": "markdown",
      "metadata": {
        "id": "ycBwGxeg_oq0"
      },
      "source": [
        "## **4. Primera, segunda y tercera clase**\n",
        "---\n",
        "\n",
        "En el momento de la tragedia, la evacuación se realizó dando prioridad con respecto a la clase de los pasajeros. Vamos a explorar la distribución de personas, por edad, que correspondían a cada clase para conocer cómo influyó esto en su supervivencia."
      ]
    },
    {
      "cell_type": "markdown",
      "metadata": {
        "id": "DiG5XfcZHZoW"
      },
      "source": [
        "### **4.1. Usando diagramas de cajas**\n",
        "---\n",
        "\n",
        "En este ejercicio deberá representar gráficamente la distribución y medidas de posición de las edades de los pasajeros a bordo del *Titanic* en cada clase utilizando una **diagramas de cajas** como se presenta a continuación:\n",
        "\n",
        "> Para la imagen de referencia utilizamos el *colormap* **`afmhot`** como paleta de color.\n",
        "\n",
        "Almacene el resultado de la función de visualización en la variable **`titanic_clase_cajas`**."
      ]
    },
    {
      "cell_type": "markdown",
      "metadata": {
        "id": "rPLg2Kx21mtW"
      },
      "source": [
        "<details>    \n",
        "<summary>\n",
        "    <font size=\"3\" color=\"darkgreen\"><b>Pistas</b></font>\n",
        "</summary>\n",
        "\n",
        "\n",
        "* Al construir el diagrama de cajas puede seleccionar una variable categórica en el eje *x* para conocer las distribuciones de cada grupo independientemente.\n",
        "* Fíjese en los nombres de las variables que va a utilizar. Algunas columnas son muy similares pero el resultado obtenido no es el mismo.\n",
        "* Deberá agregar el título y etiquetas de los ejes por su cuenta. Para esto, utilice métodos de objetos **`Axes`** de *Matplotlib* como **`set_title`** y **`set_xlabel`** sobre el objeto **`titanic_clase_cajas`**.\n",
        "* Las cadenas de texto exactas usadas en este ejercicio son:\n",
        "  * **Título**: `'Age distribution by class'`\n",
        "  * **Etiqueta del eje X**: `'Passenger travel class (I, II, III)'`\n",
        "  * **Etiqueta del eje Y**: `'Age (years)'`\n",
        "\n",
        "\n",
        "\n"
      ]
    },
    {
      "cell_type": "code",
      "metadata": {
        "id": "zVykfUy4_oq0"
      },
      "source": [
        "## VARIABLE CALIFICADA: titanic_clase_cajas\n",
        "### ESCRIBA SU CÓDIGO AQUÍ ### (~ 4 línea de código)\n",
        "titanic_clase_cajas = None\n",
        "### FIN DEL CÓDIGO ###\n",
        "\n",
        "titanic_clase_cajas"
      ],
      "execution_count": null,
      "outputs": []
    },
    {
      "cell_type": "markdown",
      "metadata": {
        "id": "4GhyvthbzgHQ"
      },
      "source": [
        "**Salida esperada:**\n",
        "\n",
        "```\n",
        "<matplotlib.axes._subplots.AxesSubplot at 0x____________>\n",
        "```\n",
        "\n",
        "![corr matrix](https://drive.google.com/uc?export=view&id=1dabmMGhnEldhINwGibRqbW65LJWufOpA)"
      ]
    },
    {
      "cell_type": "code",
      "metadata": {
        "id": "LqP6o9ry2nyY"
      },
      "source": [
        "# NO ELIMINAR - NECESARIO PARA LA CORRECTA CALIFICACIÓN\n",
        "titanic_clase_cajas.get_figure().show()\n",
        "plt.close()"
      ],
      "execution_count": null,
      "outputs": []
    },
    {
      "cell_type": "markdown",
      "metadata": {
        "id": "amWmwspzHd1G"
      },
      "source": [
        "### **4.2. Usando gráficas de enjambre**\n",
        "---\n",
        "\n",
        "En este ejercicio deberá representar gráficamente la distribución de las edades de los pasajeros a bordo del *Titanic* en cada clase utilizando una **gráfica de enjambre o *swarm plot***, además, deberá diferenciar entre los que sobrevivieron y los que no, así:\n",
        "\n",
        "> * La paleta de colores usada para la imagen de referencia es **`Set1`**.\n",
        "* El radio de los puntos es de $2$ unidades.\n",
        "\n",
        "\n",
        "Almacene el resultado de la función de visualización en la variable **`titanic_clase_swarm`**."
      ]
    },
    {
      "cell_type": "markdown",
      "metadata": {
        "id": "YFO0M4Hv1rqe"
      },
      "source": [
        "<details>    \n",
        "<summary>\n",
        "    <font size=\"3\" color=\"darkgreen\"><b>Pistas</b></font>\n",
        "</summary>\n",
        "\n",
        "* Use la función **`swarmplot`** de *Seaborn* para generar el diagrama de enjambre.\n",
        "* En esta gráfica las dos categorías (sobrevivientes / no sobrevivientes) deben estar bien diferenciadas entre sí. Use el parámetro **`dodge`** para conseguirlo.\n",
        "* Si el anterior punto es correcto, debería usar los mismos nombres de variables.\n",
        "* Configure el tono del color de acuerdo al valor de la variable categórica **`survived`**.\n",
        "* Deberá agregar el título y etiquetas de los ejes por su cuenta. Para esto, utilice métodos de objetos **`Axes`** de *Matplotlib* como **`set_title`** y **`set_xlabel`** sobre el objeto **`titanic_clase_swarm`**.\n",
        "* Las cadenas de texto exactas usadas en este ejercicio son:\n",
        "  * **Título**: `'Age distribution by class'`\n",
        "  * **Etiqueta del eje X**: `'Passenger travel class (I, II, III)'`\n",
        "  * **Etiqueta del eje Y**: `'Age (years)'`\n"
      ]
    },
    {
      "cell_type": "code",
      "metadata": {
        "id": "7PrDzHv5Hd1I"
      },
      "source": [
        "## VARIABLE CALIFICADA: titanic_clase_swarm\n",
        "### ESCRIBA SU CÓDIGO AQUÍ ### (~ 4 línea de código)\n",
        "titanic_clase_swarm = None\n",
        "### FIN DEL CÓDIGO ###\n",
        "\n",
        "titanic_clase_swarm"
      ],
      "execution_count": null,
      "outputs": []
    },
    {
      "cell_type": "markdown",
      "metadata": {
        "id": "2AU57JpqzmQK"
      },
      "source": [
        "**Salida esperada:**\n",
        "\n",
        "```\n",
        "<matplotlib.axes._subplots.AxesSubplot at 0x____________>\n",
        "```\n",
        "\n",
        "![swarm class](https://drive.google.com/uc?export=view&id=1f63pcf5SeSb-RvyIr8HKLvxiJlH02IqX)"
      ]
    },
    {
      "cell_type": "code",
      "metadata": {
        "id": "eZt2nnE02qB0"
      },
      "source": [
        "# NO ELIMINAR - NECESARIO PARA LA CORRECTA CALIFICACIÓN\n",
        "titanic_clase_swarm.get_figure().show()\n",
        "plt.close()"
      ],
      "execution_count": null,
      "outputs": []
    },
    {
      "cell_type": "markdown",
      "metadata": {
        "id": "QrU5ELZuMyF6"
      },
      "source": [
        "**¡Felicitaciones!** Ha terminado la tarea de la Unidad 4. ¡Buen trabajo!\n",
        "\n",
        "## **Entrega**\n",
        "\n",
        "Para entregar el notebook por favor haga lo siguiente:\n",
        "1. Descargue el notebook (`Archivo` -> `Descargar .ipynb`).\n",
        "2. Ingrese a la plataforma de aprendizaje.\n",
        "3. Realice el envío del *notebook* que descargó en la tarea (o quiz) correspondiente.\n",
        "4. Recuerde que si tiene algún error, puede hacer múltiples intentos."
      ]
    },
    {
      "cell_type": "markdown",
      "metadata": {
        "id": "JJbV7A38uZhC"
      },
      "source": [
        "## **Créditos**\n",
        "---\n",
        "\n",
        "* **Profesor:** [Felipe Restrepo Calle](https://dis.unal.edu.co/~ferestrepoca/)\n",
        "* **Asistentes docentes:**\n",
        "  - Alberto Nicolai Romero Martínez\n",
        "\n",
        "**Universidad Nacional de Colombia** - *Facultad de Ingeniería*\n"
      ]
    }
  ]
}