{
 "cells": [
  {
   "cell_type": "markdown",
   "metadata": {
    "id": "fb9pUStUq6xf"
   },
   "source": [
    "<img src = \"https://drive.google.com/uc?export=view&id=1XIxF92v5BOrpS63i6FMIXGddxAp8WSHd\" alt = \"Encabezado MLDS\" width = \"100%\">  </img>"
   ]
  },
  {
   "cell_type": "markdown",
   "metadata": {
    "id": "iOBugjpzfKzI"
   },
   "source": [
    "#**Quiz 5 : Estadística inferencial con *Python***\n",
    "---\n",
    "\n",
    "Este es un quiz para practicar las habilidades adquiridas usando *Python* en estadística inferencial. Utilizaremos el [dataset 80 Cereals](https://www.kaggle.com/crawford/80-cereals) de *Kaggle*. Para esto, previamente hemos realizado un proceso de limpieza y traducción adecuado para el ejercicio.\n",
    "\n",
    "Este conjunto de datos cuenta con información nutricional de una muestra de 80 cereales:\n",
    "\n",
    "| Variable | Definición\t| Valores |\n",
    "| --- | --- | --- |\n",
    "| nombre | \tNombre del producto  | \tCadenas de texto |\n",
    "| fabricante \t| Nombre del fabricante | 'Kelloggs', 'Quaker Oats', 'General Mills', 'Nabisco', etc  |\n",
    "| calorias \t| Calorías por porción. \t| Numéricos |\n",
    "| proteina |\tGramos de proteína. \t|Numéricos |\n",
    "| grasa |\tGramos de grasas saturadas. \t| Numéricos|\n",
    "| sodio |\tMiligramos de sodio. \t|Numéricos |\n",
    "| fibra dietaria |\tGramos de fibra dietaria. \t| Numéricos|\n",
    "| carbohidratos |\tGramos de carbohidratos complejos. \t|Numéricos |\n",
    "| potasio |\tMiligramos de potasio. \t|Numéricos |\n",
    "| vitaminas y minerales |\tPorcentaje de vitaminas y minerales. \t|Numéricos |\n",
    "\n",
    "\n",
    "\n",
    "En este quiz usted debe realizar un proceso de análisis de datos con *Python* con el objetivo de practicar los conceptos y habilidades aprendidas de estadística inferencial.\n",
    "\n",
    "> **Nota:** Esta tarea va a ser calificada en la plataforma **[UNCode](https://juezun.github.io/)**. Para esto, en cada ejercicio se indicará si es calificable o no, también los lugares donde debe escribir su código sin modificar lo demás con un aproximado de cantidad de líneas a escribir. No se preocupe si su código toma más líneas, esto es simplemente un aproximado destinado a que pueda replantear su estrategia si el código está tomando más de las esperadas. No es un requisito estricto y soluciones más largas también son válidas. Al finalizar, para realizar el envío (*submission*), descargue el notebook como un archivo **`.ipynb`** y haga su entrega a través de la plataforma de aprendizaje."
   ]
  },
  {
   "cell_type": "markdown",
   "metadata": {
    "id": "DRzX-aD3pG6T"
   },
   "source": [
    "Ejecute la siguiente celda para importar las librerías."
   ]
  },
  {
   "cell_type": "code",
   "execution_count": null,
   "metadata": {
    "id": "PWxZydM4Lzk3"
   },
   "outputs": [],
   "source": [
    "# Importar librerías\n",
    "import pandas as pd\n",
    "import numpy as np\n",
    "import scipy\n",
    "from scipy import stats\n",
    "import statsmodels.api as sm"
   ]
  },
  {
   "cell_type": "code",
   "execution_count": null,
   "metadata": {
    "id": "GEfXnD9mjd2V"
   },
   "outputs": [],
   "source": [
    "#TEST_CELL\n",
    "!python --version\n",
    "print('Pandas', pd.__version__)\n",
    "print('NumPy', np.__version__)\n",
    "print('SciPy', scipy.__version__)\n",
    "print('statsmodels', sm.__version__)"
   ]
  },
  {
   "cell_type": "markdown",
   "metadata": {
    "id": "ROZNbg6fpLpu"
   },
   "source": [
    "Este material fue realizado con las siguientes versiones:\n",
    "\n",
    "- Python 3.10.6\n",
    "- Pandas 1.5.3\n",
    "- NumPy 1.22.4\n",
    "- SciPy 1.10.1\n",
    "- statsmodels 0.13.5\n",
    "\n",
    "\n",
    "> **Nota:** Recuerde usar los alias y convenciones de la celda anterior en su código. UNCode no tendrá en cuenta librerías que importe en otras celdas y podrían afectar el tiempo de ejecución de los problemas. Estas son:\n",
    "  *  **Pandas**: **`pd`**\n",
    "  *  **NumPy**: **`np`**\n",
    "  *  **SciPy stats**: **`stats`**\n",
    "  *  **statsmodels**: **`sm`**\n",
    "\n"
   ]
  },
  {
   "cell_type": "markdown",
   "metadata": {
    "id": "kYfn30XJ_aff"
   },
   "source": [
    "## **0.  Leer el archivo de datos**\n",
    "---\n",
    "> **IMPORTANTE:**\n",
    "\n",
    "  1. Por favor descargue el archivo con el conjunto de datos desde el siguiente enlace: **[cerealsquiz.csv](https://raw.githubusercontent.com/JuezUN/datasets/master/cerealsquiz.csv)**.\n",
    "  \n",
    "  2. En el enlace, haga clic derecho y seleccione la opción **\"Guardar como...\"**.\n",
    "\n",
    "  3. Cargue este archivo en su sistema de archivos de **Google Colaboratory**. Para hacer esto:\n",
    "    \n",
    "    * Haga clic donde aparece el icono del directorio en la parte izquierda de la ventana en *Google Colaboratory* (resaltado en azul en la siguiente imagen con el número 1).\n",
    "    * Después, haga clic en el icono **\"Subir\"** (resaltado en azul en la siguiente imagen con el número 2).\n",
    "    * Seleccione el archivo **`titanic.csv`** que previamente descargó y haga clic en **\"Aceptar\"**.\n",
    "\n",
    "<img src = \"https://drive.google.com/uc?export=view&id=13W59jfdOpAn_DYIjpXt4WPBZiU7BlRGY\" alt = \"Sistema archivos colab\" width = \"70%\">  </img>\n",
    "\n",
    "4. Ejecute la siguiente celda para cargar el conjunto de datos dentro del DataFrame de *pandas* llamado **`cereal_df`**:"
   ]
  },
  {
   "cell_type": "code",
   "execution_count": null,
   "metadata": {
    "id": "Y9F6G_l5pKOZ"
   },
   "outputs": [],
   "source": [
    "### EJECUTAR ESTA CELDA SIN MODIFICARLA. SI FALLA, DEBE SEGUIR EL PROCEDIMIENTO DESCRITO ANTES.\n",
    "cereal_df = pd.read_csv('cerealsquiz.csv')\n",
    "\n",
    "cereal_df.head()"
   ]
  },
  {
   "cell_type": "code",
   "execution_count": null,
   "metadata": {
    "id": "i0Wctx6KkWRu"
   },
   "outputs": [],
   "source": [
    "#TEST_CELL\n",
    "cereal_df.info()"
   ]
  },
  {
   "cell_type": "markdown",
   "metadata": {
    "id": "aou37DeR_xd9"
   },
   "source": [
    "No se preocupe por el archivo del dataset en ***UNCode***, el ambiente de calificación ya cuenta con este archivo para calificar sus ejercicios."
   ]
  },
  {
   "cell_type": "markdown",
   "metadata": {
    "id": "zUcb7X0eGCAi"
   },
   "source": [
    "## **1. Valores nutricionales medios con confianza**\n",
    "---\n",
    "Usted es parte de un equipo que está trabajando en un análisis nutricional de la muestra de productos recolectada en el *dataset* de cereales. En un primer acercamiento se le encomienda la tarea de encontrar el valor promedio, en forma de intervalo de confianza, de la información nutricional de una variable dada (por ejemplo, el total de azúcar o calorias) de los productos de un fabricante específico de cereales.\n",
    "\n",
    "Para esto, deberá definir la función **`valor_medio_intervalo`**, que tomará como entrada el nombre del **`fabricante`**, la columna o **`variable`** sobre la que debe realizar el cálculo y el nivel de **`confianza`** deseado para el cálculo del intervalo.\n",
    "\n",
    "**Entradas:**\n",
    "  * **`fabricante`**: Nombre del fabricante (**_Kelloggs_, _Quaker Oats_, _General Mills_, etc**).\n",
    "  * **`variable`**: Nombre de la variable numérica sobre la que se realiza el cálculo (**azúcares, grasa, proteina, etc**).\n",
    "  * **`confianza`**: Nivel **$\\beta$** de confianza del intervalo.\n",
    "\n",
    "**Salidas:**\n",
    "  * **`inicio`**: Límite inferior del intervalo de confianza.\n",
    "  * **`final`**:  Límite superior del intervalo de confianza.\n",
    "\n",
    "\n",
    "Por ejemplo, si un miembro del equipo desea conocer el valor medio de **azúcar** del fabricante ***Kelloggs*** con un $95\\%$ de confianza, el resultado de la ejecución debería ser el siguiente intervalo:\n",
    "\n",
    "```python\n",
    ">>> valor_medio_intervalo('Kelloggs', 'azúcar', 0.95)\n",
    "(5.618939147403277, 9.511495635205419)\n",
    "```"
   ]
  },
  {
   "cell_type": "markdown",
   "metadata": {
    "id": "MLGwxvJnmbV3"
   },
   "source": [
    "<details>    \n",
    "<summary>\n",
    "    <font size=\"3\" color=\"darkgreen\"><b>Pistas</b></font>\n",
    "</summary>\n",
    "<p>\n",
    "\n",
    "* Recuerde la distinción entre nivel de **confianza** ($\\beta$) y nivel de  **significancia** ($\\alpha$).\n",
    "* Puede realizar selección condicional en un eje y selección por etiquetas en otro con el atributo **`.loc`** para obtener el *dataset* seleccionando únicamente con los datos de interés.\n",
    "* Consulte el material de estadística inferencial para saber cómo realizar un intervalo de confianza con **`statsmodels`**. No es necesario que utilice el método analítico.\n",
    "</p>"
   ]
  },
  {
   "cell_type": "code",
   "execution_count": null,
   "metadata": {
    "id": "5nAcKJwlirwx"
   },
   "outputs": [],
   "source": [
    "# FUNCIÓN CALIFICADA valor_medio_intervalo:\n",
    "\n",
    "def valor_medio_intervalo(fabricante, variable, confianza):\n",
    "  ### ESCRIBA SU CÓDIGO AQUÍ ### (~ 3 líneas de código)\n",
    "\n",
    "  subconjunto = None           # Seleccione únicamente los datos de interés (fabricante, variable) a partir del dataset 'cereal_df'\n",
    "  inicio, final  = None, None  # Ejecute la función estadística necesaria para obtener el intervalo de confianza.\n",
    "\n",
    "  return inicio, final\n",
    "  ### FIN DEL CÓDIGO ###"
   ]
  },
  {
   "cell_type": "code",
   "execution_count": null,
   "metadata": {
    "id": "9K3e6F9_GF2J"
   },
   "outputs": [],
   "source": [
    "#TEST_CELL\n",
    "valor_medio_intervalo('Kelloggs', 'calorias', 0.95)"
   ]
  },
  {
   "cell_type": "markdown",
   "metadata": {
    "id": "rQ85Iv3JzJGx"
   },
   "source": [
    "**Salida esperada:**\n",
    "```python\n",
    "(99.08751461234769, 118.3037897354784)\n",
    "```"
   ]
  },
  {
   "cell_type": "markdown",
   "metadata": {
    "id": "G-hKW1xVvLa0"
   },
   "source": [
    "## **2. ¿Existe alguna diferencia nutricional significativa entre los productos de *Kelloggs* y *General Mills*?**\n",
    "---\n",
    "Como parte del proceso de análisis se decide identificar si un fabricante ofrece productos cuyos valores nutricionales medios presenten diferencias significativas con respecto a los ingredientes y valores nutricionales de otro fabricante. En particular, tras un análisis exploratorio previo, se decidió explorar estas diferencias específicamente entre los fabricantes *Kelloggs* y *General Mills*. Esto obedece a que al explorar el conteo de valores por fabricante, se tiene que estos ofrecen un número similar de productos y son los más representativos en el mercado de cereales identificado."
   ]
  },
  {
   "cell_type": "code",
   "execution_count": null,
   "metadata": {
    "id": "KsUDMZOKlwFx"
   },
   "outputs": [],
   "source": [
    "#TEST_CELL\n",
    "cereal_df['fabricante'].value_counts()"
   ]
  },
  {
   "cell_type": "markdown",
   "metadata": {
    "id": "LdGLhZrLmk9y"
   },
   "source": [
    "Por otro lado, si calculamos los valores medios de las variables numéricas agrupando por fabricante podemos notar algunas diferencias notables en varias de las variables medidas.\n",
    "\n",
    "**¿Alguna de estas diferencias es estadísticamente significativa?**"
   ]
  },
  {
   "cell_type": "code",
   "execution_count": null,
   "metadata": {
    "id": "Y0FCvLYzm1t4"
   },
   "outputs": [],
   "source": [
    "#TEST_CELL\n",
    "cereal_df.groupby('fabricante').mean().loc[['Kelloggs', 'General Mills']]"
   ]
  },
  {
   "cell_type": "markdown",
   "metadata": {
    "id": "YtXEI62LnFQV"
   },
   "source": [
    "En este ejercicio deberá escribir la función **`cereales_hipotesis_media`**. Esta función realiza un test de hipótesis sobre la diferencia de medias de una **`variable`** dada, con un nivel de **`confianza`** deseado, para los fabricantes ***Kelloggs*** y ***General Mills***. A partir de los resultados del test de hipótesis debe determinar:\n",
    "\n",
    "*  Si se puede llegar o no a una **`conclusión`** significativa con el valor de confianza deseado.\n",
    "*  El **`p-valor`** de la prueba.\n",
    "*  El nombre del fabricante con **`mayor`** y **`menor`** valor según la media muestral, en ese orden.\n",
    "\n",
    "\n",
    "**Entradas:**\n",
    "  * **`variable`**: Nombre de la variable numérica sobre la que se realiza el cálculo (**azúcares, grasa, proteína, etc.**).\n",
    "  * **`confianza`**: Nivel **$\\beta$** de confianza del intervalo.\n",
    "\n",
    "**Salidas:**\n",
    "  * **`conclusión`**: Valor Booleano (`True` o `False`) indicando si hay una diferencia significativa.\n",
    "  * **`p_valor`**:  El **`p-valor`** de la prueba.\n",
    "  * **`mayor`**:  El nombre del fabricante con el valor mayor según la media muestral.\n",
    "  * **`menor`**:  El nombre del fabricante con el valor menor según la media muestral.\n",
    "\n",
    "Por ejemplo, si se deseara comparar la cantidad de **azúcar** con un valor de confianza del $95\\%$, el resultado de la ejecución debería ser el siguiente:\n",
    "\n",
    "\n",
    "```python\n",
    ">>> cereales_hipotesis_media('azúcar', 0.95)\n",
    "(False, 0.7577470989748843, 'General Mills', 'Kelloggs')\n",
    "```\n",
    "\n",
    "\n"
   ]
  },
  {
   "cell_type": "markdown",
   "metadata": {
    "id": "Ibzh7vwJqkps"
   },
   "source": [
    "<details>    \n",
    "<summary>\n",
    "    <font size=\"3\" color=\"darkgreen\"><b>Pistas</b></font>\n",
    "</summary>\n",
    "<p>\n",
    "\n",
    "* Recuerde la distinción entre **confianza** ($\\beta$) y **significancia** ($\\alpha$).\n",
    "* Consulte el material de estadística inferencial para saber cómo realizar un test de hipótesis con **`scipy`**. No es necesario que utilice el método analítico.\n",
    "* Tenga en cuenta que el test está diseñado para identificar si **existe una diferencia significativa**, y no se conoce ni hipotetiza cuál de las dos debería ser mayor. ¿Qué tipo de *hipótesis* es esta y qué relación tiene con la significancia utilizada?\n",
    "* Considere el tamaño de las muestras y demás factores. ¿Qué prueba de hipótesis discutida y ejemplificada en el material guía es la más apropiada?\n",
    "</p>"
   ]
  },
  {
   "cell_type": "code",
   "execution_count": null,
   "metadata": {
    "id": "1es5UfValMuC"
   },
   "outputs": [],
   "source": [
    "# FUNCIÓN CALIFICADA cereales_hipotesis_media:\n",
    "\n",
    "def cereales_hipotesis_media(variable, confianza):\n",
    "  # Seleccionamos los fabricantes que nos interesan\n",
    "  kelloggs = cereal_df.loc[cereal_df['fabricante'] == 'Kelloggs']\n",
    "  general_mills = cereal_df.loc[cereal_df['fabricante'] == 'General Mills']\n",
    "\n",
    "  ### ESCRIBA SU CÓDIGO AQUÍ ### (~ 5 líneas de código)\n",
    "  stat, pvalor = None, None     # Ejecute la prueba estadística más apropiada.\n",
    "\n",
    "  conclusion = None          # Utilice el resultado de la prueba para determinar si la diferencia es significativa o no (conclusión).\n",
    "  mayor, menor = None, None  # Asigne el nombre de cada fabricante a la variable correspondiente de acuerdo al resultado.\n",
    "\n",
    "\n",
    "  ### FIN DEL CÓDIGO ###\n",
    "  return conclusion, pvalor, mayor, menor"
   ]
  },
  {
   "cell_type": "code",
   "execution_count": null,
   "metadata": {
    "id": "9JbR2n7p1eh4"
   },
   "outputs": [],
   "source": [
    "#TEST_CELL\n",
    "\n",
    "cereales_hipotesis_media('azúcar', 0.95)"
   ]
  },
  {
   "cell_type": "markdown",
   "metadata": {
    "id": "iwhnqtZqRikN"
   },
   "source": [
    "**Salida esperada:**\n",
    "```python\n",
    "(False, 0.7577470989748843, 'General Mills', 'Kelloggs')\n",
    "```"
   ]
  },
  {
   "cell_type": "markdown",
   "metadata": {
    "id": "RWrer4cUzcQU"
   },
   "source": [
    "Puede usar la siguiente celda de pruebas para probar su función. En esta se lleva a cabo la prueba en todas las variables con un nivel de confianza del $90\\%$."
   ]
  },
  {
   "cell_type": "code",
   "execution_count": null,
   "metadata": {
    "id": "umM8jT3Azlvf"
   },
   "outputs": [],
   "source": [
    "#TEST_CELL\n",
    "\n",
    "confianza = 0.9\n",
    "print(f'Con un valor de confianza de {confianza}')\n",
    "print('-------------------------------------------')\n",
    "for variable in cereal_df.select_dtypes(np.number).columns: # select_dtypes para tener en cuenta solo variables numéricas.\n",
    "  conclusion, pvalor, mayor, menor = cereales_hipotesis_media(variable, confianza)\n",
    "  if (conclusion):\n",
    "    print(f'Los productos de {mayor} tienen mayor cantidad de {variable} que los de {menor} con un p-valor de {pvalor:.4f}.\\n') #  :.4f para aproximar a 4 decimales.\n",
    "  else:\n",
    "    print(f'No se puede afirmar que existe una diferencia en la cantidad de {variable}. (p-valor: {pvalor:.4f})\\n')"
   ]
  },
  {
   "cell_type": "markdown",
   "metadata": {
    "id": "8gJsxr25r0PZ"
   },
   "source": [
    "**Salida esperada:**\n",
    "```python\n",
    "Con un valor de confianza de 0.9\n",
    "-------------------------------------------\n",
    "No se puede afirmar que existe una diferencia en la cantidad de calorias. (p-valor: 0.6111)\n",
    "\n",
    "No se puede afirmar que existe una diferencia en la cantidad de proteina. (p-valor: 0.3141)\n",
    "\n",
    "Los productos de General Mills tienen mayor cantidad de grasa que los de Kelloggs con un p-valor de 0.0011.\n",
    "\n",
    "No se puede afirmar que existe una diferencia en la cantidad de sodio. (p-valor: 0.2096)\n",
    "\n",
    "No se puede afirmar que existe una diferencia en la cantidad de fibra dietaria. (p-valor: 0.0505)\n",
    "\n",
    "No se puede afirmar que existe una diferencia en la cantidad de carbohidratos. (p-valor: 0.7344)\n",
    "\n",
    "No se puede afirmar que existe una diferencia en la cantidad de azúcar. (p-valor: 0.7577)\n",
    "\n",
    "No se puede afirmar que existe una diferencia en la cantidad de potasio. (p-valor: 0.4185)\n",
    "\n",
    "No se puede afirmar que existe una diferencia en la cantidad de vitaminas y minerales. (p-valor: 0.9547)\n",
    "```"
   ]
  },
  {
   "cell_type": "markdown",
   "metadata": {
    "id": "lkxuBtI355OP"
   },
   "source": [
    "¿Cómo se puede interpretar este resultado? Por favor, siempre analice e interprete sus hallazgos."
   ]
  },
  {
   "cell_type": "markdown",
   "metadata": {
    "id": "YjD3kZ5ePL71"
   },
   "source": [
    "**¡Felicitaciones!** Ha terminado el quiz. ¡Excelente trabajo!\n",
    "\n",
    "## **Entrega**\n",
    "Para entregar el notebook por favor haga lo siguiente:\n",
    "1. Descargue el notebook (`Archivo` -> `Descargar .ipynb`).\n",
    "2. Ingrese a la plataforma de aprendizaje.\n",
    "3. Realice el envío del *notebook* que descargó en la tarea (o quiz) correspondiente.\n",
    "4. Recuerde que si tiene algún error, puede hacer múltiples intentos."
   ]
  },
  {
   "cell_type": "markdown",
   "metadata": {
    "id": "JJbV7A38uZhC"
   },
   "source": [
    "## **Créditos**\n",
    "---\n",
    "\n",
    "* **Profesor:** [Felipe Restrepo Calle](https://dis.unal.edu.co/~ferestrepoca/)\n",
    "* **Asistentes docentes:**\n",
    "  - Alberto Nicolai Romero Martínez\n",
    "  - Miguel Angel Ortiz Marín\n",
    "\n",
    "**Universidad Nacional de Colombia** - *Facultad de Ingeniería*\n"
   ]
  }
 ],
 "metadata": {
  "colab": {
   "provenance": []
  },
  "kernelspec": {
   "display_name": "Python 3 (ipykernel)",
   "language": "python",
   "name": "python3"
  },
  "language_info": {
   "codemirror_mode": {
    "name": "ipython",
    "version": 3
   },
   "file_extension": ".py",
   "mimetype": "text/x-python",
   "name": "python",
   "nbconvert_exporter": "python",
   "pygments_lexer": "ipython3",
   "version": "3.11.5"
  }
 },
 "nbformat": 4,
 "nbformat_minor": 4
}
