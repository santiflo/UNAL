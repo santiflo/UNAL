{
  "nbformat": 4,
  "nbformat_minor": 0,
  "metadata": {
    "colab": {
      "provenance": []
    },
    "kernelspec": {
      "name": "python3",
      "display_name": "Python 3"
    }
  },
  "cells": [
    {
      "cell_type": "markdown",
      "metadata": {
        "id": "22zXjFMRkUkJ"
      },
      "source": [
        "<img src = \"https://drive.google.com/uc?export=view&id=1WaM3ez8iLaUk3VyWNYZQuifnvbEX4vbK\" alt = \"Encabezado MLDS\" width = \"100%\">  </img>\n"
      ]
    },
    {
      "cell_type": "markdown",
      "metadata": {
        "id": "4P-aXUSffVPX"
      },
      "source": [
        "#**Quiz 4 - Preparación de los datos con *Pandas***\n",
        "---\n",
        "\n",
        "Este es un quiz para practicar las habilidades adquiridas usando *pandas* en el proceso de manipulación, limpieza y preprocesamiento de conjuntos de datos. Nuevamente utilizaremos el [dataset Titanic](https://www.kaggle.com/c/titanic) disponible en *Kaggle*.\n",
        "\n",
        "El conjunto de datos del Titanic cuenta con múltiples variables de la tragedia:\n",
        "\n",
        "| Variable | Definición\t| Valores |\n",
        "| --- | --- | --- |\n",
        "| survival | \tSupervivencia  | \t0 = No, 1 = Sí |\n",
        "| pclass \t| Clase del tiquete | \t1 = 1ra, 2 = 2da, 3 = 3ra\n",
        "| sex \t| Sexo \t| |\n",
        "| Age |\tEdad en años \t| |\n",
        "| sibsp |\t# de hermanos / cónyuge abordo del Titanic \t| |\n",
        "| parch |\t# de padres / hijos abordo del Titanic \t| |\n",
        "| ticket |\tNúmero del ticket | |\n",
        "| fare \t| Costo del ticket | |\n",
        "| cabin |\tNúmero de la cabina \t| |\n",
        "| embarked |\tPuerto de embarque |\tC = Cherbourg, Q = Queenstown, S = Southampton |\n",
        "\n",
        "En este quiz usted debe realizar un proceso de limpieza y pre-procesamiento de los datos usando *Pandas* con el objetivo de practicar los conceptos y sus habilidades en la preparación los datos.\n",
        "\n",
        "> **Nota:** Esta tarea va a ser calificada en la plataforma **[UNCode](https://juezun.github.io/)**. Para esto, en cada ejercicio se indicará si es calificable o no, también los lugares donde debe escribir su código sin modificar lo demás con un aproximado de cantidad de líneas a escribir. No se preocupe si su código toma más líneas, esto es simplemente un aproximado destinado a que pueda replantear su estrategia si el código está tomando más de las esperadas. No es un requisito estricto y soluciones más largas también son válidas. Al finalizar, para realizar el envío (*submission*), descargue el notebook como un archivo **`.ipynb`** y haga su entrega a través de la plataforma de aprendizaje."
      ]
    },
    {
      "cell_type": "markdown",
      "metadata": {
        "id": "YpOHUKChjoH-"
      },
      "source": [
        "Ejecute la siguiente celda para importar *pandas*."
      ]
    },
    {
      "cell_type": "code",
      "metadata": {
        "id": "rimXJXmbLmt4"
      },
      "source": [
        "# Importar pandas\n",
        "import pandas as pd"
      ],
      "execution_count": null,
      "outputs": []
    },
    {
      "cell_type": "code",
      "metadata": {
        "id": "GEfXnD9mjd2V"
      },
      "source": [
        "#TEST_CELL\n",
        "!python --version\n",
        "print('Pandas', pd.__version__)"
      ],
      "execution_count": null,
      "outputs": []
    },
    {
      "cell_type": "markdown",
      "metadata": {
        "id": "SyVY0vdCjm1R"
      },
      "source": [
        "Este material fue realizado con las siguientes versiones:\n",
        "\n",
        "- Python 3.10.6\n",
        "- pandas 1.5.3"
      ]
    },
    {
      "cell_type": "markdown",
      "metadata": {
        "id": "adqf_QGVpsMi"
      },
      "source": [
        "## **0.  Leer el archivo de datos**\n",
        "---\n",
        "> **IMPORTANTE:**\n",
        "\n",
        "  1. Por favor descargue el archivo con el conjunto de datos desde el siguiente enlace: **[titanic.csv](https://raw.githubusercontent.com/JuezUN/datasets/master/titanic.csv)**.\n",
        "  \n",
        "  2. En el enlace, haga clic secundario y seleccione la opción **\"Guardar como...\"**.\n",
        "\n",
        "  3. Cargue este archivo en su sistema de archivos de **Google Colaboratory**. Para hacer esto:\n",
        "    \n",
        "    * Haga clic donde aparece el icono del directorio en la parte izquierda de la ventana en *Google Colaboratory* (resaltado en azul en la siguiente imagen con el número 1).\n",
        "    * Después, haga clic en el icono **\"Subir\"** (resaltado en azul en la siguiente imagen con el número 2).\n",
        "    * Seleccione el archivo **`titanic.csv`** que previamente descargó y haga clic en **\"Aceptar\"**.\n",
        "\n",
        "  <img src = \"https://drive.google.com/uc?export=view&id=13W59jfdOpAn_DYIjpXt4WPBZiU7BlRGY\" alt = \"Sistema archivos colab\" width = \"70%\">  </img>\n",
        "\n",
        "4. Ejecute la siguiente celda para cargar el conjunto de datos dentro del DataFrame de *pandas* llamado **`full_df`**:"
      ]
    },
    {
      "cell_type": "code",
      "metadata": {
        "id": "t3pxZF9vjtJm"
      },
      "source": [
        "### EJECUTAR ESTA CELDA SIN MODIFICARLA. SI FALLA, DEBE SEGUIR EL PROCEDIMIENTO DESCRITO ANTES.\n",
        "full_df = pd.read_csv('titanic.csv')"
      ],
      "execution_count": null,
      "outputs": []
    },
    {
      "cell_type": "markdown",
      "metadata": {
        "id": "U_KDETTPFOWt"
      },
      "source": [
        "No se preocupe por el archivo del dataset en ***UNCode***, el ambiente de calificación ya cuenta con este archivo para calificar sus ejercicios."
      ]
    },
    {
      "cell_type": "markdown",
      "metadata": {
        "id": "UQLr6FKQcFT4"
      },
      "source": [
        "## **1.  Eliminación de registros con valores faltantes**\n",
        "---\n",
        "\n",
        "El conjunto de datos *Titanic* cuenta con varias filas y columnas con valores faltantes. Una alternativa para limpiar el *dataset* es eliminar los registros (filas) que tengan al menos una variable faltante o eliminar las variables (columnas) que tengan al menos un valor faltante.  \n",
        "\n",
        "Utilizando *pandas*:\n",
        "1. Guarde en el *DataFrame* **`non_null_rows_df`** el conjunto de datos luego de ser eliminadas las filas con valores faltantes.\n",
        "2. Almacene en el *DataFrame* **`non_null_cols_df`** el conjunto de datos luego de ser eliminadas las columnas con valores faltantes.\n",
        "  \n",
        "**IMPORTANTE**: Tenga cuidado de no sobreescribir ni modificar el *Dataframe* original **`full_df`**. En caso que por error lo modifique, deberá cargarlo nuevamente.\n"
      ]
    },
    {
      "cell_type": "markdown",
      "metadata": {
        "id": "-nfnlYZYCjHa"
      },
      "source": [
        "<details>    \n",
        "<summary>\n",
        "    <font size=\"3\" color=\"darkgreen\"><b>Pistas</b></font>\n",
        "</summary>\n",
        "\n",
        "* *Pandas* tiene varias funciones para tratar con valores faltantes como **`fillna`**, **`dropna`**, **`isna`** y **`notna`**, que permiten realizar distintas tareas con este tipo de valores.\n",
        "* En *pandas*, al igual que en *NumPy*, es posible usar en varias funciones el argumento **`axis`**. Es muy útil cuando se quiere distinguir entre filas y columnas para realizar una operación determinada. Verifique que la dimensión en la que realiza la operación sea la correcta.\n"
      ]
    },
    {
      "cell_type": "markdown",
      "metadata": {
        "id": "WtYIImkkgwgS"
      },
      "source": [
        "### **1.1.  Eliminación de filas con valores faltantes**\n"
      ]
    },
    {
      "cell_type": "code",
      "metadata": {
        "id": "rycp6oBHcH84"
      },
      "source": [
        "# VARIABLE CALIFICADA non_null_rows_df\n",
        "\n",
        "### ESCRIBA SU CÓDIGO AQUÍ ### (~ 1 línea de código)\n",
        "non_null_rows_df = pd.DataFrame() # Reemplace el DataFrame vacío por la respuesta correcta.\n",
        "### FIN DEL CÓDIGO ###"
      ],
      "execution_count": null,
      "outputs": []
    },
    {
      "cell_type": "code",
      "metadata": {
        "id": "1I50wz4GGqNc"
      },
      "source": [
        "#TEST_CELL\n",
        "non_null_rows_df.count()"
      ],
      "execution_count": null,
      "outputs": []
    },
    {
      "cell_type": "markdown",
      "metadata": {
        "id": "R5oOYEBE5gMr"
      },
      "source": [
        "**Salida esperada:**\n",
        "\n",
        "```python\n",
        "PassengerId    183\n",
        "Survived       183\n",
        "Pclass         183\n",
        "Name           183\n",
        "Sex            183\n",
        "Age            183\n",
        "SibSp          183\n",
        "Parch          183\n",
        "Ticket         183\n",
        "Fare           183\n",
        "Cabin          183\n",
        "Embarked       183\n",
        "dtype: int64\n",
        "```"
      ]
    },
    {
      "cell_type": "markdown",
      "metadata": {
        "id": "NtQ3XJEIg65R"
      },
      "source": [
        "### **1.2.  Eliminación de columnas con valores faltantes**\n"
      ]
    },
    {
      "cell_type": "code",
      "metadata": {
        "id": "rQrCspCrBIQQ"
      },
      "source": [
        "# VARIABLE CALIFICADA non_null_cols_df\n",
        "\n",
        "### ESCRIBA SU CÓDIGO AQUÍ ### (~ 1 línea de código)\n",
        "non_null_cols_df = pd.DataFrame() # Reemplace el DataFrame vacío por la respuesta correcta.\n",
        "### FIN DEL CÓDIGO ###"
      ],
      "execution_count": null,
      "outputs": []
    },
    {
      "cell_type": "code",
      "metadata": {
        "id": "qDs6oBSSGXoa"
      },
      "source": [
        "#TEST_CELL\n",
        "non_null_cols_df.count()"
      ],
      "execution_count": null,
      "outputs": []
    },
    {
      "cell_type": "markdown",
      "metadata": {
        "id": "VvlcNVasHAQc"
      },
      "source": [
        "**Salida esperada:**\n",
        "\n",
        "```python\n",
        "PassengerId    891\n",
        "Survived       891\n",
        "Pclass         891\n",
        "Name           891\n",
        "Sex            891\n",
        "SibSp          891\n",
        "Parch          891\n",
        "Ticket         891\n",
        "Fare           891\n",
        "dtype: int64\n",
        "```"
      ]
    },
    {
      "cell_type": "markdown",
      "metadata": {
        "id": "rjfVzL2DhDaa"
      },
      "source": [
        "## **2. Capacidad de almacenamiento**\n",
        "---\n"
      ]
    },
    {
      "cell_type": "markdown",
      "metadata": {
        "id": "SQYexz7fjJtv"
      },
      "source": [
        "Dada la dimensión del *dataset* original de $891$ filas y $12$ columnas, éste tenía una capacidad original para almacenar $10692$ datos (aunque algunos fueran vacíos). Realizar la eliminación de variables o registros debido a un formato erróneo o información faltante es un compromiso entre cantidad y calidad en el conjunto de datos.\n",
        "\n",
        "¿Cuántos valores o celdas tienen los nuevos conjuntos de datos creados con la eliminación de datos faltantes?"
      ]
    },
    {
      "cell_type": "markdown",
      "metadata": {
        "id": "86rO3o7njOAm"
      },
      "source": [
        "<details>    \n",
        "<summary>\n",
        "    <font size=\"3\" color=\"darkgreen\"><b>Pistas</b></font>\n",
        "</summary>\n",
        "\n",
        "* Los objetos *DataFrame* de *Pandas* poseen propiedades que nos revelan características interesantes. Muchas veces es necesario utilizar estas propiedades. Algunas de ellas son: **`index`**, **`dtypes`**, **`ndim`**, **`size`**, **`shape`**, entre otras.\n"
      ]
    },
    {
      "cell_type": "markdown",
      "metadata": {
        "id": "fbnMjN-ngD_Z"
      },
      "source": [
        "### **2.1.  ¿Cuál es la capacidad del DataFrame `non_null_rows_df`?**"
      ]
    },
    {
      "cell_type": "code",
      "metadata": {
        "id": "uJ1iFrh-iPtJ"
      },
      "source": [
        "# VARIABLE CALIFICADA full_rows\n",
        "\n",
        "### ESCRIBA SU CÓDIGO AQUÍ ### (~ 1 línea de código)\n",
        "full_rows = None\n",
        "### FIN DEL CÓDIGO ###\n",
        "\n",
        "full_rows"
      ],
      "execution_count": null,
      "outputs": []
    },
    {
      "cell_type": "markdown",
      "metadata": {
        "id": "t5N6Cm31h73D"
      },
      "source": [
        "### **2.2.  ¿Cuál es la capacidad del DataFrame `non_null_cols_df`?**"
      ]
    },
    {
      "cell_type": "code",
      "metadata": {
        "id": "mdkKzNp8CHr3"
      },
      "source": [
        "# VARIABLE CALIFICADA full_cols\n",
        "\n",
        "### ESCRIBA SU CÓDIGO AQUÍ ### (~ 1 línea de código)\n",
        "full_cols = None\n",
        "### FIN DEL CÓDIGO ###\n",
        "\n",
        "full_cols"
      ],
      "execution_count": null,
      "outputs": []
    },
    {
      "cell_type": "markdown",
      "metadata": {
        "id": "78zlj4-AkOhF"
      },
      "source": [
        "Teniendo en cuenta el número resultante de registros con cada opción, ya sea eliminar columnas o eliminar filas: ¿qué funcionaría mejor para una tarea de análisis de datos? ¿por qué?"
      ]
    },
    {
      "cell_type": "markdown",
      "metadata": {
        "id": "sBb8icvCiSR-"
      },
      "source": [
        "**Escriba aquí sus respuestas con sus propias palabras (no calificable):** ...\n"
      ]
    },
    {
      "cell_type": "markdown",
      "metadata": {
        "id": "VuFVtcJWn4qP"
      },
      "source": [
        "## **3.  Imputación de edades**\n",
        "---\n",
        "Muchas veces no es deseable eliminar columnas enteras, aunque contengan algunos pocos registros con valores faltantes, pues puede implicar perder muchos otros datos valiosos.\n",
        "\n",
        "En algunos casos, al realizar la limpieza de datos, se puede optar por llevar a cabo un procedimiento de [**imputación de datos**](https://es.wikipedia.org/wiki/Imputaci%C3%B3n_(estad%C3%ADstica)). Esto consiste en reemplazar los valores faltantes por otros valores específicos. Por ejemplo, la media para variables numéricas, o el valor más frecuente en caso de variables categóricas.\n",
        "\n",
        "> **IMPORTANTE: Este tipo de procedimientos debe ser validado con los expertos del negocio o dominio para no sesgar los datos de alguna manera, pues implica la creación de datos artificiales que pueden no corresponder con la realidad.**\n"
      ]
    },
    {
      "cell_type": "markdown",
      "metadata": {
        "id": "DW0nhA5ZFj7o"
      },
      "source": [
        "En la siguiente celda podrá crear una copia del *DataFrame* original. Esta copia se modificará para tener la respuesta completa en los siguientes puntos."
      ]
    },
    {
      "cell_type": "code",
      "metadata": {
        "id": "46q1j1PSriJa"
      },
      "source": [
        "### NO MODIFICAR ESTA CELDA\n",
        "# Crear copia de full_df\n",
        "imputed_cols_df = full_df.copy()"
      ],
      "execution_count": null,
      "outputs": []
    },
    {
      "cell_type": "markdown",
      "metadata": {
        "id": "-JyvNvj_TcM7"
      },
      "source": [
        "<details>    \n",
        "<summary>\n",
        "    <font size=\"3\" color=\"darkgreen\"><b>Pistas</b></font>\n",
        "</summary>\n",
        "\n",
        "* *Pandas* tiene varias funciones para tratar con valores faltantes como **`fillna`**, **`dropna`**, **`isna`** y **`notna`**, que permiten realizar distintas tareas con este tipo de valores.\n",
        "* Verifique en sus notas o en los recursos previos las funciones necesarias para hacer operaciones como la sumatoria, el promedio o hallar el máximo de un objeto en *pandas*, y aplique las que sean necesarias para este ejercicio.\n"
      ]
    },
    {
      "cell_type": "markdown",
      "metadata": {
        "id": "uBshprHArPw1"
      },
      "source": [
        "Utilizando *pandas* guarde en **`imputed_cols_df`** el *DataFrame* que resulte luego de reemplazar los valores faltantes en la columna **`Age`** con el valor medio de esa variable. Tenga cuidado de no sobreescribir el *DataFrame* original **`full_df`**.\n",
        "\n",
        "Aunque podríamos realizar este procedimiento en una sola línea de código, lo haremos en $2$ partes:"
      ]
    },
    {
      "cell_type": "markdown",
      "metadata": {
        "id": "BFRdq8Knk5aU"
      },
      "source": [
        "### **3.1. Encuentre la media de la variable `Age`**"
      ]
    },
    {
      "cell_type": "code",
      "metadata": {
        "id": "FnqoD1yUxcKb"
      },
      "source": [
        "# VARIABLE CALIFICADA: age_mean\n",
        "\n",
        "### ESCRIBA SU CÓDIGO AQUÍ ### (~ 1 línea de código)\n",
        "age_mean = None\n",
        "### FIN DEL CÓDIGO ###\n"
      ],
      "execution_count": null,
      "outputs": []
    },
    {
      "cell_type": "markdown",
      "metadata": {
        "id": "K22X0uMPleMY"
      },
      "source": [
        "### **3.2. Asigne a los valores faltantes de la columna `Age` el valor medio**"
      ]
    },
    {
      "cell_type": "markdown",
      "metadata": {
        "id": "1ZoAzqR4xgfu"
      },
      "source": [
        "Asigne a los valores faltantes de la columna **`Age`** el valor medio de esa variable en el dataframe **`imputed_cols_df`**:"
      ]
    },
    {
      "cell_type": "code",
      "metadata": {
        "id": "hTXwN0Ekjz7f"
      },
      "source": [
        "# VARIABLE CALIFICADA: imputed_cols_df['Age']\n",
        "\n",
        "### ESCRIBA SU CÓDIGO AQUÍ ### (~ 1 línea de código)\n",
        "imputed_cols_df['Age'] = full_df['Age'] # Modifique esta línea\n",
        "### FIN DEL CÓDIGO ###"
      ],
      "execution_count": null,
      "outputs": []
    },
    {
      "cell_type": "code",
      "metadata": {
        "id": "lo0yxWBHH8Lk"
      },
      "source": [
        "#TEST_CELL\n",
        "# Verificamos que no queden valores faltantes:\n",
        "imputed_cols_df['Age'].isna().sum()"
      ],
      "execution_count": null,
      "outputs": []
    },
    {
      "cell_type": "markdown",
      "metadata": {
        "id": "mdi8mxcusJWv"
      },
      "source": [
        "La salida de la celda anterior debería ser:\n",
        "```python\n",
        "0\n",
        "```"
      ]
    },
    {
      "cell_type": "markdown",
      "metadata": {
        "id": "fuWsGg_k030y"
      },
      "source": [
        "## **4.  Creación de la característica `Family`**\n",
        "---\n",
        "El conjunto de datos cuenta con las variables **`SibSp`** y **`Parch`** para el registro de familiares a bordo del navío. **`SibSp`** corresponde al número de tripulantes que son hermanos o cónyuge del pasajero. Por su parte, **`Parch`** representa el número de padres (o abuelos) e hijos (o nietos).\n",
        "\n",
        "Para condensar esta información en una única variable se pueden sumar para obtener el tamaño de la familia de cada tripulante.\n",
        "\n",
        "Cree una nueva columna llamada **`Family`** que almacene la suma de las columnas **`SibSp`** y **`Parch`**. Use y modifique el *DataFrame* **`imputed_cols_df`**.\n"
      ]
    },
    {
      "cell_type": "markdown",
      "metadata": {
        "id": "AizvxnUIT6iG"
      },
      "source": [
        "<details>    \n",
        "<summary>\n",
        "    <font size=\"3\" color=\"darkgreen\"><b>Pistas</b></font>\n",
        "</summary>\n",
        "\n",
        "* *Pandas* permite utilizar operadores como la suma y multiplicación entre sus objetos, respetando las reglas de *NumPy*.\n",
        "* Asegúrese de usar el nombre correcto de la nueva columna y las columnas originales, y de no modificar el *dataset* original para prevenir errores en la calificación.\n"
      ]
    },
    {
      "cell_type": "code",
      "metadata": {
        "id": "iCeG967q16IJ"
      },
      "source": [
        "# VARIABLE CALIFICADA: imputed_cols_df['Family']\n",
        "\n",
        "### ESCRIBA SU CÓDIGO AQUÍ ### (~ 1 línea de código)\n",
        "imputed_cols_df['Family'] = 0\n",
        "### FIN DEL CÓDIGO ###"
      ],
      "execution_count": null,
      "outputs": []
    },
    {
      "cell_type": "code",
      "metadata": {
        "id": "R72OpNOkL_-3"
      },
      "source": [
        "#TEST_CELL\n",
        "imputed_cols_df['Family'].head(10)"
      ],
      "execution_count": null,
      "outputs": []
    },
    {
      "cell_type": "markdown",
      "metadata": {
        "id": "5XLfSHwRMPuA"
      },
      "source": [
        "La salida de la celda anterior debería ser:\n",
        "```python\n",
        "0    1\n",
        "1    1\n",
        "2    0\n",
        "3    1\n",
        "4    0\n",
        "5    0\n",
        "6    0\n",
        "7    4\n",
        "8    2\n",
        "9    1\n",
        "Name: Family, dtype: int64\n",
        "```"
      ]
    },
    {
      "cell_type": "markdown",
      "metadata": {
        "id": "TQptVlS02MAH"
      },
      "source": [
        "**¡Muy buen trabajo!** Ha terminado el quiz. ¡Felicidades!\n",
        "\n",
        "## **Entrega**\n",
        "\n",
        "Para entregar el notebook por favor haga lo siguiente:\n",
        "1. Descargue el notebook (`Archivo` -> `Descargar .ipynb`).\n",
        "2. Ingrese a la plataforma de aprendizaje.\n",
        "3. Realice el envío del *notebook* que descargó en la tarea (o quiz) correspondiente.\n",
        "4. Recuerde que si tiene algún error, puede hacer múltiples intentos."
      ]
    },
    {
      "cell_type": "markdown",
      "metadata": {
        "id": "I0-cKPCz2OPY"
      },
      "source": [
        "## **Créditos**\n",
        "---\n",
        "\n",
        "* **Profesor:** [Felipe Restrepo Calle](https://dis.unal.edu.co/~ferestrepoca/)\n",
        "* **Asistentes docentes:**\n",
        "  - Alberto Nicolai Romero Martínez\n",
        "  - Miguel Angel Ortiz Marín\n",
        "\n",
        "**Universidad Nacional de Colombia** - *Facultad de Ingeniería*\n"
      ]
    }
  ]
}