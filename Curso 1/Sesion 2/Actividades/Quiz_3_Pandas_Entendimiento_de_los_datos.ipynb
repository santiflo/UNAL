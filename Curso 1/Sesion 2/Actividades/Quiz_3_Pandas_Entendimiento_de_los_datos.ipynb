{
  "nbformat": 4,
  "nbformat_minor": 0,
  "metadata": {
    "colab": {
      "provenance": []
    },
    "kernelspec": {
      "name": "python3",
      "display_name": "Python 3"
    }
  },
  "cells": [
    {
      "cell_type": "markdown",
      "metadata": {
        "id": "22zXjFMRkUkJ"
      },
      "source": [
        "<img src = \"https://drive.google.com/uc?export=view&id=1WaM3ez8iLaUk3VyWNYZQuifnvbEX4vbK\" alt = \"Encabezado MLDS\" width = \"100%\">  </img>\n"
      ]
    },
    {
      "cell_type": "markdown",
      "metadata": {
        "id": "iOBugjpzfKzI"
      },
      "source": [
        "#**Quiz 3 : Entendimiento de los datos con *pandas***\n",
        "---\n",
        "\n",
        "Este es un quiz para practicar las habilidades adquiridas usando *pandas* en el proceso de exploración y entendimiento de conjuntos de datos. Utilizaremos el [dataset Titanic](https://www.kaggle.com/c/titanic) disponible en *Kaggle*.\n",
        "\n",
        "El conjunto de datos del Titanic cuenta con múltiples variables de la tragedia:\n",
        "\n",
        "| Variable | Definición\t| Valores |\n",
        "| --- | --- | --- |\n",
        "| survival | \tSupervivencia  | \t0 = No, 1 = Sí |\n",
        "| pclass \t| Clase del tiquete | \t1 = 1ra, 2 = 2da, 3 = 3ra\n",
        "| sex \t| Sexo \t| |\n",
        "| Age |\tEdad en años \t| |\n",
        "| sibsp |\t# de hermanos / cónyuge abordo del Titanic \t| |\n",
        "| parch |\t# de padres / hijos abordo del Titanic \t| |\n",
        "| ticket |\tNúmero del ticket | |\n",
        "| fare \t| Costo del ticket | |\n",
        "| cabin |\tNúmero de la cabina \t| |\n",
        "| embarked |\tPuerto de embarque |\tC = Cherbourg, Q = Queenstown, S = Southampton |\n",
        "\n",
        "En este quiz usted debe realizar un proceso de análisis exploratorio de datos con *Pandas* con el objetivo de practicar los conceptos y sus habilidades del entendimiento de los datos.\n",
        "\n",
        "> **Nota:** Esta tarea va a ser calificada en la plataforma **[UNCode](https://juezun.github.io/)**. Para esto, en cada ejercicio se indicará si es calificable o no, también los lugares donde debe escribir su código sin modificar lo demás con un aproximado de cantidad de líneas a escribir. No se preocupe si su código toma más líneas, esto es simplemente un aproximado destinado a que pueda replantear su estrategia si el código está tomando más de las esperadas. No es un requisito estricto y soluciones más largas también son válidas. Al finalizar, para realizar el envío (*submission*), descargue el notebook como un archivo **`.ipynb`** y haga su entrega a través de la plataforma de aprendizaje."
      ]
    },
    {
      "cell_type": "markdown",
      "metadata": {
        "id": "DRzX-aD3pG6T"
      },
      "source": [
        "Ejecute la siguiente celda para importar *pandas*."
      ]
    },
    {
      "cell_type": "code",
      "metadata": {
        "id": "0v4eme-o9suJ"
      },
      "source": [
        "# Importar pandas\n",
        "import pandas as pd"
      ],
      "execution_count": null,
      "outputs": []
    },
    {
      "cell_type": "code",
      "metadata": {
        "id": "GEfXnD9mjd2V"
      },
      "source": [
        "#TEST_CELL\n",
        "!python --version\n",
        "print('Pandas', pd.__version__)"
      ],
      "execution_count": null,
      "outputs": []
    },
    {
      "cell_type": "markdown",
      "metadata": {
        "id": "ROZNbg6fpLpu"
      },
      "source": [
        "Este material fue realizado con las siguientes versiones:\n",
        "\n",
        "- Python 3.10.6\n",
        "- pandas 1.5.3"
      ]
    },
    {
      "cell_type": "markdown",
      "metadata": {
        "id": "adqf_QGVpsMi"
      },
      "source": [
        "## **0.  Leer el archivo de datos**\n",
        "---\n",
        "> **IMPORTANTE:**\n",
        "\n",
        "  1. Por favor descargue el archivo con el conjunto de datos desde el siguiente enlace: **[titanic.csv](https://raw.githubusercontent.com/JuezUN/datasets/master/titanic.csv)**.\n",
        "  \n",
        "  2. En el enlace, haga clic derecho y seleccione la opción **\"Guardar como...\"**.\n",
        "\n",
        "  3. Cargue este archivo en su sistema de archivos de **Google Colaboratory**. Para hacer esto:\n",
        "    \n",
        "    * Haga clic donde aparece el icono del directorio en la parte izquierda de la ventana en *Google Colaboratory* (resaltado en azul en la siguiente imagen con el número 1).\n",
        "    * Después, haga clic en el icono **\"Subir\"** (resaltado en azul en la siguiente imagen con el número 2).\n",
        "    * Seleccione el archivo **`titanic.csv`** que previamente descargó y haga clic en **\"Aceptar\"**.\n",
        "\n",
        "<img src = \"https://drive.google.com/uc?export=view&id=13W59jfdOpAn_DYIjpXt4WPBZiU7BlRGY\" alt = \"Sistema archivos colab\" width = \"70%\">  </img>\n",
        "\n",
        "4. Ejecute la siguiente celda para cargar el conjunto de datos dentro del DataFrame de *pandas* llamado **`df`**:"
      ]
    },
    {
      "cell_type": "code",
      "metadata": {
        "id": "Y9F6G_l5pKOZ"
      },
      "source": [
        "### EJECUTAR ESTA CELDA SIN MODIFICARLA. SI FALLA, DEBE SEGUIR EL PROCEDIMIENTO DESCRITO ANTES.\n",
        "df = pd.read_csv('titanic.csv')"
      ],
      "execution_count": null,
      "outputs": []
    },
    {
      "cell_type": "markdown",
      "metadata": {
        "id": "V2k_DRDa7H-E"
      },
      "source": [
        "No se preocupe por el archivo del dataset en ***UNCode***, el ambiente de calificación ya cuenta con este archivo para calificar sus ejercicios."
      ]
    },
    {
      "cell_type": "markdown",
      "metadata": {
        "id": "zUcb7X0eGCAi"
      },
      "source": [
        "## **1. Tipos de variables**\n",
        "---\n",
        "Usted deberá identificar y explorar los diferentes tipos de variables (columnas) del conjunto de datos y guardar las respuestas solicitadas en las variables solicitadas en cada punto.\n",
        "\n",
        "Utilice las siguientes celdas para explorar libremente el conjunto de datos utilizando *pandas*. Después, consigne sus respuestas en las preguntas que aparece más adelante.\n"
      ]
    },
    {
      "cell_type": "code",
      "metadata": {
        "id": "9K3e6F9_GF2J"
      },
      "source": [
        "#TEST_CELL\n",
        "### ESCRIBA SU CÓDIGO AQUÍ ###\n"
      ],
      "execution_count": null,
      "outputs": []
    },
    {
      "cell_type": "code",
      "metadata": {
        "id": "YYR3RJnMXprq"
      },
      "source": [
        "#TEST_CELL\n",
        "### ESCRIBA SU CÓDIGO AQUÍ ###\n"
      ],
      "execution_count": null,
      "outputs": []
    },
    {
      "cell_type": "code",
      "metadata": {
        "id": "v2k1B-70XsCH"
      },
      "source": [
        "#TEST_CELL\n",
        "## Si lo desea, puede agregar más celdas para entender el conjunto de datos.\n"
      ],
      "execution_count": null,
      "outputs": []
    },
    {
      "cell_type": "markdown",
      "metadata": {
        "id": "ZVO_711up0Ox"
      },
      "source": [
        "### **1.1.  Variables con valores faltantes**\n",
        "---\n",
        "\n",
        "> **¿Qué variables tienen filas con valores faltantes?**\n",
        "\n",
        "Llene la lista **`valores_faltantes`** con la respuesta correcta. El orden en que ponga los nombres de las variables no es importante.\n",
        "\n",
        "La respuesta debería ser con un subconjunto de los nombres de las variables del conjunto de datos:\n",
        "\n",
        "**`['PassengerId', 'Survived', 'Pclass',\n",
        "       'Name', 'Sex', 'Age', 'SibSp',\n",
        "       'Parch', 'Ticket', 'Fare',\n",
        "       'Cabin', 'Embarked']`**\n"
      ]
    },
    {
      "cell_type": "markdown",
      "metadata": {
        "id": "BA-nbOmnPYl6"
      },
      "source": [
        "<details>    \n",
        "<summary>\n",
        "    <font size=\"3\" color=\"darkgreen\"><b>Pistas</b></font>\n",
        "</summary>\n",
        "\n",
        "* En este ejercicio deberá llenar la lista de manera manual. Para esto, puede apoyarse en las funciones de exploración de los datos como **`.describe`** o **`.info`** para identificar las variables con valores faltantes.\n",
        "\n",
        "* Considere el total de registros en el conjunto de datos y el total de registros con valores no-nulos por cada variable para encontrar las diferencias.\n"
      ]
    },
    {
      "cell_type": "code",
      "metadata": {
        "id": "MU2fXeFIqEwI"
      },
      "source": [
        "# VARIABLE CALIFICADA valores_faltantes:\n",
        "\n",
        "### ESCRIBA SU CÓDIGO AQUÍ ### (~ 1 línea de código)\n",
        "valores_faltantes = []\n",
        "### FIN DEL CÓDIGO ###"
      ],
      "execution_count": null,
      "outputs": []
    },
    {
      "cell_type": "markdown",
      "metadata": {
        "id": "DrorYabwtQRd"
      },
      "source": [
        "### **1.2.  Variables categóricas**\n",
        "---\n",
        "\n",
        "> **¿Qué variables tienen valores categóricos?**\n",
        "\n",
        "Llene la lista **`categoricas`** con la respuesta correcta. El orden en que ponga los nombres de las variables no es importante.\n",
        "\n",
        "La respuesta debería ser un subconjunto de todas las variables del conjunto de datos:\n",
        "\n",
        "**`['PassengerId', 'Survived', 'Pclass', 'Name', 'Sex', 'Age', 'SibSp',\n",
        "       'Parch', 'Ticket', 'Fare', 'Cabin', 'Embarked']`**\n"
      ]
    },
    {
      "cell_type": "markdown",
      "metadata": {
        "id": "h69i1acU-FMD"
      },
      "source": [
        "<details>    \n",
        "<summary>\n",
        "    <font size=\"3\" color=\"darkgreen\"><b>Pistas</b></font>\n",
        "</summary>\n",
        "\n",
        "* En este ejercicio deberá llenar la lista de manera manual. Para esto, puede apoyarse en las funciones de exploración de los datos para identificar las variables con valores categóricos. Por ejemplo: la columna **'Sex'** puede tener únicamente los valores **'female'** y **'male'**.\n",
        "\n",
        "* Considere como valores categóricos aquellos que puedan representar características del pasajero o grupos a los que pertenezca.\n",
        "\n",
        "* Aunque la variable sea cargada como un número, es posible que represente una variable categórica."
      ]
    },
    {
      "cell_type": "code",
      "metadata": {
        "id": "9RIin_nisa4U"
      },
      "source": [
        "# VARIABLE CALIFICADA categoricas:\n",
        "\n",
        "### ESCRIBA SU CÓDIGO AQUÍ ### (~ 1 línea de código)\n",
        "categoricas = ['', '', '']\n",
        "### FIN DEL CÓDIGO ###"
      ],
      "execution_count": null,
      "outputs": []
    },
    {
      "cell_type": "markdown",
      "metadata": {
        "id": "5zBGMQlpsTcF"
      },
      "source": [
        "### **1.3.  Conteos de embarques**\n",
        "---\n",
        "\n",
        "> **¿Cuántos pasajeros embarcaron en cada uno de los puertos?**\n",
        "\n",
        "Llene la lista **`embarcaron`** con la respuesta correcta. El orden en que ponga los números de pasajeros que embarcaron en cada uno de los puertos no es importante.\n",
        "\n",
        "La respuesta debería debe tener 3 valores numéricos correspondientes al número de personas que embarcaron en:\n",
        "* *Southampton* (S)\n",
        "*  *Cherbourg* (C)\n",
        "* *Queenstown* (Q)\n"
      ]
    },
    {
      "cell_type": "markdown",
      "metadata": {
        "id": "H8tNbv3L-_Gm"
      },
      "source": [
        "<details>    \n",
        "<summary>\n",
        "    <font size=\"3\" color=\"darkgreen\"><b>Pistas</b></font>\n",
        "</summary>\n",
        "\n",
        "* En este ejercicio deberá llenar la lista de manera manual. Debe ayudarse para encontrar los resultados usando las funciones de explicación de datos. Recuerde que *pandas* proporciona una función que realiza los conteos de los datos categóricos almacenados en una variable.\n",
        "\n",
        "* Recuerde que la columna **'Embarked'** almacena los datos acerca del puerto de embarque de los pasajeros."
      ]
    },
    {
      "cell_type": "code",
      "metadata": {
        "id": "Xss4wH1dvVmT"
      },
      "source": [
        "# VARIABLE CALIFICADA embarcaron:\n",
        "\n",
        "### ESCRIBA SU CÓDIGO AQUÍ ### (~ 1 línea de código)\n",
        "embarcaron = []\n",
        "### FIN DEL CÓDIGO ###"
      ],
      "execution_count": null,
      "outputs": []
    },
    {
      "cell_type": "markdown",
      "metadata": {
        "id": "G-hKW1xVvLa0"
      },
      "source": [
        "## **2. Supervivencia**\n",
        "---\n",
        "El conjunto de datos *Titanic* cuenta con la variable **`Survived`**. Esta indica quiénes sobrevivieron a la tragedia, representando a los sobrevivientes con valor igual a $1$ y las víctimas con el valor $0$.\n",
        "\n",
        "Nos interesa saber qué variables influyeron más en la supervivencia de una persona.\n",
        "\n",
        "* Por cada variable numérica encuentre el valor medio de aquellos que sobrevivieron.\n",
        "\n",
        "* En el caso de la variable categórica **`Sex`**, encuentre los valores de la proporción de sobrevivientes para mujeres (*female*) y hombres (*male*).\n",
        "\n"
      ]
    },
    {
      "cell_type": "markdown",
      "metadata": {
        "id": "DY13nlRdTswQ"
      },
      "source": [
        "### **2.1. Supervivencia en variables numéricas**\n",
        "---\n",
        "\n",
        "Encontrar el valor medio de todas las variables numéricas para aquellos que sobrevivieron.\n",
        "\n",
        "Aunque es posible obtener el resultado en una sola línea de código, se recomienda primero calcular los promedios de las variables numéricas para ambos grupos de pasajeros: los que sobrevivieron y los que no, y posteriormente, seleccionar los promedios de los que sobrevivieron. Por lo anterior, este ejercicio se divide en dos partes."
      ]
    },
    {
      "cell_type": "markdown",
      "metadata": {
        "id": "ps8lBjtk_dZ9"
      },
      "source": [
        "<details>    \n",
        "<summary>\n",
        "    <font size=\"3\" color=\"darkgreen\"><b>Pistas</b></font>\n",
        "</summary>\n",
        "\n",
        "* Recuerde que puede conformar grupos a partir de variables o condiciones con el uso de la función **`groupby`** para después realizar operaciones de agregación como el promedio **`mean`** o la suma **`sum`**.\n",
        "* Para este ejercicio deberá considerar las variables con valores numéricos, incluso si son interpretadas como variables categóricas. Delegue esta decisión a *pandas* y sus funciones que sólo operan con valores numéricos.\n"
      ]
    },
    {
      "cell_type": "markdown",
      "metadata": {
        "id": "9beMz3AzTw56"
      },
      "source": [
        "Primero, encuentre los promedios de las variables numéricas para ambos grupos de pasajeros: sobrevivientes y no sobrevivientes.\n",
        "> **Nota**: Tenga en cuenta que el tipo de dato que se solicita es un objeto ***Dataframe*** llamado **'promedios_por_grupo'**."
      ]
    },
    {
      "cell_type": "code",
      "metadata": {
        "id": "WqLlyd0DVUVi"
      },
      "source": [
        "# VARIABLE CALIFICADA promedios_por_grupo:\n",
        "\n",
        "### ESCRIBA SU CÓDIGO AQUÍ ### ~ 1 linea\n",
        "promedios_por_grupo = pd.DataFrame() # Reemplace el DataFrame vacío por la respuesta correcta.\n",
        "### FIN DEL CÓDIGO ###"
      ],
      "execution_count": null,
      "outputs": []
    },
    {
      "cell_type": "code",
      "metadata": {
        "id": "Tq8Sg92OBvCr"
      },
      "source": [
        "#TEST_CELL\n",
        "#CELDA DE PRUEBAS\n",
        "promedios_por_grupo > 10"
      ],
      "execution_count": null,
      "outputs": []
    },
    {
      "cell_type": "markdown",
      "metadata": {
        "id": "7E2q-R3WBTzH"
      },
      "source": [
        "**Salida esperada:**\n",
        "\n",
        "<table border=\"1\" class=\"dataframe\">\n",
        "  <thead>\n",
        "    <tr style=\"text-align: right;\">\n",
        "      <th></th>\n",
        "      <th>PassengerId</th>\n",
        "      <th>Pclass</th>\n",
        "      <th>Age</th>\n",
        "      <th>SibSp</th>\n",
        "      <th>Parch</th>\n",
        "      <th>Fare</th>\n",
        "    </tr>\n",
        "    <tr>\n",
        "      <th>Survived</th>\n",
        "      <th></th>\n",
        "      <th></th>\n",
        "      <th></th>\n",
        "      <th></th>\n",
        "      <th></th>\n",
        "      <th></th>\n",
        "    </tr>\n",
        "  </thead>\n",
        "  <tbody>\n",
        "    <tr>\n",
        "      <th>0</th>\n",
        "      <td>True</td>\n",
        "      <td>False</td>\n",
        "      <td>True</td>\n",
        "      <td>False</td>\n",
        "      <td>False</td>\n",
        "      <td>True</td>\n",
        "    </tr>\n",
        "    <tr>\n",
        "      <th>1</th>\n",
        "      <td>True</td>\n",
        "      <td>False</td>\n",
        "      <td>True</td>\n",
        "      <td>False</td>\n",
        "      <td>False</td>\n",
        "      <td>True</td>\n",
        "    </tr>\n",
        "  </tbody>\n",
        "</table>"
      ]
    },
    {
      "cell_type": "markdown",
      "metadata": {
        "id": "pDgZ-2iTzvOh"
      },
      "source": [
        "Ahora debe seleccionar los promedios del grupo que sobrevivió. Por ejemplo, para aquellos que sobrevivieron el promedio de edad (variable **`Age`**) es aproximadamente **`28.343690`** años.\n",
        "\n",
        "Al interpretar los resultados puede ignorar la variable **`PassengerId`** que, aunque es un valor numérico, es usada como identificador. En cambio, podría ser interesante comparar las diferencias en las tarifas (**`Fare`**) entre ambos grupos.\n",
        "\n",
        "Deje los promedios obtenidos por variable en un objeto *Series* de *pandas* llamado **`supervivencia_numericas`**.\n",
        "\n",
        "\n",
        "> **Nota:** Tenga presente que el tipo de dato que se solicita es un objeto ***Series***."
      ]
    },
    {
      "cell_type": "code",
      "metadata": {
        "id": "YjDyw0B29w-h"
      },
      "source": [
        "# VARIABLE CALIFICADA supervivencia_numericas:\n",
        "\n",
        "### ESCRIBA SU CÓDIGO AQUÍ ### (~ 1 línea de código)\n",
        "supervivencia_numericas = pd.Series() # Reemplace el objeto Series vacío por la respuesta correcta.\n",
        "### FIN DEL CÓDIGO ###"
      ],
      "execution_count": null,
      "outputs": []
    },
    {
      "cell_type": "code",
      "metadata": {
        "id": "hCI6MzoKB1Ny"
      },
      "source": [
        "#TEST_CELL\n",
        "supervivencia_numericas.astype(int)"
      ],
      "execution_count": null,
      "outputs": []
    },
    {
      "cell_type": "markdown",
      "metadata": {
        "id": "8gJsxr25r0PZ"
      },
      "source": [
        "**Salida esperada:**\n",
        "```python\n",
        "PassengerId    444\n",
        "Pclass           1\n",
        "Age             28\n",
        "SibSp            0\n",
        "Parch            0\n",
        "Fare            48\n",
        "Name: 1, dtype: int64\n",
        "```"
      ]
    },
    {
      "cell_type": "markdown",
      "metadata": {
        "id": "ELA5tRjiUC8x"
      },
      "source": [
        "### **2.2. Supervivencia en variables categóricas**\n",
        "---\n",
        "Construya un objeto ***DataFrame*** de *pandas* llamado **`supervivencia_sexo`** que contenga el promedio de supervivencia en cada grupo de la variable **`Sex`**. Debe encontrar los valores de las proporciones de supervivientes para mujeres y hombres por separado. Por ejemplo, si hubieran $3$ mujeres sobrevivientes de un total de $4$ mujeres, y $2$ hombres sobrevivientes de un total de $4$ hombres; las proporciones correspondientes serían: **`female: 0.75`** y **`male: 0.5`**.\n",
        "\n",
        "Puede utilizar la siguiente celda para encontrar los valores correspondientes y ponerlos en el ***DataFrame*** **`supervivencia_sexo`**.\n",
        "\n",
        "> **Nota:** Tenga presente que el tipo de dato que se solicita es un ***DataFrame***.\n"
      ]
    },
    {
      "cell_type": "markdown",
      "metadata": {
        "id": "-nfnlYZYCjHa"
      },
      "source": [
        "<details>    \n",
        "<summary>\n",
        "    <font size=\"3\" color=\"darkgreen\"><b>Pistas</b></font>\n",
        "</summary>\n",
        "\n",
        "* Recuerde que puede conformar grupos a partir de variables o condiciones con el uso de la función **`groupby`** para después realizar operaciones de agregación como el promedio **`mean`** o la suma **`sum`**.\n",
        "* La proporción de una variable de valores binarios ($0$ o $1$) puede ser obtenida a partir del promedio, suponiendo los valores en $1$ como las instancias que hacen parte de la proporción, y los que están en $0$ las que no.\n"
      ]
    },
    {
      "cell_type": "code",
      "metadata": {
        "id": "ROIT4mIEdEG6"
      },
      "source": [
        "# VARIABLE CALIFICADA supervivencia_sexo:\n",
        "\n",
        "### ESCRIBA SU CÓDIGO AQUÍ ### (~ 1-2 líneas de código)\n",
        "supervivencia_sexo = pd.DataFrame() # Reemplace el DataFrame vacío por la respuesta correcta.\n",
        "### FIN DEL CÓDIGO ###"
      ],
      "execution_count": null,
      "outputs": []
    },
    {
      "cell_type": "code",
      "metadata": {
        "id": "c66qkiYtjVB7"
      },
      "source": [
        "#TEST_CELL\n",
        "(supervivencia_sexo * 100).astype(int)"
      ],
      "execution_count": null,
      "outputs": []
    },
    {
      "cell_type": "markdown",
      "metadata": {
        "id": "R5oOYEBE5gMr"
      },
      "source": [
        "**Salida esperada:**\n",
        "\n",
        "```python\n",
        "\t    Survived\n",
        "Sex\n",
        "female  74\n",
        "male    18\n",
        "```"
      ]
    },
    {
      "cell_type": "markdown",
      "metadata": {
        "id": "lkxuBtI355OP"
      },
      "source": [
        "¿Cómo se pueden interpretar estos resultados? Por favor, siempre recuerde analizar e interpretar sus hallazgos."
      ]
    },
    {
      "cell_type": "markdown",
      "metadata": {
        "id": "4luKKP58V-Qs"
      },
      "source": [
        "**¡Felicitaciones!** Ha terminado el quiz. ¡Buen trabajo!\n",
        "\n",
        "## **Entrega**\n",
        "\n",
        "Para entregar el notebook por favor haga lo siguiente:\n",
        "1. Descargue el notebook (`Archivo` -> `Descargar .ipynb`).\n",
        "2. Ingrese a la plataforma de aprendizaje.\n",
        "3. Realice el envío del *notebook* que descargó en la tarea (o quiz) correspondiente.\n",
        "4. Recuerde que si tiene algún error, puede hacer múltiples intentos de envío."
      ]
    },
    {
      "cell_type": "markdown",
      "metadata": {
        "id": "JJbV7A38uZhC"
      },
      "source": [
        "## **Créditos**\n",
        "\n",
        "\n",
        "* **Profesor:** [Felipe Restrepo Calle](https://dis.unal.edu.co/~ferestrepoca/)\n",
        "* **Asistentes docentes:**\n",
        "  - Alberto Nicolai Romero Martínez\n",
        "  - Miguel Angel Ortiz Marín\n",
        "\n",
        "**Universidad Nacional de Colombia** - *Facultad de Ingeniería*\n"
      ]
    }
  ]
}