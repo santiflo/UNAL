{
 "cells": [
  {
   "cell_type": "markdown",
   "metadata": {
    "id": "blpKpnQvwPNy"
   },
   "source": [
    "<img src = \"https://drive.google.com/uc?export=view&id=1zD1_7Y4Ejud8OsuQb49rHGfl9qhihAh5\" alt = \"Encabezado MLDS\" width = \"100%\">  </img>"
   ]
  },
  {
   "cell_type": "markdown",
   "metadata": {
    "id": "4Gb04XWVHDB6"
   },
   "source": [
    "# **Quiz 1 - Lenguaje de programación *Python***\n",
    "---\n",
    "Este quiz le servirá para practicar las habilidades adquiridas en la creación de código en el lenguaje de programación *Python*, en el manejo de variables, tipos de dato, estructuras de control y funciones.\n",
    "\n",
    "> **Nota:** Esta tarea va a ser calificada en la plataforma **[UNCode](https://juezun.github.io/)**. Para esto, en cada ejercicio se indicará si es calificable o no, también los lugares donde debe escribir su código sin modificar lo demás con un aproximado de cantidad de líneas a escribir. No se preocupe si su código toma más líneas, esto es simplemente un aproximado destinado a que pueda replantear su estrategia si el código está tomando más de las esperadas. No es un requisito estricto y soluciones más largas también son válidas. Al finalizar, para realizar el envío (*submission*), descargue el notebook como un archivo **`.ipynb`** y haga su entrega a través de la plataforma de aprendizaje."
   ]
  },
  {
   "cell_type": "code",
   "execution_count": 1,
   "metadata": {
    "id": "875DsJCur8zB"
   },
   "outputs": [
    {
     "name": "stdout",
     "output_type": "stream",
     "text": [
      "Python 3.11.4\n"
     ]
    }
   ],
   "source": [
    "!python --version"
   ]
  },
  {
   "cell_type": "markdown",
   "metadata": {
    "id": "Xyl5fF0zr9r4"
   },
   "source": [
    "Este material fue realizado con la siguiente versión:\n",
    "\n",
    "- Python 3.6.9"
   ]
  },
  {
   "cell_type": "markdown",
   "metadata": {
    "id": "aq3HM6YEMIxM"
   },
   "source": [
    "## **1. FizzBuzz**\n",
    "---\n",
    "*FizzBuzz* es un popular ejercicio de programación de computadores basado en el concepto de divisibilidad de números enteros.\n",
    "\n",
    ">Un número entero $x$ es divisible por $m$ cuando $x$ es un múltiplo de $m$. Es decir, cuando el residuo de la división de $x$ por $m$ es $0$.\n",
    "\n",
    "Un programa que solucione el problema *FizzBuzz* debe seguir las siguientes reglas.\n",
    "\n",
    "> Dado un número entero $x$ como entrada en el programa:\n",
    "  1. Se debe retornar la cadena **`Fizz!`** cuando $x$ es divisible por $3$.\n",
    "  2. Se debe retornar la cadena **`Buzz!`** cuando $x$ es divisible por $5$.\n",
    "  3. Cuando el número $x$ sea divisible **tanto por $3$ como por $5$**, se debe retornar la cadena **`FizzBuzz!`**\n",
    "  4. En los casos que el número no sea divisible por $3$ ni por $5$ se debe retornar la cadena **`...`**\n",
    "\n",
    "Veamos unos ejemplos:\n",
    "\n",
    "```\n",
    ">>> FizzBuzz(3)\n",
    "Fizz!\n",
    "\n",
    ">>> FizzBuzz(11)\n",
    "...\n",
    "\n",
    ">>> FizzBuzz(5)\n",
    "Buzz!\n",
    "\n",
    ">>> FizzBuzz(7)\n",
    "...\n",
    "\n",
    ">>> FizzBuzz(15)\n",
    "FizzBuzz!\n",
    "```"
   ]
  },
  {
   "cell_type": "markdown",
   "metadata": {
    "id": "BA-nbOmnPYl6"
   },
   "source": [
    "<details>    \n",
    "<summary>\n",
    "    <font size=\"3\" color=\"darkgreen\"><b>Pistas</b></font>\n",
    "</summary>\n",
    "\n",
    "* Puede saber si un número $x$ es divisible por $y$ verificando que **`x % y`** es igual a $0$. Recuerde que **`%`** es el operador de módulo.\n",
    "* Asegúrese que esté retornando exactamente lo que se pide. Las únicas salidas válidas de su función deberían ser las cadenas: **`'...'`**, **`'Fizz!'`**, **`'Buzz!'`**, o **`'FizzBuzz!'`**. No debería haber espacios en blanco.\n",
    "* Utilice las estructuras de control condicionales **`if`**, **`elif`** y **`else`** para retornar la respuesta correcta.\n",
    "* Puede utilizar una expresión **`return`** para cada caso posible.\n"
   ]
  },
  {
   "cell_type": "code",
   "execution_count": 2,
   "metadata": {
    "id": "szKPIvFwzhUG"
   },
   "outputs": [],
   "source": [
    "# FUNCIÓN CALIFICADA: FizzBuzz(x)\n",
    "def FizzBuzz(x):\n",
    "    \"\"\"\n",
    "    x: número entero positivo\n",
    "    \n",
    "    Retorna la respuesta a FizzBuzz para el número x\n",
    "    \"\"\"\n",
    "    ### ESCRIBA SU CÓDIGO AQUÍ ###\n",
    "    # Reemplace la palabra None por el código correspondiente\n",
    "    # 8 líneas de código aproximadamente\n",
    "    if x%3==0 and x%5==0: # Valide la primera condición.\n",
    "        return 'FizzBuzz!' # Retorne la respuesta para cada caso\n",
    "    elif x%3==0: # Valide la segunda condición\n",
    "        return 'Fizz!' # Retorne la respuesta para cada caso\n",
    "    elif x%5==0: # Valide la segunda condición\n",
    "        return 'Buzz!' # Retorne la respuesta para cada caso\n",
    "    # Si es necesario agregue más condiciones.\n",
    "    else : # Valide la condición por defecto.\n",
    "        return '...' # Retorne el valor por defecto\n",
    "  ### FIN DEL CÓDIGO ###"
   ]
  },
  {
   "cell_type": "code",
   "execution_count": 3,
   "metadata": {
    "id": "xicbXt1uYDDt"
   },
   "outputs": [
    {
     "name": "stdout",
     "output_type": "stream",
     "text": [
      "Fizz!\n",
      "...\n",
      "Buzz!\n",
      "...\n",
      "FizzBuzz!\n"
     ]
    }
   ],
   "source": [
    "# CELDA DE PRUEBAS\n",
    "print(FizzBuzz(3))\n",
    "print(FizzBuzz(7))\n",
    "print(FizzBuzz(5))\n",
    "print(FizzBuzz(11))\n",
    "print(FizzBuzz(15))"
   ]
  },
  {
   "cell_type": "markdown",
   "metadata": {
    "id": "gS8eqbf4X2Am"
   },
   "source": [
    "La salida de la ejecución de la celda anterior debería ser:\n",
    "```\n",
    "Fizz!\n",
    "...\n",
    "Buzz!\n",
    "...\n",
    "FizzBuzz!\n",
    "```"
   ]
  },
  {
   "cell_type": "markdown",
   "metadata": {
    "id": "HwSDMxzDMWMF"
   },
   "source": [
    "## **2. *FizzBuzz* extendido**\n",
    "---\n",
    "\n",
    "Para hacer las cosas más interesantes le pedimos que para un número entero **`n`** resuelva *FizzBuzz* para todos los números entre $1$ y $n$ (incluido).\n",
    "\n",
    "Implemente la función **`FizzBuzzN`** de tal manera que retorne la solución en una lista de *Python*.\n",
    "\n",
    "> **Nota:** En caso tal de que la entrada no sea un número entero positivo, deberá retornar una **lista vacía** como el resultado de su función.\n",
    "\n",
    "Veamos un ejemplo:\n",
    "\n",
    "```\n",
    ">>> FizzBuzzN(4)\n",
    "['...', '...', 'Fizz!', '...']\n",
    "\n",
    ">>> FizzBuzz(-1)\n",
    "[]\n",
    "```"
   ]
  },
  {
   "cell_type": "markdown",
   "metadata": {
    "id": "WW_D0N3eEDlG"
   },
   "source": [
    "<details>    \n",
    "<summary>\n",
    "    <font size=\"3\" color=\"darkgreen\"><b>Pistas</b></font>\n",
    "</summary>\n",
    "\n",
    "* Utilice un bucle o ciclo **`for`** o **`while`** para realizar la operación sobre cada caso.\n",
    "* Utilice la función **`range(inicio, fin)`**. Tenga en cuenta deberá utilizar el valor ambos argumentos para expresar los límites de su programa.\n",
    "* Llame la función **`FizzBuzz(x)`** declarada en la primera parte del ejercicio. Se considera buena práctica reutilizar código con el uso de funciones."
   ]
  },
  {
   "cell_type": "code",
   "execution_count": 6,
   "metadata": {
    "id": "6s-3IwFKQGdb"
   },
   "outputs": [],
   "source": [
    "# FUNCIÓN CALIFICADA: FizzBuzzN(n)\n",
    "def FizzBuzzN(n):\n",
    "    \"\"\"\n",
    "    n: numero entero que determina el rango [1, n]\n",
    "    \n",
    "    Retorna la respuesta a FizzBuzz para cada número en el rango [1, n] en una lista\n",
    "    \"\"\"\n",
    "    ### ESCRIBA SU CÓDIGO AQUÍ ###\n",
    "    # Reemplace la palabra None por el código correspondiente\n",
    "    # ~ 4 líneas de código\n",
    "    # Cree una lista vacía donde se retornará la respuesta.\n",
    "    respuesta = []\n",
    "    # Recorra el rango de [1, n] y resuelva FizzBuzz.\n",
    "    for i in range (1,n+1):\n",
    "        respuesta.append(FizzBuzz(i))\n",
    "    ### FIN DEL CÓDIGO ###\n",
    "    return respuesta"
   ]
  },
  {
   "cell_type": "code",
   "execution_count": 7,
   "metadata": {
    "id": "7mOw5WE2NhdV"
   },
   "outputs": [
    {
     "data": {
      "text/plain": [
       "['...', '...', 'Fizz!', '...', 'Buzz!']"
      ]
     },
     "execution_count": 7,
     "metadata": {},
     "output_type": "execute_result"
    }
   ],
   "source": [
    "# CELDA DE PRUEBAS\n",
    "FizzBuzzN(5)"
   ]
  },
  {
   "cell_type": "markdown",
   "metadata": {
    "id": "PUEUSpxmUbap"
   },
   "source": [
    "La salida de la celda anterior debería ser:\n",
    "```\n",
    "['...', '...', 'Fizz!', '...', 'Buzz!']\n",
    "```"
   ]
  },
  {
   "cell_type": "code",
   "execution_count": 10,
   "metadata": {
    "id": "f3W35RVK2BR8"
   },
   "outputs": [
    {
     "data": {
      "text/plain": [
       "[]"
      ]
     },
     "execution_count": 10,
     "metadata": {},
     "output_type": "execute_result"
    }
   ],
   "source": [
    "# CELDA DE PRUEBAS\n",
    "FizzBuzzN(-30)"
   ]
  },
  {
   "cell_type": "markdown",
   "metadata": {
    "id": "DCVg_ENm2BR9"
   },
   "source": [
    "La salida de la celda anterior debería ser:\n",
    "```\n",
    "[]\n",
    "```"
   ]
  },
  {
   "cell_type": "markdown",
   "metadata": {
    "id": "4Igf_jPe3yBd"
   },
   "source": [
    "**¡Felicitaciones!** Ha terminado su primer quiz. ¡Buen trabajo!\n",
    "\n",
    "## **Entrega**\n",
    "Para entregar el notebook por favor haga lo siguiente:\n",
    "1. Descargue el notebook (`Archivo` -> `Descargar .ipynb`).\n",
    "2. Ingrese a la plataforma de aprendizaje.\n",
    "3. Realice el envío del *notebook* que descargó en la tarea (o quiz) correspondiente.\n",
    "4. Recuerde que si tiene algún error, puede hacer múltiples intentos de envío."
   ]
  },
  {
   "cell_type": "markdown",
   "metadata": {
    "id": "QETcLEiG3yBs"
   },
   "source": [
    "## **Créditos**\n",
    "\n",
    "* **Profesor:** [Felipe Restrepo Calle](https://dis.unal.edu.co/~ferestrepoca/)\n",
    "* **Asistentes docentes:**\n",
    "  - Alberto Nicolai Romero Martínez\n",
    "  - Miguel Angel Ortiz Marín\n",
    "\n",
    "**Universidad Nacional de Colombia** - *Facultad de Ingeniería*\n"
   ]
  }
 ],
 "metadata": {
  "colab": {
   "provenance": []
  },
  "kernelspec": {
   "display_name": "Python 3 (ipykernel)",
   "language": "python",
   "name": "python3"
  },
  "language_info": {
   "codemirror_mode": {
    "name": "ipython",
    "version": 3
   },
   "file_extension": ".py",
   "mimetype": "text/x-python",
   "name": "python",
   "nbconvert_exporter": "python",
   "pygments_lexer": "ipython3",
   "version": "3.11.4"
  }
 },
 "nbformat": 4,
 "nbformat_minor": 4
}
