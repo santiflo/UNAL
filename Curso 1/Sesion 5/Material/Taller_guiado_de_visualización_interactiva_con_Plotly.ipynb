{
  "nbformat": 4,
  "nbformat_minor": 0,
  "metadata": {
    "colab": {
      "provenance": [],
      "toc_visible": true,
      "private_outputs": true
    },
    "kernelspec": {
      "display_name": "Python 3",
      "name": "python3"
    }
  },
  "cells": [
    {
      "cell_type": "markdown",
      "metadata": {
        "id": "fb9pUStUq6xf"
      },
      "source": [
        "<img src = \"https://drive.google.com/uc?export=view&id=1FSCcyEY8_AsxSOTiv88txhmxbUwfLw_P\" alt = \"Encabezado MLDS\" width = \"100%\">  </img>"
      ]
    },
    {
      "cell_type": "markdown",
      "metadata": {
        "id": "QNtbLi2vJ8F8"
      },
      "source": [
        "# **Visualización interactiva de datos con *Plotly***\n",
        "___\n",
        "\n",
        "<img src = \"https://images.prismic.io/plotly-marketing-website/bd1f702a-b623-48ab-a459-3ee92a7499b4_logo-plotly.svg?auto=compress,format\" alt = \"pandas Logo\" width = \"70%\">  </img>\n",
        "\n",
        "\n",
        "[***Plotly***](https://plot.ly/python/) es una librería de *Python* que permite crear gráficos interactivos que se pueden usar en cuadros de mando (*dashboards*) o sitios web tradicionales. Las visualizaciones de *Plotly* se pueden guardar como archivos **HTML** (manteniendo su interactividad) y, también, como imágenes estáticas.\n",
        "\n",
        "En este taller guiado se discutirá el uso de *Plotly* en la construcción de visualizaciones interactivas en *Python* usando el módulo ***Plotly Express***, que permite generar visualizaciones interactivas comunes en pocas líneas de código. Es muy similar a *Seaborn* en varios aspectos, pues puede ser utilizado directamente con objetos de *pandas* usando el módulo **`plot`**. Esto permite  generar de manera flexible y dinámica visualizaciones de datos estadísticos. Además, cuenta con *datasets* populares, ideales para ejemplificar algunas de sus funcionalidades."
      ]
    },
    {
      "cell_type": "markdown",
      "metadata": {
        "id": "8pAAQ5TeGnIM"
      },
      "source": [
        "## **1. Importar y configurar *Plotly***\n",
        "---"
      ]
    },
    {
      "cell_type": "markdown",
      "metadata": {
        "id": "AaiOVYO2t9MU"
      },
      "source": [
        "Primero, instalamos la última versión de ***Plotly*** por la línea de comandos:"
      ]
    },
    {
      "cell_type": "code",
      "metadata": {
        "id": "nnIIloq6J-1k"
      },
      "source": [
        "# Ejecute esta celda para instalar la versión más reciente\n",
        "!pip install -U plotly\n",
        "!pip install -U kaleido # Necesitamos esta librería para exportar las visualizaciones como imágenes estáticas"
      ],
      "execution_count": null,
      "outputs": []
    },
    {
      "cell_type": "code",
      "metadata": {
        "id": "ZmQX2-x9FUSV"
      },
      "source": [
        "import plotly\n",
        "print(f'Plotly: {plotly.__version__}')"
      ],
      "execution_count": null,
      "outputs": []
    },
    {
      "cell_type": "markdown",
      "metadata": {
        "id": "wmX9jMGCuteB"
      },
      "source": [
        "Importamos y configuramos algunas de las funciones específicas más importantes desde *Plotly*."
      ]
    },
    {
      "cell_type": "code",
      "metadata": {
        "id": "48tNxPfv_Ys4"
      },
      "source": [
        "import plotly.graph_objs as go\n",
        "import plotly.express as px"
      ],
      "execution_count": null,
      "outputs": []
    },
    {
      "cell_type": "code",
      "metadata": {
        "id": "wtRwvAm3J8GH"
      },
      "source": [
        "#Otras librerías y configuraciones usadas en este material\n",
        "import pandas as pd\n",
        "import numpy as np\n",
        "\n",
        "print(f'Pandas: {pd.__version__}')\n",
        "print(f'NumPy: {np.__version__}')"
      ],
      "execution_count": null,
      "outputs": []
    },
    {
      "cell_type": "markdown",
      "metadata": {
        "id": "rn2S1QbwMrvO"
      },
      "source": [
        "Trabajar con versiones anteriores producirá errores en funcionalidades recientemente añadidas, como en el uso de *Plotly* desde objetos de *Pandas*. Asegúrese de tener la versión *4.10.0* o superior.\n",
        "\n",
        "> **Nota:** En el tiempo de creación de este material *Google Colaboratory* cuenta con una versión antigua por defecto (versión 4.4.0) de *Plotly*. Es importante que ejecute el comando **`!pip install -U plotly`** para cargar en el entorno la última versión disponible."
      ]
    },
    {
      "cell_type": "markdown",
      "metadata": {
        "id": "-of9Thn4FZ_1"
      },
      "source": [
        "Este material fue construido con las siguientes versiones:\n",
        "- Plotly 5.15.0\n",
        "- Pandas 1.5.3\n",
        "- NumPy 1.22.4\n",
        "  "
      ]
    },
    {
      "cell_type": "markdown",
      "metadata": {
        "id": "s6mV-s1HJ8G0"
      },
      "source": [
        "### **1.1. Datos de ejemplo**\n",
        "---\n",
        "\n",
        "En el transcurso de este taller utilizaremos varios *datasets* para construir los ejemplos. El primero de ellos contiene datos acerca de estadísticas de los [jugadores de la NBA](https://www.kaggle.com/drgilermo/nba-players-stats-20142015) que participaron en la temporada 2014-2015. Puede encontrar el *dataset* original en *Kaggle*. Este conjunto de datos cuenta con las siguientes variables:\n",
        "\n",
        "| Variable | Definición\t| Valores |\n",
        "| --- | --- | --- |\n",
        "| Name | \tNombre del jugador  | |\n",
        "|Games Played| Juegos disputados sobre un máximo de 82 juegos de la temporada regular.| |\n",
        "|MIN| Minutos disputados en la temporada.| |\n",
        "|PTS| Puntos anotados en la temporada.| |\n",
        "|FGM| Tiros anotados.  | |\n",
        "|FGA| Tiros intentados. | |\n",
        "|FG%| FGM/FGA. | |\n",
        "|3PM| Tiros de 3 puntos anotados. | |\n",
        "|3PA| Tiros de 3 puntos intentados. | |\n",
        "|3P%| 3PM/3PA. | |\n",
        "|FTM| Tiros libres anotados. | |\n",
        "|FTA| Tiros libres intentados. | |\n",
        "|FT%| FTM/FTA. | |\n",
        "|OREB| Rebotes ofensivos. | |\n",
        "|OREB| Rebotes defensivos. | |\n",
        "|AST| Asistencias. | |\n",
        "|STL| Robos de balón. | |\n",
        "|BLK| Bloqueos de balón. | |\n",
        "|TOV| Pérdidas de balón. | |\n",
        "|PF| Faltas personales. | |\n",
        "|EFF| Eficiencia. | |\n",
        "|AST/TOV| Porcentaje de asistencias por pérdida. | |\n",
        "|STL/TOV| Porcentaje de robos por pérdida. | |\n",
        "|Age| Edad al finalizar la temporada 2014-2015. (Abril 2015) | |\n",
        "|Birth_Place| Lugar de nacimiento. | |\n",
        "|Collage| Universidad de la cual salió el jugador. | |\n",
        "|Experience| Indicador de experiencia del jugador. | |\n",
        "|Height| Altura del jugador en cm. | |\n",
        "|Pos| [Posición del jugador.](https://es.wikipedia.org/wiki/Posiciones_del_baloncesto) | PG (Base), SG (Escolta), SF (Alero), PF (Ala-pivot), C (Centro) |\n",
        "|Team | Equipo con el que terminó disputando la temporada. | |\n",
        "|Weight | Peso en kg. | |\n",
        "|BMI |  Índice de masa corporal. (*Body Mass Index*)| |"
      ]
    },
    {
      "cell_type": "markdown",
      "metadata": {
        "id": "adqf_QGVpsMi"
      },
      "source": [
        "> **IMPORTANTE:**  \n",
        "1. Descargue el archivo con el conjunto de datos disponible en el siguiente enlace: **[nba_players_stats.csv](https://drive.google.com/uc?export=download&id=13LDSB4Gh2pF4LM4hHoCohixDY-NKzzvl)**. Puede descargarlo y dejarlo disponible en su sistema de archivos mediante la siguiente instrucción:"
      ]
    },
    {
      "cell_type": "code",
      "metadata": {
        "id": "KS3gYb8TD_PM"
      },
      "source": [
        "# Descargamos el dataset desde una URL\n",
        "!wget --verbose=off --no-check-certificate 'https://docs.google.com/uc?export=download&id=13LDSB4Gh2pF4LM4hHoCohixDY-NKzzvl' -O  nba_players_stats.csv"
      ],
      "execution_count": null,
      "outputs": []
    },
    {
      "cell_type": "markdown",
      "metadata": {
        "id": "x_YU5jMNEp1X"
      },
      "source": [
        "> 2. Ejecute la siguiente celda para cargar el conjunto de datos dentro del *DataFrame* de *pandas* llamado **`nba_df`**:"
      ]
    },
    {
      "cell_type": "code",
      "metadata": {
        "id": "6St6_5HdVP6v"
      },
      "source": [
        "nba_df = pd.read_csv('nba_players_stats.csv').dropna() # Eliminamos registros con valores faltantes\n",
        "\n",
        "nba_df.info()"
      ],
      "execution_count": null,
      "outputs": []
    },
    {
      "cell_type": "code",
      "metadata": {
        "id": "s6XiXb-1J8G_"
      },
      "source": [
        "nba_df.head()"
      ],
      "execution_count": null,
      "outputs": []
    },
    {
      "cell_type": "markdown",
      "metadata": {
        "id": "GgJKpdcSF4Iz"
      },
      "source": [
        "### **1.2. *Datasets* de *Plotly***\n",
        "---\n",
        "\n",
        "Al igual que otras librerías, ***Plotly*** dispone de un repositorio de *datasets* de demostración que serán usados en algunos de los ejemplos de esta guía. Para cargar estos *dataset* deberá ejecutar las funciones expuestas en el módulo **`plotly.data`** o su equivalente **`plotly.express.data`**. Algunas de estas son:\n",
        "\n",
        "* **`iris`**: El famoso *dataset* de especies de flores **Iris**, discutido en unidades anteriores.\n",
        "* **`tips`**: El famoso *dataset* de comensales y propinas en un restaurante, discutido en unidades anteriores.\n",
        "* **`gapminder`**: Una recopilación de datos por país como la población, producto interno bruto (*GDP*), o la expectativa de vida en un determinado año. Este *dataset* fue recopilado por la fundación [*Gapminder*](https://www.gapminder.org/).\n",
        "* **`carshare`**: *Dataset* con la disponibilidad de un servicio de vehículos compartidos en la ciudad de Montreal, Canadá.\n",
        "* **`election` | `election_geojson`**: *Dataset* con los resultados electorales de las elecciones de alcalde de la ciudad de Montreal, Canadá. Cuenta con una alternativa que contiene datos geográficos en formato **_GeoJSON_** dividido por distrito electoral.\n",
        "> **NOTA:** Para mayor información acerca de datos geoespaciales, consulte las siguientes guías de esta unidad, en donde se presentará la librería *GeoPandas* y herramientas para construir visualizaciones de mapas interactivos.\n",
        "* **`medals_long` | `medals_wide`**: *Dataset* con datos de los resultados en la competición olímpica de patinaje de velocidad sobre pista corta de las 3 mejores naciones hasta el año 2020. La versión \"long\" cuenta con el tipo de medalla en la variable **`medal`**, mientras que la versión \"wide\" cuenta con variables independientes para medallas de oro (**`gold`**), plata (**`silver`**) y bronce (**`bronze`**).\n",
        "* **`wind`**: *Dataset* de mediciones de la intensidad, dirección cardinal y frecuencia de corrientes de viento en un experimento.\n",
        "* **`stocks`**: *Dataset* con los precios de cierre de acciones de 6 compañías de tecnología entre 2018 y 2019. Estas son *Google* (**`'GOOG'`**), *Apple* (**`'AAPL'`**), *Amazon* (**`'AMZN'`**), *Facebook* (**`'FB'`**), *Netflix* (**`'NFLX'`**) y *Microsoft* (**`'MSFT'`**) y se encuentran indexadas por la fecha de la acción.  \n",
        "  \n",
        "\n",
        "Esta lista se puede expandir conforme se actualiza la librería. Si quiere consultar la lista completa puede dirigirse al siguiente [enlace](https://plotly.com/python-api-reference/generated/plotly.data.html#module-plotly.data). A continuación, algunos ejemplos de cómo importar estos *dataset*:\n"
      ]
    },
    {
      "cell_type": "code",
      "metadata": {
        "id": "17Ppmpo9MKuA"
      },
      "source": [
        "# Usando plotly.data.<Nombre del dataset>\n",
        "iris_df = plotly.data.iris()\n",
        "\n",
        "iris_df.head()"
      ],
      "execution_count": null,
      "outputs": []
    },
    {
      "cell_type": "code",
      "metadata": {
        "id": "qZT6JKZXMabV"
      },
      "source": [
        "# Usando px.data (plotly.express.data)\n",
        "tips_df = px.data.tips()\n",
        "\n",
        "tips_df.head()"
      ],
      "execution_count": null,
      "outputs": []
    },
    {
      "cell_type": "markdown",
      "metadata": {
        "id": "uezg2oNlJ8H5"
      },
      "source": [
        "## **2. Usando *Plotly* con *Pandas***\n",
        "---\n",
        "\n",
        "*Plotly* permite, entre otras cosas, construir versiones interactivas de las codificaciones estadísticas más comunes que ya hemos mencionado con librerías como *Pandas*, *Matplotlib* o *Seaborn*. En este material, discutiremos una forma de definir una interacción directa con los métodos internos de los objetos *DataFrame* y *Series* de *Pandas*."
      ]
    },
    {
      "cell_type": "markdown",
      "metadata": {
        "id": "tZkur4yTKL-n"
      },
      "source": [
        "Como podrá recordar del material revisado en semanas anteriores de la librería *Pandas*, el método **`.plot`** de los objetos de *Pandas* permite generar visualizaciones comunes directamente. Por defecto, estas visualizaciones se generan con la librería *Matplotlib*, dada su popularidad y flexibilidad. Sin embargo, cuando se requiere explorar datos de mayor complejidad puede ser necesario optar por codificaciones que utilicen acciones interactivas para cumplir de mejor manera una tarea determinada.\n",
        "\n",
        "Para esto, *Pandas* permite a otras librerías de visualización como *Plotly* definir las visualizaciones que usará por defecto en el módulo **`plot`**. De este modo, el usuario puede construir las visualizaciones de *Plotly* de una manera transparente y sencilla, simplemente es necesario configurar que usaremos *Plotly* como \"*back-end*\".\n",
        "\n",
        "A partir de la versión **`4.8.0`** de *Plotly* se añadió soporte para permitir su uso como *backend* de visualización de *Pandas*, permitiendo generar visualizaciones interactivas directamente desde un objeto *DataFrame*."
      ]
    },
    {
      "cell_type": "code",
      "metadata": {
        "id": "IePnPX29RS9c"
      },
      "source": [
        "# Con este comando le indicamos a pandas que construiremos visualizaciones basadas\n",
        "# en Matplotlib, como las presentadas en unidades anteriores.\n",
        "# Este es el comportamiento por defecto\n",
        "pd.options.plotting.backend = \"matplotlib\""
      ],
      "execution_count": null,
      "outputs": []
    },
    {
      "cell_type": "markdown",
      "metadata": {
        "id": "cShIn2TXIiVv"
      },
      "source": [
        "Recordemos un ejemplo usando esta funcionalidad. En este caso un gráfico de líneas de la longitud del sépalo en el *dataset* **`iris_df`**:"
      ]
    },
    {
      "cell_type": "code",
      "metadata": {
        "id": "qZFUGnldJ8Hp"
      },
      "source": [
        "iris_df['sepal_length'].plot()"
      ],
      "execution_count": null,
      "outputs": []
    },
    {
      "cell_type": "markdown",
      "metadata": {
        "id": "ZPiat2GbM3jy"
      },
      "source": [
        "La visualización generada en la anterior celda genera un objeto de *Matplotlib*. Para configurar **`plotly`**, modificaremos el parámetro **`pd.options.plotting.backend`** de *Pandas* con el nombre de la nueva librería a usar como *backend* en reemplazo de **`matplotlib`**."
      ]
    },
    {
      "cell_type": "code",
      "metadata": {
        "id": "WMpt8SBmJD2p"
      },
      "source": [
        "pd.options.plotting.backend = \"plotly\""
      ],
      "execution_count": null,
      "outputs": []
    },
    {
      "cell_type": "markdown",
      "metadata": {
        "id": "DIuWCjG3JFNm"
      },
      "source": [
        "Ahora veamos nuevamente el resultado de la visualización:"
      ]
    },
    {
      "cell_type": "code",
      "metadata": {
        "id": "hrwwUK2hVf9Z"
      },
      "source": [
        "iris_df['sepal_length'].plot()"
      ],
      "execution_count": null,
      "outputs": []
    },
    {
      "cell_type": "markdown",
      "metadata": {
        "id": "UdqevXvIYaSm"
      },
      "source": [
        "La figura anterior es una figura interactiva generada con la librería ***Plotly***.  Con ella se pueden realizar distintos tipos de acciones interactivas como las mencionadas a continuación:\n",
        "\n",
        "  * Puede **explorar** los valores en los ejes $x$ y $y$ (Botón **\"Pan\"**). Además, puede usar un botón de la barra de navegación para regresar a la posición original.\n",
        "  * Puede **examinar** con el zoom áreas específicas de la visualización (Botón **\"Zoom\"**). Además, puede usar un botón de la barra de navegación para regresar a la escala inicial.\n",
        "  * Puede pasar el mouse encima de un valor para **revisar** su información específica.\n",
        "  * Puede **registrar** el estado actual del gráfico como un archivo de imagen en formato ***.png*** (Botón **\"Download plot as png\"**).\n",
        "\n",
        "Lo invitamos a explorar estas opciones de forma interactiva antes de continuar con las demás visualizaciones.\n"
      ]
    },
    {
      "cell_type": "markdown",
      "metadata": {
        "id": "qLlpcBGLdaVp"
      },
      "source": [
        "### **2.1. Comandos conocidos, resultados interactivos**\n",
        "---\n",
        "Esta manera de trabajar con *Plotly* es completamente transparente para el programador, simplemente debemos usar gran parte de las opciones y tipos de visualizaciones que conocemos previamente del módulo **`plot`** de *pandas*. De esta manera estaremos convirtiendo las visualizaciones estáticas tradicionales en herramientas interactivas.\n",
        "\n",
        "Por ejemplo, supongamos que queremos conocer la distribución de la variable **`sepal_width`** por medio de un diagrama de cajas, diferenciando cada una de las especies de flor:"
      ]
    },
    {
      "cell_type": "code",
      "metadata": {
        "id": "ytstWZKKKTvo"
      },
      "source": [
        "iris_df[['sepal_width', 'species']].plot(kind='box', color='species')"
      ],
      "execution_count": null,
      "outputs": []
    },
    {
      "cell_type": "markdown",
      "metadata": {
        "id": "Dya_fkoPNgy9"
      },
      "source": [
        "Observe que se puede ocultar alguna de las especies simplemente haciendo clic en la leyenda de la visualización en la especie que queremos ocultar/mostrar. Esto es muy útil para **comparar** distribuciones entre sí, o incluso, para **resumir** una única distribución.\n",
        "\n",
        "\n",
        "Sin embargo, al trabajar de esta manera con *Plotly*, tenga en cuenta que de acuerdo a la documentación oficial:\n",
        "\n",
        "> *El backend de Plotly para Pandas no pretende ser un sustituto directo del predeterminado; no implementa todos o incluso la mayoría de las mismas palabras clave para los argumentos...*\n",
        "\n",
        "Para conocer más detalles, le recomendamos revisar la **[documentación oficial](https://plotly.com/python/pandas-backend/)** del backend de *Plotly* para *Pandas*.\n",
        "\n",
        "\n"
      ]
    },
    {
      "cell_type": "markdown",
      "metadata": {
        "id": "jYIf-ctacciB"
      },
      "source": [
        "### **2.2. Exportar visualizaciones desde *Plotly***\n",
        "---\n",
        "\n",
        "Las visualizaciones creadas con *Plotly* pueden ser exportadas como:\n",
        "1. [Imágenes estáticas](https://plotly.com/python/static-image-export/) en formatos como **`PNG`**, **`JPG`**, **`SVG`** y **`PDF`**.\n",
        "2. [Visualizaciones interactivas en páginas **`HTML`**](https://plotly.com/python/interactive-html-export/).\n",
        "\n",
        "Veamos algunos ejemplos:"
      ]
    },
    {
      "cell_type": "code",
      "metadata": {
        "id": "OTsWoVyIfIWL"
      },
      "source": [
        "# Primero generamos una figura de Plotly con nuestra visualización.\n",
        "fig = iris_df[['petal_length', 'species']].plot(kind='hist', color='species')\n",
        "fig.show()"
      ],
      "execution_count": null,
      "outputs": []
    },
    {
      "cell_type": "markdown",
      "metadata": {
        "id": "mOukp8dQgeiq"
      },
      "source": [
        "A partir de la figura generada al llamar una función de visualización de *Plotly* podemos generar imágenes estáticas por medio de la función **`write_image`**:"
      ]
    },
    {
      "cell_type": "code",
      "metadata": {
        "id": "42s0fIPrcGNe"
      },
      "source": [
        "fig.write_image('histogramas.png') # PNG\n",
        "fig.write_image('histogramas.jpg') # JPG\n",
        "fig.write_image('histogramas.svg') # SVG (Formato vectorial)\n",
        "fig.write_image('histogramas.pdf') # PDF (Formato vectorial)"
      ],
      "execution_count": null,
      "outputs": []
    },
    {
      "cell_type": "markdown",
      "metadata": {
        "id": "XG3k-Ee4gw1c"
      },
      "source": [
        "Además de esto podemos generar una **página _HTML_** interactiva por medio del método **`write_html`**:"
      ]
    },
    {
      "cell_type": "code",
      "metadata": {
        "id": "fE-FmQSPgxvR"
      },
      "source": [
        "fig.write_html('histogramas.html')"
      ],
      "execution_count": null,
      "outputs": []
    },
    {
      "cell_type": "markdown",
      "metadata": {
        "id": "VzkfI1BmiraT"
      },
      "source": [
        "Dedique unos momentos para descargar y examinar los archivos exportados de forma local.\n",
        "\n",
        "> **Nota**: es posible que su navegador esté bloqueando las descargas. En ese caso deberá permitir a *Google Colaboratory* poder descargar archivos.\n",
        "\n",
        "En el caso que desee que la versión **`HTML`** ocupe menos espacio en disco, puede usar el siguiente parámetro:"
      ]
    },
    {
      "cell_type": "code",
      "metadata": {
        "id": "M_e_yw8rkpd5"
      },
      "source": [
        "fig.write_html('histogramas_lite.html',\n",
        "               include_plotlyjs='cdn') # Requiere acceso a internet al ejecutar la página generada para ejecutar el script remoto de Plotly."
      ],
      "execution_count": null,
      "outputs": []
    },
    {
      "cell_type": "markdown",
      "metadata": {
        "id": "i_ujXNGRljQe"
      },
      "source": [
        "> **IMPORTANTE:** Estas formas de exportar las visualizaciones construidas con *Plotly* también funcionan de igual manera para los módulos que se exploran a continuación y no son exclusivos de las figuras generadas con el *backend* de *Pandas*."
      ]
    },
    {
      "cell_type": "markdown",
      "metadata": {
        "id": "0U5g80oWMvj9"
      },
      "source": [
        "## **3. Visualizaciones comunes con *Plotly***\n",
        "---\n",
        "En esta sección se discutirán las visualizaciones comunes generadas con *Plotly* por medio de sus dos submódulos principales, **`plotly.express`** y **`plotly.graph_objects`**.\n",
        "\n",
        "En el transcurso del material trabajaremos con el módulo **`plotly.express`** (importado previamente como **`px`**). Este sirve como un módulo de alto nivel desde el cual es posible generar rápidamente las visualizaciones más comunes, de manera similar a **`pyplot`** (importado generalmente como **`plt`**) de *Matplotlib*.\n",
        "\n",
        "De manera alternativa es posible generar las mismas visualizaciones con el módulo **`plotly.graph_objects`** (importado previamente como **`go`**), que ofrece una mayor personalización y capacidad de manipulación de los objetos **`Figure`** de *Plotly*."
      ]
    },
    {
      "cell_type": "markdown",
      "metadata": {
        "id": "Qmh3ug90J8H7"
      },
      "source": [
        "### **3.1. Diagrama de dispersión: `scatter`**\n",
        "---\n",
        "\n",
        "La primera visualización común es el **diagrama de dispersión**, discutido en unidades anteriores. Para esto, se utiliza el método **`px.scatter`** con configuraciones que funcionan como se esperaría en librerías como *Matplotlib* o *Seaborn*. En este caso, usaremos dos variables del conjunto de datos de la liga de baloncesto americana *NBA*:"
      ]
    },
    {
      "cell_type": "code",
      "metadata": {
        "id": "ZQc24-RMJ8H9"
      },
      "source": [
        "px.scatter(nba_df,        # Nombre del dataframe\n",
        "                 x='Age',       # Eje x: variable de la edad del jugador\n",
        "                 y='FG%',       # Eje y: variable de \"efectividad\" del jugador (anotaciones / intentos)\n",
        "                 labels = {'Age': 'Edad', 'FG%': 'Efectividad de lanzamientos'} # Etiquetas visibles para cada variable, en forma de diccionario.\n",
        "                )"
      ],
      "execution_count": null,
      "outputs": []
    },
    {
      "cell_type": "markdown",
      "metadata": {
        "id": "W6wTg4T2bWyj"
      },
      "source": [
        "Podemos codificar otras variables en canales como el **color** o el **tamaño** de los marcadores."
      ]
    },
    {
      "cell_type": "code",
      "metadata": {
        "id": "6IbwD7vzZei7"
      },
      "source": [
        "px.scatter( nba_df,            # Nombre del dataframe.\n",
        "             x='Height',       # Eje x: variable de la altura del jugador.\n",
        "             y='FGA',          # Eje y: variable de total de tiros intentados.\n",
        "             color = 'Weight', # Color (Tono) del marcador: Peso del jugador.\n",
        "             size = 'FGM',     # Tamaño del marcador: Total de tiros anotados.\n",
        "             labels = {'Age': 'Edad',\n",
        "                       'FGM': 'Lanzamientos anotados',\n",
        "                       'FGA': 'Lanzamientos intentados',\n",
        "                       'Height': 'Altura (cm)',\n",
        "                       'Weight': 'Peso (Kg)'\n",
        "                       })"
      ],
      "execution_count": null,
      "outputs": []
    },
    {
      "cell_type": "markdown",
      "metadata": {
        "id": "iYkoCA9wb32Q"
      },
      "source": [
        "De igual forma, se pueden componer visualizaciones directamente con el uso de los argumentos **`facet_row`** y **`facet_col`** que permiten **yuxtaponer** visualizaciones a partir de los valores de algunas de sus variables.\n",
        "Por ejemplo, generaremos una visualización del *dataset* de la NBA que compare la altura del jugador con la cantidad de puntos anotados en total (codificado con la posición en $y$) y de tiro largo (codificado con el tono de color) usando como referencia para la yuxtaposición la posición del jugador. Además, usaremos una gráfica marginal (ubicada en el lateral) de violín para describir la distribución de las alturas de cada grupo de jugadores."
      ]
    },
    {
      "cell_type": "code",
      "metadata": {
        "id": "fj6jpN-VckoW"
      },
      "source": [
        "px.scatter(nba_df,\n",
        "       x=\"Height\",      # Eje X. Altura del jugador.\n",
        "       y=\"FGM\",         # Eje Y. Tiros anotados.\n",
        "       color=\"3PM\",     # Color (Tono) del marcador. Tiros de 3 puntos anotados.\n",
        "       facet_col=\"Pos\", # Composición en columnas de gráficas. Posición del jugador\n",
        "       marginal_x = 'violin'   # Tipo de función de visualización marginal para la distribución.\n",
        "       )"
      ],
      "execution_count": null,
      "outputs": []
    },
    {
      "cell_type": "markdown",
      "metadata": {
        "id": "WSa1sFyaJ8IQ"
      },
      "source": [
        "### **3.2. Gráficas de líneas: `line`**\n",
        "---\n",
        "\n",
        "Otra de las visualizaciones comunes es la gráfica de líneas, discutida en unidades anteriores. En *Plotly*, se genera con el método **`px.line`**, recibiendo los mismos argumentos que los diagramas de dispersión."
      ]
    },
    {
      "cell_type": "code",
      "metadata": {
        "id": "dSMuIoLgfBtJ"
      },
      "source": [
        "# Datos de prueba a partir de funciones trigonométricas.\n",
        "x = np.linspace(1, 4*np.pi, 50)\n",
        "y1 = np.sin(x)\n",
        "y2 = np.cos(x)\n",
        "y3 = np.log(x)\n",
        "\n",
        "# DataFrame necesario para generar las visualizaciones.\n",
        "df = pd.DataFrame({'Seno': y1,\n",
        "                   'Coseno': y2,\n",
        "                   'Logarítmo':y3},\n",
        "                  index = x)\n",
        "\n",
        "# Dependiendo de la naturaleza del dataset, Plotly intenta inferir las variables utilizadas.\n",
        "fig = px.line(df, labels = {'index': 'x', 'value': 'f(x)'})\n",
        "\n",
        "fig"
      ],
      "execution_count": null,
      "outputs": []
    },
    {
      "cell_type": "markdown",
      "metadata": {
        "id": "sdLKjvLcg5Ud"
      },
      "source": [
        "Se puede manipular la figura para añadir contenido nuevo. Por ejemplo, si quisiéramos añadir una nueva línea a una figura generada previamente, deberíamos crear un objeto del módulo **_Plotly Graph Objects_** (**`go`**) y añadirlo a la figura.\n",
        "\n",
        "En este ejemplo, añadiremos una línea con el método **`go.Scatter`**, que permite crear figuras de dos dimensiones en forma de líneas o figuras de tipo dispersión de acuerdo a los argumentos de personalización utilizados para generarlos."
      ]
    },
    {
      "cell_type": "code",
      "metadata": {
        "id": "aCiWFyMZgXeX"
      },
      "source": [
        "fig.add_trace(go.Scatter(x = x,  # Datos del eje X.\n",
        "                         y = x,  # Datos del eje Y.\n",
        "                         name = 'Lineal', # Nombre del objeto Scatter.\n",
        "                         mode='markers'   # Modo de la línea (Líneas y puntos)\n",
        "                         ))"
      ],
      "execution_count": null,
      "outputs": []
    },
    {
      "cell_type": "markdown",
      "metadata": {
        "id": "w4UOKbtPpdaf"
      },
      "source": [
        "Podemos seguir añadiendo objetos gráficos a nuestras figuras. Estos se conservan, por lo que si se ejecuta alguna de estas celdas nuevamente se tendrán dos trazos idénticos en la figura."
      ]
    },
    {
      "cell_type": "code",
      "metadata": {
        "id": "JQFgiuqth9uj"
      },
      "source": [
        "fig.add_trace(go.Scatter(x = x,\n",
        "                         y = x * np.log(x),\n",
        "                         name = 'Otra',\n",
        "                         line= {'color': 'orange',\n",
        "                                'width': 4,\n",
        "                                'dash': 'dash'} # Argumentos de personalización de la línea.\n",
        "                         ))"
      ],
      "execution_count": null,
      "outputs": []
    },
    {
      "cell_type": "markdown",
      "metadata": {
        "id": "iJn_ADV4kJFq"
      },
      "source": [
        "Recuerde que todas las visualizaciones de *Plotly* son interactivas. Esto la convierte, entre otras cosas, en una excelente herramienta para análisis numérico junto a librerías como *NumPy* o *SciPy*."
      ]
    },
    {
      "cell_type": "markdown",
      "metadata": {
        "id": "rweoZzrNJ8JC"
      },
      "source": [
        "### **3.3. Gráficas de barras: `bar`**\n",
        "---\n",
        "\n",
        "Otra posible codificación permitida en *Plotly* son los diagramas de barras. Esto es posible con la función **`px.bar`** de *Plotly*, que funciona de forma similar a las funciones presentadas hasta ahora.\n",
        "\n",
        "En este ejemplo utilizaremos el conjunto de datos **`tips`**:\n"
      ]
    },
    {
      "cell_type": "code",
      "metadata": {
        "id": "GUoQlBoFlGv6"
      },
      "source": [
        "px.bar(tips_df, # DataFrame. Dataset de Propinas 'tips'.\n",
        "       x = 'sex',          # Eje X. Variable de género.\n",
        "       y = 'total_bill',   # Eje X. Variable del valor total de la cuenta (factura).\n",
        "       color = 'smoker')   # Color (Tono) del marcador. Variable de condición de fumador."
      ],
      "execution_count": null,
      "outputs": []
    },
    {
      "cell_type": "markdown",
      "metadata": {
        "id": "oEmft4LlljIl"
      },
      "source": [
        "A diferencia de otros diagramas de barras, los diagramas interactivos de *Plotly* permiten consultar los elementos particulares que componen cada grupo. Podemos usar los argumentos de composición de visualizaciones para generar aún más variables sobre las que discernir la información generada:"
      ]
    },
    {
      "cell_type": "code",
      "metadata": {
        "id": "A0gWwAOUrSi_"
      },
      "source": [
        "px.bar(tips_df,\n",
        "       x = 'sex',\n",
        "       y = 'total_bill',\n",
        "       color = 'smoker',\n",
        "       barmode = 'group' # Generar diagramas de barras lado a lado, sin apilar las categorías de color.\n",
        ")"
      ],
      "execution_count": null,
      "outputs": []
    },
    {
      "cell_type": "code",
      "metadata": {
        "id": "o2jeVHtSmAlF"
      },
      "source": [
        "px.bar(tips_df,\n",
        "       x=\"total_bill\",     # Eje X. Valor total de la factura.\n",
        "       y=\"day\",            # Eje Y. Día de la semana.\n",
        "       color=\"smoker\",     # Color (Tono) del marcador. Variable de condición de fumador.\n",
        "       barmode = 'group',  # Diagramas de barras lado a lado, sin apilar las categorías de color.\n",
        "       orientation = 'h',  # Diagrama de barras horizontal\n",
        "\n",
        "       # Categorías para composición por filas y columnas:\n",
        "       facet_col=\"time\",   # Composición por columnas. Tiempo del pedido.\n",
        "       facet_row=\"sex\",    # Composición por columnas. Género del cliente.\n",
        "\n",
        "       # Se puede forzar el orden de las variables categóricas usadas:\n",
        "       category_orders={\"day\": [\"Thur\", \"Fri\", \"Sat\", \"Sun\"], # Orden de días de la semana.\n",
        "                        \"time\": [\"Lunch\", \"Dinner\"]}          # Orden del tiempo del pedido.\n",
        "       )"
      ],
      "execution_count": null,
      "outputs": []
    },
    {
      "cell_type": "markdown",
      "metadata": {
        "id": "1VgHWJy4k405"
      },
      "source": [
        "### **3.4. Diagrama de cajas: `box`**\n",
        "---\n",
        "\n",
        "*Plotly* también soporta la construcción de visualizaciones de datos estadísticos como los diagramas de cajas. Esto es posible con el método **`px.box`** y, al igual que antes, cuenta con múltiples argumentos de personalización."
      ]
    },
    {
      "cell_type": "code",
      "metadata": {
        "id": "dVoy2UmcreVi"
      },
      "source": [
        "px.box(iris_df,\n",
        "       x = 'species',        # Eje X (Categórica). Especie de la flor.\n",
        "       y = 'sepal_length',   # Eje Y (Cuantitativa). Longitud del sépalo.\n",
        "       color = 'species'     # Color (Tono) del marcador. Especie de la flor (Codificación redundante para enfatizar)\n",
        "       )"
      ],
      "execution_count": null,
      "outputs": []
    },
    {
      "cell_type": "markdown",
      "metadata": {
        "id": "D6j85H9Ur5VQ"
      },
      "source": [
        "Esta visualización de diagramas de cajas permite conocer con exactitud los valores que caracterizan a este tipo de gráficas, tal como se discutió en unidades anteriores. Si pasa el mouse por encima de un diagrama de barras, podrá apreciar el mínimo, el máximo, los cuartiles 1, 2 (mediana) y 3, y en caso de existir, los valores que sean considerados atípicos (*outliers*).\n",
        "\n",
        "Además de esta funcionalidad, es posible personalizar por medio de argumentos algunas características de nuestra visualización:"
      ]
    },
    {
      "cell_type": "code",
      "metadata": {
        "id": "nnyQWLbKsfho"
      },
      "source": [
        "px.box(iris_df,\n",
        "       x = 'sepal_length',\n",
        "       y = 'species',\n",
        "       color = 'species',\n",
        "       orientation = 'h', # Visualización en disposición horizontal.\n",
        "       notched = True,    # Estilo \"notched\" (con hendiduras en la mitad).\n",
        "       points = 'all',    # Mostrar marcadores al costado de cada elemento. (Mayor costo computacional en conjuntos de datos grandes)\n",
        "       title = 'Distribución de las especies de flores Iris',      # Título de la gráfica.\n",
        "       hover_data=[\"petal_length\", \"petal_width\", \"sepal_width\"],  # Mostrar más información de variables sin codificación visual al pasar el mouse.\n",
        "       labels = {'species':'Especies', 'sepal_length': 'Longitud del sépalo'} # Etiquetas por variable.\n",
        "       )"
      ],
      "execution_count": null,
      "outputs": []
    },
    {
      "cell_type": "markdown",
      "metadata": {
        "id": "GUHwJKvBJ8Ji"
      },
      "source": [
        "### **3.5. Histogramas (`histogram`) y otros diagramas de distribución**\n",
        "---\n",
        "Adicionalmente, no puede faltar la visualización de histogramas, uno de los diagramas más utilizados en el transcurso del curso para la representación de distribuciones. Estos pueden generarse en *Plotly* con la función **`px.histogram`**:"
      ]
    },
    {
      "cell_type": "code",
      "metadata": {
        "id": "swQ72RP2u1m5"
      },
      "source": [
        "#Por defecto los histogramas no se superponen, sino que se apilan.\n",
        "\n",
        "px.histogram(nba_df,\n",
        "             x = 'FGM',     # Eje X. Tiros anotados.\n",
        "             color = 'Pos') # Color (tono) de los marcadores (áreas de cada histograma). Posición del jugador."
      ],
      "execution_count": null,
      "outputs": []
    },
    {
      "cell_type": "markdown",
      "metadata": {
        "id": "-F2R-Aa_vnEc"
      },
      "source": [
        "Para modificar este comportamiento utilizamos el argumento **`barmode`**."
      ]
    },
    {
      "cell_type": "code",
      "metadata": {
        "id": "VYUouX4q2S3S"
      },
      "source": [
        "# Si queremos superponerlos (Recuerde que puede ocultar algunos haciendo clic en la leyenda)\n",
        "px.histogram(nba_df,\n",
        "             x = 'FGM',\n",
        "             color = 'Pos',\n",
        "             barmode=\"overlay\") # Histogramas superpuestos."
      ],
      "execution_count": null,
      "outputs": []
    },
    {
      "cell_type": "markdown",
      "metadata": {
        "id": "jWlEf1O02y0t"
      },
      "source": [
        "Con los histogramas, y en general con los diagramas utilizados para describir distribuciones, es de gran utilidad realizar visualizaciones compuestas de varias codificaciones, que permitan identificar de mejor manera aspectos de la distribución y evidencia de relaciones multivariadas. Muchos de estos se describieron en la unidad 4 con *Seaborn*, y pueden generarse nuevamente en *Plotly* como por ejemplo las visualizaciones marginales (rugplot)."
      ]
    },
    {
      "cell_type": "code",
      "metadata": {
        "id": "GJErLEmV2ch0"
      },
      "source": [
        "px.histogram(nba_df,\n",
        "             x='FGM',\n",
        "             color='Pos',\n",
        "             nbins=10,        # Número de \"bins\" o intervalos de clase.\n",
        "             marginal='rug')  # Tipo de visualización marginal."
      ],
      "execution_count": null,
      "outputs": []
    },
    {
      "cell_type": "markdown",
      "metadata": {
        "id": "w6t0vhOq3jCB"
      },
      "source": [
        "Otro método importante para este tipo de visualizaciones es **`plotly.figure_factory.create_distplot`**. Debemos recurrir a este método cuando deseemos generar histogramas con curvas de *KDE*, que no son soportadas actualmente por el método **`px.histogram`**."
      ]
    },
    {
      "cell_type": "code",
      "metadata": {
        "id": "O8IuiWYi3WT-"
      },
      "source": [
        "import plotly.figure_factory as ff  # Submódulo Figure Factory, responsable de generación de visualizaciones complejas específicas.\n",
        "\n",
        "cols = ['STL', 'TOV']        # Columnas a representar en los histogramas.\n",
        "\n",
        "ff.create_distplot(\n",
        "      [nba_df[c] for c in cols], # Lista de conjuntos de datos usados por cada histograma.\n",
        "      cols,                      # Etiquetas usadas por cada subgrupo.\n",
        "      bin_size = 10.0            # Tamaño (rango) de cada intervalo de clase o \"bin\".\n",
        ")"
      ],
      "execution_count": null,
      "outputs": []
    },
    {
      "cell_type": "markdown",
      "metadata": {
        "id": "0MWOkf107KA5"
      },
      "source": [
        "Otros métodos para visualizar distribuciones son **`px.strip`** y **`px.violin`**, dos estilos de visualización que ya se exploraron con la librería *Seaborn* anteriormente."
      ]
    },
    {
      "cell_type": "code",
      "metadata": {
        "id": "vz-wxq4F7W6p"
      },
      "source": [
        "px.strip(nba_df,\n",
        "         x='3PM',       # Eje X. Tiros de 3 puntos anotados.\n",
        "         color='Pos')   # Color (Tono) del marcador. Posición del jugador."
      ],
      "execution_count": null,
      "outputs": []
    },
    {
      "cell_type": "code",
      "metadata": {
        "id": "ZKalVGbG7dL6"
      },
      "source": [
        "px.violin(nba_df,\n",
        "           x = 'FTM',      # Eje X. Tiros libres anotados.\n",
        "           color = 'Pos')  # Color (Tono) del marcador. Posición del jugador."
      ],
      "execution_count": null,
      "outputs": []
    },
    {
      "cell_type": "markdown",
      "metadata": {
        "id": "TtEvrknT0lMh"
      },
      "source": [
        "> **Nota:** Es inevitable realizar comparaciones entre *Seaborn* y *Plotly*. Las dos son librerías de visualización muy valiosas y recomendadas para el análisis de datos. Para elegir la mejor opción le recomendamos lo siguiente:\n",
        "* Utilice *Seaborn* en exploraciones rápidas y generales de sus conjuntos de datos, y cuando requiera de disponer de sus visualizaciones en un formato físico, como en un reporte, un libro o un poster. Si bien *Plotly* permite generar visualizaciones estáticas como imágenes o vectores, no es el objetivo de diseño con el que fue concebido.\n",
        "* Utilice *Plotly* con conjuntos de datos moderadamente grandes y donde sea necesario explorar en detalle los datos individuales que los conforman y generar rápidamente nuevas combinaciones y puntos de vista. La interactividad viene con un mayor coste computacional que, según el contexto del dominio, puede ser una solución sobredimensionada.\n",
        "\n",
        "\n"
      ]
    },
    {
      "cell_type": "markdown",
      "metadata": {
        "id": "og4ceWgqvNOa"
      },
      "source": [
        "### **3.6. Diagramas circulares y radiales**\n",
        "---\n",
        "\n",
        "A pesar de no ser gráficas muy recomendadas debido a problemas en su codificación visual, las gráficas circulares o de torta son una de las codificaciones visuales más populares en reportes de medios de comunicación, entre otros. Las gráficas interactivas de este tipo generadas con *Plotly* permiten reducir el impacto de sus carencias de codificación visual por medio de ángulos gracias a la posibilidad de explorar y ampliar el detalle de secciones importantes de la visualización.\n",
        "\n",
        "Inicialmente podemos generar gráficas circulares o de torta con la función **`px.pie`**:"
      ]
    },
    {
      "cell_type": "code",
      "metadata": {
        "id": "9_zIczSswSit"
      },
      "source": [
        "px.pie(tips_df, # DataFrame. Dataset de propinas \"tips\".\n",
        "       names = 'day',    # Categorías usadas para distinguir cada sección. (Día de la semana)\n",
        "       values = 'tip',   # Valores representados por cada sección a partir del tamaño del ángulo. (Total de propinas)\n",
        "       hole = 0.3        # Proporción del agujero del centro.\n",
        "       )"
      ],
      "execution_count": null,
      "outputs": []
    },
    {
      "cell_type": "markdown",
      "metadata": {
        "id": "c-YPrwChxXXp"
      },
      "source": [
        "Además de los gráficos circulares tradicionales, *Plotly* dispone de gráficos de proyección solar o **sunburst**, que disponen de datos jerárquicos con una codificación muy similar."
      ]
    },
    {
      "cell_type": "code",
      "metadata": {
        "id": "QF5XFA4WxXBd"
      },
      "source": [
        "px.sunburst(tips_df,\n",
        "            # Lista con el orden (hacia afuera) de las variables categóricas a codificar:\n",
        "            path=['day', 'time', 'sex'],\n",
        "            values='tip' # Valor a codificar.\n",
        "            )"
      ],
      "execution_count": null,
      "outputs": []
    },
    {
      "cell_type": "markdown",
      "metadata": {
        "id": "8Mac8ZeaLS9w"
      },
      "source": [
        "Podemos generar además gráficas en coordenadas polares con el método **`px.scatter_polar`**. Las coordenadas polares codifican una variable por medio del ángulo, en vez de la longitud de uno de los ejes de la gráfica.\n",
        "\n",
        "Para este ejemplo usaremos el *dataset* de demostración **`wind`**, con información de un experimento de corrientes de viento, dispuesto específicamente para enseñar este tipo de visualización."
      ]
    },
    {
      "cell_type": "code",
      "metadata": {
        "id": "PQhj6kLKLt_p"
      },
      "source": [
        "# Conjunto de datos de medidas de la velocidad y dirección del viento.\n",
        "wind_df = px.data.wind()\n",
        "\n",
        "px.scatter_polar(wind_df,\n",
        "                 r=\"frequency\",     # Radio. (Posición sobre los ejes)\n",
        "                 theta=\"direction\", # Ángulo. (Posición alrededor de los ejes)\n",
        "                 color=\"strength\",  # Color del marcador. Se usa un gradiente de color. (Fuerza de la corriente)\n",
        "                 symbol=\"strength\"  # Forma del marcador. Codificación redundante (ya estaba en el color).\n",
        "                 )"
      ],
      "execution_count": null,
      "outputs": []
    },
    {
      "cell_type": "markdown",
      "metadata": {
        "id": "_0juUuFvtbjl"
      },
      "source": [
        "Entre otras cosas, la mayoría de las visualizaciones con *Plotly* permiten definir plantillas de codificación visual con estilos específicos, además de la personalización de sus secuencias de color en forma de paletas de color disponibles en el submódulo **`plotly.colors`**."
      ]
    },
    {
      "cell_type": "code",
      "metadata": {
        "id": "hfQuxrjTs-hc"
      },
      "source": [
        "px.scatter_polar(wind_df,\n",
        "                 r=\"frequency\",\n",
        "                 theta=\"direction\",\n",
        "                 color=\"strength\",\n",
        "                 symbol=\"strength\",\n",
        "                 # Añadimos argumentos de personalización de codificación visual.\n",
        "                 color_discrete_sequence= plotly.colors.sequential.Greens, #Definición de un orden en el color. (No se usa únicamente el tono)\n",
        "                 template=\"plotly_dark\" # Estilo general de la visualización. (Oscuro)\n",
        "                 )"
      ],
      "execution_count": null,
      "outputs": []
    },
    {
      "cell_type": "markdown",
      "metadata": {
        "id": "zyMvIRRTMgAa"
      },
      "source": [
        "Este tipo de codificación en coordenadas polares también está disponible para diagramas con valores discretos. En este caso, se usa una analogía en coordenadas polares de un diagrama de barras por medio del método **`bar_polar`**."
      ]
    },
    {
      "cell_type": "code",
      "metadata": {
        "id": "XytoHZGdMs-c"
      },
      "source": [
        "px.bar_polar(wind_df,\n",
        "                 r=\"frequency\",     # Radio. (Posición sobre los ejes)\n",
        "                 theta=\"direction\", # Ángulo. (Posición al rededor de los ejes)\n",
        "                 color=\"strength\",  # Color del marcador. Se usa un gradiente de color.\n",
        "                 color_discrete_sequence= px.colors.sequential.Greens, # Definición de un orden en el color. (No se usa únicamente el tono)\n",
        "                 template=\"plotly_dark\" # Estilo general de la visualización.\n",
        "        )"
      ],
      "execution_count": null,
      "outputs": []
    },
    {
      "cell_type": "markdown",
      "metadata": {
        "id": "83ZWMJmL5X6P"
      },
      "source": [
        "Por último, también es posible codificar un diagrama de líneas en coordenadas polares con el método **`px.line_polar`**, usados frecuentemente para representar y comparar estadísticas o medidas de un sujeto, como la habilidad de un deportista o la competencia de un trabajador.\n",
        "\n",
        "Por ejemplo, representemos la precisión en los tiros de los 5 máximos anotadores de la NBA de la temporada 2014-2015:"
      ]
    },
    {
      "cell_type": "code",
      "metadata": {
        "id": "FcRDAr6E6B8s"
      },
      "source": [
        "# Registros con mayor valor de tiros anotados\n",
        "top = nba_df.nlargest(5, 'FGM')\n",
        "top"
      ],
      "execution_count": null,
      "outputs": []
    },
    {
      "cell_type": "code",
      "metadata": {
        "id": "gQCejfdK67-n"
      },
      "source": [
        "columns = ['FG%', '3P%', 'FT%']\n",
        "\n",
        "px.line_polar(\n",
        "    top,\n",
        "    theta = 'Name',    # Etiqueta de cada eje radial. Nombre del jugador\n",
        "    r = 'FG%',         # Radio de cada eje radial. Precisión de los tiros\n",
        "    range_r = [0,100], #\n",
        "    line_close = True\n",
        ")"
      ],
      "execution_count": null,
      "outputs": []
    },
    {
      "cell_type": "markdown",
      "metadata": {
        "id": "IFQVQyMV_PvD"
      },
      "source": [
        "## **4. Figuras y componentes**\n",
        "---\n",
        "\n",
        "En *Plotly*, al igual que en *Matplotlib*, las visualizaciones generadas son posibles gracias a la creación y personalización de objetos contenedores de sus componentes llamados **figuras**. En el caso de *Plotly*, las figuras y sus componentes hacen parte del submódulo **`plotly.graph_objects`** que hemos discutido en algunos de los ejemplos anteriores.\n",
        "\n",
        "Cuando creamos una visualización con *Plotly* se retorna un objeto de tipo **`go.Figure`** que contiene la configuración por defecto de la interacción y la representación. Creemos e imprimamos en pantalla el contenido de una figura:\n"
      ]
    },
    {
      "cell_type": "code",
      "metadata": {
        "id": "sK_VrBVoAGGz"
      },
      "source": [
        "fig = px.scatter(tips_df, x = 'total_bill', y = 'tip')\n",
        "\n",
        "print(fig)"
      ],
      "execution_count": null,
      "outputs": []
    },
    {
      "cell_type": "markdown",
      "metadata": {
        "id": "doKcHx_GBWC4"
      },
      "source": [
        "Cada figura cuenta con atributos de alto nivel que agrupan parte de su configuración. Esta se divide, con la excepción de las figuras animadas, en los atributos **`data`** y **`layout`**."
      ]
    },
    {
      "cell_type": "markdown",
      "metadata": {
        "id": "1q8Lgs4KBv_5"
      },
      "source": [
        "### **4.1.  Atributo `data` y objetos *Traces***\n",
        "---\n",
        "Este atributo contiene una lista de los componentes de la visualización llamados trazas o *Traces*. Cada uno de ellos es un objeto específico de *Plotly Graph Objects*, con información como las etiquetas, la posición, orientación y demás características de sus marcadores. A continuación veremos algunos de los más importantes."
      ]
    },
    {
      "cell_type": "code",
      "metadata": {
        "id": "Vu46OgFvFlBj"
      },
      "source": [
        "type(fig.data[0])"
      ],
      "execution_count": null,
      "outputs": []
    },
    {
      "cell_type": "markdown",
      "metadata": {
        "id": "KeuJtY5GE2W4"
      },
      "source": [
        "El único componente de la figura generada en el ejemplo anterior con la función **`px.line`** es una traza de tipo **`go.Scatter`**. Este es el objeto básico bidimensional de trazas compuestas por parejas ordenadas representando a los ejes $X$ y $Y$. En esta se distinguen los modos de visualización, que pueden ser en forma de líneas, marcadores sueltos, o ambos.\n",
        "\n",
        "Se puede generar una nueva traza *Scatter* con el constructor **`go.Scatter`**. Para visualizarlo debemos agregarlo a una figura existente por medio del método **`add_trace`** (o en su versión para múltiples trazas **`add_traces`**) o con el constructor de una figura nueva (**`go.Figure`**)."
      ]
    },
    {
      "cell_type": "code",
      "metadata": {
        "id": "cvBuoFcZFWSW"
      },
      "source": [
        "scatter = go.Scatter(\n",
        "    x = np.linspace(0, 100, 100),\n",
        "    y = np.random.randn(100).cumsum(),\n",
        "    mode = 'lines+markers',    # Tipo del marcador. (lines, markers o lines+markers)\n",
        "    name = 'Scatter 1'         # Nombre de la traza. Usada en la leyenda de la figura.\n",
        ")\n",
        "type(scatter) # Tipo de dato Scatter"
      ],
      "execution_count": null,
      "outputs": []
    },
    {
      "cell_type": "code",
      "metadata": {
        "id": "JtMcZPmRFiYO"
      },
      "source": [
        "# Añadiendo la traza a la figura creada en el ejemplo anterior\n",
        "fig.add_trace(scatter)\n",
        "\n",
        "fig.show()"
      ],
      "execution_count": null,
      "outputs": []
    },
    {
      "cell_type": "markdown",
      "metadata": {
        "id": "F-LuUSePClWz"
      },
      "source": [
        "Como puede notar, el nombre de la traza es usado para su enumeración en el recuadro de leyenda. Ahora, creemos una nueva figura con el constructor **`go.Figure`**:"
      ]
    },
    {
      "cell_type": "code",
      "metadata": {
        "id": "ZY29Wra5HBtE"
      },
      "source": [
        "# Creando una figura con una única traza de tipo Scatter.\n",
        "\n",
        "fig = go.Figure(data = [scatter])\n",
        "fig"
      ],
      "execution_count": null,
      "outputs": []
    },
    {
      "cell_type": "markdown",
      "metadata": {
        "id": "D9n2DXH6Wa-9"
      },
      "source": [
        "Adicionalmente a este tipo de trazas, presentamos algunas de las trazas más comunes, basadas en visualizaciones comunes discutidas en el módulo. Estas son:\n",
        "* Gráfica de barras (**`go.Bar`**):"
      ]
    },
    {
      "cell_type": "code",
      "metadata": {
        "id": "mN4Lj97IWa--"
      },
      "source": [
        "# Traza de gráfica de barras\n",
        "\n",
        "bar_trace = go.Bar(\n",
        "    x = ['A', 'B', 'C', 'D', 'E'], # Etiquetas del eje X. (Categorías)\n",
        "    y = [1, 2, 4, 8, 16]           # Valores de altura por etiqueta.\n",
        ")\n",
        "\n",
        "fig = go.Figure(data = [bar_trace])\n",
        "fig"
      ],
      "execution_count": null,
      "outputs": []
    },
    {
      "cell_type": "markdown",
      "metadata": {
        "id": "k9m48JjNk7vH"
      },
      "source": [
        "* Diagramas de cajas y de violin: **`go.Box`** y **`go.Violin`**"
      ]
    },
    {
      "cell_type": "code",
      "metadata": {
        "id": "yKIiWpDuyalI"
      },
      "source": [
        "# Creamos el conjunto de datos.\n",
        "y = np.random.randn(500)"
      ],
      "execution_count": null,
      "outputs": []
    },
    {
      "cell_type": "markdown",
      "metadata": {
        "id": "oGc1vvyjvdwk"
      },
      "source": [
        "> **Nota:** *Plotly* también permite definir gráficas compuestas en forma de cuadrícula con el método **`plotly.subplots.make_subplots`**."
      ]
    },
    {
      "cell_type": "code",
      "metadata": {
        "id": "KNjLo2JGv9P9"
      },
      "source": [
        "# Creamos la figura como una figura de 1 fila y 2 columnas.\n",
        "fig = plotly.subplots.make_subplots(rows=1, cols=2)"
      ],
      "execution_count": null,
      "outputs": []
    },
    {
      "cell_type": "code",
      "metadata": {
        "id": "Np1b6AG6v-lf"
      },
      "source": [
        "# Traza de diagrama de cajas\n",
        "box_trace = go.Box(\n",
        "    y = y               # Conjunto de datos cuya distribución es representada en el eje Y.\n",
        ")"
      ],
      "execution_count": null,
      "outputs": []
    },
    {
      "cell_type": "code",
      "metadata": {
        "id": "wIrujV4Kv_x1"
      },
      "source": [
        "# Traza de diagrama de violín.\n",
        "violin_trace = go.Violin(\n",
        "    y = y               # Conjunto de datos cuya distribución es representada en el eje Y.\n",
        ")"
      ],
      "execution_count": null,
      "outputs": []
    },
    {
      "cell_type": "code",
      "metadata": {
        "id": "HgNjxKwqtIJn"
      },
      "source": [
        "# Añadimos la primera traza en la primera fila y primera columna.\n",
        "fig.add_trace(box_trace,\n",
        "              row=1, col=1)\n",
        "\n",
        "# Añadimos la primera traza en la primera fila y segunda columna.\n",
        "fig.add_trace(violin_trace,\n",
        "              row=1, col=2)\n",
        "\n",
        "fig"
      ],
      "execution_count": null,
      "outputs": []
    },
    {
      "cell_type": "markdown",
      "metadata": {
        "id": "Zd4W94yVIcs5"
      },
      "source": [
        "* Histograma (**`go.Histogram`**):"
      ]
    },
    {
      "cell_type": "code",
      "metadata": {
        "id": "hFifgzrGV440"
      },
      "source": [
        "# Traza de histograma\n",
        "\n",
        "hist_trace = go.Histogram(\n",
        "    x = np.random.randn(100)   # Conjunto de datos cuya distribución es representada.\n",
        ")\n",
        "\n",
        "fig = go.Figure(data = [hist_trace])\n",
        "fig"
      ],
      "execution_count": null,
      "outputs": []
    },
    {
      "cell_type": "markdown",
      "metadata": {
        "id": "vU7_p4hiXZ8z"
      },
      "source": [
        "* Histograma de 2 dimensiones (**`go.Histogram2d`** y **`go.Histogram2dcontour`**):"
      ]
    },
    {
      "cell_type": "code",
      "metadata": {
        "id": "yTdxMTWCvZv7"
      },
      "source": [
        "# Creamos los conjuntos de datos.\n",
        "x = np.random.randn(500)\n",
        "y = np.random.randn(500)"
      ],
      "execution_count": null,
      "outputs": []
    },
    {
      "cell_type": "code",
      "metadata": {
        "id": "njsrNA5Yvar6"
      },
      "source": [
        "# Creamos la figura como una figura de 1 fila y 2 columnas.\n",
        "fig = plotly.subplots.make_subplots(rows=1, cols=2)"
      ],
      "execution_count": null,
      "outputs": []
    },
    {
      "cell_type": "code",
      "metadata": {
        "id": "hCTendnCXZ80"
      },
      "source": [
        "# Traza de histograma discreto en 2 dimensiones\n",
        "hist2d_trace_disc = go.Histogram2d(\n",
        "    x = x,              # Conjunto de datos cuya distribución es representada en el eje X.\n",
        "    y = y               # Conjunto de datos cuya distribución es representada en el eje Y.\n",
        ")"
      ],
      "execution_count": null,
      "outputs": []
    },
    {
      "cell_type": "code",
      "metadata": {
        "id": "48-8dB9Vvn4k"
      },
      "source": [
        "# Traza de histograma continuo (de densidad) en 2 dimensiones\n",
        "hist2d_trace_cont = go.Histogram2dContour(\n",
        "    x = x,              # Conjunto de datos cuya distribución es representada en el eje X.\n",
        "    y = y               # Conjunto de datos cuya distribución es representada en el eje Y.\n",
        ")"
      ],
      "execution_count": null,
      "outputs": []
    },
    {
      "cell_type": "code",
      "metadata": {
        "id": "qhIv_4m_vi2c"
      },
      "source": [
        "# Añadimos la primera traza en la primera fila y primera columna.\n",
        "fig.add_trace(hist2d_trace_disc,\n",
        "              row=1, col=1)\n",
        "\n",
        "# Añadimos la primera traza en la primera fila y segunda columna.\n",
        "fig.add_trace(hist2d_trace_cont,\n",
        "              row=1, col=2)\n",
        "\n",
        "fig"
      ],
      "execution_count": null,
      "outputs": []
    },
    {
      "cell_type": "markdown",
      "metadata": {
        "id": "eOwDZNv1uNU3"
      },
      "source": [
        "* Mapas de calor y líneas de contorno (**`go.Heatmap`** y **`go.Contour`**):\n",
        "\n",
        "> A diferencia de los diagramas de histogramas en 2 dimensiones, los mapas de calor y de contorno reciben los valores de cada punto del espacio en forma de un arreglo de dos dimensiones (argumento **`z`**)."
      ]
    },
    {
      "cell_type": "code",
      "metadata": {
        "id": "W9X9XprCvuSv"
      },
      "source": [
        "# Creamos el conjunto de datos.\n",
        "z = np.random.randn(20,20)"
      ],
      "execution_count": null,
      "outputs": []
    },
    {
      "cell_type": "code",
      "metadata": {
        "id": "2KWxO2wXvvPu"
      },
      "source": [
        "# Creamos la figura como una figura de 1 fila y 2 columnas.\n",
        "fig = plotly.subplots.make_subplots(rows=1, cols=2)"
      ],
      "execution_count": null,
      "outputs": []
    },
    {
      "cell_type": "code",
      "metadata": {
        "id": "KpDO96BKvv_c"
      },
      "source": [
        "# Traza de mapa de calor\n",
        "hmap_trace = go.Heatmap(\n",
        "    z = z                # Altura o dimensión de cada elemento en la malla de dos dimensiones.\n",
        ")"
      ],
      "execution_count": null,
      "outputs": []
    },
    {
      "cell_type": "code",
      "metadata": {
        "id": "eWt4cfDZvxdF"
      },
      "source": [
        "# Traza de líneas de contorno\n",
        "contour_trace = go.Contour(\n",
        "    z = z               # Altura o dimensión de cada elemento en la malla de dos dimensiones.\n",
        ")"
      ],
      "execution_count": null,
      "outputs": []
    },
    {
      "cell_type": "code",
      "metadata": {
        "id": "K1jgLyoeupwa"
      },
      "source": [
        "# Añadimos la primera traza en la primera fila y primera columna.\n",
        "fig.add_trace(hmap_trace,\n",
        "              row=1, col=1)\n",
        "\n",
        "# Añadimos la primera traza en la primera fila y segunda columna.\n",
        "fig.add_trace(contour_trace,\n",
        "              row=1, col=2)\n",
        "\n",
        "fig"
      ],
      "execution_count": null,
      "outputs": []
    },
    {
      "cell_type": "markdown",
      "metadata": {
        "id": "mwSKJdasyeVD"
      },
      "source": [
        "* Tablas (**`go.Table`**):\n",
        "\n",
        "> La interacción con las trazas tabulares consiste en la posibilidad de agarrar y arrastrar las columnas de un lado a otro y desplazar de manera cómoda por su contenido. Son usadas comúnmente como componentes de apoyo de otro tipo de visualizaciones."
      ]
    },
    {
      "cell_type": "code",
      "metadata": {
        "id": "GzuKYAFHypX4"
      },
      "source": [
        "# Traza de tipo tabla.\n",
        "\n",
        "table_trace = go.Table(\n",
        "    header = dict(values = iris_df.columns,   # Diccionario de configuración del encabezado. Además de definir los valores se puede configurar el estilo.\n",
        "                  fill_color = 'lightgreen'), # Color de relleno del encabezado.\n",
        "\n",
        "    cells = dict(values = iris_df.values.T,   # Diccionario de configuración de las celdas. Además de definir los valores se puede configurar el estilo.\n",
        "                 font_color = 'red',          # Color de fuente de las celdas.\n",
        "                 align = 'left'),             # Alineación del contenido.\n",
        ")\n",
        "\n",
        "fig = go.Figure(data = [table_trace])\n",
        "fig"
      ],
      "execution_count": null,
      "outputs": []
    },
    {
      "cell_type": "markdown",
      "metadata": {
        "id": "oQpj4yOw0s5Y"
      },
      "source": [
        "Para conocer más tipos de trazas para utilizar como componente de sus visualizaciones consulte la [documentación oficial](https://plotly.com/python/figure-structure/)."
      ]
    },
    {
      "cell_type": "markdown",
      "metadata": {
        "id": "bJTuCZ2y01aG"
      },
      "source": [
        "### **4.2. Atributo *Layout* y configuración de gráficas**\n",
        "---\n",
        "El otro atributo de alto-nivel que compone una figura es el **`layout`**. Este representa la estructura y estilo general de la figura. Cuando se crea una figura, se puede definir un *layout* personalizado con el constructor **`go.Layout`**. Este recibe una gran cantidad de argumentos, entre los que se encuentran:\n",
        "\n",
        "* Título (**`title`**). Diccionario con información del título como el contenido de texto (**`text`**), la fuente (**`font`**), la posición relativa (**`x`** y **`y`**), la alineación (**`xanchor`** y **`yanchor`**), entre otros."
      ]
    },
    {
      "cell_type": "code",
      "metadata": {
        "id": "4caO8b7y2GWI"
      },
      "source": [
        "go.Figure(\n",
        "    layout = go.Layout(\n",
        "        title = dict(text = \"Título usando <b>HTML</b>\",  # Texto con formato en HTML (Solo algunas etiquetas son soportadas)\n",
        "\n",
        "                     font = dict(                         # Atributo (dict) de fuente HTML usada en el título.\n",
        "                         family= 'Times New Roman',           # Familia de fuentes HTML.\n",
        "                         size = 30,                           # Tamaño de fuente.\n",
        "                         color = '#ff3399'                    # Color de fuente.\n",
        "                     ),\n",
        "\n",
        "                     x = 0.5,                              # Posición relativa en x entre 0 y 1. (Desde la izquierda)\n",
        "                     y = 0.0,                              # Posición relativa en y entre 0 y 1. (Desde abajo)\n",
        "\n",
        "                     xanchor = 'center',                   # Alineación horizontal.\n",
        "                     yanchor = 'bottom'                    # Alineación vertical.\n",
        "        )  # Fin del argumento title.\n",
        "    )   # Fin del go.Layout\n",
        ")   # Fin del go.Figure"
      ],
      "execution_count": null,
      "outputs": []
    },
    {
      "cell_type": "markdown",
      "metadata": {
        "id": "P8Cmbisp5wOx"
      },
      "source": [
        "* Altura y ancho (**`height`** y **`width`**). Dimensión vertical y horizontal en pixeles de la figura. Por defecto se generan figuras de $700 \\times 450$ pixeles."
      ]
    },
    {
      "cell_type": "code",
      "metadata": {
        "id": "hTPexk9T6NAt"
      },
      "source": [
        "go.Figure(\n",
        "    #data = ...,\n",
        "    layout = go.Layout(\n",
        "      width = 800,  # Ancho de la figura en pixeles.\n",
        "      height = 800  # Alto de la figura en pixeles.\n",
        "    )\n",
        ")"
      ],
      "execution_count": null,
      "outputs": []
    },
    {
      "cell_type": "markdown",
      "metadata": {
        "id": "F55mxymA8MP-"
      },
      "source": [
        "* Color del fondo de la figura y de fondo de la gráfica (**`paper_bgcolor`** y **`plot_bgcolor`**). Colores definidos con palabras clave o código de color *HTML* para el fondo de las figuras."
      ]
    },
    {
      "cell_type": "code",
      "metadata": {
        "id": "Yec1rQNn7fAl"
      },
      "source": [
        "go.Figure(\n",
        "    layout = go.Layout(\n",
        "      paper_bgcolor = 'lightyellow',  # Color del fondo general (en amarillo).\n",
        "      plot_bgcolor = 'lightblue'      # Color del fondo de la gráfica (en azul).\n",
        "    )\n",
        ")"
      ],
      "execution_count": null,
      "outputs": []
    },
    {
      "cell_type": "markdown",
      "metadata": {
        "id": "5GtoUxiX8ydi"
      },
      "source": [
        "* Estilo del recuadro de leyenda (**`show_legend`** y **`legend`**). Configuración del estilo de la leyenda, definiendo detalles como:\n",
        "  * Posición (**`x`** y **`y`**).\n",
        "  * Color y grosor del borde (**`bordercolor`** y **`borderwidth`**).\n",
        "  * Color del fondo (**`bgcolor`**).\n",
        "  * Orientación de los elementos (**`orientation`**).\n",
        "  * Fuente de los elementos (**`font`**).\n",
        "  * Estilo del título (**`title`**)."
      ]
    },
    {
      "cell_type": "code",
      "metadata": {
        "id": "m0rCQCWK8pRn"
      },
      "source": [
        "go.Figure(\n",
        "    #data: Trazas de ejemplos del dataset Iris.\n",
        "    data = [go.Scatter(x = iris_df['sepal_length'],  y = iris_df['sepal_width'], name = 'Sépalo', mode = 'markers'),\n",
        "            go.Scatter(x = iris_df['petal_length'],  y = iris_df['petal_width'], name = 'Pétalo', mode = 'markers')\n",
        "    ],\n",
        "    layout = go.Layout(\n",
        "            showlegend = True,    # Argumento para mostrar u ocultar la leyenda.\n",
        "            legend = dict(\n",
        "                x = 0,                   # Posición relativa en X. (Entre 0 y 1, desde la izquierda)\n",
        "                y = 0,                   # Posición relativa en Y. (Entre 0 y 1, desde abajo)\n",
        "                borderwidth = 4,         # Grosor del borde. (Por defecto 0 pixeles)\n",
        "                bordercolor = 'red',     # Color del borde.\n",
        "                bgcolor = 'salmon',      # Color del fondo.\n",
        "                orientation = 'h',       # Orientación de la lista. ('v' o 'h')\n",
        "                font = dict(             # Definición de la fuente HTML.\n",
        "                    color = 'white',          # Color de la fuente.\n",
        "                    family = 'Courier New', # Familia de la fuente.\n",
        "                    size = 15                 # Tamaño de la fuente.\n",
        "                ),\n",
        "                title = dict(            # Definición de la configuración del título de la leyenda.\n",
        "                        text = 'Leyenda',            # Texto del título.\n",
        "                        side = 'top',                # Posición del título.\n",
        "                        font = dict(                 # Definición de la fuente HTML del título.\n",
        "                          color = 'purple',               # Color de la fuente.\n",
        "                          family = 'Arial',       # Familia de la fuente.\n",
        "                          size = 30                       # Tamaño de la fuente.\n",
        "                      )\n",
        "                )\n",
        "            ) # Fin argumento legend.\n",
        "    ) # Fin go.Layout\n",
        ") # Fin go.Figure"
      ],
      "execution_count": null,
      "outputs": []
    },
    {
      "cell_type": "markdown",
      "metadata": {
        "id": "TUaG7JWOBI1u"
      },
      "source": [
        "Para conocer más argumentos de configuración del estilo de los componentes de las figuras, consulte el siguiente [enlace](https://plotly.com/python/reference/layout/) de la documentación oficial."
      ]
    },
    {
      "cell_type": "markdown",
      "metadata": {
        "id": "S6IhbHAuI4ci"
      },
      "source": [
        "#### **4.2.1. Argumento de configuración de la interacción `config`**\n",
        "---\n",
        "Más allá de la codificación visual, es posible configurar la interacción con el usuario por medio de las opciones de configuración usadas como argumento del método **`fig.show`** de las figuras de *Plotly*.\n",
        "\n",
        "Este argumento se define como un diccionario de *Python* con los argumentos de configuración expuestos a continuación. Primero crearemos una figura:"
      ]
    },
    {
      "cell_type": "code",
      "metadata": {
        "id": "CJAJucEPKj-8"
      },
      "source": [
        "# Creamos los datos artificiales y la figura.\n",
        "\n",
        "fig = px.scatter(iris_df, x = 'sepal_length', y = 'sepal_width', color = 'species', width= 800, height = 600)"
      ],
      "execution_count": null,
      "outputs": []
    },
    {
      "cell_type": "markdown",
      "metadata": {
        "id": "i9BWsRRyKljN"
      },
      "source": [
        "* **`scrollZoom`**: Este argumento permite definir el comportamiento por defecto del *scroll* (rueda del ratón) para realizar acciones de zoom. Si gira la rueda del ratón en la siguiente figura verá que no ocurre nada:"
      ]
    },
    {
      "cell_type": "code",
      "metadata": {
        "id": "p8NCiE8nJw-S"
      },
      "source": [
        "fig.show()"
      ],
      "execution_count": null,
      "outputs": []
    },
    {
      "cell_type": "markdown",
      "metadata": {
        "id": "8P8i8XuAKJeU"
      },
      "source": [
        "Sin embargo, si añadimos un diccionario de configuración al método **`show`**, podemos usar el *scroll* para acercar y alejar la cámara."
      ]
    },
    {
      "cell_type": "code",
      "metadata": {
        "id": "omUktHlFKTzL"
      },
      "source": [
        "config = {\n",
        "    'scrollZoom': True      # Por defecto el valor es False.\n",
        "}\n",
        "\n",
        "fig.show(config = config) # Use la rueda del ratón para hacer zoom en la figura."
      ],
      "execution_count": null,
      "outputs": []
    },
    {
      "cell_type": "markdown",
      "metadata": {
        "id": "7aFZ7Z1SLB0F"
      },
      "source": [
        "* **`displayModeBar`**: Este argumento permite definir la visibilidad de la barra de herramientas ubicada en la parte superior izquierda. Si se usa un valor booleano **`True`**, la barra estará visible en todo momento, mientras que **`False`** la oculta para siempre. Por defecto, la barra solo es visible cuando el usuario pasa el cursor por encima de su posición."
      ]
    },
    {
      "cell_type": "code",
      "metadata": {
        "id": "2Ba_Po1ALpEy"
      },
      "source": [
        "config = {\n",
        "    'displayModeBar': True      # La barra está siempre visible.\n",
        "}\n",
        "\n",
        "fig.show(config = config)"
      ],
      "execution_count": null,
      "outputs": []
    },
    {
      "cell_type": "code",
      "metadata": {
        "id": "vlXpwdYvL2Ey"
      },
      "source": [
        "config = {\n",
        "    'displayModeBar': False      # La barra no está visible nunca.\n",
        "}\n",
        "\n",
        "fig.show(config = config)"
      ],
      "execution_count": null,
      "outputs": []
    },
    {
      "cell_type": "markdown",
      "metadata": {
        "id": "Phxd4qv4MIm3"
      },
      "source": [
        "* **`toImageButtonOptions`**: Este argumento permite definir los detalles de las imágenes generadas con el botón de descarga de la barra de herramientas. Este cuenta a su vez con los siguientes argumentos:\n",
        "  * **`format`**. Formato de la imagen generada.\n",
        "  * **`filename`**. Nombre del archivo generado.\n",
        "  * **`height`**. Altura de la imagen.\n",
        "  * **`width`**. Ancho de la imagen."
      ]
    },
    {
      "cell_type": "code",
      "metadata": {
        "id": "bUu4JKBwMUCy"
      },
      "source": [
        "config = {\n",
        "  'toImageButtonOptions': {\n",
        "    'format': 'svg',                    # Formato de la imagen (png, svg, jpeg y webp).\n",
        "    'filename': 'ejemplo',              # Nombre de la imagen.\n",
        "    'height': 600,                      # Altura de la imagen.\n",
        "    'width': 800                        # Ancho de la imagen.\n",
        "  }\n",
        "}\n",
        "\n",
        "fig.show(config = config) # Use la rueda del ratón para hacer zoom en la figura."
      ],
      "execution_count": null,
      "outputs": []
    },
    {
      "cell_type": "markdown",
      "metadata": {
        "id": "xBHKUYVWSqLG"
      },
      "source": [
        "* **`editable`**: Este argumento permite al usuario editar el contenido de la gráfica, como el texto del título o editar y crear ciertos componentes (véase el siguiente argumento para más información)."
      ]
    },
    {
      "cell_type": "code",
      "metadata": {
        "id": "Aq2QGn2RSvRA"
      },
      "source": [
        "config= {\n",
        "    'editable': True\n",
        "}\n",
        "\n",
        "fig.show(config = config) # Puede seleccionar y editar el títulos, los ejes y la leyenda."
      ],
      "execution_count": null,
      "outputs": []
    },
    {
      "cell_type": "markdown",
      "metadata": {
        "id": "kPpWRpG5QMIn"
      },
      "source": [
        "* **`modeBarButtonsToAdd`** y **`modeBarButtonsToRemove`**: Estos argumentos permiten añadir y eliminar botones de la barra de herramientas. Los siguientes son los botones por defecto de las gráficas en 2 dimensiones:\n",
        "\n",
        "  * **`zoom2d`**. Activar modo *zoom*.\n",
        "  * **`pan2d`**. Activar modo *pan*.\n",
        "  * **`select2d`**. Selección de caja.\n",
        "  * **`lasso2d`**. Selección de lazo.\n",
        "  * **`zoomIn2d`**. Acercar la cámara.\n",
        "  * **`zoomOut2d`**. Alejar la cámara.\n",
        "  * **`autoScale2d`**. Autoescalado.\n",
        "  * **`resetScale2d`**. Reiniciar la posición."
      ]
    },
    {
      "cell_type": "code",
      "metadata": {
        "id": "9jes92fFQyIM"
      },
      "source": [
        "config= {\n",
        "    # Los botones asignados en el siguiente argumento desaparecerán de la barra de herramientas.\n",
        "    'modeBarButtonsToRemove': ['select2d', 'lasso2d', 'resetScale2d', 'zoom2d'],\n",
        "}\n",
        "\n",
        "fig.show(config = config)"
      ],
      "execution_count": null,
      "outputs": []
    },
    {
      "cell_type": "markdown",
      "metadata": {
        "id": "TbpntuCRU-F3"
      },
      "source": [
        "*Plotly* cuenta con herramientas de dibujo opcionales que permiten modificar la figura. Estas herramientas se pueden agregar como botones de la barra de herramientas con el argumento **`modeBarButtonsToAdd`**. Estas son:\n",
        "\n",
        "  * **`drawline`**: Modo de dibujo de líneas.\n",
        "  * **`drawopenpath`**: Modo de dibujo de figuras abiertas.\n",
        "  * **`drawclosedpath`**: Modo de dibujo de figuras cerradas.\n",
        "  * **`drawcircle`**: Modo de dibujo de elipses.\n",
        "  * **`drawrect`**: Modo de dibujo de rectángulos.\n",
        "  * **`eraseshape`**: Modo de borrado de formas."
      ]
    },
    {
      "cell_type": "code",
      "metadata": {
        "id": "QFC55U3TVjEj"
      },
      "source": [
        "config= {\n",
        "    'editable': True,  # Es necesario permitir la edición de la figura para utilizar estas herramientas.\n",
        "    # Los botones asignados en el siguiente argumento se añadirán a la barra de herramientas.\n",
        "    'modeBarButtonsToAdd':['drawline', 'drawopenpath', 'drawclosedpath', 'drawcircle', 'drawrect', 'eraseshape']\n",
        "}\n",
        "\n",
        "fig.show(config = config)"
      ],
      "execution_count": null,
      "outputs": []
    },
    {
      "cell_type": "markdown",
      "metadata": {
        "id": "w9Bk6iHpWqUW"
      },
      "source": [
        "Lo invitamos a consultar la documentación oficial para conocer más acerca de las [opciones de configuración](https://plotly.com/python/configuration-options/) y  las [configuraciones de dibujo y anotaciones](https://plotly.com/python/shapes/#drawing-shapes-with-a-mouse-on-cartesian-plots)."
      ]
    },
    {
      "cell_type": "markdown",
      "metadata": {
        "id": "QWL2rN6w7FvT"
      },
      "source": [
        "## **5. Visualizaciones avanzadas con *Plotly***\n",
        "---\n",
        "\n",
        "*Plotly* ofrece una gran variedad de estilos de visualización distintos, construidos a partir de muchos casos de uso comunes de disciplinas distintas. Recuerde que las librerías de código abierto como *Plotly* u otras discutidas en este módulo son muy variables y con el tiempo se añaden funcionalidades nuevas gracias a un continuo apoyo de la comunidad. Se le recomienda consultar la documentación oficial de cada herramienta usada en busca de codificaciones específicas. En muchos casos, este tipo de visualizaciones ya están programadas y es cuestión de explorar y entender las funciones específicas, sus argumentos y detalles más importantes.\n",
        "\n",
        "En la documentación de *Plotly* encontrará funciones para:\n",
        "\n",
        "  * [**Gráficas estadísticas**](https://plotly.com/python/statistical-charts/)\n",
        "  * [**Gráficas financieras**](https://plotly.com/python/financial-charts/)\n",
        "  * [**Gráficas científicas**](https://plotly.com/python/scientific-charts/)\n",
        "  * [**Gráficas para *Machine Learning* e inteligencia artificial**](https://plotly.com/python/ai-ml/)\n",
        "  * [**Visualización de mapas**](https://plotly.com/python/choropleth-maps/) (Estas se verán en los siguientes materiales)\n",
        "  * [**Composición de *subplots***](https://plotly.com/python/subplot-charts/)\n",
        "  * [**Controles personalizados y transformaciones**.](https://plotly.com/python/chart-events/)\n",
        "  * [**Animaciones**](https://plotly.com/python/animations/).\n",
        "  * ...entre otras cosas.\n",
        "  \n",
        "En esta guía presentaremos brevemente algunas de estas ideas. Para más información, recuerde profundizar consultando la [documentación oficial](https://plotly.com/python/).\n"
      ]
    },
    {
      "cell_type": "markdown",
      "metadata": {
        "id": "BSW8_gjZJ8JU"
      },
      "source": [
        "#### **5.1. Gráficas 3D**\n",
        "---\n",
        "\n",
        "Diagramar información en el espacio en 3 o más dimensiones es mucho más delicado de manejar cuando se trata de visualizaciones complejas debido a su tipo de codificación. Para esto, la interacción cobra un papel muy importante, que permite explorar y manejar mejor este tipo de espacios.\n"
      ]
    },
    {
      "cell_type": "markdown",
      "metadata": {
        "id": "UnTGsA7v-ldD"
      },
      "source": [
        "##### **5.1.1. Superfices 3D**\n",
        "---\n",
        "Una de las posibilidades con *Plotly* es la visualización de superficies en 3 dimensiones. Para esto, usaremos la función **`go.Surface`** para generar este componente de tipo traza y añadirlo a una figura de *Plotly*."
      ]
    },
    {
      "cell_type": "code",
      "metadata": {
        "id": "lH1DKdsK-7ys"
      },
      "source": [
        "# Generamos los datos artificiales.\n",
        "n = 100\n",
        "x = np.linspace(-15, 15, n)\n",
        "y = np.linspace(15, -15, n)\n",
        "\n",
        "# Creamos el DataFrame con los datos.\n",
        "surface_df = pd.DataFrame({'x': x,\n",
        "                           'y': y,\n",
        "                           'z': y - x\n",
        "                           })\n",
        "\n",
        "# Generamos una figura con una traza de tipo go.Surface.\n",
        "fig = go.Figure(data=[go.Surface(z = surface_df)])\n",
        "\n",
        "fig"
      ],
      "execution_count": null,
      "outputs": []
    },
    {
      "cell_type": "markdown",
      "metadata": {
        "id": "eTUIj776QCdQ"
      },
      "source": [
        "Si quiere conocer más acerca de este tipo de visualizaciones, diríjase al siguiente [enlace](https://plot.ly/python/3d-surface-plots/) para conocer otros ejemplos."
      ]
    },
    {
      "cell_type": "markdown",
      "metadata": {
        "id": "RVo44HGkBmc3"
      },
      "source": [
        "##### **5.1.2. Diagramas de dispersión en 3D**\n",
        "---\n",
        "Los diagramas de dispersión vistos hasta el momento están limitados a un máximo de dos variables simultáneas por gráfica. Al usar marcadores en un espacio de tres dimensiones se puede visualizar la dispersión de los datos de una manera más detallada, añadiendo una variable codificada en la posición del eje $z$. Esto es posible con el método **`px.scatter3d`**. Por ejemplo, considere la relación de 2 variables del *dataset* *Iris* y luego su codificación en 3 dimensiones espaciales."
      ]
    },
    {
      "cell_type": "code",
      "metadata": {
        "id": "O03tLa8GQ-Zt"
      },
      "source": [
        "# Diagrama de dispersión de 2 dimensiones.\n",
        "px.scatter(iris_df, x = 'petal_length', y = 'sepal_length', color = 'species')"
      ],
      "execution_count": null,
      "outputs": []
    },
    {
      "cell_type": "markdown",
      "metadata": {
        "id": "uvNcRQK2EDUc"
      },
      "source": [
        "Ahora, representemos la relación de todas sus variables codificando las 3 coordenadas espaciales y el tamaño del marcador:"
      ]
    },
    {
      "cell_type": "code",
      "metadata": {
        "id": "ItR7qSlZCKV3"
      },
      "source": [
        "# Diagrama de dispersión de 3 dimensiones.\n",
        "px.scatter_3d(iris_df,\n",
        "              x='sepal_width',     # Eje X.\n",
        "              y='petal_length',    # Eje Y.\n",
        "              z='sepal_length',    # Eje Z.\n",
        "              color='species',     # Color del marcador.\n",
        "              symbol='species',    # Forma del marcador.\n",
        "              size='petal_width',  # Tamaño del marcador.\n",
        "              size_max=20,         # Tamaño máximo del marcador.\n",
        "              )"
      ],
      "execution_count": null,
      "outputs": []
    },
    {
      "cell_type": "markdown",
      "metadata": {
        "id": "m9lEgOmmJ8J9"
      },
      "source": [
        "### **5.2. Mapas de calor: `heatmap`**\n",
        "---\n",
        "\n",
        "*Plotly* también permite generar mapas de calor a partir de datos matriciales, como en *Seaborn*. La interactividad permite crear gráficas menos densas y con el contenido mostrado de manera dinámica según lo que requiere el usuario. Gracias a esto, podemos generar diagramas que de otra forma serían imposibles de visualizar de una manera adecuada, sobre todo, cuando se trata de *datasets* con muchas variables. Estos mapas se pueden generar con el método **`px.imshow`** (similar al método **`plt.imshow`** de *Matplotlib*).\n",
        "\n",
        "Para demostrar su funcionalidad, generaremos un mapa de calor de la matriz de correlación del *dataset* de la *NBA*."
      ]
    },
    {
      "cell_type": "code",
      "metadata": {
        "id": "EPn9Bpy6J8J-"
      },
      "source": [
        "# Matriz de correlación de la NBA en forma tabular.\n",
        "nba_df.corr()"
      ],
      "execution_count": null,
      "outputs": []
    },
    {
      "cell_type": "code",
      "metadata": {
        "id": "_1PaYvhCJ8KD"
      },
      "source": [
        "# Mapa de calor interactivo de la matriz de correlación.\n",
        "px.imshow(nba_df.corr())"
      ],
      "execution_count": null,
      "outputs": []
    },
    {
      "cell_type": "markdown",
      "metadata": {
        "id": "7n4747MGHWDO"
      },
      "source": [
        "A pesar de darle convenientemente la utilidad de generación de mapas de calor, la función **`imshow`** está diseñada para visualizar imágenes y la información de sus componentes de color [**rgb**](https://es.wikipedia.org/wiki/RGB), para apoyar tareas de procesamiento y análisis de imágenes."
      ]
    },
    {
      "cell_type": "code",
      "metadata": {
        "id": "Qs83EmUxSsW7"
      },
      "source": [
        "from PIL import Image  # Librería de manejo de imágenes (Python Imaging Library)\n",
        "\n",
        "# Descargamos una imagen de ejemplo.\n",
        "!wget -q --no-check-certificate 'https://docs.google.com/uc?export=download&id=1aStBMEL0Ax0yL7pCMVu7c_mbds1oZMIS' -O mario_8bit_data.bmp"
      ],
      "execution_count": null,
      "outputs": []
    },
    {
      "cell_type": "code",
      "metadata": {
        "id": "dVM_yPKFGxhl"
      },
      "source": [
        "# Cargamos la imagen en forma de arreglo de Numpy con sus componentes RGB.\n",
        "mario = np.array(Image.open('/content/mario_8bit_data.bmp'))\n",
        "\n",
        "px.imshow(mario, width=400, height=400) # Visualizamos interactivamente la imagen."
      ],
      "execution_count": null,
      "outputs": []
    },
    {
      "cell_type": "markdown",
      "metadata": {
        "id": "sBaZYpCm2Byw"
      },
      "source": [
        "*Plotly* dispone de una función adicional para la generación de mapas de calor a partir de la densidad de variables numéricas de un *dataset*, que sirve de analogía en 2 dimensiones de un histograma. Esta función es **`px.density_heatmap`**, que acepta argumentos similares a la función **`px.histogram`**. Probemos con el *dataset* de propinas *tips*:"
      ]
    },
    {
      "cell_type": "code",
      "metadata": {
        "id": "MULAv-Da2n4j"
      },
      "source": [
        "px.density_heatmap(tips_df,\n",
        "                   x=\"total_bill\",              # Variable del eje X. Total de la factura\n",
        "                   y=\"tip\",                     # Variable del eje Y. Valor de la propina\n",
        "                   nbinsx=10,                   # Número de intervalos de clase para la variable del eje X.\n",
        "                   nbinsy=10,                   # Número de intervalos de clase para la variable del eje Y.\n",
        "                   marginal_x = 'histogram',    # Visualización marginal en el eje X.\n",
        "                   marginal_y = 'rug'           # Visualización marginal en el eje Y.\n",
        "                   )"
      ],
      "execution_count": null,
      "outputs": []
    },
    {
      "cell_type": "markdown",
      "metadata": {
        "id": "JOroaOn131al"
      },
      "source": [
        "Además de esto, se pueden definir otras codificaciones, como la composición en filas y columnas."
      ]
    },
    {
      "cell_type": "code",
      "metadata": {
        "id": "fhGSQ75e39ju"
      },
      "source": [
        "px.density_heatmap(tips_df,\n",
        "                   x=\"total_bill\", # Variable del eje X. Total de la factura.\n",
        "                   y=\"tip\",        # Variable del eje Y. Valor de la propina.\n",
        "                   nbinsx=20,      # Número de intervalos de clase para la variable del eje X.\n",
        "                   nbinsy=20,      # Número de intervalos de clase para la variable del eje Y.\n",
        "                   facet_col = 'sex',   # Composición en columnas por género.\n",
        "                   facet_row = 'time'   # Composición en columnas por momento del día.\n",
        "                   )"
      ],
      "execution_count": null,
      "outputs": []
    },
    {
      "cell_type": "markdown",
      "metadata": {
        "id": "66POKR_jJ8KL"
      },
      "source": [
        "### **5.3. Matriz de dispersión: `scatter_matrix`**\n",
        "---\n",
        "\n",
        "*Plotly* dispone también de codificaciones visuales compuestas de varios componentes comunes. Uno de los ejemplos vistos en materiales anteriores fue el método **`pairplot`** de *Seaborn*. El equivalente en *Plotly* es el método **`scatter_matrix`**, que genera una gráfica similar, pero con la posibilidad de obtener información detallada de cada punto."
      ]
    },
    {
      "cell_type": "code",
      "metadata": {
        "id": "BToPukJOJ8KN"
      },
      "source": [
        "px.scatter_matrix(iris_df,\n",
        "                  # Subconjunto de las variables a representar como índices de la matriz:\n",
        "                  dimensions=[\"sepal_width\", \"sepal_length\", \"petal_width\", \"petal_length\"],\n",
        "                  color=\"species\" # Codificación general por tonalidad de color.\n",
        "                  )"
      ],
      "execution_count": null,
      "outputs": []
    },
    {
      "cell_type": "markdown",
      "metadata": {
        "id": "8cqloSoUUsfW"
      },
      "source": [
        "### **5.4. Figuras animadas**\n",
        "---\n",
        "\n",
        "*Plotly* permite codificar más variables por medio de la definición de animaciones, permitiendo codificar aspectos en la dimensión del **tiempo**. Esto es muy recomendado cuando se trabaja con series de tiempo, pues es posible representar la evolución de otras variables gráficamente, sin necesidad de codificar el tiempo en canales como la posición o mediante la composición de gráficas.\n",
        "\n",
        "Representaremos la evolución de algunas variables demográficas por país recopiladas en el *dataset* **`gapminder`** disponible en el submódulo **`plotly.data`**:"
      ]
    },
    {
      "cell_type": "code",
      "metadata": {
        "id": "jMIbG9O4VClI"
      },
      "source": [
        "# Datos generales por país con el transcurso de los años.\n",
        "gap_df = px.data.gapminder()\n",
        "\n",
        "gap_df.head()"
      ],
      "execution_count": null,
      "outputs": []
    },
    {
      "cell_type": "markdown",
      "metadata": {
        "id": "U9R87mwzUECe"
      },
      "source": [
        "Calculamos el máximo tamaño de barra posible (población total) por combinación de año y continente para dejarlo fijo en todo el transcurso de la animación. Si no se define la figura se adapta a los límites de los datos de cada *frame*."
      ]
    },
    {
      "cell_type": "code",
      "metadata": {
        "id": "sX67zi_1UZ6b"
      },
      "source": [
        "# Valor máximo de la población en todos los años.\n",
        "barmax = gap_df.groupby(['continent', 'year'])['pop'].sum().max()"
      ],
      "execution_count": null,
      "outputs": []
    },
    {
      "cell_type": "markdown",
      "metadata": {
        "id": "AuR6jKcXU3Iq"
      },
      "source": [
        "Ahora, usaremos la misma función **`px.bar`** usada en secciones anteriores para generar una figura animada. Ejecute la siguiente celda y haga clic en el icono de *Play* para ver la animación o desplace la barra para realizar el recorrido en el tiempo."
      ]
    },
    {
      "cell_type": "code",
      "metadata": {
        "id": "bfepsjviW9au"
      },
      "source": [
        "px.bar(gap_df,\n",
        "       x=\"continent\",             # Variable en la posición x. (Categoría)\n",
        "       y=\"pop\",                   # Variable en la posición y. (Magnitud)\n",
        "       color=\"continent\",         # Color (tono) de las barras.\n",
        "       animation_frame=\"year\",    # Variable a codificar en el tiempo.\n",
        "       animation_group=\"country\", # Variable usada para mantener consistencia y relación entre los frames.\n",
        "       range_y=[0, barmax]      # Rango fijo del eje y para toda la animación.\n",
        ")"
      ],
      "execution_count": null,
      "outputs": []
    },
    {
      "cell_type": "markdown",
      "metadata": {
        "id": "ChHHsTvSVUpg"
      },
      "source": [
        "Esta idea es generalizable a varias de las funciones disponibles en *Plotly* como en el caso de **`px.scatter`**:"
      ]
    },
    {
      "cell_type": "code",
      "metadata": {
        "id": "xm6pwVc9glAA"
      },
      "source": [
        "# Otro ejemplo, usando la evolución de funciones matemáticas.\n",
        "\n",
        "# Generamos los datos artificiales:\n",
        "n = 1000\n",
        "x = np.linspace(-np.pi, np.pi, n) # Espacio de -pi a pi.\n",
        "\n",
        "# DataFrame con las funciones matemáticas a representar, distinguidas por un frame de referencia 'i'.\n",
        "math_df = pd.concat([pd.DataFrame({'x': x,\n",
        "                                   'y': x*np.cos(i*x),\n",
        "                                   'i': i}) for i in np.arange(1, 15)])\n",
        "\n",
        "px.scatter(math_df,\n",
        "         x = 'x',\n",
        "         y = 'y',\n",
        "         animation_frame  = 'i',\n",
        "         range_x = [-np.pi, np.pi],\n",
        "         range_y = [-np.pi, np.pi]\n",
        "         )"
      ],
      "execution_count": null,
      "outputs": []
    },
    {
      "cell_type": "markdown",
      "metadata": {
        "id": "4r5hSQAz6d-g"
      },
      "source": [
        "## **Recursos adicionales**\n",
        "---\n",
        "Los siguientes enlaces corresponden a sitios en donde encontrará información muy útil para profundizar en el conocimiento de las funcionalidades de la librería *Plotly*, empezando por su documentación oficial:\n",
        "\n",
        "* [Plotly Getting Started](https://plotly.com/python/getting-started/)\n",
        "* [Plotly Gallery](https://plotly.com/python/)\n",
        "* [Coursera - Data Visualization with Plotly Express (Guided Project)](https://www.coursera.org/projects/data-visualization-plotly-express)\n",
        "* [Kaggle - Plotly Tutorial for Beginners](https://www.kaggle.com/kanncaa1/plotly-tutorial-for-beginners)\n",
        "* [Plotly en JavaScript](https://plotly.com/javascript/)\n",
        "* [Plotly Animations](https://plotly.com/python/animations/)\n",
        "\n",
        "\n",
        "\n",
        "\n"
      ]
    },
    {
      "cell_type": "markdown",
      "metadata": {
        "id": "z4VavQ3wgMGo"
      },
      "source": [
        "## **Créditos**\n",
        "---\n",
        "\n",
        "* **Profesor:** [Felipe Restrepo Calle](https://dis.unal.edu.co/~ferestrepoca/)\n",
        "* **Asistente docente:** Alberto Nicolai Romero Martínez\n",
        "\n",
        "**Universidad Nacional de Colombia** - *Facultad de Ingeniería*"
      ]
    }
  ]
}