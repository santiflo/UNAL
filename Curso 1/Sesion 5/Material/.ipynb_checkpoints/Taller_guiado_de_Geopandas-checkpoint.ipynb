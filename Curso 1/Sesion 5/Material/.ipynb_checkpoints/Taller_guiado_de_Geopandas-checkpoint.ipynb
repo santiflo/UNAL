{
  "nbformat": 4,
  "nbformat_minor": 0,
  "metadata": {
    "colab": {
      "provenance": [],
      "toc_visible": true
    },
    "kernelspec": {
      "name": "python3",
      "display_name": "Python 3"
    }
  },
  "cells": [
    {
      "cell_type": "markdown",
      "metadata": {
        "id": "fb9pUStUq6xf"
      },
      "source": [
        "<img src = \"https://drive.google.com/uc?export=view&id=1FSCcyEY8_AsxSOTiv88txhmxbUwfLw_P\" alt = \"Encabezado MLDS\" width = \"100%\">  </img>"
      ]
    },
    {
      "cell_type": "markdown",
      "metadata": {
        "id": "NrUHwsB_I3-i"
      },
      "source": [
        "# **Librería de datos geoespaciales: *Geopandas***\n",
        "---\n",
        "<img src=\"https://geopandas.org/_static/geopandas_logo_web.svg\" alt=\"scipy\" width=\"85%\">\n",
        "\n",
        "***GeoPandas*** es una librería de *Python* diseñada para el manejo de datos **[geoespaciales](https://es.wikipedia.org/wiki/Topolog%C3%ADa_geoespacial)** basada en la librería de análisis de datos *Pandas* y construida a partir de la librería de análisis y manipulación de objetos geométricos [*Shapely*](https://shapely.readthedocs.io/en/stable/project.html). *GeoPandas* implementa dos tipos de datos derivados de **`pandas.Series`** y **`pandas.DataFrame`** llamados **`GeoSeries`** y **`GeoDataFrame`**, respectivamente. Las operaciones geométricas soportadas por ***Geopandas*** están basadas en el sistema de coordenadas cartesianas."
      ]
    },
    {
      "cell_type": "markdown",
      "metadata": {
        "id": "8V0dzOIrYswi"
      },
      "source": [
        "## **0. Instalar e importar *GeoPandas***\n",
        "---\n",
        "En el momento de realización de este material, *GeoPandas* no es parte de la lista de librerías por defecto de *Google Colaboratory*. Para utilizar su funcionalidad deberemos instalar los paquetes necesarios. Primero, instalaremos *GeoPandas*."
      ]
    },
    {
      "cell_type": "code",
      "metadata": {
        "id": "RywYf_XojSQd"
      },
      "source": [
        "# Librería de datos geoespaciales GeoPandas.\n",
        "!pip install -U geopandas"
      ],
      "execution_count": null,
      "outputs": []
    },
    {
      "cell_type": "markdown",
      "metadata": {
        "id": "NF4y5JUueMwf"
      },
      "source": [
        "Los demás paquetes son dependencias necesarias para llevar a cabo algunas operaciones de combinación de datos geoespaciales con *GeoPandas*. En particular, la función **`GeoPandas.sjoin`** que se verá más adelante en este material.\n",
        "\n",
        "La instalación de estas dependencias se puede hacer fácilmente con las siguientes instrucciones de línea de comandos:"
      ]
    },
    {
      "cell_type": "code",
      "metadata": {
        "id": "aVB4DeyichjB"
      },
      "source": [
        "!pip install -U rtree mapclassify fiona pyproj\n",
        "!sudo apt install libspatialindex-dev"
      ],
      "execution_count": null,
      "outputs": []
    },
    {
      "cell_type": "markdown",
      "metadata": {
        "id": "6l7_IM0zY9md"
      },
      "source": [
        "Antes de empezar, vamos a importar las librerías habituales de análisis de datos *NumPy*, *Matplotlib* y *Pandas*."
      ]
    },
    {
      "cell_type": "code",
      "metadata": {
        "id": "EuM_AkVQX_uy"
      },
      "source": [
        "import numpy as np\n",
        "import pandas as pd\n",
        "import matplotlib as mpl\n",
        "\n",
        "import matplotlib.pyplot as plt\n",
        "%matplotlib inline\n",
        "plt.rcParams['figure.dpi'] = 110"
      ],
      "execution_count": null,
      "outputs": []
    },
    {
      "cell_type": "markdown",
      "metadata": {
        "id": "8yDr9TO_axvg"
      },
      "source": [
        "Finalmente, importamos el módulo **`geopandas`** para manejo de datos georeferenciados, usando el alias **`gpd`**; y también **`shapely`** y su submódulo **`shapely.geometry`** para la manipulación de figuras geométricas."
      ]
    },
    {
      "cell_type": "code",
      "metadata": {
        "id": "XcVt7uc2axCh"
      },
      "source": [
        "import geopandas as gpd         # Librería de datos geoespaciales GeoPandas.\n",
        "import shapely                  # Librería de manipulación de objetos geométricos.\n",
        "from shapely.geometry import *  # Herramientas para manipulación geométrica."
      ],
      "execution_count": null,
      "outputs": []
    },
    {
      "cell_type": "markdown",
      "metadata": {
        "id": "JNoRodkYZWJU"
      },
      "source": [
        "Para conocer las versiones de todas las librerías ejecute la siguiente celda:\n"
      ]
    },
    {
      "cell_type": "code",
      "metadata": {
        "id": "jUMP_2CPqwRY"
      },
      "source": [
        "# Versiones de Python y demás liberías utilizadas.\n",
        "!python --version\n",
        "print('GeoPandas', gpd.__version__)\n",
        "print('Shapely', shapely.__version__)\n",
        "print('NumPy', np.__version__)\n",
        "print('Pandas', pd.__version__)\n",
        "print('Matplotlib', mpl.__version__)"
      ],
      "execution_count": null,
      "outputs": []
    },
    {
      "cell_type": "markdown",
      "metadata": {
        "id": "dxNzX3sfq3gZ"
      },
      "source": [
        "Este material se realizó con las siguientes versiones:\n",
        "- Python 3.10.6\n",
        "- GeoPandas 0.13.2\n",
        "- NumPy 1.22.4\n",
        "- Pandas 1.5.3\n",
        "- Matplotlib 3.7.1\n"
      ]
    },
    {
      "cell_type": "markdown",
      "metadata": {
        "id": "vV-Xv0-6I3-x"
      },
      "source": [
        "## **1. Tipo de dato: *GeoSeries***\n",
        "---\n",
        "\n",
        "Un objeto **`GeoSeries`** es básicamente un objeto *Series* cuyos valores contienen objetos de tipos geométricos. Cada valor almacenado en una *GeoSerie* puede tener un único objeto geométrico (un polígono, por ejemplo) o múltiples objetos geométricos, los cuales por lo general deben ser del mismo tipo.\n",
        "\n",
        "**`Geopandas`** soporta los siguientes tipos de objetos geométricos:\n",
        "\n",
        "- **`Points`** | **`Multi-Points`** : Puntos.\n",
        "- **`Lines`** | **`Multi-Lines`**: Líneas.\n",
        "- **`Polygons`** | **`Multi-Polygons`**: Polígonos.\n",
        "\n",
        "Cada uno de estos objetos son a su vez objetos de la librería **[`shapely`](https://shapely.readthedocs.io/en/latest/manual.html#geometric-objects)**.\n",
        "\n"
      ]
    },
    {
      "cell_type": "markdown",
      "metadata": {
        "id": "4Rd5hyPAun-Q"
      },
      "source": [
        "### **1.1. Entendiendo las GeoSeries**\n",
        "---\n",
        "\n",
        "Para entender el funcionamiento de una *geoserie*, lo ilustraremos inicialmente mediante un ejemplo básico. Definimos una figura geométrica **`p1`** del tipo **`Polygon`**, la cual es definida mediante la serie de puntos (tuplas con dos números reales) en el plano cartesiano que dan forma al polígono. Después, se define la *geoserie* enviando en este caso un único parámetro, el cual es el objeto o figura que deseamos dibujar.\n",
        "\n",
        "Para este ejemplo usaremos el siguiente polígono:"
      ]
    },
    {
      "cell_type": "code",
      "metadata": {
        "id": "leIg68q4I3-2"
      },
      "source": [
        "# Creación del objeto Polygon.\n",
        "p1 = Polygon([(0, 0),(0.5, 0.2), (1, 0), (0.8, 0.5), (1, 1), (0.1, 0.8)])\n",
        "\n",
        "p1"
      ],
      "execution_count": null,
      "outputs": []
    },
    {
      "cell_type": "code",
      "metadata": {
        "id": "OjM9eVufjhYb"
      },
      "source": [
        "# Creación del objeto GeoSeries\n",
        "g = gpd.GeoSeries(p1)\n",
        "g"
      ],
      "execution_count": null,
      "outputs": []
    },
    {
      "cell_type": "markdown",
      "metadata": {
        "id": "KE6aMue8q2Yq"
      },
      "source": [
        "Observe en el resultado de la celda anterior que el **`dtype`** de la *geoserie* es de tipo **`geometry`**.\n",
        "\n",
        "Una vez definida la *geoserie* (**`g`**), podemos dibujarla con el llamado a la función **`plot()`**, la cual nos dibujará el polígono con el que se definió la *geoserie* (usando *Matplotlib*)."
      ]
    },
    {
      "cell_type": "code",
      "metadata": {
        "id": "FnRnUcoII3-8"
      },
      "source": [
        "g.plot();"
      ],
      "execution_count": null,
      "outputs": []
    },
    {
      "cell_type": "markdown",
      "metadata": {
        "id": "TZ1M5lUcu9jl"
      },
      "source": [
        "Ahora vamos a definir la *geoserie* con más de un objeto geométrico. En el siguiente caso definimos tres objetos geométricos de tipo **poligonal** y con ellos creamos la **geoserie** que posteriormente se diagrama con el método **`plot`**.\n",
        "\n",
        "La función **`plot`** puede recibir parámetros para la personalización de la gráfica. En este caso por ejemplo definimos el mapa de colores a usar:"
      ]
    },
    {
      "cell_type": "code",
      "metadata": {
        "id": "Us2Ep1GKswvs"
      },
      "source": [
        "p1 = Polygon([(0, 0), (1, 0), (1, 1), (0, 1)])      # Cuadrado azul\n",
        "p2 = Polygon([(0, 0), (1, 0), (1, 1)])              # Triángulo gris encima del cuadrado p1\n",
        "p3 = Polygon([(2, 0), (3, 0), (3, 1), (2, 1)])      # Cuadrado rojo\n",
        "\n",
        "\n",
        "# Creamos el objeto GeoSeries con 3 polígonos.\n",
        "g = gpd.GeoSeries([p1, p2, p3])\n",
        "\n",
        "g"
      ],
      "execution_count": null,
      "outputs": []
    },
    {
      "cell_type": "code",
      "metadata": {
        "id": "8WhbX732RcgK"
      },
      "source": [
        "# Graficamos el resultado con el método \"plot\".\n",
        "g.plot(cmap='coolwarm');"
      ],
      "execution_count": null,
      "outputs": []
    },
    {
      "cell_type": "markdown",
      "metadata": {
        "id": "NxJVer22xV92"
      },
      "source": [
        "> **Nota**: De esta manera, es posible diagramar mapas de una región geográfica,  definiendo el polígono o conjunto de polígonos que le dan forma a cada región. Más adelante veremos varios ejemplos."
      ]
    },
    {
      "cell_type": "markdown",
      "metadata": {
        "id": "3kX5NjumxrOk"
      },
      "source": [
        "### **1.2. Atributos**\n",
        "---\n",
        "Las ***geoseries*** poseen ciertos atributos que permiten conocer sus características. Entre ellos se encuentran los atributos heredados de la clase **`pandas.Series`**, incluyendo aquellos que permiten el indexado y selección de datos.\n"
      ]
    },
    {
      "cell_type": "code",
      "metadata": {
        "id": "cZLvhuGWksPh"
      },
      "source": [
        "# Objeto Index de una geoserie\n",
        "g.index"
      ],
      "execution_count": null,
      "outputs": []
    },
    {
      "cell_type": "code",
      "metadata": {
        "id": "ID20Tvu0k_X7"
      },
      "source": [
        "# Objeto numpy.array con los valores de una geoserie.\n",
        "g.values"
      ],
      "execution_count": null,
      "outputs": []
    },
    {
      "cell_type": "code",
      "metadata": {
        "id": "_ol23i2WkvIf"
      },
      "source": [
        "# Objetos shape y size para obtener las dimensiones del conjunto.\n",
        "print(g.shape)\n",
        "print(g.size)"
      ],
      "execution_count": null,
      "outputs": []
    },
    {
      "cell_type": "code",
      "metadata": {
        "id": "78STslwBmF3d"
      },
      "source": [
        "# Objeto de acceso por etiqueta 'loc'.\n",
        "g.loc[0]"
      ],
      "execution_count": null,
      "outputs": []
    },
    {
      "cell_type": "code",
      "metadata": {
        "id": "J2OKPvCKlCUR"
      },
      "source": [
        "# Objeto de acceso por posición 'iloc'.\n",
        "g.iloc[-2]"
      ],
      "execution_count": null,
      "outputs": []
    },
    {
      "cell_type": "markdown",
      "metadata": {
        "id": "8m5DjxF8mNuR"
      },
      "source": [
        "La manipulación de estos objetos es muy similar a aquella realizada entre objetos de *Pandas*, y además de los atributos básicos se pueden emplear funciones más avanzadas como **`apply`** y **`to_csv`**, entre otras.\n",
        "\n",
        "*GeoPandas* amplía esta colección de atributos y funciones con utilidades geométricas. Algunos de los atributos exclusivos de los objetos *GeoSeries* son:"
      ]
    },
    {
      "cell_type": "markdown",
      "metadata": {
        "id": "-Y_CEHqg0hBW"
      },
      "source": [
        "* **`area`**: Retorna el área proyectada de cada una de las figuras de la *geoserie*. Con la siguiente instrucción obtenemos el área de las tres figuras que conforman la *geoserie* **`g`**.\n"
      ]
    },
    {
      "cell_type": "code",
      "metadata": {
        "id": "obqLAzlhI3_D"
      },
      "source": [
        "g.area"
      ],
      "execution_count": null,
      "outputs": []
    },
    {
      "cell_type": "markdown",
      "metadata": {
        "id": "7MDuhLQO1XfW"
      },
      "source": [
        "* **`bounds`**: Define los límites (valor mínimo y máximo) de los ejes del plano cartesiano en los cuales se dibuja cada figura de la *geoserie* y lo retorna en un objeto *DataFrame* de *Pandas*:"
      ]
    },
    {
      "cell_type": "code",
      "metadata": {
        "id": "BG4etBoyI3_K"
      },
      "source": [
        "g.bounds"
      ],
      "execution_count": null,
      "outputs": []
    },
    {
      "cell_type": "markdown",
      "metadata": {
        "id": "WGvXWUmvuVEs"
      },
      "source": [
        "* **`boundary`**: Retorna los límites de cada objeto geométrico en forma de línea **`LineString`** compuesta por una colección de puntos."
      ]
    },
    {
      "cell_type": "code",
      "metadata": {
        "id": "wB-3DyemuPET"
      },
      "source": [
        "g.boundary"
      ],
      "execution_count": null,
      "outputs": []
    },
    {
      "cell_type": "code",
      "metadata": {
        "id": "miMzB8LxuSBG"
      },
      "source": [
        "# Límite del primer objeto. (Esta geometría es la línea en el perímetro del polígono original)\n",
        "g.boundary[0]"
      ],
      "execution_count": null,
      "outputs": []
    },
    {
      "cell_type": "markdown",
      "metadata": {
        "id": "ytAdnqv51rUT"
      },
      "source": [
        "* **`geom_type`**: Corresponde al tipo de figura geométrica de cada uno de los objetos que componen la *geoserie*. En este caso este tipo de dato es **`Polygon`**:\n"
      ]
    },
    {
      "cell_type": "code",
      "metadata": {
        "id": "Y0NGP_7gI3_P"
      },
      "source": [
        "g.geom_type"
      ],
      "execution_count": null,
      "outputs": []
    },
    {
      "cell_type": "markdown",
      "metadata": {
        "id": "nc6Rxbtk2JY6"
      },
      "source": [
        "* **`centroid`**: Retorna las coordenadas del **[centroide](https://es.wikipedia.org/wiki/Centroide)** de cada figura."
      ]
    },
    {
      "cell_type": "code",
      "metadata": {
        "id": "FHr3QHKjI3_T"
      },
      "source": [
        "g.centroid"
      ],
      "execution_count": null,
      "outputs": []
    },
    {
      "cell_type": "markdown",
      "metadata": {
        "id": "mhc7R4Xx7A_3"
      },
      "source": [
        "Podemos dibujar en el plano cartesiano el centroide **`centroid`** de cada figura geométrica que conforma la *geoserie* usando el método **`plot`** en el objeto *GeoSeries* generado:"
      ]
    },
    {
      "cell_type": "code",
      "metadata": {
        "id": "MioyQffeI3_q"
      },
      "source": [
        "ax = g.plot(cmap='autumn')                 # Primero se dibujan los polígonos de la geoserie.\n",
        "g.centroid.plot(ax = ax, cmap='coolwarm'); # Segundo, se dibujan sus centroides usando el mismo objeto Axes (ax)."
      ],
      "execution_count": null,
      "outputs": []
    },
    {
      "cell_type": "markdown",
      "metadata": {
        "id": "waQ4DL2Jrm49"
      },
      "source": [
        "* **`convex_hull`**: Retorna las coordenadas del polígono que representa la [**envolvente conexa o *convex hull***](https://es.wikipedia.org/wiki/Envolvente_convexa) de cada figura."
      ]
    },
    {
      "cell_type": "code",
      "metadata": {
        "id": "N5nI23--rm4_"
      },
      "source": [
        "g.convex_hull"
      ],
      "execution_count": null,
      "outputs": []
    },
    {
      "cell_type": "markdown",
      "metadata": {
        "id": "DyaPMBHcrQN6"
      },
      "source": [
        "* **`envelope`**: Retorna las coordenadas del polígono rectangular de menor tamaño que contenga dentro de su geometría cada figura."
      ]
    },
    {
      "cell_type": "code",
      "metadata": {
        "id": "GmxefT1-quR3"
      },
      "source": [
        "g.envelope"
      ],
      "execution_count": null,
      "outputs": []
    },
    {
      "cell_type": "markdown",
      "metadata": {
        "id": "m68XzIztsCg4"
      },
      "source": [
        "* **`unary_union`**: Retorna las coordenadas del polígono obtenido de la unión de la geometría de cada valor de la serie."
      ]
    },
    {
      "cell_type": "code",
      "metadata": {
        "id": "-X6cBkVIr_Sn"
      },
      "source": [
        "g.unary_union"
      ],
      "execution_count": null,
      "outputs": []
    },
    {
      "cell_type": "markdown",
      "metadata": {
        "id": "rhUBfuzxI3_X"
      },
      "source": [
        "### **1.3. Métodos básicos**\n",
        "---\n",
        "\n",
        "Los objetos **`GeoSeries`** cuentan con múltiples métodos con funcionalidades geométricas básicas. Algunos de los más importantes son:"
      ]
    },
    {
      "cell_type": "markdown",
      "metadata": {
        "id": "mR5Yvxvp37tO"
      },
      "source": [
        "* **`distance`**: Retorna la distancia mínima entre dos elementos geométricos. Para esto se usa la notación **`obj1.distance(obj2)`**, siendo **`obj1`** y **`obj2`** objetos de *Shapely*. El siguiente ejemplo retorna la distancia mínima que hay entre los polígonos **`p1`** y **`p3`**:"
      ]
    },
    {
      "cell_type": "code",
      "metadata": {
        "id": "Hge7lgJ9I3_a"
      },
      "source": [
        "# Distancia entre elementos geométricos\n",
        "p1.distance(p3)"
      ],
      "execution_count": null,
      "outputs": []
    },
    {
      "cell_type": "markdown",
      "metadata": {
        "id": "WOpAYEnY5QUJ"
      },
      "source": [
        "  El método **`distance`** también se puede llamar desde la *geoserie* y usando como argumento uno de sus objetos. De esta manera, nos retorna la distancia mínima desde cada uno de los objetos de la *geoserie* con respecto al objeto con el cual se llamó la función. En el siguiente ejemplo vemos la distancia mínima entre cada objeto de la *geoserie* y el objeto **`p3`**:"
      ]
    },
    {
      "cell_type": "code",
      "metadata": {
        "id": "fDgT0piRI3_l"
      },
      "source": [
        "g.distance(p3)"
      ],
      "execution_count": null,
      "outputs": []
    },
    {
      "cell_type": "markdown",
      "metadata": {
        "id": "oI2EEQfe6k7F"
      },
      "source": [
        "* **`representative_point`**: Retorna un punto representativo que se garantiza se encuentra dentro de la geometría. Esto puede llegar a ser muy útil porque muchas veces los polígonos tienen formas irregulares y su centroide es un punto que cae por fuera del polígono. En este caso, se garantiza que el punto representativo estará dentro de la geometría."
      ]
    },
    {
      "cell_type": "code",
      "metadata": {
        "id": "BKz7GSS8I3_o"
      },
      "source": [
        "g.representative_point()"
      ],
      "execution_count": null,
      "outputs": []
    },
    {
      "cell_type": "code",
      "metadata": {
        "id": "X3jC6ZYvxUL4"
      },
      "source": [
        "ax = g.plot(cmap='autumn')                               # Primero se dibujan los polígonos de la geoserie.\n",
        "g.representative_point().plot(ax = ax, cmap='coolwarm'); # Segundo, se dibujan sus puntos representativos usando el mismo objeto Axes (ax)."
      ],
      "execution_count": null,
      "outputs": []
    },
    {
      "cell_type": "markdown",
      "metadata": {
        "id": "bIaNtlWSvafi"
      },
      "source": [
        "* **`rotate`**: Genera una rotación de cada objeto geométrico con respecto a un ángulo dado como argumento **`angle`**. Este ángulo es interpretado en forma de grados, pero se puede usar en forma de radianes con el argumento booleano **`use_radians`**."
      ]
    },
    {
      "cell_type": "code",
      "metadata": {
        "id": "P5O4r1jQvDlO"
      },
      "source": [
        "# Generamos una nueva serie con una rotación de 30° con respecto a la original y la graficamos.\n",
        "g_rot = g.rotate(30)\n",
        "g_rot.plot(cmap = 'autumn');"
      ],
      "execution_count": null,
      "outputs": []
    },
    {
      "cell_type": "markdown",
      "metadata": {
        "id": "ti25Cgvbv4FO"
      },
      "source": [
        "* **`translate`**: Genera una traslación espacial de cada objeto geométrico con respecto a los valores de desplazamiento u *offsets*, indicados con los argumentos **`xoff`**, **`yoff`** y **`zoff`**."
      ]
    },
    {
      "cell_type": "code",
      "metadata": {
        "id": "9UoSfuJ8v4FP"
      },
      "source": [
        "# Generamos una nueva serie con una traslación de 1 unidad en x y 1 unidad en y con respecto a la original y la graficamos.\n",
        "g_trs = g.translate(xoff = 1,\n",
        "                    yoff = 1)\n",
        "\n",
        "g_trs.plot(cmap = 'autumn');"
      ],
      "execution_count": null,
      "outputs": []
    },
    {
      "cell_type": "markdown",
      "metadata": {
        "id": "0_DPcCoGwh82"
      },
      "source": [
        "* **`scale`**: Genera un reescalado de cada objeto geométrico con respecto a una escala dada por cada eje, indicadas con los argumentos **`xfact`**, **`yfact`** y **`zfact`**."
      ]
    },
    {
      "cell_type": "code",
      "metadata": {
        "id": "8gvx-1IBwh84"
      },
      "source": [
        "# Generamos una nueva serie con una reescalado de 0.5 en x y 2 en y con respecto a la original y la graficamos.\n",
        "g_sca = g.scale(xfact = 0.5,\n",
        "                yfact = 2)\n",
        "\n",
        "g_sca.plot(cmap = 'autumn');"
      ],
      "execution_count": null,
      "outputs": []
    },
    {
      "cell_type": "markdown",
      "metadata": {
        "id": "G-DcivXyxnC5"
      },
      "source": [
        "* **`buffer`**: Retorna las coordenadas del polígono que contiene todos los puntos a determinada distancia de cada objeto geométrico. Esta distancia es usada en el argumento **`distance`**."
      ]
    },
    {
      "cell_type": "code",
      "metadata": {
        "id": "vnm4CkSuxwvD"
      },
      "source": [
        "g_buf = g.buffer(0.25)\n",
        "\n",
        "g.plot(cmap = 'autumn')         # Primero se dibujan los polígonos de la geoserie.\n",
        "g_buf.plot(cmap = 'autumn');    # Después, se dibujan los polígonos con área extendida obtenidos con la función \"buffer\"."
      ],
      "execution_count": null,
      "outputs": []
    },
    {
      "cell_type": "markdown",
      "metadata": {
        "id": "EYcemv7fI3_r"
      },
      "source": [
        "### **1.4. Pruebas de relación**\n",
        "---\n",
        "\n",
        "*GeoPandas* provee funciones especiales que permiten identificar relaciones geométricas entre varios objetos. A continuación se presentan algunas de las pruebas más importantes."
      ]
    },
    {
      "cell_type": "markdown",
      "metadata": {
        "id": "2c7la-Vz7ZgD"
      },
      "source": [
        "* **`geom_almost_equals`**: Es una función de la *geoserie* que recibe como parámetro un objeto geométrico y retorna **`True`** o **`False`** si hay o no igualdad geométrica aproximada entre cada uno de los objetos de la *geoserie* y el objeto enviado como parámetro. La igualdad geométrica se prueba de acuerdo a la precisión decimal especificada por el parámetro **`decimal`** (por defecto es 6 dígitos decimales). El siguiente código compara el objeto **`p3`** con cada uno de los objetos de la geoserie **`g`**:"
      ]
    },
    {
      "cell_type": "code",
      "metadata": {
        "id": "N1sRV6WwI3_r"
      },
      "source": [
        "g.geom_almost_equals(p3)"
      ],
      "execution_count": null,
      "outputs": []
    },
    {
      "cell_type": "markdown",
      "metadata": {
        "id": "qA0RneMv85Zx"
      },
      "source": [
        "* **`contains`**: Retorna **`True`** si una figura está contenida en el espacio de otra. En el caso de nuestros ejemplos evaluaremos esta propiedad para los objetos **`p1`** y **`p2`**.\n"
      ]
    },
    {
      "cell_type": "code",
      "metadata": {
        "id": "oNyyHyLmI3_s"
      },
      "source": [
        "g[[0]].plot(color = 'blue')\n",
        "g[[1]].plot(color = 'red');"
      ],
      "execution_count": null,
      "outputs": []
    },
    {
      "cell_type": "code",
      "metadata": {
        "id": "WD4SMSm2l1KZ"
      },
      "source": [
        "# El objeto 1 (cuadrado azul) SÍ contiene al objeto 2 (triángulo rojo).\n",
        "p1.contains(p2)"
      ],
      "execution_count": null,
      "outputs": []
    },
    {
      "cell_type": "code",
      "metadata": {
        "id": "LqrBrddMI3_v"
      },
      "source": [
        "# El objeto 2 (triángulo rojo) NO contiene al objeto 1 (cuadrado azul).\n",
        "p2.contains(p1)"
      ],
      "execution_count": null,
      "outputs": []
    },
    {
      "cell_type": "code",
      "metadata": {
        "id": "qN12CRi_FwfI"
      },
      "source": [
        "# También se puede usar con todo un objeto GeoSeries.\n",
        "g.contains(p1)"
      ],
      "execution_count": null,
      "outputs": []
    },
    {
      "cell_type": "markdown",
      "metadata": {
        "id": "IGu1UF67SJgO"
      },
      "source": [
        "* **`within`:** Devuelve verdadero si una geometría está dentro de otra. Es la operación inversa del método **`contains`**. Observe qué objeto hace el llamado para poder interpretar correctamente el resultado."
      ]
    },
    {
      "cell_type": "code",
      "metadata": {
        "id": "fVFm8k11SIsJ"
      },
      "source": [
        "# El objeto 1 (cuadrado azul) NO está dentro del objeto 2 (triángulo rojo).\n",
        "p1.within(p2)"
      ],
      "execution_count": null,
      "outputs": []
    },
    {
      "cell_type": "code",
      "metadata": {
        "id": "xmq7tvKVSSox"
      },
      "source": [
        "# El objeto 2 (triángulo rojo) SÍ está dentro del objeto 1 (cuadrado azul).\n",
        "p2.within(p1)"
      ],
      "execution_count": null,
      "outputs": []
    },
    {
      "cell_type": "code",
      "metadata": {
        "id": "XGgdfOIcGTrM"
      },
      "source": [
        "# También se puede usar con todo un objeto GeoSeries.\n",
        "g.within(p1)"
      ],
      "execution_count": null,
      "outputs": []
    },
    {
      "cell_type": "markdown",
      "metadata": {
        "id": "XxlefTOF9Hmk"
      },
      "source": [
        "* **`intersects`**: Devuelve verdadero si una figura está interceptada con otra. Es suficiente con que exista un punto que esté contenido en ambas geometrías."
      ]
    },
    {
      "cell_type": "code",
      "metadata": {
        "id": "gEExu8AiI3_w"
      },
      "source": [
        "# El único objeto que no se intercepta con p1 es el objeto p3 (cuadrado en la tercera posición).\n",
        "g.intersects(p1)"
      ],
      "execution_count": null,
      "outputs": []
    },
    {
      "cell_type": "markdown",
      "metadata": {
        "id": "0Kgp-GJ9I3_0"
      },
      "source": [
        "## **2. Tipo de dato: *GeoDataFrame***\n",
        "---\n",
        "Un ***GeoDataFrame*** es una estructura de datos tabular que contiene columnas de tipo geométrico. Se pueden entender fácilmente como un *DataFrame* de *pandas* donde una de sus columnas es una *GeoSerie*, es decir, contiene objetos de geometrías.  \n",
        "\n",
        "Los *GeoDataFrames* siempre contienen una columna que se denomina geometría (**`geometry`**). Cuando una operación espacial es aplicada al *GeoDataFrame*, este comando siempre actuará sobre la columna **`geometry`**. La columna **`geometry`** podría tener un nombre diferente en ciertas ocasiones, el cual puede ser consultado usando **`gdf.geometry.name`**."
      ]
    },
    {
      "cell_type": "markdown",
      "metadata": {
        "id": "BdN9t01zMZWQ"
      },
      "source": [
        "### **2.1. Entendiendo los GeoDataFrame**\n",
        "---\n",
        "*GeoPandas* posee algunos conjuntos de datos de ejemplo. En este caso, vamos a cargar el archivo **`naturalearth_lowres`**, con información geoespacial y demográfica de $177$ países del mundo.\n",
        "\n",
        "Para esto usamos el método **`gpd.datasets.get_path`** y cargamos el archivo con la función **`read_file`** del módulo **`geopandas`**:"
      ]
    },
    {
      "cell_type": "code",
      "metadata": {
        "id": "2oMKtHoZI3_0"
      },
      "source": [
        "path = gpd.datasets.get_path('naturalearth_lowres')\n",
        "world = gpd.read_file(path)\n",
        "\n",
        "world.head()"
      ],
      "execution_count": null,
      "outputs": []
    },
    {
      "cell_type": "code",
      "metadata": {
        "id": "SnlO-NoqG6kE"
      },
      "source": [
        "# Objeto de tipo GeoDataFrame.\n",
        "type(world)"
      ],
      "execution_count": null,
      "outputs": []
    },
    {
      "cell_type": "markdown",
      "metadata": {
        "id": "S_-w5WktWnnL"
      },
      "source": [
        "La variable **`world`**  es un **`GeoDataFrame`** que contiene datos acerca de los países del mundo. En el que la columna **`geometry`** es una *geoserie*. Los datos que contiene son:\n",
        "* **`pop_est`**: Población estimada.\n",
        "* **`continent`**: Continente al que pertenece el país.\n",
        "* **`name`**: Nombre del país.\n",
        "* **`iso_a3`**: Código ISO del país.\n",
        "* **`gdp_md_est`**: Producto interno bruto (PIB) nacional estimado.\n",
        "* **`geometry`**: Polígono (o multi-polígono) correspondiente al mapa de cada país."
      ]
    },
    {
      "cell_type": "markdown",
      "metadata": {
        "id": "le_XfdaVZR3H"
      },
      "source": [
        "Si llamamos a la función **`plot`** desde el objeto *GeoDataFrame*, se dibujarán todos los polígonos de la columna **`geometry`**, los cuales corresponden a los mapas de los países, en una sola figura:"
      ]
    },
    {
      "cell_type": "code",
      "metadata": {
        "id": "ZbMsr1LdaYE0"
      },
      "source": [
        "world.plot();"
      ],
      "execution_count": null,
      "outputs": []
    },
    {
      "cell_type": "markdown",
      "metadata": {
        "id": "CM10PXwXjXJv"
      },
      "source": [
        "Los atributos y métodos discutidos en la sección de **`GeoSeries`** también son válidos en los objetos **`GeoDataFrame`**. Con estos datos podemos realizar acciones como, por ejemplo, generar el diagrama de los centroides de todos los países del mundo."
      ]
    },
    {
      "cell_type": "code",
      "metadata": {
        "id": "P5KK0aCZI3_-"
      },
      "source": [
        "world.centroid.plot();"
      ],
      "execution_count": null,
      "outputs": []
    },
    {
      "cell_type": "markdown",
      "metadata": {
        "id": "mRKcLR8tJVeE"
      },
      "source": [
        "> **Nota**: El ejemplo anterior arroja un *warning* indicando que el *dataset* usado está en un sistema de coordenadas geográfico. Graficar este tipo de geometrías puede generar distorsión en la representación, por lo que se recomienda realizar una conversión del sistema de coordenadas con el método **`to_crs`**. Para más información de conversión de sistemas de referencia consulte el siguiente [enlace](https://geopandas.org/docs/user_guide/projections.html#managing-projections)."
      ]
    },
    {
      "cell_type": "code",
      "metadata": {
        "id": "WWs6ctzIJmOj"
      },
      "source": [
        "mercator_world = world.to_crs(\"EPSG:3395\") # Conversión al sistema de referencia de proyección de Mercator.\n",
        "mercator_world.centroid.plot();"
      ],
      "execution_count": null,
      "outputs": []
    },
    {
      "cell_type": "markdown",
      "metadata": {
        "id": "yn2arSnjRLBx"
      },
      "source": [
        "### **2.2. Selección condicional**\n",
        "---\n",
        "Al igual que el objeto **`GeoSeries`**, los objetos de tipo **`GeoDataFrame`** heredan la funcionalidad de la clase **`pandas.DataFrame`**, incluyendo la posibilidad de realizar selección condicional.\n",
        "\n",
        "Para este ejemplo vamos a hacer una selección condicional para filtrar únicamente los datos de Colombia y, posteriormente, vamos a dibujar el mapa:"
      ]
    },
    {
      "cell_type": "code",
      "metadata": {
        "id": "f_cMTyed4z-7"
      },
      "source": [
        "col = world[world['name']=='Colombia']\n",
        "col"
      ],
      "execution_count": null,
      "outputs": []
    },
    {
      "cell_type": "code",
      "metadata": {
        "id": "qkTIZpzN-tdC"
      },
      "source": [
        "col.plot();"
      ],
      "execution_count": null,
      "outputs": []
    },
    {
      "cell_type": "markdown",
      "metadata": {
        "id": "3_kkbE6lRK_3"
      },
      "source": [
        "La selección condicional podría ser más compleja, por ejemplo, podríamos seleccionar a Colombia, Chile y Panamá para visualizar solamente sus mapas:"
      ]
    },
    {
      "cell_type": "code",
      "metadata": {
        "id": "QedWKdrrR0AC"
      },
      "source": [
        "# Selección condicional compuesta con el operador \"|\" (OR bit a bit).\n",
        "varios = world[(world['name']=='Colombia') |\n",
        "              (world['name']=='Chile') |\n",
        "              (world['name']=='Panama')]['geometry']\n",
        "varios.plot();"
      ],
      "execution_count": null,
      "outputs": []
    },
    {
      "cell_type": "markdown",
      "metadata": {
        "id": "qfm7c7LISbvS"
      },
      "source": [
        "Por supuesto, podríamos también utilizar los datos de otras columnas. Por ejemplo, países que tengan una población mayor a $100$ millones de personas:"
      ]
    },
    {
      "cell_type": "code",
      "metadata": {
        "id": "L-2r9K0eSrRT"
      },
      "source": [
        "# Selección condicional con el valor de la variable 'pop_est'.\n",
        "pob_alta = world[(world['pop_est']>100000000)]['geometry']\n",
        "pob_alta.plot();"
      ],
      "execution_count": null,
      "outputs": []
    },
    {
      "cell_type": "markdown",
      "metadata": {
        "id": "6pTG-8i6I4AD"
      },
      "source": [
        "Adicionalmente, *GeoPandas* nos permite hacer una selección de índices basado en coordenadas con el atributo **`.cx`**. Primero, graficaremos nuevamente todo el mapa como referencia."
      ]
    },
    {
      "cell_type": "code",
      "metadata": {
        "id": "KYehhNcrI4AE"
      },
      "source": [
        "world.plot();"
      ],
      "execution_count": null,
      "outputs": []
    },
    {
      "cell_type": "markdown",
      "metadata": {
        "id": "JcvwuqgbN2Cd"
      },
      "source": [
        "Ahora, creamos un nuevo *GeoDataFrame* correspondiente a los países ubicados en el hemisferio sur:\n",
        "\n",
        "> * **Nota:** Este cálculo se realiza con base al sistema de [coordenadas geográficas](https://es.wikipedia.org/wiki/Coordenadas_geogr%C3%A1ficas). Estas se componen de los siguientes elementos:\n",
        "  * **Latitud**: Ángulo entre $-90^\\circ$ y $90^\\circ$ con respecto al plano del ecuador (equivalente al eje $y$ en representaciones en 2D).\n",
        "  * **Longitud**: Ángulo entre $-180^\\circ$ y $180^\\circ$ con respecto al meridiano de Greenwich (equivalente al eje $x$ en representaciones en 2D)."
      ]
    },
    {
      "cell_type": "code",
      "metadata": {
        "id": "6mTCJEMzI4AG"
      },
      "source": [
        "hemisferio_sur = world.cx[:, :0]\n",
        "hemisferio_sur.plot(figsize=(20, 8));"
      ],
      "execution_count": null,
      "outputs": []
    },
    {
      "cell_type": "markdown",
      "metadata": {
        "id": "UeSsZr2UV5yp"
      },
      "source": [
        "Podríamos seleccionar las coordenadas correspondientes a Centro América, Sur América y el Caribe:"
      ]
    },
    {
      "cell_type": "code",
      "metadata": {
        "id": "LDOxA50DV5yr"
      },
      "source": [
        "hemisferio_sur = world.cx[-120:-30, -60:20]\n",
        "hemisferio_sur.plot(figsize=(20, 8));"
      ],
      "execution_count": null,
      "outputs": []
    },
    {
      "cell_type": "markdown",
      "metadata": {
        "id": "ROHkaLDQXTCC"
      },
      "source": [
        "Sin embargo, nótese que aparece también el mapa de Francia, ¿a qué se debe?\n",
        "\n",
        "En este caso, el mapa de Francia está construido como un multi-polígono, incluyendo su división territorial ubicada en el continente europeo. Sin embargo, su geometría también incluye el polígono correspondiente a la Guyana Francesa ubicada en América del Sur."
      ]
    },
    {
      "cell_type": "code",
      "metadata": {
        "id": "oFdgPqOLMmtW"
      },
      "source": [
        "# Geometría de Francia, incluyendo a la Guyana Francesa.\n",
        "world[world['name'] == 'France'].plot();"
      ],
      "execution_count": null,
      "outputs": []
    },
    {
      "cell_type": "markdown",
      "metadata": {
        "id": "JpkIwu-lbwWK"
      },
      "source": [
        "### **2.3. Columna `geometry`**\n",
        "---\n",
        "\n",
        "El nombre de la columna que contiene los polígonos a dibujar se puede obtener con el llamado al atributo **`name`** como se muestra en la siguiente línea de código.\n",
        "\n",
        "Para este caso el nombre es igualmente **`geometry`**, pero podría ser diferente:"
      ]
    },
    {
      "cell_type": "code",
      "metadata": {
        "id": "RoISkS1hcrpL"
      },
      "source": [
        "world.geometry.name"
      ],
      "execution_count": null,
      "outputs": []
    },
    {
      "cell_type": "markdown",
      "metadata": {
        "id": "xKFrtpDvfQeP"
      },
      "source": [
        "Es posible cambiar la columna que se usa para realizar el diagrama, para ello simplemente usamos la función **`set_geometry`** enviando el nombre de la columna que queremos usar. Para ejemplificar este proceso vamos a crear una nueva columna con datos geométricos llamada **`centroides`** la cual contendrá los **`centroid`** de cada polígono:"
      ]
    },
    {
      "cell_type": "code",
      "metadata": {
        "id": "2mp5vjrrgXRA"
      },
      "source": [
        "world['centroides'] = world.centroid\n",
        "world.head()"
      ],
      "execution_count": null,
      "outputs": []
    },
    {
      "cell_type": "markdown",
      "metadata": {
        "id": "egjbs-u1gp-A"
      },
      "source": [
        "Y ahora modificamos el valor **`geometry`** del *GeoDataFrame*, para establecerlo con el nombre de la columna recién creada:"
      ]
    },
    {
      "cell_type": "code",
      "metadata": {
        "id": "Sp98q5CLI3_9"
      },
      "source": [
        "world = world.set_geometry('centroides')\n",
        "\n",
        "print(world.geometry.name) # El nombre usado por defecto para representar la geometría ha cambiado."
      ],
      "execution_count": null,
      "outputs": []
    },
    {
      "cell_type": "markdown",
      "metadata": {
        "id": "QVPuTxMchKty"
      },
      "source": [
        "De esta manera, al diagramar nuevamente el *GeoDataFrame*, no se graficarán los polígonos. En cambio, se dibujarán los correspondientes **`centroides`** de cada fila."
      ]
    },
    {
      "cell_type": "code",
      "metadata": {
        "id": "3vsKjb6yBuHG"
      },
      "source": [
        "world.plot();"
      ],
      "execution_count": null,
      "outputs": []
    },
    {
      "cell_type": "markdown",
      "metadata": {
        "id": "fzq5r4c5Zxj6"
      },
      "source": [
        "### **2.4. Personalizando mapas usando *Matplotlib***\n",
        "---\n",
        "**`GeoPandas`** pinta los mapas usando *Matplotlib* como soporte. Por lo tanto, se pueden manipular los detalles de estas figuras. Para empezar, carguemos de nuevo el *GeoDataFrame* de países del mundo."
      ]
    },
    {
      "cell_type": "code",
      "metadata": {
        "id": "3YdDO_SwI4AI"
      },
      "source": [
        "# Recuperamos el dataset de países a su estado original.\n",
        "world = gpd.read_file(gpd.datasets.get_path('naturalearth_lowres'))"
      ],
      "execution_count": null,
      "outputs": []
    },
    {
      "cell_type": "markdown",
      "metadata": {
        "id": "IkkezWw0I4AK"
      },
      "source": [
        "Cualquier atributo que se modifique en **`pyplot`**, o a partir de los objetos **`Axes`** y **`Figure`** de *Matplotlib* también se puede modificar en las gráficas generadas con el método **`.plot`** de *GeoPandas*. Por ejemplo:"
      ]
    },
    {
      "cell_type": "code",
      "metadata": {
        "id": "3dFG6AdCI4AK"
      },
      "source": [
        "fig, ax = plt.subplots(1, figsize=(15, 10))   # Creamos la figura y el Axes de nuestra gráfica.\n",
        "ax.set_title('El Mundo')                      # Cambiamos el título de la gráfica.\n",
        "ax.set_axis_off()                             # Eliminamos los ejes\n",
        "\n",
        "# Carga la configuración que hayamos generado en el elemento ax\n",
        "world.plot(ax=ax);"
      ],
      "execution_count": null,
      "outputs": []
    },
    {
      "cell_type": "markdown",
      "metadata": {
        "id": "hLGw251mdjXT"
      },
      "source": [
        "## **3. Funcionalidades avanzadas de *GeoPandas***\n",
        "---\n",
        "\n",
        "En esta sección discutiremos algunas funcionalidades más avanzadas para la manipulación de los objetos de *GeoPandas*."
      ]
    },
    {
      "cell_type": "markdown",
      "metadata": {
        "id": "qdD7vx2RI4AP"
      },
      "source": [
        "### **3.1. Agregación usando `dissolve`**\n",
        "---\n",
        "Es común que los datos geoespaciales que manejemos tengan un nivel de granularidad mayor del que necesitamos. Por ejemplo, podemos tener información de los municipios (ciudades) de un país, pero para nuestra tarea solo estamos interesados en realizar la agrupación y agregación de los datos por departamento (estado). En caso de trabajar con datos no espaciales, la función **`groupby`** se ajusta a las necesidades mencionadas. En cuanto a datos geoespaciales, **`GeoPandas`** provee una función que agrega características geométricas a través de la función **`dissolve`**.\n",
        "\n",
        "El método **`dissolve`** funciona así:\n",
        "1. Si dos polígonos conjuntos comparten un grupo (por ejemplo, están en el mismo departamento), ambos polígonos son fusionados en uno solo.\n",
        "2. Los datos relacionados a cada polígono son agregados usando la función **`groupby.aggregate`**.\n",
        "\n",
        "En el siguiente ejemplo combinaremos países para formar continentes.\n",
        "\n",
        "Primero leemos nuevamente el GeoDataFrame, y lo modificamos para que sólo contenga las columnas **`continent`**, **`geometry`** y **`pop_est`**:"
      ]
    },
    {
      "cell_type": "code",
      "metadata": {
        "id": "97FRPOy9I4AP"
      },
      "source": [
        "world = gpd.read_file(gpd.datasets.get_path('naturalearth_lowres'))\n",
        "world = world[['continent', 'geometry', 'pop_est']]\n",
        "world.head(10)"
      ],
      "execution_count": null,
      "outputs": []
    },
    {
      "cell_type": "markdown",
      "metadata": {
        "id": "MgJ2oeeIbKe0"
      },
      "source": [
        "Ahora usando la función **`dissolve`**, definimos la columna mediante la cual se hará la agregación y la función usada en la operación de agregación. Para este caso agruparemos de acuerdo con la columna **`continent`** y la función de agregación será **`sum`** (sumatoria):"
      ]
    },
    {
      "cell_type": "code",
      "metadata": {
        "id": "cStOr2rWcoy2"
      },
      "source": [
        "continentes = world.dissolve(by='continent',  # Variable sobre la cual realizar la agrupación por categorías.\n",
        "                             aggfunc='sum')   # Función de agregación para las variables no geométricas del GeoDataFrame."
      ],
      "execution_count": null,
      "outputs": []
    },
    {
      "cell_type": "markdown",
      "metadata": {
        "id": "TXJIornQc2Cl"
      },
      "source": [
        "El *GeoDataFrame* resultado de la agregación es el que se muestra a continuación, en donde se consolidan los valores de la columna **`pop_est`** por continente y también sus polígonos en la columna **`geometry`**:"
      ]
    },
    {
      "cell_type": "code",
      "metadata": {
        "id": "Io2PRZABc_eS"
      },
      "source": [
        "continentes"
      ],
      "execution_count": null,
      "outputs": []
    },
    {
      "cell_type": "markdown",
      "metadata": {
        "id": "01s6ju7zcrjB"
      },
      "source": [
        "Usando este nuevo *GeoDataFrame* podemos visualizar los continentes:"
      ]
    },
    {
      "cell_type": "code",
      "metadata": {
        "id": "mVXMv23DI4AP"
      },
      "source": [
        "continentes.plot(cmap='jet', figsize = (15,13));"
      ],
      "execution_count": null,
      "outputs": []
    },
    {
      "cell_type": "markdown",
      "metadata": {
        "id": "gPeo_wOacxmR"
      },
      "source": [
        "### **3.2. Otros *datasets* de ejemplo**\n",
        "---\n",
        "\n",
        "Podemos ver los **`GeoDataFrames`** que están disponibles en **`GeoPandas`** mediante el llamado al atributo **`gpd.datasets.available`**:"
      ]
    },
    {
      "cell_type": "code",
      "metadata": {
        "id": "AJYLiFGfI3_1"
      },
      "source": [
        "gpd.datasets.available"
      ],
      "execution_count": null,
      "outputs": []
    },
    {
      "cell_type": "markdown",
      "metadata": {
        "id": "pw-eyg0SdKZe"
      },
      "source": [
        "En la fecha de creación de este material se encuentran disponibles los *GeoDataFrames* **`naturalearth_cities`** (ciudades del mundo),  **`naturalearth_lowres`** (países del mundo) y **`nybb`** (*boroughs* en New York)."
      ]
    },
    {
      "cell_type": "code",
      "metadata": {
        "id": "3CY8TdQvRgTQ"
      },
      "source": [
        "# Cargamos el dataset de ejemplo de los boroughs de la ciudad de Nueva York.\n",
        "new_york = gpd.read_file(gpd.datasets.get_path('nybb'))\n",
        "\n",
        "# Graficamos los distritos distinguiendolos por color.\n",
        "ax = new_york.plot(cmap = 'viridis');\n",
        "ax.axis('off');"
      ],
      "execution_count": null,
      "outputs": []
    },
    {
      "cell_type": "markdown",
      "metadata": {
        "id": "gEoeSk-_I4AR"
      },
      "source": [
        "### **3.3. Combinación de *GeoDataFrames***\n",
        "---\n",
        "\n",
        "Existen dos maneras de combinar conjuntos de datos en *GeoPandas*. **Uniones de atributos** y **uniones espaciales**:\n",
        "* En una unión de atributos, un objeto **`GeoSeries`** o **`GeoDataFrame`** se combina con una *Series* o *DataFrame* de *Pandas* usando una variable en común. Esta operación es análoga a **`pd.merge`**. Sin embargo, si se hace usando el método de *pandas*, el resultado será un *DataFrame* y no un ***GeoDataFrame***.\n",
        "\n",
        "* En una unión espacial, todas las observaciones (filas) de un objeto ***GeoSeries*** o ***GeoDataFrame*** son combinadas con base a una relación espacial establecida entre ellas.\n",
        "\n",
        "Para conocer todos los detalles, consulte la [documentación oficial](http://geopandas.org/mergingdata.html)."
      ]
    },
    {
      "cell_type": "markdown",
      "metadata": {
        "id": "tl4M6oUXizqq"
      },
      "source": [
        "A continuación, presentamos un ejemplo de una unión espacial. En el primer *GeoDataFrame* tenemos la información de las ciudades y en el segundo tenemos la información de los países. Usaremos una unión espacial para fusionar ambas fuentes de datos.\n",
        "\n",
        "Inicialmente obtenemos los dos *GeoDataFrames*:"
      ]
    },
    {
      "cell_type": "code",
      "metadata": {
        "id": "vgV73buQI4AR"
      },
      "source": [
        "world = gpd.read_file(gpd.datasets.get_path('naturalearth_lowres'))\n",
        "ciudades = gpd.read_file(gpd.datasets.get_path('naturalearth_cities'))"
      ],
      "execution_count": null,
      "outputs": []
    },
    {
      "cell_type": "code",
      "metadata": {
        "id": "kKdvxrVP0VH0"
      },
      "source": [
        "ciudades.head()"
      ],
      "execution_count": null,
      "outputs": []
    },
    {
      "cell_type": "code",
      "metadata": {
        "id": "kPYAOzjJVXPt"
      },
      "source": [
        "ciudades.plot();"
      ],
      "execution_count": null,
      "outputs": []
    },
    {
      "cell_type": "markdown",
      "metadata": {
        "id": "ZMbZxTW-gtwV"
      },
      "source": [
        "Seleccionamos sólo las columnas que usaremos en el *GeoDataFrame* **`países`**, renombramos las columnas y fijamos la nueva columna **`geometry`**:"
      ]
    },
    {
      "cell_type": "code",
      "metadata": {
        "id": "tVkPk5eugYVc"
      },
      "source": [
        "países = world[['geometry', 'name']]\n",
        "países = países.rename(columns={'name':'país', 'geometry':'geometría_país'})\n",
        "países = países.set_geometry('geometría_país')"
      ],
      "execution_count": null,
      "outputs": []
    },
    {
      "cell_type": "markdown",
      "metadata": {
        "id": "Jirr0HPBhKIK"
      },
      "source": [
        "El siguiente es el contenido resultante para los dos *GeoDataFrames*:"
      ]
    },
    {
      "cell_type": "code",
      "metadata": {
        "id": "Asqf30ujI4AR"
      },
      "source": [
        "países.head()"
      ],
      "execution_count": null,
      "outputs": []
    },
    {
      "cell_type": "code",
      "metadata": {
        "id": "v-jUrYCdI4AS"
      },
      "source": [
        "ciudades.head()"
      ],
      "execution_count": null,
      "outputs": []
    },
    {
      "cell_type": "markdown",
      "metadata": {
        "id": "zBu1pgDwlXsD"
      },
      "source": [
        "Observe que los 2 *GeoDataFrames* no poseen columnas comunes entre sí que nos permita combinarlos. Sin embargo, poseen información geoespacial que podría ser útil para realizar la combinación. La geometría de los países está dada por un polígono (o multi-polígono) y la geometría de las ciudades está dada por puntos distribuidos en el mismo plano."
      ]
    },
    {
      "cell_type": "markdown",
      "metadata": {
        "id": "uL69Spv5jAMU"
      },
      "source": [
        "Finalmente, vamos a realizar la **unión espacial** (**`sjoin`**) de los dos *GeoDataFrames* y ver el resultado:"
      ]
    },
    {
      "cell_type": "code",
      "metadata": {
        "id": "OWlPZ5khI4AT"
      },
      "source": [
        "ciudades_con_países = gpd.sjoin(ciudades,        # Primer GeoDataFrame.\n",
        "                                países,          # Segundo GeoDataFrame.\n",
        "                                how=\"inner\",     # Tipo de unión. En este caso se utiliza la intersección.\n",
        "                                op='within')     # Tipo de operación geométrica para determinar la relación. Se utiliza la contención de sus geometrías.\n",
        "ciudades_con_países.head(30)"
      ],
      "execution_count": null,
      "outputs": []
    },
    {
      "cell_type": "markdown",
      "metadata": {
        "id": "Te-l2tZnmeMZ"
      },
      "source": [
        "Nótese que la unión espacial fue capaz de identificar la mayoría de las ciudades dentro de sus países correspondientes. No obstante, en algunos casos el resultado no es correcto. Por ejemplo, *Vatican City* aparece dentro de *Italy*, pero el Vaticano es un país. Esto se debe a la baja resolución que estamos manejando para ambos conjuntos de datos."
      ]
    },
    {
      "cell_type": "markdown",
      "metadata": {
        "id": "fDzNHFPeI4AU"
      },
      "source": [
        "> **IMPORTANTE**: El método **`gpd.sjoin`** también soporta varias funciones de unión aparte de **`within`**, como **`intersects`** y **`contains`**, mencionadas en la Sección **2.4. Pruebas de relación**."
      ]
    },
    {
      "cell_type": "markdown",
      "metadata": {
        "id": "9HdwwSq-I3__"
      },
      "source": [
        "### **3.4. Cargando datos georeferenciados**\n",
        "---\n",
        "El método **`GeoPandas.read_file`** permite la carga de conjuntos de datos a través de la librería **`fiona`**. ***Fiona*** soporta una gran cantidad de formatos, entre ellos [**GeoJSON**](https://es.wikipedia.org/wiki/GeoJSON), uno de los estándares más comunes para el almacenamiento de datos geoespaciales.\n",
        "\n",
        "**`gpd.read_file`** regresa automáticamente un **`GeoDataFrame`** a partir de la lectura de un archivo. En el siguiente ejemplo leeremos un archivo **`json`** y mostrar su cabecera y el mapa."
      ]
    },
    {
      "cell_type": "markdown",
      "metadata": {
        "id": "Omwj91iVpyLl"
      },
      "source": [
        "**Mapa de Bogotá**\n",
        "***\n",
        "\n",
        "A continuación, haremos un ejemplo cargando el mapa de la ciudad de Bogotá a partir de un archivo *GeoJSON*. Estos datos fueron descargados originalmente del proyecto [UBER Movement](https://movement.uber.com/):\n",
        "\n",
        "1. **IMPORTANTE:** antes de continuar, debe descargar el archivo desde el siguiente enlace: [**'bogota_cadastral.json'**](https://drive.google.com/uc?export=download&id=1_x7xpBGlsVpe5rWqHcOB_qBNW4DDjlU-). Después, cargue el archivo **`'bogota_cadastral.json'`** en el directorio de trabajo de *Google Colab*, o en el directorio actual si está trabajando en local. Tenga en cuenta que puede tardar un poco (ocupa 7.3 MB).\n",
        "\n",
        "En *Google Colaboratory* puede realizar estos dos pasos automáticamente ejecutando la siguiente celda:"
      ]
    },
    {
      "cell_type": "code",
      "metadata": {
        "id": "lQDnP0KywJQd"
      },
      "source": [
        "# Observe que la cadena \"id=...\" en la URL corresponde al ID del archivo de Drive que queremos descargar\n",
        "!wget -q --no-check-certificate 'https://drive.google.com/uc?export=download&id=1_x7xpBGlsVpe5rWqHcOB_qBNW4DDjlU-' -O bogota_cadastral.json"
      ],
      "execution_count": null,
      "outputs": []
    },
    {
      "cell_type": "markdown",
      "metadata": {
        "id": "k2idofGGwjOh"
      },
      "source": [
        "\n",
        "2. Cuando haya cargado el archivo en el sistema de archivos, ejecute la siguiente celda para crear el *GeoDataFrame*:\n"
      ]
    },
    {
      "cell_type": "code",
      "metadata": {
        "id": "f3eKhWQbI3__"
      },
      "source": [
        "df_bogota = gpd.read_file('bogota_cadastral.json')"
      ],
      "execution_count": null,
      "outputs": []
    },
    {
      "cell_type": "code",
      "metadata": {
        "id": "yDnDQGuHI4AB"
      },
      "source": [
        "df_bogota.head()"
      ],
      "execution_count": null,
      "outputs": []
    },
    {
      "cell_type": "markdown",
      "metadata": {
        "id": "_98JwJJX_Iga"
      },
      "source": [
        "Podemos identificar en este *GeoDataFrame*, la columna **`geometry`** que contiene los objetos a dibujar. También, podemos dibujar el *GeoDataFrame* de manera directa:"
      ]
    },
    {
      "cell_type": "code",
      "metadata": {
        "id": "NXDmz9-E_4UZ"
      },
      "source": [
        "df_bogota.geometry.name"
      ],
      "execution_count": null,
      "outputs": []
    },
    {
      "cell_type": "code",
      "metadata": {
        "id": "Q2eNQqix-8lL"
      },
      "source": [
        "# Dibujamos la geometría de la ciudad de Bogotá.\n",
        "df_bogota.plot(figsize = (20,10));"
      ],
      "execution_count": null,
      "outputs": []
    },
    {
      "cell_type": "markdown",
      "metadata": {
        "id": "70YrstQTvAE4"
      },
      "source": [
        "**Mapa de Colombia**\n",
        "***\n",
        "\n",
        "A continuación, cargaremos el mapa de Colombia con la división política a nivel de municipios y departamentos.\n",
        "\n",
        "\n",
        "1. **IMPORTANTE:** antes de continuar, debe descargar el archivo desde el siguiente enlace: [**colombia.zip**](https://drive.google.com/uc?export=download&id=1wMwLcKZ0v18Dwse0Ln1-GTimFHpgSlir). Después, cargue el archivo **'colombia.zip'** en el directorio de trabajo de *Google Colab*, o en el directorio actual si está trabajando en local. Tenga en cuenta que puede tardar **unos minutos** (ocupa 48 MB). Si está trabajando en Google Colab, debe esperar a que se complete el indicador que aparece en la parte inferior izquierda de la pantalla.\n",
        "\n",
        "Para hacer este proceso automáticamente, ejecute la siguiente celda:\n"
      ]
    },
    {
      "cell_type": "code",
      "metadata": {
        "id": "7SVWCSm7xEmI"
      },
      "source": [
        "# Cargar archivo de datos geográficos de los municipios de Colombia.\n",
        "\n",
        "# Primero necesitamos instalar la utilidad 'gdown' debido al tamaño del archivo:\n",
        "!pip install --upgrade gdown\n",
        "\n",
        "# Observe que la cadena \"id=...\" en la URL corresponde al ID del archivo de Drive que queremos descargar\n",
        "!gdown https://drive.google.com/uc?id=1wMwLcKZ0v18Dwse0Ln1-GTimFHpgSlir"
      ],
      "execution_count": null,
      "outputs": []
    },
    {
      "cell_type": "markdown",
      "metadata": {
        "id": "_4H5EMFkxTV-"
      },
      "source": [
        "\n",
        "2. Cuando haya terminado de cargar el archivo, ejecute la siguiente instrucción para descomprimir el archivo:\n",
        "\n"
      ]
    },
    {
      "cell_type": "code",
      "metadata": {
        "id": "s1nbAkQVxnWX"
      },
      "source": [
        "!unzip colombia.zip"
      ],
      "execution_count": null,
      "outputs": []
    },
    {
      "cell_type": "markdown",
      "metadata": {
        "id": "7F24rXU6xoJc"
      },
      "source": [
        "3. Cuando haya descomprimido el archivo, ejecute la siguiente celda para crear los *GeoDataFrames*:"
      ]
    },
    {
      "cell_type": "code",
      "metadata": {
        "id": "o-XQ3aEBu7Rw"
      },
      "source": [
        "col_mun = gpd.read_file(r\"shapes/Limite Municipal.shp\")       # Municipios\n",
        "col_deps = gpd.read_file(r\"shapes/Limite Departamental.shp\")  # Departamentos"
      ],
      "execution_count": null,
      "outputs": []
    },
    {
      "cell_type": "markdown",
      "metadata": {
        "id": "U7i8-hSqzUl0"
      },
      "source": [
        "4. Mostramos las cabeceras de ambos *GeoDataFrames*:"
      ]
    },
    {
      "cell_type": "code",
      "metadata": {
        "id": "ngte4wfizOQM"
      },
      "source": [
        "col_mun.head()"
      ],
      "execution_count": null,
      "outputs": []
    },
    {
      "cell_type": "code",
      "metadata": {
        "id": "wQWq9TehzbWd"
      },
      "source": [
        "col_deps.head()"
      ],
      "execution_count": null,
      "outputs": []
    },
    {
      "cell_type": "markdown",
      "metadata": {
        "id": "RMaOGg0JySvS"
      },
      "source": [
        "5. Finalmente, visualizamos el mapa con los **municipios** y **departamentos** de Colombia:"
      ]
    },
    {
      "cell_type": "code",
      "metadata": {
        "id": "4XwVRl7ByXXd"
      },
      "source": [
        "fig, ax = plt.subplots(1, figsize=(10, 10))       # Creamos la figura y el objeto Axes de Matplotlib.\n",
        "ax.set_aspect('equal')                            # Definimos un relación de aspecto 1 a 1.\n",
        "ax.set_axis_off();                                # Eliminamos los ejes de la gráfica.\n",
        "\n",
        "# Municipios\n",
        "col_mun.plot(cmap='CMRmap', linewidth=0.3,  ax=ax);\n",
        "\n",
        "# Departamentos\n",
        "col_deps.geometry.boundary.plot(linewidth=0.5,\n",
        "                                color=None,            # Definimos una visualización de figuras sin color de relleno.\n",
        "                                edgecolor='#444444',   # Color del borde gris oscuro.\n",
        "                                ax=ax);"
      ],
      "execution_count": null,
      "outputs": []
    },
    {
      "cell_type": "markdown",
      "metadata": {
        "id": "wgxXDCwsI4AN"
      },
      "source": [
        "## **4. Mapas coropléticos con *GeoPandas***\n",
        "---\n",
        "\n",
        "Un **mapa coroplético** es un mapa en el cual las regiones se dibujan con diferentes tonos de color que van de acuerdo a cierta estadística representativa, como por ejemplo su población, rangos de ingreso, etc.\n",
        "\n",
        "Para elaborar un mapa coroplético con *GeoPandas* y su método **`plot`**, basta con indicar la columna sobre la cual se van a clasificar los datos. De esta manera la gráfica generada presentará distintos tonos de color para cada región, acordes con los valores que se tienen en la columna indicada."
      ]
    },
    {
      "cell_type": "markdown",
      "metadata": {
        "id": "8d8Qk1slXS6U"
      },
      "source": [
        "**Mapa coroplético del mundo: PIB per cápita**\n",
        "***\n",
        "\n",
        "Veamos un ejemplo con el mapa del mundo. Vamos a cargar el *dataset* de ejemplo y construiremos una nueva columna que llamaremos **`gdp_per_cap`** (producto interno bruto per cápita), la cual resulta de dividir el valor de la columna **`gdp_md_est`** (producto interno bruto nacional) entre el valor de la columna **`pop_est`** (población estimada):"
      ]
    },
    {
      "cell_type": "code",
      "metadata": {
        "id": "kUcTOFG-I4AO"
      },
      "source": [
        "world = gpd.read_file(gpd.datasets.get_path('naturalearth_lowres')) # Dataset de información geográfica mundial.\n",
        "world = world[(world['pop_est']>0) & (world['name']!=\"Antarctica\")] # Eliminamos Antártica al no tener habitantes.\n",
        "\n",
        "# Creamos una nueva columna con el PIB per cápita.\n",
        "world['gdp_per_cap'] = world['gdp_md_est'] / world['pop_est']\n",
        "\n",
        "world.head()"
      ],
      "execution_count": null,
      "outputs": []
    },
    {
      "cell_type": "markdown",
      "metadata": {
        "id": "a6Ewcv2PX91n"
      },
      "source": [
        "Finalmente se crea el mapa coroplético con base en el valor de la nueva columna creada. Nótese que debemos configurar el parámetro **`column`** para decidir qué variable numérica representar con colores en el mapa coroplético:"
      ]
    },
    {
      "cell_type": "code",
      "metadata": {
        "id": "nqZH-6EsX-YE"
      },
      "source": [
        "world.plot(column='gdp_per_cap', # Argumento 'column': Variable a representar en el mapa coroplético.\n",
        "           cmap='YlOrRd',\n",
        "           scheme='quantiles',   # Método para definir el esquema de color.\n",
        "           figsize = (15,15));"
      ],
      "execution_count": null,
      "outputs": []
    },
    {
      "cell_type": "markdown",
      "metadata": {
        "id": "qQcaUbgp2BLX"
      },
      "source": [
        "El parámetro **`scheme`** permite afinar la forma cómo escalan los colores en el mapa, es decir, permite decidir qué tantos datos queremos mostrar para permitir que las personas puedan distinguir las diferencias entre colores. Este parámetro puede ser cualquiera de los siguientes:\n",
        "\n",
        "```\n",
        " ‘box_plot’, ‘equal_interval’, ‘fisher_jenks’, ‘fisher_jenks_sampled’,\n",
        " headtail_breaks’, ‘jenks_caspall’, ‘jenks_caspall_forced’,\n",
        " ‘jenks_caspall_sampled’, ‘max_p_classifier’, ‘maximum_breaks’,\n",
        " ‘natural_breaks’, ‘quantiles’, ‘percentiles’, ‘std_mean’, ‘user_defined’\n",
        "```"
      ]
    },
    {
      "cell_type": "markdown",
      "metadata": {
        "id": "uBgZP_hPwnN1"
      },
      "source": [
        "**Mapa coroplético del mundo: población mayor a 100 millones**\n",
        "***\n",
        "\n",
        "Nuevamente usando el *GeoDataFrame* mundial, vamos a poner todos los países en color gris y luego en color azul aquellos países que tienen una población mayor a los $100$ millones de personas."
      ]
    },
    {
      "cell_type": "code",
      "metadata": {
        "id": "_o8keqt2ytxG"
      },
      "source": [
        "# Graficamos todos los países en gris.\n",
        "ax = world.plot(color='lightgrey', linewidth=0.5,\n",
        "                edgecolor='white', figsize=(15,5))\n",
        "\n",
        "# Graficamos en azul los que cumplan la condición. Las figuras superponen a las creadas inicialmente.\n",
        "world[world['pop_est']>100000000].plot(ax=ax, color='darkblue',\n",
        "                                    linewidth=0.5, edgecolor='white',\n",
        "                                    figsize=(15, 13));"
      ],
      "execution_count": null,
      "outputs": []
    },
    {
      "cell_type": "markdown",
      "metadata": {
        "id": "CQK5HdGb4NgV"
      },
      "source": [
        "**Mapa de Colombia: área de municipios**\n",
        "***\n",
        "\n",
        "Por último, con las formas del mapa de Colombia que cargamos anteriormente, crearemos un mapa coroplético para visualizar el área de los municipios (en Km$^2$)."
      ]
    },
    {
      "cell_type": "code",
      "metadata": {
        "id": "akjI_Y-C4AWG"
      },
      "source": [
        "fig, ax = plt.subplots(1, figsize=(10, 10))       # Creamos la figura y el objeto Axes con Matplotlib.\n",
        "ax.set_aspect('equal');\n",
        "ax.set_axis_off();\n",
        "\n",
        "col_mun.plot(column=\"AREA_KM\",                    # Variable para representar en el mapa coroplético (área en kilómetros cuadrados).\n",
        "             ax=ax,\n",
        "             cmap='Blues', linewidth=0.3,\n",
        "             scheme='fisher_jenks',\n",
        "             legend=True,                         # Habilitamos la leyenda.\n",
        "             legend_kwds={'loc': 'lower left'});  # Definimos la posición del recuadro de leyenda abajo a la izquierda.\n",
        "\n",
        "col_deps.geometry.boundary.plot(linewidth=0.5, edgecolor='#444444',\n",
        "                                color=None, ax=ax);"
      ],
      "execution_count": null,
      "outputs": []
    },
    {
      "cell_type": "markdown",
      "metadata": {
        "id": "4r5hSQAz6d-g"
      },
      "source": [
        "## **Recursos adicionales**\n",
        "---\n",
        "Los siguientes enlaces corresponden a sitios en donde encontrará información muy útil para profundizar en el conocimiento de las funcionalidades de la librería *GeoPandas*, empezando por su documentación oficial:\n",
        "\n",
        "*  [Geopandas](https://geopandas.org/)\n",
        "*  [The Shapely User Manual](https://shapely.readthedocs.io/en/latest/manual.html)\n",
        "*  [Geopandas Example Gallery](https://geopandas.org/gallery/index.html)\n",
        "*  [towardsdatascience - Geospatial adventures. Step 2: Pandas vs. GeoPandas](https://towardsdatascience.com/geospatial-adventures-step-2-pandas-vs-geopandas-16e842d0e3a7)\n",
        "\n"
      ]
    },
    {
      "cell_type": "markdown",
      "metadata": {
        "id": "z4VavQ3wgMGo"
      },
      "source": [
        "## **Créditos**\n",
        "---\n",
        "\n",
        "* **Profesor:** [Felipe Restrepo Calle](https://dis.unal.edu.co/~ferestrepoca/)\n",
        "* **Asistente docente:** Alberto Nicolai Romero Martínez\n",
        "\n",
        "**Universidad Nacional de Colombia** - *Facultad de Ingeniería*"
      ]
    }
  ]
}