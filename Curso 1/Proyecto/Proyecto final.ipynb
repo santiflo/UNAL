{
 "cells": [
  {
   "cell_type": "markdown",
   "id": "c856c548-186c-4c22-b146-c2aca0502a7f",
   "metadata": {},
   "source": [
    "# Proyecto de curso: Analisis y visualización a la base de datos de hongos\n",
    "\n",
    "Santiago Florian Bustamante - *santiflo17@gmail.com* - Universidad Nacional de Colombia"
   ]
  },
  {
   "cell_type": "markdown",
   "id": "b7ae488d-7613-4e2f-a155-27d65a58fdda",
   "metadata": {},
   "source": [
    "## Introducción\n",
    "El siguiente notbook tiene objetivos el realizar el analisis y visualización sobre la base de datos de hongos. Con el fin de seguir la metodologia **CRISP-DM** propuesta en el curso y que sea de facil entendimiento del documento, el archivo se divde según la metodologia propuesta. "
   ]
  },
  {
   "cell_type": "markdown",
   "id": "1b19771d-73f4-45aa-abbc-3ee9b2ce12a5",
   "metadata": {},
   "source": [
    "## Entendimiento del negocio"
   ]
  },
  {
   "cell_type": "markdown",
   "id": "1bbce39d-a206-4ccf-996e-a6977f76b453",
   "metadata": {},
   "source": [
    "## Entendimiento de los datos\n",
    "\n",
    "El conjunto de datos fue obtenido mediante la pagina web https://archive.ics.uci.edu/ que tiene multiples bases de datos libres con las cuales trabajar para el aprendizaje de IA y ML. Los registros de los hongos fueron obtenidos de multiples fuentes como lo son la guía de campo del norte de la Sociedad Audubon de los estados unidos tomada el 27 de abril de 1987. El conjunto de datos incluye descripciones de muestras hipoteticas correspondientes a 23 especies de hongos con branquias de las familias Agaricus y Lepiota. Cada especie se identifica como definitivamente comenstible, defifinitivamente venenosa o de comestibilidad desconocida y no recomendada. Esta ultima clase se combinó con la venenosa. La Guía establece claramente que no existe una regla sencilla para determinar la comestibilidad de un hongo."
   ]
  },
  {
   "cell_type": "code",
   "execution_count": 22,
   "id": "98267ad8-d721-48fe-a84c-217af61a3fbd",
   "metadata": {},
   "outputs": [],
   "source": [
    "# import\n",
    "import pandas as pd"
   ]
  },
  {
   "cell_type": "code",
   "execution_count": 23,
   "id": "0c78f261-818a-4244-b83a-0a4e884e3d13",
   "metadata": {},
   "outputs": [],
   "source": [
    "# Variable definition\n",
    "names = ['classes','cap-shape', 'cap-surface', 'cap-color', 'bruises?', 'odor', 'gill-attachment', 'gill-spacing', 'gill-size', 'gill-color', 'stalk-shape', 'stalk-root', 'stalk-surface-above-ring', 'stalk-surface-below-ring', 'stalk-color-above-ring', 'stalk-color-below-ring', 'veil-type', 'veil-color', 'ring-number', 'ring-type', 'spore-print-color', 'population', 'habitat']\n",
    "mushroom_ds = pd.read_csv('data/agaricus-lepiota.data', names = names, na_values='?')\n"
   ]
  },
  {
   "cell_type": "markdown",
   "id": "5c827d1b-2321-4b18-88fb-f3c67d348e15",
   "metadata": {},
   "source": [
    "### Atributos\n",
    "El conjunto de datos cuenta con **8124** registros y **23 atributos de tipo nominal** incluyendo su clasificación. A continuación se explicara cada uno de sus atributos."
   ]
  },
  {
   "cell_type": "code",
   "execution_count": 24,
   "id": "3c0b3d0d-374b-413c-90f0-90ff18926509",
   "metadata": {},
   "outputs": [
    {
     "name": "stdout",
     "output_type": "stream",
     "text": [
      "<class 'pandas.core.frame.DataFrame'>\n",
      "RangeIndex: 8124 entries, 0 to 8123\n",
      "Data columns (total 23 columns):\n",
      " #   Column                    Non-Null Count  Dtype \n",
      "---  ------                    --------------  ----- \n",
      " 0   classes                   8124 non-null   object\n",
      " 1   cap-shape                 8124 non-null   object\n",
      " 2   cap-surface               8124 non-null   object\n",
      " 3   cap-color                 8124 non-null   object\n",
      " 4   bruises?                  8124 non-null   object\n",
      " 5   odor                      8124 non-null   object\n",
      " 6   gill-attachment           8124 non-null   object\n",
      " 7   gill-spacing              8124 non-null   object\n",
      " 8   gill-size                 8124 non-null   object\n",
      " 9   gill-color                8124 non-null   object\n",
      " 10  stalk-shape               8124 non-null   object\n",
      " 11  stalk-root                5644 non-null   object\n",
      " 12  stalk-surface-above-ring  8124 non-null   object\n",
      " 13  stalk-surface-below-ring  8124 non-null   object\n",
      " 14  stalk-color-above-ring    8124 non-null   object\n",
      " 15  stalk-color-below-ring    8124 non-null   object\n",
      " 16  veil-type                 8124 non-null   object\n",
      " 17  veil-color                8124 non-null   object\n",
      " 18  ring-number               8124 non-null   object\n",
      " 19  ring-type                 8124 non-null   object\n",
      " 20  spore-print-color         8124 non-null   object\n",
      " 21  population                8124 non-null   object\n",
      " 22  habitat                   8124 non-null   object\n",
      "dtypes: object(23)\n",
      "memory usage: 1.4+ MB\n"
     ]
    }
   ],
   "source": [
    "mushroom_ds.info()"
   ]
  },
  {
   "cell_type": "markdown",
   "id": "72a1d1bf-ec3f-4291-8ab9-6dfeca91d06c",
   "metadata": {},
   "source": [
    " - **1. classes**: Clasificación del hongo. comestible=e y venenoso=p.\n",
    " - **2. cap-shape**: Forma del pileo del hongo. campana=b, conico=c, convexo=x, plano=f, nudoso=k y hundido=s.\n",
    " - **3. cap-surface**: Superficie del pileo del hongo. fibroso=f, surcos=g, escamoso=y y liso=s.\n",
    " - **4. cap-color**: Color del pileo. café=n, beige=b, canela=c, gris=g, verde=r, rosa=p, purpura=u, rojo=e, blanco=w, amarillo=y.\n",
    " - **5. bruises?**: Moretones o coloración azulada al ser arrancado o golpeado. moretones=t, no=f.\n",
    " - **6. odor**: Olor. almendra=a, anís=l, cresota=c, pescado=y, asqueroso=f, mohoso=m, ninguno=n, penetrante=p, picante=s.\n",
    " - **7. gill-attachment**: Accesorio del himenio. adjunto=a, descendente=d, libre=f, con muescas=n.\n",
    " - **8. gill-spacing**: Espaciado del himenio. cerrado=c, apiñado=w, distante=d.\n",
    " - **9. gill-size**: Tamaño del himenio. Amplio=b, corto=n.\n",
    " - **10. gill-color**: Color del himenio. negro=k, cafe=n, beige=b, chocolate=h, gris=g, verde=r, naranja=o, rosa=p, purpura=u, rojo=e, blanco=w, amarillo=y\n",
    " - **11. stalk-shape**: Forma del estipe. agrandando=e, dusminuyendo=t\n",
    " - **12. stalk-root**: Raiz del estipe. bulboso=b, club=c, copa=u, igual=e, rizomorfos=z, enraizado=r, faltante=?.\n",
    " - **13. stalk-surface-above-ring**: Superficie del estipe sobre el anillo. fibroso=f, escamoso=y, sedoso=k, liso=s.\n",
    " - **14. stalk-surface-below-ring**: Superficie del estipe bajo el anillo. fibroso=f, escamoso=y, sedoso=k, liso=s.\n",
    " - **15. stalk-color-above-ring**: Color del estipe sobre el anillo. café=n, beige=b, canela=c, gris=g, naranja=o, rosa=p, rojo=e, blanco=w, amarillo=y.\n",
    " - **16. stalk-color-below-ring** :Color del estipe bajo el anillo. café=n, beige=b, canela=c, gris=g, naranja=o, rosa=p, rojo=e, blanco=w, amarillo=y.\n",
    " - **17. veil-type**: Tipo de velo. parcial=p, universal=u\n",
    " - **18. veil-color**: Color del velo. cafe=n, naranja=o, blanco=w, amarillo=y.\n",
    " - **19. ring-number**: Numero de anillos. ninguno=n, uno=o, dos=t.\n",
    " - **20. ring-type**: Tipo de anillo. telaraña=c, evanescente=e, llameante=f, grande=l, ninguno=n, colgante=p, revestimiento=s, zona=z.\n",
    " - **21. spore-print-color**: Color de esporas. negro=k, cafe=n, beige=b, chocolate=h, verde=r, orange=o, purpura=u, blanco=w, amarillo=y.\n",
    " - **22. population**: Población. abundante=a, encapsulado=c, numeroso=n, dispersos=s, varios=v, solitario=y.\n",
    " - **23. habitad**: Habitad. pasto=g, hojas=l, prados=m, caminos=p, urabo=u, desperdicios=w, bosque=d."
   ]
  },
  {
   "cell_type": "markdown",
   "id": "08fd3a37-dd9a-4893-803e-687d22dfa9ca",
   "metadata": {},
   "source": [
    "### Distribución\n",
    "El conjunto de datos se encuentra clasificado en dos clases e y p, que significa, comestible y venenosa respectivamente:\n",
    " - Comestible con 4208 registros, equivalentemente al 51.8% de la muestra.\n",
    " - Venenoso con 3916 registros, equivalentemente al 48.2% de la muestra."
   ]
  },
  {
   "cell_type": "code",
   "execution_count": 62,
   "id": "5cf68ffa-8356-42d2-a4ac-144561f52c2e",
   "metadata": {},
   "outputs": [
    {
     "name": "stdout",
     "output_type": "stream",
     "text": [
      "Se cuenta con 4208 registros, que equivalen al 51.80% de la muestra es comestible\n",
      "Se cuenta con 3916 registros, que quivalen al 48.20% de la muestra es venenosa\n"
     ]
    }
   ],
   "source": [
    "e,p = mushroom_ds['classes'].value_counts()\n",
    "print(f'Se cuenta con {e} registros, que equivalen al {100*e/(mushroom_ds.shape[0]):.2f}% de la muestra es comestible')\n",
    "print(f'Se cuenta con {p} registros, que quivalen al {100*p/(mushroom_ds.shape[0]):.2f}% de la muestra es venenosa')"
   ]
  },
  {
   "cell_type": "markdown",
   "id": "86bae9fb-f002-468e-902e-c35d294b787e",
   "metadata": {},
   "source": [
    "Se puede identificar que las clases estan ligeramente desbalanceadas brindando un poco mas de información para los hongos comestibles"
   ]
  },
  {
   "cell_type": "markdown",
   "id": "29cec246-2cf0-40fc-8531-9c43721d31a4",
   "metadata": {},
   "source": [
    "### Valores nulos\n",
    "El conjunto de datos cuenta con *2480* valores nulos para el atributo **12 stalk-root** identificado con el valor de *?*"
   ]
  },
  {
   "cell_type": "code",
   "execution_count": 79,
   "id": "cc2c21c2-794b-49c4-9d28-9421507d6ad9",
   "metadata": {},
   "outputs": [
    {
     "name": "stdout",
     "output_type": "stream",
     "text": [
      "La clase comestible tiene 1760 registros con valores faltanes, lo que equivale al 21.66% de la muestra\n",
      "La clase venenosa tiene 720 registros con valores faltanes, lo que equivale al 8.86% de la muestra\n",
      "Para un total de 2480 registros con valores nulos\n"
     ]
    }
   ],
   "source": [
    "nan_e, nan_p = mushroom_ds[mushroom_ds['stalk-root'].isna()]['classes'].value_counts()\n",
    "print(f'La clase comestible tiene {nan_e} registros con valores faltanes, lo que equivale al {100*nan_e/(mushroom_ds.shape[0]):.2f}% de la muestra')\n",
    "print(f'La clase venenosa tiene {nan_p} registros con valores faltanes, lo que equivale al {100*nan_p/(mushroom_ds.shape[0]):.2f}% de la muestra')\n",
    "print(f'Para un total de {nan_e+nan_p} registros con valores nulos')"
   ]
  },
  {
   "cell_type": "markdown",
   "id": "0faa0721-5a6d-4173-910f-08fb14736b7e",
   "metadata": {},
   "source": [
    "Al eliminar los registros que cuentan datos faltantes se crea una nueva muesta con un total de 5644, aumentando su desvalanceo favoreciendo mas a la clase comestible"
   ]
  },
  {
   "cell_type": "code",
   "execution_count": 74,
   "id": "3d162223-094b-4bd7-af33-f8e5bbca71af",
   "metadata": {},
   "outputs": [
    {
     "data": {
      "text/plain": [
       "5644"
      ]
     },
     "execution_count": 74,
     "metadata": {},
     "output_type": "execute_result"
    }
   ],
   "source": [
    "new_mushroom_ds = mushroom_ds[mushroom_ds['stalk-root'].notna()]\n",
    "new_mushroom_ds.shape[0]"
   ]
  },
  {
   "cell_type": "code",
   "execution_count": 78,
   "id": "4fcad139-77ce-4c18-b34c-426e86c21967",
   "metadata": {},
   "outputs": [
    {
     "name": "stdout",
     "output_type": "stream",
     "text": [
      "Se cuenta con 3488 registros para la clase comestible despues de eliminar los valores faltantes, lo que equivale al 61.80% de la nueva muestra\n",
      "Se cuenta con 2156 registros para la clase venenosa despues de eliminar los valores faltantes, lo que equivale al 38.20% de la nueva muestra\n"
     ]
    }
   ],
   "source": [
    "new_e, new_p = new_mushroom_ds['classes'].value_counts()\n",
    "print(f'Se cuenta con {new_e} registros para la clase comestible despues de eliminar los valores faltantes, lo que equivale al {100*new_e/(new_mushroom_ds.shape[0]):.2f}% de la nueva muestra')\n",
    "print(f'Se cuenta con {new_p} registros para la clase venenosa despues de eliminar los valores faltantes, lo que equivale al {100*new_p/(new_mushroom_ds.shape[0]):.2f}% de la nueva muestra')"
   ]
  }
 ],
 "metadata": {
  "kernelspec": {
   "display_name": "Python 3 (ipykernel)",
   "language": "python",
   "name": "python3"
  },
  "language_info": {
   "codemirror_mode": {
    "name": "ipython",
    "version": 3
   },
   "file_extension": ".py",
   "mimetype": "text/x-python",
   "name": "python",
   "nbconvert_exporter": "python",
   "pygments_lexer": "ipython3",
   "version": "3.11.5"
  }
 },
 "nbformat": 4,
 "nbformat_minor": 5
}
