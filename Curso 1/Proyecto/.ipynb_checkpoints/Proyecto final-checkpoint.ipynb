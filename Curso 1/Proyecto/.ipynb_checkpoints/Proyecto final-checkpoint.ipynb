{
 "cells": [
  {
   "cell_type": "markdown",
   "id": "c856c548-186c-4c22-b146-c2aca0502a7f",
   "metadata": {},
   "source": [
    "# Proyecto de curso: Analisis y visualización a la base de datos de hongos\n",
    "\n",
    "Santiago Florian Bustamante - *santiflo17@gmail.com* - Universidad Nacional de Colombia"
   ]
  },
  {
   "cell_type": "markdown",
   "id": "b7ae488d-7613-4e2f-a155-27d65a58fdda",
   "metadata": {},
   "source": [
    "## Introducción\n",
    "El siguiente notbook tiene objetivos el realizar el analisis y visualización sobre la base de datos de hongos. Con el fin de seguir la metodologia **CRISP-DM** propuesta en el curso y que sea de facil entendimiento del documento, el archivo se divde según la metodologia propuesta. "
   ]
  },
  {
   "cell_type": "markdown",
   "id": "1b19771d-73f4-45aa-abbc-3ee9b2ce12a5",
   "metadata": {},
   "source": [
    "## Entendimiento del negocio"
   ]
  },
  {
   "cell_type": "markdown",
   "id": "1bbce39d-a206-4ccf-996e-a6977f76b453",
   "metadata": {},
   "source": [
    "## Entendimiento de los datos\n",
    "\n",
    "El conjunto de datos fue obtenido mediante la pagina web https://archive.ics.uci.edu/ que tiene multiples bases de datos libres con las cuales trabajar para el aprendizaje de IA y ML. Los registros de los hongos fueron obtenidos de multiples fuentes como lo son la guía de campo del norte de la Sociedad Audubon de los estados unidos tomada el 27 de abril de 1987. El conjunto de datos incluye descripciones de muestras hipoteticas correspondientes a 23 especies de hongos con branquias de las familias Agaricus y Lepiota. Cada especie se identifica como definitivamente comenstible, defifinitivamente venenosa o de comestibilidad desconocida y no recomendada. Esta ultima clase se combinó con la venenosa. La Guía establece claramente que no existe una regla sencilla para determinar la comestibilidad de un hongo."
   ]
  },
  {
   "cell_type": "code",
   "execution_count": 11,
   "id": "98267ad8-d721-48fe-a84c-217af61a3fbd",
   "metadata": {},
   "outputs": [],
   "source": [
    "# import\n",
    "import pandas as pd # Manejo de conjuntos de datos\n",
    "from sklearn.preprocessing import LabelEncoder # Funcion para transformar datos categoricos a numericos y viceversa\n",
    "import seaborn as sns # Mostrar graficos estadisticos"
   ]
  },
  {
   "cell_type": "code",
   "execution_count": 2,
   "id": "0c78f261-818a-4244-b83a-0a4e884e3d13",
   "metadata": {},
   "outputs": [],
   "source": [
    "# Variable definition\n",
    "names = ['classes','cap-shape', 'cap-surface', 'cap-color', 'bruises?', 'odor', 'gill-attachment', 'gill-spacing', 'gill-size', 'gill-color', 'stalk-shape', 'stalk-root', 'stalk-surface-above-ring', 'stalk-surface-below-ring', 'stalk-color-above-ring', 'stalk-color-below-ring', 'veil-type', 'veil-color', 'ring-number', 'ring-type', 'spore-print-color', 'population', 'habitat']\n",
    "mushroom_ds = pd.read_csv('data/agaricus-lepiota.data', names = names, na_values='?')\n"
   ]
  },
  {
   "cell_type": "markdown",
   "id": "5c827d1b-2321-4b18-88fb-f3c67d348e15",
   "metadata": {},
   "source": [
    "### Atributos\n",
    "El conjunto de datos cuenta con **8124** registros y **22 atributos de tipo nominal y la clase a la que pertenece cada registro**. A continuación se explicara cada uno de sus atributos."
   ]
  },
  {
   "cell_type": "code",
   "execution_count": 3,
   "id": "3c0b3d0d-374b-413c-90f0-90ff18926509",
   "metadata": {},
   "outputs": [
    {
     "name": "stdout",
     "output_type": "stream",
     "text": [
      "<class 'pandas.core.frame.DataFrame'>\n",
      "RangeIndex: 8124 entries, 0 to 8123\n",
      "Data columns (total 23 columns):\n",
      " #   Column                    Non-Null Count  Dtype \n",
      "---  ------                    --------------  ----- \n",
      " 0   classes                   8124 non-null   object\n",
      " 1   cap-shape                 8124 non-null   object\n",
      " 2   cap-surface               8124 non-null   object\n",
      " 3   cap-color                 8124 non-null   object\n",
      " 4   bruises?                  8124 non-null   object\n",
      " 5   odor                      8124 non-null   object\n",
      " 6   gill-attachment           8124 non-null   object\n",
      " 7   gill-spacing              8124 non-null   object\n",
      " 8   gill-size                 8124 non-null   object\n",
      " 9   gill-color                8124 non-null   object\n",
      " 10  stalk-shape               8124 non-null   object\n",
      " 11  stalk-root                5644 non-null   object\n",
      " 12  stalk-surface-above-ring  8124 non-null   object\n",
      " 13  stalk-surface-below-ring  8124 non-null   object\n",
      " 14  stalk-color-above-ring    8124 non-null   object\n",
      " 15  stalk-color-below-ring    8124 non-null   object\n",
      " 16  veil-type                 8124 non-null   object\n",
      " 17  veil-color                8124 non-null   object\n",
      " 18  ring-number               8124 non-null   object\n",
      " 19  ring-type                 8124 non-null   object\n",
      " 20  spore-print-color         8124 non-null   object\n",
      " 21  population                8124 non-null   object\n",
      " 22  habitat                   8124 non-null   object\n",
      "dtypes: object(23)\n",
      "memory usage: 1.4+ MB\n"
     ]
    }
   ],
   "source": [
    "mushroom_ds.info()"
   ]
  },
  {
   "cell_type": "markdown",
   "id": "c5207870-c339-4cc2-b4a9-a1ded0181567",
   "metadata": {},
   "source": [
    "1. **cap-shape**:                bell=b,conical=c,convex=x,flat=f, knobbed=k,sunken=s\n",
    "2. **cap-surface**:              fibrous=f,grooves=g,scaly=y,smooth=s\n",
    "3. **cap-color**:                brown=n,buff=b,cinnamon=c,gray=g,green=r, pink=p,purple=u,red=e,white=w,yellow=y\n",
    "4. **bruises?**:                 bruises=t,no=f\n",
    "5. **odor**:                     almond=a,anise=l,creosote=c,fishy=y,foul=f, musty=m,none=n,pungent=p,spicy=s\n",
    "6. **gill-attachment**:          attached=a,descending=d,free=f,notched=n\n",
    "7. **gill-spacing**:             close=c,crowded=w,distant=d\n",
    "8. **gill-size**:                broad=b,narrow=n\n",
    "9. **gill-color**:               black=k,brown=n,buff=b,chocolate=h,gray=g,green=r,orange=o,pink=p,purple=u,red=e,white=w,yellow=y\n",
    "10. **stalk-shape**:              enlarging=e,tapering=t\n",
    "11. **stalk-root**:               bulbous=b,club=c,cup=u,equal=e,rhizomorphs=z,rooted=r,missing=?\n",
    "12. **stalk-surface-above-ring**: fibrous=f,scaly=y,silky=k,smooth=s\n",
    "13. **stalk-surface-below-ring**: fibrous=f,scaly=y,silky=k,smooth=s\n",
    "14. **stalk-color-above-ring**:   brown=n,buff=b,cinnamon=c,gray=g,orange=o,pink=p,red=e,white=w,yellow=y\n",
    "15. **stalk-color-below-ring**:   brown=n,buff=b,cinnamon=c,gray=g,orange=o,pink=p,red=e,white=w,yellow=y\n",
    "16. **veil-type**:                partial=p,universal=u\n",
    "17. **veil-color**:               brown=n,orange=o,white=w,yellow=y\n",
    "18. **ring-number**:              none=n,one=o,two=t\n",
    "19. **ring-type**:                cobwebby=c,evanescent=e,flaring=f,large=l,none=n,pendant=p,sheathing=s,zone=z\n",
    "20. **spore-print-color**:        black=k,brown=n,buff=b,chocolate=h,green=r,orange=o,purple=u,white=w,yellow=y\n",
    "21. **population**:               abundant=a,clustered=c,numerous=n,scattered=s,several=v,solitary=y\n",
    "22. **habitat**:                  grasses=g,leaves=l,meadows=m,paths=p,urban=u,waste=w,woods=d\n",
    "23. **classes**: edible=e, poisonous=p"
   ]
  },
  {
   "cell_type": "markdown",
   "id": "08fd3a37-dd9a-4893-803e-687d22dfa9ca",
   "metadata": {},
   "source": [
    "### Distribución\n",
    "El conjunto de datos se encuentra clasificado en dos clases e y p, que significa, comestible y venenosa respectivamente:\n",
    " - Comestible con 4208 registros, equivalentemente al 51.8% de la muestra.\n",
    " - Venenoso con 3916 registros, equivalentemente al 48.2% de la muestra."
   ]
  },
  {
   "cell_type": "code",
   "execution_count": 4,
   "id": "5cf68ffa-8356-42d2-a4ac-144561f52c2e",
   "metadata": {},
   "outputs": [
    {
     "name": "stdout",
     "output_type": "stream",
     "text": [
      "Se cuenta con 4208 registros, que equivalen al 51.80% de la muestra es comestible\n",
      "Se cuenta con 3916 registros, que quivalen al 48.20% de la muestra es venenosa\n"
     ]
    }
   ],
   "source": [
    "e,p = mushroom_ds['classes'].value_counts()\n",
    "print(f'Se cuenta con {e} registros, que equivalen al {100*e/(mushroom_ds.shape[0]):.2f}% de la muestra es comestible')\n",
    "print(f'Se cuenta con {p} registros, que quivalen al {100*p/(mushroom_ds.shape[0]):.2f}% de la muestra es venenosa')"
   ]
  },
  {
   "cell_type": "code",
   "execution_count": 5,
   "id": "e1cba43d-8405-45d0-b1cd-cc3814148620",
   "metadata": {},
   "outputs": [
    {
     "data": {
      "text/plain": [
       "<Axes: title={'center': 'Clase de hongos'}, xlabel='p:Venenoso, e: Comestible', ylabel='Cantidad'>"
      ]
     },
     "execution_count": 5,
     "metadata": {},
     "output_type": "execute_result"
    },
    {
     "data": {
      "image/png": "[encoded data removed]",
      "text/plain": [
       "<Figure size 640x480 with 1 Axes>"
      ]
     },
     "metadata": {},
     "output_type": "display_data"
    }
   ],
   "source": [
    "count_classes_graph = sns.countplot(\n",
    "    x='classes',\n",
    "    data=mushroom_ds)\n",
    "count_classes_graph.set_title('Clase de hongos')\n",
    "count_classes_graph.set_xlabel('p:Venenoso, e: Comestible')\n",
    "count_classes_graph.set_ylabel('Cantidad')\n",
    "count_classes_graph"
   ]
  },
  {
   "cell_type": "markdown",
   "id": "86bae9fb-f002-468e-902e-c35d294b787e",
   "metadata": {},
   "source": [
    "Se puede identificar que las clases estan ligeramente desbalanceadas brindando un poco mas de información para los hongos comestibles"
   ]
  },
  {
   "cell_type": "markdown",
   "id": "29cec246-2cf0-40fc-8531-9c43721d31a4",
   "metadata": {},
   "source": [
    "### Valores nulos\n",
    "El conjunto de datos cuenta con *2480* valores nulos para el atributo **12 stalk-root** identificado con el valor de *?*"
   ]
  },
  {
   "cell_type": "code",
   "execution_count": 6,
   "id": "cc2c21c2-794b-49c4-9d28-9421507d6ad9",
   "metadata": {},
   "outputs": [
    {
     "name": "stdout",
     "output_type": "stream",
     "text": [
      "La clase comestible tiene 1760 registros con valores faltanes, lo que equivale al 21.66% de la muestra\n",
      "La clase venenosa tiene 720 registros con valores faltanes, lo que equivale al 8.86% de la muestra\n",
      "Para un total de 2480 registros con valores nulos\n"
     ]
    }
   ],
   "source": [
    "nan_e, nan_p = mushroom_ds[mushroom_ds['stalk-root'].isna()]['classes'].value_counts()\n",
    "print(f'La clase comestible tiene {nan_e} registros con valores faltanes, lo que equivale al {100*nan_e/(mushroom_ds.shape[0]):.2f}% de la muestra')\n",
    "print(f'La clase venenosa tiene {nan_p} registros con valores faltanes, lo que equivale al {100*nan_p/(mushroom_ds.shape[0]):.2f}% de la muestra')\n",
    "print(f'Para un total de {nan_e+nan_p} registros con valores nulos')"
   ]
  },
  {
   "cell_type": "markdown",
   "id": "0faa0721-5a6d-4173-910f-08fb14736b7e",
   "metadata": {},
   "source": [
    "Al eliminar los registros que cuentan con datos faltantes se crea una nueva muesta con un total de 5644, aumentando su desvalanceo favoreciendo aun mas a la clase comestible"
   ]
  },
  {
   "cell_type": "code",
   "execution_count": 7,
   "id": "3d162223-094b-4bd7-af33-f8e5bbca71af",
   "metadata": {},
   "outputs": [
    {
     "data": {
      "text/plain": [
       "5644"
      ]
     },
     "execution_count": 7,
     "metadata": {},
     "output_type": "execute_result"
    }
   ],
   "source": [
    "new_mushroom_ds = mushroom_ds[mushroom_ds['stalk-root'].notna()].copy()\n",
    "new_mushroom_ds.shape[0]"
   ]
  },
  {
   "cell_type": "code",
   "execution_count": 8,
   "id": "4fcad139-77ce-4c18-b34c-426e86c21967",
   "metadata": {},
   "outputs": [
    {
     "name": "stdout",
     "output_type": "stream",
     "text": [
      "Se cuenta con 3488 registros para la clase comestible despues de eliminar los valores faltantes, lo que equivale al 61.80% de la nueva muestra\n",
      "Se cuenta con 2156 registros para la clase venenosa despues de eliminar los valores faltantes, lo que equivale al 38.20% de la nueva muestra\n"
     ]
    }
   ],
   "source": [
    "new_e, new_p = new_mushroom_ds['classes'].value_counts()\n",
    "print(f'Se cuenta con {new_e} registros para la clase comestible despues de eliminar los valores faltantes, lo que equivale al {100*new_e/(new_mushroom_ds.shape[0]):.2f}% de la nueva muestra')\n",
    "print(f'Se cuenta con {new_p} registros para la clase venenosa despues de eliminar los valores faltantes, lo que equivale al {100*new_p/(new_mushroom_ds.shape[0]):.2f}% de la nueva muestra')"
   ]
  },
  {
   "cell_type": "code",
   "execution_count": 9,
   "id": "c2301708-82f5-4f8e-9ac8-433538d746ce",
   "metadata": {},
   "outputs": [
    {
     "data": {
      "text/plain": [
       "<Axes: title={'center': 'Clase de hongos'}, xlabel='p:Venenoso, e: Comestible', ylabel='Cantidad'>"
      ]
     },
     "execution_count": 9,
     "metadata": {},
     "output_type": "execute_result"
    },
    {
     "data": {
      "image/png": "[encoded data removed]",
      "text/plain": [
       "<Figure size 640x480 with 1 Axes>"
      ]
     },
     "metadata": {},
     "output_type": "display_data"
    }
   ],
   "source": [
    "count_classes_graph = sns.countplot(\n",
    "    x='classes',\n",
    "    data=new_mushroom_ds)\n",
    "count_classes_graph.set_title('Clase de hongos')\n",
    "count_classes_graph.set_xlabel('p:Venenoso, e: Comestible')\n",
    "count_classes_graph.set_ylabel('Cantidad')\n",
    "count_classes_graph"
   ]
  },
  {
   "cell_type": "code",
   "execution_count": 8,
   "id": "af89ae42-b65b-4c3b-b6b5-399505f50989",
   "metadata": {},
   "outputs": [
    {
     "name": "stdout",
     "output_type": "stream",
     "text": [
      "<class 'pandas.core.frame.DataFrame'>\n",
      "Index: 5644 entries, 0 to 8114\n",
      "Data columns (total 23 columns):\n",
      " #   Column                    Non-Null Count  Dtype\n",
      "---  ------                    --------------  -----\n",
      " 0   classes                   5644 non-null   int32\n",
      " 1   cap-shape                 5644 non-null   int32\n",
      " 2   cap-surface               5644 non-null   int32\n",
      " 3   cap-color                 5644 non-null   int32\n",
      " 4   bruises?                  5644 non-null   int32\n",
      " 5   odor                      5644 non-null   int32\n",
      " 6   gill-attachment           5644 non-null   int32\n",
      " 7   gill-spacing              5644 non-null   int32\n",
      " 8   gill-size                 5644 non-null   int32\n",
      " 9   gill-color                5644 non-null   int32\n",
      " 10  stalk-shape               5644 non-null   int32\n",
      " 11  stalk-root                5644 non-null   int32\n",
      " 12  stalk-surface-above-ring  5644 non-null   int32\n",
      " 13  stalk-surface-below-ring  5644 non-null   int32\n",
      " 14  stalk-color-above-ring    5644 non-null   int32\n",
      " 15  stalk-color-below-ring    5644 non-null   int32\n",
      " 16  veil-type                 5644 non-null   int32\n",
      " 17  veil-color                5644 non-null   int32\n",
      " 18  ring-number               5644 non-null   int32\n",
      " 19  ring-type                 5644 non-null   int32\n",
      " 20  spore-print-color         5644 non-null   int32\n",
      " 21  population                5644 non-null   int32\n",
      " 22  habitat                   5644 non-null   int32\n",
      "dtypes: int32(23)\n",
      "memory usage: 551.2 KB\n"
     ]
    }
   ],
   "source": [
    "for i in names:\n",
    "    new_mushroom_ds[i] = LabelEncoder().fit_transform(new_mushroom_ds[i])\n",
    "new_mushroom_ds.info()"
   ]
  },
  {
   "cell_type": "markdown",
   "id": "46fc1f82-82ad-4155-91e2-0c2ba65a0dbf",
   "metadata": {},
   "source": [
    "### Estadistica descriptiva"
   ]
  },
  {
   "cell_type": "markdown",
   "id": "0f8c47f9-91f1-4321-a4f4-036d65f9f1c2",
   "metadata": {},
   "source": [
    "#### Distribución\n",
    "A continuación se puede observar la distribución que tienen cada uno de los atributos de la nueva muestra de hongos sin valores nulos"
   ]
  },
  {
   "cell_type": "code",
   "execution_count": 26,
   "id": "84b82503-9f8c-4ed6-87e0-6f8be03ca898",
   "metadata": {},
   "outputs": [
    {
     "name": "stdout",
     "output_type": "stream",
     "text": [
      "classes: classes\n",
      "e    3488\n",
      "p    2156\n",
      "Name: count, dtype: int64\n",
      "cap-shape: cap-shape\n",
      "x    2840\n",
      "f    2432\n",
      "b     300\n",
      "k      36\n",
      "s      32\n",
      "c       4\n",
      "Name: count, dtype: int64\n",
      "cap-surface: cap-surface\n",
      "y    2220\n",
      "f    2160\n",
      "s    1260\n",
      "g       4\n",
      "Name: count, dtype: int64\n",
      "cap-color: cap-color\n",
      "g    1696\n",
      "n    1164\n",
      "y    1056\n",
      "w     880\n",
      "e     588\n",
      "b     120\n",
      "p      96\n",
      "c      44\n",
      "Name: count, dtype: int64\n",
      "bruises?: bruises?\n",
      "t    3184\n",
      "f    2460\n",
      "Name: count, dtype: int64\n",
      "odor: odor\n",
      "n    2776\n",
      "f    1584\n",
      "a     400\n",
      "l     400\n",
      "p     256\n",
      "c     192\n",
      "m      36\n",
      "Name: count, dtype: int64\n",
      "gill-attachment: gill-attachment\n",
      "f    5626\n",
      "a      18\n",
      "Name: count, dtype: int64\n",
      "gill-spacing: gill-spacing\n",
      "c    4620\n",
      "w    1024\n",
      "Name: count, dtype: int64\n",
      "gill-size: gill-size\n",
      "b    4940\n",
      "n     704\n",
      "Name: count, dtype: int64\n",
      "gill-color: gill-color\n",
      "p    1384\n",
      "n     984\n",
      "w     966\n",
      "h     720\n",
      "g     656\n",
      "u     480\n",
      "k     408\n",
      "r      24\n",
      "y      22\n",
      "Name: count, dtype: int64\n",
      "stalk-shape: stalk-shape\n",
      "t    2880\n",
      "e    2764\n",
      "Name: count, dtype: int64\n",
      "stalk-root: stalk-root\n",
      "b    3776\n",
      "e    1120\n",
      "c     556\n",
      "r     192\n",
      "Name: count, dtype: int64\n",
      "stalk-surface-above-ring: stalk-surface-above-ring\n",
      "s    3736\n",
      "k    1332\n",
      "f     552\n",
      "y      24\n",
      "Name: count, dtype: int64\n",
      "stalk-surface-below-ring: stalk-surface-below-ring\n",
      "s    3544\n",
      "k    1296\n",
      "f     552\n",
      "y     252\n",
      "Name: count, dtype: int64\n",
      "stalk-color-above-ring: stalk-color-above-ring\n",
      "w    3136\n",
      "p    1008\n",
      "g     576\n",
      "n     448\n",
      "b     432\n",
      "c      36\n",
      "y       8\n",
      "Name: count, dtype: int64\n",
      "stalk-color-below-ring: stalk-color-below-ring\n",
      "w    3088\n",
      "p    1008\n",
      "g     576\n",
      "n     496\n",
      "b     432\n",
      "c      36\n",
      "y       8\n",
      "Name: count, dtype: int64\n",
      "veil-type: veil-type\n",
      "p    5644\n",
      "Name: count, dtype: int64\n",
      "veil-color: veil-color\n",
      "w    5636\n",
      "y       8\n",
      "Name: count, dtype: int64\n",
      "ring-number: ring-number\n",
      "o    5488\n",
      "t     120\n",
      "n      36\n",
      "Name: count, dtype: int64\n",
      "ring-type: ring-type\n",
      "p    3488\n",
      "l    1296\n",
      "e     824\n",
      "n      36\n",
      "Name: count, dtype: int64\n",
      "spore-print-color: spore-print-color\n",
      "n    1920\n",
      "k    1872\n",
      "h    1584\n",
      "w     148\n",
      "r      72\n",
      "u      48\n",
      "Name: count, dtype: int64\n",
      "population: population\n",
      "v    2160\n",
      "y    1688\n",
      "s    1104\n",
      "a     384\n",
      "n     256\n",
      "c      52\n",
      "Name: count, dtype: int64\n",
      "habitat: habitat\n",
      "d    2492\n",
      "g    1860\n",
      "p     568\n",
      "u     368\n",
      "m     292\n",
      "l      64\n",
      "Name: count, dtype: int64\n"
     ]
    }
   ],
   "source": [
    "for i in names: \n",
    "    print(f'{i}: {new_mushroom_ds[i].value_counts()}')"
   ]
  },
  {
   "cell_type": "markdown",
   "id": "3adf4e27-eb25-457c-bc26-1f4196eccf7e",
   "metadata": {},
   "source": [
    "#### Medidas de tendecia central\n",
    "Debido a que todos los datos son nominales no ordinales, solo se puede tener como medida de tenedencia central la moda"
   ]
  },
  {
   "cell_type": "code",
   "execution_count": 25,
   "id": "73ca11b7-feff-45d0-bac4-431f02ed2e6b",
   "metadata": {},
   "outputs": [
    {
     "name": "stdout",
     "output_type": "stream",
     "text": [
      "classes: ['e']\n",
      "cap-shape: ['x']\n",
      "cap-surface: ['y']\n",
      "cap-color: ['g']\n",
      "bruises?: ['t']\n",
      "odor: ['n']\n",
      "gill-attachment: ['f']\n",
      "gill-spacing: ['c']\n",
      "gill-size: ['b']\n",
      "gill-color: ['p']\n",
      "stalk-shape: ['t']\n",
      "stalk-root: ['b']\n",
      "stalk-surface-above-ring: ['s']\n",
      "stalk-surface-below-ring: ['s']\n",
      "stalk-color-above-ring: ['w']\n",
      "stalk-color-below-ring: ['w']\n",
      "veil-type: ['p']\n",
      "veil-color: ['w']\n",
      "ring-number: ['o']\n",
      "ring-type: ['p']\n",
      "spore-print-color: ['n']\n",
      "population: ['v']\n",
      "habitat: ['d']\n"
     ]
    }
   ],
   "source": [
    "for i in names: \n",
    "    print(f'{i}: {new_mushroom_ds[i].mode().values}')"
   ]
  },
  {
   "cell_type": "markdown",
   "id": "0c2e080e-613a-43ca-8605-d103efa2cbdb",
   "metadata": {},
   "source": [
    "### Tranformación de los valores categoricos a numericos\n",
    "Debido a que toda la información recopilada son de tipo nominal, es necesario realizar una transformación a valores numericos con el fin de poder realizar un analisis mas exhaustivo de los datos."
   ]
  },
  {
   "cell_type": "code",
   "execution_count": 12,
   "id": "8426c49b-a8cc-4fb1-8800-e9dcee3c366f",
   "metadata": {},
   "outputs": [
    {
     "name": "stdout",
     "output_type": "stream",
     "text": [
      "<class 'pandas.core.frame.DataFrame'>\n",
      "Index: 5644 entries, 0 to 8114\n",
      "Data columns (total 46 columns):\n",
      " #   Column                        Non-Null Count  Dtype \n",
      "---  ------                        --------------  ----- \n",
      " 0   classes                       5644 non-null   object\n",
      " 1   cap-shape                     5644 non-null   object\n",
      " 2   cap-surface                   5644 non-null   object\n",
      " 3   cap-color                     5644 non-null   object\n",
      " 4   bruises?                      5644 non-null   object\n",
      " 5   odor                          5644 non-null   object\n",
      " 6   gill-attachment               5644 non-null   object\n",
      " 7   gill-spacing                  5644 non-null   object\n",
      " 8   gill-size                     5644 non-null   object\n",
      " 9   gill-color                    5644 non-null   object\n",
      " 10  stalk-shape                   5644 non-null   object\n",
      " 11  stalk-root                    5644 non-null   object\n",
      " 12  stalk-surface-above-ring      5644 non-null   object\n",
      " 13  stalk-surface-below-ring      5644 non-null   object\n",
      " 14  stalk-color-above-ring        5644 non-null   object\n",
      " 15  stalk-color-below-ring        5644 non-null   object\n",
      " 16  veil-type                     5644 non-null   object\n",
      " 17  veil-color                    5644 non-null   object\n",
      " 18  ring-number                   5644 non-null   object\n",
      " 19  ring-type                     5644 non-null   object\n",
      " 20  spore-print-color             5644 non-null   object\n",
      " 21  population                    5644 non-null   object\n",
      " 22  habitat                       5644 non-null   object\n",
      " 23  num_classes                   5644 non-null   int32 \n",
      " 24  num_cap-shape                 5644 non-null   int32 \n",
      " 25  num_cap-surface               5644 non-null   int32 \n",
      " 26  num_cap-color                 5644 non-null   int32 \n",
      " 27  num_bruises?                  5644 non-null   int32 \n",
      " 28  num_odor                      5644 non-null   int32 \n",
      " 29  num_gill-attachment           5644 non-null   int32 \n",
      " 30  num_gill-spacing              5644 non-null   int32 \n",
      " 31  num_gill-size                 5644 non-null   int32 \n",
      " 32  num_gill-color                5644 non-null   int32 \n",
      " 33  num_stalk-shape               5644 non-null   int32 \n",
      " 34  num_stalk-root                5644 non-null   int32 \n",
      " 35  num_stalk-surface-above-ring  5644 non-null   int32 \n",
      " 36  num_stalk-surface-below-ring  5644 non-null   int32 \n",
      " 37  num_stalk-color-above-ring    5644 non-null   int32 \n",
      " 38  num_stalk-color-below-ring    5644 non-null   int32 \n",
      " 39  num_veil-type                 5644 non-null   int32 \n",
      " 40  num_veil-color                5644 non-null   int32 \n",
      " 41  num_ring-number               5644 non-null   int32 \n",
      " 42  num_ring-type                 5644 non-null   int32 \n",
      " 43  num_spore-print-color         5644 non-null   int32 \n",
      " 44  num_population                5644 non-null   int32 \n",
      " 45  num_habitat                   5644 non-null   int32 \n",
      "dtypes: int32(23), object(23)\n",
      "memory usage: 1.5+ MB\n"
     ]
    }
   ],
   "source": [
    "for i in names:\n",
    "    new_mushroom_ds[f'num_{i}']= LabelEncoder().fit_transform(new_mushroom_ds[i])\n",
    "new_mushroom_ds.info()"
   ]
  },
  {
   "cell_type": "markdown",
   "id": "2615daf4-05d0-4dcc-b5fc-e4b073f2223f",
   "metadata": {},
   "source": [
    "#### Correlación\n",
    "Con el fin de saber si los atributos se encuentran correlaciondos, se va mostrar va realizar una grafica de calor con los valores numericos de los atributos transformados en el punto anterior."
   ]
  },
  {
   "cell_type": "code",
   "execution_count": null,
   "id": "b1deae24-d3fc-43da-b831-7b82e6189ecd",
   "metadata": {},
   "outputs": [],
   "source": [
    "num_att = [f'num_{}' ]"
   ]
  }
 ],
 "metadata": {
  "kernelspec": {
   "display_name": "Python 3 (ipykernel)",
   "language": "python",
   "name": "python3"
  },
  "language_info": {
   "codemirror_mode": {
    "name": "ipython",
    "version": 3
   },
   "file_extension": ".py",
   "mimetype": "text/x-python",
   "name": "python",
   "nbconvert_exporter": "python",
   "pygments_lexer": "ipython3",
   "version": "3.11.5"
  }
 },
 "nbformat": 4,
 "nbformat_minor": 5
}
