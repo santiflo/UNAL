{
 "cells": [
  {
   "cell_type": "markdown",
   "metadata": {
    "id": "fb9pUStUq6xf"
   },
   "source": [
    "<img src = \"https://drive.google.com/uc?export=view&id=102yRp1NqZJ12212QaersRTNL5_ZxieKX\" alt = \"Encabezado MLDS\" width = \"100%\">  </img>"
   ]
  },
  {
   "cell_type": "markdown",
   "metadata": {
    "id": "agPU4zWADxqI"
   },
   "source": [
    "# **Tarea 4: Aprendizaje no supervisado: agrupamiento**\n",
    "---\n",
    "En esta tarea podrá practicar las habilidades y conceptos adquiridos aplicando métodos de agrupamiento, en la caracterización de cuentas bancarias como posibles buenos o malos riesgos de crédito. Utilizaremos el conjunto de datos [**German Credit Data**](https://archive.ics.uci.edu/ml/datasets/Statlog+%28German+Credit+Data%29), atribuido al profesor Hans Hoffman.\n",
    "\n",
    "\n",
    "| Variable | Medida\t| Valores |\n",
    "| --- | --- | --- |\n",
    "| checking_status | \tEstado de la cuenta corriente. |\tcategórica |\n",
    "| disc_duration |  Duración en meses del crédito solicitado | \tnumérica\n",
    "| credit_history | Historial crediticio. \t| categórica |\n",
    "| purpose |\tPropósito del crédito. \t| categórica |\n",
    "| credit_amount |\tMonto del crédito en marcos alemanes (DM). | numérica |\n",
    "| savings_status |\tEstado de cuenta/bonos de ahorros. \t| categórica|\n",
    "| employment |\t Tiempo de empleo. \t| categórica |\n",
    "| personal_status |\tEstado personal (género y estado civil). \t| categórica |\n",
    "| other_parties |\tOtros deudores/garantes. \t| categórica |\n",
    "| property_magnitude |\tTipo de propiedad. \t| categórica |\n",
    "| age |\tEdad del solicitante en años.\t| numérica |\n",
    "| other_payment_plans  |\t Otros planes de pago. \t| categórica|\n",
    "| housing |\tTipo de alojamiento/vivienda. \t| categórica|\n",
    "| existing_credits |\tCantidad de créditos existentes. \t| categórica|\n",
    "| job |\tTipo de empleo y habilidad. \t| categórica|\n",
    "| num_dependents |\tNúmero de dependientes. \t| categórica|\n",
    "| own_telephone |\tTeléfono propio. \t| categórica |\n",
    "| foreign_worker |\tTrabajador extranjero. \t| categórica |\n",
    "| class |\tTipo de riesgo de crédito. \t| categórica - variable objetivo ('good', 'bad')|]\n",
    "\n",
    "\n",
    "\n",
    "> **Nota:** Esta tarea va a ser calificada en la plataforma **[UNCode](https://juezun.github.io/)**. Para esto, en cada ejercicio se indicará si es calificable o no, también los lugares donde debe escribir su código sin modificar lo demás con un aproximado de cantidad de líneas a escribir. No se preocupe si su código toma más líneas, esto es simplemente un aproximado destinado a que pueda replantear su estrategia si el código está tomando más de las esperadas. No es un requisito estricto y soluciones más largas también son válidas. Al finalizar, para realizar el envío (*submission*), descargue el notebook como un archivo **`.ipynb`** y haga su entrega a través de **Moodle**.\n",
    ">\n",
    "> **La tarea es incremental, es recomendable resolver los puntos en orden.**"
   ]
  },
  {
   "cell_type": "markdown",
   "metadata": {
    "id": "UygV6iCUN1w4"
   },
   "source": [
    "## **0. Dependencias**\n",
    "---\n",
    "Ejecute la siguiente celda para importar las librerías necesarias."
   ]
  },
  {
   "cell_type": "code",
   "execution_count": null,
   "metadata": {
    "id": "kh3RwM2u50Jz"
   },
   "outputs": [],
   "source": [
    "# Importamos Scikit-Learn.\n",
    "import sklearn\n",
    "\n",
    "# Librerías de utilidad para manipulación de datos.\n",
    "import pandas as pd\n",
    "import numpy as np\n",
    "import scipy\n",
    "\n",
    "# Ignorar advertencias del código.\n",
    "import warnings\n",
    "warnings.filterwarnings('ignore')"
   ]
  },
  {
   "cell_type": "code",
   "execution_count": null,
   "metadata": {
    "id": "_ZMJ1zM4cMtJ"
   },
   "outputs": [],
   "source": [
    "#TEST_CELL\n",
    "# Librerías de utilidad para visualización de datos.\n",
    "import matplotlib as mpl\n",
    "import matplotlib.pyplot as plt\n",
    "import seaborn as sns\n",
    "\n",
    "# Configuramos el formato por defecto de la\n",
    "# librería de visualización Matplotlib.\n",
    "%matplotlib inline\n",
    "%config InlineBackend.figure_format = 'retina'\n",
    "mpl.rcParams['figure.dpi'] = 110\n",
    "mpl.rcParams['figure.figsize'] = (8, 6)\n",
    "sns.set_theme()"
   ]
  },
  {
   "cell_type": "code",
   "execution_count": null,
   "metadata": {
    "id": "jUMP_2CPqwRY"
   },
   "outputs": [],
   "source": [
    "#TEST_CELL\n",
    "# Versiones de las librerías usadas.\n",
    "\n",
    "!python --version\n",
    "print('NumPy', np.__version__)\n",
    "print('Pandas', pd.__version__)\n",
    "print('SciPy', scipy.__version__)\n",
    "print('Matplotlib', mpl.__version__)\n",
    "print('Seaborn', sns.__version__)\n",
    "print('Scikit-learn', sklearn.__version__)"
   ]
  },
  {
   "cell_type": "markdown",
   "metadata": {
    "id": "dxNzX3sfq3gZ"
   },
   "source": [
    "Esta actividad se realizó con las siguientes versiones:\n",
    "*  *Python*: 3.7.10\n",
    "*  *NumPy*:  1.19.5\n",
    "*  *Pandas*: 1.1.5\n",
    "*  *SciPy*: 1.4.1\n",
    "*  *Matplotlib*:  3.2.2\n",
    "*  *Seaborn*:  0.11.1\n",
    "*  *Scikit-learn*: 0.22.2.post1"
   ]
  },
  {
   "cell_type": "markdown",
   "metadata": {
    "id": "XEvKnEZCKn3a"
   },
   "source": [
    "Descargamos el conjunto de datos:"
   ]
  },
  {
   "cell_type": "code",
   "execution_count": null,
   "metadata": {
    "id": "YH5uAuXuKirX"
   },
   "outputs": [],
   "source": [
    "#TEST_CELL\n",
    "!wget 'https://raw.githubusercontent.com/JuezUN/datasets/master/credit-german.csv'"
   ]
  },
  {
   "cell_type": "markdown",
   "metadata": {
    "id": "XvB4UaexKsM1"
   },
   "source": [
    "Y lo cargamos con _Pandas_:\n",
    "\n",
    "> **Nota**: El archivo **`'credit-german.csv'`** estará en el ambiente de _UNCode_, no se preocupe por ello."
   ]
  },
  {
   "cell_type": "code",
   "execution_count": null,
   "metadata": {
    "id": "nx6yIwKHEOhf"
   },
   "outputs": [],
   "source": [
    "credit_german_df = pd.read_csv('credit-german.csv', sep=';')"
   ]
  },
  {
   "cell_type": "markdown",
   "metadata": {
    "id": "yYDUZKExK2kp"
   },
   "source": [
    "Visualizamos información básica del *DataFrame*:"
   ]
  },
  {
   "cell_type": "code",
   "execution_count": null,
   "metadata": {
    "id": "jAqSNtWg6B-v"
   },
   "outputs": [],
   "source": [
    "#TEST_CELL\n",
    "credit_german_df.info()"
   ]
  },
  {
   "cell_type": "markdown",
   "metadata": {
    "id": "_ixhR0IjK7L4"
   },
   "source": [
    "Y revisamos los valores de unos cuantos ejemplos:"
   ]
  },
  {
   "cell_type": "code",
   "execution_count": null,
   "metadata": {
    "id": "D0CdIUDs9gVS"
   },
   "outputs": [],
   "source": [
    "#TEST_CELL\n",
    "credit_german_df.head(5)"
   ]
  },
  {
   "cell_type": "markdown",
   "metadata": {
    "id": "9zx6GNGQB6PO"
   },
   "source": [
    "Usando la utilidad de *Pandas* **`select_dtypes`** podemos fácilmente tomar las columnas que correspondan a variables categóricas. De esta manera, podemos verificar los valores posibles para cada una de estas con la siguiente celda:"
   ]
  },
  {
   "cell_type": "code",
   "execution_count": null,
   "metadata": {
    "id": "eDmQJfkdcdtj"
   },
   "outputs": [],
   "source": [
    "#TEST_CELL\n",
    "categoric_df = credit_german_df.select_dtypes(['object'])\n",
    "\n",
    "print('Características categóricas y valores únicos')\n",
    "for col in categoric_df.columns:\n",
    "  print(f'\\nCaracterística {col}')\n",
    "  for i, val in enumerate(categoric_df[col].unique()):\n",
    "    print(f\"\\t{i + 1}. {val}\")"
   ]
  },
  {
   "cell_type": "markdown",
   "metadata": {
    "id": "OE-Sv_1LvKBt"
   },
   "source": [
    "## **1. Separe el conjunto de datos en la forma `X, y`**\n",
    "---\n",
    "\n",
    "El conjunto de datos cuenta con la característica **`class`**, la cual contiene los valores **`\"good\"`** y **`\"bad\"`**, representando la decisión de dar o no el crédito con base a los antecedentes personales y crediticios de cada persona. En este caso nos interesa analizar el desempeño de los agrupamientos de manera externa basados en esta característica.\n",
    "\n",
    "Complete la función **`separar_X_y`** de tal manera que retorne una tupla **`X, y`** que corresponda al conjunto de datos en la forma $X, y$, con **`y`** siendo la variable objetivo.\n",
    "\n",
    "**Entrada:**\n",
    "* **`df`**: objeto *DataFrame* de *Pandas* con el conjunto de datos *German Credit Data*.\n",
    "\n",
    "**Salida**\n",
    "* **`X`:** objeto _DataFrame_ con la matriz de datos, excluyendo la columna **`class`**.\n",
    "* **`y`:** objeto _Series_ con el vector de etiquetas reales contenido en la columna **`class`**.\n"
   ]
  },
  {
   "cell_type": "code",
   "execution_count": null,
   "metadata": {
    "id": "6x6hJe2lwLJR"
   },
   "outputs": [],
   "source": [
    "# FUNCIÓN CALIFICADA separar_X_y:\n",
    "\n",
    "def separar_X_y(df):\n",
    "  \"\"\"\n",
    "    Entradas:\n",
    "      df: objeto DataFrame del conjunto de datos German Credit Data.\n",
    "    Retorna:\n",
    "      X: objeto DataFrame con la matriz de datos de entrada.\n",
    "      y: objeto Series con el vector de etiquetas reales.\n",
    "\n",
    "      X debe ser un DataFrame y y una Series de Pandas.\n",
    "  \"\"\"\n",
    "  ### ESCRIBA SU CÓDIGO AQUÍ ### (~ 2 líneas de código)\n",
    "\n",
    "  X = None\n",
    "  y = None\n",
    "\n",
    "  ### FIN DEL CÓDIGO ###\n",
    "\n",
    "  return X, y"
   ]
  },
  {
   "cell_type": "code",
   "execution_count": null,
   "metadata": {
    "id": "q-2H-_n_l8KI"
   },
   "outputs": [],
   "source": [
    "#TEST_CELL\n",
    "X, y = separar_X_y(credit_german_df)\n",
    "\n",
    "print(f'Tamaño de X: {X.shape}')\n",
    "print(f'Tamaño de y: {y.shape}')"
   ]
  },
  {
   "cell_type": "markdown",
   "metadata": {
    "id": "IXj1cTd89tXf"
   },
   "source": [
    "**Salida esperada:**\n",
    "\n",
    "```\n",
    "Tamaño de X: (1000, 18)\n",
    "Tamaño de y: (1000,)\n",
    "```"
   ]
  },
  {
   "cell_type": "code",
   "execution_count": null,
   "metadata": {
    "id": "mDJDS_MAjcIt"
   },
   "outputs": [],
   "source": [
    "#TEST_CELL\n",
    "X, y = separar_X_y(credit_german_df)\n",
    "\n",
    "print(f'Tipo de X: {type(X)}')\n",
    "print(f'Tipo de y: {type(y)}')"
   ]
  },
  {
   "cell_type": "markdown",
   "metadata": {
    "id": "8F-TP90QjcJW"
   },
   "source": [
    "**Salida esperada:**\n",
    "\n",
    "```\n",
    "Tipo de X: <class 'pandas.core.frame.DataFrame'>\n",
    "Tipo de y: <class 'pandas.core.series.Series'>\n",
    "```"
   ]
  },
  {
   "cell_type": "markdown",
   "metadata": {
    "id": "MWY97E-VItfl"
   },
   "source": [
    "<details>    \n",
    "<summary>\n",
    "    <font size=\"3\" color=\"darkgreen\"><b>Pista</b></font>\n",
    "</summary>\n",
    "<p>\n",
    "\n",
    "* Puede guardar la columna **`class`**  en una variable y luego usar el método **`drop`** del objeto *DataFrame* de la columna para retornar el subconjunto apropiado.\n",
    "    \n"
   ]
  },
  {
   "cell_type": "markdown",
   "metadata": {
    "id": "03siIaca-Pnk"
   },
   "source": [
    "## **2. Codifique las etiquetas en valores binarios**\n",
    "---\n",
    "La variable **`class`**, ahora contenida en el arreglo **`y`**, contiene únicamente los valores **`'good'`** y **`'bad'`**:"
   ]
  },
  {
   "cell_type": "code",
   "execution_count": null,
   "metadata": {
    "id": "n5HLcket-fuC"
   },
   "outputs": [],
   "source": [
    "#TEST_CELL\n",
    "print(credit_german_df.loc[:20, 'class'].values)"
   ]
  },
  {
   "cell_type": "markdown",
   "metadata": {
    "id": "osEbM0y0Cjmb"
   },
   "source": [
    "Antes de realizar una evaluación del desempeño externa debemos codificar **`good`** como el número $1$ y **`bad`** como el número $0$. Complete la función **`codificar`** de tal manera que retorne un arreglo de _NumPy_ con las etiquetas codificadas en valores binarios.\n",
    "\n",
    "**Entrada:**\n",
    "\n",
    "* **`y_txt`**: serie de _Pandas_ de tamaño $n$ con las cadenas de texto **`good`** y **`bad`**.\n",
    "\n",
    "**Salida:**\n",
    "\n",
    "* **`y_num`**: arreglo de _NumPy_ de tamaño $n$ con los valores numéricos $0$ y $1$."
   ]
  },
  {
   "cell_type": "code",
   "execution_count": null,
   "metadata": {
    "id": "faxHl6XtqBGi"
   },
   "outputs": [],
   "source": [
    "# FUNCIÓN CALIFICADA bin_X_y:\n",
    "\n",
    "def codificar(y_txt):\n",
    "  \"\"\"\n",
    "    Entradas\n",
    "      y_txt: serie de Pandas con las etiquetas en valores `good` y `bad`.\n",
    "    Retorna\n",
    "      y_num: arreglo de NumPy con 'good' codificado como 1 y 'bad' codificado como 0.\n",
    "  \"\"\"\n",
    "  ### ESCRIBA SU CÓDIGO AQUÍ ### (~ 2 líneas de código)\n",
    "\n",
    "  y_num = None\n",
    "\n",
    "  ### FIN DEL CÓDIGO ###\n",
    "  return None"
   ]
  },
  {
   "cell_type": "markdown",
   "metadata": {
    "id": "tGv7z0tODEiQ"
   },
   "source": [
    "Ejecute la siguiente celda para probar su código:\n",
    "\n",
    "> **Nota:** Asegúrese de que el ejercicio $1$ retorne un resultado correcto antes de evaluar este punto."
   ]
  },
  {
   "cell_type": "code",
   "execution_count": null,
   "metadata": {
    "id": "tZ8LEzEHQ2Dk"
   },
   "outputs": [],
   "source": [
    "#TEST_CELL\n",
    "# 1. Separar el conjunto de datos en la forma X, y.\n",
    "_, y_raw = separar_X_y(credit_german_df)\n",
    "assert isinstance(y_raw, pd.Series) and y_raw.shape == (1000, ), \"Ej 1. Revise el resultado del ejercicio 1.\"\n",
    "\n",
    "y_encoded = codificar(y_raw)\n",
    "\n",
    "if isinstance(y_encoded, np.ndarray) and y_encoded.shape[0] > 0:\n",
    "  for i in range(85, 95):\n",
    "    print(f'Valor: {y_raw[i]}\\tCodificado: {y_encoded[i]}')\n",
    "\n",
    "else: print(\"El valor retornado no es un arreglo de NumPy válido.\")"
   ]
  },
  {
   "cell_type": "markdown",
   "metadata": {
    "id": "Vth2JnNjEg1U"
   },
   "source": [
    "**Salida esperada**:\n",
    "\n",
    "```\n",
    "Valor: good\t   Codificado: 1\n",
    "Valor: good\t   Codificado: 1\n",
    "Valor: bad\t    Codificado: 0\n",
    "Valor: good\t   Codificado: 1\n",
    "Valor: bad\t    Codificado: 0\n",
    "Valor: good\t   Codificado: 1\n",
    "Valor: good\t   Codificado: 1\n",
    "Valor: bad\t    Codificado: 0\n",
    "Valor: good\t   Codificado: 1\n",
    "Valor: good\t   Codificado: 1\n",
    "```"
   ]
  },
  {
   "cell_type": "markdown",
   "metadata": {
    "id": "S4bS1SC8Iska"
   },
   "source": [
    "<details>    \n",
    "<summary>\n",
    "    <font size=\"3\" color=\"darkgreen\"><b>Pista 1</b></font>\n",
    "</summary>\n",
    "<p>\n",
    "\n",
    "* Puede declarar una función o usar una [expresión lambda](https://docs.python.org/3/tutorial/controlflow.html#lambda-expressions) para mapear los datos con el método [**`map`**](https://pandas.pydata.org/docs/reference/api/pandas.Series.map.html) del objeto *Series* de *Pandas*.\n"
   ]
  },
  {
   "cell_type": "markdown",
   "metadata": {
    "id": "SFdeQpk5LM6x"
   },
   "source": [
    "<details>    \n",
    "<summary>\n",
    "    <font size=\"3\" color=\"darkgreen\"><b>Pista 2</b></font>\n",
    "</summary>\n",
    "\n",
    "\n",
    "* Otra alternativa es crear un nuevo arreglo de _NumPy_ con el tamaño deseado, iterar sobre **`y`** y asignar los valores correspondientes al nuevo arreglo.\n"
   ]
  },
  {
   "cell_type": "markdown",
   "metadata": {
    "id": "kh0ZPuA1DNJj"
   },
   "source": [
    "## **3. Preprocese las variables categóricas y numéricas.**\n",
    "---\n",
    "\n",
    "Para aplicar el modelo $k$ _means_, es muy importante contar con únicamente variables numéricas con una escala común. Para esto, vamos a aplicar una transformación a variables categóricas y numéricas de la siguiente forma:\n",
    "\n",
    "* Para las variables categóricas se debe aplicar el algoritmo **`OneHotEncoder`** para expandir cada categoría a una columna numérica binaria independiente.\n",
    "\n",
    "* Para las variables numéricas se debe aplicar un reescalado con **`StandardScaler`** para delimitar los valores a una escala común, con media en $0$ y desviación estándar de $1$ unidad.\n",
    "\n",
    "En este caso, deberá usar **`ColumnTransformer`** para aplicar ambas transformaciones de manera simultánea. Al hacer esto, deberá usar la cadena **`'onehot'`** para representar la primera transformación y **`'scaler'`** para representar la segunda.\n",
    "\n",
    "Complete la función **`preprocesar`** de tal manera que tome el _DataFrame_ **`X`** y retorne un arreglo de _NumPy_ con la matriz de datos preprocesada y el objeto **`ColumnTransformer`** usado para preprocesar los datos.\n",
    "\n",
    "> **Nota**: Las características categóricas deben estar antes que las características numéricas. Es decir, la primera tupla de las transformaciones que recibe **`ColumnTransformer`** debe ser aquella que utiliza *One Hot Encoder*.\n",
    "\n",
    "\n",
    "**Entrada:**\n",
    "\n",
    "* **`df`**: objeto _DataFrame_ de _Pandas_ de tamaño $(n, m)$ con variables categóricas (con _dtype_ **`'object'`**) y numéricas enteras (con _dtype_ **`'int64'`**).\n",
    "\n",
    "**Salida:**\n",
    "\n",
    "* **`X`**: matriz [_sparse_ de _SciPy_](https://docs.scipy.org/doc/scipy/reference/sparse.html) con tamaño $(n, m^\\prime)$ únicamente valores numéricos, donde $m^\\prime \\geq m$.\n",
    "* **`tf`**: objeto de tipo **`ColumnTransformer`** usado en el preprocesamiento de los datos, con los transformadores **`onehot`** y **`scaler`**."
   ]
  },
  {
   "cell_type": "code",
   "execution_count": null,
   "metadata": {
    "id": "2Q2Rf3SIe_Av"
   },
   "outputs": [],
   "source": [
    "# FUNCIÓN CALIFICADA preprocesar:\n",
    "\n",
    "# Funciones utilizadas en el ejercicio.\n",
    "from sklearn.compose import ColumnTransformer\n",
    "from sklearn.preprocessing import OneHotEncoder, StandardScaler\n",
    "\n",
    "def preprocesar(df):\n",
    "  \"\"\"\n",
    "    Entradas:\n",
    "      df: objeto DataFrame con las características originales.\n",
    "    Retorna:\n",
    "      X: arreglo sparse de SciPy con el conjunto de datos preprocesado\n",
    "      tf: objeto ColumnTransformer usado para preprocesar el conjunto de datos.\n",
    "  \"\"\"\n",
    "  ### ESCRIBA SU CÓDIGO AQUÍ ### (~ 5-6 líneas de código)\n",
    "\n",
    "  X = None\n",
    "  tf = None\n",
    "\n",
    "  ### FIN DEL CÓDIGO ###\n",
    "\n",
    "  return X, tf"
   ]
  },
  {
   "cell_type": "markdown",
   "metadata": {
    "id": "6A5WETT_EwTk"
   },
   "source": [
    "Ejecute las siguientes celdas para probar su código:"
   ]
  },
  {
   "cell_type": "code",
   "execution_count": null,
   "metadata": {
    "id": "XyqkIfT5nkW-"
   },
   "outputs": [],
   "source": [
    "#TEST_CELL\n",
    "# 1. Separar el conjunto de datos en la forma X, y.\n",
    "X_raw, _ = separar_X_y(credit_german_df)\n",
    "assert (isinstance(X_raw, pd.DataFrame) and X_raw.shape == (1000, 18)), \"Ej 1. Revise el resultado del ejercicio 1.\"\n",
    "\n",
    "X_preprocessed, tf = preprocesar(X_raw)\n",
    "print(f'Tamaño de X_preprocessed: {X_preprocessed.shape}'\n",
    "      if isinstance(X_preprocessed, scipy.sparse.csr.csr_matrix)\n",
    "      else \"El valor retornado no es una matriz sparse válida.\")"
   ]
  },
  {
   "cell_type": "markdown",
   "metadata": {
    "id": "TBuMmWRFEjV8"
   },
   "source": [
    "**Salida esperada:**\n",
    "\n",
    "```\n",
    "Tamaño de X_preprocessed: (1000, 63)\n",
    "```"
   ]
  },
  {
   "cell_type": "code",
   "execution_count": null,
   "metadata": {
    "id": "AJh8yXkJMUC2"
   },
   "outputs": [],
   "source": [
    "#TEST_CELL\n",
    "# 1. Separar el conjunto de datos en la forma X, y.\n",
    "X_raw, _ = separar_X_y(credit_german_df)\n",
    "assert (isinstance(X_raw, pd.DataFrame) and X_raw.shape == (1000, 18)), \"Ej 1. Revise el resultado del ejercicio 1.\"\n",
    "\n",
    "X_preprocessed, tf = preprocesar(X_raw)\n",
    "\n",
    "print(tf.named_transformers_.keys()\n",
    "      if isinstance(X_preprocessed, scipy.sparse.csr.csr_matrix)\n",
    "      else \"El valor retornado no es una matriz sparse válida.\")"
   ]
  },
  {
   "cell_type": "markdown",
   "metadata": {
    "id": "RgWL6rmcMbG2"
   },
   "source": [
    "**Salida esperada:**\n",
    "\n",
    "```\n",
    "dict_keys(['onehot', 'scaler'])\n",
    "```"
   ]
  },
  {
   "cell_type": "code",
   "execution_count": null,
   "metadata": {
    "id": "AMCgxXamE-AD"
   },
   "outputs": [],
   "source": [
    "#TEST_CELL\n",
    "# 1. Separar el conjunto de datos en la forma X, y.\n",
    "X_raw, _ = separar_X_y(credit_german_df)\n",
    "assert (isinstance(X_raw, pd.DataFrame) and X_raw.shape == (1000, 18)), \"Ej 1. Revise el resultado del ejercicio 1.\"\n",
    "\n",
    "X_preprocessed, tf = preprocesar(X_raw)\n",
    "\n",
    "print('Primeros valores de X_preprocessed: ')\n",
    "print(X_preprocessed[0]\n",
    "      if isinstance(X_preprocessed, scipy.sparse.csr.csr_matrix)\n",
    "      else \"- El valor retornado no es una matriz sparse válida.\")"
   ]
  },
  {
   "cell_type": "markdown",
   "metadata": {
    "id": "upQzwuRmFTIA"
   },
   "source": [
    "**Salida esperada**:\n",
    "> **Nota:** Note que la salida es distinta a la que tendría un arreglo normal. Esto es debido a que el transformador **`OneHotEncoder`** retorna por defecto una matriz de tipo [\"_dispersa_\" o *sparse* de _SciPy_](https://docs.scipy.org/doc/scipy/reference/sparse.html). Esta es usada cuando la matriz que representa está compuesta por una gran cantidad de valores en $0$, como en el caso de _One Hot Encoder_.\n",
    "\n",
    "```\n",
    "  (0, 1)\t1.0\n",
    "  (0, 5)\t1.0\n",
    "  (0, 15)\t1.0\n",
    "  (0, 23)\t1.0\n",
    "  (0, 27)\t1.0\n",
    "  (0, 32)\t1.0\n",
    "  (0, 35)\t1.0\n",
    "  (0, 39)\t1.0\n",
    "  (0, 41)\t1.0\n",
    "  (0, 44)\t1.0\n",
    "  (0, 49)\t1.0\n",
    "  (0, 51)\t1.0\n",
    "  (0, 54)\t1.0\n",
    "  (0, 57)\t1.0\n",
    "  (0, 59)\t1.0\n",
    "  (0, 60)\t-1.2364778603818776\n",
    "  (0, 61)\t-0.7451314133870967\n",
    "  (0, 62)\t2.7664564848025224\n",
    "```"
   ]
  },
  {
   "cell_type": "markdown",
   "metadata": {
    "id": "St3JH7vUIrcI"
   },
   "source": [
    "<details>    \n",
    "<summary>\n",
    "    <font size=\"3\" color=\"darkgreen\"><b>Pista 1</b></font>\n",
    "</summary>\n",
    "<p>\n",
    "\n",
    "* Use el método **`select_dtypes([dtype])`** para obtener un _DataFrame_ con sólo las variables que correspondan con el tipo indicado en la variable **`dtype`**. En este caso, puede considerar que las variables categóricas tienen _dtype_ **`object`** y las numéricas, al tener todas valores enteros, dtype **`int64`**.\n"
   ]
  },
  {
   "cell_type": "markdown",
   "metadata": {
    "id": "Mcsi5Yhw1RBJ"
   },
   "source": [
    "<details>    \n",
    "<summary>\n",
    "    <font size=\"3\" color=\"darkgreen\"><b>Pista 2</b></font>\n",
    "</summary>\n",
    "\n",
    "* El atributo **`columns`** de un *DataFrame* permite acceder a los nombres de las columnas. Esto será de utilidad al indicar las columnas que deben ser consideradas por cada transformador de **`ColumnTransformer`**.  \n"
   ]
  },
  {
   "cell_type": "markdown",
   "metadata": {
    "id": "TjR-sb4lH0Ux"
   },
   "source": [
    "## **4. Obtenga el porcentaje de ejemplos con clase `good` de cada grupo.**\n",
    "---\n",
    "Dado el propósito original del análisis de distinguir entre clientes con buen riesgo y mal riesgo, vamos a realizar un modelo no supervisado de agrupamiento $k$-_means_ con $k$ igual a $2$. A partir de este queremos evaluar la tendencia de cada grupo a ser aceptado o rechazado por la entidad que emite el crédito, según los datos de la caracterización real. Para esto vamos a realizar el análisis de cada grupo obtenido de manera no supervisada, calculando el porcentaje de sus registros que fueron etiquetados con riesgo real **`'good'`**.\n",
    "\n",
    "Complete la función **`proporcion_cluster`** de tal manera que reciba las etiquetas reales codificadas, las etiquetas de grupo del agrupamiento, un número **`i`** y retorne el porcentaje de ejemplos en el $i$-ésimo grupo con clase **`'good'`**.\n",
    "\n",
    "**Entrada:**\n",
    "\n",
    "* **`model`**: modelo de agrupamiento **`KMeans`** entrenado con $2$ grupos.\n",
    "* **`X`**: arreglo sparse de _SciPy_ o regular de _NumPy_ con la matriz de datos reales sobre la cual realizar la predicción del agrupamiento.\n",
    "* **`y`**: arreglo de _NumPy_ con el vector de etiquetas reales, donde el valor $1$ corresponde a la categoría **`'good'`** y $0$ a la categoría **`'bad'`**.\n",
    "\n",
    "**Salida:**\n",
    "\n",
    "* **`ratios`**: lista de números reales de tamaño $k$ con el porcentaje de registros con valor $1$ (categoría **`'good'`**) de cada grupo."
   ]
  },
  {
   "cell_type": "code",
   "execution_count": null,
   "metadata": {
    "id": "ht8Kh2Ab3f-y"
   },
   "outputs": [],
   "source": [
    "# FUNCIÓN CALIFICADA proporcion_cluster:\n",
    "\n",
    "def proporcion_cluster(model, X, y):\n",
    "  \"\"\"\n",
    "  Entradas:\n",
    "    model: modelo KMeans entrenado con 2 grupos.\n",
    "    X: arreglo sparse de SciPy o regular de NumPy con la matriz de datos preprocesados.\n",
    "    y: arreglo de NumPy con shape (n,): las etiquetas reales 0 (bad) o 1 (good).\n",
    "  Retorna:\n",
    "    ratios: lista de porcentajes de créditos con etiqueta 1 (good) del i-esimo cluster.\n",
    "  \"\"\"\n",
    "\n",
    "  ### ESCRIBA SU CÓDIGO AQUÍ ### (~ 2-4 líneas de código)\n",
    "  ratios = None\n",
    "\n",
    "  ### FIN DEL CÓDIGO ###\n",
    "  return ratios"
   ]
  },
  {
   "cell_type": "code",
   "execution_count": null,
   "metadata": {
    "id": "lypFHLi-ptvU"
   },
   "outputs": [],
   "source": [
    "#TEST_CELL\n",
    "from sklearn.cluster import KMeans\n",
    "\n",
    "# 1. Separar el conjunto de datos en la forma X, y.\n",
    "X_raw, y_raw = separar_X_y(credit_german_df)\n",
    "assert (isinstance(X_raw, pd.DataFrame) and isinstance(y_raw, pd.Series)\n",
    "      and X_raw.shape == (1000, 18) and y_raw.shape == (1000, )), \"Ej 1. Revise el resultado del ejercicio 1.\"\n",
    "\n",
    "# 2. Codificación de las etiquetas en valores binarios\n",
    "y = codificar(y_raw)\n",
    "assert isinstance(y, np.ndarray) and y.shape[0] > 0, \"Ej 2. Revise el resultado del ejercicio 2.\"\n",
    "\n",
    "# 3. Preprocesamiento de la matriz de entrada.\n",
    "X, _ = preprocesar(X_raw)\n",
    "assert isinstance(X, scipy.sparse.csr.csr_matrix) and\n",
    "        (X.shape[1] > X_raw.shape[1]),\"Ej 3. Revise el resultado del ejercicio 3.\"\n",
    "\n",
    "k = 2\n",
    "model = KMeans(n_clusters= 2, random_state=24)\n",
    "model.fit(X)\n",
    "\n",
    "ratios = proporcion_cluster(model, X, y)\n",
    "try:\n",
    "  for i, ratio in enumerate(ratios):\n",
    "    print(f'Grupo: {i}, porcentaje: {ratio:.5f}')\n",
    "except Exception as e:\n",
    "  print(e)\n",
    "  print(\"El valor retornado no es un iterable válido.\")"
   ]
  },
  {
   "cell_type": "markdown",
   "metadata": {
    "id": "wxBU196ByRgn"
   },
   "source": [
    "**Salida esperada**:\n",
    "\n",
    "```\n",
    "Grupo: 0, porcentaje: 0.74431\n",
    "Grupo: 1, porcentaje: 0.56917\n",
    "```"
   ]
  },
  {
   "cell_type": "markdown",
   "metadata": {
    "id": "ZNwLKNj2I8T8"
   },
   "source": [
    "<details>    \n",
    "<summary>\n",
    "    <font size=\"3\" color=\"darkgreen\"><b>Pista 1</b></font>\n",
    "</summary>\n",
    "\n",
    "* Use selección condicional de _NumPy_ para seleccionar los valores que correspondan."
   ]
  },
  {
   "cell_type": "markdown",
   "metadata": {
    "id": "LL8LVE4BVpN0"
   },
   "source": [
    "<details>    \n",
    "<summary>\n",
    "    <font size=\"3\" color=\"darkgreen\"><b>Pista 2</b></font>\n",
    "</summary>\n",
    "\n",
    "* Se puede calcular el porcentaje como la media, pues son valores binarios y nos interesa el porcentaje de ejemplos con valor $1$."
   ]
  },
  {
   "cell_type": "markdown",
   "metadata": {
    "id": "vpI7D3q0yYCc"
   },
   "source": [
    "## **5. Realice evaluación del desempeño interna con el coeficiente de silueta.**\n",
    "---\n",
    "Para caracterizar y segmentar a los aplicantes de crédito del conjunto de datos vamos a construir modelos de agrupamiento basados en el algoritmo $k$-_means_ con distintos valores de $k$ y realizar un experimento de evaluación de su desempeño de manera interna con el coeficiente de silueta.\n",
    "\n",
    "Complete la función **`experimento_silueta`** de tal manera que reciba los datos preprocesados (**`X`**), un iterable con los valores de $k$ a explorar (**`K`**) y una semilla aleatoria **`seed`** para la construcción de los modelos **`KMeans`**, y retorne una lista o arreglo con los $n_k$ coeficientes de silueta obtenidos del agrupamiento de cada uno de los modelos.\n",
    "\n",
    "\n",
    "**Entrada:**\n",
    "* **`X`**: arreglo sparse de _SciPy_ o regular de _NumPy_ con tamaño $(n, m)$ con valores numéricos.\n",
    "* **`K`**: colección ordenada (lista, tupla o arreglo de _NumPy_) de números enteros de tamaño $n_k$ usado como el hiperparámetro $k$ del modelo $k$-_means_.\n",
    "* **`seed`**: número real con la semilla aleatoria para la declaración y ejecución del modelo **`KMeans`**.\n",
    "\n",
    "**Salida:**\n",
    "* **`silhouette`** colección ordenada (lista, tupla o arreglo de _NumPy_) de números reales correspondientes al coeficiente de silueta del modelo **`KMeans`** entrenado en cada iteración.\n",
    "\n"
   ]
  },
  {
   "cell_type": "code",
   "execution_count": null,
   "metadata": {
    "id": "ngHOcOkqki2T"
   },
   "outputs": [],
   "source": [
    "# FUNCIÓN CALIFICADA experimento_silueta:\n",
    "\n",
    "# Funciones utilizadas en el ejercicio.\n",
    "from sklearn.cluster import KMeans\n",
    "from sklearn.metrics import silhouette_score\n",
    "\n",
    "def experimento_silueta(X, K,\n",
    "# ¡No modifique los valores por defecto de los argumentos!\n",
    "                        seed = 100):\n",
    "  \"\"\"\n",
    "  Entradas:\n",
    "    X: arreglo sparse de SciPy o regular de NumPy con el conjunto\n",
    "                de datos preprocesado para realizar agrupamiento.\n",
    "    K: iterable con los valores de k.\n",
    "    seed: semilla aleatoria para KMeans.\n",
    "  Retorna:\n",
    "    silhouette: Lista con el coeficiente de silueta de los agrupamientos resultantes.\n",
    "  \"\"\"\n",
    "  ### ESCRIBA SU CÓDIGO AQUÍ ### (~ 5-6 líneas de código)\n",
    "\n",
    "  silhouette = None\n",
    "\n",
    "  ### FIN DEL CÓDIGO ###\n",
    "  return silhouette"
   ]
  },
  {
   "cell_type": "markdown",
   "metadata": {
    "id": "-0bHQCULb3N-"
   },
   "source": [
    "Ejecute la siguiente celda para probar su código:\n",
    "\n",
    "> **Nota:** la construcción de los modelos **`KMeans`** puede tardar un poco."
   ]
  },
  {
   "cell_type": "code",
   "execution_count": null,
   "metadata": {
    "id": "ybhIc6_poNFc"
   },
   "outputs": [],
   "source": [
    "#TEST_CELL\n",
    "\n",
    "# 1. Separar el conjunto de datos en la forma X, y.\n",
    "X_raw, y_raw = separar_X_y(credit_german_df)\n",
    "assert (isinstance(X_raw, pd.DataFrame) and isinstance(y_raw, pd.Series)\n",
    "      and X_raw.shape == (1000, 18) and y_raw.shape == (1000, )), \"Ej 1. Revise el resultado del ejercicio 1.\"\n",
    "\n",
    "# 3. Preprocesamiento de la matriz de entrada.\n",
    "X, _ = preprocesar(X_raw)\n",
    "assert isinstance(X, scipy.sparse.csr.csr_matrix) and X.shape[1] > X_raw.shape[1], \"Ej 3. Revise el resultado del ejercicio 3.\"\n",
    "\n",
    "K = np.arange(2, 11)\n",
    "silhouette = experimento_silueta(X, K)\n",
    "try:\n",
    "  print(np.round(silhouette, 4))\n",
    "except Exception as e:\n",
    "  print(e)\n",
    "  print(\"El valor retornado no es un iterable válido.\")"
   ]
  },
  {
   "cell_type": "markdown",
   "metadata": {
    "id": "E0Y54_vktEjv"
   },
   "source": [
    "**Salida esperada**:\n",
    "\n",
    "```\n",
    "[0.1442 0.0981 0.0802 0.0714 0.0683 0.067  0.0564 0.0554 0.0563]\n",
    "```"
   ]
  },
  {
   "cell_type": "code",
   "execution_count": null,
   "metadata": {
    "cellView": "form",
    "id": "Qg5w4pub72Pu"
   },
   "outputs": [],
   "source": [
    "#TEST_CELL\n",
    "#@markdown **Celda de pruebas**: Ejecute esta celda para probar de forma gráfica el resultado obtenido en la celda anterior.\n",
    "try:\n",
    "  plt.figure(dpi=100, figsize=(8, 4))\n",
    "  plt.plot(K, silhouette, 'bx-')\n",
    "  plt.xticks(K)\n",
    "  plt.xlabel('k')\n",
    "  plt.ylabel('Coeficiente de silueta')\n",
    "  plt.title(f'K vs Coeficiente de silueta')\n",
    "  plt.show()\n",
    "except Exception as e:\n",
    "  print(\"El valor retornado no es válido. Asegúrese de obtener una respuesta correcta y de ejecutar la celda de prueba anterior antes de ejecutar esta celda.\")"
   ]
  },
  {
   "cell_type": "markdown",
   "metadata": {
    "id": "N-XK970fdUPi"
   },
   "source": [
    "**Salida esperada:**\n",
    "\n",
    "![t4e5.png](data:image/png;base64,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)"
   ]
  },
  {
   "cell_type": "markdown",
   "metadata": {
    "id": "f5TgXz4wuTpR"
   },
   "source": [
    "> **Pregunta**: ¿Qué valor de $k$ escogería?"
   ]
  },
  {
   "cell_type": "markdown",
   "metadata": {
    "id": "Kj0lOGbmIotF"
   },
   "source": [
    "<details>    \n",
    "<summary>\n",
    "    <font size=\"3\" color=\"darkgreen\"><b>Pista 1</b></font>\n",
    "</summary>\n",
    "\n",
    "* Itere sobre cada valor de **`K`** con un bucle **`for`**, entrene un modelo por cada **`k`** y guarde los resultados en una lista.\n"
   ]
  },
  {
   "cell_type": "markdown",
   "metadata": {
    "id": "RBC4nq-YWRgn"
   },
   "source": [
    "<details>    \n",
    "<summary>\n",
    "    <font size=\"3\" color=\"darkgreen\"><b>Pista 2</b></font>\n",
    "</summary>\n",
    "\n",
    "* Obtenga el coeficiente de silueta de un modelo determinado con el método **`silhouette_score`** del módulo **`metrics`**.\n"
   ]
  },
  {
   "cell_type": "markdown",
   "metadata": {
    "id": "UfWau34Ayb-P"
   },
   "source": [
    "## **6. Realice evaluación del desempeño externa con el índice de Rand.**\n",
    "---\n",
    "Dado que tenemos a nuestro alcance las categorías reales de la clasificación, podemos realizar un experimento de evaluación del desempeño de manera externa.\n",
    "\n",
    "En esta ocasión vamos a realizar un experimento análogo al del ejercicio $4$, evaluando el desempeño por medio del índice ajustado de _Rand_.\n",
    "\n",
    "Complete la función **`experimento_rand`** de tal manera que reciba los datos preprocesados (**`X`**), un iterable con los valores de $k$ a explorar (**`K`**) y una semilla aleatoria **`seed`** para la construcción de los modelos **`KMeans`**, y retorne una lista o arreglo con los $n_k$ índices ajustados de _Rand_ obtenidos del agrupamiento de cada uno de los modelos.\n",
    "\n",
    "\n",
    "**Entrada:**\n",
    "* **`X`**: arreglo sparse de _SciPy_ o regular de _NumPy_ con tamaño $(n, m)$ con valores numéricos.\n",
    "* **`y`**: arreglo de _NumPy_ de tamaño $(n, )$ con las etiquetas reales del conjunto de datos.\n",
    "* **`K`**: colección ordenada (lista, tupla o arreglo de _NumPy_) de números enteros de tamaño $n_k$ usado como el hiperparámetro $k$ del modelo $k$-_means_.\n",
    "* **`seed`**: número real con la semilla aleatoria para la declaración y ejecución del modelo **`KMeans`**.\n",
    "\n",
    "**Salida:**\n",
    "* **`rand`** colección ordenada (lista, tupla o arreglo de _NumPy_) de números reales correspondientes al índice ajustado de _Rand_ del modelo **`KMeans`** entrenado en cada iteración."
   ]
  },
  {
   "cell_type": "code",
   "execution_count": null,
   "metadata": {
    "id": "rrhDfQdF5mk-"
   },
   "outputs": [],
   "source": [
    "# FUNCIÓN CALIFICADA experimento_silueta:\n",
    "\n",
    "# Funciones utilizadas en el ejercicio.\n",
    "from sklearn.cluster import KMeans\n",
    "from sklearn.metrics import adjusted_rand_score\n",
    "\n",
    "def experimento_rand(X, y, K,\n",
    "# ¡No modifique los valores por defecto de los argumentos!\n",
    "                        seed = 481):\n",
    "  \"\"\"\n",
    "  Entradas:\n",
    "    X: arreglo sparse de SciPy o regular de NumPy con el conjunto\n",
    "                de datos preprocesado para realizar agrupamiento.\n",
    "    y: arreglo de NumPy con las etiquetas preprocesadas del conjunto de datos.\n",
    "    K: iterable con los valores de k para probar.\n",
    "    seed: semilla aleatoria para KMeans.\n",
    "  Retorna:\n",
    "    rand: iterable con el coeficiente ajustado de Rand de los agrupamientos resultantes.\n",
    "  \"\"\"\n",
    "  ### ESCRIBA SU CÓDIGO AQUÍ ### (~ 5 - 6 líneas de código)\n",
    "\n",
    "  rand = None\n",
    "\n",
    "  ### FIN DEL CÓDIGO ###\n",
    "  return rand"
   ]
  },
  {
   "cell_type": "code",
   "execution_count": null,
   "metadata": {
    "id": "6oZTZE0b9NgU"
   },
   "outputs": [],
   "source": [
    "#TEST_CELL\n",
    "\n",
    "# 1. Separar el conjunto de datos en la forma X, y.\n",
    "X_raw, y_raw = separar_X_y(credit_german_df)\n",
    "assert (isinstance(X_raw, pd.DataFrame) and isinstance(y_raw, pd.Series)\n",
    "      and X_raw.shape == (1000, 18) and y_raw.shape == (1000, )), \"Ej 1. Revise el resultado del ejercicio 1.\"\n",
    "\n",
    "# 2. Codificación de las etiquetas en valores binarios\n",
    "y = codificar(y_raw)\n",
    "assert isinstance(y, np.ndarray) and y.shape[0] > 0, \"Ej 2. Revise el resultado del ejercicio 2.\"\n",
    "\n",
    "# 3. Preprocesamiento de la matriz de entrada.\n",
    "X, _ = preprocesar(X_raw)\n",
    "assert isinstance(X, scipy.sparse.csr.csr_matrix) and X.shape[1] > X_raw.shape[1], \"Ej 3. Revise el resultado del ejercicio 3.\"\n",
    "\n",
    "K = np.arange(2, 11)\n",
    "rand = experimento_rand(X, y, K)\n",
    "\n",
    "try:\n",
    "  print(np.round(rand, 4))\n",
    "except Exception as e:\n",
    "  print(e)\n",
    "  print(\"El valor retornado no es un iterable válido.\")"
   ]
  },
  {
   "cell_type": "markdown",
   "metadata": {
    "id": "ZlIgV0g4tH2C"
   },
   "source": [
    "**Salida esperada:**\n",
    "\n",
    "```\n",
    "[0.0706 0.0235 0.0126 0.0101 0.0126 0.0118 0.0141 0.021  0.0135]\n",
    "```"
   ]
  },
  {
   "cell_type": "code",
   "execution_count": null,
   "metadata": {
    "cellView": "form",
    "id": "IAYSx3HmdjUe"
   },
   "outputs": [],
   "source": [
    "#TEST_CELL\n",
    "#@markdown **Celda de pruebas**: Ejecute esta celda para probar de forma gráfica el resultado obtenido en la celda anterior.\n",
    "try:\n",
    "  plt.figure(dpi=100, figsize=(8, 4))\n",
    "  plt.plot(K, rand, 'bx-')\n",
    "  plt.xticks(K)\n",
    "  plt.xlabel('k')\n",
    "  plt.ylabel('Índice ajustado de Rand')\n",
    "  plt.title(f'K vs Índice ajustado de Rand')\n",
    "  plt.show()\n",
    "except Exception as e:\n",
    "  print(\"El valor retornado no es válido. Asegúrese de obtener una respuesta correcta y de ejecutar la celda de prueba anterior antes de ejecutar esta celda.\")"
   ]
  },
  {
   "cell_type": "markdown",
   "metadata": {
    "id": "Svf3-jf6egTx"
   },
   "source": [
    "**Salida esperada:**\n",
    "\n",
    "![t4e6.png](data:image/png;base64,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)"
   ]
  },
  {
   "cell_type": "markdown",
   "metadata": {
    "id": "sU6maoNzuoHA"
   },
   "source": [
    "> **Pregunta**: ¿Qué valor de $k$ escogería?"
   ]
  },
  {
   "cell_type": "markdown",
   "metadata": {
    "id": "8YEihuVLWjo_"
   },
   "source": [
    "<details>    \n",
    "<summary>\n",
    "    <font size=\"3\" color=\"darkgreen\"><b>Pista 1</b></font>\n",
    "</summary>\n",
    "\n",
    "* Itere sobre cada valor de **`K`** con un bucle **`for`**, entrene un modelo por cada **`k`** y guarde los resultados en una lista.\n"
   ]
  },
  {
   "cell_type": "markdown",
   "metadata": {
    "id": "sv92x18VWBB_"
   },
   "source": [
    "<details>    \n",
    "<summary>\n",
    "    <font size=\"3\" color=\"darkgreen\"><b>Pista 2</b></font>\n",
    "</summary>\n",
    "\n",
    "* Obtenga el índice de _Rand_ de un modelo determinado con el método **`ajusted_rand_score`** del módulo **`metrics`**.\n"
   ]
  },
  {
   "cell_type": "markdown",
   "metadata": {
    "id": "Y0eaHEBLATR7"
   },
   "source": [
    "## **7. Interprete los centroides de cada grupo**\n",
    "---\n",
    "Con el objetivo de interpretar el agrupamiento encontrado, nos interesa inspeccionar los elementos representativos o centroides de cada grupo e  interpretar los valores promedio por variable obtenidos.\n",
    "\n",
    "Complete la función **`centroides`** de tal manera que reciba un modelo **`KMeans`** entrenado, un número entero **`col`** y un número entero **`group`** que representen la posición de la variable en la que estamos interesado y el índice del grupo a explorar.\n",
    "\n",
    "La función debe retornar el valor de la variable ubicada en la posición **`col`** del **`group`**-ésimo grupo.\n",
    "\n",
    "**Entrada:**\n",
    "\n",
    "* **`model`**: modelo de agrupamiento **`KMeans`** ajustado sobre **`X`**.\n",
    "* **`group`**: número entero con el índice del grupo sobre el cual calcular el centroide.\n",
    "* **`col`**: número entero con el índice de la columna del arreglo **`X`** correspondiente a la variable en la cual estamos interesados.\n",
    "\n",
    "**Salida:**\n",
    "\n",
    "* **`centroid`**: número real con el valor de la variable **`col`** del centroide del grupo **`group`** obtenido del modelo **`model`**.\n"
   ]
  },
  {
   "cell_type": "code",
   "execution_count": null,
   "metadata": {
    "id": "6amiVPuhATR7"
   },
   "outputs": [],
   "source": [
    "# FUNCIÓN CALIFICADA centroides:\n",
    "\n",
    "def centroides(model, group, col):\n",
    "  \"\"\"\n",
    "  Entrada:\n",
    "    model: modelo KMeans ajustado a los datos.\n",
    "    group: número entero con el índice del centroide.\n",
    "    col:   número entero con el índice de la variable del centroide.\n",
    "  Retorna:\n",
    "    centroid: número real con el valor de la variable 'col' del centroide 'group'.\n",
    "  \"\"\"\n",
    "  ### ESCRIBA SU CÓDIGO AQUÍ ### (~ 3-4 líneas de código)\n",
    "\n",
    "  centroid = None\n",
    "\n",
    "  ### FIN DEL CÓDIGO ###\n",
    "  return centroid"
   ]
  },
  {
   "cell_type": "markdown",
   "metadata": {
    "id": "-mgPXeZyATR8"
   },
   "source": [
    "Para evaluar el resultado de la función, vamos a inspeccionar los valores de dos variables para cada centroide. Estas son:\n",
    "\n",
    "- **`radio/tv`** (ubicada en la columna $15$) es uno de los valores posibles de la característica categórica **`purpose`**. Debido a que se realizó _One Hot Encoding_ de todas las características categóricas, la característica **`radio/tv`** de un centroide corresponde a el porcentaje de personas del grupo que pidieron un crédito para comprar una radio o una televisión.\n",
    "\n",
    "\n",
    "Use la siguiente celda para probar su código:"
   ]
  },
  {
   "cell_type": "code",
   "execution_count": null,
   "metadata": {
    "colab": {
     "base_uri": "https://localhost:8080/"
    },
    "id": "QMjHMDa2ATR9",
    "outputId": "47b5bd4f-f201-4773-e611-ad5c761e414a"
   },
   "outputs": [
    {
     "name": "stdout",
     "output_type": "stream",
     "text": [
      "Grupo \t radio/tv\n",
      "0 \t 0.31191\n",
      "1 \t 0.18577\n"
     ]
    }
   ],
   "source": [
    "#TEST_CELL\n",
    "\n",
    "# 1. Separar el conjunto de datos en la forma X, y.\n",
    "X_raw, y_raw = separar_X_y(credit_german_df)\n",
    "assert (isinstance(X_raw, pd.DataFrame) and isinstance(y_raw, pd.Series)\n",
    "      and X_raw.shape == (1000, 18) and y_raw.shape == (1000, )), \"Ej 1. Revise el resultado del ejercicio 1.\"\n",
    "\n",
    "# 2. Codificación de las etiquetas en valores binarios\n",
    "y = codificar(y_raw)\n",
    "assert isinstance(y, np.ndarray) and y.shape[0] > 0, \"Ej 2. Revise el resultado del ejercicio 2.\"\n",
    "\n",
    "# 3. Preprocesamiento de la matriz de entrada.\n",
    "X, tf = preprocesar(X_raw)\n",
    "assert (isinstance(X, scipy.sparse.csr.csr_matrix) and\n",
    "       (X.shape[1] > X_raw.shape[1]) and\n",
    "       isinstance(tf, sklearn.compose._column_transformer.ColumnTransformer\n",
    "       )), \"Ej 3. Revise el resultado del ejercicio 3.\"\n",
    "\n",
    "k = 2\n",
    "model = KMeans(n_clusters= k, random_state=24)\n",
    "model.fit(X)\n",
    "\n",
    "try:\n",
    "  print('Grupo \\t radio/tv')\n",
    "  for i in range(2):\n",
    "    print(f'{i} \\t {centroides(model, i, 15):.5f}' )\n",
    "except Exception as e:\n",
    "  print(e)\n",
    "  print(\"El valor retornado no es un iterable válido.\")"
   ]
  },
  {
   "cell_type": "markdown",
   "metadata": {
    "id": "kFkawqEbATR_"
   },
   "source": [
    "**Salida esperada**:\n",
    "\n",
    "```\n",
    "Grupo \t radio/tv\n",
    "0 \t     0.31191\n",
    "1 \t     0.18577\n",
    "```"
   ]
  },
  {
   "cell_type": "markdown",
   "metadata": {
    "id": "_2tEEmT6Lg9B"
   },
   "source": [
    "La segunda variable es:\n",
    "- **`disc_duration`** (ubicada en la columna $60$) corresponde a la duración del crédito en meses. De esta manera, el valor de **`disc_duration`** de un centroide corresponde a la media de este valor para los ejemplos del grupo relacionado. Sin embargo, dado que los datos fueron reescalados en el preprocesamiento el valor mostrado no corresponde al valor real de la media. Para corregir esto, podemos utilizar el transformador **`StandarScaler`** usado en el proceso para obtener el valor en su escala original de la siguiente forma:\n",
    "\n",
    "  ```python\n",
    "  centroide = centroides(model, i, 60)\n",
    "  scaler = tf.named_transformers_['scaler']\n",
    "  centroide_original = scaler.inverse_transform([[centroide, 0, 0]])[0, 0]\n",
    "```\n",
    "\n",
    "Use la siguiente celda para probar su código:"
   ]
  },
  {
   "cell_type": "code",
   "execution_count": null,
   "metadata": {
    "colab": {
     "base_uri": "https://localhost:8080/"
    },
    "id": "l5yI2jloMxXf",
    "outputId": "2a170f6d-1267-42d4-a156-e015699acdc1"
   },
   "outputs": [
    {
     "name": "stdout",
     "output_type": "stream",
     "text": [
      "Grupo \t disc_duration \t disc_duration (escala original)\n",
      "0 \t -0.42490 \t 15.78179\n",
      "1 \t 1.25454 \t 36.02372\n"
     ]
    }
   ],
   "source": [
    "#TEST_CELL\n",
    "\n",
    "# 1. Separar el conjunto de datos en la forma X, y.\n",
    "X_raw, y_raw = separar_X_y(credit_german_df)\n",
    "assert (isinstance(X_raw, pd.DataFrame) and isinstance(y_raw, pd.Series)\n",
    "      and X_raw.shape == (1000, 18) and y_raw.shape == (1000, )), \"Ej 1. Revise el resultado del ejercicio 1.\"\n",
    "\n",
    "# 2. Codificación de las etiquetas en valores binarios\n",
    "y = codificar(y_raw)\n",
    "assert isinstance(y, np.ndarray) and y.shape[0] > 0, \"Ej 2. Revise el resultado del ejercicio 2.\"\n",
    "\n",
    "# 3. Preprocesamiento de la matriz de entrada.\n",
    "X, tf = preprocesar(X_raw)\n",
    "assert (isinstance(X, scipy.sparse.csr.csr_matrix) and\n",
    "       (X.shape[1] > X_raw.shape[1]) and\n",
    "       isinstance(tf, sklearn.compose._column_transformer.ColumnTransformer\n",
    "       )), \"Ej 3. Revise el resultado del ejercicio 3.\"\n",
    "\n",
    "k = 2\n",
    "model = KMeans(n_clusters= k, random_state=24)\n",
    "model.fit(X)\n",
    "try:\n",
    "  print('Grupo \\t disc_duration \\t disc_duration (escala original)')\n",
    "  for i in range(2):\n",
    "    centroide = centroides(model, i, 60)\n",
    "    scaler = tf.named_transformers_['scaler']\n",
    "    centroide_original = scaler.inverse_transform([[centroide, 0, 0]])[0, 0]\n",
    "    print(f'{i} \\t {centroide:.5f} \\t {centroide_original:.5f}' )\n",
    "except Exception as e:\n",
    "  print(e)\n",
    "  print(\"El valor retornado no es un iterable válido.\")"
   ]
  },
  {
   "cell_type": "markdown",
   "metadata": {
    "id": "rybGUUKmQk3Z"
   },
   "source": [
    "**Salida esperada**:\n",
    "\n",
    "```\n",
    "Grupo \t disc_duration \t disc_duration (escala original)\n",
    "0 \t     -0.42490 \t      15.78179\n",
    "1 \t     1.25454 \t       36.02372\n",
    "```"
   ]
  },
  {
   "cell_type": "markdown",
   "metadata": {
    "id": "BjE07BNeATSA"
   },
   "source": [
    "> **Pregunta:** ¿Puede encontrar información importante en estos centroides?"
   ]
  },
  {
   "cell_type": "markdown",
   "metadata": {
    "id": "8ppuuViZATSA"
   },
   "source": [
    "<details>    \n",
    "<summary>\n",
    "    <font size=\"3\" color=\"darkgreen\"><b>Pista 1</b></font>\n",
    "</summary>\n",
    "\n",
    "* Puede obtener los centroides de un modelo $k$-_means_ entrenado con el atributo **`cluster_centers_`**. Obtenga una copia de ese arreglo y retorne el valor ubicado en el índice **`group, col`**."
   ]
  },
  {
   "cell_type": "markdown",
   "metadata": {
    "id": "QrU5ELZuMyF6"
   },
   "source": [
    "**¡Felicitaciones!** Ha terminado la tarea de la Unidad 4. ¡Buen trabajo!\n",
    "\n",
    "## **Entrega**\n",
    "\n",
    "Para entregar el notebook por favor haga lo siguiente:\n",
    "1. Descargue el notebook (`Archivo` -> `Descargar .ipynb`).\n",
    "2. Ingrese a Moodle.\n",
    "3. Realice el envío del *notebook* que descargó en la tarea (o quiz) correspondiente.\n",
    "4. Recuerde que si tiene algún error, puede hacer múltiples intentos de envío en UNCode."
   ]
  },
  {
   "cell_type": "markdown",
   "metadata": {
    "id": "1_HFt5FsQ5ym"
   },
   "source": [
    "## **Créditos**\n",
    "---\n",
    "\n",
    "* **Profesor:** [Fabio Augusto González](https://dis.unal.edu.co/~fgonza/)\n",
    "* **Asistentes docentes:**\n",
    "  * Miguel Ángel Ortiz Marín\n",
    "  * Alberto Nicolai Romero Martínez\n",
    "\n",
    "**Universidad Nacional de Colombia** - *Facultad de Ingeniería*"
   ]
  }
 ],
 "metadata": {
  "colab": {
   "collapsed_sections": [
    "1_HFt5FsQ5ym"
   ],
   "provenance": [],
   "toc_visible": true
  },
  "kernelspec": {
   "display_name": "Python 3",
   "name": "python3"
  },
  "language_info": {
   "name": "python"
  }
 },
 "nbformat": 4,
 "nbformat_minor": 0
}
