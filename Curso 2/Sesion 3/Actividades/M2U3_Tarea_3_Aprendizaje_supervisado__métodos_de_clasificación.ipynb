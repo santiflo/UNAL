{
  "nbformat": 4,
  "nbformat_minor": 0,
  "metadata": {
    "colab": {
      "provenance": [],
      "toc_visible": true
    },
    "kernelspec": {
      "name": "python3",
      "display_name": "Python 3"
    },
    "language_info": {
      "name": "python"
    }
  },
  "cells": [
    {
      "cell_type": "markdown",
      "metadata": {
        "id": "fb9pUStUq6xf"
      },
      "source": [
        "<img src = \"https://drive.google.com/uc?export=view&id=1z-EW8gVlIg4Zcp_HvN-BElP0KknNnfML\" alt = \"Encabezado MLDS\" width = \"100%\">  </img>"
      ]
    },
    {
      "cell_type": "markdown",
      "metadata": {
        "id": "6_GpZz1CNKaU"
      },
      "source": [
        "# **Tarea 3: Aprendizaje supervisado: métodos de clasificación**\n",
        "---\n",
        "\n",
        "En esta  tarea practicará las habilidades adquiridas aplicando métodos de clasificación y regresión. En el primer ejercicio utilizaremos el *dataset* **digits** de dígitos escritos a mano usando las utilidades de carga de *Scikit-Learn*. En el segundo ejercicio utilizaremos el [*dataset sunspots* de manchas solares observadas mensualmente](https://machinelearningmastery.com/time-series-datasets-for-machine-learning/) obtenido de *Machine Learning Mastery* y atribuido a Andrews & Herzberg.\n",
        "\n",
        "> **Nota:** Esta tarea va a ser calificada en la plataforma **[UNCode](https://juezun.github.io/)**. Para esto, en cada ejercicio se indicará si es calificable o no, también los lugares donde debe escribir su código sin modificar lo demás con un aproximado de cantidad de líneas a escribir. No se preocupe si su código toma más líneas, esto es simplemente un aproximado destinado a que pueda replantear su estrategia si el código está tomando más de las esperadas. No es un requisito estricto y soluciones más largas también son válidas. Al finalizar, para realizar el envío (*submission*), descargue el notebook como un archivo **`.ipynb`** y haga su entrega a través de **Moodle**.\n",
        ">\n",
        "> **La tarea es incremental, es recomendable resolver los puntos en orden.**\n"
      ]
    },
    {
      "cell_type": "markdown",
      "metadata": {
        "id": "UygV6iCUN1w4"
      },
      "source": [
        "## **0. Dependencias**\n",
        "---\n",
        "Ejecute la siguiente celda para importar las librerías necesarias."
      ]
    },
    {
      "cell_type": "code",
      "metadata": {
        "id": "OXB7rHzqZJq0"
      },
      "source": [
        "# Importamos scikit-learn\n",
        "import sklearn"
      ],
      "execution_count": null,
      "outputs": []
    },
    {
      "cell_type": "code",
      "metadata": {
        "id": "UeHIJwQs9Ew1"
      },
      "source": [
        "# Importar librerías generales\n",
        "import numpy as np\n",
        "import pandas as pd\n",
        "\n",
        "# Ignoramos las advertencias o warnings.\n",
        "import warnings\n",
        "warnings.simplefilter(action='ignore')"
      ],
      "execution_count": null,
      "outputs": []
    },
    {
      "cell_type": "code",
      "metadata": {
        "id": "PUNZOIW7Nbti"
      },
      "source": [
        "#TEST_CELL\n",
        "# Configuramos el formato por defecto de la\n",
        "# librería de visualización Matplotlib.\n",
        "import matplotlib as mpl\n",
        "import seaborn as sns\n",
        "import matplotlib.pyplot as plt\n",
        "\n",
        "%matplotlib inline\n",
        "%config InlineBackend.figure_format = 'retina'\n",
        "sns.set_theme()"
      ],
      "execution_count": null,
      "outputs": []
    },
    {
      "cell_type": "code",
      "metadata": {
        "id": "W6uu6rfywoeK"
      },
      "source": [
        "#TEST_CELL\n",
        "!pip install -U plotly\n",
        "import plotly\n",
        "import plotly.express as px"
      ],
      "execution_count": null,
      "outputs": []
    },
    {
      "cell_type": "code",
      "metadata": {
        "id": "hMRTRILm9Hu8"
      },
      "source": [
        "#TEST_CELL\n",
        "!python --version\n",
        "print('NumPy', np.__version__)\n",
        "print('Pandas', pd.__version__)\n",
        "print('Matplotlib', mpl.__version__)\n",
        "print('Plotly', plotly.__version__)\n",
        "print('Scikit-Learn', sklearn.__version__)"
      ],
      "execution_count": null,
      "outputs": []
    },
    {
      "cell_type": "markdown",
      "metadata": {
        "id": "l_mkBH5sNBlZ"
      },
      "source": [
        "Este material fue creado con las siguientes versiones:\n",
        "\n",
        "* Python: 3.7.10\n",
        "* NumPy: 1.19.5\n",
        "* Pandas: 1.1.5\n",
        "* Matplotlib: 3.2.2\n",
        "* Plotly: 4.14.3\n",
        "* Scikit-Learn: 0.22.2.post"
      ]
    },
    {
      "cell_type": "markdown",
      "metadata": {
        "id": "fwVXEECN8yif"
      },
      "source": [
        "## **1. Clasificación de dígitos escritos a mano**\n",
        "---\n",
        "Una de las aplicaciones principales del aprendizaje automático es el procesamiento de imágenes en tiempo real. Existen *datasets* como [**MNIST**](http://yann.lecun.com/exdb/mnist/) construidos manualmente con datos clasificados manualmente, preparados para la aplicación de modelos computacionales.\n",
        "\n",
        "En esta ocasión utilizaremos el *dataset* **`digits`**, un conjunto de datos de \"juguete\" inspirado en la misma idea, que consiste en observaciones con imágenes de $8$ x $8$ pixeles de dígitos del $0$ al $9$ escritos a mano.\n",
        "\n",
        "El objetivo de este ejercicio es entrenar un modelo de clasificación supervisado basado en el algoritmo de **árboles de decisión** en donde a partir de una imagen de $8$ x $8$, genere una predicción de un número entero entre $0$ y $9$.\n",
        "\n",
        "Para cargar el conjunto de datos se utilizará la función **`load_digits`** del módulo **`sklearn.datasets`**."
      ]
    },
    {
      "cell_type": "code",
      "metadata": {
        "id": "NOVHQ6NCFwSb"
      },
      "source": [
        "#TEST_CELL\n",
        "from sklearn.datasets import load_digits\n",
        "\n",
        "X_digits, y_digits = load_digits(return_X_y= True)\n",
        "\n",
        "X_digits.shape, y_digits.shape"
      ],
      "execution_count": null,
      "outputs": []
    },
    {
      "cell_type": "code",
      "metadata": {
        "id": "vidIG-BAFPu5"
      },
      "source": [
        "#TEST_CELL\n",
        "pd.Series(y_digits).value_counts()"
      ],
      "execution_count": null,
      "outputs": []
    },
    {
      "cell_type": "markdown",
      "metadata": {
        "id": "T7nEpODxXXsS"
      },
      "source": [
        "$X$ tiene $64$ características, que corresponden a los $8 \\times 8$ pixeles de cada imagen. En este sentido, se considera una fila de la imagen después de la otra, con el píxel $9$ (índice $8$ del *dataset*) siendo el primer pixel de la segunda fila, y así sucesivamente construyendo un vector de una dimensión con la misma regla:\n",
        "\n",
        "$$index(i, j) = i + 8j$$\n",
        "\n",
        "Con $i$ siendo el número de la fila y $j$ el de la columna, empezando en $0$.\n",
        "\n",
        "A continuación, se muestra como al transformar una observación a la forma de $8 \\times 8$ (con el método **`reshape`** de *NumPy*) podemos visualizar cada imagen individualmente (usando el método **`imshow`** de *Matplotlib*)."
      ]
    },
    {
      "cell_type": "code",
      "metadata": {
        "id": "qXOjsjQt0IW2"
      },
      "source": [
        "#IGNORE_CELL\n",
        "l = 10 # Número de imágenes por lado en la matriz de imágenes\n",
        "\n",
        "fig, axes = plt.subplots(nrows = l, ncols = l, figsize = (14, 14))\n",
        "\n",
        "for i in range(l):\n",
        "  for j in range(l):\n",
        "    ind =  np.random.randint(X_digits.shape[0]) # Seleccionamos el índice de una imagen al azar\n",
        "    im = X_digits[i + j*l].reshape((8, 8)) # Retornamos la forma de la observación a dimensión 8x28\n",
        "    axes[i, j].axis('off')\n",
        "    axes[i, j].imshow(im, cmap = 'Greys')  # Mostramos en escala de grises cada pixel (enteros de 0 a 255)."
      ],
      "execution_count": null,
      "outputs": []
    },
    {
      "cell_type": "markdown",
      "metadata": {
        "id": "xHYdpwQtZTgQ"
      },
      "source": [
        "A cada una de estas imágenes le corresponde una etiqueta (el número entero que representa) que se busca predecir en $y$. Utilice la siguiente función para visualizar la etiqueta e imagen de una observación dada."
      ]
    },
    {
      "cell_type": "code",
      "metadata": {
        "id": "PGmyhB8x8IT7",
        "cellView": "form"
      },
      "source": [
        "#TEST_CELL\n",
        "#@title  { run: \"auto\" }\n",
        "#@markdown Con el siguiente *slider* puede variar entre las observaciones una a visualizar. Puede cambiar este valor por un número entre 0 y 1796. Elija el índice del arreglo que desea revisar:\n",
        "def digits_img(index, X, y):\n",
        "  im = X[index].reshape((8,8))\n",
        "  fig = px.imshow(im, title = f'<b>Etiqueta real: {y[index]}</b>', color_continuous_scale= 'dense',\n",
        "                  labels=dict(x=\"Fila (i)\", y=\"Columna (j)\", color=\"Tono\")\n",
        "                  )\n",
        "  fig.update_layout(\n",
        "    font = {'size': 27},\n",
        "    title={'x': 0.55, 'y': 0.915, 'xanchor': 'right'}\n",
        "    )\n",
        "  fig.show()\n",
        "\n",
        "# Mostrar la observación n-ésima del dataset con su etiqueta correspondiente.\n",
        "index = 1353 #@param {type:\"slider\", min:0, max:1796, step:1}\n",
        "\n",
        "digits_img(index, X_digits, y_digits)"
      ],
      "execution_count": null,
      "outputs": []
    },
    {
      "cell_type": "markdown",
      "metadata": {
        "id": "vExvW_T8HnJ7"
      },
      "source": [
        "En este ejercicio usted deberá aplicar la metodología discutida en el curso para entrenar un modelo que prediga el número escrito en la imagen."
      ]
    },
    {
      "cell_type": "markdown",
      "metadata": {
        "id": "SfXSRn0H8uI_"
      },
      "source": [
        "### **1.1. Particiones de entrenamiento y prueba de *digits***\n",
        "---\n",
        "\n",
        "Antes de continuar y como siempre, es importante definir primero los datos que serán usados para el entrenamiento y los que serán usados para evaluar el modelo.\n",
        "\n",
        "En este punto deberá implementar la función **`load_digits_train_test`**, que a partir de un número real **`p`** genere una partición de los datos del *dataset* *digits* en datos de entrenamiento (**`X_digits_train`** y **`y_digits_train`**) y de evaluación (**`X_digits_test`** y **`y_digits_test`**), en donde el tamaño del conjunto de entrenamiento corresponda al porcentaje **`p`** del total de datos disponibles.\n",
        "\n",
        "> **Nota:** La partición debe ser **estratificada** y debe aceptar el parámetro de semilla aleatoria **`seed`**. No se le dará como entrada el conjunto de datos y deberá cargarlo como se mencionó al principio de esta actividad.\n",
        "\n",
        "**Entrada**:\n",
        "\n",
        "* **`p`**: número real entre $0$ y $1$ con la proporción correspondiente a la partición de prueba.\n",
        "* **`seed`**: número real con la semilla aleatoria para la generación de la partición.\n",
        "\n",
        "**Salida**:\n",
        "* **`X_train`**: arreglo de *NumPy* con *shape* aproximado $(n\\cdot (1-p), m)$ para la partición de entrenamiento de **`X`**.\n",
        "* **`X_test`**:  arreglo de *NumPy* con *shape* aproximado $(n\\cdot p, m)$ para la partición de prueba de **`X`**.\n",
        "* **`y_train`**: arreglo de *NumPy* con *shape* aproximado $(n \\cdot (1-p),)$ para la partición de entrenamiento de **`y`**.\n",
        "* **`y_test`**:  arreglo de *NumPy* con *shape* aproximado $(n\\cdot p,)$ para la partición de prueba de **`y`**.\n",
        "\n",
        "\n",
        "\n"
      ]
    },
    {
      "cell_type": "code",
      "metadata": {
        "id": "0wp4XP24N-jk"
      },
      "source": [
        "# FUNCIÓN CALIFICADA load_digits_train_test:\n",
        "\n",
        "# Módulo necesario para realizar el ejercicio.\n",
        "from sklearn import model_selection\n",
        "\n",
        "def load_digits_train_test(\n",
        "  # ¡No modifique los valores por defecto de los argumentos!\n",
        "              p = 0.3, seed = 333):\n",
        "  \"\"\"\n",
        "  Entradas:\n",
        "    p: proporción de los datos usado para prueba.\n",
        "    seed: semilla aleatoria para la creación de la partición.\n",
        "  Retorna:\n",
        "    X_train: arreglo de NumPy con shape aproximado (n(1 - p), m)\n",
        "              para la partición de entrenamiento de X.\n",
        "    X_test:  arreglo de NumPy con shape aproximado (n(p), m)\n",
        "              para la partición de prueba de X.\n",
        "    y_train: arreglo de NumPy con shape aproximado (n(1 - p),)\n",
        "              para la partición de entrenamiento de y.\n",
        "    y_test:  arreglo de NumPy con shape aproximado (n(p),)\n",
        "              para la partición de prueba de y.\n",
        "  \"\"\"\n",
        "  ### ESCRIBA SU CÓDIGO AQUÍ ### (~ 2 líneas de código)\n",
        "\n",
        "  X_train, X_test, y_train, y_test = None, None, None, None\n",
        "\n",
        "  ### FIN DEL CÓDIGO ###\n",
        "\n",
        "  return X_train, X_test, y_train, y_test"
      ],
      "execution_count": null,
      "outputs": []
    },
    {
      "cell_type": "markdown",
      "metadata": {
        "id": "qu9Rb_fMHme0"
      },
      "source": [
        "Ejecute la siguiente celda para probar su código:"
      ]
    },
    {
      "cell_type": "code",
      "metadata": {
        "id": "jaHgDvYT8zGV"
      },
      "source": [
        "#TEST_CELL\n",
        "X_digits_train, X_digits_test, y_digits_train, y_digits_test = load_digits_train_test(0.4, 32)\n",
        "\n",
        "if np.all([isinstance(p, np.ndarray)\n",
        "          for p in (X_digits_train, X_digits_test, y_digits_train, y_digits_test)]):\n",
        "\n",
        "  print('I. Partición de entrenamiento:\\n')\n",
        "\n",
        "  print(f\"Tamaño de X: {X_digits_train.shape}\")\n",
        "  print(f\"Primeros 5 valores de X:\")\n",
        "  print(X_digits_train[:5, :5])\n",
        "\n",
        "  print(f\"Primeros 5 valores de y: {y_digits_train[:5]}\")\n",
        "  print(f\"Valores únicos de y:\", np.bincount(y_digits_train))\n",
        "\n",
        "  print('\\nII. Partición de prueba:\\n')\n",
        "  print(f\"Tamaño de X: {X_digits_test.shape}\")\n",
        "\n",
        "  print(f\"Primeros 5 valores de X:\")\n",
        "  print(X_digits_test[:5, :5])\n",
        "  print(f\"Primeros 5 valores de y: {y_digits_test[:5]}\")\n",
        "  print(f\"Valores únicos de y:\", np.bincount(y_digits_test))\n",
        "else:\n",
        "  print(\"Alguno de los objetos asignado no es un arreglo de NumPy válido.\")"
      ],
      "execution_count": null,
      "outputs": []
    },
    {
      "cell_type": "markdown",
      "metadata": {
        "id": "dhp8zFtqC2es"
      },
      "source": [
        "**Salida esperada:**\n",
        "```\n",
        "I. Partición de entrenamiento:\n",
        "\n",
        "Tamaño de X: (1078, 64)\n",
        "Primeros 5 valores de X:\n",
        "[[ 0.  0.  4. 15. 16.]\n",
        " [ 0.  0.  3. 14. 16.]\n",
        " [ 0.  0.  7. 16.  9.]\n",
        " [ 0.  0.  6. 15. 13.]\n",
        " [ 0.  0.  9. 13.  6.]]\n",
        "Primeros 5 valores de y: [7 7 9 8 9]\n",
        "Valores únicos de y: [107 109 106 110 109 109 109 107 104 108]\n",
        "\n",
        "II. Partición de prueba:\n",
        "\n",
        "Tamaño de X: (719, 64)\n",
        "Primeros 5 valores de X:\n",
        "[[ 0.  0. 10. 15.  6.]\n",
        " [ 0.  0.  5. 14. 15.]\n",
        " [ 0.  0.  5. 11. 16.]\n",
        " [ 0.  0.  0.  1. 15.]\n",
        " [ 0.  1. 12. 16. 14.]]\n",
        "Primeros 5 valores de y: [0 8 7 1 3]\n",
        "Valores únicos de y: [71 73 71 73 72 73 72 72 70 72]\n",
        "```"
      ]
    },
    {
      "cell_type": "markdown",
      "metadata": {
        "id": "lYvbWz0yQExD"
      },
      "source": [
        "<details>    \n",
        "<summary>\n",
        "    <font size=\"3\" color=\"darkgreen\"><b>Pista 1</b></font>\n",
        "</summary>\n",
        "\n",
        "    \n",
        "*  Use el método **`train_test_split`** para generar la partición y cargue el conjunto de datos de **`datasets.load_digits`**. No utilice la variable definida anteriormente pues esa celda es ignorada en la calificación.\n"
      ]
    },
    {
      "cell_type": "markdown",
      "metadata": {
        "id": "Oi-dR5G1Px-G"
      },
      "source": [
        "<details>    \n",
        "<summary>\n",
        "    <font size=\"3\" color=\"darkgreen\"><b>Pista 2</b></font>\n",
        "</summary>\n",
        "\n",
        "    \n",
        "* Recuerde usar los argumentos **`test_size`**, **`stratify`** y **`random_state`** del método **`train_test_split`**.\n",
        "    \n",
        "\n"
      ]
    },
    {
      "cell_type": "markdown",
      "metadata": {
        "id": "BoQf0ERx8pz6"
      },
      "source": [
        "### **1.2. Árbol de decisión por validación cruzada con *Grid Search***\n",
        "---\n",
        "En este punto debe implementar la función **`tree_grid_search`** de tal manera que reciba la partición de datos de entrenamiento **`X_train`** y **`y_train`** y entrene el mejor clasificador basado en árboles de decisión, realizando una exploración de hiperparámetros con *grid search*. Además, se le entregará el número de pliegues **`k`** a generar por cada configuración y un diccionario **`param_grid`** con los hiperparámetros a explorar. Para garantizar la reproducibilidad de su resultado, se le entregará además el argumento **`seed`**, que deberá ser usado como semilla aleatoria en el entrenamiento del clasificador (en el constructor del clasificador base).\n",
        "\n",
        "> **Nota**:\n",
        "* Por defecto **`GridSearchCV`** usa 5 pliegues para realizar validación cruzada. Para tener más control sobre la validación cruzada se puede utilizar el parámetro **`cv`** para definir el número de pliegues.\n",
        "* No utilice el argumento **`verbose`** del constructor **`GridSearchCV`**. Hacerlo podría generar problemas en la calificación debidos a la salida de texto.\n",
        "\n",
        "\n",
        "**Entrada:**\n",
        "\n",
        "* **`X_train`**: arreglo de *NumPy* de tamaño $(n, m)$ para entrenamiento.\n",
        "* **`y_train`**: arreglo de *NumPy* de tamaño $(n, )$ para entrenamiento.\n",
        "* **`param_grid`**: diccionario con las listas de valores posibles de cada hiperparámetro del modelo de árbol de decisión de *Scikit-Learn*.\n",
        "* **`k`**: número entero del total de pliegues de validación cruzada que se deben explorar en la búsqueda de hiperparámetros.\n",
        "* **`seed`**: número real con la semilla aleatoria para el entrenamiento de los clasificadores.\n",
        "\n",
        "**Salida:**\n",
        "\n",
        "* **`gsearch`**: Objeto **`GridSearchCV`** entrenado con las posibles configuraciones de hiperparámetros **`param_grid`** del árbol de decisión sobre los datos **`X_train`** y **`y_train`**.\n",
        "\n"
      ]
    },
    {
      "cell_type": "code",
      "metadata": {
        "id": "MCCT3KuUPXA9"
      },
      "source": [
        "# FUNCIÓN CALIFICADA tree_grid_search:\n",
        "\n",
        "# Módulos necesarios para realizar el ejercicio.\n",
        "from sklearn import model_selection\n",
        "from sklearn import tree\n",
        "\n",
        "def tree_grid_search(X_train, y_train, param_grid, k,\n",
        "# ¡No modifique los valores por defecto de los argumentos!\n",
        "                seed = 333):\n",
        "  \"\"\"\n",
        "  Entradas:\n",
        "    X_train: Arreglo de NumPy con shape (n, m),\n",
        "    y_train: Arreglo de NumPy con shape (n,).\n",
        "    param_grid: Hiperparámetros a explorar.\n",
        "    k: Número de pliegues de validación cruzada\n",
        "    seed: semilla aleatoria para la creación de la partición.\n",
        "  Retorna:\n",
        "    gsearch: GridSearchCV entrenado con X_train y y_train.\n",
        "  \"\"\"\n",
        "  ### ESCRIBA SU CÓDIGO AQUÍ ### (~ 3-4 líneas de código)\n",
        "\n",
        "  # Declare el clasificador base del modelo basado en árboles de decisión.\n",
        "  # IMPORTANTE: Fije la seed aleatoria con el argumento 'random_state'.\n",
        "\n",
        "  tree_clf = None\n",
        "\n",
        "  # Declare y entrene el objeto GridSearchCV.\n",
        "  gsearch = None\n",
        "\n",
        "  ### FIN DEL CÓDIGO ###\n",
        "\n",
        "  return gsearch"
      ],
      "execution_count": null,
      "outputs": []
    },
    {
      "cell_type": "markdown",
      "metadata": {
        "id": "o2zjEie1p1mB"
      },
      "source": [
        "Definimos la variable **`param_grid`** con la llave **`criterion`** con los valores **`[\"gini\", \"entropy\"]`** y la llave **`max_depth`** para explorar la profundidad máxima del árbol. Ejecute la siguiente celda para probar su código."
      ]
    },
    {
      "cell_type": "code",
      "metadata": {
        "id": "1hu_nOA0bnC2"
      },
      "source": [
        "#TEST_CELL\n",
        "from sklearn import datasets\n",
        "param_grid = {\n",
        "    \"max_depth\": range(5, 60, 5),     # Profundidad máxima del árbol de decisión.\n",
        "    \"criterion\": [\"gini\", \"entropy\"], # Criterio de partición del árbol.\n",
        "  }\n",
        "\n",
        "X2, y2 = datasets.make_classification(random_state = 123)\n",
        "gsearch = tree_grid_search(X2, y2, param_grid, k=3)\n",
        "\n",
        "if gsearch is not None:\n",
        "  print(f'Mejores hiperparámetros:\\n {gsearch.best_params_}')\n",
        "  print(f'Mejor exactitud (validación): {gsearch.best_score_:.6f}')\n",
        "else: print('El valor retornado no es un clasificador GridSearchCV válido.')"
      ],
      "execution_count": null,
      "outputs": []
    },
    {
      "cell_type": "markdown",
      "metadata": {
        "id": "R5CLxrJrDG9L"
      },
      "source": [
        "**Salida esperada**:\n",
        "```\n",
        "Mejores hiperparámetros:\n",
        " {'criterion': 'entropy', 'max_depth': 5}\n",
        "Mejor exactitud (validación): 0.920083\n",
        "```"
      ]
    },
    {
      "cell_type": "markdown",
      "metadata": {
        "id": "M4cTntjNgGRq"
      },
      "source": [
        "La siguiente celda realiza la exploración de hiperparámetros para el *dataset* *digits*. Asegurese de obtener el resultado correcto en el ejercicio $1.1$ para obtener una salida apropiada."
      ]
    },
    {
      "cell_type": "code",
      "metadata": {
        "id": "r1peU4jlgRGa"
      },
      "source": [
        "#TEST_CELL\n",
        "from sklearn import datasets\n",
        "param_grid = {\n",
        "    \"max_depth\": range(5, 60, 5),     # Profundidad máxima del árbol de decisión.\n",
        "    \"criterion\": [\"gini\", \"entropy\"], # Criterio de partición del árbol.\n",
        "  }\n",
        "\n",
        "# Ejercicio 1.1. Cargar los datos de entrenamiento y prueba del dataset digits.\n",
        "X_digits_train, X_digits_test, y_digits_train, y_digits_test = load_digits_train_test(0.3)\n",
        "assert np.all([isinstance(p, np.ndarray)\n",
        "          for p in (X_digits_train, X_digits_test, y_digits_train, y_digits_test)]), \"Revise el ejercicio 1.1\"\n",
        "\n",
        "gsearch = tree_grid_search(X_digits_train, y_digits_train, param_grid, k=5)\n",
        "\n",
        "if gsearch is not None:\n",
        "  print(f'Mejores hiperparámetros:\\n {gsearch.best_params_}')\n",
        "  print(f'Mejor exactitud (validación): {gsearch.best_score_:.6f}')\n",
        "else: print('El valor retornado no es un clasificador GridSearchCV válido.')"
      ],
      "execution_count": null,
      "outputs": []
    },
    {
      "cell_type": "markdown",
      "metadata": {
        "id": "kBT9oDj-gRGc"
      },
      "source": [
        "**Salida esperada**:\n",
        "```\n",
        "Mejores hiperparámetros:\n",
        " {'criterion': 'entropy', 'max_depth': 10}\n",
        "Mejor exactitud (validación): 0.864773\n",
        "```"
      ]
    },
    {
      "cell_type": "markdown",
      "metadata": {
        "id": "eTBsWooxg38G"
      },
      "source": [
        "\n",
        "> **Nota:** una vez tenga una respuesta que le satisfaga, siéntase libre de explorar [otros hiperparámetros](https://scikit-learn.org/stable/modules/generated/sklearn.tree.DecisionTreeClassifier.html)."
      ]
    },
    {
      "cell_type": "markdown",
      "metadata": {
        "id": "hcoiQ2SkBjtO"
      },
      "source": [
        "<details>    \n",
        "<summary>\n",
        "    <font size=\"3\" color=\"darkgreen\"><b>Pista 1</b></font>\n",
        "</summary>\n",
        "\n",
        "* Use el método **`GridSearchCV`** definiendo la cantidad de pliegues (**`cv`**)y los hiperparámetros a explorar (**`param_grid`**).\n"
      ]
    },
    {
      "cell_type": "markdown",
      "metadata": {
        "id": "3S16oJvsBrRC"
      },
      "source": [
        "<details>    \n",
        "<summary>\n",
        "    <font size=\"3\" color=\"darkgreen\"><b>Pista 2</b></font>\n",
        "</summary>\n",
        "\n",
        "* Deberá utilizar un modelo **`DecisionTreeClassifier`** como entrada del objeto **`GridSearchCV`**. No olvide además que deberá fijar la semilla aleatoria **`seed`** en el constructor del árbol de decisión."
      ]
    },
    {
      "cell_type": "markdown",
      "metadata": {
        "id": "IbatbDgJ8ux4"
      },
      "source": [
        "### **1.3. Evaluación del desempeño del mejor clasificador**\n",
        "---\n",
        "\n",
        "Una vez obtenemos el mejor modelo entrenado tras la exploración de los hiperparámetros, queremos evaluar el desempeño de este desde el punto de vista de distintas métricas.\n",
        "\n",
        "En este punto tendrá que completar la función **`tree_performance_metrics`**, que deberá retornar las métricas de desempeño de _accuracy_, precisión, _recall y $F_1$ del mejor clasificador encontrado, a partir de los arreglos **`X_test`** y **`y_test`** y la predicción del modelo *grid search*.\n",
        "\n",
        "> **Nota:** El modelo **`GridSearchCV`** obtiene el mejor estimador con respecto a la métrica por defecto del modelo entrenado (_accuracy_ para clasificación y $R^2$ para regresión). En este ejercicio no tiene que encontrar el mejor estimador por cada tipo de métrica, sino obtener el resultado de la evaluación de desempeño (con las métricas mencionadas) del mejor estimador elegido usando la métrica por defecto, es decir, la exactitud, y retornarlo con el objetivo de contrastar sus valores.\n",
        "\n",
        "**Entrada:**\n",
        "\n",
        "* **`gsearch`**: objeto **`GridSearchCV`** entrenado con un modelo de clasificación.\n",
        "* **`X_test`**: arreglo de *NumPy* de tamaño $(n, m)$ para pruebas.\n",
        "* **`y_test`**: arreglo de *NumPy* de tamaño $(n, )$ para pruebas.\n",
        "\n",
        "**Salida:**\n",
        "\n",
        "* **`accuracy`**: número real, métrica de exactitud del mejor modelo con la partición de prueba.\n",
        "* **`precision_macro`**: número real, métrica de precisión macro del mejor modelo con la partición de prueba.\n",
        "* **`recall_macro`**: número real, métrica de _recall_ macro del mejor modelo con la partición de prueba.\n",
        "* **`f1_macro`**:  número real, métrica $F_1$ *score* macro del mejor modelo con la partición de prueba.\n"
      ]
    },
    {
      "cell_type": "code",
      "metadata": {
        "id": "RvICu6hOPYTM"
      },
      "source": [
        "# FUNCIÓN CALIFICADA tree_performance_metrics:\n",
        "\n",
        "# Módulos necesarios para realizar el ejercicio.\n",
        "from sklearn import metrics\n",
        "\n",
        "def tree_performance_metrics(gsearch, X_test, y_test):\n",
        "  \"\"\"\n",
        "  Entradas:\n",
        "    gsearch: Modelo entrenado con GridSearchCV\n",
        "    X_digits_test: Arreglo de numpy con shape (n, m)\n",
        "    y_digits_test: Arreglo de numpy con shape (n,)\n",
        "  Retorna:\n",
        "    accuracy: exactitud en prueba.\n",
        "    precision_macro: precisión macro en prueba.\n",
        "    recall_macro: recall macro en prueba.\n",
        "    f1_macro: f1 score macro en prueba.\n",
        "  \"\"\"\n",
        "  ### ESCRIBA SU CÓDIGO AQUÍ ### (~ 6-7 líneas de código)\n",
        "\n",
        "  accuracy = None\n",
        "  precision_macro = None\n",
        "  recall_macro = None\n",
        "  f1_macro = None\n",
        "\n",
        "  ### FIN DEL CÓDIGO ###\n",
        "\n",
        "  return accuracy, precision_macro, recall_macro, f1_macro"
      ],
      "execution_count": null,
      "outputs": []
    },
    {
      "cell_type": "markdown",
      "metadata": {
        "id": "3wP7Qzc0nC-Y"
      },
      "source": [
        "La siguiente celda realiza la evaluación del desempeño del mejor modelo para el *dataset* *digits*. Asegúrese de obtener el resultado correcto en el ejercicio $1.1$ y $1.2$ para obtener una salida apropiada."
      ]
    },
    {
      "cell_type": "code",
      "metadata": {
        "id": "2Lr9H6dEeWvz"
      },
      "source": [
        "#TEST_CELL\n",
        "from numbers import Number\n",
        "\n",
        "# Ejercicio 1.1. Cargar los datos de entrenamiento y prueba del dataset digits.\n",
        "X_digits_train, X_digits_test, y_digits_train, y_digits_test = load_digits_train_test(0.3)\n",
        "assert np.all([isinstance(p, np.ndarray)\n",
        "          for p in (X_digits_train, X_digits_test, y_digits_train, y_digits_test)]), \"Revise el ejercicio 1.1\"\n",
        "\n",
        "\n",
        "# Ejercicio 1.2. Entrenar la exploración de hiperparámetros del modelo de árbol de decisión.\n",
        "param_grid = {\n",
        "    \"max_depth\": range(5, 60, 5),     # Profundidad máxima del árbol de decisión.\n",
        "    \"criterion\": [\"gini\", \"entropy\"], # Criterio de partición del árbol.\n",
        "  }\n",
        "\n",
        "gsearch = tree_grid_search(X_digits_train, y_digits_train, param_grid, k=5)\n",
        "assert isinstance(gsearch, sklearn.model_selection._search.GridSearchCV), \"Revise el ejercicio 1.2\"\n",
        "\n",
        "\n",
        "acc, prec, rec, f1 = tree_performance_metrics(gsearch, X_digits_test, y_digits_test)\n",
        "\n",
        "print(f'Exactitud en prueba: {acc:.6f}' if isinstance(acc, Number) else 'La exactitud no es válida.')\n",
        "print(f'Precisión macro en prueba: {prec:.6f}' if isinstance(prec, Number) else 'La precisión macro no es válida.')\n",
        "print(f'Recall macro en prueba: {rec:.6f}' if isinstance(rec, Number) else 'El recall macro no es válido.')\n",
        "print(f'F1 macro en prueba: {f1:.6f}' if isinstance(f1, Number) else 'El f1 macro no es válido.')"
      ],
      "execution_count": null,
      "outputs": []
    },
    {
      "cell_type": "markdown",
      "metadata": {
        "id": "OfFcHOoXHtqd"
      },
      "source": [
        "**Salida esperada:**\n",
        "\n",
        "```\n",
        "Exactitud en prueba: 0.824074\n",
        "Precisión macro en prueba: 0.830342\n",
        "Recall macro en prueba: 0.823599\n",
        "F1 macro en prueba: 0.825590\n",
        "```"
      ]
    },
    {
      "cell_type": "markdown",
      "metadata": {
        "id": "L3ggW-vfuBW-"
      },
      "source": [
        "**Pregunta**:\n",
        "- ¿Son similares los resultados a aquellos reportados por **`GridSearchCV`** en validación?"
      ]
    },
    {
      "cell_type": "markdown",
      "metadata": {
        "id": "fdOFvk_bQYOW"
      },
      "source": [
        "<details>    \n",
        "<summary>\n",
        "    <font size=\"3\" color=\"darkgreen\"><b>Pista 1</b></font>\n",
        "</summary>\n",
        "<p>\n",
        "\n",
        "*      Deberá usar las métricas definidas con las funciones **`recall_score`**, **`precision_score`** y **`f1_score`** del módulo **`metrics`**. Para obtener la exactitud puede utilizar el método **`score`** del objeto *grid search* o la función **`accuracy_score`**.\n"
      ]
    },
    {
      "cell_type": "markdown",
      "metadata": {
        "id": "i-GFIz1TQ2XG"
      },
      "source": [
        "<details>    \n",
        "<summary>\n",
        "    <font size=\"3\" color=\"darkgreen\"><b>Pista 2</b></font>\n",
        "</summary>\n",
        "\n",
        "* Indique los argumentos de criterio de promedio (**`average`**) de las métricas."
      ]
    },
    {
      "cell_type": "markdown",
      "metadata": {
        "id": "mnYBjrLDzZxk"
      },
      "source": [
        "<details>    \n",
        "<summary>\n",
        "    <font size=\"3\" color=\"darkgreen\"><b>Pista 3</b></font>\n",
        "</summary>\n",
        "\n",
        "* Puede realizar la predicción (**`predict`**) o desempeño (**`score`**) del mejor estimador de un objeto **`GridSearchCV`** entrenado utilizando los métodos de forma directa. e.g:\n",
        "\n",
        "```python\n",
        "  gsearch.predict(X)\n",
        "  gsearch.score(X, y)\n",
        "```\n"
      ]
    },
    {
      "cell_type": "markdown",
      "metadata": {
        "id": "HtGBwvtKuRGs"
      },
      "source": [
        "### **1.4. Visualización de los pixeles con mayor importancia**\n",
        "---\n",
        "En este problema, dado que cada característica corresponde a uno de los pixeles de las imagenes posibles, es posible que algunos de estos concentren más información, y que encontrar un valor específico en uno de ellos aporte más a tomar una decisión acertada.\n",
        "\n",
        "Defina la función **`pixel_importances`**, de tal manera que reciba un objeto **`GridSearchCV`** entrenado **`gsearch`** y retorne la importancia de los pixeles en la clasificación de los dígitos en un arreglo de _NumPy_ de tamaño $8 \\times 8$, que será usado posteriormente para ilustrar en un mapa de calor la importancia de cada píxel.\n",
        "\n",
        "**Entrada:**\n",
        "\n",
        "* **`gsearch`**: objeto **`GridSearchCV`** entrenado con un modelo de clasificación con $64$ características de entrada.\n",
        "\n",
        "**Salida:**\n",
        "\n",
        "* **`importances`**: arreglo de *NumPy* de tamaño **`(8, 8)`** con la importancia relativa de cada pixel, obtenida a partir del reporte de importancia por características del objeto **`gsearch`**."
      ]
    },
    {
      "cell_type": "code",
      "metadata": {
        "id": "NA5S6pIPbsfS"
      },
      "source": [
        "# FUNCIÓN CALIFICADA pixel_importances:\n",
        "\n",
        "def pixel_importances(gsearch):\n",
        "  \"\"\"\n",
        "  Entradas:\n",
        "    gsearch: GridSearchCV entrenado\n",
        "  Retorna:\n",
        "    importances: arreglo de numpy con shape(8, 8)\n",
        "  \"\"\"\n",
        "  ### ESCRIBA SU CÓDIGO AQUÍ ### (~ 3-4 líneas de código)\n",
        "\n",
        "  importances = None\n",
        "\n",
        "  ### FIN DEL CÓDIGO ###\n",
        "\n",
        "  return importances"
      ],
      "execution_count": null,
      "outputs": []
    },
    {
      "cell_type": "markdown",
      "metadata": {
        "id": "Ux_tLyqRrUs4"
      },
      "source": [
        "La siguiente celda obtiene el modelo **`GridSearchCV`** de los ejercicios $1$ y $2$. Asegúrese de obtener la respuesta correcta en esos puntos para obtener un resultado apropiado. Ejecute la siguiente celda para ver un mapa de calor con la importancia de los pixeles:"
      ]
    },
    {
      "cell_type": "code",
      "metadata": {
        "id": "XPdQ-iNrgEtD"
      },
      "source": [
        "# TEST_CELL\n",
        "\n",
        "# Ejercicio 1. Cargar los datos de entrenamiento y prueba del dataset digits.\n",
        "X_digits_train, X_digits_test, y_digits_train, y_digits_test = load_digits_train_test(0.3)\n",
        "assert np.all([isinstance(p, np.ndarray)\n",
        "          for p in (X_digits_train, X_digits_test, y_digits_train, y_digits_test)]), \"Revise el ejercicio 1.1\"\n",
        "\n",
        "\n",
        "# Ejercicio 2. Entrenar la exploración de hiperparámetros del modelo de árbol de decisión.\n",
        "param_grid = {\n",
        "    \"max_depth\": range(5, 60, 5),     # Profundidad máxima del árbol de decisión.\n",
        "    \"criterion\": [\"gini\", \"entropy\"], # Criterio de partición del árbol.\n",
        "  }\n",
        "gsearch = tree_grid_search(X_digits_train, y_digits_train, param_grid, k=5)\n",
        "assert isinstance(gsearch, sklearn.model_selection._search.GridSearchCV), \"Revise el ejercicio 1.2\"\n",
        "\n",
        "\n",
        "importances = pixel_importances(gsearch)\n",
        "if isinstance(importances,np.ndarray):\n",
        "  if importances.shape == (8, 8):\n",
        "    plt.figure(dpi = 120)\n",
        "    sns.heatmap(importances, cmap = 'inferno');\n",
        "  else:\n",
        "    print(\"El arreglo tiene las dimensiones incorrectas.\")\n",
        "    print(f\"Tamaño esperado: (8, 8); Tamaño obtenido: {importances.shape}\")\n",
        "else: print(\"El arreglo retornado no es válido.\")"
      ],
      "execution_count": null,
      "outputs": []
    },
    {
      "cell_type": "markdown",
      "metadata": {
        "id": "EuLM9zVAq-Kl"
      },
      "source": [
        "**Salida esperada**\n",
        "\n",
        "![u3e1_4.png](data:image/png;base64,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)"
      ]
    },
    {
      "cell_type": "markdown",
      "metadata": {
        "id": "ulyWVsJ-re_H"
      },
      "source": [
        "> **Pregunta**:\n",
        "- ¿Tienen sentido los pixeles con mayor importancia? ¿Qué hay de aquellos con $0$ importancia?"
      ]
    },
    {
      "cell_type": "markdown",
      "metadata": {
        "id": "_o5q5KbyRcE6"
      },
      "source": [
        "<details>    \n",
        "<summary>\n",
        "    <font size=\"3\" color=\"darkgreen\"><b>Pista 1</b></font>\n",
        "</summary>\n",
        "\n",
        "* Obtenga las importancias de cada pixel con el atributo **`feature_importances_`** del mejor estimador del objeto **`GridSearchCV`**.\n"
      ]
    },
    {
      "cell_type": "markdown",
      "metadata": {
        "id": "-KTkGdVsRhNX"
      },
      "source": [
        "<details>    \n",
        "<summary>\n",
        "    <font size=\"3\" color=\"darkgreen\"><b>Pista 2</b></font>\n",
        "</summary>\n",
        "\n",
        "\n",
        "* Utilice la función **`reshape`** de _Numpy_ para cambiar el tamaño del arreglo al tamaño requerido de $(8, 8)$.\n"
      ]
    },
    {
      "cell_type": "markdown",
      "metadata": {
        "id": "g4_B7tRd87JT"
      },
      "source": [
        "## **2. Predicción de la observación de manchas solares**\n",
        "---\n",
        "\n",
        "El *dataset* **sunspots** es un registro del número total de observaciones de manchas solares con el paso del tiempo. Los datos usados en esta ocasión consisten en un muestreo mensual del conteo de observaciones registradas. Este archivo proviene de un artículo de *Machine Learning Mastery* y los datos originales están atribuidos a [*Andrews & Herzberg*](https://www2.stat.duke.edu/courses/Spring01/sta114/data/andrews.html)."
      ]
    },
    {
      "cell_type": "code",
      "metadata": {
        "id": "86J6n6w9Ev6s"
      },
      "source": [
        "#TEST_CELL\n",
        "!wget -O monthly-sunspots.csv https://raw.githubusercontent.com/jbrownlee/Datasets/master/monthly-sunspots.csv"
      ],
      "execution_count": null,
      "outputs": []
    },
    {
      "cell_type": "markdown",
      "metadata": {
        "id": "Zv8TQO1ldULT"
      },
      "source": [
        "Cargamos el archivo *csv* con _Pandas_ y exploramos algunos valores.\n",
        "> **Nota:** No se preocupe por el archivo del *dataset* al enviar su solución, el ambiente de calificación ya tiene este archivo."
      ]
    },
    {
      "cell_type": "code",
      "metadata": {
        "id": "WNuFCTv8EsiG"
      },
      "source": [
        "#TEST_CELL\n",
        "suns_df = pd.read_csv('monthly-sunspots.csv', index_col= 0, parse_dates= True, squeeze=True)\n",
        "X_suns = suns_df.values\n",
        "\n",
        "suns_df.head(13)"
      ],
      "execution_count": null,
      "outputs": []
    },
    {
      "cell_type": "markdown",
      "metadata": {
        "id": "Qi4sjp7Qd703"
      },
      "source": [
        "Podemos observar que el conjunto de datos contiene los datos de $235$ años."
      ]
    },
    {
      "cell_type": "code",
      "metadata": {
        "id": "Vm47o5A2dXpH"
      },
      "source": [
        "#TEST_CELL\n",
        "years = len(suns_df) / 12\n",
        "print(years)"
      ],
      "execution_count": null,
      "outputs": []
    },
    {
      "cell_type": "code",
      "metadata": {
        "id": "rPbwOn9jeBOe"
      },
      "source": [
        "#TEST_CELL\n",
        "suns_df.plot(figsize = (26, 6));"
      ],
      "execution_count": null,
      "outputs": []
    },
    {
      "cell_type": "markdown",
      "metadata": {
        "id": "kZEaK-as88Ie"
      },
      "source": [
        "### **2.1. Partición de series de tiempo**\n",
        "---\n",
        "Al tratarse de un problema de series de tiempo, vamos a realizar una partición de los datos de tal manera que todos los valores de la partición de pruebas ocurran temporalmente después que los que sean usados en el entrenamiento de nuestro modelo.\n",
        "\n",
        "Complete la función **`temporal_split`** de tal manera que haga una partición temporal en entrenamiento y prueba del arreglo **`series`** con **`p`** indicando el porcentaje de datos destinados para la partición de prueba.\n",
        "\n",
        "> **Nota:**\n",
        "* La partición **NO** es aleatoria, por lo tanto no recibe un parámetro de semilla aleatoria.\n",
        "* Tenga en cuenta que en este caso el tamaño se aproximará al valor más cercano, es decir, si obtengo que el tamaño para los datos de prueba es $3.6$ lo aproximará a $4$ y si el tamaño para los datos de prueba es $3.4$ se aproximará a $3$.\n",
        "\n",
        "\n",
        "\n",
        "\n",
        "**Entrada:**\n",
        "\n",
        "* **`series`**: arreglo de *NumPy* de tamaño $(n, )$ con la serie de tiempo completa.\n",
        "* **`p`**: número real entre $0$ y $1$ con la proporción correspondiente a la partición de prueba.\n",
        "\n",
        "**Salida:**\n",
        "\n",
        "* **`series_train`**: arreglo de *NumPy* de tamaño aproximado $(n(1 - p), )$ con partición de la serie de tiempo para entrenamiento.\n",
        "* **`series_test`**: arreglo de *NumPy* de tamaño aproximado $(n(p), )$ con partición de la serie de tiempo para pruebas.\n"
      ]
    },
    {
      "cell_type": "code",
      "metadata": {
        "id": "bj1zB80Oao_j"
      },
      "source": [
        "def temporal_split(series, p):\n",
        "  \"\"\"\n",
        "  Entradas:\n",
        "    series : Arreglo de NumPy con shape (n,) con la serie de tiempo.\n",
        "    p :porcentaje de datos destinados para la partición de prueba\n",
        "  Retorna:\n",
        "    series_train: Arreglo de NumPy con partición de entrenamiento de la serie de tiempo.\n",
        "    series_test: Arreglo de NumPy con partición de prueba de la serie de tiempo.\n",
        "  \"\"\"\n",
        "  ### ESCRIBA SU CÓDIGO AQUÍ ### (~ 3-4 líneas de código)\n",
        "\n",
        "  series_train = None\n",
        "  series_test = None\n",
        "\n",
        "  ### FIN DEL CÓDIGO ###\n",
        "\n",
        "  return series_train, series_test"
      ],
      "execution_count": null,
      "outputs": []
    },
    {
      "cell_type": "markdown",
      "metadata": {
        "id": "Xv1H3woYDlkO"
      },
      "source": [
        "Ejecuta las siguientes celdas para probar su código:"
      ]
    },
    {
      "cell_type": "code",
      "metadata": {
        "id": "3AR7WH0lbDz4"
      },
      "source": [
        "#TEST_CELL\n",
        "for p in np.arange(0.3, 1, 0.05):\n",
        "  print(temporal_split(np.arange(10), p))"
      ],
      "execution_count": null,
      "outputs": []
    },
    {
      "cell_type": "markdown",
      "metadata": {
        "id": "J5n4n3zsbkwo"
      },
      "source": [
        "**Salida esperada**:\n",
        "\n",
        "```\n",
        "(array([0, 1, 2, 3, 4, 5, 6]), array([7, 8, 9]))\n",
        "(array([0, 1, 2, 3, 4, 5]), array([6, 7, 8, 9]))\n",
        "(array([0, 1, 2, 3, 4, 5]), array([6, 7, 8, 9]))\n",
        "(array([0, 1, 2, 3, 4, 5]), array([6, 7, 8, 9]))\n",
        "(array([0, 1, 2, 3, 4]), array([5, 6, 7, 8, 9]))\n",
        "(array([0, 1, 2, 3, 4]), array([5, 6, 7, 8, 9]))\n",
        "(array([0, 1, 2, 3]), array([4, 5, 6, 7, 8, 9]))\n",
        "(array([0, 1, 2, 3]), array([4, 5, 6, 7, 8, 9]))\n",
        "(array([0, 1, 2]), array([3, 4, 5, 6, 7, 8, 9]))\n",
        "(array([0, 1, 2]), array([3, 4, 5, 6, 7, 8, 9]))\n",
        "(array([0, 1]), array([2, 3, 4, 5, 6, 7, 8, 9]))\n",
        "(array([0, 1]), array([2, 3, 4, 5, 6, 7, 8, 9]))\n",
        "(array([0]), array([1, 2, 3, 4, 5, 6, 7, 8, 9]))\n",
        "(array([0]), array([1, 2, 3, 4, 5, 6, 7, 8, 9]))\n",
        "```"
      ]
    },
    {
      "cell_type": "code",
      "metadata": {
        "id": "e3ZUYzjvfhQd"
      },
      "source": [
        "#TEST_CELL\n",
        "\n",
        "X_train, X_test = temporal_split(X_suns, p=0.3)\n",
        "if isinstance(X_train, np.ndarray) and isinstance(X_test, np.ndarray):\n",
        "  print(f'Los shapes son: {X_train.shape}, {X_test.shape}')\n",
        "else: print(\"Alguno de los arreglos retornados no es válido.\")"
      ],
      "execution_count": null,
      "outputs": []
    },
    {
      "cell_type": "markdown",
      "metadata": {
        "id": "CWgvu8B4EO4k"
      },
      "source": [
        "**Salida esperada**:\n",
        "\n",
        "```\n",
        "Los shapes son: (1974,), (846,)\n",
        "```"
      ]
    },
    {
      "cell_type": "markdown",
      "metadata": {
        "id": "7vLyh6jwSwNv"
      },
      "source": [
        "<details>    \n",
        "<summary>\n",
        "    <font size=\"3\" color=\"darkgreen\"><b>Pista 1</b></font>\n",
        "</summary>\n",
        "\n",
        "\n",
        "* La primera porción de los datos debe pertenecer a la partición de entrenamiento y la segunda a la partición de prueba. Temporalmente, la partición de prueba debe estar en el pasado de la partición de prueba.\n",
        "    \n"
      ]
    },
    {
      "cell_type": "markdown",
      "metadata": {
        "id": "zWJEPwL2SVa4"
      },
      "source": [
        "<details>    \n",
        "<summary>\n",
        "    <font size=\"3\" color=\"darkgreen\"><b>Pista 2</b></font>\n",
        "</summary>\n",
        "\n",
        "* Redondee el número de ejemplos que corresponden a las particiones de entrenamiento y prueba y utilícelos como índices de cada subarreglo. Por consistencia, se le recomienda utilizar el método **`round`** de *Python*.\n",
        "\n",
        "\n"
      ]
    },
    {
      "cell_type": "markdown",
      "metadata": {
        "id": "gAySIgtw89C_"
      },
      "source": [
        "### **2.2. Ventanas temporales en formato `X, y`**\n",
        "---\n",
        "\n",
        "Para generar una entrada apropiada para un problema de regresión de series de tiempo necesitamos obtener un arreglo en el formato adecuado, con suficientes características para el entrenamiento que correspondan a valores consecutivos en las posibles ventanas de tiempo del conjunto de entrenamiento.\n",
        "\n",
        "Complete la función **`temporal_window`** que recibe una serie de tiempo **`series`** y genere una matriz con las ventanas de tiempo de tamaño **`w`** en formato **X, y**.\n",
        "\n",
        " > **Nota:** El orden en que retorna las ventanas temporales **es importante**, es decir, la ventana temporal con los primeros elementos de la serie debe estar en la posición **`X[0]`**, de igual manera la serie de tiempo que empiece con el $i$-ésimo elemento de la serie de tiempo debe aparecer en la posición **`X[i]`** y **`y[i]`** debe contener el $(i + w)$-ésimo valor de la serie de tiempo. Tenga que en cuenta que si una serie de tiempo tiene $n$ elementos, el arreglo resultante debe contar con $n - w$ ejemplos.\n",
        "\n",
        "\n",
        "\n",
        "**Entradas**\n",
        "\n",
        "- **`series`**: vector de datos, arreglo de *NumPy* de tamaño $n$ con la serie de tiempo.\n",
        "- **`w`**: número entero con el tamaño de las ventanas temporales del arreglo resultante.\n",
        "\n",
        "**Salidas**:\n",
        "\n",
        "- **`X`**: matriz de datos, arreglo de *NumPy* de tamaño $(n - w, w)$ con las **`n - w`** ventanas de tiempo de la serie de tiempo **`series`**.\n",
        "- **`y`**: vector de datos, arreglo de *NumPy* de tamaño $(n - w,)$ con los **`n - w`** valores siguientes a cada ventana del arreglo **`X`**.\n"
      ]
    },
    {
      "cell_type": "code",
      "metadata": {
        "id": "Dnfw2TTSgr4v"
      },
      "source": [
        "# FUNCIÓN CALIFICADA temporal_window:\n",
        "\n",
        "def temporal_window(series, w):\n",
        "  \"\"\"\n",
        "  Entradas:\n",
        "    series: Arreglo de NumPy con tamaño (n,), una serie de tiempo\n",
        "    w: Número entero, tamaño de las ventanas de tiempo.\n",
        "  Retorna:\n",
        "    X: Arreglo de NumPy con shape(n - w, w), las ventanas temporales.\n",
        "    y: Arreglo de NumPy con shape(n - w,), el valor siguiente en la serie para cada ventana.\n",
        "  \"\"\"\n",
        "  ### ESCRIBA SU CÓDIGO AQUÍ ### (~ 3-4 líneas de código)\n",
        "\n",
        "  X, y = None, None\n",
        "\n",
        "  ### FIN DEL CÓDIGO ###\n",
        "\n",
        "  return X, y"
      ],
      "execution_count": null,
      "outputs": []
    },
    {
      "cell_type": "markdown",
      "metadata": {
        "id": "zkSs2iaupcRN"
      },
      "source": [
        "Ejecute las siguientes celdas para probar su código:"
      ]
    },
    {
      "cell_type": "code",
      "metadata": {
        "id": "paZOGIj8o2hK"
      },
      "source": [
        "#TEST_CELL\n",
        "\n",
        "X2, y2 = temporal_window(np.arange(15), 5)\n",
        "print(\"X:\\n\", X2)\n",
        "print(\"y:\\n\", y2)"
      ],
      "execution_count": null,
      "outputs": []
    },
    {
      "cell_type": "markdown",
      "metadata": {
        "id": "maEZl7p2pMmc"
      },
      "source": [
        "**Salida esperada:**\n",
        "\n",
        "```\n",
        "X:\n",
        " [[ 0.  1.  2.  3.  4.]\n",
        " [ 1.  2.  3.  4.  5.]\n",
        " [ 2.  3.  4.  5.  6.]\n",
        " [ 3.  4.  5.  6.  7.]\n",
        " [ 4.  5.  6.  7.  8.]\n",
        " [ 5.  6.  7.  8.  9.]\n",
        " [ 6.  7.  8.  9. 10.]\n",
        " [ 7.  8.  9. 10. 11.]\n",
        " [ 8.  9. 10. 11. 12.]\n",
        " [ 9. 10. 11. 12. 13.]]\n",
        "y:\n",
        " [ 5.  6.  7.  8.  9. 10. 11. 12. 13. 14.]\n",
        "```"
      ]
    },
    {
      "cell_type": "markdown",
      "metadata": {
        "id": "m0LdjqquoA41"
      },
      "source": [
        "La siguiente celda genera la partición de datos de prueba y entrenamiento realizada en el ejercicio $2.1$. Asegúrese de tener una respuesta satisfactoria en ese punto para obtener un resultado adecuado."
      ]
    },
    {
      "cell_type": "code",
      "metadata": {
        "id": "rU9hUMSBhldh"
      },
      "source": [
        "#TEST_CELL\n",
        "\n",
        "# Ejercicio 2.1. Generación de las particiones de prueba y entrenamiento del dataset sunspots.\n",
        "X_train, X_test = temporal_split(X_suns, p=0.3)\n",
        "assert isinstance(X_train, np.ndarray) and isinstance(X_test, np.ndarray) , \"Revise el ejercicio 2.1\"\n",
        "\n",
        "X_train_window, y_train_window = temporal_window(X_train, 10)\n",
        "X_test_window, y_test_window = temporal_window(X_test, 10)\n",
        "\n",
        "if np.all([isinstance(p, np.ndarray) for p in (X_train_window, y_train_window, X_test_window, y_test_window)]):\n",
        "  print('I. Partición de entrenamiento:\\n')\n",
        "  print(f'El shape de X_train es: {X_train_window.shape}')\n",
        "  print(f'El shape de y_train es: {y_train_window.shape}')\n",
        "  print(f'Primeros 5 registros de X_train:\\n{X_train_window[:5]}')\n",
        "  print(f'Primeros 5 registros de y_train:\\n{y_train_window[:5]}\\n')\n",
        "\n",
        "  print('\\nII. Partición de prueba:\\n')\n",
        "  print(f'El shape de X_test es: {X_test_window.shape}')\n",
        "  print(f'El shape de y_test es: {y_test_window.shape}')\n",
        "  print(f'Primeros 5 registros de X_test:\\n{X_test_window[:5]}')\n",
        "  print(f'Primeros 5 registros de y_test:\\n{y_test_window[:5]}\\n')\n",
        "else: print(\"Alguno de los arreglos obtenidos no es válido.\")"
      ],
      "execution_count": null,
      "outputs": []
    },
    {
      "cell_type": "markdown",
      "metadata": {
        "id": "0SkTL5MuFhf2"
      },
      "source": [
        "La salida de la celda anterior debería ser:\n",
        "\n",
        "```\n",
        "I. Partición de entrenamiento:\n",
        "\n",
        "El shape de X_train es: (1964, 10)\n",
        "El shape de y_train es: (1964,)\n",
        "Primeros 5 registros de X_train:\n",
        "[[ 58.   62.6  70.   55.7  85.   83.5  94.8  66.3  75.9  75.5]\n",
        " [ 62.6  70.   55.7  85.   83.5  94.8  66.3  75.9  75.5 158.6]\n",
        " [ 70.   55.7  85.   83.5  94.8  66.3  75.9  75.5 158.6  85.2]\n",
        " [ 55.7  85.   83.5  94.8  66.3  75.9  75.5 158.6  85.2  73.3]\n",
        " [ 85.   83.5  94.8  66.3  75.9  75.5 158.6  85.2  73.3  75.9]]\n",
        "Primeros 5 registros de y_train:\n",
        "[158.6  85.2  73.3  75.9  89.2]\n",
        "\n",
        "\n",
        "II. Partición de prueba:\n",
        "\n",
        "El shape de X_test es: (836, 10)\n",
        "El shape de y_test es: (836,)\n",
        "Primeros 5 registros de X_test:\n",
        "[[ 1.7  0.2  1.2  3.1  0.7  3.8  2.8  2.6  3.1 17.3]\n",
        " [ 0.2  1.2  3.1  0.7  3.8  2.8  2.6  3.1 17.3  5.2]\n",
        " [ 1.2  3.1  0.7  3.8  2.8  2.6  3.1 17.3  5.2 11.4]\n",
        " [ 3.1  0.7  3.8  2.8  2.6  3.1 17.3  5.2 11.4  5.4]\n",
        " [ 0.7  3.8  2.8  2.6  3.1 17.3  5.2 11.4  5.4  7.7]]\n",
        "Primeros 5 registros de y_test:\n",
        "[ 5.2 11.4  5.4  7.7 12.7]\n",
        "```"
      ]
    },
    {
      "cell_type": "markdown",
      "metadata": {
        "id": "2XyX-WxkTijI"
      },
      "source": [
        "<details>    \n",
        "<summary>\n",
        "    <font size=\"3\" color=\"darkgreen\"><b>Pista 1</b></font>\n",
        "</summary>\n",
        "\n",
        "* Estudie la implementación de la función en el taller guiado.\n"
      ]
    },
    {
      "cell_type": "markdown",
      "metadata": {
        "id": "BewaRwIz9MNg"
      },
      "source": [
        "<details>    \n",
        "<summary>\n",
        "    <font size=\"3\" color=\"darkgreen\"><b>Pista 2</b></font>\n",
        "</summary>\n",
        "\n",
        "* Declare los arreglos vacíos con el tamaño correspondiente con el método **`np.empty`** o similares e itere sobre los valores, generando cada ventana y cada valor siguiente y asignando sus valores a los arreglos iniciales.\n"
      ]
    },
    {
      "cell_type": "markdown",
      "metadata": {
        "id": "_JYZh7EX89JX"
      },
      "source": [
        "### **2.3. Entrenamiento de una red neuronal con GridSearchCV**\n",
        "---\n",
        "La preparación de los datos nos permite comenzar con la exploración de los mejores hiperparámetros para el modelo de regresión. En esta ocasión usaremos una red neuronal (perceptrón multicapa) para el entrenamiento, que se deberá realizar sobre los arreglos de la partición de entrenamiento (**`X_train`** y **`y_train`**), con un total de **`k`** divisiones (usando **`TimeSeriesSplit`**) y el diccionario de hiperparámetros **`param_grid`**.\n",
        "\n",
        "Complete la función **`train_time_series_mlp`** de tal manera que entrene y retorne un objeto **`GridSearchCV`** como resultado de la exploración de hiperparámetros del regresor perceptrón multicapa.  Para garantizar la reproducibilidad de su resultado, se le entregará además el argumento **`seed`**, que deberá ser usado como semilla aleatoria en el entrenamiento del regresor (en el constructor del regresor base).\n",
        "\n",
        "> **Nota:**\n",
        "* Asegurese de usar  **`TimeSeriesSplit`** como método para realizar la validación cruzada con **`k`** divisiones.\n",
        "* No utilice el argumento **`verbose`** del constructor **`GridSearchCV`**. Hacerlo podría generar problemas en la calificación debidos a la salida de texto.\n",
        "\n",
        "\n",
        "**Entrada:**\n",
        "\n",
        "* **`X_train`**: arreglo de *NumPy* de tamaño $(n, m)$ para entrenamiento.\n",
        "* **`y_train`**: arreglo de *NumPy* de tamaño $(n, )$ para entrenamiento.\n",
        "* **`param_grid`**: diccionario con las listas de valores posibles de cada hiperparámetro del modelo de perceptrón multicapa de *Scikit-Learn*.\n",
        "* **`k`**: número entero del total de divisiones de validación cruzada (para series de tiempo) que se deben explorar en la búsqueda de hiperparámetros.\n",
        "* **`seed`**: número real con la semilla aleatoria para el entrenamiento de los regresores.\n",
        "\n",
        "**Salida:**\n",
        "\n",
        "* **`gsearch`**: objeto **`GridSearchCV`** entrenado con las posibles configuraciones de hiperparámetros **`param_grid`** del perceptrón multicapa sobre los datos **`X_train`** y **`y_train`**.\n",
        "\n",
        "\n"
      ]
    },
    {
      "cell_type": "code",
      "metadata": {
        "id": "VUV8OC7KiCv1"
      },
      "source": [
        "# FUNCIÓN CALIFICADA train_time_series_mlp:\n",
        "\n",
        "# Módulos necesarios para realizar el ejercicio.\n",
        "from sklearn import model_selection\n",
        "from sklearn import neural_network\n",
        "\n",
        "def train_time_series_mlp(X_train, y_train, param_grid, k,\n",
        "# ¡No modifique los valores por defecto de los argumentos!\n",
        "                seed = 30303):\n",
        "  \"\"\"\n",
        "  Entradas:\n",
        "    X_train: Arreglo de numpy con shape (n, m)\n",
        "    y_train: Arreglo de numpy con shape (n,)\n",
        "    param_grid: Hiperparámetros a explorar\n",
        "    k: Número de divisiones para TimeSeriesSplit.\n",
        "    seed: Semilla aleatoria para la creación de la partición.\n",
        "  Retorna:\n",
        "    gsearch: GridSearchCV entrenado con X_train y y_train.\n",
        "  \"\"\"\n",
        "  ### ESCRIBA SU CÓDIGO AQUÍ ### (~ 3-4 líneas de código)\n",
        "\n",
        "  # Declare el regresor base del modelo perceptrón multicapa.\n",
        "  # IMPORTANTE: Fije la seed aleatoria con el argumento 'random_state'.\n",
        "  mlp = None\n",
        "\n",
        "  # Declare y entrene el objeto GridSearchCV.\n",
        "  gsearch = None\n",
        "\n",
        "  ### FIN DEL CÓDIGO ###\n",
        "  return None"
      ],
      "execution_count": null,
      "outputs": []
    },
    {
      "cell_type": "markdown",
      "metadata": {
        "id": "qqp6yHSMy1Mm"
      },
      "source": [
        "Ejecute la siguiente celda para probar su código:\n",
        "\n",
        "> **Nota**: La siguiente celda realiza la exploración de los hiperparámetros con el *dataset* *Sunspots*. Asegúrese de obtener el resultado correcto en el ejercicio $2.1$ y $2.2$ para recibir una salida apropiada."
      ]
    },
    {
      "cell_type": "code",
      "metadata": {
        "id": "-7RP2MHVjgQ5"
      },
      "source": [
        "#TEST_CELL\n",
        "from sklearn.utils.validation import check_is_fitted\n",
        "from sklearn.metrics import r2_score\n",
        "\n",
        "# Ejercicio 2.1. Generación de las particiones de prueba y entrenamiento del dataset sunspots.\n",
        "X_train, X_test = temporal_split(X_suns, p=0.3)\n",
        "assert isinstance(X_train, np.ndarray) and isinstance(X_test, np.ndarray) , \"Revise el ejercicio 2.1\"\n",
        "\n",
        "# Ejercicio 2.2. Transformación de las series en matrices de ventanas de tiempo.\n",
        "X_train_window, y_train_window = temporal_window(X_train, 10)\n",
        "X_test_window, y_test_window = temporal_window(X_test, 10)\n",
        "\n",
        "assert np.all([isinstance(p, np.ndarray) for p in\n",
        "               (X_train_window, y_train_window, X_test_window, y_test_window)]), \"Revise el ejercicio 2.2\"\n",
        "\n",
        "param_grid = {\n",
        "    \"hidden_layer_sizes\": [(20,), (40,), (80)],\n",
        "    \"max_iter\": [500], \"solver\": [\"lbfgs\"]\n",
        "  }\n",
        "\n",
        "gsearch = train_time_series_mlp(X_train_window, y_train_window, param_grid, 3)\n",
        "\n",
        "if isinstance(gsearch, sklearn.model_selection._search.GridSearchCV):\n",
        "  check_is_fitted(gsearch, msg = 'El modelo retornado no está entrenado.')\n",
        "  print(f'El mejor coeficiente de determinación (validación): {gsearch.best_score_:.6f}')\n",
        "  print(f'Los mejores hiperparámetros encontrados:\\n {gsearch.best_params_}')\n",
        "  y_pred = gsearch.predict(X_test_window)\n",
        "  print(f'El coeficiente de determinación (partición de prueba): {r2_score(y_test_window, y_pred):.6f}')\n",
        "\n",
        "else: print(\"El modelo GridSearchCV obtenido no es válido.\")"
      ],
      "execution_count": null,
      "outputs": []
    },
    {
      "cell_type": "markdown",
      "metadata": {
        "id": "245TmB5VG7xX"
      },
      "source": [
        "La salida de la celda anterior debería ser similar a la siguiente:\n",
        "\n",
        "```\n",
        "El mejor coeficiente de determinación (validación): 0.746096\n",
        "Los mejores hiperparámetros encontrados:\n",
        " {'hidden_layer_sizes': (20,), 'max_iter': 500, 'solver': 'lbfgs'}\n",
        "El coeficiente de determinación (partición de prueba): 0.877093\n",
        "```"
      ]
    },
    {
      "cell_type": "markdown",
      "metadata": {
        "id": "aNc8wA_nTwBU"
      },
      "source": [
        "<details>    \n",
        "<summary>\n",
        "    <font size=\"3\" color=\"darkgreen\"><b>Pista 1</b></font>\n",
        "</summary>\n",
        "\n",
        "* Cree una instancia de **`TimeSeriesSplit`** y defina la cantidad de divisiones con el parámetro **`n_splits`**."
      ]
    },
    {
      "cell_type": "markdown",
      "metadata": {
        "id": "LJMWRparUC9x"
      },
      "source": [
        "<details>    \n",
        "<summary>\n",
        "    <font size=\"3\" color=\"darkgreen\"><b>Pista 2</b></font>\n",
        "</summary>\n",
        "\n",
        "* Use la instancia de **`TimeSeriesplit`** como el parámetro **`cv`** de **`GridSearchCV`**.\n"
      ]
    },
    {
      "cell_type": "markdown",
      "metadata": {
        "id": "UGBz5thW-Cks"
      },
      "source": [
        "<details>    \n",
        "<summary>\n",
        "    <font size=\"3\" color=\"darkgreen\"><b>Pista 3</b></font>\n",
        "</summary>\n",
        "\n",
        "* El modelo entrenado con **`GridSearchCV`** debería ser declarado con el constructor **`MLPRegressor`** del paquete **`sklearn.neural_network`**. No olvide definir la semilla aleatoria del constructor con el argumento **`random_state`**.\n"
      ]
    },
    {
      "cell_type": "markdown",
      "metadata": {
        "id": "mxDGvmC_89O3"
      },
      "source": [
        "### **2.4. Predecir el siguiente valor de la serie de tiempo**\n",
        "---\n",
        "Con el mejor regresor entrenado podemos empezar a realizar predicciones de los próximos eventos solares. Para esto, utilizamos una ventana de valores previos para indicarle a nuestro regresor el estado previo de la serie de tiempo y poder obtener la predicción del siguiente valor.\n",
        "\n",
        "En este punto deberá completar la función **`next_value`**, que calcule el siguiente valor dado un modelo entrenado **`model`** y una ventana de datos **`window`**.\n",
        "\n",
        "> **Pregunta:**\n",
        "- ¿Qué sucedería si se tratara de predecir con una ventana con tamaño distinto a los datos usados para entrenar el modelo?\n",
        "\n",
        "**Entrada:**\n",
        "\n",
        "* **`model`**: modelo de regresión entrenado con $w$ características de entrada.\n",
        "* **`window`**: arreglo de *NumPy* de tamaño $(w, )$ con la ventana de tiempo previa al resultado esperado.\n",
        "\n",
        "**Salida:**\n",
        "\n",
        "* **`next`**: número real, valor predicho por el modelo de regresión **`model`** sobre la ventana **`window`**.\n",
        "\n",
        "\n",
        "\n",
        "\n",
        "\n",
        "\n"
      ]
    },
    {
      "cell_type": "code",
      "metadata": {
        "id": "_EXSinQil8MM"
      },
      "source": [
        "# FUNCIÓN CALIFICADA train_time_series_mlp:\n",
        "\n",
        "def next_value(model, window):\n",
        "  \"\"\"\n",
        "  Entradas:\n",
        "    model: modelo de regresión de Scikit-Learn entrenado.\n",
        "    window: arreglo de NumPy con shape (w,) donde w es el tamaño de la ventana.\n",
        "  Retorna:\n",
        "    next: el valor de la predicción con el siguiente valor a la ventana.\n",
        "  \"\"\"\n",
        "  ### ESCRIBA SU CÓDIGO AQUÍ ### (~ 3-4 líneas de código)\n",
        "\n",
        "  next = None\n",
        "\n",
        "  ### FIN DEL CÓDIGO ###\n",
        "  return next"
      ],
      "execution_count": null,
      "outputs": []
    },
    {
      "cell_type": "markdown",
      "metadata": {
        "id": "V1H96STW-Y-T"
      },
      "source": [
        "Ejecute las siguientes celdas para probar su código:"
      ]
    },
    {
      "cell_type": "code",
      "metadata": {
        "id": "WXwVElqV9fwJ"
      },
      "source": [
        "#TEST_CELL\n",
        "X4, y4 = sklearn.datasets.make_regression(random_state = 369, n_features = 10)\n",
        "linear_model = sklearn.linear_model.LinearRegression().fit(X4, y4)\n",
        "next = next_value(linear_model, np.linspace(0, 10, 10))\n",
        "\n",
        "print(f'Predicción: {next:.6f}' if isinstance(next, Number) else \"El número retornado no es válido.\")"
      ],
      "execution_count": null,
      "outputs": []
    },
    {
      "cell_type": "markdown",
      "metadata": {
        "id": "br-6bY_S-Nuc"
      },
      "source": [
        "**Salida esperada:**\n",
        "```\n",
        "Predicción: 2379.117487\n",
        "```"
      ]
    },
    {
      "cell_type": "code",
      "metadata": {
        "id": "9oxPcaqvnpRL"
      },
      "source": [
        "#TEST_CELL\n",
        "from sklearn.utils.validation import check_is_fitted\n",
        "from numbers import Number\n",
        "\n",
        "# Ejercicio 2.1. Generación de las particiones de prueba y entrenamiento del dataset sunspots.\n",
        "X_train, X_test = temporal_split(X_suns, p=0.3)\n",
        "assert isinstance(X_train, np.ndarray) and isinstance(X_test, np.ndarray) , \"Revise el ejercicio 2.1\"\n",
        "\n",
        "# Ejercicio 2.2. Transformación de las series en matrices de ventanas de tiempo.\n",
        "X_train_window, y_train_window = temporal_window(X_train, 10)\n",
        "X_test_window, y_test_window = temporal_window(X_test, 10)\n",
        "\n",
        "assert np.all([isinstance(p, np.ndarray) for p in\n",
        "               (X_train_window, y_train_window, X_test_window, y_test_window)]), \"Revise el ejercicio 2.2\"\n",
        "\n",
        "# Ejercicio 2.3. Entrenamiento del modelo con la búsqueda de la mejor configuración de hiperparámetros.\n",
        "param_grid = {\"hidden_layer_sizes\": [(20,), (40,), (80)], \"max_iter\": [500], \"solver\": [\"lbfgs\"]}\n",
        "gsearch = train_time_series_mlp(X_train_window, y_train_window, param_grid, 3)\n",
        "assert isinstance(gsearch, sklearn.model_selection._search.GridSearchCV), \"Revise el ejercicio 2.3\"\n",
        "check_is_fitted(gsearch, msg = 'Revise el ejercicio 2.3. (El modelo retornado no está entrenado)')\n",
        "\n",
        "window_id = 0\n",
        "window = X_test_window[window_id]\n",
        "\n",
        "print(f'Tamaño de la ventana: {window.shape}')\n",
        "print(f'Ventana:\\n{window}')\n",
        "\n",
        "pred = next_value(gsearch, window)\n",
        "if isinstance(pred, Number):\n",
        "  print(f'Predicción {pred:.6f}')\n",
        "else: print(\"El valor retornado no es válido.\")"
      ],
      "execution_count": null,
      "outputs": []
    },
    {
      "cell_type": "markdown",
      "metadata": {
        "id": "1CJ8cQCCGLOe"
      },
      "source": [
        "La salida de la celda anterior debería ser similar a:\n",
        "\n",
        "```\n",
        "Tamaño de la ventana: (10,)\n",
        "Ventana:\n",
        "[ 1.7  0.2  1.2  3.1  0.7  3.8  2.8  2.6  3.1 17.3]\n",
        "Predicción 9.708859\n",
        "```"
      ]
    },
    {
      "cell_type": "markdown",
      "metadata": {
        "id": "9KYDOPX6UXb1"
      },
      "source": [
        "<details>    \n",
        "<summary>\n",
        "    <font size=\"3\" color=\"darkgreen\"><b>Pista</b></font>\n",
        "</summary>\n",
        "\n",
        "\n",
        "* Para este punto debe retornar un único valor y NO un arreglo de *Numpy*. Tenga muy en cuenta el tamaño de las entradas y salidas de la función y de los métodos **`predict`**. En particular, el método **`predict`** espera una matriz de datos con las mismas columnas que los datos de entrenamiento y el argumento **`window`** es un vector que representa una única fila de ejemplo.\n"
      ]
    },
    {
      "cell_type": "markdown",
      "metadata": {
        "id": "zfXsHF1R89W4"
      },
      "source": [
        "### **2.5. Predecir los siguientes $n$ valores de la serie de tiempo**\n",
        "---\n",
        "Para finalizar, realizaremos una predicción de $n$ valores futuros de manera autorregresiva (a partir de ventanas predichas por el modelo) y lo compararemos de manera gráfica con la partición de prueba.\n",
        "\n",
        "Complete la función **`predict_n_future_values`** de tal manera que reciba un modelo entrenado **`model`**, una ventana inicial **`window`** y el número de puntos del futuro a predecir **`n`**.\n",
        "\n",
        "**Entrada:**\n",
        "\n",
        "* **`model`**: modelo de regresión entrenado con $w$ características de entrada.\n",
        "* **`window`**: arreglo de *NumPy* de tamaño $(w, )$ con la ventana de tiempo inicial.\n",
        "* **`n`**: número entero positivo con el tamaño de la serie de tiempo de predicciones a generar.\n",
        "\n",
        "**`Salida`**\n",
        "\n",
        "* **`pred`**: arreglo de *NumPy* de tamaño $n$ con la serie de tiempo de predicciones del modelo a partir del valor siguiente a la ventana de tiempo dada.\n",
        "\n",
        "\n",
        "\n"
      ]
    },
    {
      "cell_type": "code",
      "metadata": {
        "id": "wCevXOfZbiQF"
      },
      "source": [
        "# FUNCIÓN CALIFICADA predict_n_future_values:\n",
        "\n",
        "def predict_n_future_values(model, window, n):\n",
        "  \"\"\"\n",
        "  Entradas:\n",
        "    model: modelo de regresión entrenado con w características de entrada.\n",
        "    window: arreglo de NumPy con tamaño (w,)\n",
        "    n:número de pasos temporales a predecir.\n",
        "  Retorna:\n",
        "    pred: arreglo de NumPy con tamaño (n,) con la predicción de los siguientes n valores\n",
        "  \"\"\"\n",
        "  ### ESCRIBA SU CÓDIGO AQUÍ ### (~ 3-4 líneas de código)\n",
        "\n",
        "  pred = None\n",
        "\n",
        "  ### FIN DEL CÓDIGO ###\n",
        "\n",
        "  return pred"
      ],
      "execution_count": null,
      "outputs": []
    },
    {
      "cell_type": "markdown",
      "metadata": {
        "id": "QH1yTFs73Wwl"
      },
      "source": [
        "Use las siguientes celdas para probar su función\n",
        "\n",
        "> **Nota:** Cuando se sienta cómodo con el resultado obtenido con su función siéntase libre de cambiar los parámetros **`window_size`**, **`window_index`** y **`n`** para visualizar el desempeño del modelo en otras ventanas temporales. En este caso como **`n`** es $24$, estamos prediciendo los valores para $2$ años."
      ]
    },
    {
      "cell_type": "code",
      "metadata": {
        "id": "BQEEeR-KpY0_"
      },
      "source": [
        "#TEST_CELL\n",
        "from sklearn.utils.validation import check_is_fitted\n",
        "from numbers import Number\n",
        "\n",
        "# Cambiar estos argumentos alterará la salida del problema.\n",
        "# Solo modifíquelos cuando tenga una respuesta apropiada.\n",
        "\n",
        "window_size = 20\n",
        "window_id = 50\n",
        "n = 24\n",
        "\n",
        "\n",
        "# Ejercicio 2.1. Generación de las particiones de prueba y entrenamiento del dataset sunspots.\n",
        "X_train, X_test = temporal_split(X_suns, p=0.3)\n",
        "assert isinstance(X_train, np.ndarray) and isinstance(X_test, np.ndarray) , \"Revise el ejercicio 2.1\"\n",
        "\n",
        "# Ejercicio 2.2. Transformación de las series en matrices de ventanas de tiempo.\n",
        "X_train_window, y_train_window = temporal_window(X_train, window_size)\n",
        "X_test_window, y_test_window = temporal_window(X_test, window_size)\n",
        "\n",
        "assert np.all([isinstance(p, np.ndarray) for p in\n",
        "               (X_train_window, y_train_window, X_test_window, y_test_window)]), \"Revise el ejercicio 2.2\"\n",
        "\n",
        "# Ejercicio 2.3. Entrenamiento del modelo con la búsqueda de la mejor configuración de hiperparámetros.\n",
        "param_grid = {\"hidden_layer_sizes\": [(40,), (80)], \"max_iter\": [500], \"solver\": [\"lbfgs\"]}\n",
        "gsearch = train_time_series_mlp(X_train_window, y_train_window, param_grid, 3)\n",
        "assert isinstance(gsearch, sklearn.model_selection._search.GridSearchCV), \"Revise el ejercicio 2.3\"\n",
        "check_is_fitted(gsearch, msg = 'Revise el ejercicio 2.3. (El modelo retornado no está entrenado)')\n",
        "\n",
        "window = X_test_window[window_id]\n",
        "y_true = y_test_window[window_id : window_id + n]\n",
        "y_pred = predict_n_future_values(gsearch, window, n)\n",
        "\n",
        "if isinstance(y_pred, np.ndarray):\n",
        "  plt.figure(dpi=130);\n",
        "  plt.plot(y_pred, label='predicho');\n",
        "  plt.plot(y_true, label='real');\n",
        "  plt.legend();\n",
        "else: print(\"El arreglo retornado no es válido.\")"
      ],
      "execution_count": null,
      "outputs": []
    },
    {
      "cell_type": "markdown",
      "metadata": {
        "id": "SSzgdRpdHpgY"
      },
      "source": [
        "**Salida esperada:**\n",
        "\n",
        "![u3e2_4.png](data:image/png;base64,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)"
      ]
    },
    {
      "cell_type": "markdown",
      "metadata": {
        "id": "3hL-0QvYHnMP"
      },
      "source": [
        "<details>    \n",
        "<summary>\n",
        "    <font size=\"3\" color=\"darkgreen\"><b>Pista 1</b></font>\n",
        "</summary>\n",
        "\n",
        "* Utilice la función que definió anteriormente para facilitar la implementación, y construya de manera iterativa el arreglo con los valores predichos y las nuevas ventanas de entrada de la siguiente predicción.\n"
      ]
    },
    {
      "cell_type": "markdown",
      "metadata": {
        "id": "iWb_aeQxVHGO"
      },
      "source": [
        "<details>    \n",
        "<summary>\n",
        "    <font size=\"3\" color=\"darkgreen\"><b>Pista 2</b></font>\n",
        "</summary>\n",
        "\n",
        "* Inicialice un arreglo de _Numpy_ con el tamaño requerido y asigne los valores con un bucle **`for`**.\n"
      ]
    },
    {
      "cell_type": "markdown",
      "metadata": {
        "id": "cA068pfYU5u6"
      },
      "source": [
        "<details>    \n",
        "<summary>\n",
        "    <font size=\"3\" color=\"darkgreen\"><b>Pista 3</b></font>\n",
        "</summary>\n",
        "\n",
        "* Utilice la función **`concatenate`** de _NumPy_  para generar una nueva ventana al concatenar los valores de la ventana previa (sin el primer valor) y el valor predicho en la última iteración. Por ejemplo:\n",
        "\n",
        "```python\n",
        ">>> np.concatenate( ([0, 1, 2], [3, 4]) )\n",
        "array([0, 1, 2, 3, 4])\n",
        "```\n"
      ]
    },
    {
      "cell_type": "markdown",
      "metadata": {
        "id": "QrU5ELZuMyF6"
      },
      "source": [
        "**¡Felicitaciones!** Ha terminado la tarea de la Unidad 3. ¡Buen trabajo!\n",
        "\n",
        "## **Entrega**\n",
        "\n",
        "Para entregar el notebook por favor haga lo siguiente:\n",
        "1. Descargue el notebook (`Archivo` -> `Descargar .ipynb`).\n",
        "2. Ingrese a Moodle.\n",
        "3. Realice el envío del *notebook* que descargó en la tarea (o quiz) correspondiente.\n",
        "4. Recuerde que si tiene algún error, puede hacer múltiples intentos de envío en UNCode."
      ]
    },
    {
      "cell_type": "markdown",
      "metadata": {
        "id": "R2feLN7OTQH0"
      },
      "source": [
        "## **Referencias**\n",
        "---\n",
        "- [mlcourse -\n",
        "Topic 3. Classification, Decision Trees and k Nearest Neighbors\n",
        "](https://mlcourse.ai/articles/topic3-dt-knn/)\n"
      ]
    },
    {
      "cell_type": "markdown",
      "metadata": {
        "id": "O6dwABE_Zg44"
      },
      "source": [
        "## **Créditos**\n",
        "---\n",
        "\n",
        "* **Profesor:** [Fabio Augusto González](https://dis.unal.edu.co/~fgonza/)\n",
        "* **Asistentes docentes:**\n",
        "  * Miguel Angel Ortiz Marín\n",
        "  * Alberto Nicolai Romero Martínez\n",
        "\n",
        "**Universidad Nacional de Colombia** - *Facultad de Ingeniería*"
      ]
    }
  ]
}