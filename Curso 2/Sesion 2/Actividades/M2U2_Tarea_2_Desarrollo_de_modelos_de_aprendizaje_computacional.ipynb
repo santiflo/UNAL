{
  "nbformat": 4,
  "nbformat_minor": 0,
  "metadata": {
    "colab": {
      "provenance": [],
      "collapsed_sections": [
        "9-Vnu3j7unFd",
        "pXXcFvaPXPE4",
        "DVeqXFAvxUsf",
        "sfeS7LoKz6TV",
        "xlUPahTE5QOa",
        "ZmOu3KRC-G7J",
        "lHgcjzq7BKa1",
        "jAu9k77j37td"
      ],
      "toc_visible": true
    },
    "kernelspec": {
      "name": "python3",
      "display_name": "Python 3"
    },
    "language_info": {
      "name": "python"
    }
  },
  "cells": [
    {
      "cell_type": "markdown",
      "metadata": {
        "id": "Fzwzp3koBoxx"
      },
      "source": [
        "![](https://drive.google.com/uc?export=view&id=1NiRkCapP04t7XxA7fbG7ZWie2PA1L_0M)"
      ]
    },
    {
      "cell_type": "markdown",
      "metadata": {
        "id": "fEewD2N0RkMc"
      },
      "source": [
        "# **Tarea 2: Evaluación del desempeño con *Scikit-Learn***\n",
        "---\n",
        "\n",
        "En esta tarea deberá entrenar un modelo de clasificación para el [conjunto de datos de vinos _Wine_](https://archive.ics.uci.edu/ml/datasets/wine) del repositorio de la *UCI* usando *Scikit-learn*.\n",
        "\n",
        "El conjunto de datos cuenta con información de análisis químico en lotes de vinos cosechados en la misma región de Italia en $3$ cultivos distintos.\n",
        "\n",
        "\n",
        "| Variable | Medida\t| Valores |\n",
        "| --- | --- | --- |\n",
        "| alcohol | \tPorcentaje de alcohol. | \tnumérico |\n",
        "| malic_acid \t|  Ácido málico. | \tnumérico\n",
        "| ash \t| Cenizas (restos inorgánicos). \t| numérico|\n",
        "| alcalinity_of_ash |\tAlcalinidad de la ceniza. \t| numérico|\n",
        "| magnesium |\tMagnesio. \t| numérico|\n",
        "| total_phenols |\tFenoles totales. \t| numérico|\n",
        "| flavanoids |\t Flavonoides. \t| numérico|\n",
        "| nonflavanoid_phenols |\tFenoles no flavonoides. \t| numérico|\n",
        "| proanthocyanins |\tProantocianidinas. \t| numérico|\n",
        "| color_intensity |\tIntensidad del color. \t| numérico|\n",
        "| hue |\tTonalidad del color. \t| numérico|\n",
        "| od280/od315_of_diluted_wines |\t Concentración de proteínas (OD280/OD315). \t| numérico|\n",
        "| proline |\tProlino. \t| numérico|\n",
        "\n",
        "\n",
        "\n",
        "> **Nota:** Esta tarea va a ser calificada en la plataforma **[UNCode](https://juezun.github.io/)**. Para esto, en cada ejercicio se indicará si es calificable o no, también los lugares donde debe escribir su código sin modificar lo demás con un aproximado de cantidad de líneas a escribir. No se preocupe si su código toma más líneas, esto es simplemente un aproximado destinado a que pueda replantear su estrategia si el código está tomando más de las esperadas. No es un requisito estricto y soluciones más largas también son válidas. Al finalizar, para realizar el envío (*submission*), descargue el notebook como un archivo **`.ipynb`** y haga su entrega a través de **Moodle**.\n",
        ">\n",
        "> **La tarea es incremental, es recomendable resolver los puntos en orden.**\n"
      ]
    },
    {
      "cell_type": "markdown",
      "metadata": {
        "id": "S-ocd--frFi7"
      },
      "source": [
        "Ejecute la siguiente celda para importar y configurar las librerías usadas:"
      ]
    },
    {
      "cell_type": "code",
      "metadata": {
        "id": "PIB7qeOuVkfh"
      },
      "source": [
        "# Actualizamos a la última versión disponible de scikit-learn.\n",
        "import sklearn\n",
        "\n",
        "# Librerías de utilidad para manipulación y visualización de datos.\n",
        "from numbers import Number\n",
        "import numpy as np\n",
        "import pandas as pd"
      ],
      "execution_count": null,
      "outputs": []
    },
    {
      "cell_type": "code",
      "metadata": {
        "id": "nm_ulccYMeUn"
      },
      "source": [
        "#TEST_CELL\n",
        "# Configuramos el formato por defecto de la\n",
        "# librería de visualización Matplotlib.\n",
        "import seaborn as sns\n",
        "import matplotlib as mpl\n",
        "import matplotlib.pyplot as plt\n",
        "\n",
        "%matplotlib inline\n",
        "%config InlineBackend.figure_format = 'retina'\n",
        "mpl.rcParams['figure.dpi'] = 110\n",
        "mpl.rcParams['figure.figsize'] = (8, 6)\n",
        "sns.set_theme()"
      ],
      "execution_count": null,
      "outputs": []
    },
    {
      "cell_type": "code",
      "metadata": {
        "id": "jUMP_2CPqwRY",
        "colab": {
          "base_uri": "https://localhost:8080/"
        },
        "outputId": "f9edd1f1-63aa-4032-e7cb-53e09e0c641f"
      },
      "source": [
        "#TEST_CELL\n",
        "# Versiones de las librerías usadas.\n",
        "\n",
        "!python --version\n",
        "print('NumPy', np.__version__)\n",
        "print('Pandas', pd.__version__)\n",
        "print('Matplotlib', mpl.__version__)\n",
        "print('Seaborn', sns.__version__)\n",
        "print('Scikit-learn', sklearn.__version__)"
      ],
      "execution_count": null,
      "outputs": [
        {
          "output_type": "stream",
          "text": [
            "Python 3.7.10\n",
            "NumPy 1.19.5\n",
            "Pandas 1.1.5\n",
            "Matplotlib 3.2.2\n",
            "Seaborn 0.11.1\n",
            "Scikit-learn 0.22.2.post1\n"
          ],
          "name": "stdout"
        }
      ]
    },
    {
      "cell_type": "markdown",
      "metadata": {
        "id": "dxNzX3sfq3gZ"
      },
      "source": [
        "Esta actividad se realizó con las siguientes versiones:\n",
        "*  *Python*: 3.7.10\n",
        "*  *NumPy*:  1.19.5\n",
        "*  *Pandas*: 1.1.5\n",
        "*  *Matplotlib*:  3.2.2\n",
        "*  *Seaborn*:  0.11.1\n",
        "*  *Scikit-learn*: 0.22.2.post1"
      ]
    },
    {
      "cell_type": "markdown",
      "metadata": {
        "id": "29w9RP8pnPJv"
      },
      "source": [
        "## **1. Cargar *Wine* en formato X, y**\n",
        "-------\n",
        "Antes de comenzar el proceso de modelado deberá identificar el conjunto de datos discutido y cargarlo en el formato adecuado.\n",
        "\n",
        "Complete la función **`load_X_y`** de tal manera que cargue el conjunto de datos *Wine* en el formato **`X, y`**.\n",
        "El arreglo **`X`** debe corresponder a las características del conjunto de datos y **`y`** a las etiquetas.\n",
        "\n",
        "**Salida**:\n",
        "* **`X`**: arreglo de *NumPy* de $2$ dimensiones con las variables de entrada del conjunto de datos *Wine* (medidas de concentraciones de sustancias químicas en cosechas de vino).\n",
        "* **`y`**: arreglo de *NumPy* de $1$ dimensión con la variable de salida del conjunto de datos *Wine* (cultivo al que pertenece la medida)."
      ]
    },
    {
      "cell_type": "code",
      "metadata": {
        "id": "NjOczYfpnaoR"
      },
      "source": [
        "# FUNCIÓN CALIFICADA load_X_y:\n",
        "\n",
        "# Módulo necesario para realizar el ejercicio.\n",
        "from sklearn import datasets\n",
        "\n",
        "def load_X_y():\n",
        "  \"\"\"\n",
        "  Retorna:\n",
        "    X: arreglo de NumPy de tamaño (150, 4) que representa las\n",
        "            variables de entrada del conjunto Wine.\n",
        "    y: arreglo de NumPy de tamaño (150,) que representa la variable\n",
        "            de salida (etiqueta).\n",
        "  \"\"\"\n",
        "  ### ESCRIBA SU CÓDIGO AQUÍ ### (~ 1 línea de código)\n",
        "\n",
        "  X, y = None, None\n",
        "\n",
        "  ### FIN DEL CÓDIGO ###\n",
        "\n",
        "  return X, y"
      ],
      "execution_count": null,
      "outputs": []
    },
    {
      "cell_type": "markdown",
      "metadata": {
        "id": "YuxmkRGBnvbi"
      },
      "source": [
        "Use la siguiente celda para probar su función:"
      ]
    },
    {
      "cell_type": "code",
      "metadata": {
        "id": "Cva_57Mgn0sC"
      },
      "source": [
        "#TEST_CELL\n",
        "X, y = load_X_y()\n",
        "\n",
        "if isinstance(X, np.ndarray) and isinstance(y, np.ndarray):\n",
        "  print(\"El shape de X es:\", X.shape)\n",
        "  print(\"El shape de y es:\", y.shape)\n",
        "else:\n",
        "  print(\"El tipo de los objetos es incorrecto.\")"
      ],
      "execution_count": null,
      "outputs": []
    },
    {
      "cell_type": "markdown",
      "metadata": {
        "id": "SWjnAGXrsi22"
      },
      "source": [
        "**Salida esperada:**\n",
        "\n",
        " ```\n",
        "El shape de X es: (178, 13)\n",
        "El shape de y es: (178,)\n",
        "```"
      ]
    },
    {
      "cell_type": "code",
      "metadata": {
        "id": "ATPNx6_lNBlO"
      },
      "source": [
        "#TEST_CELL\n",
        "if isinstance(y, np.ndarray):\n",
        "  print(np.bincount(y)) # Conteo de repeticiones por clase.\n",
        "else:\n",
        "  print(\"El tipo del objetos 'y' es incorrecto.\")"
      ],
      "execution_count": null,
      "outputs": []
    },
    {
      "cell_type": "markdown",
      "metadata": {
        "id": "LuvB3imHNUPH"
      },
      "source": [
        "**Salida esperada:**\n",
        "\n",
        " ```\n",
        "[59 71 48]\n",
        "```"
      ]
    },
    {
      "cell_type": "markdown",
      "metadata": {
        "id": "7Qc3Co25b2fQ"
      },
      "source": [
        "Ejecute la siguiente celda (después de completar el punto anterior) para visualizar la distribución de etiquetas del conjunto de datos."
      ]
    },
    {
      "cell_type": "code",
      "metadata": {
        "id": "Fxs3wH-dbowE"
      },
      "source": [
        "#TEST_CELL\n",
        "X, y = load_X_y()\n",
        "sns.countplot(x = y);"
      ],
      "execution_count": null,
      "outputs": []
    },
    {
      "cell_type": "markdown",
      "metadata": {
        "id": "J-1x6GbPr4wM"
      },
      "source": [
        "Debería ver un conjunto de datos ligeramente desbalanceado con $178$ ejemplos."
      ]
    },
    {
      "cell_type": "markdown",
      "metadata": {
        "id": "NrO-0i11sy6S"
      },
      "source": [
        "**Salida esperada**:\n",
        "\n",
        "![u3e1.png](data:image/png;base64,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)"
      ]
    },
    {
      "cell_type": "markdown",
      "metadata": {
        "id": "4NjgUB-JFFCR"
      },
      "source": [
        "<details>    \n",
        "<summary>\n",
        "    <font size=\"3\" color=\"darkgreen\"><b>Pista 1</b></font>\n",
        "</summary>\n",
        "\n",
        "* Consulte la [lista de conjuntos de datos](https://scikit-learn.org/stable/datasets/toy_dataset.html) disponibles como *loaders* en el módulo **`sklearn.datasets`**.\n"
      ]
    },
    {
      "cell_type": "markdown",
      "metadata": {
        "id": "9-Vnu3j7unFd"
      },
      "source": [
        "## **2. Problema de clasificación binaria**\n",
        "---\n",
        "En esta actividad abordaremos primero el *dataset* como un problema de clasificación binaria, y más adelante, uno de clasificación multiclase.\n",
        "\n",
        "Complete la función **`bin_X_y`**, que seleccione solo los ejemplos de la clase $0$ y $1$ tanto para **`X`** como para **`y`** y retorne los dos conjuntos reducidos. **El orden de los datos conservados se debe mantener**.\n",
        "\n",
        "**Entrada**:\n",
        "\n",
        "* **`X`**: arreglo de *NumPy* de tamaño $(n, m)$.\n",
        "* **`y`**: arreglo de *NumPy* de tamaño $(n, )$.\n",
        "\n",
        "\n",
        "**Salida**:\n",
        "* **`X_bin`**:  arreglo de *NumPy* de tamaño $(n^\\prime, m)$ con los registros de **`X`** que correspondan a las clases $0$ y $1$ del vector de etiquetas **`y`**.\n",
        "* **`y_bin`**:  arreglo de *NumPy* de tamaño $(n^\\prime,)$ con los registros del vector de etiquetas **`y`** que correspondan a las clases $0$ y $1$.\n"
      ]
    },
    {
      "cell_type": "code",
      "metadata": {
        "id": "DyV6b2ZVu_dl"
      },
      "source": [
        "# FUNCIÓN CALIFICADA bin_X_y:\n",
        "\n",
        "def bin_X_y(X, y):\n",
        "    \"\"\"\n",
        "    X: una matriz de datos, arreglo de NumPy de tamaño (n, m)\n",
        "    y: un vector de etiquetas, arreglo de NumPy de tamaño (n,)\n",
        "\n",
        "  Retorna:\n",
        "    X_bin:  arreglo de NumPy de tamaño (n', m) con los registros de X que\n",
        "            correspondan a las clases  0  y  1  del vector de etiquetas y.\n",
        "    y_bin:  arreglo de NumPy de tamaño (n',) con los registros del vector\n",
        "            de etiquetas y que correspondan a las clases 0 y  1.\n",
        "    \"\"\"\n",
        "\n",
        "    ### ESCRIBA SU CÓDIGO AQUÍ ### (~ 2 líneas de código)\n",
        "\n",
        "    X_bin = None\n",
        "    y_bin = None\n",
        "\n",
        "    ### FIN DEL CÓDIGO ###\n",
        "    return X_bin, y_bin"
      ],
      "execution_count": null,
      "outputs": []
    },
    {
      "cell_type": "markdown",
      "metadata": {
        "id": "GSg9xPO0veXg"
      },
      "source": [
        "Use la siguiente celda para probar su función:"
      ]
    },
    {
      "cell_type": "code",
      "metadata": {
        "id": "aUDHftIDUoj8"
      },
      "source": [
        "#TEST_CELL\n",
        "X2 = np.arange(40).reshape(10, 4)\n",
        "y2 = np.array([1, 0, 2, 1, 0, 2, 0, 2, 2, 0])\n",
        "\n",
        "X_bin, y_bin = bin_X_y(X2, y2)\n",
        "\n",
        "if isinstance(X_bin, np.ndarray) and isinstance(y_bin, np.ndarray):\n",
        "  print(\"El shape de X_bin es:\", X_bin.shape)\n",
        "  print(\"El shape de y_bin es:\", y_bin.shape)\n",
        "else:\n",
        "  print(\"El tipo de los objetos es incorrecto.\")"
      ],
      "execution_count": null,
      "outputs": []
    },
    {
      "cell_type": "markdown",
      "metadata": {
        "id": "RL-v3NygVrrb"
      },
      "source": [
        "**Salida esperada:**\n",
        "\n",
        " ```\n",
        "El shape de X_bin es: (6, 4)\n",
        "El shape de y_bin es: (6,)\n",
        "```"
      ]
    },
    {
      "cell_type": "code",
      "metadata": {
        "id": "v2rWcWm8V5cT"
      },
      "source": [
        "#TEST_CELL\n",
        "X2 = np.arange(40).reshape(10, 4)\n",
        "y2 = np.array([1, 0, 2, 1, 0, 2, 0, 2, 2, 0])\n",
        "\n",
        "X_bin, y_bin = bin_X_y(X2, y2)\n",
        "\n",
        "if isinstance(X_bin, np.ndarray):\n",
        "  print(X_bin)\n",
        "else:\n",
        "  print(\"El tipo del objeto 'X_bin' es incorrecto.\")"
      ],
      "execution_count": null,
      "outputs": []
    },
    {
      "cell_type": "markdown",
      "metadata": {
        "id": "whUZVLiPV5cU"
      },
      "source": [
        "**Salida esperada:**\n",
        "\n",
        " ```\n",
        "[[ 0  1  2  3]\n",
        " [ 4  5  6  7]\n",
        " [12 13 14 15]\n",
        " [16 17 18 19]\n",
        " [24 25 26 27]\n",
        " [36 37 38 39]]\n",
        "```"
      ]
    },
    {
      "cell_type": "code",
      "metadata": {
        "id": "pWIiRFeVZ9-n"
      },
      "source": [
        "#TEST_CELL\n",
        "X2 = np.arange(40).reshape(10, 4)\n",
        "y2 = np.array([1, 0, 2, 1, 0, 2, 0, 2, 2, 0])\n",
        "\n",
        "X_bin, y_bin = bin_X_y(X2, y2)\n",
        "\n",
        "if isinstance(y_bin, np.ndarray):\n",
        "  print(y_bin)\n",
        "else:\n",
        "  print(\"El tipo del objeto 'y_bin' es incorrecto.\")"
      ],
      "execution_count": null,
      "outputs": []
    },
    {
      "cell_type": "markdown",
      "metadata": {
        "id": "gmF52C5aZ9-s"
      },
      "source": [
        "**Salida esperada:**\n",
        "\n",
        " ```\n",
        "[1 0 1 0 0 0]\n",
        "```"
      ]
    },
    {
      "cell_type": "markdown",
      "metadata": {
        "id": "EKAXtJ29QfK1"
      },
      "source": [
        "<details>    \n",
        "<summary>\n",
        "    <font size=\"3\" color=\"darkgreen\"><b>Pista 1</b></font>\n",
        "</summary>\n",
        "\n",
        "\n",
        "* En *NumPy* se puede realizar selección condicional con la siguiente sintaxis: **`X[cond]`**, donde **`cond`** corresponde a un arreglo de valores booleanos con el mismo tamaño en la dimensión $0$ (filas).\n"
      ]
    },
    {
      "cell_type": "markdown",
      "metadata": {
        "id": "nMn59ZFKFGfY"
      },
      "source": [
        "<details>    \n",
        "<summary>\n",
        "    <font size=\"3\" color=\"darkgreen\"><b>Pista 2</b></font>\n",
        "</summary>\n",
        "\n",
        "\n",
        "* En *NumPy* se puede realizar selección condicional de valores específicos con la siguiente sintaxis: **`X[X op a]`**, donde **`op`** corresponde a un operador lógico (**`==`**, **`!=`**,  **`>`**,  **`>=`**,  **`<`**,  **`<=`**, etc).\n"
      ]
    },
    {
      "cell_type": "markdown",
      "metadata": {
        "id": "bf6nCebsRVif"
      },
      "source": [
        "<details>    \n",
        "<summary>\n",
        "    <font size=\"3\" color=\"darkgreen\"><b>Pista 3</b></font>\n",
        "</summary>\n",
        "\n",
        "\n",
        "* Debería usar los valores condicionales de las clases del vector de etiquetas **`y`** para seleccionar los valores tanto en el arreglo **`y`** como en  **`X`**.\n"
      ]
    },
    {
      "cell_type": "markdown",
      "metadata": {
        "id": "pXXcFvaPXPE4"
      },
      "source": [
        "##  **3. Generar particiones de entrenamiento y prueba con estratificación**\n",
        "---\n",
        "Cuando se trata con datos con clases desbalanceadas se corre el riesgo de que los resultados obtenidos se vean alterados por el sesgo de muestreo. Al realizar una partición aleatoria se considera buena práctica definir un criterio de estratificación, como el uso de clases o características categóricas para preservar la frecuencia relativa de aparición de cada clase en los subconjuntos generados.\n",
        "\n",
        "Complete la función **`get_stratified_split`** de tal manera que haga una partición de los datos en los conjuntos de entrenamiento y prueba estratificados por las clases del vector de etiquetas usando *Scikit-learn*.\n",
        "\n",
        "> **Nota:** La función creada deberá aceptar un argumento para definir el tamaño relativo de la partición de prueba (**`p`**) y otro para definir la semilla aleatoria (**`random_state`**) para garantizar la reproducibilidad.\n",
        "\n",
        "**Entrada**:\n",
        "\n",
        "* **`X`**: arreglo de *NumPy* de tamaño $(n, m)$.\n",
        "* **`y`**: arreglo de *NumPy* de tamaño $(n, )$.\n",
        "* **`p`**: número real entre $0$ y $1$ con la proporción correspondiente a la partición de prueba.\n",
        "* **`random_state`**: número real con la semilla aleatoria para la generación de la partición.\n",
        "\n",
        "**Salida**:\n",
        "* **`X_train`**: arreglo de *NumPy* con *shape* aproximado $(n\\cdot (1-p), m)$ para la partición de entrenamiento de **`X`**.\n",
        "* **`X_test`**:  arreglo de *NumPy* con *shape* aproximado $(n\\cdot p, m)$ para la partición de prueba de **`X`**.\n",
        "* **`y_train`**: arreglo de *NumPy* con *shape* aproximado $(n \\cdot (1-p),)$ para la partición de entrenamiento de **`y`**.\n",
        "* **`y_test`**:  arreglo de *NumPy* con *shape* aproximado $(n\\cdot p,)$ para la partición de prueba de **`y`**."
      ]
    },
    {
      "cell_type": "code",
      "metadata": {
        "id": "Kb_Fg2knB9wZ"
      },
      "source": [
        "# FUNCIÓN CALIFICADA get_stratified_split:\n",
        "\n",
        "# Módulo necesario para realizar el ejercicio.\n",
        "from sklearn import model_selection\n",
        "\n",
        "def get_stratified_split(X, y,\n",
        "# ¡No modifique los valores por defecto de los argumentos!\n",
        "              p=0.3, random_state=42):\n",
        "  \"\"\"\n",
        "    X: matriz de datos, arreglo de NumPy con shape (n, m).\n",
        "    y: vector de etiquetas, arreglo de NumPy con shape (n,).\n",
        "    p: proporción de los datos para la partición de prueba,\n",
        "       número real entre 0 y 1.\n",
        "    random_state: semilla aleatoria.\n",
        "\n",
        "  Retorna:\n",
        "    X_train: arreglo de NumPy con shape aproximado (n(1 - p), m)\n",
        "              para la partición de entrenamiento de X.\n",
        "    X_test:  arreglo de NumPy con shape aproximado (n(p), m)\n",
        "              para la partición de prueba de X.\n",
        "    y_train: arreglo de NumPy con shape aproximado (n(1 - p),)\n",
        "              para la partición de entrenamiento de y.\n",
        "    y_test:  arreglo de NumPy con shape aproximado (n(p),)\n",
        "              para la partición de prueba de y.\n",
        "  \"\"\"\n",
        "  ### ESCRIBA SU CÓDIGO AQUÍ ### (~ 2 líneas de código)\n",
        "\n",
        "  X_train, X_test, y_train, y_test = None, None, None, None\n",
        "\n",
        "  ### FIN DEL CÓDIGO ###\n",
        "\n",
        "  return X_train, X_test, y_train, y_test"
      ],
      "execution_count": null,
      "outputs": []
    },
    {
      "cell_type": "markdown",
      "metadata": {
        "id": "XvZOXF8OFjHe"
      },
      "source": [
        "Use la siguiente celda para probar su partición:"
      ]
    },
    {
      "cell_type": "code",
      "metadata": {
        "id": "TNouhOiFFjHf"
      },
      "source": [
        "#TEST_CELL\n",
        "X3 = np.arange(500).reshape(100, 5)\n",
        "y3 = np.repeat([0,1], [25, 75])\n",
        "\n",
        "X_train, X_test, y_train, y_test = get_stratified_split(X3, y3)\n",
        "\n",
        "if np.all([isinstance(p, np.ndarray) for p in (X_train, X_test, y_train, y_test)]):\n",
        "  print('I. Partición de entrenamiento:\\n')\n",
        "\n",
        "  print(f\"Tamaño de X: {X_train.shape}\")\n",
        "  print(f\"Primeros 5 valores de X:\")\n",
        "  print(X_train[:5, :])\n",
        "\n",
        "  print(f\"Primeros 5 valores de y: {y_train[:5]}\")\n",
        "  print(f\"Valores únicos de y:\", np.bincount(y_train))\n",
        "\n",
        "  print('\\nII. Partición de prueba:\\n')\n",
        "  print(f\"Tamaño de X: {X_test.shape}\")\n",
        "\n",
        "  print(f\"Primeros 5 valores de X:\")\n",
        "  print(X_test[:5, :])\n",
        "  print(f\"Primeros 5 valores de y: {y_test[:5]}\")\n",
        "  print(f\"Valores únicos de y:\", np.bincount(y_test))\n",
        "else:\n",
        "  print(\"Alguno de los objetos asignado no es un arreglo de NumPy válido.\")"
      ],
      "execution_count": null,
      "outputs": []
    },
    {
      "cell_type": "markdown",
      "metadata": {
        "id": "_xmwEFfBJ43x"
      },
      "source": [
        "**Salida esperada**:\n",
        "\n",
        "```\n",
        "I. Partición de entrenamiento:\n",
        "\n",
        "Tamaño de X: (70, 5)\n",
        "Primeros 5 valores de X:\n",
        "[[390 391 392 393 394]\n",
        " [495 496 497 498 499]\n",
        " [370 371 372 373 374]\n",
        " [260 261 262 263 264]\n",
        " [295 296 297 298 299]]\n",
        "Primeros 5 valores de y: [1 1 1 1 1]\n",
        "Valores únicos de y: [17 53]\n",
        "\n",
        "II. Partición de prueba:\n",
        "\n",
        "Tamaño de X: (30, 5)\n",
        "Primeros 5 valores de X:\n",
        "[[405 406 407 408 409]\n",
        " [ 90  91  92  93  94]\n",
        " [460 461 462 463 464]\n",
        " [100 101 102 103 104]\n",
        " [440 441 442 443 444]]\n",
        "Primeros 5 valores de y: [1 0 1 0 1]\n",
        "Valores únicos de y: [ 8 22]\n",
        "```"
      ]
    },
    {
      "cell_type": "markdown",
      "metadata": {
        "id": "ohxc4uRw9Gqb"
      },
      "source": [
        "<details>    \n",
        "<summary>\n",
        "    <font size=\"3\" color=\"darkgreen\"><b>Pista 1</b></font>\n",
        "</summary>\n",
        "\n",
        "\n",
        "* Utilice la función [**`train_test_split`**](https://scikit-learn.org/stable/modules/generated/sklearn.model_selection.train_test_split.html) del módulo **`sklearn.model_selection`** tal como se vio en el taller guiado de la **Unidad 1**.\n"
      ]
    },
    {
      "cell_type": "markdown",
      "metadata": {
        "id": "-ZfSsVlb9NWs"
      },
      "source": [
        "<details>    \n",
        "<summary>\n",
        "    <font size=\"3\" color=\"darkgreen\"><b>Pista 2</b></font>\n",
        "</summary>\n",
        "\n",
        "\n",
        "* El argumento **`p`** permite definir la cantidad de datos usados para el subconjunto de pruebas. Si tiene problemas con el tamaño de la partición puede hacer falta usar este argumento en el llamado de la función de generación de particiones.\n"
      ]
    },
    {
      "cell_type": "markdown",
      "metadata": {
        "id": "gZzpshRRwX6X"
      },
      "source": [
        "<details>    \n",
        "<summary>\n",
        "    <font size=\"3\" color=\"darkgreen\"><b>Pista 3</b></font>\n",
        "</summary>\n",
        "\n",
        "\n",
        "* Considere el argumento **`random_state`** de su función y úselo como argumento de la función de generación de particiones de *Scikit-learn*. Como la partición se hace con un proceso aleatorio, omitir este argumento produciría un valor distinto cada vez que se ejecute.\n"
      ]
    },
    {
      "cell_type": "markdown",
      "metadata": {
        "id": "oZi1f1IhR-Bw"
      },
      "source": [
        "<details>    \n",
        "<summary>\n",
        "    <font size=\"3\" color=\"darkgreen\"><b>Pista 4</b></font>\n",
        "</summary>\n",
        "\n",
        "\n",
        "* No olvide indicar a *Scikit-Learn* el arreglo sobre el cual debe realizar la estratificación. Esto se puede hacer con el argumento **`stratify`** de **`train_test_split`**.\n"
      ]
    },
    {
      "cell_type": "markdown",
      "metadata": {
        "id": "DVeqXFAvxUsf"
      },
      "source": [
        "## **4. Entrenamiento de un clasificador de $k$ vecinos más cercanos**\n",
        "---\n",
        "Para esta tarea utilizaremos un clasificador basado en el algoritmo de $k$ vecinos más cercanos. Este debe permitir el uso de datos binarios y multiclase en el proceso de entrenamiento.\n",
        "\n",
        "Escriba la función **`clasificador_knn`** que reciba como datos de entrada las características **`X`** y sus respectivas etiquetas **`y`**. Además, construya un clasificador **`KNeighborsClassifier`** que considere los **`k`** vecinos más cercanos.\n",
        "\n",
        "**Entrada**:\n",
        "* **`X`**: arreglo de *NumPy* de tamaño $(n, m)$.\n",
        "* **`y`**: arreglo de *NumPy* de tamaño $(n, )$.\n",
        "* **`k`**: número entero mayor o igual a $1$ con el número de vecinos a considerar en el algoritmo *KNN*.\n",
        "\n",
        "**Salida**:\n",
        "* **`knn`**: modelo de clasificación basado en el algoritmo *KNN* entrenado a partir de los datos de entrada (características **`X`** y etiquetas **`y`**).\n"
      ]
    },
    {
      "cell_type": "code",
      "metadata": {
        "id": "c3fsXBv3yHSw"
      },
      "source": [
        "# FUNCIÓN CALIFICADA clasificador_knn:\n",
        "\n",
        "# Módulo necesario para realizar el ejercicio.\n",
        "from sklearn import neighbors\n",
        "\n",
        "def clasificador_knn(X, y, k):\n",
        "    \"\"\"\n",
        "     X: arreglo de NumPy de shape (n, m) con las características.\n",
        "     y: arreglo de NumPy de shape (n,) con las etiquetas de clase.\n",
        "     k: número entero, el número de vecinos más cercanos a considerar.\n",
        "    Retorna:\n",
        "     knn: Clasificador de los k vecinos más cercanos entrenado con X y y.\n",
        "    \"\"\"\n",
        "    ### ESCRIBA SU CÓDIGO AQUÍ ### (~ 2 líneas de código)\n",
        "\n",
        "    knn = None\n",
        "\n",
        "    ### FIN DEL CÓDIGO ###\n",
        "    return knn"
      ],
      "execution_count": null,
      "outputs": []
    },
    {
      "cell_type": "markdown",
      "metadata": {
        "id": "uqmotEvLyZSx"
      },
      "source": [
        "Use las siguientes celdas para probar su función:"
      ]
    },
    {
      "cell_type": "code",
      "metadata": {
        "id": "_PMHdYs0ycDA"
      },
      "source": [
        "#TEST_CELL\n",
        "X4, y4 = datasets.make_blobs(centers = 2, random_state = 4)\n",
        "\n",
        "bin_clf = clasificador_knn(X4[:75], y4[:75], 2)\n",
        "if isinstance(bin_clf, sklearn.neighbors._classification.KNeighborsClassifier):\n",
        "  print(bin_clf.score(X4[75:], y4[75:]))"
      ],
      "execution_count": null,
      "outputs": []
    },
    {
      "cell_type": "markdown",
      "metadata": {
        "id": "DA0dELHoZkcq"
      },
      "source": [
        "**Salida esperada**:\n",
        "```\n",
        "0.92\n",
        "```"
      ]
    },
    {
      "cell_type": "code",
      "metadata": {
        "id": "lU5I1CnSZpeO"
      },
      "source": [
        "#TEST_CELL\n",
        "X4, y4 = datasets.make_blobs(centers = 2, random_state = 4)\n",
        "\n",
        "bin_clf = clasificador_knn(X4[:75], y4[:75], 2)\n",
        "if isinstance(bin_clf, sklearn.neighbors._classification.KNeighborsClassifier):\n",
        "  print(bin_clf.predict(X4[75:]))"
      ],
      "execution_count": null,
      "outputs": []
    },
    {
      "cell_type": "markdown",
      "metadata": {
        "id": "TuoJAw9PZpeP"
      },
      "source": [
        "**Salida esperada**:\n",
        "```\n",
        "[0 1 0 1 1 1 1 1 1 0 0 1 0 1 1 1 1 1 0 1 0 0 1 1 0]\n",
        "```"
      ]
    },
    {
      "cell_type": "markdown",
      "metadata": {
        "id": "CUo46WMhFHX4"
      },
      "source": [
        "<details>    \n",
        "<summary>\n",
        "    <font size=\"3\" color=\"darkgreen\"><b>Pista 1</b></font>\n",
        "</summary>\n",
        "\n",
        "\n",
        "* Utilice el constructor **`KNeighborsClassifier`** del módulo **`sklearn.neighbor`** tal como se vio en el taller guiado de la **Unidad 2**.\n"
      ]
    },
    {
      "cell_type": "markdown",
      "metadata": {
        "id": "dGER6Lv_9ujt"
      },
      "source": [
        "<details>    \n",
        "<summary>\n",
        "    <font size=\"3\" color=\"darkgreen\"><b>Pista 2</b></font>\n",
        "</summary>\n",
        "\n",
        "* No olvide entrenar su modelo con la función **`fit`**. De lo contrario, es posible que la predicción de la celda de pruebas falle.\n"
      ]
    },
    {
      "cell_type": "markdown",
      "metadata": {
        "id": "sfeS7LoKz6TV"
      },
      "source": [
        "## **5. Falsos positivos y falsos negativos**\n",
        "----\n",
        "Al obtener las predicciones de un modelo de clasificación binaria se pueden presentar dos tipos de error. El primero consiste en aceptar como positiva una observación que no debería (**falso positivo**) y el segundo en rechazar una observación que sí debía ser aceptada (**falso negativo**).\n",
        "\n",
        "Desarrolle la función **`fp_fn`** para que calcule el número de falsos positivos y el número de falsos negativos que un clasificador binario (no necesariamente basado en *KNN*) produce sobre un conjunto de datos dado.\n",
        "\n",
        "> En este caso un falso positivo es un ejemplo que es realmente de la clase $0$ pero es clasificado en la clase $1$ y un falso negativo es un ejemplo que es realmente de la clase $1$ pero es clasificado en la clase $0$.\n",
        "\n",
        "**Entrada**:\n",
        "  * **`clf`**: clasificador binario de *Scikit-Learn* entrenado.\n",
        "  * **`X`**: arreglo de *NumPy* de tamaño $(n, m)$ usado para la evaluación.\n",
        "  * **`y`**: arreglo de *NumPy* de tamaño $(n, )$ usado para la evaluación.\n",
        "\n",
        "**Salida**:\n",
        "\n",
        "  * **`fp`**: falsos positivos de las predicciones de **`clf`** sobre **`X`** y las etiquetas reales **`y`**.\n",
        "  * **`fn`**: falsos negativos de las predicciones de **`clf`** sobre **`X`** y las etiquetas reales **`y`**."
      ]
    },
    {
      "cell_type": "code",
      "metadata": {
        "id": "BBvzK02N1zRE"
      },
      "source": [
        "# FUNCIÓN CALIFICADA fp_fn:\n",
        "\n",
        "# Módulo necesario para realizar el ejercicio.\n",
        "from sklearn import metrics\n",
        "\n",
        "def fp_fn(clf, X, y):\n",
        "    \"\"\"\n",
        "     clf: clasificador binario entrenado.\n",
        "     X: arreglo de NumPy de tamaño (n, m) con las características.\n",
        "     y: arreglo de NumPy de tamaño (n,) con las etiquetas de clase.\n",
        "    Retorna:\n",
        "     fp: falsos positivos de las predicciones de clf sobre X y las etiquetas reales y.\n",
        "     fn: falsos negativos de las predicciones de clf sobre X y las etiquetas reales y.\n",
        "    \"\"\"\n",
        "    ### ESCRIBA SU CÓDIGO AQUÍ ### (~ 3-4 líneas de código)\n",
        "\n",
        "    fp, fn = None, None\n",
        "\n",
        "    ### FIN DEL CÓDIGO ###\n",
        "    return fp, fn"
      ],
      "execution_count": null,
      "outputs": []
    },
    {
      "cell_type": "markdown",
      "metadata": {
        "id": "7tqytfz92o2v"
      },
      "source": [
        "Use la siguiente celda para probar su función:"
      ]
    },
    {
      "cell_type": "code",
      "metadata": {
        "id": "1JcAvnXt3vNw"
      },
      "source": [
        "#TEST_CELL\n",
        "from sklearn.linear_model import LogisticRegression\n",
        "\n",
        "X5, y5 = datasets.make_circles(random_state = 8)\n",
        "clf = LogisticRegression().fit(X5[:50], y5[:50])\n",
        "\n",
        "fp, fn = fp_fn(clf, X5[:50], y5[:50])\n",
        "print(f\"Falsos positivos en entrenamiento: {fp}\")\n",
        "print(f\"Falsos negativos en entrenamiento: {fn}\")"
      ],
      "execution_count": null,
      "outputs": []
    },
    {
      "cell_type": "markdown",
      "metadata": {
        "id": "lSnwfn8Rdxmr"
      },
      "source": [
        "**Salida esperada**:\n",
        "```\n",
        "Falsos positivos en entrenamiento: 6\n",
        "Falsos negativos en entrenamiento: 16\n",
        "```"
      ]
    },
    {
      "cell_type": "code",
      "metadata": {
        "id": "rUXCxfnEb6q5"
      },
      "source": [
        "#TEST_CELL\n",
        "from sklearn.linear_model import LogisticRegression\n",
        "\n",
        "X5, y5 = datasets.make_circles(random_state = 8)\n",
        "clf = LogisticRegression().fit(X5[:50], y5[:50])\n",
        "\n",
        "fp, fn = fp_fn(clf, X5[50:], y5[50:])\n",
        "print(f\"Falsos positivos en pruebas: {fp}\")\n",
        "print(f\"Falsos negativos en pruebas: {fn}\")"
      ],
      "execution_count": null,
      "outputs": []
    },
    {
      "cell_type": "markdown",
      "metadata": {
        "id": "jfx41xtkdyBg"
      },
      "source": [
        "**Salida esperada**:\n",
        "```\n",
        "Falsos positivos en pruebas: 11\n",
        "Falsos negativos en pruebas: 19\n",
        "```"
      ]
    },
    {
      "cell_type": "markdown",
      "metadata": {
        "id": "x8FuXnTkFIHb"
      },
      "source": [
        "<details>    \n",
        "<summary>\n",
        "    <font size=\"3\" color=\"darkgreen\"><b>Pista 1</b></font>\n",
        "</summary>\n",
        "\n",
        "\n",
        "* Puede obtener el valor de falsos positivos y falsos negativos a partir de la matriz de confusión obtenida del vector **`y`** y el vector de etiquetas predichas a partir de **`X`**. Deberá seleccionar las celdas correspondientes a cada valor y asignarlo a la variable correspondiente.\n"
      ]
    },
    {
      "cell_type": "markdown",
      "metadata": {
        "id": "xlUPahTE5QOa"
      },
      "source": [
        "## **6. Métricas de desempeño binarias**\n",
        "----\n",
        "Al desarrollar un modelo de clasificación binaria se puede recurrir a la evaluación por métricas distintas a la exactitud o *accuracy* que reflejen más información acerca de el desempeño con respecto a las clases predichas.\n",
        "\n",
        "Desarrolle la función **`métricas_binarias`** que calcule la precisión, el *recall* y la métrica $F_1$ de las predicciones hechas por un clasificador binario sobre un conjunto de datos dado.\n",
        "> Recuerde que en este caso la etiqueta positiva es la clase $1$.\n",
        "\n",
        "**Entrada**:\n",
        "  * **`clf`**: clasificador binario de *Scikit-Learn* entrenado.\n",
        "  * **`X`**: arreglo de *NumPy* de tamaño $(n, m)$ usado para la evaluación.\n",
        "  * **`y`**: arreglo de *NumPy* de tamaño $(n, )$ usado para la evaluación.\n",
        "\n",
        "**Salida**:\n",
        "\n",
        "  * **`prec`**: número real, métrica de precisión binaria.\n",
        "  * **`rec`**: número real, métrica de _recall_ binaria.\n",
        "  * **`f1`**:  número real, métrica _$F_1$-score_ binaria."
      ]
    },
    {
      "cell_type": "code",
      "metadata": {
        "id": "TURh1ZSx6irb"
      },
      "source": [
        "# FUNCIÓN CALIFICADA métricas_binarias:\n",
        "\n",
        "# Módulo necesario para realizar el ejercicio.\n",
        "from sklearn import metrics\n",
        "\n",
        "def métricas_binarias(clf, X, y):\n",
        "    \"\"\"\n",
        "      clf: clasificador entrenado,\n",
        "      X: arreglo de NumPy de tamaño (n, m) con las características.\n",
        "      y: arreglo de NumPy de tamaño (n,) con las etiquetas de clase.\n",
        "    Retorna:\n",
        "      prec: número real, métrica de precisión binaria.\n",
        "      rec: número real, métrica de recall binaria.\n",
        "      f1:  número real, métrica f1-score binaria.\n",
        "    \"\"\"\n",
        "    ### ESCRIBA SU CÓDIGO AQUÍ ### (~ 3-4 líneas de código)\n",
        "\n",
        "    prec, rec, f1 = None, None, None\n",
        "\n",
        "    ### FIN DEL CÓDIGO ###\n",
        "\n",
        "    return prec, rec, f1"
      ],
      "execution_count": null,
      "outputs": []
    },
    {
      "cell_type": "markdown",
      "metadata": {
        "id": "kW3JVLh87qDq"
      },
      "source": [
        "Use la siguiente celda para probar su función:"
      ]
    },
    {
      "cell_type": "code",
      "metadata": {
        "id": "H-TUYWXn7rEX"
      },
      "source": [
        "#TEST_CELL\n",
        "from sklearn.linear_model import LogisticRegression\n",
        "\n",
        "X6, y6 = datasets.make_classification(random_state = 8)\n",
        "bin_clf6 = LogisticRegression().fit(X6[:50], y6[:50])\n",
        "prec, rec, f1 = métricas_binarias(bin_clf6, X6[:50], y6[:50])\n",
        "\n",
        "if np.all([isinstance(x, Number) for x in [prec, rec, f1]]):\n",
        "  print(\"Precisión en entrenamiento: \\t{:.4f}\".format(prec))\n",
        "  print(\"Recall en entrenamiento: \\t{:.4f}\".format(rec))\n",
        "  print(\"F1 en entrenamiento: \\t\\t{:.4f}\".format(f1))\n",
        "else: print(\"Alguno de los valores retornados no es un número válido.\")"
      ],
      "execution_count": null,
      "outputs": []
    },
    {
      "cell_type": "markdown",
      "metadata": {
        "id": "JgrD7FwJnvI3"
      },
      "source": [
        "**Salida esperada**:\n",
        "```\n",
        "Precisión en entrenamiento: \t0.9615\n",
        "Recall en entrenamiento: \t   0.9615\n",
        "F1 en entrenamiento: \t\t   0.9615\n",
        "```"
      ]
    },
    {
      "cell_type": "code",
      "metadata": {
        "id": "TwJUdtGTebVd"
      },
      "source": [
        "#TEST_CELL\n",
        "from sklearn.linear_model import LogisticRegression\n",
        "\n",
        "X6, y6 = datasets.make_classification(random_state = 8)\n",
        "bin_clf6 = LogisticRegression().fit(X6[:50], y6[:50])\n",
        "prec, rec, f1 = métricas_binarias(bin_clf6, X6[50:], y6[50:])\n",
        "\n",
        "if np.all([isinstance(x, Number) for x in [prec, rec, f1]]):\n",
        "  print(\"Precisión en prueba: \\t{:.4f}\".format(prec))\n",
        "  print(\"Recall en prueba: \\t{:.4f}\".format(rec))\n",
        "  print(\"F1 en prueba: \\t\\t{:.4f}\".format(f1))\n",
        "else: print(\"Alguno de los valores retornados no es un número válido.\")"
      ],
      "execution_count": null,
      "outputs": []
    },
    {
      "cell_type": "markdown",
      "metadata": {
        "id": "ePBl7tVunviZ"
      },
      "source": [
        "**Salida esperada**:\n",
        "```\n",
        "Precisión en prueba:    0.6333\n",
        "Recall en prueba:       0.7600\n",
        "F1 en prueba:           0.6909\n",
        "```"
      ]
    },
    {
      "cell_type": "markdown",
      "metadata": {
        "id": "duNAOYx5zlX9"
      },
      "source": [
        "Para probar la función vamos a entrenar un clasificador para las $2$ primeras clases originales del conjunto de datos *Wine*.\n",
        "> **Nota**: El resultado de esta celda depende de la correctitud de los primeros puntos de esta tarea. Revise primero los puntos $1$, $2$, $3$ y $4$ para evaluar esta celda."
      ]
    },
    {
      "cell_type": "code",
      "metadata": {
        "id": "1FOd5wKszlX9"
      },
      "source": [
        "#TEST_CELL\n",
        "from sklearn.utils.validation import check_is_fitted\n",
        "# 1. Cargar Wine en formato X, y\n",
        "X6, y6 = load_X_y()\n",
        "assert isinstance(X6, np.ndarray) and isinstance(y6, np.ndarray), \"Revise el ejercicio 1\"\n",
        "\n",
        "# 2. Problema de clasificación binaria\n",
        "X6, y6 = bin_X_y(X6, y6)\n",
        "assert isinstance(X6, np.ndarray) and isinstance(y6, np.ndarray), \"Revise el ejercicio 2\"\n",
        "\n",
        "# 3. Generar particiones de entrenamiento y prueba con estratificación\n",
        "X6_train, X6_test, y6_train, y6_test = get_stratified_split(X6, y6)\n",
        "assert np.all([isinstance(par, np.ndarray)\n",
        "       for par in (X6_train, X6_test, y6_train, y6_test)]), \"Revise el ejercicio 3\"\n",
        "\n",
        "# 4. Entrenamiento de un clasificador de  k  vecinos más cercanos\n",
        "clf6 = clasificador_knn(X6_train, y6_train, k = 1)\n",
        "check_is_fitted(clf6)\n",
        "assert isinstance(clf6, sklearn.neighbors._classification.KNeighborsClassifier), \"Revise el ejercicio 4\"\n",
        "\n",
        "prec, rec, f1 = métricas_binarias(clf6, X6_test, y6_test)\n",
        "\n",
        "if np.all([isinstance(x, Number) for x in [prec, rec, f1]]):\n",
        "  print(\"Precisión en prueba: \\t{:.4f}\".format(prec))\n",
        "  print(\"Recall en prueba: \\t{:.4f}\".format(rec))\n",
        "  print(\"F1 en prueba: \\t\\t{:.4f}\".format(f1))\n",
        "else: print(\"Alguno de los valores retornados no es un número válido.\")"
      ],
      "execution_count": null,
      "outputs": []
    },
    {
      "cell_type": "markdown",
      "metadata": {
        "id": "uyr3AxArzlX-"
      },
      "source": [
        "**Salida esperada:**\n",
        "\n",
        "```\n",
        "Precisión en prueba:    0.8636\n",
        "Recall en prueba:       0.9048\n",
        "F1 en prueba:           0.8837\n",
        "```"
      ]
    },
    {
      "cell_type": "markdown",
      "metadata": {
        "id": "9paK3pq1WItI"
      },
      "source": [
        "<details>    \n",
        "<summary>\n",
        "    <font size=\"3\" color=\"darkgreen\"><b>Pista 1</b></font>\n",
        "</summary>\n",
        "\n",
        "\n",
        "* Utilice los métodos **`precision_score`**, **`recall_score`** y **`f1_score`** del módulo **`sklearn.metrics`**.\n"
      ]
    },
    {
      "cell_type": "markdown",
      "metadata": {
        "id": "1ZOAT2bAYCwZ"
      },
      "source": [
        "<details>    \n",
        "<summary>\n",
        "    <font size=\"3\" color=\"darkgreen\"><b>Pista 2</b></font>\n",
        "</summary>\n",
        "\n",
        "\n",
        "* Para utilizar los métodos deberá realizar la predicción a partir del arreglo **`X`** y evaluar el desempeño con respecto al vector real de etiquetas **`y`**.\n"
      ]
    },
    {
      "cell_type": "markdown",
      "metadata": {
        "id": "ZmOu3KRC-G7J"
      },
      "source": [
        "## **7. Métricas de desempeño multiclase**\n",
        "----\n",
        "Cuando se desarrolla un clasificador en el contexto de un problema multiclase, es importante considerar el desempeño general con formas de promediar la métrica obtenida por cada pareja de clases al considerarlas subproblemas de clasificación binaria.\n",
        "\n",
        "Desarrolle la función **`métrica_multiclase`** que calcule la métrica precisión, _recall_ o _F1_ según el tipo de métrica **`metric_type`**, y que realice la agregación de las submétricas por medio del tipo de operación de promedio **`avg_type`**. El resultado de esta métrica se debe obtener a partir de los vectores de etiquetas reales (**`y_real`**) y predichas por un modelo (**`y_pred`**).\n",
        "\n",
        "**Entrada**:\n",
        "  * **`y_real`**: arreglo de *NumPy* de tamaño $(n, )$ con las etiquetas reales.\n",
        "  * **`y_pred`**: arreglo de *NumPy* de tamaño $(n, )$ con las etiquetas predichas por un modelo de clasificación.\n",
        "  * **`metric_type`**: cadena de texto con el tipo de métrica a calcular. Esta debe ser una de estas cadenas:\n",
        "    ```python\n",
        "    ['f1', 'recall', 'precision']\n",
        "    ```\n",
        "  * **`avg_type`**: cadena de texto con el tipo de operación usada para calcular el promedio de las métricas binarias individuales. Esta debe ser una de estas cadenas:\n",
        "      ```python\n",
        "    ['macro', 'micro', 'weighted']\n",
        "    ```\n",
        "\n",
        "**Salida**:\n",
        "\n",
        "  * **`score`**: número real, métrica de tipo **`metric_type`** con promedio **`avg_type`** calculada sobre las etiquetas **`y_real`** y **`y_pred`**.\n"
      ]
    },
    {
      "cell_type": "code",
      "metadata": {
        "id": "WRnSL7Kz-Eh9"
      },
      "source": [
        "# FUNCIÓN CALIFICADA métrica_multiclase:\n",
        "\n",
        "# Módulo necesario para realizar el ejercicio.\n",
        "from sklearn import metrics\n",
        "\n",
        "def métrica_multiclase(y_pred, y_real, metric_type, avg_type):\n",
        "    \"\"\"\n",
        "     y_real: arreglo de NumPy de shape (n,) con las etiquetas reales.\n",
        "     y_pred: arreglo de NumPy de shape (n,) con las etiquetas predichas.\n",
        "     metric_type: cadena de texto con el tipo de métrica. Uno de ['f1', 'recall', 'precision'].\n",
        "     avg_type: cadena de texto con el tipo de promedio realizado. Uno de ['macro', 'micro', 'weighted'].\n",
        "    Retorna:\n",
        "     metric: métrica correspondiente al tipo 'metric_type' y criterio\n",
        "             de promedio 'avg_type' evaluada entre 'y_pred' y 'y_real'.\n",
        "\n",
        "    \"\"\"\n",
        "    ### ESCRIBA SU CÓDIGO AQUÍ ### (~ 3-4 líneas de código)\n",
        "\n",
        "    score = None\n",
        "\n",
        "    ### FIN DEL CÓDIGO ###\n",
        "    return score"
      ],
      "execution_count": null,
      "outputs": []
    },
    {
      "cell_type": "markdown",
      "metadata": {
        "id": "RmaoFMwQ_773"
      },
      "source": [
        "Use la siguiente celda para probar su función:"
      ]
    },
    {
      "cell_type": "code",
      "metadata": {
        "id": "Ln16Ynm9sm_p"
      },
      "source": [
        "#TEST_CELL\n",
        "X7, y7 = datasets.make_classification(n_features= 6, weights = (0.75, 0.25), random_state = 100)\n",
        "\n",
        "X7_train, y7_train = X7[:50], y7[:50]\n",
        "X7_test, y7_test = X7[50:], y7[50:]\n",
        "\n",
        "clf7 = LogisticRegression().fit(X7_train, y7_train)\n",
        "y7_pred = clf7.predict(X7_test)\n",
        "\n",
        "for metric_type in ['f1', 'recall', 'precision']:\n",
        "  for avg_type in ['macro', 'micro', 'weighted']:\n",
        "    score = métrica_multiclase(y7_test, y7_pred, metric_type, avg_type)\n",
        "    if not isinstance(score, Number):\n",
        "      print(f\"El score {metric_type} {avg_type} no es un número válido.\")\n",
        "    else:\n",
        "      print(\"Métrica {}, avg {}: {:.4f}\".format(metric_type, avg_type, score))"
      ],
      "execution_count": null,
      "outputs": []
    },
    {
      "cell_type": "markdown",
      "metadata": {
        "id": "05jXLFNcvT53"
      },
      "source": [
        "**Salida esperada:**\n",
        "\n",
        "```\n",
        "Métrica f1, avg macro: 0.8024\n",
        "Métrica f1, avg micro: 0.8600\n",
        "Métrica f1, avg weighted: 0.8579\n",
        "Métrica recall, avg macro: 0.7939\n",
        "Métrica recall, avg micro: 0.8600\n",
        "Métrica recall, avg weighted: 0.8600\n",
        "Métrica precision, avg macro: 0.8124\n",
        "Métrica precision, avg micro: 0.8600\n",
        "Métrica precision, avg weighted: 0.8566\n",
        "```"
      ]
    },
    {
      "cell_type": "markdown",
      "metadata": {
        "id": "ua0zxdhk_PNL"
      },
      "source": [
        "Para probar la función vamos a entrenar un clasificador para las $3$ clases originales del conjunto de datos *Wine*.\n",
        "> **Nota**: El resultado de esta celda depende de la correctitud de los primeros puntos de esta tarea. Revise primero los puntos $1$, $3$ y $4$ antes de evaluar esta celda."
      ]
    },
    {
      "cell_type": "code",
      "metadata": {
        "id": "BIMBQFB6_hR2"
      },
      "source": [
        "#TEST_CELL\n",
        "from sklearn.utils.validation import check_is_fitted\n",
        "\n",
        "# 1. Cargar Wine en formato X, y\n",
        "X7, y7 = load_X_y()\n",
        "assert isinstance(X7, np.ndarray) and isinstance(y7, np.ndarray), \"Revise el ejercicio 1\"\n",
        "\n",
        "# 3. Generar particiones de entrenamiento y prueba con estratificación\n",
        "X7_train, X7_test, y7_train, y7_test = get_stratified_split (X7, y7)\n",
        "assert np.all([isinstance(par, np.ndarray)\n",
        "       for par in (X7_train, X7_test, y7_train, y7_test)]), \"Revise el ejercicio 3\"\n",
        "\n",
        "# 4. Entrenamiento de un clasificador de  k  vecinos más cercanos\n",
        "clf7 = clasificador_knn(X7_train, y7_train, k = 1)\n",
        "check_is_fitted(clf7)\n",
        "assert isinstance(clf7, sklearn.neighbors._classification.KNeighborsClassifier), \"Revise el ejercicio 4\"\n",
        "\n",
        "y7_pred = clf7.predict(X7_test)\n",
        "\n",
        "for avg_type in ['macro', 'micro', 'weighted']:\n",
        "  f1_train = métrica_multiclase(y7_train, clf7.predict(X7_train), 'f1', avg_type)\n",
        "  if not isinstance(f1_train, Number): print(f\"El valor 'f1_train' ({avg_type}) no es un número válido.\")\n",
        "  else: print(f\"F1 {avg_type} en entrenamiento: \\t{f1_train:.6f}\")\n",
        "\n",
        "  f1_test = métrica_multiclase(y7_test, clf7.predict(X7_test), 'f1', avg_type)\n",
        "  if not isinstance(f1_test, Number): print(f\"El valor 'f1_test' ({avg_type}) no es un número válido.\")\n",
        "  else: print(f\"F1 {avg_type} en prueba: \\t\\t{f1_test:.6f}\")"
      ],
      "execution_count": null,
      "outputs": []
    },
    {
      "cell_type": "markdown",
      "metadata": {
        "id": "USJzn9FazTmm"
      },
      "source": [
        "**Salida esperada:**\n",
        "\n",
        "```\n",
        "F1 macro en entrenamiento:     1.000000\n",
        "F1 macro en prueba:            0.701783\n",
        "F1 micro en entrenamiento:     1.000000\n",
        "F1 micro en prueba:            0.703704\n",
        "F1 weighted en entrenamiento:  1.000000\n",
        "F1 weighted en prueba:         0.701079\n",
        "```"
      ]
    },
    {
      "cell_type": "markdown",
      "metadata": {
        "id": "x2PGHimbAqUC"
      },
      "source": [
        "Como se puede ver el desempeño del modelo es muy bueno en el conjunto de entrenamiento, pero no es tan bueno en el conjunto de prueba. Esto sugiere que podemos tener ***sobreajuste***. En el siguiente ejercicio vamos a encontrar un mejor hiperparámetro $k$ para el algoritmo de entrenamiento."
      ]
    },
    {
      "cell_type": "markdown",
      "metadata": {
        "id": "FjRW0ujhaq31"
      },
      "source": [
        "<details>    \n",
        "<summary>\n",
        "    <font size=\"3\" color=\"darkgreen\"><b>Pista 1</b></font>\n",
        "</summary>\n",
        "\n",
        "\n",
        "* Según la entrada, deberá usar alguno de los métodos **`precision_score`**, **`recall_score`** y **`f1_score`** del módulo **`sklearn.metrics`**. Además, este método recibe el argumento **`average`** con el tipo de operación de promedio a calcular.\n"
      ]
    },
    {
      "cell_type": "markdown",
      "metadata": {
        "id": "lHgcjzq7BKa1"
      },
      "source": [
        "## **8. Estimación de la complejidad**\n",
        "---\n",
        "Para prevenir problemas como el sobreajuste y subajuste de nuestro modelo vamos a realizar una exploración visual del desempeño de los modelos entrenados con distintos valores del hiperparámetro $k$. Para esto utilizaremos la métrica **$F_1$ macro** y realizaremos una gráfica para identificar un valor apropiado.\n",
        "\n",
        "Desarrolle la función **`curva_complejidad_F1_macro`** para que reciba datos de entrenamiento, datos de prueba y una lista de valores para el hiperparámetro **`k`** del algoritmo de clasificación de los $k$ vecinos más cercanos, y retorne una lista con las métricas $F_1$ **macro** de prueba para cada uno de los clasificadores con los diferentes valores de **`k`**.\n",
        "\n",
        "> **Nota**: Se recomienda utilizar los resultados de los ejercicios $4$ (para entrenar el modelo de cada iteración) y $7$ (para obtener la métrica correspondiente).\n",
        "\n",
        "**Entrada**:\n",
        "\n",
        "\n",
        "* **`X_train`**: arreglo de *NumPy* con tamaño $(n, m)$ con la partición de entrenamiento de **`X`**.\n",
        "* **`X_test`**:  arreglo de *NumPy* con tamaño $(t, m)$ con la partición de prueba de **`X`**.\n",
        "* **`y_train`**: arreglo de *NumPy* con tamaño $(n,)$ con la partición de entrenamiento de **`y`**.\n",
        "* **`y_test`**:  arreglo de *NumPy* con tamaño $(t,)$ con la partición de prueba de **`y`**.\n",
        "* **`k_vals`**: lista de números enteros de tamaño $K$ con los hiperparámetros $k$ del clasificador *KNN*.\n",
        "\n",
        "\n",
        "**Salida**:\n",
        "* **`f1_scores`**: lista o arreglo de *NumPy* de tamaño $K$ con el resultado de la métrica $F_1$ **macro** obtenida de la evaluación del desempeño del modelo de cada iteración. El orden debe corresponder al orden de los hiperparámetros **`k_vals`**.\n"
      ]
    },
    {
      "cell_type": "code",
      "metadata": {
        "id": "lNFguzr6Cdpr"
      },
      "source": [
        "# FUNCIÓN CALIFICADA curva_complejidad_F1_macro:\n",
        "\n",
        "def curva_complejidad_F1_macro(X_train, y_train, X_test, y_test, k_vals):\n",
        "    \"\"\"\n",
        "     X_train: arreglo de numpy de shape (n, m) con las características de entrenamiento.\n",
        "     y_train: arreglo de numpy de shape (n,) con las etiquetas de clase de entrenamiento.\n",
        "     X_test: arreglo de numpy de shape (n, m) con las características de prueba.\n",
        "     y_test: arreglo de numpy de shape (n,) con las etiquetas de prueba.\n",
        "     k_vals: lista de valores del hiperparámetro k del clasificador knn.\n",
        "    Retorna:\n",
        "     f1_scores: lista con el F1 macro para cada clasificador entrenado con los valores de k_vals.\n",
        "    \"\"\"\n",
        "    ### ESCRIBA SU CÓDIGO AQUÍ ### (~ 5-6 líneas de código)\n",
        "\n",
        "    f1_scores = None\n",
        "\n",
        "    ### FIN DEL CÓDIGO ###\n",
        "\n",
        "    return f1_scores"
      ],
      "execution_count": null,
      "outputs": []
    },
    {
      "cell_type": "code",
      "metadata": {
        "id": "aJK1YKrTDxKw",
        "cellView": "form"
      },
      "source": [
        "#TEST_CELL\n",
        "#@title { run: \"auto\" }\n",
        "#@markdown **Celda de pruebas:** Ejecute esta celda para generar una visualización de la curva de complejidad obtenida a partir del conjunto de datos *Wine*. Esta función utiliza el resultado de las funciones anteriores para el entrenamiento del modelo.\n",
        "\n",
        "#@markdown A continuación graficamos los valores del **_F1 macro_** para los diferentes valores del hiperparámetro **`k`**:\n",
        "\n",
        "max_k = 15\n",
        "\n",
        "# 1. Cargar Wine en formato X, y\n",
        "X8, y8 = load_X_y()\n",
        "assert isinstance(X8, np.ndarray) and isinstance(y8, np.ndarray), \"Ej 1. Revise el ejercicio 1.\"\n",
        "\n",
        "# 3. Generar particiones de entrenamiento y prueba con estratificación\n",
        "X8_train, X8_test, y8_train, y8_test = get_stratified_split (X8, y8)\n",
        "assert np.all([isinstance(par, np.ndarray)\n",
        "       for par in (X8_train, X8_test, y8_train, y8_test)]), \"Ej 3. Revise el ejercicio 3.\"\n",
        "\n",
        "k_vals = np.arange(1, max_k + 1)\n",
        "f1_scores = curva_complejidad_F1_macro(X8_train, y8_train, X8_test, y8_test, k_vals)\n",
        "assert (f1_scores is not None and len(f1_scores) == len(k_vals)\n",
        "        ), \"Ej 8. El arreglo retornado no es válido.\"\n",
        "plt.plot(k_vals, f1_scores);\n",
        "plt.xlabel(\"$k$\")\n",
        "plt.ylabel(\"$F_1$ score macro\")\n",
        "plt.xlim([0, max_k + 1])\n",
        "plt.title(\"Curva de complejidad $F_1$\", fontdict=dict(family = 'serif', size = 20));\n"
      ],
      "execution_count": null,
      "outputs": []
    },
    {
      "cell_type": "markdown",
      "metadata": {
        "id": "Ia9rF4vl_TbN"
      },
      "source": [
        "**Salida esperada**\n",
        "\n",
        "![u3e8.png](data:image/png;base64,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)"
      ]
    },
    {
      "cell_type": "markdown",
      "metadata": {
        "id": "G3qsOLNjFlVh"
      },
      "source": [
        "¿Qué valor de **`k`** escogería? Recuerde que el $F_1$ _score_ es una métrica que queremos **maximizar**."
      ]
    },
    {
      "cell_type": "markdown",
      "metadata": {
        "id": "L5pQE4RybAi0"
      },
      "source": [
        "<details>    \n",
        "<summary>\n",
        "    <font size=\"3\" color=\"darkgreen\"><b>Pista 1</b></font>\n",
        "</summary>\n",
        "\n",
        "\n",
        "* Para cada valor de **`k_vals`** deberá generar un clasificador nuevo y realizar una predicción a partir de la partición de prueba de la matriz de datos de entrada para calcular la métrica respectiva. Se le recomienda usar la función del ejercicio $4$ para entrenar el modelo y la función del ejercicio $7$ para obtener el valor de la métrica y almacenarlo tras cada iteración.\n"
      ]
    },
    {
      "cell_type": "markdown",
      "metadata": {
        "id": "xpEWAW102m23"
      },
      "source": [
        "## **9. Estimación de la complejidad en regresión**\n",
        "---\n",
        "Elegir un hiperparámetro adecuado también depende de la elección adecuada de la métrica de desempeño usada como valor de referencia. Para elegir la métrica adecuada es importante entender la naturaleza del problema y distinguir si es un problema de clasificación o de regresión.\n",
        "\n",
        "En este último ejercicio deberá desarrollar la función **`curva_complejidad_regresion`**, que reciba datos de entrenamiento, datos de prueba y una lista de valores para el hiperparámetro **`k`** del algoritmo de regresión de los $k$ vecinos más cercanos, y retorne una lista con los valores el **RMSE** de prueba para cada uno de los regresores con los diferentes valores de **`k`**.\n",
        "\n",
        "**Entrada**:\n",
        "\n",
        "\n",
        "* **`X_train`**: arreglo de *NumPy* con tamaño $(n, m)$ con la partición de entrenamiento de **`X`**.\n",
        "* **`X_test`**:  arreglo de *NumPy* con tamaño $(t, m)$ con la partición de prueba de **`X`**.\n",
        "* **`y_train`**: arreglo de *NumPy* con tamaño $(n,)$ con la partición de entrenamiento de **`y`**.\n",
        "* **`y_test`**:  arreglo de *NumPy* con tamaño $(t,)$ con la partición de prueba de **`y`**.\n",
        "* **`k_vals`**: lista de números enteros de tamaño $K$ con los hiperparámetros $k$ del regresor *KNN*.\n",
        "\n",
        "\n",
        "**Salida**:\n",
        "* **`rmse_scores`**: lista o arreglo de *NumPy* de tamaño $K$ con el resultado de la métrica **RMSE** obtenida de la evaluación del desempeño del modelo de cada iteración. El orden debe corresponder al orden de los hiperparámetros **`k_vals`**.\n"
      ]
    },
    {
      "cell_type": "code",
      "metadata": {
        "id": "BYr-N1fgvZQR"
      },
      "source": [
        "# FUNCIÓN CALIFICADA curva_complejidad_regresion:\n",
        "\n",
        "# Módulo necesario para calcular la métrica RSME.\n",
        "from sklearn import metrics\n",
        "\n",
        "# Módulo necesario para declarar el modelo de regresión KNN.\n",
        "from sklearn import neighbors\n",
        "\n",
        "def curva_complejidad_regresion(X_train, y_train, X_test, y_test, k_vals):\n",
        "    \"\"\"\n",
        "     X_train: arreglo de NumPy de tamaño (n, m) con las características de entrenamiento.\n",
        "     y_train: arreglo de NumPy de tamaño (n,) con las etiquetas de clase de entrenamiento.\n",
        "     X_test: arreglo de NumPy de tamaño (n, m) con las características de prueba.\n",
        "     y_test: arreglo de NumPy de tamaño (n,) con las etiquetas de prueba.\n",
        "     k_vals: lista de valores del hiperparámetro k del regresor KNN.\n",
        "    Retorna:\n",
        "     rmse_scores: lista con el RMSE para cada regresor entrenado con los valores de k_vals.\n",
        "    \"\"\"\n",
        "    ### ESCRIBA SU CÓDIGO AQUÍ ### (~ 5-6 líneas de código)\n",
        "\n",
        "    rmse_scores = None\n",
        "\n",
        "    ### FIN DEL CÓDIGO ###\n",
        "    return rmse_scores"
      ],
      "execution_count": null,
      "outputs": []
    },
    {
      "cell_type": "code",
      "metadata": {
        "id": "V1QHOxnKAxm_",
        "cellView": "form"
      },
      "source": [
        "#TEST_CELL\n",
        "#@title { run: \"auto\" }\n",
        "#@markdown **Celda de pruebas:** Ejecute esta celda para generar una visualización de la curva de complejidad obtenida a partir del conjunto de datos *Boston* (regresión). Esta función utiliza el resultado de las funciones anteriores para el entrenamiento del modelo.\n",
        "\n",
        "#@markdown A continuación graficamos los valores del **RSME** para los diferentes valores del hiperparámetro **`k`**:\n",
        "from sklearn.datasets import fetch_openml\n",
        "\n",
        "boston = fetch_openml(name='boston', as_frame=True)\n",
        "\n",
        "max_k = 15\n",
        "\n",
        "X9, y9 = boston.data, boston.target\n",
        "X9_train, X9_test, y9_train, y9_test = model_selection.train_test_split(X9, y9, test_size=0.3, random_state=23)\n",
        "k_vals = np.arange(1, max_k + 1)\n",
        "rsme_scores = curva_complejidad_regresion(X9_train, y9_train, X9_test, y9_test, k_vals)\n",
        "\n",
        "assert (rsme_scores is not None and len(rsme_scores) == len(k_vals)\n",
        "        ), \"Ej 9. El arreglo 'scores' retornado no es válido.\"\n",
        "\n",
        "plt.plot(k_vals, rsme_scores);\n",
        "plt.xlabel(\"$k$\")\n",
        "plt.ylabel(\"RSME\")\n",
        "plt.xlim([0, max_k + 1])\n",
        "plt.title(\"Curva de complejidad RSME\", fontdict=dict(family = 'serif', size = 20));\n"
      ],
      "execution_count": null,
      "outputs": []
    },
    {
      "cell_type": "markdown",
      "metadata": {
        "id": "GxSEXwcYCfmM"
      },
      "source": [
        "**Salida esperada:**\n",
        "\n",
        "![u3e9.png](data:image/png;base64,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)"
      ]
    },
    {
      "cell_type": "markdown",
      "metadata": {
        "id": "szFfGlZt2ZyW"
      },
      "source": [
        "¿Qué valor de $k$ escogería? Recuerde que el **RMSE** es una métrica que queremos **minimizar**."
      ]
    },
    {
      "cell_type": "markdown",
      "metadata": {
        "id": "FBS3gfzOc-dz"
      },
      "source": [
        "<details>    \n",
        "<summary>\n",
        "    <font size=\"3\" color=\"darkgreen\"><b>Pista 1</b></font>\n",
        "</summary>\n",
        "\n",
        "\n",
        "* Para cada valor de **`k_vals`** deberá generar un **regresor** nuevo y realizar una predicción a partir de la partición de prueba de la matriz de datos de entrada para calcular la métrica respectiva."
      ]
    },
    {
      "cell_type": "markdown",
      "metadata": {
        "id": "8koZ4mFldNs5"
      },
      "source": [
        "<details>    \n",
        "<summary>\n",
        "    <font size=\"3\" color=\"darkgreen\"><b>Pista 2</b></font>\n",
        "</summary>\n",
        "\n",
        "\n",
        "* Deberá declarar el modelo de regresión con el constructor **`KNeighborsRegressor`** del módulo **`sklearn.neighbors`**."
      ]
    },
    {
      "cell_type": "markdown",
      "metadata": {
        "id": "cgC3s26Cd7pU"
      },
      "source": [
        "<details>    \n",
        "<summary>\n",
        "    <font size=\"3\" color=\"darkgreen\"><b>Pista 3</b></font>\n",
        "</summary>\n",
        "\n",
        "\n",
        "* La métrica corresponde a la raíz cuadrada del valor obtenido con el método **`mean_squared_error`** del módulo **`sklearn.metrics`**, a partir de la etiqueta de valores reales **`y_test`** y el vector de valores predichos a partir del arreglo **`X_test`**."
      ]
    },
    {
      "cell_type": "markdown",
      "metadata": {
        "id": "QrU5ELZuMyF6"
      },
      "source": [
        "**¡Felicitaciones!** Ha terminado la tarea de la Unidad 2. ¡Buen trabajo!\n",
        "\n",
        "## **Entrega**\n",
        "\n",
        "Para entregar el notebook por favor haga lo siguiente:\n",
        "1. Descargue el notebook (`Archivo` -> `Descargar .ipynb`).\n",
        "2. Ingrese a Moodle.\n",
        "3. Realice el envío del *notebook* que descargó en la tarea (o quiz) correspondiente.\n",
        "4. Recuerde que si tiene algún error, puede hacer múltiples intentos de envío en UNCode."
      ]
    },
    {
      "cell_type": "markdown",
      "metadata": {
        "id": "jAu9k77j37td"
      },
      "source": [
        "## **Créditos**\n",
        "\n",
        "* **Profesor:** [Fabio Augusto Gonzalez](https://dis.unal.edu.co/~fgonza/)\n",
        "* **Asistentes docentes:**\n",
        "  * Miguel Angel Ortiz Marín\n",
        "  * Alberto Nicolai Romero Martínez\n",
        "\n",
        "**Universidad Nacional de Colombia** - *Facultad de Ingeniería*"
      ]
    }
  ]
}