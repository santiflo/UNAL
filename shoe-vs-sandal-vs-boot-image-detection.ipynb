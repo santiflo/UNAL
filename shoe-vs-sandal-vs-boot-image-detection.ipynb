{
 "cells": [
  {
   "cell_type": "markdown",
   "metadata": {},
   "source": [
    "# Import libraries, load and transform data"
   ]
  },
  {
   "cell_type": "code",
   "execution_count": 1,
   "metadata": {
    "execution": {
     "iopub.execute_input": "2023-09-08T18:44:35.843957Z",
     "iopub.status.busy": "2023-09-08T18:44:35.843604Z",
     "iopub.status.idle": "2023-09-08T18:44:54.421174Z",
     "shell.execute_reply": "2023-09-08T18:44:54.419993Z",
     "shell.execute_reply.started": "2023-09-08T18:44:35.843926Z"
    }
   },
   "outputs": [],
   "source": [
    "!pip install -q evaluate transformers datasets mlflow"
   ]
  },
  {
   "cell_type": "code",
   "execution_count": 2,
   "metadata": {
    "execution": {
     "iopub.execute_input": "2023-09-08T18:44:54.424577Z",
     "iopub.status.busy": "2023-09-08T18:44:54.424197Z",
     "iopub.status.idle": "2023-09-08T18:45:10.912081Z",
     "shell.execute_reply": "2023-09-08T18:45:10.911112Z",
     "shell.execute_reply.started": "2023-09-08T18:44:54.424530Z"
    }
   },
   "outputs": [],
   "source": [
    "# imports\n",
    "import warnings \n",
    "warnings.filterwarnings(\"ignore\")\n",
    "\n",
    "import gc\n",
    "import numpy as np\n",
    "import pandas as pd\n",
    "import itertools\n",
    "from collections import Counter\n",
    "import matplotlib.pyplot as plt\n",
    "from sklearn.metrics import (accuracy_score, \n",
    "                             roc_auc_score, \n",
    "                             confusion_matrix, \n",
    "                             classification_report, \n",
    "                             f1_score)\n",
    "\n",
    "import evaluate\n",
    "from datasets import Dataset, Image\n",
    "from transformers import (TrainingArguments, \n",
    "                          Trainer, \n",
    "                          ViTImageProcessor, \n",
    "                          ViTForImageClassification,\n",
    "                          DefaultDataCollator)\n",
    "import torch\n",
    "from torch.utils.data import DataLoader\n",
    "from torchvision.transforms import (CenterCrop, \n",
    "                                    Compose, \n",
    "                                    Normalize,\n",
    "                                    RandomRotation,\n",
    "                                    RandomResizedCrop,\n",
    "                                    RandomHorizontalFlip,\n",
    "                                    RandomAdjustSharpness,\n",
    "                                    Resize, \n",
    "                                    ToTensor)"
   ]
  },
  {
   "cell_type": "code",
   "execution_count": 3,
   "metadata": {
    "execution": {
     "iopub.execute_input": "2023-09-08T18:45:10.913980Z",
     "iopub.status.busy": "2023-09-08T18:45:10.913614Z",
     "iopub.status.idle": "2023-09-08T18:45:11.705646Z",
     "shell.execute_reply": "2023-09-08T18:45:11.704721Z",
     "shell.execute_reply.started": "2023-09-08T18:45:10.913948Z"
    }
   },
   "outputs": [
    {
     "name": "stdout",
     "output_type": "stream",
     "text": [
      "15000 15000\n"
     ]
    },
    {
     "data": {
      "image/png": "[encoded data removed]",
      "text/plain": [
       "<PIL.JpegImagePlugin.JpegImageFile image mode=RGB size=136x102>"
      ]
     },
     "execution_count": 3,
     "metadata": {},
     "output_type": "execute_result"
    }
   ],
   "source": [
    "# use https://huggingface.co/docs/datasets/image_load for reference\n",
    "\n",
    "image_dict = {}\n",
    "# Define the list of file names\n",
    "from pathlib import Path\n",
    "from tqdm import tqdm\n",
    "file_names = []\n",
    "labels = []\n",
    "for file in sorted((Path('/kaggle/input/shoe-vs-sandal-vs-boot-dataset-15k-images/Shoe vs Sandal vs Boot Dataset/').glob('*/*.jpg'))):\n",
    "    file_names.append(str(file))\n",
    "    label = str(file).split('/')[-2]\n",
    "    labels.append(label)\n",
    "print(len(file_names), len(labels))\n",
    "\n",
    "dataset = Dataset.from_dict({\"image\": file_names, \"label\": labels}).cast_column(\"image\", Image())\n",
    "dataset[0][\"image\"]"
   ]
  },
  {
   "cell_type": "code",
   "execution_count": 4,
   "metadata": {
    "execution": {
     "iopub.execute_input": "2023-09-08T18:45:11.709123Z",
     "iopub.status.busy": "2023-09-08T18:45:11.708308Z",
     "iopub.status.idle": "2023-09-08T18:45:11.717569Z",
     "shell.execute_reply": "2023-09-08T18:45:11.716539Z",
     "shell.execute_reply.started": "2023-09-08T18:45:11.709095Z"
    }
   },
   "outputs": [
    {
     "data": {
      "text/plain": [
       "['Boot', 'Boot', 'Boot', 'Boot', 'Boot']"
      ]
     },
     "execution_count": 4,
     "metadata": {},
     "output_type": "execute_result"
    }
   ],
   "source": [
    "labels[:5]"
   ]
  },
  {
   "cell_type": "code",
   "execution_count": 5,
   "metadata": {
    "execution": {
     "iopub.execute_input": "2023-09-08T18:45:11.718935Z",
     "iopub.status.busy": "2023-09-08T18:45:11.718672Z",
     "iopub.status.idle": "2023-09-08T18:45:11.728899Z",
     "shell.execute_reply": "2023-09-08T18:45:11.727997Z",
     "shell.execute_reply.started": "2023-09-08T18:45:11.718912Z"
    }
   },
   "outputs": [
    {
     "name": "stdout",
     "output_type": "stream",
     "text": [
      "{0: 'Sandal', 1: 'Boot', 2: 'Shoe'} \n",
      "\n",
      " {'Sandal': 0, 'Boot': 1, 'Shoe': 2}\n"
     ]
    }
   ],
   "source": [
    "labels_list = list(set(labels))\n",
    "label2id, id2label = dict(), dict()\n",
    "for i, label in enumerate(labels_list):\n",
    "    label2id[label] = i\n",
    "    id2label[i] = label\n",
    "\n",
    "print(id2label, '\\n\\n', label2id)"
   ]
  },
  {
   "cell_type": "code",
   "execution_count": 6,
   "metadata": {
    "execution": {
     "iopub.execute_input": "2023-09-08T18:45:11.730778Z",
     "iopub.status.busy": "2023-09-08T18:45:11.730306Z",
     "iopub.status.idle": "2023-09-08T18:45:11.745370Z",
     "shell.execute_reply": "2023-09-08T18:45:11.744282Z",
     "shell.execute_reply.started": "2023-09-08T18:45:11.730747Z"
    }
   },
   "outputs": [
    {
     "data": {
      "text/plain": [
       "Dataset({\n",
       "    features: ['image', 'label'],\n",
       "    num_rows: 15000\n",
       "})"
      ]
     },
     "execution_count": 6,
     "metadata": {},
     "output_type": "execute_result"
    }
   ],
   "source": [
    "dataset"
   ]
  },
  {
   "cell_type": "code",
   "execution_count": 7,
   "metadata": {
    "execution": {
     "iopub.execute_input": "2023-09-08T18:45:11.747439Z",
     "iopub.status.busy": "2023-09-08T18:45:11.747019Z",
     "iopub.status.idle": "2023-09-08T18:45:11.772842Z",
     "shell.execute_reply": "2023-09-08T18:45:11.772003Z",
     "shell.execute_reply.started": "2023-09-08T18:45:11.747409Z"
    }
   },
   "outputs": [],
   "source": [
    "dataset = dataset.train_test_split(test_size=0.2)\n",
    "train_data = dataset['train']\n",
    "test_data = dataset['test']"
   ]
  },
  {
   "cell_type": "code",
   "execution_count": 8,
   "metadata": {
    "execution": {
     "iopub.execute_input": "2023-09-08T18:45:11.774520Z",
     "iopub.status.busy": "2023-09-08T18:45:11.774197Z",
     "iopub.status.idle": "2023-09-08T18:45:12.039916Z",
     "shell.execute_reply": "2023-09-08T18:45:12.039046Z",
     "shell.execute_reply.started": "2023-09-08T18:45:11.774492Z"
    }
   },
   "outputs": [
    {
     "data": {
      "application/vnd.jupyter.widget-view+json": {
       "model_id": "89b4ce4708484d3d9a5332bdada2c711",
       "version_major": 2,
       "version_minor": 0
      },
      "text/plain": [
       "Downloading (…)rocessor_config.json:   0%|          | 0.00/160 [00:00<?, ?B/s]"
      ]
     },
     "metadata": {},
     "output_type": "display_data"
    },
    {
     "name": "stdout",
     "output_type": "stream",
     "text": [
      "Size:  224\n"
     ]
    }
   ],
   "source": [
    "model_str = 'google/vit-base-patch16-224-in21k'\n",
    "processor = ViTImageProcessor.from_pretrained(model_str)\n",
    "image_mean, image_std = processor.image_mean, processor.image_std\n",
    "size = processor.size[\"height\"]\n",
    "print(\"Size: \", size)\n",
    "\n",
    "normalize = Normalize(mean=image_mean, std=image_std)\n",
    "_train_transforms = Compose(\n",
    "        [\n",
    "            Resize((size, size)),\n",
    "            RandomRotation(15),\n",
    "            RandomAdjustSharpness(2),\n",
    "            ToTensor(),\n",
    "            normalize,\n",
    "        ]\n",
    "    )\n",
    "\n",
    "_val_transforms = Compose(\n",
    "        [\n",
    "            Resize((size, size)),\n",
    "            ToTensor(),\n",
    "            normalize,\n",
    "        ]\n",
    "    )\n",
    "\n",
    "def train_transforms(examples):\n",
    "    examples['pixel_values'] = [_train_transforms(image.convert(\"RGB\")) for image in examples['image']]\n",
    "    return examples\n",
    "\n",
    "def val_transforms(examples):\n",
    "    examples['pixel_values'] = [_val_transforms(image.convert(\"RGB\")) for image in examples['image']]\n",
    "    return examples"
   ]
  },
  {
   "cell_type": "code",
   "execution_count": 9,
   "metadata": {
    "execution": {
     "iopub.execute_input": "2023-09-08T18:45:12.042018Z",
     "iopub.status.busy": "2023-09-08T18:45:12.041230Z",
     "iopub.status.idle": "2023-09-08T18:45:12.049268Z",
     "shell.execute_reply": "2023-09-08T18:45:12.048287Z",
     "shell.execute_reply.started": "2023-09-08T18:45:12.041985Z"
    }
   },
   "outputs": [],
   "source": [
    "# Set the transforms\n",
    "train_data.set_transform(train_transforms)\n",
    "test_data.set_transform(val_transforms)"
   ]
  },
  {
   "cell_type": "code",
   "execution_count": 10,
   "metadata": {
    "execution": {
     "iopub.execute_input": "2023-09-08T18:45:12.055266Z",
     "iopub.status.busy": "2023-09-08T18:45:12.054576Z",
     "iopub.status.idle": "2023-09-08T18:45:12.060729Z",
     "shell.execute_reply": "2023-09-08T18:45:12.059780Z",
     "shell.execute_reply.started": "2023-09-08T18:45:12.055213Z"
    }
   },
   "outputs": [],
   "source": [
    "def collate_fn(examples):\n",
    "    pixel_values = torch.stack([example[\"pixel_values\"] for example in examples])\n",
    "    labels = torch.tensor([label2id[example[\"label\"]] for example in examples])\n",
    "    return {\"pixel_values\": pixel_values, \"labels\": labels}"
   ]
  },
  {
   "cell_type": "markdown",
   "metadata": {},
   "source": [
    "# Load, train, and evaluate model"
   ]
  },
  {
   "cell_type": "code",
   "execution_count": 11,
   "metadata": {
    "execution": {
     "iopub.execute_input": "2023-09-08T18:45:12.063038Z",
     "iopub.status.busy": "2023-09-08T18:45:12.062335Z",
     "iopub.status.idle": "2023-09-08T18:45:15.648382Z",
     "shell.execute_reply": "2023-09-08T18:45:15.647290Z",
     "shell.execute_reply.started": "2023-09-08T18:45:12.063006Z"
    }
   },
   "outputs": [
    {
     "data": {
      "application/vnd.jupyter.widget-view+json": {
       "model_id": "4fce9c26e37b4e029565e0344185f17b",
       "version_major": 2,
       "version_minor": 0
      },
      "text/plain": [
       "Downloading (…)lve/main/config.json:   0%|          | 0.00/502 [00:00<?, ?B/s]"
      ]
     },
     "metadata": {},
     "output_type": "display_data"
    },
    {
     "data": {
      "application/vnd.jupyter.widget-view+json": {
       "model_id": "4f9a462aa1df4a929e86fe3c9e812c19",
       "version_major": 2,
       "version_minor": 0
      },
      "text/plain": [
       "Downloading pytorch_model.bin:   0%|          | 0.00/346M [00:00<?, ?B/s]"
      ]
     },
     "metadata": {},
     "output_type": "display_data"
    },
    {
     "name": "stderr",
     "output_type": "stream",
     "text": [
      "Some weights of ViTForImageClassification were not initialized from the model checkpoint at google/vit-base-patch16-224-in21k and are newly initialized: ['classifier.weight', 'classifier.bias']\n",
      "You should probably TRAIN this model on a down-stream task to be able to use it for predictions and inference.\n"
     ]
    },
    {
     "name": "stdout",
     "output_type": "stream",
     "text": [
      "85.800963\n"
     ]
    }
   ],
   "source": [
    "model = ViTForImageClassification.from_pretrained(model_str, num_labels=len(labels_list))\n",
    "model.config.id2label = id2label\n",
    "model.config.label2id = label2id\n",
    "# number of trainable parameters\n",
    "print(model.num_parameters(only_trainable=True)/1e6)"
   ]
  },
  {
   "cell_type": "code",
   "execution_count": 12,
   "metadata": {
    "execution": {
     "iopub.execute_input": "2023-09-08T18:45:15.650804Z",
     "iopub.status.busy": "2023-09-08T18:45:15.650052Z",
     "iopub.status.idle": "2023-09-08T18:45:16.334099Z",
     "shell.execute_reply": "2023-09-08T18:45:16.333257Z",
     "shell.execute_reply.started": "2023-09-08T18:45:15.650767Z"
    }
   },
   "outputs": [
    {
     "data": {
      "application/vnd.jupyter.widget-view+json": {
       "model_id": "70cba3dfad7245e1b6d7773051cb2bab",
       "version_major": 2,
       "version_minor": 0
      },
      "text/plain": [
       "Downloading builder script:   0%|          | 0.00/4.20k [00:00<?, ?B/s]"
      ]
     },
     "metadata": {},
     "output_type": "display_data"
    }
   ],
   "source": [
    "accuracy = evaluate.load(\"accuracy\")\n",
    "\n",
    "def compute_metrics(eval_pred):\n",
    "    predictions = eval_pred.predictions\n",
    "    # predictions = np.exp(predictions)/np.exp(predictions).sum(axis=1, keepdims=True)\n",
    "    label_ids = eval_pred.label_ids\n",
    "    # Calculate accuracy using the loaded accuracy metric\n",
    "    acc_score = accuracy.compute(predictions=predictions.argmax(axis=1), references=label_ids)['accuracy']\n",
    "    \n",
    "    \n",
    "    return {\n",
    "        \"accuracy\": acc_score\n",
    "    }"
   ]
  },
  {
   "cell_type": "code",
   "execution_count": 13,
   "metadata": {
    "execution": {
     "iopub.execute_input": "2023-09-08T18:45:16.335884Z",
     "iopub.status.busy": "2023-09-08T18:45:16.335466Z",
     "iopub.status.idle": "2023-09-08T18:45:16.371580Z",
     "shell.execute_reply": "2023-09-08T18:45:16.370652Z",
     "shell.execute_reply.started": "2023-09-08T18:45:16.335850Z"
    }
   },
   "outputs": [],
   "source": [
    "metric_name = \"accuracy\"\n",
    "model_name = \"footwear_image_detection\"\n",
    "num_train_epochs=10\n",
    "args = TrainingArguments(\n",
    "    output_dir=model_name,\n",
    "    logging_dir='./logs',\n",
    "    evaluation_strategy=\"epoch\",\n",
    "    learning_rate=1e-5,\n",
    "    per_device_train_batch_size=32,\n",
    "    per_device_eval_batch_size=8,\n",
    "    num_train_epochs=num_train_epochs,\n",
    "    weight_decay=0.02,\n",
    "    warmup_steps=50,\n",
    "    remove_unused_columns=False,\n",
    "    save_strategy='epoch',\n",
    "    load_best_model_at_end=True,\n",
    "    save_total_limit=1, # save fewer checkpoints to limit used space\n",
    "    report_to=\"mlflow\",  # log to mlflow\n",
    ")"
   ]
  },
  {
   "cell_type": "code",
   "execution_count": 14,
   "metadata": {
    "execution": {
     "iopub.execute_input": "2023-09-08T18:45:16.375118Z",
     "iopub.status.busy": "2023-09-08T18:45:16.374845Z",
     "iopub.status.idle": "2023-09-08T18:45:21.488266Z",
     "shell.execute_reply": "2023-09-08T18:45:21.487381Z",
     "shell.execute_reply.started": "2023-09-08T18:45:16.375088Z"
    }
   },
   "outputs": [],
   "source": [
    "trainer = Trainer(\n",
    "    model,\n",
    "    args,\n",
    "    train_dataset=train_data,\n",
    "    eval_dataset=test_data,\n",
    "    data_collator=collate_fn,\n",
    "    compute_metrics=compute_metrics,\n",
    "    tokenizer=processor,\n",
    ")"
   ]
  },
  {
   "cell_type": "code",
   "execution_count": 15,
   "metadata": {
    "execution": {
     "iopub.execute_input": "2023-09-08T18:45:21.489981Z",
     "iopub.status.busy": "2023-09-08T18:45:21.489624Z",
     "iopub.status.idle": "2023-09-08T18:46:02.284044Z",
     "shell.execute_reply": "2023-09-08T18:46:02.283173Z",
     "shell.execute_reply.started": "2023-09-08T18:45:21.489946Z"
    }
   },
   "outputs": [
    {
     "data": {
      "text/html": [
       "\n",
       "    <div>\n",
       "      \n",
       "      <progress value='750' max='375' style='width:300px; height:20px; vertical-align: middle;'></progress>\n",
       "      [375/375 06:00]\n",
       "    </div>\n",
       "    "
      ],
      "text/plain": [
       "<IPython.core.display.HTML object>"
      ]
     },
     "metadata": {},
     "output_type": "display_data"
    },
    {
     "data": {
      "text/plain": [
       "{'eval_loss': 1.129163384437561,\n",
       " 'eval_accuracy': 0.18466666666666667,\n",
       " 'eval_runtime': 40.7422,\n",
       " 'eval_samples_per_second': 73.634,\n",
       " 'eval_steps_per_second': 9.204}"
      ]
     },
     "execution_count": 15,
     "metadata": {},
     "output_type": "execute_result"
    }
   ],
   "source": [
    "trainer.evaluate()"
   ]
  },
  {
   "cell_type": "code",
   "execution_count": 16,
   "metadata": {
    "execution": {
     "iopub.execute_input": "2023-09-08T18:46:02.285523Z",
     "iopub.status.busy": "2023-09-08T18:46:02.285154Z",
     "iopub.status.idle": "2023-09-08T19:35:23.899197Z",
     "shell.execute_reply": "2023-09-08T19:35:23.898264Z",
     "shell.execute_reply.started": "2023-09-08T18:46:02.285488Z"
    }
   },
   "outputs": [
    {
     "data": {
      "text/html": [
       "\n",
       "    <div>\n",
       "      \n",
       "      <progress value='3750' max='3750' style='width:300px; height:20px; vertical-align: middle;'></progress>\n",
       "      [3750/3750 49:19, Epoch 10/10]\n",
       "    </div>\n",
       "    <table border=\"1\" class=\"dataframe\">\n",
       "  <thead>\n",
       " <tr style=\"text-align: left;\">\n",
       "      <th>Epoch</th>\n",
       "      <th>Training Loss</th>\n",
       "      <th>Validation Loss</th>\n",
       "      <th>Accuracy</th>\n",
       "    </tr>\n",
       "  </thead>\n",
       "  <tbody>\n",
       "    <tr>\n",
       "      <td>1</td>\n",
       "      <td>No log</td>\n",
       "      <td>0.098570</td>\n",
       "      <td>0.988000</td>\n",
       "    </tr>\n",
       "    <tr>\n",
       "      <td>2</td>\n",
       "      <td>0.291300</td>\n",
       "      <td>0.061889</td>\n",
       "      <td>0.991000</td>\n",
       "    </tr>\n",
       "    <tr>\n",
       "      <td>3</td>\n",
       "      <td>0.045000</td>\n",
       "      <td>0.055726</td>\n",
       "      <td>0.988333</td>\n",
       "    </tr>\n",
       "    <tr>\n",
       "      <td>4</td>\n",
       "      <td>0.026400</td>\n",
       "      <td>0.047089</td>\n",
       "      <td>0.991000</td>\n",
       "    </tr>\n",
       "    <tr>\n",
       "      <td>5</td>\n",
       "      <td>0.026400</td>\n",
       "      <td>0.046225</td>\n",
       "      <td>0.990333</td>\n",
       "    </tr>\n",
       "    <tr>\n",
       "      <td>6</td>\n",
       "      <td>0.020200</td>\n",
       "      <td>0.043175</td>\n",
       "      <td>0.991333</td>\n",
       "    </tr>\n",
       "    <tr>\n",
       "      <td>7</td>\n",
       "      <td>0.013700</td>\n",
       "      <td>0.043812</td>\n",
       "      <td>0.990333</td>\n",
       "    </tr>\n",
       "    <tr>\n",
       "      <td>8</td>\n",
       "      <td>0.011300</td>\n",
       "      <td>0.041177</td>\n",
       "      <td>0.990333</td>\n",
       "    </tr>\n",
       "    <tr>\n",
       "      <td>9</td>\n",
       "      <td>0.011300</td>\n",
       "      <td>0.042077</td>\n",
       "      <td>0.990667</td>\n",
       "    </tr>\n",
       "    <tr>\n",
       "      <td>10</td>\n",
       "      <td>0.009200</td>\n",
       "      <td>0.040555</td>\n",
       "      <td>0.990667</td>\n",
       "    </tr>\n",
       "  </tbody>\n",
       "</table><p>"
      ],
      "text/plain": [
       "<IPython.core.display.HTML object>"
      ]
     },
     "metadata": {},
     "output_type": "display_data"
    },
    {
     "data": {
      "text/plain": [
       "TrainOutput(global_step=3750, training_loss=0.05618902225494385, metrics={'train_runtime': 2961.2795, 'train_samples_per_second': 40.523, 'train_steps_per_second': 1.266, 'total_flos': 9.29912209809408e+18, 'train_loss': 0.05618902225494385, 'epoch': 10.0})"
      ]
     },
     "execution_count": 16,
     "metadata": {},
     "output_type": "execute_result"
    }
   ],
   "source": [
    "trainer.train()"
   ]
  },
  {
   "cell_type": "code",
   "execution_count": 17,
   "metadata": {
    "execution": {
     "iopub.execute_input": "2023-09-08T19:35:23.901163Z",
     "iopub.status.busy": "2023-09-08T19:35:23.900809Z",
     "iopub.status.idle": "2023-09-08T19:35:50.846801Z",
     "shell.execute_reply": "2023-09-08T19:35:50.845895Z",
     "shell.execute_reply.started": "2023-09-08T19:35:23.901129Z"
    }
   },
   "outputs": [
    {
     "data": {
      "text/html": [],
      "text/plain": [
       "<IPython.core.display.HTML object>"
      ]
     },
     "metadata": {},
     "output_type": "display_data"
    },
    {
     "data": {
      "text/plain": [
       "{'eval_loss': 0.04055546224117279,\n",
       " 'eval_accuracy': 0.9906666666666667,\n",
       " 'eval_runtime': 26.9261,\n",
       " 'eval_samples_per_second': 111.416,\n",
       " 'eval_steps_per_second': 13.927,\n",
       " 'epoch': 10.0}"
      ]
     },
     "execution_count": 17,
     "metadata": {},
     "output_type": "execute_result"
    }
   ],
   "source": [
    "trainer.evaluate()"
   ]
  },
  {
   "cell_type": "code",
   "execution_count": 18,
   "metadata": {
    "execution": {
     "iopub.execute_input": "2023-09-08T19:35:50.848789Z",
     "iopub.status.busy": "2023-09-08T19:35:50.848412Z",
     "iopub.status.idle": "2023-09-08T19:36:17.944527Z",
     "shell.execute_reply": "2023-09-08T19:36:17.943650Z",
     "shell.execute_reply.started": "2023-09-08T19:35:50.848755Z"
    }
   },
   "outputs": [
    {
     "name": "stdout",
     "output_type": "stream",
     "text": [
      "{'test_loss': 0.04055546224117279, 'test_accuracy': 0.9906666666666667, 'test_runtime': 27.0855, 'test_samples_per_second': 110.76, 'test_steps_per_second': 13.845}\n"
     ]
    }
   ],
   "source": [
    "outputs = trainer.predict(test_data)\n",
    "print(outputs.metrics)"
   ]
  },
  {
   "cell_type": "code",
   "execution_count": 19,
   "metadata": {
    "execution": {
     "iopub.execute_input": "2023-09-08T19:36:17.950870Z",
     "iopub.status.busy": "2023-09-08T19:36:17.948658Z",
     "iopub.status.idle": "2023-09-08T19:36:18.490068Z",
     "shell.execute_reply": "2023-09-08T19:36:18.488422Z",
     "shell.execute_reply.started": "2023-09-08T19:36:17.950832Z"
    }
   },
   "outputs": [
    {
     "name": "stdout",
     "output_type": "stream",
     "text": [
      "Accuracy: 0.9907\n",
      "F1 Score: 0.9907\n"
     ]
    },
    {
     "data": {
      "image/png": "[encoded data removed]",
      "text/plain": [
       "<Figure size 640x480 with 2 Axes>"
      ]
     },
     "metadata": {},
     "output_type": "display_data"
    }
   ],
   "source": [
    "y_true = outputs.label_ids\n",
    "y_pred = outputs.predictions.argmax(1)\n",
    "\n",
    "# plotting confusion matrix\n",
    "def plot_confusion_matrix(cm, classes, title='Confusion Matrix', cmap=plt.cm.Blues):\n",
    "    \"\"\"\n",
    "    This function plots a confusion matrix.\n",
    "    \n",
    "    Parameters:\n",
    "        cm (array-like): Confusion matrix as returned by sklearn.metrics.confusion_matrix.\n",
    "        classes (list): List of class names, e.g., ['Class 0', 'Class 1'].\n",
    "        title (str): Title for the plot.\n",
    "        cmap (matplotlib colormap): Colormap for the plot.\n",
    "    \"\"\"\n",
    "    plt.imshow(cm, interpolation='nearest', cmap=cmap)\n",
    "    plt.title(title)\n",
    "    plt.colorbar()\n",
    "    tick_marks = np.arange(len(classes))\n",
    "    plt.xticks(tick_marks, classes, rotation=45)\n",
    "    plt.yticks(tick_marks, classes)\n",
    "    \n",
    "    fmt = '.0f'\n",
    "    thresh = cm.max() / 2.0\n",
    "    for i, j in itertools.product(range(cm.shape[0]), range(cm.shape[1])):\n",
    "        plt.text(j, i, format(cm[i, j], fmt), horizontalalignment=\"center\", color=\"white\" if cm[i, j] > thresh else \"black\")\n",
    "    \n",
    "    plt.ylabel('True label')\n",
    "    plt.xlabel('Predicted label')\n",
    "    \n",
    "    plt.tight_layout()\n",
    "    plt.show()\n",
    "\n",
    "# Calculate accuracy and F1 score\n",
    "accuracy = accuracy_score(y_true, y_pred)\n",
    "f1 = f1_score(y_true, y_pred, average='macro')\n",
    "\n",
    "# Display accuracy and F1 score\n",
    "print(f\"Accuracy: {accuracy:.4f}\")\n",
    "print(f\"F1 Score: {f1:.4f}\")\n",
    "\n",
    "# Get the confusion matrix\n",
    "cm = confusion_matrix(y_true, y_pred)\n",
    "\n",
    "# Plot the confusion matrix\n",
    "plot_confusion_matrix(cm, labels_list)"
   ]
  },
  {
   "cell_type": "code",
   "execution_count": 20,
   "metadata": {
    "execution": {
     "iopub.execute_input": "2023-09-08T19:36:18.496699Z",
     "iopub.status.busy": "2023-09-08T19:36:18.494273Z",
     "iopub.status.idle": "2023-09-08T19:36:19.286556Z",
     "shell.execute_reply": "2023-09-08T19:36:19.285552Z",
     "shell.execute_reply.started": "2023-09-08T19:36:18.496659Z"
    }
   },
   "outputs": [],
   "source": [
    "trainer.save_model()"
   ]
  },
  {
   "cell_type": "code",
   "execution_count": 21,
   "metadata": {
    "execution": {
     "iopub.execute_input": "2023-09-08T19:36:19.299516Z",
     "iopub.status.busy": "2023-09-08T19:36:19.299206Z",
     "iopub.status.idle": "2023-09-08T19:36:20.589778Z",
     "shell.execute_reply": "2023-09-08T19:36:20.588777Z",
     "shell.execute_reply.started": "2023-09-08T19:36:19.299490Z"
    }
   },
   "outputs": [],
   "source": [
    "from transformers import pipeline\n",
    "\n",
    "pipe = pipeline('image-classification',model=model_name,device=0)"
   ]
  },
  {
   "cell_type": "code",
   "execution_count": 22,
   "metadata": {
    "execution": {
     "iopub.execute_input": "2023-09-08T19:36:20.591583Z",
     "iopub.status.busy": "2023-09-08T19:36:20.591131Z",
     "iopub.status.idle": "2023-09-08T19:36:20.605644Z",
     "shell.execute_reply": "2023-09-08T19:36:20.604731Z",
     "shell.execute_reply.started": "2023-09-08T19:36:20.591545Z"
    }
   },
   "outputs": [
    {
     "data": {
      "image/png": "[encoded data removed]",
      "text/plain": [
       "<PIL.JpegImagePlugin.JpegImageFile image mode=RGB size=136x102>"
      ]
     },
     "execution_count": 22,
     "metadata": {},
     "output_type": "execute_result"
    }
   ],
   "source": [
    "image = test_data[1][\"image\"]\n",
    "\n",
    "image"
   ]
  },
  {
   "cell_type": "code",
   "execution_count": 23,
   "metadata": {
    "execution": {
     "iopub.execute_input": "2023-09-08T19:36:20.607708Z",
     "iopub.status.busy": "2023-09-08T19:36:20.607189Z",
     "iopub.status.idle": "2023-09-08T19:36:20.647814Z",
     "shell.execute_reply": "2023-09-08T19:36:20.646778Z",
     "shell.execute_reply.started": "2023-09-08T19:36:20.607675Z"
    }
   },
   "outputs": [
    {
     "data": {
      "text/plain": [
       "[{'score': 0.991980791091919, 'label': 'Shoe'},\n",
       " {'score': 0.004222146235406399, 'label': 'Boot'},\n",
       " {'score': 0.003797028446570039, 'label': 'Sandal'}]"
      ]
     },
     "execution_count": 23,
     "metadata": {},
     "output_type": "execute_result"
    }
   ],
   "source": [
    "pipe(image)"
   ]
  },
  {
   "cell_type": "code",
   "execution_count": 24,
   "metadata": {
    "execution": {
     "iopub.execute_input": "2023-09-08T19:36:20.649712Z",
     "iopub.status.busy": "2023-09-08T19:36:20.649298Z",
     "iopub.status.idle": "2023-09-08T19:36:20.660076Z",
     "shell.execute_reply": "2023-09-08T19:36:20.659042Z",
     "shell.execute_reply.started": "2023-09-08T19:36:20.649678Z"
    }
   },
   "outputs": [
    {
     "data": {
      "text/plain": [
       "'Shoe'"
      ]
     },
     "execution_count": 24,
     "metadata": {},
     "output_type": "execute_result"
    }
   ],
   "source": [
    "# actual label\n",
    "test_data[1][\"label\"]"
   ]
  },
  {
   "cell_type": "markdown",
   "metadata": {},
   "source": [
    "# Send model to Huggingface"
   ]
  },
  {
   "cell_type": "code",
   "execution_count": 25,
   "metadata": {
    "execution": {
     "iopub.execute_input": "2023-09-08T19:36:40.032232Z",
     "iopub.status.busy": "2023-09-08T19:36:40.031846Z",
     "iopub.status.idle": "2023-09-08T19:36:40.064571Z",
     "shell.execute_reply": "2023-09-08T19:36:40.063655Z",
     "shell.execute_reply.started": "2023-09-08T19:36:40.032186Z"
    }
   },
   "outputs": [
    {
     "data": {
      "application/vnd.jupyter.widget-view+json": {
       "model_id": "942b57aece764284824132d18a47e87b",
       "version_major": 2,
       "version_minor": 0
      },
      "text/plain": [
       "VBox(children=(HTML(value='<center> <img\\nsrc=https://huggingface.co/front/assets/huggingface_logo-noborder.sv…"
      ]
     },
     "metadata": {},
     "output_type": "display_data"
    }
   ],
   "source": [
    "# finally, save the model to Huggingface\n",
    "from huggingface_hub import notebook_login\n",
    "notebook_login()"
   ]
  },
  {
   "cell_type": "code",
   "execution_count": 26,
   "metadata": {
    "execution": {
     "iopub.execute_input": "2023-09-08T19:36:47.894678Z",
     "iopub.status.busy": "2023-09-08T19:36:47.892042Z",
     "iopub.status.idle": "2023-09-08T19:36:48.284852Z",
     "shell.execute_reply": "2023-09-08T19:36:48.283780Z",
     "shell.execute_reply.started": "2023-09-08T19:36:47.894645Z"
    }
   },
   "outputs": [
    {
     "name": "stdout",
     "output_type": "stream",
     "text": [
      "Repo dima806/footwear_image_detection created\n"
     ]
    }
   ],
   "source": [
    "from huggingface_hub import HfApi\n",
    "api = HfApi()\n",
    "repo_id = f\"dima806/{model_name}\"\n",
    "try:\n",
    "    api.create_repo(repo_id)\n",
    "    print(f\"Repo {repo_id} created\")\n",
    "except:\n",
    "    print(f\"Repo {repo_id} already exists\")"
   ]
  },
  {
   "cell_type": "code",
   "execution_count": 27,
   "metadata": {
    "execution": {
     "iopub.execute_input": "2023-09-08T19:36:50.711346Z",
     "iopub.status.busy": "2023-09-08T19:36:50.710096Z",
     "iopub.status.idle": "2023-09-08T19:37:16.687674Z",
     "shell.execute_reply": "2023-09-08T19:37:16.686589Z",
     "shell.execute_reply.started": "2023-09-08T19:36:50.711303Z"
    }
   },
   "outputs": [
    {
     "data": {
      "application/vnd.jupyter.widget-view+json": {
       "model_id": "18302f10e9054f69a6150ed1793f325c",
       "version_major": 2,
       "version_minor": 0
      },
      "text/plain": [
       "optimizer.pt:   0%|          | 0.00/687M [00:00<?, ?B/s]"
      ]
     },
     "metadata": {},
     "output_type": "display_data"
    },
    {
     "data": {
      "application/vnd.jupyter.widget-view+json": {
       "model_id": "b97453aabf1342c28a055653bfe80492",
       "version_major": 2,
       "version_minor": 0
      },
      "text/plain": [
       "pytorch_model.bin:   0%|          | 0.00/343M [00:00<?, ?B/s]"
      ]
     },
     "metadata": {},
     "output_type": "display_data"
    },
    {
     "data": {
      "application/vnd.jupyter.widget-view+json": {
       "model_id": "572d0ea7614b4e29a20f458809adfa2a",
       "version_major": 2,
       "version_minor": 0
      },
      "text/plain": [
       "Upload 7 LFS files:   0%|          | 0/7 [00:00<?, ?it/s]"
      ]
     },
     "metadata": {},
     "output_type": "display_data"
    },
    {
     "data": {
      "application/vnd.jupyter.widget-view+json": {
       "model_id": "9770003cc40e4bec9580fb07c861d0f6",
       "version_major": 2,
       "version_minor": 0
      },
      "text/plain": [
       "training_args.bin:   0%|          | 0.00/4.03k [00:00<?, ?B/s]"
      ]
     },
     "metadata": {},
     "output_type": "display_data"
    },
    {
     "data": {
      "application/vnd.jupyter.widget-view+json": {
       "model_id": "88e334d3c7414cc795bfe033e8714422",
       "version_major": 2,
       "version_minor": 0
      },
      "text/plain": [
       "rng_state.pth:   0%|          | 0.00/14.6k [00:00<?, ?B/s]"
      ]
     },
     "metadata": {},
     "output_type": "display_data"
    },
    {
     "data": {
      "application/vnd.jupyter.widget-view+json": {
       "model_id": "52595baade314e57940799d2d698f0d2",
       "version_major": 2,
       "version_minor": 0
      },
      "text/plain": [
       "scheduler.pt:   0%|          | 0.00/627 [00:00<?, ?B/s]"
      ]
     },
     "metadata": {},
     "output_type": "display_data"
    },
    {
     "data": {
      "application/vnd.jupyter.widget-view+json": {
       "model_id": "f7450cf793a343ecb949b08d5d1ddc62",
       "version_major": 2,
       "version_minor": 0
      },
      "text/plain": [
       "pytorch_model.bin:   0%|          | 0.00/343M [00:00<?, ?B/s]"
      ]
     },
     "metadata": {},
     "output_type": "display_data"
    },
    {
     "data": {
      "application/vnd.jupyter.widget-view+json": {
       "model_id": "6c6596d444ef474ba1a845a76cdb6967",
       "version_major": 2,
       "version_minor": 0
      },
      "text/plain": [
       "training_args.bin:   0%|          | 0.00/4.03k [00:00<?, ?B/s]"
      ]
     },
     "metadata": {},
     "output_type": "display_data"
    },
    {
     "data": {
      "text/plain": [
       "'https://huggingface.co/dima806/footwear_image_detection/tree/main/.'"
      ]
     },
     "execution_count": 27,
     "metadata": {},
     "output_type": "execute_result"
    }
   ],
   "source": [
    "api.upload_folder(\n",
    "    folder_path=model_name,\n",
    "    path_in_repo = \".\",\n",
    "    repo_id=repo_id,\n",
    "    repo_type=\"model\"\n",
    ")"
   ]
  },
  {
   "cell_type": "code",
   "execution_count": null,
   "metadata": {},
   "outputs": [],
   "source": []
  }
 ],
 "metadata": {
  "kernelspec": {
   "display_name": "Python 3 (ipykernel)",
   "language": "python",
   "name": "python3"
  },
  "language_info": {
   "codemirror_mode": {
    "name": "ipython",
    "version": 3
   },
   "file_extension": ".py",
   "mimetype": "text/x-python",
   "name": "python",
   "nbconvert_exporter": "python",
   "pygments_lexer": "ipython3",
   "version": "3.11.5"
  }
 },
 "nbformat": 4,
 "nbformat_minor": 4
}
